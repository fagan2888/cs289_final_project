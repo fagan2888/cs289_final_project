{
 "metadata": {
  "name": "multiple_evaluations.ipynb"
 },
 "nbformat": 3,
 "nbformat_minor": 0,
 "worksheets": [
  {
   "cells": [
    {
     "cell_type": "heading",
     "level": 1,
     "metadata": {},
     "source": [
      "Multiple Evaluations:<br> Decision Tree, Binary Logit Model, and Hybrid CART-Logit Model"
     ]
    },
    {
     "cell_type": "code",
     "collapsed": false,
     "input": [
      "import pandas as pd, statsmodels.formula.api as smf, hybrid_logit as hl, matplotlib.pyplot as plt\n",
      "import treepredict, cPickle\n",
      "from copy import deepcopy\n",
      "import re\n",
      "from pprint import pprint"
     ],
     "language": "python",
     "metadata": {},
     "outputs": [
      {
       "output_type": "stream",
       "stream": "stderr",
       "text": [
        "/home/timothy/Enthought/Canopy_64bit/User/lib/python2.7/site-packages/pandas/io/excel.py:626: UserWarning: Installed openpyxl is not supported at this time. Use >=1.6.1 and <2.0.0.\n",
        "  .format(openpyxl_compat.start_ver, openpyxl_compat.stop_ver))\n"
       ]
      }
     ],
     "prompt_number": 4
    },
    {
     "cell_type": "code",
     "collapsed": false,
     "input": [
      "orig_design = pd.read_pickle(\"dataframes/consistent_design_4tree_2011.pkl\")"
     ],
     "language": "python",
     "metadata": {},
     "outputs": [],
     "prompt_number": 10
    },
    {
     "cell_type": "code",
     "collapsed": false,
     "input": [
      "data_2012 = pd.read_pickle(\"dataframes/consistent_design_4tree_2012.pkl\")"
     ],
     "language": "python",
     "metadata": {},
     "outputs": [],
     "prompt_number": 11
    },
    {
     "cell_type": "code",
     "collapsed": false,
     "input": [
      "def split_data(df, pruning_proportion):\n",
      "    \"\"\"df = the dataframe that you want to split into a training and pruning set\n",
      "    pruning_proportion = the decimal representing the percentage of rows of df to be set aside as the pruning set\n",
      "    ==========\n",
      "    Returns two dataframes, the training set and the pruning set.\"\"\"\n",
      "    \n",
      "    assert isinstance(df, pd.DataFrame) #Make sure df is a pandas dataframe\n",
      "    assert pruning_proportion <= 1 and pruning_proportion >= 0 #Make sure the pruning_proportion is between 0 and 1\n",
      "    \n",
      "    rows = df.index.tolist() #Get a list of the rows in the dataframe\n",
      "    np.random.shuffle(rows) #Randomly shuffle the list of rows in the dataframe\n",
      "    splitNum = int(round(pruning_proportion * len(rows))) #Find the position in rows that is closest to the desired proportion\n",
      "    training_rows, pruning_rows = rows[splitNum:], rows[:splitNum] #split the data\n",
      "    return df.loc[training_rows], df.loc[pruning_rows]\n",
      "    "
     ],
     "language": "python",
     "metadata": {},
     "outputs": [],
     "prompt_number": 12
    },
    {
     "cell_type": "code",
     "collapsed": false,
     "input": [
      "def make_precision_recall_dicts(node_assigned_2012, pruned_tree, hybrid_logit,\n",
      "                                  pure_logit,results_string, classes, step_size):\n",
      "    assert 1 in step_size *np.array(range(101))\n",
      "    error_frames = []\n",
      "    trigger_point = 0\n",
      "    while trigger_point <= 1:\n",
      "        error_frames.append(hl.predict_with_hybrid_tree_and_logit(node_assigned_2012, pruned_tree,\n",
      "                                                                 hybrid_logit, pure_logit,\n",
      "                                                                 results_col, [0, 1], threshold = trigger_point, disp = False))\n",
      "        trigger_point += step_size\n",
      "    \n",
      "    classifier_names = error_frames[0].columns.tolist()\n",
      "    precision_pts = {}\n",
      "    recall_pts = {}\n",
      "    \n",
      "    for name in classifier_names:\n",
      "        precision_pts[name] = []\n",
      "        recall_pts[name] = []\n",
      "    \n",
      "    for frame in error_frames:\n",
      "        for col in frame.columns:\n",
      "            precision_pts[col].append(frame.loc[\"Precision\", col])\n",
      "            recall_pts[col].append(frame.loc[\"Recall\", col])\n",
      "            \n",
      "    return precision_pts, recall_pts"
     ],
     "language": "python",
     "metadata": {},
     "outputs": [],
     "prompt_number": 13
    },
    {
     "cell_type": "code",
     "collapsed": false,
     "input": [
      "orig_design = pd.read_pickle(\"dataframes/consistent_design_4tree_2011.pkl\")\n",
      "data_2012 = pd.read_pickle(\"dataframes/consistent_design_4tree_2012.pkl\")\n",
      "results_col = \"SER_INJ\"\n",
      "iterations = 10\n",
      "\n",
      "sample_sizes = [400, 800, 1200, len(orig_design)][::-1]\n",
      "\n",
      "for sample_size in sample_sizes:\n",
      "    err_panel = None\n",
      "    panel_dict = {}\n",
      "    for iteration in range(iterations):\n",
      "        print \"=\"*10\n",
      "        print \"Beginning iteration {} of {}\".format(iteration+1, iterations)\n",
      "        #Create the overall training set\n",
      "        orig_rows = orig_design.index.tolist() #Get a list of the rows in the original design matrix\n",
      "        np.random.shuffle(orig_rows) #Shuffle the rows\n",
      "        train_rows = orig_rows[:sample_size] #Take the appropriate amount of the list of rows given the sample size\n",
      "        training_set = orig_design.loc[train_rows] #Filter the original design matrix to the selected rows from above\n",
      "        assert len(training_set.groupby(results_col).size()) == 2 #make sure both classes are in the dataframe\n",
      "        \n",
      "        #Separate the training data into a growing and pruning set for the decision tree building\n",
      "        tree_training_set, tree_pruning_set = hl.split_data(training_set, 0.2)\n",
      "        \n",
      "        decision_tree = treepredict.buildTreePandas(tree_training_set, results_col) #build the decision tree\n",
      "        #Prune the decision tree\n",
      "        pruned_decision_tree = treepredict.prune(decision_tree, tree_pruning_set, results_col, \"reduced_error\")\n",
      "        \n",
      "#        with open(\"trees/pruned_naiveTree_trainingSet_{}.pkl\".format(sample_size), \"wb\") as g:\n",
      "#             cPickle.dump(pruned_decision_tree, g)\n",
      "        tree_nodes = treepredict.fetchNodes(pruned_decision_tree)\n",
      "        if len(tree_nodes) < 2:\n",
      "            sent1 = \"The pruned tree at sample size {}, iteration {}, contained less than two leaf nodes.\".format(sample_size,\n",
      "                                                                                                                  iteration)\n",
      "            print  sent1 + \" No logit models were built at this sample size and iteration.\"\n",
      "            continue\n",
      "        node_augmented_2011 = training_set.apply(treepredict.set_node_num, axis = 1, args=(\"nodeNum\", tree_nodes))\n",
      "        \n",
      "        pure_logit_model = hl.make_logit_models(node_augmented_2011, results_col, 'pure', fit_term = 'ncg')\n",
      "        \n",
      "#         with open(\"models_and_errors/pure_logit_{}.pkl\".format(sample_size), \"wb\") as f:\n",
      "#             cPickle.dump(pure_logit_model, f)\n",
      "            \n",
      "        hybrid_logit_model = hl.make_logit_models(node_augmented_2011, results_col, 'hybrid', tree = pruned_decision_tree,\n",
      "                                                  fit_term = 'ncg')\n",
      "        \n",
      "#         with open(\"models_and_errors/naive_model_{}.pkl\".format(sample_size), \"wb\") as f:\n",
      "#             cPickle.dump(hybrid_logit_model, f)\n",
      "        \n",
      "        node_augmented_2012 = data_2012.apply(treepredict.set_node_num, axis = 1, args=(\"nodeNum\", tree_nodes))\n",
      "        \n",
      "        error_comparison = hl.predict_with_hybrid_tree_and_logit(node_augmented_2012, pruned_decision_tree,\n",
      "                                                                 hybrid_logit_model, pure_logit_model,\n",
      "                                                                 results_col, [0, 1], disp = False)\n",
      "        precision_points, recall_points = make_precision_recall_dicts(node_augmented_2012, pruned_decision_tree,\n",
      "                                                                      hybrid_logit_model, pure_logit_model,\n",
      "                                                                      results_col, [0,1], 0.01)\n",
      "        p_points = [precision_points[name] for name in error_comparison.columns]\n",
      "        r_points = [recall_points[name] for name in error_comparison.columns]\n",
      "        \n",
      "        error_comparison.loc[\"Precision Points\"] = pd.Series(p_points, index=error_comparison.columns)\n",
      "        error_comparison.loc[\"Recall Points\"] = pd.Series(r_points, index=error_comparison.columns)\n",
      "\n",
      "        \n",
      "        panel_dict[iteration] = error_comparison\n",
      "        \n",
      "        with open(\"dataframes/panel_dictionary_sample_size{}.pkl\".format(sample_size), \"wb\") as f:\n",
      "            cPickle.dump(panel_dict, f)\n",
      "            \n",
      "        print \"Panel Dictionary Saved\"\n",
      "        print \"\"\n",
      "        \n",
      "    err_panel = pd.Panel.from_dict(panel_dict)\n",
      "    err_panel.to_pickle(\"models_and_errors/error_panels/error_panel_{}.pkl\".format(sample_size))\n",
      "    \n",
      "#         with open(\"models_and_errors/naive_errors_df_{}.pkl\".format(sample_size), \"wb\") as f:\n",
      "#             cPickle.dump(error_comparison, f)"
     ],
     "language": "python",
     "metadata": {},
     "outputs": [
      {
       "output_type": "stream",
       "stream": "stdout",
       "text": [
        "==========\n",
        "Beginning iteration 1 of 10\n",
        "Panel Dictionary Saved"
       ]
      },
      {
       "output_type": "stream",
       "stream": "stdout",
       "text": [
        "\n",
        "\n",
        "==========\n",
        "Beginning iteration 2 of 10\n",
        "Panel Dictionary Saved"
       ]
      },
      {
       "output_type": "stream",
       "stream": "stdout",
       "text": [
        "\n",
        "\n",
        "==========\n",
        "Beginning iteration 3 of 10\n",
        "Panel Dictionary Saved"
       ]
      },
      {
       "output_type": "stream",
       "stream": "stdout",
       "text": [
        "\n",
        "\n",
        "==========\n",
        "Beginning iteration 4 of 10\n",
        "float division by zero"
       ]
      },
      {
       "output_type": "stream",
       "stream": "stdout",
       "text": [
        "\n",
        "float division by zero"
       ]
      },
      {
       "output_type": "stream",
       "stream": "stdout",
       "text": [
        "\n",
        "float division by zero"
       ]
      },
      {
       "output_type": "stream",
       "stream": "stdout",
       "text": [
        "\n",
        "float division by zero"
       ]
      },
      {
       "output_type": "stream",
       "stream": "stdout",
       "text": [
        "\n",
        "float division by zero"
       ]
      },
      {
       "output_type": "stream",
       "stream": "stdout",
       "text": [
        "\n",
        "float division by zero"
       ]
      },
      {
       "output_type": "stream",
       "stream": "stdout",
       "text": [
        "\n",
        "float division by zero"
       ]
      },
      {
       "output_type": "stream",
       "stream": "stdout",
       "text": [
        "\n",
        "float division by zero"
       ]
      },
      {
       "output_type": "stream",
       "stream": "stdout",
       "text": [
        "\n",
        "float division by zero"
       ]
      },
      {
       "output_type": "stream",
       "stream": "stdout",
       "text": [
        "\n",
        "float division by zero"
       ]
      },
      {
       "output_type": "stream",
       "stream": "stdout",
       "text": [
        "\n",
        "float division by zero"
       ]
      },
      {
       "output_type": "stream",
       "stream": "stdout",
       "text": [
        "\n",
        "float division by zero"
       ]
      },
      {
       "output_type": "stream",
       "stream": "stdout",
       "text": [
        "\n",
        "float division by zero"
       ]
      },
      {
       "output_type": "stream",
       "stream": "stdout",
       "text": [
        "\n",
        "float division by zero"
       ]
      },
      {
       "output_type": "stream",
       "stream": "stdout",
       "text": [
        "\n",
        "float division by zero"
       ]
      },
      {
       "output_type": "stream",
       "stream": "stdout",
       "text": [
        "\n",
        "float division by zero"
       ]
      },
      {
       "output_type": "stream",
       "stream": "stdout",
       "text": [
        "\n",
        "float division by zero"
       ]
      },
      {
       "output_type": "stream",
       "stream": "stdout",
       "text": [
        "\n",
        "float division by zero"
       ]
      },
      {
       "output_type": "stream",
       "stream": "stdout",
       "text": [
        "\n",
        "float division by zero"
       ]
      },
      {
       "output_type": "stream",
       "stream": "stdout",
       "text": [
        "\n",
        "float division by zero"
       ]
      },
      {
       "output_type": "stream",
       "stream": "stdout",
       "text": [
        "\n",
        "Panel Dictionary Saved"
       ]
      },
      {
       "output_type": "stream",
       "stream": "stdout",
       "text": [
        "\n",
        "\n",
        "==========\n",
        "Beginning iteration 5 of 10\n",
        "Panel Dictionary Saved"
       ]
      },
      {
       "output_type": "stream",
       "stream": "stdout",
       "text": [
        "\n",
        "\n",
        "==========\n",
        "Beginning iteration 6 of 10\n",
        "Panel Dictionary Saved"
       ]
      },
      {
       "output_type": "stream",
       "stream": "stdout",
       "text": [
        "\n",
        "\n",
        "==========\n",
        "Beginning iteration 7 of 10\n",
        "float division by zero"
       ]
      },
      {
       "output_type": "stream",
       "stream": "stdout",
       "text": [
        "\n",
        "float division by zero"
       ]
      },
      {
       "output_type": "stream",
       "stream": "stdout",
       "text": [
        "\n",
        "float division by zero"
       ]
      },
      {
       "output_type": "stream",
       "stream": "stdout",
       "text": [
        "\n",
        "float division by zero"
       ]
      },
      {
       "output_type": "stream",
       "stream": "stdout",
       "text": [
        "\n",
        "float division by zero"
       ]
      },
      {
       "output_type": "stream",
       "stream": "stdout",
       "text": [
        "\n",
        "float division by zero"
       ]
      },
      {
       "output_type": "stream",
       "stream": "stdout",
       "text": [
        "\n",
        "float division by zero"
       ]
      },
      {
       "output_type": "stream",
       "stream": "stdout",
       "text": [
        "\n",
        "float division by zero"
       ]
      },
      {
       "output_type": "stream",
       "stream": "stdout",
       "text": [
        "\n",
        "float division by zero"
       ]
      },
      {
       "output_type": "stream",
       "stream": "stdout",
       "text": [
        "\n",
        "float division by zero"
       ]
      },
      {
       "output_type": "stream",
       "stream": "stdout",
       "text": [
        "\n",
        "float division by zero"
       ]
      },
      {
       "output_type": "stream",
       "stream": "stdout",
       "text": [
        "\n",
        "float division by zero"
       ]
      },
      {
       "output_type": "stream",
       "stream": "stdout",
       "text": [
        "\n",
        "float division by zero"
       ]
      },
      {
       "output_type": "stream",
       "stream": "stdout",
       "text": [
        "\n",
        "float division by zero"
       ]
      },
      {
       "output_type": "stream",
       "stream": "stdout",
       "text": [
        "\n",
        "float division by zero"
       ]
      },
      {
       "output_type": "stream",
       "stream": "stdout",
       "text": [
        "\n",
        "float division by zero"
       ]
      },
      {
       "output_type": "stream",
       "stream": "stdout",
       "text": [
        "\n",
        "float division by zero"
       ]
      },
      {
       "output_type": "stream",
       "stream": "stdout",
       "text": [
        "\n",
        "float division by zero"
       ]
      },
      {
       "output_type": "stream",
       "stream": "stdout",
       "text": [
        "\n",
        "float division by zero"
       ]
      },
      {
       "output_type": "stream",
       "stream": "stdout",
       "text": [
        "\n",
        "float division by zero"
       ]
      },
      {
       "output_type": "stream",
       "stream": "stdout",
       "text": [
        "\n",
        "float division by zero"
       ]
      },
      {
       "output_type": "stream",
       "stream": "stdout",
       "text": [
        "\n",
        "float division by zero"
       ]
      },
      {
       "output_type": "stream",
       "stream": "stdout",
       "text": [
        "\n",
        "float division by zero"
       ]
      },
      {
       "output_type": "stream",
       "stream": "stdout",
       "text": [
        "\n",
        "float division by zero"
       ]
      },
      {
       "output_type": "stream",
       "stream": "stdout",
       "text": [
        "\n",
        "float division by zero"
       ]
      },
      {
       "output_type": "stream",
       "stream": "stdout",
       "text": [
        "\n",
        "float division by zero"
       ]
      },
      {
       "output_type": "stream",
       "stream": "stdout",
       "text": [
        "\n",
        "float division by zero"
       ]
      },
      {
       "output_type": "stream",
       "stream": "stdout",
       "text": [
        "\n",
        "float division by zero"
       ]
      },
      {
       "output_type": "stream",
       "stream": "stdout",
       "text": [
        "\n",
        "float division by zero"
       ]
      },
      {
       "output_type": "stream",
       "stream": "stdout",
       "text": [
        "\n",
        "float division by zero"
       ]
      },
      {
       "output_type": "stream",
       "stream": "stdout",
       "text": [
        "\n",
        "float division by zero"
       ]
      },
      {
       "output_type": "stream",
       "stream": "stdout",
       "text": [
        "\n",
        "float division by zero"
       ]
      },
      {
       "output_type": "stream",
       "stream": "stdout",
       "text": [
        "\n",
        "float division by zero"
       ]
      },
      {
       "output_type": "stream",
       "stream": "stdout",
       "text": [
        "\n",
        "Panel Dictionary Saved"
       ]
      },
      {
       "output_type": "stream",
       "stream": "stdout",
       "text": [
        "\n",
        "\n",
        "==========\n",
        "Beginning iteration 8 of 10\n",
        "Panel Dictionary Saved"
       ]
      },
      {
       "output_type": "stream",
       "stream": "stdout",
       "text": [
        "\n",
        "\n",
        "==========\n",
        "Beginning iteration 9 of 10\n",
        "Panel Dictionary Saved"
       ]
      },
      {
       "output_type": "stream",
       "stream": "stdout",
       "text": [
        "\n",
        "\n",
        "==========\n",
        "Beginning iteration 10 of 10\n",
        "Panel Dictionary Saved"
       ]
      },
      {
       "output_type": "stream",
       "stream": "stdout",
       "text": [
        "\n",
        "\n",
        "=========="
       ]
      },
      {
       "output_type": "stream",
       "stream": "stdout",
       "text": [
        "\n",
        "Beginning iteration 1 of 10\n",
        "Panel Dictionary Saved"
       ]
      },
      {
       "output_type": "stream",
       "stream": "stdout",
       "text": [
        "\n",
        "\n",
        "==========\n",
        "Beginning iteration 2 of 10\n",
        "The pruned tree at sample size 1200, iteration 1, contained less than two leaf nodes. No logit models were built at this sample size and iteration."
       ]
      },
      {
       "output_type": "stream",
       "stream": "stdout",
       "text": [
        "\n",
        "==========\n",
        "Beginning iteration 3 of 10\n",
        "Panel Dictionary Saved"
       ]
      },
      {
       "output_type": "stream",
       "stream": "stdout",
       "text": [
        "\n",
        "\n",
        "==========\n",
        "Beginning iteration 4 of 10\n",
        "Panel Dictionary Saved"
       ]
      },
      {
       "output_type": "stream",
       "stream": "stdout",
       "text": [
        "\n",
        "\n",
        "==========\n",
        "Beginning iteration 5 of 10\n",
        "Panel Dictionary Saved"
       ]
      },
      {
       "output_type": "stream",
       "stream": "stdout",
       "text": [
        "\n",
        "\n",
        "==========\n",
        "Beginning iteration 6 of 10\n",
        "Panel Dictionary Saved"
       ]
      },
      {
       "output_type": "stream",
       "stream": "stdout",
       "text": [
        "\n",
        "\n",
        "==========\n",
        "Beginning iteration 7 of 10\n",
        "Panel Dictionary Saved"
       ]
      },
      {
       "output_type": "stream",
       "stream": "stdout",
       "text": [
        "\n",
        "\n",
        "==========\n",
        "Beginning iteration 8 of 10\n",
        "Panel Dictionary Saved"
       ]
      },
      {
       "output_type": "stream",
       "stream": "stdout",
       "text": [
        "\n",
        "\n",
        "==========\n",
        "Beginning iteration 9 of 10\n",
        "float division by zero"
       ]
      },
      {
       "output_type": "stream",
       "stream": "stdout",
       "text": [
        "\n",
        "float division by zero"
       ]
      },
      {
       "output_type": "stream",
       "stream": "stdout",
       "text": [
        "\n",
        "float division by zero"
       ]
      },
      {
       "output_type": "stream",
       "stream": "stdout",
       "text": [
        "\n",
        "float division by zero"
       ]
      },
      {
       "output_type": "stream",
       "stream": "stdout",
       "text": [
        "\n",
        "float division by zero"
       ]
      },
      {
       "output_type": "stream",
       "stream": "stdout",
       "text": [
        "\n",
        "float division by zero"
       ]
      },
      {
       "output_type": "stream",
       "stream": "stdout",
       "text": [
        "\n",
        "float division by zero"
       ]
      },
      {
       "output_type": "stream",
       "stream": "stdout",
       "text": [
        "\n",
        "float division by zero"
       ]
      },
      {
       "output_type": "stream",
       "stream": "stdout",
       "text": [
        "\n",
        "float division by zero"
       ]
      },
      {
       "output_type": "stream",
       "stream": "stdout",
       "text": [
        "\n",
        "float division by zero"
       ]
      },
      {
       "output_type": "stream",
       "stream": "stdout",
       "text": [
        "\n",
        "float division by zero"
       ]
      },
      {
       "output_type": "stream",
       "stream": "stdout",
       "text": [
        "\n",
        "float division by zero"
       ]
      },
      {
       "output_type": "stream",
       "stream": "stdout",
       "text": [
        "\n",
        "float division by zero"
       ]
      },
      {
       "output_type": "stream",
       "stream": "stdout",
       "text": [
        "\n",
        "float division by zero"
       ]
      },
      {
       "output_type": "stream",
       "stream": "stdout",
       "text": [
        "\n",
        "float division by zero"
       ]
      },
      {
       "output_type": "stream",
       "stream": "stdout",
       "text": [
        "\n",
        "float division by zero"
       ]
      },
      {
       "output_type": "stream",
       "stream": "stdout",
       "text": [
        "\n",
        "float division by zero"
       ]
      },
      {
       "output_type": "stream",
       "stream": "stdout",
       "text": [
        "\n",
        "float division by zero"
       ]
      },
      {
       "output_type": "stream",
       "stream": "stdout",
       "text": [
        "\n",
        "float division by zero"
       ]
      },
      {
       "output_type": "stream",
       "stream": "stdout",
       "text": [
        "\n",
        "float division by zero"
       ]
      },
      {
       "output_type": "stream",
       "stream": "stdout",
       "text": [
        "\n",
        "float division by zero"
       ]
      },
      {
       "output_type": "stream",
       "stream": "stdout",
       "text": [
        "\n",
        "float division by zero"
       ]
      },
      {
       "output_type": "stream",
       "stream": "stdout",
       "text": [
        "\n",
        "float division by zero"
       ]
      },
      {
       "output_type": "stream",
       "stream": "stdout",
       "text": [
        "\n",
        "float division by zero"
       ]
      },
      {
       "output_type": "stream",
       "stream": "stdout",
       "text": [
        "\n",
        "float division by zero"
       ]
      },
      {
       "output_type": "stream",
       "stream": "stdout",
       "text": [
        "\n",
        "float division by zero"
       ]
      },
      {
       "output_type": "stream",
       "stream": "stdout",
       "text": [
        "\n",
        "float division by zero"
       ]
      },
      {
       "output_type": "stream",
       "stream": "stdout",
       "text": [
        "\n",
        "float division by zero"
       ]
      },
      {
       "output_type": "stream",
       "stream": "stdout",
       "text": [
        "\n",
        "float division by zero"
       ]
      },
      {
       "output_type": "stream",
       "stream": "stdout",
       "text": [
        "\n",
        "float division by zero"
       ]
      },
      {
       "output_type": "stream",
       "stream": "stdout",
       "text": [
        "\n",
        "float division by zero"
       ]
      },
      {
       "output_type": "stream",
       "stream": "stdout",
       "text": [
        "\n",
        "float division by zero"
       ]
      },
      {
       "output_type": "stream",
       "stream": "stdout",
       "text": [
        "\n",
        "float division by zero"
       ]
      },
      {
       "output_type": "stream",
       "stream": "stdout",
       "text": [
        "\n",
        "float division by zero"
       ]
      },
      {
       "output_type": "stream",
       "stream": "stdout",
       "text": [
        "\n",
        "float division by zero"
       ]
      },
      {
       "output_type": "stream",
       "stream": "stdout",
       "text": [
        "\n",
        "float division by zero"
       ]
      },
      {
       "output_type": "stream",
       "stream": "stdout",
       "text": [
        "\n",
        "float division by zero"
       ]
      },
      {
       "output_type": "stream",
       "stream": "stdout",
       "text": [
        "\n",
        "float division by zero"
       ]
      },
      {
       "output_type": "stream",
       "stream": "stdout",
       "text": [
        "\n",
        "float division by zero"
       ]
      },
      {
       "output_type": "stream",
       "stream": "stdout",
       "text": [
        "\n",
        "float division by zero"
       ]
      },
      {
       "output_type": "stream",
       "stream": "stdout",
       "text": [
        "\n",
        "Panel Dictionary Saved"
       ]
      },
      {
       "output_type": "stream",
       "stream": "stdout",
       "text": [
        "\n",
        "\n",
        "==========\n",
        "Beginning iteration 10 of 10\n",
        "Panel Dictionary Saved"
       ]
      },
      {
       "output_type": "stream",
       "stream": "stdout",
       "text": [
        "\n",
        "\n",
        "=========="
       ]
      },
      {
       "output_type": "stream",
       "stream": "stdout",
       "text": [
        "\n",
        "Beginning iteration 1 of 10\n",
        "The pruned tree at sample size 800, iteration 0, contained less than two leaf nodes. No logit models were built at this sample size and iteration."
       ]
      },
      {
       "output_type": "stream",
       "stream": "stdout",
       "text": [
        "\n",
        "==========\n",
        "Beginning iteration 2 of 10\n",
        "Panel Dictionary Saved"
       ]
      },
      {
       "output_type": "stream",
       "stream": "stdout",
       "text": [
        "\n",
        "\n",
        "==========\n",
        "Beginning iteration 3 of 10\n",
        "Panel Dictionary Saved"
       ]
      },
      {
       "output_type": "stream",
       "stream": "stdout",
       "text": [
        "\n",
        "\n",
        "==========\n",
        "Beginning iteration 4 of 10\n",
        "Panel Dictionary Saved"
       ]
      },
      {
       "output_type": "stream",
       "stream": "stdout",
       "text": [
        "\n",
        "\n",
        "==========\n",
        "Beginning iteration 5 of 10\n",
        "Panel Dictionary Saved"
       ]
      },
      {
       "output_type": "stream",
       "stream": "stdout",
       "text": [
        "\n",
        "\n",
        "==========\n",
        "Beginning iteration 6 of 10\n",
        "Panel Dictionary Saved"
       ]
      },
      {
       "output_type": "stream",
       "stream": "stdout",
       "text": [
        "\n",
        "\n",
        "==========\n",
        "Beginning iteration 7 of 10\n",
        "Panel Dictionary Saved"
       ]
      },
      {
       "output_type": "stream",
       "stream": "stdout",
       "text": [
        "\n",
        "\n",
        "==========\n",
        "Beginning iteration 8 of 10\n",
        "The pruned tree at sample size 800, iteration 7, contained less than two leaf nodes. No logit models were built at this sample size and iteration."
       ]
      },
      {
       "output_type": "stream",
       "stream": "stdout",
       "text": [
        "\n",
        "==========\n",
        "Beginning iteration 9 of 10\n",
        "Panel Dictionary Saved"
       ]
      },
      {
       "output_type": "stream",
       "stream": "stdout",
       "text": [
        "\n",
        "\n",
        "==========\n",
        "Beginning iteration 10 of 10\n",
        "The pruned tree at sample size 800, iteration 9, contained less than two leaf nodes. No logit models were built at this sample size and iteration."
       ]
      },
      {
       "output_type": "stream",
       "stream": "stdout",
       "text": [
        "\n",
        "=========="
       ]
      },
      {
       "output_type": "stream",
       "stream": "stdout",
       "text": [
        "\n",
        "Beginning iteration 1 of 10\n",
        "Panel Dictionary Saved"
       ]
      },
      {
       "output_type": "stream",
       "stream": "stdout",
       "text": [
        "\n",
        "\n",
        "==========\n",
        "Beginning iteration 2 of 10\n",
        "Panel Dictionary Saved"
       ]
      },
      {
       "output_type": "stream",
       "stream": "stdout",
       "text": [
        "\n",
        "\n",
        "==========\n",
        "Beginning iteration 3 of 10\n",
        "The pruned tree at sample size 400, iteration 2, contained less than two leaf nodes. No logit models were built at this sample size and iteration."
       ]
      },
      {
       "output_type": "stream",
       "stream": "stdout",
       "text": [
        "\n",
        "==========\n",
        "Beginning iteration 4 of 10\n",
        "The pruned tree at sample size 400, iteration 3, contained less than two leaf nodes. No logit models were built at this sample size and iteration."
       ]
      },
      {
       "output_type": "stream",
       "stream": "stdout",
       "text": [
        "\n",
        "==========\n",
        "Beginning iteration 5 of 10\n",
        "Panel Dictionary Saved"
       ]
      },
      {
       "output_type": "stream",
       "stream": "stdout",
       "text": [
        "\n",
        "\n",
        "==========\n",
        "Beginning iteration 6 of 10\n",
        "Panel Dictionary Saved"
       ]
      },
      {
       "output_type": "stream",
       "stream": "stdout",
       "text": [
        "\n",
        "\n",
        "==========\n",
        "Beginning iteration 7 of 10\n",
        "Panel Dictionary Saved"
       ]
      },
      {
       "output_type": "stream",
       "stream": "stdout",
       "text": [
        "\n",
        "\n",
        "==========\n",
        "Beginning iteration 8 of 10\n",
        "The pruned tree at sample size 400, iteration 7, contained less than two leaf nodes. No logit models were built at this sample size and iteration."
       ]
      },
      {
       "output_type": "stream",
       "stream": "stdout",
       "text": [
        "\n",
        "==========\n",
        "Beginning iteration 9 of 10\n",
        "The pruned tree at sample size 400, iteration 8, contained less than two leaf nodes. No logit models were built at this sample size and iteration."
       ]
      },
      {
       "output_type": "stream",
       "stream": "stdout",
       "text": [
        "\n",
        "==========\n",
        "Beginning iteration 10 of 10\n",
        "Panel Dictionary Saved"
       ]
      },
      {
       "output_type": "stream",
       "stream": "stdout",
       "text": [
        "\n",
        "\n"
       ]
      }
     ],
     "prompt_number": 17
    },
    {
     "cell_type": "markdown",
     "metadata": {},
     "source": [
      "<p><font size=5 color='brown'>Remaining Work:</font></p>\n",
      "<p>\n",
      "    <ol>\n",
      "        <li>Write in code to calculate the precision points and the recall points for each of the three classifiers.</li>\n",
      "        <li>Write in code to add the precision points and recall points to the main error_comparison dataframe</li>\n",
      "        <li>Write in code to add the completed error_comparison dataframe to the panel_dict with the key being the iteration</li>\n",
      "        <li>Write in code to create the panel dataframe from panel_dict</li>\n",
      "        <li>Write in code to save the panel dataframe to file with the file name referencing the training set size in the name</li>\n",
      "        <li>Write in code to create the \"average error dataframes\" from the panel error dataframes</li>\n",
      "        <li>Write in code to construct all the desired graphs from each of the average error dataframes</li>\n",
      "    </ol>\n",
      "</p>\n",
      "        "
     ]
    },
    {
     "cell_type": "code",
     "collapsed": false,
     "input": [
      "with open(\"models_and_errors/naive_errors_df_{}.pkl\".format(1142), \"rb\") as f:\n",
      "    error_frame = cPickle.load(f)"
     ],
     "language": "python",
     "metadata": {},
     "outputs": [],
     "prompt_number": 41
    },
    {
     "cell_type": "code",
     "collapsed": false,
     "input": [
      "error_frame"
     ],
     "language": "python",
     "metadata": {},
     "outputs": [
      {
       "html": [
        "<div style=\"max-height:1000px;max-width:1500px;overflow:auto;\">\n",
        "<table border=\"1\" class=\"dataframe\">\n",
        "  <thead>\n",
        "    <tr style=\"text-align: right;\">\n",
        "      <th></th>\n",
        "      <th>Hybrid</th>\n",
        "      <th>Logit</th>\n",
        "      <th>Tree</th>\n",
        "    </tr>\n",
        "  </thead>\n",
        "  <tbody>\n",
        "    <tr>\n",
        "      <th>Total Error Rate</th>\n",
        "      <td> 0.219906</td>\n",
        "      <td> 0.217301</td>\n",
        "      <td> 0.210005</td>\n",
        "    </tr>\n",
        "    <tr>\n",
        "      <th>Class 0 Error Rate</th>\n",
        "      <td> 0.055448</td>\n",
        "      <td> 0.041264</td>\n",
        "      <td> 0.031593</td>\n",
        "    </tr>\n",
        "    <tr>\n",
        "      <th>Class 1 Error Rate</th>\n",
        "      <td> 0.913043</td>\n",
        "      <td> 0.959239</td>\n",
        "      <td> 0.961957</td>\n",
        "    </tr>\n",
        "    <tr>\n",
        "      <th>Precision</th>\n",
        "      <td> 0.271186</td>\n",
        "      <td> 0.189873</td>\n",
        "      <td> 0.222222</td>\n",
        "    </tr>\n",
        "    <tr>\n",
        "      <th>Recall</th>\n",
        "      <td> 0.086957</td>\n",
        "      <td> 0.040761</td>\n",
        "      <td> 0.038043</td>\n",
        "    </tr>\n",
        "  </tbody>\n",
        "</table>\n",
        "<p>5 rows \u00d7 3 columns</p>\n",
        "</div>"
       ],
       "metadata": {},
       "output_type": "pyout",
       "prompt_number": 42,
       "text": [
        "                      Hybrid     Logit      Tree\n",
        "Total Error Rate    0.219906  0.217301  0.210005\n",
        "Class 0 Error Rate  0.055448  0.041264  0.031593\n",
        "Class 1 Error Rate  0.913043  0.959239  0.961957\n",
        "Precision           0.271186  0.189873  0.222222\n",
        "Recall              0.086957  0.040761  0.038043\n",
        "\n",
        "[5 rows x 3 columns]"
       ]
      }
     ],
     "prompt_number": 42
    },
    {
     "cell_type": "code",
     "collapsed": false,
     "input": [
      "t1 = np.random.rand(5)\n",
      "t2 = np.random.rand(5)\n",
      "t3 = np.random.rand(5)\n",
      "t4 = np.random.rand(5)\n",
      "t5 = np.array(range(1,6))\n",
      "t6 = np.array(range(5,0, -1))\n",
      "test1 = pd.DataFrame({\"add1\": [t1, t2, t5]})\n",
      "test2 = pd.DataFrame({\"add1\": [t3, t4, t6]})\n",
      "\n",
      "test_panel = pd.Panel.from_dict({0:test1, 1:test2}, orient='minor')"
     ],
     "language": "python",
     "metadata": {},
     "outputs": [],
     "prompt_number": 20
    },
    {
     "cell_type": "code",
     "collapsed": false,
     "input": [
      "test_add.loc[2] = [np.random.rand(5)]"
     ],
     "language": "python",
     "metadata": {},
     "outputs": [],
     "prompt_number": 18
    },
    {
     "cell_type": "code",
     "collapsed": false,
     "input": [
      "test_add"
     ],
     "language": "python",
     "metadata": {},
     "outputs": [
      {
       "html": [
        "<div style=\"max-height:1000px;max-width:1500px;overflow:auto;\">\n",
        "<table border=\"1\" class=\"dataframe\">\n",
        "  <thead>\n",
        "    <tr style=\"text-align: right;\">\n",
        "      <th></th>\n",
        "      <th>add</th>\n",
        "    </tr>\n",
        "  </thead>\n",
        "  <tbody>\n",
        "    <tr>\n",
        "      <th>0</th>\n",
        "      <td> [0.814256690674, 0.522560987564, 0.64693830124...</td>\n",
        "    </tr>\n",
        "    <tr>\n",
        "      <th>1</th>\n",
        "      <td> [1.24719576565, 1.02062453218, 1.80012820195, ...</td>\n",
        "    </tr>\n",
        "    <tr>\n",
        "      <th>2</th>\n",
        "      <td> [0.462556077586, 0.48033131408, 0.973551615189...</td>\n",
        "    </tr>\n",
        "  </tbody>\n",
        "</table>\n",
        "<p>3 rows \u00d7 1 columns</p>\n",
        "</div>"
       ],
       "metadata": {},
       "output_type": "pyout",
       "prompt_number": 19,
       "text": [
        "                                                 add\n",
        "0  [0.814256690674, 0.522560987564, 0.64693830124...\n",
        "1  [1.24719576565, 1.02062453218, 1.80012820195, ...\n",
        "2  [0.462556077586, 0.48033131408, 0.973551615189...\n",
        "\n",
        "[3 rows x 1 columns]"
       ]
      }
     ],
     "prompt_number": 19
    },
    {
     "cell_type": "code",
     "collapsed": false,
     "input": [
      "test_panel."
     ],
     "language": "python",
     "metadata": {},
     "outputs": [
      {
       "html": [
        "<div style=\"max-height:1000px;max-width:1500px;overflow:auto;\">\n",
        "<table border=\"1\" class=\"dataframe\">\n",
        "  <thead>\n",
        "    <tr style=\"text-align: right;\">\n",
        "      <th></th>\n",
        "      <th>0</th>\n",
        "      <th>1</th>\n",
        "    </tr>\n",
        "  </thead>\n",
        "  <tbody>\n",
        "    <tr>\n",
        "      <th>0</th>\n",
        "      <td> [0.0240219848952, 0.228612041082, 0.0605771693...</td>\n",
        "      <td> [0.122960499484, 0.00467709630816, 0.327915577...</td>\n",
        "    </tr>\n",
        "    <tr>\n",
        "      <th>1</th>\n",
        "      <td> [0.481808949419, 0.0370752817388, 0.8769156123...</td>\n",
        "      <td> [0.83714716082, 0.651854245175, 0.446167836287...</td>\n",
        "    </tr>\n",
        "    <tr>\n",
        "      <th>2</th>\n",
        "      <td>                                   [1, 2, 3, 4, 5]</td>\n",
        "      <td>                                   [5, 4, 3, 2, 1]</td>\n",
        "    </tr>\n",
        "  </tbody>\n",
        "</table>\n",
        "<p>3 rows \u00d7 2 columns</p>\n",
        "</div>"
       ],
       "metadata": {},
       "output_type": "pyout",
       "prompt_number": 25,
       "text": [
        "                                                   0  \\\n",
        "0  [0.0240219848952, 0.228612041082, 0.0605771693...   \n",
        "1  [0.481808949419, 0.0370752817388, 0.8769156123...   \n",
        "2                                    [1, 2, 3, 4, 5]   \n",
        "\n",
        "                                                   1  \n",
        "0  [0.122960499484, 0.00467709630816, 0.327915577...  \n",
        "1  [0.83714716082, 0.651854245175, 0.446167836287...  \n",
        "2                                    [5, 4, 3, 2, 1]  \n",
        "\n",
        "[3 rows x 2 columns]"
       ]
      }
     ],
     "prompt_number": 25
    },
    {
     "cell_type": "code",
     "collapsed": false,
     "input": [
      "#for num, col in enumerate(error_comparison.columns):\n",
      "error_comparison.loc[\"Precision Points\"] = pd.Series(p_points, index=error_comparison.columns)\n",
      "error_comparison.loc[\"Recall Points\"] = pd.Series(r_points, index=error_comparison.columns)\n",
      "\n",
      "error_comparison"
     ],
     "language": "python",
     "metadata": {},
     "outputs": [
      {
       "html": [
        "<div style=\"max-height:1000px;max-width:1500px;overflow:auto;\">\n",
        "<table border=\"1\" class=\"dataframe\">\n",
        "  <thead>\n",
        "    <tr style=\"text-align: right;\">\n",
        "      <th></th>\n",
        "      <th>Hybrid</th>\n",
        "      <th>Logit</th>\n",
        "      <th>Tree</th>\n",
        "    </tr>\n",
        "  </thead>\n",
        "  <tbody>\n",
        "    <tr>\n",
        "      <th>Total Error Rate</th>\n",
        "      <td>                                          0.253778</td>\n",
        "      <td>                                         0.1928088</td>\n",
        "      <td>                                         0.2423137</td>\n",
        "    </tr>\n",
        "    <tr>\n",
        "      <th>Class 0 Error Rate</th>\n",
        "      <td>                                          0.101225</td>\n",
        "      <td>                                       0.003868472</td>\n",
        "      <td>                                        0.07736944</td>\n",
        "    </tr>\n",
        "    <tr>\n",
        "      <th>Class 1 Error Rate</th>\n",
        "      <td>                                         0.8967391</td>\n",
        "      <td>                                         0.9891304</td>\n",
        "      <td>                                            0.9375</td>\n",
        "    </tr>\n",
        "    <tr>\n",
        "      <th>Precision</th>\n",
        "      <td>                                         0.1948718</td>\n",
        "      <td>                                               0.4</td>\n",
        "      <td>                                         0.1608392</td>\n",
        "    </tr>\n",
        "    <tr>\n",
        "      <th>Recall</th>\n",
        "      <td>                                         0.1032609</td>\n",
        "      <td>                                        0.01086957</td>\n",
        "      <td>                                            0.0625</td>\n",
        "    </tr>\n",
        "    <tr>\n",
        "      <th>Precision Points</th>\n",
        "      <td> [0.191766545076, 0.188823529412, 0.19607843137...</td>\n",
        "      <td> [0.191766545076, 0.191766545076, 0.19176654507...</td>\n",
        "      <td> [0.191766545076, 0.187848383501, 0.18784838350...</td>\n",
        "    </tr>\n",
        "    <tr>\n",
        "      <th>Recall Points</th>\n",
        "      <td> [1.0, 0.872282608696, 0.842391304348, 0.796195...</td>\n",
        "      <td> [1.0, 1.0, 1.0, 0.975543478261, 0.975543478261...</td>\n",
        "      <td> [1.0, 0.915760869565, 0.915760869565, 0.915760...</td>\n",
        "    </tr>\n",
        "  </tbody>\n",
        "</table>\n",
        "<p>7 rows \u00d7 3 columns</p>\n",
        "</div>"
       ],
       "metadata": {},
       "output_type": "pyout",
       "prompt_number": 39,
       "text": [
        "                                                               Hybrid  \\\n",
        "Total Error Rate                                             0.253778   \n",
        "Class 0 Error Rate                                           0.101225   \n",
        "Class 1 Error Rate                                          0.8967391   \n",
        "Precision                                                   0.1948718   \n",
        "Recall                                                      0.1032609   \n",
        "Precision Points    [0.191766545076, 0.188823529412, 0.19607843137...   \n",
        "Recall Points       [1.0, 0.872282608696, 0.842391304348, 0.796195...   \n",
        "\n",
        "                                                                Logit  \\\n",
        "Total Error Rate                                            0.1928088   \n",
        "Class 0 Error Rate                                        0.003868472   \n",
        "Class 1 Error Rate                                          0.9891304   \n",
        "Precision                                                         0.4   \n",
        "Recall                                                     0.01086957   \n",
        "Precision Points    [0.191766545076, 0.191766545076, 0.19176654507...   \n",
        "Recall Points       [1.0, 1.0, 1.0, 0.975543478261, 0.975543478261...   \n",
        "\n",
        "                                                                 Tree  \n",
        "Total Error Rate                                            0.2423137  \n",
        "Class 0 Error Rate                                         0.07736944  \n",
        "Class 1 Error Rate                                             0.9375  \n",
        "Precision                                                   0.1608392  \n",
        "Recall                                                         0.0625  \n",
        "Precision Points    [0.191766545076, 0.187848383501, 0.18784838350...  \n",
        "Recall Points       [1.0, 0.915760869565, 0.915760869565, 0.915760...  \n",
        "\n",
        "[7 rows x 3 columns]"
       ]
      }
     ],
     "prompt_number": 39
    },
    {
     "cell_type": "code",
     "collapsed": false,
     "input": [
      "plt.plot(error_comparison[\"Hybrid\"][\"Recall Points\"], error_comparison[\"Hybrid\"][\"Precision Points\"],'og')"
     ],
     "language": "python",
     "metadata": {},
     "outputs": [
      {
       "metadata": {},
       "output_type": "pyout",
       "prompt_number": 30,
       "text": [
        "[<matplotlib.lines.Line2D at 0x55b44d0>]"
       ]
      },
      {
       "metadata": {},
       "output_type": "display_data",
       "png": "[encoded data removed]",
       "text": [
        "<matplotlib.figure.Figure at 0xb1696d0>"
       ]
      }
     ],
     "prompt_number": 30
    },
    {
     "cell_type": "code",
     "collapsed": false,
     "input": [
      "error_comparison[\"Hybrid\"][\"Precision Points\"][50]"
     ],
     "language": "python",
     "metadata": {},
     "outputs": [
      {
       "metadata": {},
       "output_type": "pyout",
       "prompt_number": 34,
       "text": [
        "0.2711864406779661"
       ]
      }
     ],
     "prompt_number": 34
    },
    {
     "cell_type": "code",
     "collapsed": false,
     "input": [
      "pd.Series(p_points)"
     ],
     "language": "python",
     "metadata": {},
     "outputs": [
      {
       "metadata": {},
       "output_type": "pyout",
       "prompt_number": 38,
       "text": [
        "0    [0.191766545076, 0.188823529412, 0.19607843137...\n",
        "1    [0.191766545076, 0.191766545076, 0.19176654507...\n",
        "2    [0.191766545076, 0.187848383501, 0.18784838350...\n",
        "dtype: object"
       ]
      }
     ],
     "prompt_number": 38
    },
    {
     "cell_type": "code",
     "collapsed": false,
     "input": [],
     "language": "python",
     "metadata": {},
     "outputs": []
    }
   ],
   "metadata": {}
  }
 ]
}