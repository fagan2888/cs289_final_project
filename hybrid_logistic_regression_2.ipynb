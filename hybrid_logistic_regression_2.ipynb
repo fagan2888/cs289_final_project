{
 "metadata": {
  "name": "hybrid_logistic_regression_2.ipynb"
 },
 "nbformat": 3,
 "nbformat_minor": 0,
 "worksheets": [
  {
   "cells": [
    {
     "cell_type": "code",
     "collapsed": false,
     "input": [
      "import numpy as np, pandas as pd, statsmodels.formula.api as smf, statsmodels.api as sm\n",
      "import treepredict, cPickle, patsy\n",
      "from copy import deepcopy"
     ],
     "language": "python",
     "metadata": {},
     "outputs": [],
     "prompt_number": 2
    },
    {
     "cell_type": "heading",
     "level": 3,
     "metadata": {},
     "source": [
      "Run some basic test models with the Hybrid CART-Logistic Regression"
     ]
    },
    {
     "cell_type": "code",
     "collapsed": false,
     "input": [
      "#Load the leaf augmented dataframes\n",
      "trainingDesign = pd.read_pickle(\"dataframes/leaf_augmented/trainingSet_DF_naiveTree.pkl\")\n",
      "validationDesign = pd.read_pickle(\"dataframes/leaf_augmented/validationSet_DF_naiveTree.pkl\")"
     ],
     "language": "python",
     "metadata": {},
     "outputs": [],
     "prompt_number": 3
    },
    {
     "cell_type": "code",
     "collapsed": false,
     "input": [
      "with open(\"trees/pruned_NaiveTree_trainingSet.pkl\") as f:\n",
      "    pruned_tSet_tree = cPickle.load(f)\n",
      "    \n",
      "with open(\"trees/pruned_min10_obs_trainingSet.pkl\",) as f:\n",
      "    pruned_min10_tree = cPickle.load(f)"
     ],
     "language": "python",
     "metadata": {},
     "outputs": [],
     "prompt_number": 45
    },
    {
     "cell_type": "code",
     "collapsed": false,
     "input": [
      "def find_perfect_preds(nodes):\n",
      "    perfect_preds = []\n",
      "    for place, node in enumerate(nodes):\n",
      "        if len(node[-1].keys()) == 1:\n",
      "            perfect_preds.append(place)\n",
      "    return perfect_preds"
     ],
     "language": "python",
     "metadata": {},
     "outputs": [],
     "prompt_number": 19
    },
    {
     "cell_type": "code",
     "collapsed": false,
     "input": [
      "def reduce_nodeAugmented_4hybrid(orig_nodeAugmented_training, tree):\n",
      "    nodes = treepredict.fetchNodes(tree)\n",
      "    perf_pred_nodes = find_perfect_preds(nodes)\n",
      "    nodeNum = orig_nodeAugmented_training[\"nodeNum\"]\n",
      "    return orig_nodeAugmented_training[~nodeNum.isin(perf_pred_nodes)].copy()"
     ],
     "language": "python",
     "metadata": {},
     "outputs": [],
     "prompt_number": 30
    },
    {
     "cell_type": "code",
     "collapsed": false,
     "input": [
      "def contrast_nodes_in_df(df):\n",
      "    #Contrast the node column in design matrix for the logistic regression\n",
      "    contrast_nodeNums = patsy.dmatrix(\"C(nodeNum) - 1\", data=df)\n",
      "    contrast_nodeNums = pd.DataFrame(contrast_nodeNums, columns=contrast_nodeNums.design_info.column_names,\n",
      "                                     index = df.index.tolist())\n",
      "    return pd.merge(df, contrast_nodeNums, left_index=True, right_index=True)"
     ],
     "language": "python",
     "metadata": {},
     "outputs": [],
     "prompt_number": 37
    },
    {
     "cell_type": "code",
     "collapsed": false,
     "input": [
      "def clean_category_cols(df):\n",
      "    cols = df.columns.tolist()\n",
      "    r1 = \"C(\" #The beginning of the column name for contrast coded variables made with patsy\n",
      "    r2 = \")[\" #The ending of contrast coded variable names for variables without a specified reference treatment\n",
      "    r3 = \"]\" #The ending of the treatment delimeter for contrast coded variables made with patsy\n",
      "    r4 = \", \" #column vs patys info delimiter\n",
      "    r5 = \".\" #Patsy delimiter before value of original categorical\n",
      "    replace_dict = dict(zip([r1, r4, r2, r5, r3], [\"\", \"_\", \"_\", \"\", \"\"]))\n",
      "    new_cols = []\n",
      "    for col in cols:\n",
      "        if r1 in col: #Check if the variabe was made via contrast coding\n",
      "            new_col = deepcopy(col)\n",
      "            for item in replace_dict:\n",
      "                new_col = new_col.replace(item, replace_dict[item])\n",
      "            new_cols.append(new_col)\n",
      "        else:\n",
      "            new_cols.append(col)\n",
      "    new_df = df.copy()\n",
      "    new_df.columns = new_cols\n",
      "    return new_df        "
     ],
     "language": "python",
     "metadata": {},
     "outputs": [],
     "prompt_number": 23
    },
    {
     "cell_type": "code",
     "collapsed": false,
     "input": [
      "def design_for_hybrid(orig_nodeAugmented, tree):\n",
      "    filtered = reduce_nodeAugmented_4hybrid(orig_nodeAugmented, tree)\n",
      "    contrasted = contrast_nodes_in_df(filtered)\n",
      "    col_cleaned = clean_category_cols(contrasted)\n",
      "    filtered = None #Clean up/free up memory\n",
      "    contrasted = None #Clean up/free up memory\n",
      "    del col_cleaned[\"nodeNum\"] #remove the nodeNum col from the design matrix\n",
      "    if \"Intercept\" in col_cleaned.columns:\n",
      "        del col_cleaned[\"Intercept\"] #remove the intercept from the design matrix\n",
      "    return col_cleaned"
     ],
     "language": "python",
     "metadata": {},
     "outputs": [],
     "prompt_number": 41
    },
    {
     "cell_type": "code",
     "collapsed": false,
     "input": [
      "test_design = design_for_hybrid(trainingDesign, pruned_tSet_tree)"
     ],
     "language": "python",
     "metadata": {},
     "outputs": [],
     "prompt_number": 42
    },
    {
     "cell_type": "code",
     "collapsed": false,
     "input": [
      "hybrid_designs = {}\n",
      "hybrid_designs[\"df\"] = {}\n",
      "hybrid_designs[\"df\"][\"naive_pruned\"] = design_for_hybrid(trainingDesign, pruned_tSet_tree)\n",
      "hybrid_designs[\"df\"][\"min10_pruned\"] = design_for_hybrid(trainingDesign, pruned_min10_tree)"
     ],
     "language": "python",
     "metadata": {},
     "outputs": [],
     "prompt_number": 48
    },
    {
     "cell_type": "code",
     "collapsed": false,
     "input": [
      "def isolate_node_cols(df):\n",
      "    colList = df.columns.tolist()\n",
      "    node_cols = []\n",
      "    for item in colList:\n",
      "        if \"nodeNum\" in item:\n",
      "            node_cols.append(item)\n",
      "    return node_cols"
     ],
     "language": "python",
     "metadata": {},
     "outputs": [],
     "prompt_number": 47
    },
    {
     "cell_type": "code",
     "collapsed": false,
     "input": [
      "#The unconstrained tree split the training data well. There are few nodes with observations from multiple classes.\n",
      "isolate_node_cols(hybrid_designs[\"df\"][\"naive_pruned\"])"
     ],
     "language": "python",
     "metadata": {},
     "outputs": [
      {
       "metadata": {},
       "output_type": "pyout",
       "prompt_number": 69,
       "text": [
        "['nodeNum_0',\n",
        " 'nodeNum_4',\n",
        " 'nodeNum_5',\n",
        " 'nodeNum_6',\n",
        " 'nodeNum_9',\n",
        " 'nodeNum_10',\n",
        " 'nodeNum_18',\n",
        " 'nodeNum_20']"
       ]
      }
     ],
     "prompt_number": 69
    },
    {
     "cell_type": "code",
     "collapsed": false,
     "input": [
      "#Due to the restriction of at least 10 people per leaf, the leaves are much more mixed than the unconstrained tree\n",
      "isolate_node_cols(hybrid_designs[\"df\"][\"min10_pruned\"])"
     ],
     "language": "python",
     "metadata": {},
     "outputs": [
      {
       "metadata": {},
       "output_type": "pyout",
       "prompt_number": 49,
       "text": [
        "['nodeNum_0',\n",
        " 'nodeNum_1',\n",
        " 'nodeNum_2',\n",
        " 'nodeNum_3',\n",
        " 'nodeNum_4',\n",
        " 'nodeNum_5',\n",
        " 'nodeNum_6',\n",
        " 'nodeNum_8',\n",
        " 'nodeNum_9',\n",
        " 'nodeNum_10',\n",
        " 'nodeNum_11',\n",
        " 'nodeNum_13',\n",
        " 'nodeNum_14',\n",
        " 'nodeNum_15',\n",
        " 'nodeNum_16',\n",
        " 'nodeNum_19',\n",
        " 'nodeNum_20']"
       ]
      }
     ],
     "prompt_number": 49
    },
    {
     "cell_type": "code",
     "collapsed": false,
     "input": [
      "def initial_multivariate(df, res, base_string=None, fit=None):\n",
      "    if base_string is None: #If we areadding the very first variable, then base_string will not be passed in. Instead, create it.\n",
      "        base_vars = isolate_node_cols(df)\n",
      "        base_string = \" + \".join([\"0\"] + base_vars) #Make base string from all the node dummy variable columns\n",
      "    else:\n",
      "        base_vars = base_string.split(\" + \") #Split the base string around plus sign to isolate the variables\n",
      "        if \"0\" in base_vars:\n",
      "            base_vars.remove(\"0\") #Don't include the 0 which tells patsy not to include an intercept in the design matrix\n",
      "    \n",
      "    cols = df.columns.tolist() #Initialize the list of columns to add variables from\n",
      "    for var in base_vars + ['SER_INJ']: #Iterate through the base variables for the model and the dependent variable\n",
      "        if var in cols: #If the base variable is in cols, remove it\n",
      "            cols.remove(var) #Make sure cols only has variables to be added to the model, not variables already in the model\n",
      "        \n",
      "    possible_vars = []\n",
      "    for col in cols: #Iterate over all the variables \n",
      "        missing = True\n",
      "        if col not in [\"TRAV_SP\", \"NUMOCCS\", \"VNUM_LAN\", \"VSPD_LIM\", \"DRIVER_AGE\"]:\n",
      "            missing = False\n",
      "            b_string = base_string + \" + {}\".format(col) #base string and newly added variable\n",
      "        else:\n",
      "             #This will account for missing data (albeit not in a nice way)\n",
      "            interact = col + \":I({}!=9999) + I({}!=9999)\".format(col, col)\n",
      "            b_string = base_string + \" + {}\".format(interact) \n",
      "        fString = res + \" ~ \" + b_string #Create the formula to estimate the logistic regression model\n",
      "        try:\n",
      "            num_new_vars = 1 if missing else 0\n",
      "            start_vals = np.random.rand(len(base_vars) + num_new_vars) \n",
      "            if fit is None:\n",
      "                model = smf.logit(fString, data=df).fit(start_params = start_vals, maxiter=100) #Fit the logistic regression\n",
      "            else:\n",
      "                model = smf.logit(fString, data=df).fit(method=fit, start_params = start_vals, maxiter=100) #Fit the logistic regression\n",
      "            if not missing:\n",
      "                p_val = model.pvalues[-1] #pvalue for the newly added variable\n",
      "            else:\n",
      "                p_val = model.pvalues[-2] #pvalue for the non-missing values of the variable\n",
      "            prsquared = model.prsquared #psuedo-r-squared for the new model\n",
      "            #make sure the variable is statistically significant to some loose degree\n",
      "            if p_val < 0.2:\n",
      "                possible_vars.append(col)\n",
      "        except:\n",
      "            print \"These are the possible_vars so far:\", possible_vars\n",
      "            print \"Program encounted an error on column {}\".format(col)\n",
      "    \n",
      "    new_b_string = \" + \".join(base_vars + possible_vars) #Create a string of all variables using in the multivariate regression\n",
      "    new_fString = res + \" ~ \" + \"0 + \" + new_b_string #Create the new formula string\n",
      "    multi_model = smf.logit(new_fString, data = df).fit() #fit the initial multi-variate logistic regression\n",
      "    print multi_model.summary() #Look at the sumary statistics from this logistic regression\n",
      "    base_string = None #Clean up and reset the variable to none. Not sure if it's necessary but it might not hurt\n",
      "    return multi_model, new_b_string #return the fitted model and base string used in the model\n",
      "    "
     ],
     "language": "python",
     "metadata": {},
     "outputs": [],
     "prompt_number": 211
    },
    {
     "cell_type": "code",
     "collapsed": false,
     "input": [
      "#Currently un-tested. Was going to use this code to do forward selection. Instead decided to follow model building algorithm from\n",
      "#Applied Logistic Regression by Hosmer, Lemeshow, and Sturdivant (2013)\n",
      "def add_variable(df, res, base_string=None):\n",
      "    if base_string is None: #If we areadding the very first variable, then base_string will not be passed in. Instead, create it.\n",
      "        base_vars = isolate_node_cols(df)\n",
      "        base_string = \" + \".join([\"0\"] + base_vars) #Make base string from all the node dummy variable columns\n",
      "    else:\n",
      "        base_vars = base_string.split(\" + \") #Split the base string around plus sign to isolate the variables\n",
      "        if \"0\" in base_vars:\n",
      "            base_vars.remove(\"0\") #Don't include the 0 which tells patsy not to include an intercept in the design matrix\n",
      "    best_col = []\n",
      "    best_prsquared = 0.0\n",
      "    best_formula = []\n",
      "    best_params = []\n",
      "    cols = df.columns.tolist() #Initialize the list of columns to add variables from\n",
      "    for var in base_vars: #Iterate throught the base variables fo the model\n",
      "        if var in cols: #If the base variable is in cols, remove it\n",
      "            cols.remove(var) #Make sure cols only has variables to be added to the model, not variables already in the model\n",
      "    for col in cols: #Iterate over all the variables \n",
      "        b_string = base_string + \" + {}\".format(col) #base string and newly added variable\n",
      "        fString = res + \" ~ \" + b_string #Create the formula to estimate the logistic regression model\n",
      "        model = smf.logit(fString, data=df).fit() #Fit the logistic regression\n",
      "        p_val = model.pvalues[-1] #pvalue for the newly added variable\n",
      "        prsquared = model.prsquared #psuedo-r-squared for the new model\n",
      "        #make sure the variable is statistically significant to some loose degree and that it performs better than other variables\n",
      "        if p_val < 0.15 and prsquared >= best_prsquared:\n",
      "            best_col.append(col)\n",
      "            best_prsquared = prsquared\n",
      "            best_formula.append(deepcopy(b_string))\n",
      "            best_params.append(deepcopy(model.params))\n",
      "    base_string = None #Clean up and reset the variable to none. Not sure if it's necessary but it might not hurt\n",
      "    return best_col, best_prsquared, best_formula, best_params"
     ],
     "language": "python",
     "metadata": {},
     "outputs": [],
     "prompt_number": 71
    },
    {
     "cell_type": "code",
     "collapsed": false,
     "input": [
      "test_multi, test_multi_string = initial_multivariate(hybrid_designs[\"df\"][\"naive_pruned\"], 'SER_INJ')"
     ],
     "language": "python",
     "metadata": {},
     "outputs": [
      {
       "output_type": "stream",
       "stream": "stdout",
       "text": [
        "Optimization terminated successfully.\n",
        "         Current function value: 0.487266\n",
        "         Iterations 7\n",
        "Optimization terminated successfully."
       ]
      },
      {
       "output_type": "stream",
       "stream": "stdout",
       "text": [
        "\n",
        "         Current function value: 0.487601\n",
        "         Iterations 7\n",
        "Optimization terminated successfully."
       ]
      },
      {
       "output_type": "stream",
       "stream": "stdout",
       "text": [
        "\n",
        "         Current function value: 0.487479\n",
        "         Iterations 7\n",
        "Optimization terminated successfully."
       ]
      },
      {
       "output_type": "stream",
       "stream": "stdout",
       "text": [
        "\n",
        "         Current function value: 0.487485\n",
        "         Iterations 7\n",
        "Optimization terminated successfully."
       ]
      },
      {
       "output_type": "stream",
       "stream": "stdout",
       "text": [
        "\n",
        "         Current function value: 0.487732\n",
        "         Iterations 7\n",
        "Optimization terminated successfully."
       ]
      },
      {
       "output_type": "stream",
       "stream": "stdout",
       "text": [
        "\n",
        "         Current function value: 0.487513\n",
        "         Iterations 7\n",
        "Optimization terminated successfully."
       ]
      },
      {
       "output_type": "stream",
       "stream": "stdout",
       "text": [
        "\n",
        "         Current function value: 0.487576\n",
        "         Iterations 7\n",
        "Optimization terminated successfully."
       ]
      },
      {
       "output_type": "stream",
       "stream": "stdout",
       "text": [
        "\n",
        "         Current function value: 0.486373\n",
        "         Iterations 7\n",
        "Optimization terminated successfully."
       ]
      },
      {
       "output_type": "stream",
       "stream": "stdout",
       "text": [
        "\n",
        "         Current function value: 0.487270\n",
        "         Iterations 7\n",
        "Optimization terminated successfully."
       ]
      },
      {
       "output_type": "stream",
       "stream": "stdout",
       "text": [
        "\n",
        "         Current function value: 0.487481\n",
        "         Iterations 7\n",
        "Optimization terminated successfully."
       ]
      },
      {
       "output_type": "stream",
       "stream": "stdout",
       "text": [
        "\n",
        "         Current function value: 0.487164\n",
        "         Iterations 7\n",
        "Optimization terminated successfully."
       ]
      },
      {
       "output_type": "stream",
       "stream": "stdout",
       "text": [
        "\n",
        "         Current function value: 0.487288\n",
        "         Iterations 7\n",
        "Optimization terminated successfully."
       ]
      },
      {
       "output_type": "stream",
       "stream": "stdout",
       "text": [
        "\n",
        "         Current function value: 0.487541\n",
        "         Iterations 7\n",
        "Optimization terminated successfully."
       ]
      },
      {
       "output_type": "stream",
       "stream": "stdout",
       "text": [
        "\n",
        "         Current function value: 0.487666\n",
        "         Iterations 7\n",
        "These are the possible_vars so far: ['MONTH_T6']\n",
        "Program encounted an error on column DRUGS_Treatment(9999)_T0\n",
        "These are the possible_vars so far: ['MONTH_T6']\n",
        "Program encounted an error on column DRUGS_Treatment(9999)_T1\n",
        "These are the possible_vars so far:"
       ]
      },
      {
       "output_type": "stream",
       "stream": "stdout",
       "text": [
        " ['MONTH_T6']\n",
        "Program encounted an error on column LOCATION_Treatment(9999)_T1\n",
        "These are the possible_vars so far: ['MONTH_T6']\n",
        "Program encounted an error on column LOCATION_Treatment(9999)_T2\n",
        "These are the possible_vars so far: ['MONTH_T6']\n",
        "Program encounted an error on column LOCATION_Treatment(9999)_T3\n",
        "These are the possible_vars so far: ['MONTH_T6']\n",
        "Program encounted an error on column LOCATION_Treatment(9999)_T9\n",
        "These are the possible_vars so far: ['MONTH_T6']\n",
        "Program encounted an error on column LOCATION_Treatment(9999)_T10\n",
        "These are the possible_vars so far: ['MONTH_T6']\n",
        "Program encounted an error on column LOCATION_Treatment(9999)_T11\n",
        "These are the possible_vars so far: ['MONTH_T6']\n",
        "Program encounted an error on column LOCATION_Treatment(9999)_T13\n",
        "These are the possible_vars so far: ['MONTH_T6']\n",
        "Program encounted an error on column LOCATION_Treatment(9999)_T14\n",
        "These are the possible_vars so far:"
       ]
      },
      {
       "output_type": "stream",
       "stream": "stdout",
       "text": [
        " ['MONTH_T6']\n",
        "Program encounted an error on column LOCATION_Treatment(9999)_T16\n",
        "These are the possible_vars so far: ['MONTH_T6']\n",
        "Program encounted an error on column LOCATION_Treatment(9999)_T20\n",
        "These are the possible_vars so far: ['MONTH_T6']\n",
        "Program encounted an error on column LOCATION_Treatment(9999)_T21\n",
        "These are the possible_vars so far: ['MONTH_T6']\n",
        "Program encounted an error on column LOCATION_Treatment(9999)_T23\n",
        "These are the possible_vars so far: ['MONTH_T6']\n",
        "Program encounted an error on column LOCATION_Treatment(9999)_T25\n",
        "Optimization terminated successfully."
       ]
      },
      {
       "output_type": "stream",
       "stream": "stdout",
       "text": [
        "\n",
        "         Current function value: 0.486833\n",
        "         Iterations 7\n",
        "Optimization terminated successfully."
       ]
      },
      {
       "output_type": "stream",
       "stream": "stdout",
       "text": [
        "\n",
        "         Current function value: 0.487722\n",
        "         Iterations 7\n",
        "These are the possible_vars so far: ['MONTH_T6', 'SEX_IM_T2']\n",
        "Program encounted an error on column TOW_VEH_vehDup_Treatment(9999)_T0\n",
        "These are the possible_vars so far: ['MONTH_T6', 'SEX_IM_T2']\n",
        "Program encounted an error on column TOW_VEH_vehDup_Treatment(9999)_T1\n",
        "These are the possible_vars so far:"
       ]
      },
      {
       "output_type": "stream",
       "stream": "stdout",
       "text": [
        " ['MONTH_T6', 'SEX_IM_T2']\n",
        "Program encounted an error on column GVWR_Treatment(9999)_T0\n",
        "These are the possible_vars so far: ['MONTH_T6', 'SEX_IM_T2']\n",
        "Program encounted an error on column GVWR_Treatment(9999)_T2\n",
        "These are the possible_vars so far: ['MONTH_T6', 'SEX_IM_T2']\n",
        "Program encounted an error on column GVWR_Treatment(9999)_T3\n",
        "These are the possible_vars so far: ['MONTH_T6', 'SEX_IM_T2']\n",
        "Program encounted an error on column V_CONFIG_Treatment(9999)_T0\n",
        "These are the possible_vars so far: ['MONTH_T6', 'SEX_IM_T2']\n",
        "Program encounted an error on column V_CONFIG_Treatment(9999)_T1\n",
        "These are the possible_vars so far: ['MONTH_T6', 'SEX_IM_T2']\n",
        "Program encounted an error on column V_CONFIG_Treatment(9999)_T2\n",
        "These are the possible_vars so far: ['MONTH_T6', 'SEX_IM_T2']\n",
        "Program encounted an error on column V_CONFIG_Treatment(9999)_T4\n",
        "These are the possible_vars so far:"
       ]
      },
      {
       "output_type": "stream",
       "stream": "stdout",
       "text": [
        " ['MONTH_T6', 'SEX_IM_T2']\n",
        "Program encounted an error on column V_CONFIG_Treatment(9999)_T6\n",
        "These are the possible_vars so far: ['MONTH_T6', 'SEX_IM_T2']\n",
        "Program encounted an error on column V_CONFIG_Treatment(9999)_T20\n",
        "These are the possible_vars so far: ['MONTH_T6', 'SEX_IM_T2']\n",
        "Program encounted an error on column V_CONFIG_Treatment(9999)_T21\n",
        "These are the possible_vars so far: ['MONTH_T6', 'SEX_IM_T2']\n",
        "Program encounted an error on column CARGO_BT_Treatment(9999)_T0\n",
        "These are the possible_vars so far: ['MONTH_T6', 'SEX_IM_T2']\n",
        "Program encounted an error on column CARGO_BT_Treatment(9999)_T1\n",
        "These are the possible_vars so far: ['MONTH_T6', 'SEX_IM_T2']\n",
        "Program encounted an error on column CARGO_BT_Treatment(9999)_T2\n",
        "These are the possible_vars so far: ['MONTH_T6', 'SEX_IM_T2']\n",
        "Program encounted an error on column CARGO_BT_Treatment(9999)_T3\n",
        "These are the possible_vars so far: ['MONTH_T6', 'SEX_IM_T2']\n",
        "Program encounted an error on column CARGO_BT_Treatment(9999)_T4\n",
        "These are the possible_vars so far: ['MONTH_T6', 'SEX_IM_T2']\n",
        "Program encounted an error on column CARGO_BT_Treatment(9999)_T6\n",
        "These are the possible_vars so far:"
       ]
      },
      {
       "output_type": "stream",
       "stream": "stdout",
       "text": [
        " ['MONTH_T6', 'SEX_IM_T2']\n",
        "Program encounted an error on column CARGO_BT_Treatment(9999)_T7\n",
        "These are the possible_vars so far: ['MONTH_T6', 'SEX_IM_T2']\n",
        "Program encounted an error on column CARGO_BT_Treatment(9999)_T22\n",
        "These are the possible_vars so far: ['MONTH_T6', 'SEX_IM_T2']\n",
        "Program encounted an error on column CARGO_BT_Treatment(9999)_T28\n",
        "These are the possible_vars so far: ['MONTH_T6', 'SEX_IM_T2']\n",
        "Program encounted an error on column CARGO_BT_Treatment(9999)_T96\n",
        "These are the possible_vars so far: ['MONTH_T6', 'SEX_IM_T2']\n",
        "Program encounted an error on column BUS_USE_Treatment(9999)_T0\n",
        "These are the possible_vars so far: ['MONTH_T6', 'SEX_IM_T2']\n",
        "Program encounted an error on column BUS_USE_Treatment(9999)_T1\n",
        "These are the possible_vars so far: ['MONTH_T6', 'SEX_IM_T2']\n",
        "Program encounted an error on column BUS_USE_Treatment(9999)_T4\n",
        "These are the possible_vars so far: ['MONTH_T6', 'SEX_IM_T2']\n",
        "Program encounted an error on column BUS_USE_Treatment(9999)_T6\n",
        "These are the possible_vars so far: ['MONTH_T6', 'SEX_IM_T2']\n",
        "Program encounted an error on column SPEC_USE_vehDup_Treatment(9999)_T0\n",
        "These are the possible_vars so far:"
       ]
      },
      {
       "output_type": "stream",
       "stream": "stdout",
       "text": [
        " ['MONTH_T6', 'SEX_IM_T2']\n",
        "Program encounted an error on column SPEC_USE_vehDup_Treatment(9999)_T1\n",
        "These are the possible_vars so far: ['MONTH_T6', 'SEX_IM_T2']\n",
        "Program encounted an error on column SPEC_USE_vehDup_Treatment(9999)_T3\n",
        "These are the possible_vars so far: ['MONTH_T6', 'SEX_IM_T2']\n",
        "Program encounted an error on column SPEC_USE_vehDup_Treatment(9999)_T5\n",
        "These are the possible_vars so far: ['MONTH_T6', 'SEX_IM_T2']\n",
        "Program encounted an error on column EMER_USE_vehDup_Treatment(9999)_T0\n",
        "These are the possible_vars so far: ['MONTH_T6', 'SEX_IM_T2']\n",
        "Program encounted an error on column EMER_USE_vehDup_Treatment(9999)_T1\n",
        "These are the possible_vars so far: ['MONTH_T6', 'SEX_IM_T2']\n",
        "Program encounted an error on column IMPACT2_vehDup_Treatment(9999)_T0\n",
        "These are the possible_vars so far: ['MONTH_T6', 'SEX_IM_T2']\n",
        "Program encounted an error on column IMPACT2_vehDup_Treatment(9999)_T1\n",
        "These are the possible_vars so far: ['MONTH_T6', 'SEX_IM_T2']\n",
        "Program encounted an error on column IMPACT2_vehDup_Treatment(9999)_T2\n",
        "These are the possible_vars so far: ['MONTH_T6', 'SEX_IM_T2']\n",
        "Program encounted an error on column IMPACT2_vehDup_Treatment(9999)_T3\n",
        "These are the possible_vars so far:"
       ]
      },
      {
       "output_type": "stream",
       "stream": "stdout",
       "text": [
        " ['MONTH_T6', 'SEX_IM_T2']\n",
        "Program encounted an error on column IMPACT2_vehDup_Treatment(9999)_T4\n",
        "These are the possible_vars so far: ['MONTH_T6', 'SEX_IM_T2']\n",
        "Program encounted an error on column IMPACT2_vehDup_Treatment(9999)_T5\n",
        "These are the possible_vars so far: ['MONTH_T6', 'SEX_IM_T2']\n",
        "Program encounted an error on column IMPACT2_vehDup_Treatment(9999)_T6\n",
        "These are the possible_vars so far: ['MONTH_T6', 'SEX_IM_T2']\n",
        "Program encounted an error on column IMPACT2_vehDup_Treatment(9999)_T7\n",
        "These are the possible_vars so far: ['MONTH_T6', 'SEX_IM_T2']\n",
        "Program encounted an error on column IMPACT2_vehDup_Treatment(9999)_T8\n",
        "These are the possible_vars so far: ['MONTH_T6', 'SEX_IM_T2']\n",
        "Program encounted an error on column IMPACT2_vehDup_Treatment(9999)_T9\n",
        "These are the possible_vars so far: ['MONTH_T6', 'SEX_IM_T2']\n",
        "Program encounted an error on column IMPACT2_vehDup_Treatment(9999)_T10\n",
        "These are the possible_vars so far: ['MONTH_T6', 'SEX_IM_T2']\n",
        "Program encounted an error on column IMPACT2_vehDup_Treatment(9999)_T11\n",
        "These are the possible_vars so far: ['MONTH_T6', 'SEX_IM_T2']\n",
        "Program encounted an error on column IMPACT2_vehDup_Treatment(9999)_T12\n",
        "These are the possible_vars so far:"
       ]
      },
      {
       "output_type": "stream",
       "stream": "stdout",
       "text": [
        " ['MONTH_T6', 'SEX_IM_T2']\n",
        "Program encounted an error on column IMPACT2_vehDup_Treatment(9999)_T13\n",
        "These are the possible_vars so far: ['MONTH_T6', 'SEX_IM_T2']\n",
        "Program encounted an error on column IMPACT2_vehDup_Treatment(9999)_T14\n",
        "These are the possible_vars so far: ['MONTH_T6', 'SEX_IM_T2']\n",
        "Program encounted an error on column IMPACT2_vehDup_Treatment(9999)_T61\n",
        "These are the possible_vars so far: ['MONTH_T6', 'SEX_IM_T2']\n",
        "Program encounted an error on column IMPACT2_vehDup_Treatment(9999)_T62\n",
        "These are the possible_vars so far: ['MONTH_T6', 'SEX_IM_T2']\n",
        "Program encounted an error on column IMPACT2_vehDup_Treatment(9999)_T63\n",
        "These are the possible_vars so far: ['MONTH_T6', 'SEX_IM_T2']\n",
        "Program encounted an error on column IMPACT2_vehDup_Treatment(9999)_T81\n",
        "These are the possible_vars so far: ['MONTH_T6', 'SEX_IM_T2']\n",
        "Program encounted an error on column IMPACT2_vehDup_Treatment(9999)_T82\n",
        "These are the possible_vars so far: ['MONTH_T6', 'SEX_IM_T2']\n",
        "Program encounted an error on column IMPACT2_vehDup_Treatment(9999)_T83\n",
        "These are the possible_vars so far: ['MONTH_T6', 'SEX_IM_T2']\n",
        "Program encounted an error on column SPEEDREL_Treatment(9999)_T0\n",
        "These are the possible_vars so far:"
       ]
      },
      {
       "output_type": "stream",
       "stream": "stdout",
       "text": [
        " ['MONTH_T6', 'SEX_IM_T2']\n",
        "Program encounted an error on column SPEEDREL_Treatment(9999)_T1\n",
        "These are the possible_vars so far: ['MONTH_T6', 'SEX_IM_T2']\n",
        "Program encounted an error on column VTRAFWAY_Treatment(9999)_T0\n",
        "These are the possible_vars so far: ['MONTH_T6', 'SEX_IM_T2']\n",
        "Program encounted an error on column VTRAFWAY_Treatment(9999)_T1\n",
        "These are the possible_vars so far: ['MONTH_T6', 'SEX_IM_T2']\n",
        "Program encounted an error on column VTRAFWAY_Treatment(9999)_T2\n",
        "These are the possible_vars so far: ['MONTH_T6', 'SEX_IM_T2']\n",
        "Program encounted an error on column VTRAFWAY_Treatment(9999)_T3\n",
        "These are the possible_vars so far: ['MONTH_T6', 'SEX_IM_T2']\n",
        "Program encounted an error on column VTRAFWAY_Treatment(9999)_T4\n",
        "These are the possible_vars so far: ['MONTH_T6', 'SEX_IM_T2']\n",
        "Program encounted an error on column VTRAFWAY_Treatment(9999)_T5\n",
        "These are the possible_vars so far: ['MONTH_T6', 'SEX_IM_T2']\n",
        "Program encounted an error on column VTRAFWAY_Treatment(9999)_T6\n",
        "These are the possible_vars so far: ['MONTH_T6', 'SEX_IM_T2']\n",
        "Program encounted an error on column VALIGN_Treatment(9999)_T0\n",
        "These are the possible_vars so far:"
       ]
      },
      {
       "output_type": "stream",
       "stream": "stdout",
       "text": [
        " ['MONTH_T6', 'SEX_IM_T2']\n",
        "Program encounted an error on column VALIGN_Treatment(9999)_T1\n",
        "These are the possible_vars so far: ['MONTH_T6', 'SEX_IM_T2']\n",
        "Program encounted an error on column VALIGN_Treatment(9999)_T2\n",
        "These are the possible_vars so far: ['MONTH_T6', 'SEX_IM_T2']\n",
        "Program encounted an error on column VALIGN_Treatment(9999)_T3\n",
        "These are the possible_vars so far: ['MONTH_T6', 'SEX_IM_T2']\n",
        "Program encounted an error on column VALIGN_Treatment(9999)_T4\n",
        "These are the possible_vars so far: ['MONTH_T6', 'SEX_IM_T2']\n",
        "Program encounted an error on column VPROFILE_Treatment(9999)_T0\n",
        "These are the possible_vars so far: ['MONTH_T6', 'SEX_IM_T2']\n",
        "Program encounted an error on column VPROFILE_Treatment(9999)_T1\n",
        "These are the possible_vars so far: ['MONTH_T6', 'SEX_IM_T2']\n",
        "Program encounted an error on column VPROFILE_Treatment(9999)_T2\n",
        "These are the possible_vars so far: ['MONTH_T6', 'SEX_IM_T2']\n",
        "Program encounted an error on column VPROFILE_Treatment(9999)_T3\n",
        "These are the possible_vars so far: ['MONTH_T6', 'SEX_IM_T2']\n",
        "Program encounted an error on column VPROFILE_Treatment(9999)_T4\n",
        "These are the possible_vars so far:"
       ]
      },
      {
       "output_type": "stream",
       "stream": "stdout",
       "text": [
        " ['MONTH_T6', 'SEX_IM_T2']\n",
        "Program encounted an error on column VPROFILE_Treatment(9999)_T5\n",
        "These are the possible_vars so far: ['MONTH_T6', 'SEX_IM_T2']\n",
        "Program encounted an error on column VPROFILE_Treatment(9999)_T6\n",
        "These are the possible_vars so far: ['MONTH_T6', 'SEX_IM_T2']\n",
        "Program encounted an error on column VSURCOND_Treatment(9999)_T0\n",
        "These are the possible_vars so far: ['MONTH_T6', 'SEX_IM_T2']\n",
        "Program encounted an error on column VSURCOND_Treatment(9999)_T1\n",
        "These are the possible_vars so far: ['MONTH_T6', 'SEX_IM_T2']\n",
        "Program encounted an error on column VSURCOND_Treatment(9999)_T2\n",
        "These are the possible_vars so far: ['MONTH_T6', 'SEX_IM_T2']\n",
        "Program encounted an error on column VSURCOND_Treatment(9999)_T3\n",
        "These are the possible_vars so far: ['MONTH_T6', 'SEX_IM_T2']\n",
        "Program encounted an error on column VSURCOND_Treatment(9999)_T4\n",
        "These are the possible_vars so far: ['MONTH_T6', 'SEX_IM_T2']\n",
        "Program encounted an error on column VSURCOND_Treatment(9999)_T8\n",
        "These are the possible_vars so far: ['MONTH_T6', 'SEX_IM_T2']\n",
        "Program encounted an error on column VTRAFCON_Treatment(9999)_T0\n",
        "These are the possible_vars so far:"
       ]
      },
      {
       "output_type": "stream",
       "stream": "stdout",
       "text": [
        " ['MONTH_T6', 'SEX_IM_T2']\n",
        "Program encounted an error on column VTRAFCON_Treatment(9999)_T2\n",
        "These are the possible_vars so far: ['MONTH_T6', 'SEX_IM_T2']\n",
        "Program encounted an error on column VTRAFCON_Treatment(9999)_T3\n",
        "These are the possible_vars so far: ['MONTH_T6', 'SEX_IM_T2']\n",
        "Program encounted an error on column VTRAFCON_Treatment(9999)_T4\n",
        "These are the possible_vars so far: ['MONTH_T6', 'SEX_IM_T2']\n",
        "Program encounted an error on column VTRAFCON_Treatment(9999)_T20\n",
        "These are the possible_vars so far: ['MONTH_T6', 'SEX_IM_T2']\n",
        "Program encounted an error on column VTRAFCON_Treatment(9999)_T21\n",
        "These are the possible_vars so far: ['MONTH_T6', 'SEX_IM_T2']\n",
        "Program encounted an error on column VTRAFCON_Treatment(9999)_T40\n",
        "These are the possible_vars so far: ['MONTH_T6', 'SEX_IM_T2']\n",
        "Program encounted an error on column VTRAFCON_Treatment(9999)_T50\n",
        "These are the possible_vars so far: ['MONTH_T6', 'SEX_IM_T2']\n",
        "Program encounted an error on column VTCONT_F_Treatment(9999)_T0\n",
        "These are the possible_vars so far: ['MONTH_T6', 'SEX_IM_T2']\n",
        "Program encounted an error on column VTCONT_F_Treatment(9999)_T2\n",
        "These are the possible_vars so far:"
       ]
      },
      {
       "output_type": "stream",
       "stream": "stdout",
       "text": [
        " ['MONTH_T6', 'SEX_IM_T2']\n",
        "Program encounted an error on column VTCONT_F_Treatment(9999)_T3\n",
        "These are the possible_vars so far: ['MONTH_T6', 'SEX_IM_T2']\n",
        "Program encounted an error on column P_CRASH2_Treatment(9999)_T4\n",
        "These are the possible_vars so far: ['MONTH_T6', 'SEX_IM_T2']\n",
        "Program encounted an error on column P_CRASH2_Treatment(9999)_T6\n",
        "These are the possible_vars so far: ['MONTH_T6', 'SEX_IM_T2']\n",
        "Program encounted an error on column P_CRASH2_Treatment(9999)_T10\n",
        "These are the possible_vars so far: ['MONTH_T6', 'SEX_IM_T2']\n",
        "Program encounted an error on column P_CRASH2_Treatment(9999)_T11\n",
        "These are the possible_vars so far: ['MONTH_T6', 'SEX_IM_T2']\n",
        "Program encounted an error on column P_CRASH2_Treatment(9999)_T12\n",
        "These are the possible_vars so far: ['MONTH_T6', 'SEX_IM_T2']\n",
        "Program encounted an error on column P_CRASH2_Treatment(9999)_T13\n",
        "These are the possible_vars so far: ['MONTH_T6', 'SEX_IM_T2']\n",
        "Program encounted an error on column P_CRASH2_Treatment(9999)_T15\n",
        "These are the possible_vars so far: ['MONTH_T6', 'SEX_IM_T2']\n",
        "Program encounted an error on column P_CRASH2_Treatment(9999)_T16\n",
        "These are the possible_vars so far:"
       ]
      },
      {
       "output_type": "stream",
       "stream": "stdout",
       "text": [
        " ['MONTH_T6', 'SEX_IM_T2']\n",
        "Program encounted an error on column P_CRASH2_Treatment(9999)_T17\n",
        "These are the possible_vars so far: ['MONTH_T6', 'SEX_IM_T2']\n",
        "Program encounted an error on column P_CRASH2_Treatment(9999)_T18\n",
        "These are the possible_vars so far: ['MONTH_T6', 'SEX_IM_T2']\n",
        "Program encounted an error on column P_CRASH2_Treatment(9999)_T51\n",
        "These are the possible_vars so far: ['MONTH_T6', 'SEX_IM_T2']\n",
        "Program encounted an error on column P_CRASH2_Treatment(9999)_T64\n",
        "These are the possible_vars so far: ['MONTH_T6', 'SEX_IM_T2']\n",
        "Program encounted an error on column P_CRASH2_Treatment(9999)_T80\n",
        "These are the possible_vars so far: ['MONTH_T6', 'SEX_IM_T2']\n",
        "Program encounted an error on column P_CRASH2_Treatment(9999)_T81\n",
        "These are the possible_vars so far: ['MONTH_T6', 'SEX_IM_T2']\n",
        "Program encounted an error on column P_CRASH2_Treatment(9999)_T82\n",
        "These are the possible_vars so far: ['MONTH_T6', 'SEX_IM_T2']\n",
        "Program encounted an error on column P_CRASH2_Treatment(9999)_T83\n",
        "These are the possible_vars so far: ['MONTH_T6', 'SEX_IM_T2']\n",
        "Program encounted an error on column P_CRASH2_Treatment(9999)_T84\n",
        "These are the possible_vars so far: ['MONTH_T6', 'SEX_IM_T2']"
       ]
      },
      {
       "output_type": "stream",
       "stream": "stdout",
       "text": [
        "\n",
        "Program encounted an error on column P_CRASH2_Treatment(9999)_T85\n",
        "These are the possible_vars so far: ['MONTH_T6', 'SEX_IM_T2']\n",
        "Program encounted an error on column P_CRASH2_Treatment(9999)_T99\n",
        "These are the possible_vars so far: ['MONTH_T6', 'SEX_IM_T2']\n",
        "Program encounted an error on column P_CRASH3_Treatment(9999)_T0\n",
        "These are the possible_vars so far: ['MONTH_T6', 'SEX_IM_T2']\n",
        "Program encounted an error on column P_CRASH3_Treatment(9999)_T1\n",
        "These are the possible_vars so far: ['MONTH_T6', 'SEX_IM_T2']\n",
        "Program encounted an error on column P_CRASH3_Treatment(9999)_T2\n",
        "These are the possible_vars so far: ['MONTH_T6', 'SEX_IM_T2']\n",
        "Program encounted an error on column P_CRASH3_Treatment(9999)_T3\n",
        "These are the possible_vars so far: ['MONTH_T6', 'SEX_IM_T2']\n",
        "Program encounted an error on column P_CRASH3_Treatment(9999)_T4\n",
        "These are the possible_vars so far: ['MONTH_T6', 'SEX_IM_T2']\n",
        "Program encounted an error on column P_CRASH3_Treatment(9999)_T6\n",
        "These are the possible_vars so far: ['MONTH_T6', 'SEX_IM_T2']\n",
        "Program encounted an error on column P_CRASH3_Treatment(9999)_T7\n",
        "These are the possible_vars so far:"
       ]
      },
      {
       "output_type": "stream",
       "stream": "stdout",
       "text": [
        " ['MONTH_T6', 'SEX_IM_T2']\n",
        "Program encounted an error on column P_CRASH3_Treatment(9999)_T8\n",
        "These are the possible_vars so far: ['MONTH_T6', 'SEX_IM_T2']\n",
        "Program encounted an error on column P_CRASH3_Treatment(9999)_T9\n",
        "These are the possible_vars so far: ['MONTH_T6', 'SEX_IM_T2']\n",
        "Program encounted an error on column P_CRASH3_Treatment(9999)_T11\n",
        "These are the possible_vars so far: ['MONTH_T6', 'SEX_IM_T2']\n",
        "Program encounted an error on column PCRASH4_Treatment(9999)_T0\n",
        "These are the possible_vars so far: ['MONTH_T6', 'SEX_IM_T2']\n",
        "Program encounted an error on column PCRASH4_Treatment(9999)_T1\n",
        "These are the possible_vars so far: ['MONTH_T6', 'SEX_IM_T2']\n",
        "Program encounted an error on column PCRASH4_Treatment(9999)_T2\n",
        "These are the possible_vars so far: ['MONTH_T6', 'SEX_IM_T2']\n",
        "Program encounted an error on column PCRASH5_Treatment(9999)_T0\n",
        "These are the possible_vars so far: ['MONTH_T6', 'SEX_IM_T2']\n",
        "Program encounted an error on column PCRASH5_Treatment(9999)_T1\n",
        "These are the possible_vars so far:"
       ]
      },
      {
       "output_type": "stream",
       "stream": "stdout",
       "text": [
        " ['MONTH_T6', 'SEX_IM_T2']\n",
        "Program encounted an error on column PCRASH5_Treatment(9999)_T2\n",
        "These are the possible_vars so far: ['MONTH_T6', 'SEX_IM_T2']\n",
        "Program encounted an error on column PCRASH5_Treatment(9999)_T3\n",
        "These are the possible_vars so far: ['MONTH_T6', 'SEX_IM_T2']\n",
        "Program encounted an error on column PCRASH5_Treatment(9999)_T4\n",
        "These are the possible_vars so far: ['MONTH_T6', 'SEX_IM_T2']\n",
        "Program encounted an error on column PCRASH5_Treatment(9999)_T5\n",
        "These are the possible_vars so far: ['MONTH_T6', 'SEX_IM_T2']\n",
        "Program encounted an error on column PCRASH5_Treatment(9999)_T7\n",
        "These are the possible_vars so far: ['MONTH_T6', 'SEX_IM_T2']\n",
        "Program encounted an error on column ACC_TYPE_Treatment(9999)_T1\n",
        "These are the possible_vars so far: ['MONTH_T6', 'SEX_IM_T2']\n",
        "Program encounted an error on column ACC_TYPE_Treatment(9999)_T2\n",
        "These are the possible_vars so far: ['MONTH_T6', 'SEX_IM_T2']\n",
        "Program encounted an error on column ACC_TYPE_Treatment(9999)_T6\n",
        "These are the possible_vars so far: ['MONTH_T6', 'SEX_IM_T2']\n",
        "Program encounted an error on column ACC_TYPE_Treatment(9999)_T13\n",
        "These are the possible_vars so far:"
       ]
      },
      {
       "output_type": "stream",
       "stream": "stdout",
       "text": [
        " ['MONTH_T6', 'SEX_IM_T2']\n",
        "Program encounted an error on column ACC_TYPE_Treatment(9999)_T50\n",
        "These are the possible_vars so far: ['MONTH_T6', 'SEX_IM_T2']\n",
        "Program encounted an error on column ACC_TYPE_Treatment(9999)_T92\n",
        "Optimization terminated successfully."
       ]
      },
      {
       "output_type": "stream",
       "stream": "stdout",
       "text": [
        "\n",
        "         Current function value: 0.487555\n",
        "         Iterations 7\n",
        "Optimization terminated successfully."
       ]
      },
      {
       "output_type": "stream",
       "stream": "stdout",
       "text": [
        "\n",
        "         Current function value: 0.486159\n",
        "         Iterations 7\n",
        "Warning: Maximum number of iterations has been exceeded."
       ]
      },
      {
       "output_type": "stream",
       "stream": "stdout",
       "text": [
        "\n",
        "         Current function value: 0.485093\n",
        "         Iterations: 100\n",
        "Optimization terminated successfully."
       ]
      },
      {
       "output_type": "stream",
       "stream": "stdout",
       "text": [
        "\n",
        "         Current function value: 0.487742\n",
        "         Iterations 7\n",
        "Optimization terminated successfully."
       ]
      },
      {
       "output_type": "stream",
       "stream": "stdout",
       "text": [
        "\n",
        "         Current function value: 0.487717\n",
        "         Iterations 7\n",
        "Optimization terminated successfully."
       ]
      },
      {
       "output_type": "stream",
       "stream": "stdout",
       "text": [
        "\n",
        "         Current function value: 0.486064\n",
        "         Iterations 7\n",
        "Optimization terminated successfully."
       ]
      },
      {
       "output_type": "stream",
       "stream": "stdout",
       "text": [
        "\n",
        "         Current function value: 0.487516\n",
        "         Iterations 7\n",
        "Optimization terminated successfully."
       ]
      },
      {
       "output_type": "stream",
       "stream": "stdout",
       "text": [
        "\n",
        "         Current function value: 0.487442\n",
        "         Iterations 7\n",
        "Optimization terminated successfully."
       ]
      },
      {
       "output_type": "stream",
       "stream": "stdout",
       "text": [
        "\n",
        "         Current function value: 0.482369\n",
        "         Iterations 7\n",
        "These are the possible_vars so far:"
       ]
      },
      {
       "output_type": "stream",
       "stream": "stdout",
       "text": [
        " ['MONTH_T6', 'SEX_IM_T2', 'BDYTYP_IM_T2', 'BDYTYP_IM_T6', 'BDYTYP_IM_T9']\n",
        "Program encounted an error on column BDYTYP_IM_T12\n",
        "Optimization terminated successfully."
       ]
      },
      {
       "output_type": "stream",
       "stream": "stdout",
       "text": [
        "\n",
        "         Current function value: 0.485996\n",
        "         Iterations 7\n",
        "Optimization terminated successfully."
       ]
      },
      {
       "output_type": "stream",
       "stream": "stdout",
       "text": [
        "\n",
        "         Current function value: 0.487586\n",
        "         Iterations 7\n",
        "These are the possible_vars so far:"
       ]
      },
      {
       "output_type": "stream",
       "stream": "stdout",
       "text": [
        " ['MONTH_T6', 'SEX_IM_T2', 'BDYTYP_IM_T2', 'BDYTYP_IM_T6', 'BDYTYP_IM_T9', 'BDYTYP_IM_T14']\n",
        "Program encounted an error on column BDYTYP_IM_T16\n",
        "Warning: Maximum number of iterations has been exceeded."
       ]
      },
      {
       "output_type": "stream",
       "stream": "stdout",
       "text": [
        "\n",
        "         Current function value: 0.487595\n",
        "         Iterations: 100\n",
        "Optimization terminated successfully."
       ]
      },
      {
       "output_type": "stream",
       "stream": "stdout",
       "text": [
        "\n",
        "         Current function value: 0.487749\n",
        "         Iterations 7\n",
        "Optimization terminated successfully."
       ]
      },
      {
       "output_type": "stream",
       "stream": "stdout",
       "text": [
        "\n",
        "         Current function value: 0.487734\n",
        "         Iterations 7\n",
        "Optimization terminated successfully."
       ]
      },
      {
       "output_type": "stream",
       "stream": "stdout",
       "text": [
        "\n",
        "         Current function value: 0.487545\n",
        "         Iterations 7\n",
        "Optimization terminated successfully."
       ]
      },
      {
       "output_type": "stream",
       "stream": "stdout",
       "text": [
        "\n",
        "         Current function value: 0.487751\n",
        "         Iterations 7\n",
        "Optimization terminated successfully."
       ]
      },
      {
       "output_type": "stream",
       "stream": "stdout",
       "text": [
        "\n",
        "         Current function value: 0.487376\n",
        "         Iterations 7\n",
        "Optimization terminated successfully."
       ]
      },
      {
       "output_type": "stream",
       "stream": "stdout",
       "text": [
        "\n",
        "         Current function value: 0.487633\n",
        "         Iterations 7\n",
        "Optimization terminated successfully."
       ]
      },
      {
       "output_type": "stream",
       "stream": "stdout",
       "text": [
        "\n",
        "         Current function value: 0.487446\n",
        "         Iterations 7\n",
        "These are the possible_vars so far:"
       ]
      },
      {
       "output_type": "stream",
       "stream": "stdout",
       "text": [
        " ['MONTH_T6', 'SEX_IM_T2', 'BDYTYP_IM_T2', 'BDYTYP_IM_T6', 'BDYTYP_IM_T9', 'BDYTYP_IM_T14']\n",
        "Program encounted an error on column BDYTYP_IM_T40\n",
        "Warning: Maximum number of iterations has been exceeded."
       ]
      },
      {
       "output_type": "stream",
       "stream": "stdout",
       "text": [
        "\n",
        "         Current function value: 0.487595\n",
        "         Iterations: 100\n",
        "Warning: Maximum number of iterations has been exceeded."
       ]
      },
      {
       "output_type": "stream",
       "stream": "stdout",
       "text": [
        "\n",
        "         Current function value: 0.487595\n",
        "         Iterations: 100\n",
        "These are the possible_vars so far:"
       ]
      },
      {
       "output_type": "stream",
       "stream": "stdout",
       "text": [
        " ['MONTH_T6', 'SEX_IM_T2', 'BDYTYP_IM_T2', 'BDYTYP_IM_T6', 'BDYTYP_IM_T9', 'BDYTYP_IM_T14']\n",
        "Program encounted an error on column BDYTYP_IM_T51\n",
        "Warning: Maximum number of iterations has been exceeded."
       ]
      },
      {
       "output_type": "stream",
       "stream": "stdout",
       "text": [
        "\n",
        "         Current function value: 0.486613\n",
        "         Iterations: 100\n",
        "Warning: Maximum number of iterations has been exceeded."
       ]
      },
      {
       "output_type": "stream",
       "stream": "stdout",
       "text": [
        "\n",
        "         Current function value: 0.487361\n",
        "         Iterations: 100\n",
        "These are the possible_vars so far:"
       ]
      },
      {
       "output_type": "stream",
       "stream": "stdout",
       "text": [
        " ['MONTH_T6', 'SEX_IM_T2', 'BDYTYP_IM_T2', 'BDYTYP_IM_T6', 'BDYTYP_IM_T9', 'BDYTYP_IM_T14']\n",
        "Program encounted an error on column BDYTYP_IM_T59\n",
        "Warning: Maximum number of iterations has been exceeded."
       ]
      },
      {
       "output_type": "stream",
       "stream": "stdout",
       "text": [
        "\n",
        "         Current function value: 0.487595\n",
        "         Iterations: 100\n",
        "Optimization terminated successfully."
       ]
      },
      {
       "output_type": "stream",
       "stream": "stdout",
       "text": [
        "\n",
        "         Current function value: 0.487751\n",
        "         Iterations 7\n",
        "Optimization terminated successfully."
       ]
      },
      {
       "output_type": "stream",
       "stream": "stdout",
       "text": [
        "\n",
        "         Current function value: 0.487677\n",
        "         Iterations 7\n",
        "Optimization terminated successfully."
       ]
      },
      {
       "output_type": "stream",
       "stream": "stdout",
       "text": [
        "\n",
        "         Current function value: 0.487582\n",
        "         Iterations 7\n",
        "Warning: Maximum number of iterations has been exceeded."
       ]
      },
      {
       "output_type": "stream",
       "stream": "stdout",
       "text": [
        "\n",
        "         Current function value: 0.486289\n",
        "         Iterations: 100\n",
        "Optimization terminated successfully."
       ]
      },
      {
       "output_type": "stream",
       "stream": "stdout",
       "text": [
        "\n",
        "         Current function value: 0.487462\n",
        "         Iterations 7\n",
        "Optimization terminated successfully."
       ]
      },
      {
       "output_type": "stream",
       "stream": "stdout",
       "text": [
        "\n",
        "         Current function value: 0.487644\n",
        "         Iterations 7\n",
        "Optimization terminated successfully."
       ]
      },
      {
       "output_type": "stream",
       "stream": "stdout",
       "text": [
        "\n",
        "         Current function value: 0.487263\n",
        "         Iterations 7\n",
        "These are the possible_vars so far:"
       ]
      },
      {
       "output_type": "stream",
       "stream": "stdout",
       "text": [
        " ['MONTH_T6', 'SEX_IM_T2', 'BDYTYP_IM_T2', 'BDYTYP_IM_T6', 'BDYTYP_IM_T9', 'BDYTYP_IM_T14']\n",
        "Program encounted an error on column BDYTYP_IM_T94\n",
        "These are the possible_vars so far:"
       ]
      },
      {
       "output_type": "stream",
       "stream": "stdout",
       "text": [
        " ['MONTH_T6', 'SEX_IM_T2', 'BDYTYP_IM_T2', 'BDYTYP_IM_T6', 'BDYTYP_IM_T9', 'BDYTYP_IM_T14']\n",
        "Program encounted an error on column BDYTYP_IM_T97\n",
        "Optimization terminated successfully."
       ]
      },
      {
       "output_type": "stream",
       "stream": "stdout",
       "text": [
        "\n",
        "         Current function value: 0.486846\n",
        "         Iterations 7\n",
        "Optimization terminated successfully."
       ]
      },
      {
       "output_type": "stream",
       "stream": "stdout",
       "text": [
        "\n",
        "         Current function value: 0.487711\n",
        "         Iterations 7\n",
        "Optimization terminated successfully."
       ]
      },
      {
       "output_type": "stream",
       "stream": "stdout",
       "text": [
        "\n",
        "         Current function value: 0.487751\n",
        "         Iterations 7\n",
        "Optimization terminated successfully."
       ]
      },
      {
       "output_type": "stream",
       "stream": "stdout",
       "text": [
        "\n",
        "         Current function value: 0.487536\n",
        "         Iterations 7\n",
        "Optimization terminated successfully."
       ]
      },
      {
       "output_type": "stream",
       "stream": "stdout",
       "text": [
        "\n",
        "         Current function value: 0.487719\n",
        "         Iterations 7\n",
        "Optimization terminated successfully."
       ]
      },
      {
       "output_type": "stream",
       "stream": "stdout",
       "text": [
        "\n",
        "         Current function value: 0.487705\n",
        "         Iterations 7\n",
        "Optimization terminated successfully."
       ]
      },
      {
       "output_type": "stream",
       "stream": "stdout",
       "text": [
        "\n",
        "         Current function value: 0.487630\n",
        "         Iterations 7\n",
        "Optimization terminated successfully."
       ]
      },
      {
       "output_type": "stream",
       "stream": "stdout",
       "text": [
        "\n",
        "         Current function value: 0.487601\n",
        "         Iterations 7\n",
        "Optimization terminated successfully."
       ]
      },
      {
       "output_type": "stream",
       "stream": "stdout",
       "text": [
        "\n",
        "         Current function value: 0.487658\n",
        "         Iterations 7\n",
        "Optimization terminated successfully."
       ]
      },
      {
       "output_type": "stream",
       "stream": "stdout",
       "text": [
        "\n",
        "         Current function value: 0.486602\n",
        "         Iterations 7\n",
        "Optimization terminated successfully."
       ]
      },
      {
       "output_type": "stream",
       "stream": "stdout",
       "text": [
        "\n",
        "         Current function value: 0.487751\n",
        "         Iterations 7\n",
        "Optimization terminated successfully."
       ]
      },
      {
       "output_type": "stream",
       "stream": "stdout",
       "text": [
        "\n",
        "         Current function value: 0.487452\n",
        "         Iterations 7\n",
        "Warning: Maximum number of iterations has been exceeded."
       ]
      },
      {
       "output_type": "stream",
       "stream": "stdout",
       "text": [
        "\n",
        "         Current function value: 0.487311\n",
        "         Iterations: 100\n",
        "Warning: Maximum number of iterations has been exceeded."
       ]
      },
      {
       "output_type": "stream",
       "stream": "stdout",
       "text": [
        "\n",
        "         Current function value: 0.487595\n",
        "         Iterations: 100\n",
        "These are the possible_vars so far:"
       ]
      },
      {
       "output_type": "stream",
       "stream": "stdout",
       "text": [
        " ['MONTH_T6', 'SEX_IM_T2', 'BDYTYP_IM_T2', 'BDYTYP_IM_T6', 'BDYTYP_IM_T9', 'BDYTYP_IM_T14', 'IMPACT1_IM_T1', 'IMPACT1_IM_T10']\n",
        "Program encounted an error on column IMPACT1_IM_T61\n",
        "Optimization terminated successfully.\n",
        "         Current function value: 0.486548\n",
        "         Iterations 7\n",
        "Optimization terminated successfully."
       ]
      },
      {
       "output_type": "stream",
       "stream": "stdout",
       "text": [
        "\n",
        "         Current function value: 0.487510\n",
        "         Iterations 7\n",
        "Optimization terminated successfully."
       ]
      },
      {
       "output_type": "stream",
       "stream": "stdout",
       "text": [
        "\n",
        "         Current function value: 0.487723\n",
        "         Iterations 7\n",
        "Optimization terminated successfully."
       ]
      },
      {
       "output_type": "stream",
       "stream": "stdout",
       "text": [
        "\n",
        "         Current function value: 0.487337\n",
        "         Iterations 7\n",
        "Optimization terminated successfully."
       ]
      },
      {
       "output_type": "stream",
       "stream": "stdout",
       "text": [
        "\n",
        "         Current function value: 0.487393\n",
        "         Iterations 7\n",
        "Warning: Maximum number of iterations has been exceeded."
       ]
      },
      {
       "output_type": "stream",
       "stream": "stdout",
       "text": [
        "\n",
        "         Current function value: 0.487752\n",
        "         Iterations: 100\n",
        "Optimization terminated successfully."
       ]
      },
      {
       "output_type": "stream",
       "stream": "stdout",
       "text": [
        "\n",
        "         Current function value: 0.487750\n",
        "         Iterations 7\n",
        "Optimization terminated successfully."
       ]
      },
      {
       "output_type": "stream",
       "stream": "stdout",
       "text": [
        "\n",
        "         Current function value: 0.487735\n",
        "         Iterations 7\n",
        "Optimization terminated successfully."
       ]
      },
      {
       "output_type": "stream",
       "stream": "stdout",
       "text": [
        "\n",
        "         Current function value: 0.487731\n",
        "         Iterations 7\n",
        "Optimization terminated successfully."
       ]
      },
      {
       "output_type": "stream",
       "stream": "stdout",
       "text": [
        "\n",
        "         Current function value: 0.487699\n",
        "         Iterations 7\n",
        "Warning: Maximum number of iterations has been exceeded."
       ]
      },
      {
       "output_type": "stream",
       "stream": "stdout",
       "text": [
        "\n",
        "         Current function value: 0.487595\n",
        "         Iterations: 100\n",
        "Warning: Maximum number of iterations has been exceeded."
       ]
      },
      {
       "output_type": "stream",
       "stream": "stdout",
       "text": [
        "\n",
        "         Current function value: 0.487279\n",
        "         Iterations: 100\n",
        "Optimization terminated successfully."
       ]
      },
      {
       "output_type": "stream",
       "stream": "stdout",
       "text": [
        "\n",
        "         Current function value: 0.487118\n",
        "         Iterations 7\n",
        "Optimization terminated successfully."
       ]
      },
      {
       "output_type": "stream",
       "stream": "stdout",
       "text": [
        "\n",
        "         Current function value: 0.487095\n",
        "         Iterations 7\n",
        "Optimization terminated successfully."
       ]
      },
      {
       "output_type": "stream",
       "stream": "stdout",
       "text": [
        "\n",
        "         Current function value: 0.486741\n",
        "         Iterations 7\n",
        "Optimization terminated successfully."
       ]
      },
      {
       "output_type": "stream",
       "stream": "stdout",
       "text": [
        "\n",
        "         Current function value: 0.487751\n",
        "         Iterations 7\n",
        "Warning: Maximum number of iterations has been exceeded."
       ]
      },
      {
       "output_type": "stream",
       "stream": "stdout",
       "text": [
        "\n",
        "         Current function value: 0.486487\n",
        "         Iterations: 100\n",
        "Optimization terminated successfully."
       ]
      },
      {
       "output_type": "stream",
       "stream": "stdout",
       "text": [
        "\n",
        "         Current function value: 0.486885\n",
        "         Iterations 7\n",
        "Warning: Maximum number of iterations has been exceeded."
       ]
      },
      {
       "output_type": "stream",
       "stream": "stdout",
       "text": [
        "\n",
        "         Current function value: 0.486963\n",
        "         Iterations: 100\n",
        "Warning: Maximum number of iterations has been exceeded."
       ]
      },
      {
       "output_type": "stream",
       "stream": "stdout",
       "text": [
        "\n",
        "         Current function value: 0.487595\n",
        "         Iterations: 100\n",
        "Warning: Maximum number of iterations has been exceeded."
       ]
      },
      {
       "output_type": "stream",
       "stream": "stdout",
       "text": [
        "\n",
        "         Current function value: 0.486168\n",
        "         Iterations: 100\n",
        "Optimization terminated successfully."
       ]
      },
      {
       "output_type": "stream",
       "stream": "stdout",
       "text": [
        "\n",
        "         Current function value: 0.486808\n",
        "         Iterations 7\n",
        "These are the possible_vars so far: ['MONTH_T6', 'SEX_IM_T2', 'BDYTYP_IM_T2', 'BDYTYP_IM_T6', 'BDYTYP_IM_T9', 'BDYTYP_IM_T14', 'IMPACT1_IM_T1', 'IMPACT1_IM_T10', 'IMPACT1_IM_T62', 'PCRASH1_IM_T11', 'PCRASH1_IM_T14', 'V_ALCH_IM_T2']\n",
        "Program encounted an error on column LAND_USE_Treatment(9999)_T1\n",
        "These are the possible_vars so far: ['MONTH_T6', 'SEX_IM_T2', 'BDYTYP_IM_T2', 'BDYTYP_IM_T6', 'BDYTYP_IM_T9', 'BDYTYP_IM_T14', 'IMPACT1_IM_T1', 'IMPACT1_IM_T10', 'IMPACT1_IM_T62', 'PCRASH1_IM_T11', 'PCRASH1_IM_T14', 'V_ALCH_IM_T2']\n",
        "Program encounted an error on column LAND_USE_Treatment(9999)_T2\n",
        "These are the possible_vars so far: "
       ]
      },
      {
       "output_type": "stream",
       "stream": "stdout",
       "text": [
        "['MONTH_T6', 'SEX_IM_T2', 'BDYTYP_IM_T2', 'BDYTYP_IM_T6', 'BDYTYP_IM_T9', 'BDYTYP_IM_T14', 'IMPACT1_IM_T1', 'IMPACT1_IM_T10', 'IMPACT1_IM_T62', 'PCRASH1_IM_T11', 'PCRASH1_IM_T14', 'V_ALCH_IM_T2']\n",
        "Program encounted an error on column LAND_USE_Treatment(9999)_T3\n",
        "These are the possible_vars so far: ['MONTH_T6', 'SEX_IM_T2', 'BDYTYP_IM_T2', 'BDYTYP_IM_T6', 'BDYTYP_IM_T9', 'BDYTYP_IM_T14', 'IMPACT1_IM_T1', 'IMPACT1_IM_T10', 'IMPACT1_IM_T62', 'PCRASH1_IM_T11', 'PCRASH1_IM_T14', 'V_ALCH_IM_T2']\n",
        "Program encounted an error on column ALCOHOL_Treatment(9999)_T1\n",
        "These are the possible_vars so far: ['MONTH_T6', 'SEX_IM_T2', 'BDYTYP_IM_T2', 'BDYTYP_IM_T6', 'BDYTYP_IM_T9', 'BDYTYP_IM_T14', 'IMPACT1_IM_T1', 'IMPACT1_IM_T10', 'IMPACT1_IM_T62', 'PCRASH1_IM_T11', 'PCRASH1_IM_T14', 'V_ALCH_IM_T2']\n",
        "Program encounted an error on column ALCOHOL_Treatment(9999)_T2\n",
        "These are the possible_vars so far: ['MONTH_T6', 'SEX_IM_T2', 'BDYTYP_IM_T2', 'BDYTYP_IM_T6', 'BDYTYP_IM_T9', 'BDYTYP_IM_T14', 'IMPACT1_IM_T1', 'IMPACT1_IM_T10', 'IMPACT1_IM_T62', 'PCRASH1_IM_T11', 'PCRASH1_IM_T14', 'V_ALCH_IM_T2']\n",
        "Program encounted an error on column TYP_INT_Treatment(9999)_T1\n",
        "These are the possible_vars so far:"
       ]
      },
      {
       "output_type": "stream",
       "stream": "stdout",
       "text": [
        " ['MONTH_T6', 'SEX_IM_T2', 'BDYTYP_IM_T2', 'BDYTYP_IM_T6', 'BDYTYP_IM_T9', 'BDYTYP_IM_T14', 'IMPACT1_IM_T1', 'IMPACT1_IM_T10', 'IMPACT1_IM_T62', 'PCRASH1_IM_T11', 'PCRASH1_IM_T14', 'V_ALCH_IM_T2']\n",
        "Program encounted an error on column TYP_INT_Treatment(9999)_T2\n",
        "These are the possible_vars so far: ['MONTH_T6', 'SEX_IM_T2', 'BDYTYP_IM_T2', 'BDYTYP_IM_T6', 'BDYTYP_IM_T9', 'BDYTYP_IM_T14', 'IMPACT1_IM_T1', 'IMPACT1_IM_T10', 'IMPACT1_IM_T62', 'PCRASH1_IM_T11', 'PCRASH1_IM_T14', 'V_ALCH_IM_T2']\n",
        "Program encounted an error on column TYP_INT_Treatment(9999)_T3\n",
        "These are the possible_vars so far: ['MONTH_T6', 'SEX_IM_T2', 'BDYTYP_IM_T2', 'BDYTYP_IM_T6', 'BDYTYP_IM_T9', 'BDYTYP_IM_T14', 'IMPACT1_IM_T1', 'IMPACT1_IM_T10', 'IMPACT1_IM_T62', 'PCRASH1_IM_T11', 'PCRASH1_IM_T14', 'V_ALCH_IM_T2']\n",
        "Program encounted an error on column TYP_INT_Treatment(9999)_T4\n",
        "These are the possible_vars so far: ['MONTH_T6', 'SEX_IM_T2', 'BDYTYP_IM_T2', 'BDYTYP_IM_T6', 'BDYTYP_IM_T9', 'BDYTYP_IM_T14', 'IMPACT1_IM_T1', 'IMPACT1_IM_T10', 'IMPACT1_IM_T62', 'PCRASH1_IM_T11', 'PCRASH1_IM_T14', 'V_ALCH_IM_T2']\n",
        "Program encounted an error on column TYP_INT_Treatment(9999)_T5\n",
        "These are the possible_vars so far: ['MONTH_T6', 'SEX_IM_T2', 'BDYTYP_IM_T2', 'BDYTYP_IM_T6', 'BDYTYP_IM_T9', 'BDYTYP_IM_T14', 'IMPACT1_IM_T1', 'IMPACT1_IM_T10', 'IMPACT1_IM_T62', 'PCRASH1_IM_T11', 'PCRASH1_IM_T14', 'V_ALCH_IM_T2']\n",
        "Program encounted an error on column TYP_INT_Treatment(9999)_T7\n",
        "Warning: Maximum number of iterations has been exceeded."
       ]
      },
      {
       "output_type": "stream",
       "stream": "stdout",
       "text": [
        "\n",
        "         Current function value: 0.487279\n",
        "         Iterations: 100\n",
        "Optimization terminated successfully."
       ]
      },
      {
       "output_type": "stream",
       "stream": "stdout",
       "text": [
        "\n",
        "         Current function value: 0.487675\n",
        "         Iterations 7\n",
        "These are the possible_vars so far: ['MONTH_T6', 'SEX_IM_T2', 'BDYTYP_IM_T2', 'BDYTYP_IM_T6', 'BDYTYP_IM_T9', 'BDYTYP_IM_T14', 'IMPACT1_IM_T1', 'IMPACT1_IM_T10', 'IMPACT1_IM_T62', 'PCRASH1_IM_T11', 'PCRASH1_IM_T14', 'V_ALCH_IM_T2']\n",
        "Program encounted an error on column REL_ROAD_Treatment(9999)_T1\n",
        "These are the possible_vars so far: ['MONTH_T6', 'SEX_IM_T2', 'BDYTYP_IM_T2', 'BDYTYP_IM_T6', 'BDYTYP_IM_T9', 'BDYTYP_IM_T14', 'IMPACT1_IM_T1', 'IMPACT1_IM_T10', 'IMPACT1_IM_T62', 'PCRASH1_IM_T11', 'PCRASH1_IM_T14', 'V_ALCH_IM_T2']\n",
        "Program encounted an error on column REL_ROAD_Treatment(9999)_T2\n",
        "These are the possible_vars so far:"
       ]
      },
      {
       "output_type": "stream",
       "stream": "stdout",
       "text": [
        " ['MONTH_T6', 'SEX_IM_T2', 'BDYTYP_IM_T2', 'BDYTYP_IM_T6', 'BDYTYP_IM_T9', 'BDYTYP_IM_T14', 'IMPACT1_IM_T1', 'IMPACT1_IM_T10', 'IMPACT1_IM_T62', 'PCRASH1_IM_T11', 'PCRASH1_IM_T14', 'V_ALCH_IM_T2']\n",
        "Program encounted an error on column REL_ROAD_Treatment(9999)_T4\n",
        "These are the possible_vars so far: ['MONTH_T6', 'SEX_IM_T2', 'BDYTYP_IM_T2', 'BDYTYP_IM_T6', 'BDYTYP_IM_T9', 'BDYTYP_IM_T14', 'IMPACT1_IM_T1', 'IMPACT1_IM_T10', 'IMPACT1_IM_T62', 'PCRASH1_IM_T11', 'PCRASH1_IM_T14', 'V_ALCH_IM_T2']\n",
        "Program encounted an error on column REL_ROAD_Treatment(9999)_T5\n",
        "These are the possible_vars so far: ['MONTH_T6', 'SEX_IM_T2', 'BDYTYP_IM_T2', 'BDYTYP_IM_T6', 'BDYTYP_IM_T9', 'BDYTYP_IM_T14', 'IMPACT1_IM_T1', 'IMPACT1_IM_T10', 'IMPACT1_IM_T62', 'PCRASH1_IM_T11', 'PCRASH1_IM_T14', 'V_ALCH_IM_T2']\n",
        "Program encounted an error on column REL_ROAD_Treatment(9999)_T7\n",
        "These are the possible_vars so far: ['MONTH_T6', 'SEX_IM_T2', 'BDYTYP_IM_T2', 'BDYTYP_IM_T6', 'BDYTYP_IM_T9', 'BDYTYP_IM_T14', 'IMPACT1_IM_T1', 'IMPACT1_IM_T10', 'IMPACT1_IM_T62', 'PCRASH1_IM_T11', 'PCRASH1_IM_T14', 'V_ALCH_IM_T2']\n",
        "Program encounted an error on column REL_ROAD_Treatment(9999)_T11\n",
        "Optimization terminated successfully."
       ]
      },
      {
       "output_type": "stream",
       "stream": "stdout",
       "text": [
        "\n",
        "         Current function value: 0.487224\n",
        "         Iterations 7\n",
        "Optimization terminated successfully."
       ]
      },
      {
       "output_type": "stream",
       "stream": "stdout",
       "text": [
        "\n",
        "         Current function value: 0.487328\n",
        "         Iterations 7\n",
        "Optimization terminated successfully."
       ]
      },
      {
       "output_type": "stream",
       "stream": "stdout",
       "text": [
        "\n",
        "         Current function value: 0.487697\n",
        "         Iterations 7\n",
        "Optimization terminated successfully."
       ]
      },
      {
       "output_type": "stream",
       "stream": "stdout",
       "text": [
        "\n",
        "         Current function value: 0.487676\n",
        "         Iterations 7\n",
        "Optimization terminated successfully."
       ]
      },
      {
       "output_type": "stream",
       "stream": "stdout",
       "text": [
        "\n",
        "         Current function value: 0.487552\n",
        "         Iterations 7\n",
        "Optimization terminated successfully."
       ]
      },
      {
       "output_type": "stream",
       "stream": "stdout",
       "text": [
        "\n",
        "         Current function value: 0.487659\n",
        "         Iterations 7\n",
        "Optimization terminated successfully."
       ]
      },
      {
       "output_type": "stream",
       "stream": "stdout",
       "text": [
        "\n",
        "         Current function value: 0.487112\n",
        "         Iterations 7\n",
        "Optimization terminated successfully."
       ]
      },
      {
       "output_type": "stream",
       "stream": "stdout",
       "text": [
        "\n",
        "         Current function value: 0.487738\n",
        "         Iterations 7\n",
        "Warning: Maximum number of iterations has been exceeded."
       ]
      },
      {
       "output_type": "stream",
       "stream": "stdout",
       "text": [
        "\n",
        "         Current function value: 0.486986\n",
        "         Iterations: 100\n",
        "These are the possible_vars so far:"
       ]
      },
      {
       "output_type": "stream",
       "stream": "stdout",
       "text": [
        " ['MONTH_T6', 'SEX_IM_T2', 'BDYTYP_IM_T2', 'BDYTYP_IM_T6', 'BDYTYP_IM_T9', 'BDYTYP_IM_T14', 'IMPACT1_IM_T1', 'IMPACT1_IM_T10', 'IMPACT1_IM_T62', 'PCRASH1_IM_T11', 'PCRASH1_IM_T14', 'V_ALCH_IM_T2']\n",
        "Program encounted an error on column HOUR_IM_T4\n",
        "Optimization terminated successfully."
       ]
      },
      {
       "output_type": "stream",
       "stream": "stdout",
       "text": [
        "\n",
        "         Current function value: 0.487358\n",
        "         Iterations 7\n",
        "Optimization terminated successfully."
       ]
      },
      {
       "output_type": "stream",
       "stream": "stdout",
       "text": [
        "\n",
        "         Current function value: 0.487194\n",
        "         Iterations 7\n",
        "Optimization terminated successfully."
       ]
      },
      {
       "output_type": "stream",
       "stream": "stdout",
       "text": [
        "\n",
        "         Current function value: 0.487520\n",
        "         Iterations 7\n",
        "Optimization terminated successfully."
       ]
      },
      {
       "output_type": "stream",
       "stream": "stdout",
       "text": [
        "\n",
        "         Current function value: 0.487689\n",
        "         Iterations 7\n",
        "Optimization terminated successfully."
       ]
      },
      {
       "output_type": "stream",
       "stream": "stdout",
       "text": [
        "\n",
        "         Current function value: 0.487641\n",
        "         Iterations 7\n",
        "Optimization terminated successfully.\n",
        "         Current function value: 0.486629\n",
        "         Iterations 7\n",
        "Optimization terminated successfully."
       ]
      },
      {
       "output_type": "stream",
       "stream": "stdout",
       "text": [
        "\n",
        "         Current function value: 0.487551\n",
        "         Iterations 7\n",
        "Optimization terminated successfully."
       ]
      },
      {
       "output_type": "stream",
       "stream": "stdout",
       "text": [
        "\n",
        "         Current function value: 0.487140\n",
        "         Iterations 7\n",
        "Optimization terminated successfully."
       ]
      },
      {
       "output_type": "stream",
       "stream": "stdout",
       "text": [
        "\n",
        "         Current function value: 0.484934\n",
        "         Iterations 7\n",
        "Optimization terminated successfully.\n",
        "         Current function value: 0.487715\n",
        "         Iterations 7\n",
        "Optimization terminated successfully."
       ]
      },
      {
       "output_type": "stream",
       "stream": "stdout",
       "text": [
        "\n",
        "         Current function value: 0.487543\n",
        "         Iterations 7\n",
        "Optimization terminated successfully.\n",
        "         Current function value: 0.487749\n",
        "         Iterations 7\n",
        "Optimization terminated successfully."
       ]
      },
      {
       "output_type": "stream",
       "stream": "stdout",
       "text": [
        "\n",
        "         Current function value: 0.484766\n",
        "         Iterations 7\n",
        "Optimization terminated successfully."
       ]
      },
      {
       "output_type": "stream",
       "stream": "stdout",
       "text": [
        "\n",
        "         Current function value: 0.487574\n",
        "         Iterations 7\n",
        "Optimization terminated successfully."
       ]
      },
      {
       "output_type": "stream",
       "stream": "stdout",
       "text": [
        "\n",
        "         Current function value: 0.487686\n",
        "         Iterations 7\n",
        "Optimization terminated successfully."
       ]
      },
      {
       "output_type": "stream",
       "stream": "stdout",
       "text": [
        "\n",
        "         Current function value: 0.487628\n",
        "         Iterations 7\n",
        "Optimization terminated successfully."
       ]
      },
      {
       "output_type": "stream",
       "stream": "stdout",
       "text": [
        "\n",
        "         Current function value: 0.487737\n",
        "         Iterations 7\n",
        "Optimization terminated successfully."
       ]
      },
      {
       "output_type": "stream",
       "stream": "stdout",
       "text": [
        "\n",
        "         Current function value: 0.487577\n",
        "         Iterations 7\n",
        "Optimization terminated successfully."
       ]
      },
      {
       "output_type": "stream",
       "stream": "stdout",
       "text": [
        "\n",
        "         Current function value: 0.487609\n",
        "         Iterations 7\n",
        "Optimization terminated successfully."
       ]
      },
      {
       "output_type": "stream",
       "stream": "stdout",
       "text": [
        "\n",
        "         Current function value: 0.487739\n",
        "         Iterations 7\n",
        "Optimization terminated successfully."
       ]
      },
      {
       "output_type": "stream",
       "stream": "stdout",
       "text": [
        "\n",
        "         Current function value: 0.485568\n",
        "         Iterations 7\n",
        "Optimization terminated successfully."
       ]
      },
      {
       "output_type": "stream",
       "stream": "stdout",
       "text": [
        "\n",
        "         Current function value: 0.487743\n",
        "         Iterations 7\n",
        "Optimization terminated successfully."
       ]
      },
      {
       "output_type": "stream",
       "stream": "stdout",
       "text": [
        "\n",
        "         Current function value: 0.483634\n",
        "         Iterations 7\n",
        "Warning: Maximum number of iterations has been exceeded."
       ]
      },
      {
       "output_type": "stream",
       "stream": "stdout",
       "text": [
        "\n",
        "         Current function value: 0.487279\n",
        "         Iterations: 100\n",
        "Warning: Maximum number of iterations has been exceeded."
       ]
      },
      {
       "output_type": "stream",
       "stream": "stdout",
       "text": [
        "\n",
        "         Current function value: 0.487361\n",
        "         Iterations: 100\n",
        "Warning: Maximum number of iterations has been exceeded."
       ]
      },
      {
       "output_type": "stream",
       "stream": "stdout",
       "text": [
        "\n",
        "         Current function value: 0.487487\n",
        "         Iterations: 100\n",
        "Optimization terminated successfully."
       ]
      },
      {
       "output_type": "stream",
       "stream": "stdout",
       "text": [
        "\n",
        "         Current function value: 0.487614\n",
        "         Iterations 7\n",
        "Warning: Maximum number of iterations has been exceeded."
       ]
      },
      {
       "output_type": "stream",
       "stream": "stdout",
       "text": [
        "\n",
        "         Current function value: 0.486921\n",
        "         Iterations: 100\n",
        "These are the possible_vars so far:"
       ]
      },
      {
       "output_type": "stream",
       "stream": "stdout",
       "text": [
        " ['MONTH_T6', 'SEX_IM_T2', 'BDYTYP_IM_T2', 'BDYTYP_IM_T6', 'BDYTYP_IM_T9', 'BDYTYP_IM_T14', 'IMPACT1_IM_T1', 'IMPACT1_IM_T10', 'IMPACT1_IM_T62', 'PCRASH1_IM_T11', 'PCRASH1_IM_T14', 'V_ALCH_IM_T2', 'HOUR_IM_T10', 'HOUR_IM_T13', 'HOUR_IM_T17', 'RELJCT2_IM_T2', 'RELJCT2_IM_T4']\n",
        "Program encounted an error on column RELJCT2_IM_T18\n",
        "Optimization terminated successfully."
       ]
      },
      {
       "output_type": "stream",
       "stream": "stdout",
       "text": [
        "\n",
        "         Current function value: 0.486780\n",
        "         Iterations 7\n",
        "Optimization terminated successfully."
       ]
      },
      {
       "output_type": "stream",
       "stream": "stdout",
       "text": [
        "\n",
        "         Current function value: 0.487717\n",
        "         Iterations 7\n",
        "Optimization terminated successfully."
       ]
      },
      {
       "output_type": "stream",
       "stream": "stdout",
       "text": [
        "\n",
        "         Current function value: 0.487510\n",
        "         Iterations 7\n",
        "Optimization terminated successfully."
       ]
      },
      {
       "output_type": "stream",
       "stream": "stdout",
       "text": [
        "\n",
        "         Current function value: 0.487709\n",
        "         Iterations 7\n",
        "Optimization terminated successfully."
       ]
      },
      {
       "output_type": "stream",
       "stream": "stdout",
       "text": [
        "\n",
        "         Current function value: 0.487081\n",
        "         Iterations 7\n",
        "Optimization terminated successfully."
       ]
      },
      {
       "output_type": "stream",
       "stream": "stdout",
       "text": [
        "\n",
        "         Current function value: 0.487748\n",
        "         Iterations 7\n",
        "These are the possible_vars so far:"
       ]
      },
      {
       "output_type": "stream",
       "stream": "stdout",
       "text": [
        " ['MONTH_T6', 'SEX_IM_T2', 'BDYTYP_IM_T2', 'BDYTYP_IM_T6', 'BDYTYP_IM_T9', 'BDYTYP_IM_T14', 'IMPACT1_IM_T1', 'IMPACT1_IM_T10', 'IMPACT1_IM_T62', 'PCRASH1_IM_T11', 'PCRASH1_IM_T14', 'V_ALCH_IM_T2', 'HOUR_IM_T10', 'HOUR_IM_T13', 'HOUR_IM_T17', 'RELJCT2_IM_T2', 'RELJCT2_IM_T4', 'LGTCON_IM_T2']\n",
        "Program encounted an error on column WEATHR_IM_T4\n",
        "Warning: Maximum number of iterations has been exceeded."
       ]
      },
      {
       "output_type": "stream",
       "stream": "stdout",
       "text": [
        "\n",
        "         Current function value: 0.487595\n",
        "         Iterations: 100\n",
        "Optimization terminated successfully."
       ]
      },
      {
       "output_type": "stream",
       "stream": "stdout",
       "text": [
        "\n",
        "         Current function value: 0.487237\n",
        "         Iterations 7\n",
        "Optimization terminated successfully."
       ]
      },
      {
       "output_type": "stream",
       "stream": "stdout",
       "text": [
        "\n",
        "         Current function value: 0.487745\n",
        "         Iterations 7\n",
        "These are the possible_vars so far: ['MONTH_T6', 'SEX_IM_T2', 'BDYTYP_IM_T2', 'BDYTYP_IM_T6', 'BDYTYP_IM_T9', 'BDYTYP_IM_T14', 'IMPACT1_IM_T1', 'IMPACT1_IM_T10', 'IMPACT1_IM_T62', 'PCRASH1_IM_T11', 'PCRASH1_IM_T14', 'V_ALCH_IM_T2', 'HOUR_IM_T10', 'HOUR_IM_T13', 'HOUR_IM_T17', 'RELJCT2_IM_T2', 'RELJCT2_IM_T4', 'LGTCON_IM_T2']\n",
        "Program encounted an error on column DRIVER_SEX_Treatment(9999)_T1\n",
        "These are the possible_vars so far: ['MONTH_T6', 'SEX_IM_T2', 'BDYTYP_IM_T2', 'BDYTYP_IM_T6', 'BDYTYP_IM_T9', 'BDYTYP_IM_T14', 'IMPACT1_IM_T1', 'IMPACT1_IM_T10', 'IMPACT1_IM_T62', 'PCRASH1_IM_T11', 'PCRASH1_IM_T14', 'V_ALCH_IM_T2', 'HOUR_IM_T10', 'HOUR_IM_T13', 'HOUR_IM_T17', 'RELJCT2_IM_T2', 'RELJCT2_IM_T4', 'LGTCON_IM_T2']\n",
        "Program encounted an error on column DRIVER_SEX_Treatment(9999)_T2\n",
        "These are the possible_vars so far:"
       ]
      },
      {
       "output_type": "stream",
       "stream": "stdout",
       "text": [
        " ['MONTH_T6', 'SEX_IM_T2', 'BDYTYP_IM_T2', 'BDYTYP_IM_T6', 'BDYTYP_IM_T9', 'BDYTYP_IM_T14', 'IMPACT1_IM_T1', 'IMPACT1_IM_T10', 'IMPACT1_IM_T62', 'PCRASH1_IM_T11', 'PCRASH1_IM_T14', 'V_ALCH_IM_T2', 'HOUR_IM_T10', 'HOUR_IM_T13', 'HOUR_IM_T17', 'RELJCT2_IM_T2', 'RELJCT2_IM_T4', 'LGTCON_IM_T2']\n",
        "Program encounted an error on column DRIVER_DRUGS_Treatment(9999)_T0\n",
        "These are the possible_vars so far: ['MONTH_T6', 'SEX_IM_T2', 'BDYTYP_IM_T2', 'BDYTYP_IM_T6', 'BDYTYP_IM_T9', 'BDYTYP_IM_T14', 'IMPACT1_IM_T1', 'IMPACT1_IM_T10', 'IMPACT1_IM_T62', 'PCRASH1_IM_T11', 'PCRASH1_IM_T14', 'V_ALCH_IM_T2', 'HOUR_IM_T10', 'HOUR_IM_T13', 'HOUR_IM_T17', 'RELJCT2_IM_T2', 'RELJCT2_IM_T4', 'LGTCON_IM_T2']\n",
        "Program encounted an error on column DRIVER_DRUGS_Treatment(9999)_T1\n",
        "Optimization terminated successfully."
       ]
      },
      {
       "output_type": "stream",
       "stream": "stdout",
       "text": [
        "\n",
        "         Current function value: 0.487426\n",
        "         Iterations 7\n",
        "These are the possible_vars so far:"
       ]
      },
      {
       "output_type": "stream",
       "stream": "stdout",
       "text": [
        " ['MONTH_T6', 'SEX_IM_T2', 'BDYTYP_IM_T2', 'BDYTYP_IM_T6', 'BDYTYP_IM_T9', 'BDYTYP_IM_T14', 'IMPACT1_IM_T1', 'IMPACT1_IM_T10', 'IMPACT1_IM_T62', 'PCRASH1_IM_T11', 'PCRASH1_IM_T14', 'V_ALCH_IM_T2', 'HOUR_IM_T10', 'HOUR_IM_T13', 'HOUR_IM_T17', 'RELJCT2_IM_T2', 'RELJCT2_IM_T4', 'LGTCON_IM_T2']\n",
        "Program encounted an error on column NUMOCCS\n",
        "These are the possible_vars so far:"
       ]
      },
      {
       "output_type": "stream",
       "stream": "stdout",
       "text": [
        " ['MONTH_T6', 'SEX_IM_T2', 'BDYTYP_IM_T2', 'BDYTYP_IM_T6', 'BDYTYP_IM_T9', 'BDYTYP_IM_T14', 'IMPACT1_IM_T1', 'IMPACT1_IM_T10', 'IMPACT1_IM_T62', 'PCRASH1_IM_T11', 'PCRASH1_IM_T14', 'V_ALCH_IM_T2', 'HOUR_IM_T10', 'HOUR_IM_T13', 'HOUR_IM_T17', 'RELJCT2_IM_T2', 'RELJCT2_IM_T4', 'LGTCON_IM_T2']\n",
        "Program encounted an error on column TRAV_SP\n",
        "These are the possible_vars so far:"
       ]
      },
      {
       "output_type": "stream",
       "stream": "stdout",
       "text": [
        " ['MONTH_T6', 'SEX_IM_T2', 'BDYTYP_IM_T2', 'BDYTYP_IM_T6', 'BDYTYP_IM_T9', 'BDYTYP_IM_T14', 'IMPACT1_IM_T1', 'IMPACT1_IM_T10', 'IMPACT1_IM_T62', 'PCRASH1_IM_T11', 'PCRASH1_IM_T14', 'V_ALCH_IM_T2', 'HOUR_IM_T10', 'HOUR_IM_T13', 'HOUR_IM_T17', 'RELJCT2_IM_T2', 'RELJCT2_IM_T4', 'LGTCON_IM_T2']\n",
        "Program encounted an error on column VNUM_LAN\n",
        "These are the possible_vars so far:"
       ]
      },
      {
       "output_type": "stream",
       "stream": "stdout",
       "text": [
        " ['MONTH_T6', 'SEX_IM_T2', 'BDYTYP_IM_T2', 'BDYTYP_IM_T6', 'BDYTYP_IM_T9', 'BDYTYP_IM_T14', 'IMPACT1_IM_T1', 'IMPACT1_IM_T10', 'IMPACT1_IM_T62', 'PCRASH1_IM_T11', 'PCRASH1_IM_T14', 'V_ALCH_IM_T2', 'HOUR_IM_T10', 'HOUR_IM_T13', 'HOUR_IM_T17', 'RELJCT2_IM_T2', 'RELJCT2_IM_T4', 'LGTCON_IM_T2']\n",
        "Program encounted an error on column VSPD_LIM\n",
        "Optimization terminated successfully."
       ]
      },
      {
       "output_type": "stream",
       "stream": "stdout",
       "text": [
        "\n",
        "         Current function value: 0.487557\n",
        "         Iterations 7\n",
        "Optimization terminated successfully."
       ]
      },
      {
       "output_type": "stream",
       "stream": "stdout",
       "text": [
        "\n",
        "         Current function value: 0.486740\n",
        "         Iterations 7\n",
        "Optimization terminated successfully."
       ]
      },
      {
       "output_type": "stream",
       "stream": "stdout",
       "text": [
        "\n",
        "         Current function value: 0.487557\n",
        "         Iterations 7\n",
        "These are the possible_vars so far:"
       ]
      },
      {
       "output_type": "stream",
       "stream": "stdout",
       "text": [
        " ['MONTH_T6', 'SEX_IM_T2', 'BDYTYP_IM_T2', 'BDYTYP_IM_T6', 'BDYTYP_IM_T9', 'BDYTYP_IM_T14', 'IMPACT1_IM_T1', 'IMPACT1_IM_T10', 'IMPACT1_IM_T62', 'PCRASH1_IM_T11', 'PCRASH1_IM_T14', 'V_ALCH_IM_T2', 'HOUR_IM_T10', 'HOUR_IM_T13', 'HOUR_IM_T17', 'RELJCT2_IM_T2', 'RELJCT2_IM_T4', 'LGTCON_IM_T2', 'PERMVIT']\n",
        "Program encounted an error on column DRIVER_AGE\n",
        "Optimization terminated successfully."
       ]
      },
      {
       "output_type": "stream",
       "stream": "stdout",
       "text": [
        "\n",
        "         Current function value: 0.487604\n",
        "         Iterations 7\n",
        "Optimization terminated successfully."
       ]
      },
      {
       "output_type": "stream",
       "stream": "stdout",
       "text": [
        "\n",
        "         Current function value: 0.487752\n",
        "         Iterations 7\n",
        "Optimization terminated successfully."
       ]
      },
      {
       "output_type": "stream",
       "stream": "stdout",
       "text": [
        "\n",
        "         Current function value: 0.487244\n",
        "         Iterations 7\n",
        "These are the possible_vars so far:"
       ]
      },
      {
       "output_type": "stream",
       "stream": "stdout",
       "text": [
        " ['MONTH_T6', 'SEX_IM_T2', 'BDYTYP_IM_T2', 'BDYTYP_IM_T6', 'BDYTYP_IM_T9', 'BDYTYP_IM_T14', 'IMPACT1_IM_T1', 'IMPACT1_IM_T10', 'IMPACT1_IM_T62', 'PCRASH1_IM_T11', 'PCRASH1_IM_T14', 'V_ALCH_IM_T2', 'HOUR_IM_T10', 'HOUR_IM_T13', 'HOUR_IM_T17', 'RELJCT2_IM_T2', 'RELJCT2_IM_T4', 'LGTCON_IM_T2', 'PERMVIT']\n",
        "Program encounted an error on column MSAFEQMT4\n",
        "Optimization terminated successfully."
       ]
      },
      {
       "output_type": "stream",
       "stream": "stdout",
       "text": [
        "\n",
        "         Current function value: 0.487735\n",
        "         Iterations 7\n",
        "Optimization terminated successfully."
       ]
      },
      {
       "output_type": "stream",
       "stream": "stdout",
       "text": [
        "\n",
        "         Current function value: 0.487639\n",
        "         Iterations 7\n",
        "Optimization terminated successfully."
       ]
      },
      {
       "output_type": "stream",
       "stream": "stdout",
       "text": [
        "\n",
        "         Current function value: 0.457414\n",
        "         Iterations 7\n",
        "                           Logit Regression Results                           \n",
        "==============================================================================\n",
        "Dep. Variable:                SER_INJ   No. Observations:                 1022\n",
        "Model:                          Logit   Df Residuals:                      995\n",
        "Method:                           MLE   Df Model:                           26\n",
        "Date:                Wed, 30 Apr 2014   Pseudo R-squ.:                  0.1109\n",
        "Time:                        23:00:11   Log-Likelihood:                -467.48\n",
        "converged:                       True   LL-Null:                       -525.77\n",
        "                                        LLR p-value:                 1.949e-13\n",
        "==================================================================================\n",
        "                     coef    std err          z      P>|z|      [95.0% Conf. Int.]\n",
        "----------------------------------------------------------------------------------\n",
        "nodeNum_0         -1.5445      1.483     -1.042      0.298        -4.451     1.362\n",
        "nodeNum_4          0.9435      1.314      0.718      0.473        -1.632     3.519\n",
        "nodeNum_5          0.3814      1.061      0.359      0.719        -1.699     2.462\n",
        "nodeNum_6          0.8003      1.010      0.792      0.428        -1.179     2.780\n",
        "nodeNum_9          0.2938      1.050      0.280      0.780        -1.764     2.351\n",
        "nodeNum_10         2.8486      1.714      1.662      0.097        -0.511     6.208\n",
        "nodeNum_18        -0.8220      0.971     -0.846      0.397        -2.726     1.082\n",
        "nodeNum_20        -0.5198      1.000     -0.520      0.603        -2.479     1.440\n",
        "MONTH_T6          -0.4160      0.279     -1.492      0.136        -0.963     0.131\n",
        "SEX_IM_T2          0.2039      0.189      1.076      0.282        -0.167     0.575\n",
        "BDYTYP_IM_T2      -0.7894      0.500     -1.578      0.115        -1.770     0.191\n",
        "BDYTYP_IM_T6       0.6721      0.365      1.839      0.066        -0.044     1.388\n",
        "BDYTYP_IM_T9      -0.8767      0.323     -2.712      0.007        -1.510    -0.243\n",
        "BDYTYP_IM_T14      0.3726      0.236      1.579      0.114        -0.090     0.835\n",
        "IMPACT1_IM_T1      0.4633      0.342      1.353      0.176        -0.208     1.135\n",
        "IMPACT1_IM_T10     0.8349      0.561      1.487      0.137        -0.266     1.935\n",
        "IMPACT1_IM_T62    -0.9699      0.653     -1.485      0.138        -2.250     0.310\n",
        "PCRASH1_IM_T11     0.3198      0.253      1.266      0.205        -0.175     0.815\n",
        "PCRASH1_IM_T14     0.5655      0.641      0.883      0.377        -0.690     1.821\n",
        "V_ALCH_IM_T2      -1.5231      0.972     -1.567      0.117        -3.428     0.381\n",
        "HOUR_IM_T10       -0.7207      0.473     -1.525      0.127        -1.647     0.206\n",
        "HOUR_IM_T13       -0.9029      0.456     -1.979      0.048        -1.797    -0.009\n",
        "HOUR_IM_T17        0.4737      0.247      1.919      0.055        -0.010     0.958\n",
        "RELJCT2_IM_T2      0.1606      0.178      0.904      0.366        -0.188     0.509\n",
        "RELJCT2_IM_T4     -1.3314      0.542     -2.458      0.014        -2.393    -0.270\n",
        "LGTCON_IM_T2      -0.6637      0.515     -1.290      0.197        -1.672     0.345\n",
        "PERMVIT            0.1567      0.132      1.184      0.237        -0.103     0.416\n",
        "=================================================================================="
       ]
      },
      {
       "output_type": "stream",
       "stream": "stdout",
       "text": [
        "\n"
       ]
      }
     ],
     "prompt_number": 119
    },
    {
     "cell_type": "code",
     "collapsed": false,
     "input": [
      "def whittle_multi_model_vars(orig_fitted, base_string):\n",
      "    orig_vars = base_string.split(\" + \")\n",
      "    if \"0\" in orig_vars:\n",
      "        orig_vars.remove(\"0\")\n",
      "    p_vals = orig_fitted.pvalues.order(ascending=False)\n",
      "    worst_var = None\n",
      "    for var, val in p_vals.iteritems():\n",
      "        if \"nodeNum\" in var:\n",
      "            pass\n",
      "        else:\n",
      "            if val > 0.05:\n",
      "                worst_var = var\n",
      "            break\n",
      "    if worst_var is not None:        \n",
      "        new_vars = deepcopy(orig_vars)\n",
      "        new_vars.remove(worst_var)\n",
      "        return new_vars\n",
      "    else:\n",
      "        return None"
     ],
     "language": "python",
     "metadata": {},
     "outputs": [],
     "prompt_number": 104
    },
    {
     "cell_type": "code",
     "collapsed": false,
     "input": [
      "def reduce_multi_model(orig_fitted, base_string, res, df, fit=None):\n",
      "    new_bvars = whittle_multi_model_vars(orig_fitted, base_string)\n",
      "    small_model = orig_fitted\n",
      "    small_base = base_string\n",
      "    while new_bvars is not None:\n",
      "        new_base = \" + \".join([\"0\"] + new_bvars)\n",
      "        new_fstring = res + \" ~ \" + new_base\n",
      "        try:\n",
      "            if fit is None:\n",
      "                new_model = smf.logit(new_fstring, data = df).fit()\n",
      "            else:\n",
      "                new_model = smf.logit(new_fstring, data = df).fit(method=fit)\n",
      "            small_base = \" + \".join(new_bvars)\n",
      "            new_bvars =  whittle_multi_model_vars(new_model, new_base)\n",
      "            small_model = new_model\n",
      "        except:\n",
      "            print \"Estimating logit model failed when using formula: {}\".format(new_fstring)\n",
      "    return small_model, small_base    "
     ],
     "language": "python",
     "metadata": {},
     "outputs": [],
     "prompt_number": 212
    },
    {
     "cell_type": "code",
     "collapsed": false,
     "input": [
      "min_multi, min_multi_string = reduce_multi_model(test_multi, test_multi_string, 'SER_INJ', hybrid_designs[\"df\"][\"naive_pruned\"])"
     ],
     "language": "python",
     "metadata": {},
     "outputs": [
      {
       "output_type": "stream",
       "stream": "stdout",
       "text": [
        "Optimization terminated successfully.\n",
        "         Current function value: 0.457769\n",
        "         Iterations 7\n",
        "Optimization terminated successfully."
       ]
      },
      {
       "output_type": "stream",
       "stream": "stdout",
       "text": [
        "\n",
        "         Current function value: 0.458157\n",
        "         Iterations 7\n",
        "Optimization terminated successfully."
       ]
      },
      {
       "output_type": "stream",
       "stream": "stdout",
       "text": [
        "\n",
        "         Current function value: 0.458683\n",
        "         Iterations 7\n",
        "Optimization terminated successfully."
       ]
      },
      {
       "output_type": "stream",
       "stream": "stdout",
       "text": [
        "\n",
        "         Current function value: 0.459278\n",
        "         Iterations 7\n",
        "Optimization terminated successfully."
       ]
      },
      {
       "output_type": "stream",
       "stream": "stdout",
       "text": [
        "\n",
        "         Current function value: 0.460277\n",
        "         Iterations 7\n",
        "Optimization terminated successfully."
       ]
      },
      {
       "output_type": "stream",
       "stream": "stdout",
       "text": [
        "\n",
        "         Current function value: 0.461323\n",
        "         Iterations 7\n",
        "Optimization terminated successfully."
       ]
      },
      {
       "output_type": "stream",
       "stream": "stdout",
       "text": [
        "\n",
        "         Current function value: 0.462191\n",
        "         Iterations 7\n",
        "Optimization terminated successfully."
       ]
      },
      {
       "output_type": "stream",
       "stream": "stdout",
       "text": [
        "\n",
        "         Current function value: 0.463188\n",
        "         Iterations 7\n",
        "Optimization terminated successfully."
       ]
      },
      {
       "output_type": "stream",
       "stream": "stdout",
       "text": [
        "\n",
        "         Current function value: 0.464184\n",
        "         Iterations 7\n",
        "Optimization terminated successfully."
       ]
      },
      {
       "output_type": "stream",
       "stream": "stdout",
       "text": [
        "\n",
        "         Current function value: 0.465363\n",
        "         Iterations 7\n",
        "Optimization terminated successfully."
       ]
      },
      {
       "output_type": "stream",
       "stream": "stdout",
       "text": [
        "\n",
        "         Current function value: 0.466548\n",
        "         Iterations 7\n",
        "Optimization terminated successfully."
       ]
      },
      {
       "output_type": "stream",
       "stream": "stdout",
       "text": [
        "\n",
        "         Current function value: 0.467975\n",
        "         Iterations 7\n",
        "Optimization terminated successfully."
       ]
      },
      {
       "output_type": "stream",
       "stream": "stdout",
       "text": [
        "\n",
        "         Current function value: 0.469279\n",
        "         Iterations 7\n",
        "Optimization terminated successfully."
       ]
      },
      {
       "output_type": "stream",
       "stream": "stdout",
       "text": [
        "\n",
        "         Current function value: 0.470558\n",
        "         Iterations 7\n",
        "Optimization terminated successfully."
       ]
      },
      {
       "output_type": "stream",
       "stream": "stdout",
       "text": [
        "\n",
        "         Current function value: 0.472619\n",
        "         Iterations 7\n"
       ]
      }
     ],
     "prompt_number": 120
    },
    {
     "cell_type": "code",
     "collapsed": false,
     "input": [
      "min_multi.summary()"
     ],
     "language": "python",
     "metadata": {},
     "outputs": [
      {
       "html": [
        "<table class=\"simpletable\">\n",
        "<caption>Logit Regression Results</caption>\n",
        "<tr>\n",
        "  <th>Dep. Variable:</th>      <td>SER_INJ</td>     <th>  No. Observations:  </th>  <td>  1022</td>  \n",
        "</tr>\n",
        "<tr>\n",
        "  <th>Model:</th>               <td>Logit</td>      <th>  Df Residuals:      </th>  <td>  1010</td>  \n",
        "</tr>\n",
        "<tr>\n",
        "  <th>Method:</th>               <td>MLE</td>       <th>  Df Model:          </th>  <td>    11</td>  \n",
        "</tr>\n",
        "<tr>\n",
        "  <th>Date:</th>          <td>Wed, 30 Apr 2014</td> <th>  Pseudo R-squ.:     </th>  <td>0.08131</td> \n",
        "</tr>\n",
        "<tr>\n",
        "  <th>Time:</th>              <td>23:01:50</td>     <th>  Log-Likelihood:    </th> <td> -483.02</td> \n",
        "</tr>\n",
        "<tr>\n",
        "  <th>converged:</th>           <td>True</td>       <th>  LL-Null:           </th> <td> -525.77</td> \n",
        "</tr>\n",
        "<tr>\n",
        "  <th> </th>                      <td> </td>        <th>  LLR p-value:       </th> <td>1.263e-13</td>\n",
        "</tr>\n",
        "</table>\n",
        "<table class=\"simpletable\">\n",
        "<tr>\n",
        "        <td></td>           <th>coef</th>     <th>std err</th>      <th>z</th>      <th>P>|z|</th> <th>[95.0% Conf. Int.]</th> \n",
        "</tr>\n",
        "<tr>\n",
        "  <th>nodeNum_0</th>     <td>   -2.7322</td> <td>    1.039</td> <td>   -2.630</td> <td> 0.009</td> <td>   -4.769    -0.696</td>\n",
        "</tr>\n",
        "<tr>\n",
        "  <th>nodeNum_4</th>     <td>    0.0002</td> <td>    0.789</td> <td>    0.000</td> <td> 1.000</td> <td>   -1.547     1.547</td>\n",
        "</tr>\n",
        "<tr>\n",
        "  <th>nodeNum_5</th>     <td>   -0.7036</td> <td>    0.341</td> <td>   -2.066</td> <td> 0.039</td> <td>   -1.371    -0.036</td>\n",
        "</tr>\n",
        "<tr>\n",
        "  <th>nodeNum_6</th>     <td>   -0.4836</td> <td>    0.146</td> <td>   -3.317</td> <td> 0.001</td> <td>   -0.769    -0.198</td>\n",
        "</tr>\n",
        "<tr>\n",
        "  <th>nodeNum_9</th>     <td>   -0.9444</td> <td>    0.296</td> <td>   -3.194</td> <td> 0.001</td> <td>   -1.524    -0.365</td>\n",
        "</tr>\n",
        "<tr>\n",
        "  <th>nodeNum_10</th>    <td>    1.0548</td> <td>    1.263</td> <td>    0.835</td> <td> 0.404</td> <td>   -1.421     3.530</td>\n",
        "</tr>\n",
        "<tr>\n",
        "  <th>nodeNum_18</th>    <td>   -1.0311</td> <td>    0.832</td> <td>   -1.240</td> <td> 0.215</td> <td>   -2.661     0.599</td>\n",
        "</tr>\n",
        "<tr>\n",
        "  <th>nodeNum_20</th>    <td>   -1.6107</td> <td>    0.124</td> <td>  -12.989</td> <td> 0.000</td> <td>   -1.854    -1.368</td>\n",
        "</tr>\n",
        "<tr>\n",
        "  <th>BDYTYP_IM_T9</th>  <td>   -0.9883</td> <td>    0.314</td> <td>   -3.149</td> <td> 0.002</td> <td>   -1.603    -0.373</td>\n",
        "</tr>\n",
        "<tr>\n",
        "  <th>HOUR_IM_T13</th>   <td>   -0.8942</td> <td>    0.452</td> <td>   -1.979</td> <td> 0.048</td> <td>   -1.780    -0.009</td>\n",
        "</tr>\n",
        "<tr>\n",
        "  <th>HOUR_IM_T17</th>   <td>    0.5486</td> <td>    0.240</td> <td>    2.289</td> <td> 0.022</td> <td>    0.079     1.018</td>\n",
        "</tr>\n",
        "<tr>\n",
        "  <th>RELJCT2_IM_T4</th> <td>   -1.3286</td> <td>    0.529</td> <td>   -2.512</td> <td> 0.012</td> <td>   -2.365    -0.292</td>\n",
        "</tr>\n",
        "</table>"
       ],
       "metadata": {},
       "output_type": "pyout",
       "prompt_number": 121,
       "text": [
        "<class 'statsmodels.iolib.summary.Summary'>\n",
        "\"\"\"\n",
        "                           Logit Regression Results                           \n",
        "==============================================================================\n",
        "Dep. Variable:                SER_INJ   No. Observations:                 1022\n",
        "Model:                          Logit   Df Residuals:                     1010\n",
        "Method:                           MLE   Df Model:                           11\n",
        "Date:                Wed, 30 Apr 2014   Pseudo R-squ.:                 0.08131\n",
        "Time:                        23:01:50   Log-Likelihood:                -483.02\n",
        "converged:                       True   LL-Null:                       -525.77\n",
        "                                        LLR p-value:                 1.263e-13\n",
        "=================================================================================\n",
        "                    coef    std err          z      P>|z|      [95.0% Conf. Int.]\n",
        "---------------------------------------------------------------------------------\n",
        "nodeNum_0        -2.7322      1.039     -2.630      0.009        -4.769    -0.696\n",
        "nodeNum_4         0.0002      0.789      0.000      1.000        -1.547     1.547\n",
        "nodeNum_5        -0.7036      0.341     -2.066      0.039        -1.371    -0.036\n",
        "nodeNum_6        -0.4836      0.146     -3.317      0.001        -0.769    -0.198\n",
        "nodeNum_9        -0.9444      0.296     -3.194      0.001        -1.524    -0.365\n",
        "nodeNum_10        1.0548      1.263      0.835      0.404        -1.421     3.530\n",
        "nodeNum_18       -1.0311      0.832     -1.240      0.215        -2.661     0.599\n",
        "nodeNum_20       -1.6107      0.124    -12.989      0.000        -1.854    -1.368\n",
        "BDYTYP_IM_T9     -0.9883      0.314     -3.149      0.002        -1.603    -0.373\n",
        "HOUR_IM_T13      -0.8942      0.452     -1.979      0.048        -1.780    -0.009\n",
        "HOUR_IM_T17       0.5486      0.240      2.289      0.022         0.079     1.018\n",
        "RELJCT2_IM_T4    -1.3286      0.529     -2.512      0.012        -2.365    -0.292\n",
        "=================================================================================\n",
        "\"\"\""
       ]
      }
     ],
     "prompt_number": 121
    },
    {
     "cell_type": "code",
     "collapsed": false,
     "input": [
      "test_multi.summary()"
     ],
     "language": "python",
     "metadata": {},
     "outputs": [
      {
       "html": [
        "<table class=\"simpletable\">\n",
        "<caption>Logit Regression Results</caption>\n",
        "<tr>\n",
        "  <th>Dep. Variable:</th>      <td>SER_INJ</td>     <th>  No. Observations:  </th>  <td>  1022</td>  \n",
        "</tr>\n",
        "<tr>\n",
        "  <th>Model:</th>               <td>Logit</td>      <th>  Df Residuals:      </th>  <td>   995</td>  \n",
        "</tr>\n",
        "<tr>\n",
        "  <th>Method:</th>               <td>MLE</td>       <th>  Df Model:          </th>  <td>    26</td>  \n",
        "</tr>\n",
        "<tr>\n",
        "  <th>Date:</th>          <td>Wed, 30 Apr 2014</td> <th>  Pseudo R-squ.:     </th>  <td>0.1109</td>  \n",
        "</tr>\n",
        "<tr>\n",
        "  <th>Time:</th>              <td>23:04:03</td>     <th>  Log-Likelihood:    </th> <td> -467.48</td> \n",
        "</tr>\n",
        "<tr>\n",
        "  <th>converged:</th>           <td>True</td>       <th>  LL-Null:           </th> <td> -525.77</td> \n",
        "</tr>\n",
        "<tr>\n",
        "  <th> </th>                      <td> </td>        <th>  LLR p-value:       </th> <td>1.949e-13</td>\n",
        "</tr>\n",
        "</table>\n",
        "<table class=\"simpletable\">\n",
        "<tr>\n",
        "         <td></td>           <th>coef</th>     <th>std err</th>      <th>z</th>      <th>P>|z|</th> <th>[95.0% Conf. Int.]</th> \n",
        "</tr>\n",
        "<tr>\n",
        "  <th>nodeNum_0</th>      <td>   -1.5445</td> <td>    1.483</td> <td>   -1.042</td> <td> 0.298</td> <td>   -4.451     1.362</td>\n",
        "</tr>\n",
        "<tr>\n",
        "  <th>nodeNum_4</th>      <td>    0.9435</td> <td>    1.314</td> <td>    0.718</td> <td> 0.473</td> <td>   -1.632     3.519</td>\n",
        "</tr>\n",
        "<tr>\n",
        "  <th>nodeNum_5</th>      <td>    0.3814</td> <td>    1.061</td> <td>    0.359</td> <td> 0.719</td> <td>   -1.699     2.462</td>\n",
        "</tr>\n",
        "<tr>\n",
        "  <th>nodeNum_6</th>      <td>    0.8003</td> <td>    1.010</td> <td>    0.792</td> <td> 0.428</td> <td>   -1.179     2.780</td>\n",
        "</tr>\n",
        "<tr>\n",
        "  <th>nodeNum_9</th>      <td>    0.2938</td> <td>    1.050</td> <td>    0.280</td> <td> 0.780</td> <td>   -1.764     2.351</td>\n",
        "</tr>\n",
        "<tr>\n",
        "  <th>nodeNum_10</th>     <td>    2.8486</td> <td>    1.714</td> <td>    1.662</td> <td> 0.097</td> <td>   -0.511     6.208</td>\n",
        "</tr>\n",
        "<tr>\n",
        "  <th>nodeNum_18</th>     <td>   -0.8220</td> <td>    0.971</td> <td>   -0.846</td> <td> 0.397</td> <td>   -2.726     1.082</td>\n",
        "</tr>\n",
        "<tr>\n",
        "  <th>nodeNum_20</th>     <td>   -0.5198</td> <td>    1.000</td> <td>   -0.520</td> <td> 0.603</td> <td>   -2.479     1.440</td>\n",
        "</tr>\n",
        "<tr>\n",
        "  <th>MONTH_T6</th>       <td>   -0.4160</td> <td>    0.279</td> <td>   -1.492</td> <td> 0.136</td> <td>   -0.963     0.131</td>\n",
        "</tr>\n",
        "<tr>\n",
        "  <th>SEX_IM_T2</th>      <td>    0.2039</td> <td>    0.189</td> <td>    1.076</td> <td> 0.282</td> <td>   -0.167     0.575</td>\n",
        "</tr>\n",
        "<tr>\n",
        "  <th>BDYTYP_IM_T2</th>   <td>   -0.7894</td> <td>    0.500</td> <td>   -1.578</td> <td> 0.115</td> <td>   -1.770     0.191</td>\n",
        "</tr>\n",
        "<tr>\n",
        "  <th>BDYTYP_IM_T6</th>   <td>    0.6721</td> <td>    0.365</td> <td>    1.839</td> <td> 0.066</td> <td>   -0.044     1.388</td>\n",
        "</tr>\n",
        "<tr>\n",
        "  <th>BDYTYP_IM_T9</th>   <td>   -0.8767</td> <td>    0.323</td> <td>   -2.712</td> <td> 0.007</td> <td>   -1.510    -0.243</td>\n",
        "</tr>\n",
        "<tr>\n",
        "  <th>BDYTYP_IM_T14</th>  <td>    0.3726</td> <td>    0.236</td> <td>    1.579</td> <td> 0.114</td> <td>   -0.090     0.835</td>\n",
        "</tr>\n",
        "<tr>\n",
        "  <th>IMPACT1_IM_T1</th>  <td>    0.4633</td> <td>    0.342</td> <td>    1.353</td> <td> 0.176</td> <td>   -0.208     1.135</td>\n",
        "</tr>\n",
        "<tr>\n",
        "  <th>IMPACT1_IM_T10</th> <td>    0.8349</td> <td>    0.561</td> <td>    1.487</td> <td> 0.137</td> <td>   -0.266     1.935</td>\n",
        "</tr>\n",
        "<tr>\n",
        "  <th>IMPACT1_IM_T62</th> <td>   -0.9699</td> <td>    0.653</td> <td>   -1.485</td> <td> 0.138</td> <td>   -2.250     0.310</td>\n",
        "</tr>\n",
        "<tr>\n",
        "  <th>PCRASH1_IM_T11</th> <td>    0.3198</td> <td>    0.253</td> <td>    1.266</td> <td> 0.205</td> <td>   -0.175     0.815</td>\n",
        "</tr>\n",
        "<tr>\n",
        "  <th>PCRASH1_IM_T14</th> <td>    0.5655</td> <td>    0.641</td> <td>    0.883</td> <td> 0.377</td> <td>   -0.690     1.821</td>\n",
        "</tr>\n",
        "<tr>\n",
        "  <th>V_ALCH_IM_T2</th>   <td>   -1.5231</td> <td>    0.972</td> <td>   -1.567</td> <td> 0.117</td> <td>   -3.428     0.381</td>\n",
        "</tr>\n",
        "<tr>\n",
        "  <th>HOUR_IM_T10</th>    <td>   -0.7207</td> <td>    0.473</td> <td>   -1.525</td> <td> 0.127</td> <td>   -1.647     0.206</td>\n",
        "</tr>\n",
        "<tr>\n",
        "  <th>HOUR_IM_T13</th>    <td>   -0.9029</td> <td>    0.456</td> <td>   -1.979</td> <td> 0.048</td> <td>   -1.797    -0.009</td>\n",
        "</tr>\n",
        "<tr>\n",
        "  <th>HOUR_IM_T17</th>    <td>    0.4737</td> <td>    0.247</td> <td>    1.919</td> <td> 0.055</td> <td>   -0.010     0.958</td>\n",
        "</tr>\n",
        "<tr>\n",
        "  <th>RELJCT2_IM_T2</th>  <td>    0.1606</td> <td>    0.178</td> <td>    0.904</td> <td> 0.366</td> <td>   -0.188     0.509</td>\n",
        "</tr>\n",
        "<tr>\n",
        "  <th>RELJCT2_IM_T4</th>  <td>   -1.3314</td> <td>    0.542</td> <td>   -2.458</td> <td> 0.014</td> <td>   -2.393    -0.270</td>\n",
        "</tr>\n",
        "<tr>\n",
        "  <th>LGTCON_IM_T2</th>   <td>   -0.6637</td> <td>    0.515</td> <td>   -1.290</td> <td> 0.197</td> <td>   -1.672     0.345</td>\n",
        "</tr>\n",
        "<tr>\n",
        "  <th>PERMVIT</th>        <td>    0.1567</td> <td>    0.132</td> <td>    1.184</td> <td> 0.237</td> <td>   -0.103     0.416</td>\n",
        "</tr>\n",
        "</table>"
       ],
       "metadata": {},
       "output_type": "pyout",
       "prompt_number": 122,
       "text": [
        "<class 'statsmodels.iolib.summary.Summary'>\n",
        "\"\"\"\n",
        "                           Logit Regression Results                           \n",
        "==============================================================================\n",
        "Dep. Variable:                SER_INJ   No. Observations:                 1022\n",
        "Model:                          Logit   Df Residuals:                      995\n",
        "Method:                           MLE   Df Model:                           26\n",
        "Date:                Wed, 30 Apr 2014   Pseudo R-squ.:                  0.1109\n",
        "Time:                        23:04:03   Log-Likelihood:                -467.48\n",
        "converged:                       True   LL-Null:                       -525.77\n",
        "                                        LLR p-value:                 1.949e-13\n",
        "==================================================================================\n",
        "                     coef    std err          z      P>|z|      [95.0% Conf. Int.]\n",
        "----------------------------------------------------------------------------------\n",
        "nodeNum_0         -1.5445      1.483     -1.042      0.298        -4.451     1.362\n",
        "nodeNum_4          0.9435      1.314      0.718      0.473        -1.632     3.519\n",
        "nodeNum_5          0.3814      1.061      0.359      0.719        -1.699     2.462\n",
        "nodeNum_6          0.8003      1.010      0.792      0.428        -1.179     2.780\n",
        "nodeNum_9          0.2938      1.050      0.280      0.780        -1.764     2.351\n",
        "nodeNum_10         2.8486      1.714      1.662      0.097        -0.511     6.208\n",
        "nodeNum_18        -0.8220      0.971     -0.846      0.397        -2.726     1.082\n",
        "nodeNum_20        -0.5198      1.000     -0.520      0.603        -2.479     1.440\n",
        "MONTH_T6          -0.4160      0.279     -1.492      0.136        -0.963     0.131\n",
        "SEX_IM_T2          0.2039      0.189      1.076      0.282        -0.167     0.575\n",
        "BDYTYP_IM_T2      -0.7894      0.500     -1.578      0.115        -1.770     0.191\n",
        "BDYTYP_IM_T6       0.6721      0.365      1.839      0.066        -0.044     1.388\n",
        "BDYTYP_IM_T9      -0.8767      0.323     -2.712      0.007        -1.510    -0.243\n",
        "BDYTYP_IM_T14      0.3726      0.236      1.579      0.114        -0.090     0.835\n",
        "IMPACT1_IM_T1      0.4633      0.342      1.353      0.176        -0.208     1.135\n",
        "IMPACT1_IM_T10     0.8349      0.561      1.487      0.137        -0.266     1.935\n",
        "IMPACT1_IM_T62    -0.9699      0.653     -1.485      0.138        -2.250     0.310\n",
        "PCRASH1_IM_T11     0.3198      0.253      1.266      0.205        -0.175     0.815\n",
        "PCRASH1_IM_T14     0.5655      0.641      0.883      0.377        -0.690     1.821\n",
        "V_ALCH_IM_T2      -1.5231      0.972     -1.567      0.117        -3.428     0.381\n",
        "HOUR_IM_T10       -0.7207      0.473     -1.525      0.127        -1.647     0.206\n",
        "HOUR_IM_T13       -0.9029      0.456     -1.979      0.048        -1.797    -0.009\n",
        "HOUR_IM_T17        0.4737      0.247      1.919      0.055        -0.010     0.958\n",
        "RELJCT2_IM_T2      0.1606      0.178      0.904      0.366        -0.188     0.509\n",
        "RELJCT2_IM_T4     -1.3314      0.542     -2.458      0.014        -2.393    -0.270\n",
        "LGTCON_IM_T2      -0.6637      0.515     -1.290      0.197        -1.672     0.345\n",
        "PERMVIT            0.1567      0.132      1.184      0.237        -0.103     0.416\n",
        "==================================================================================\n",
        "\"\"\""
       ]
      }
     ],
     "prompt_number": 122
    },
    {
     "cell_type": "code",
     "collapsed": false,
     "input": [
      "def hybrid_classify(aug_vSet, tree, fitted, res, classes, fit=None):\n",
      "    tot_ind = aug_vSet.index.tolist()\n",
      "    logit_design = design_for_hybrid(aug_vSet, tree)\n",
      "    logit_ind = logit_design.index.tolist()\n",
      "    tree_ind = list(set(tot_ind).difference(set(logit_ind)))\n",
      "    tree_matrix = aug_vSet.loc[tree_ind]\n",
      "    tree_preds = []\n",
      "    for ind, row in tree_matrix.iterrows():\n",
      "        tree_preds.append(treepredict.predictWithTree(row, tree, classes))\n",
      "    tree_preds = pd.DataFrame(tree_preds, columns=[\"Predictions\"], index=tree_ind)\n",
      "    cols = fitted.pvalues.index.tolist()\n",
      "    for col in cols:\n",
      "        if col not in logit_design and \"I(\" not in col:\n",
      "            logit_design[col] = 0\n",
      "    logit_probs = fitted.predict(exog=logit_design, transform=True)\n",
      "    logit_preds = [1 if x >=0.5 else 0 for x in logit_probs]\n",
      "    logit_preds = pd.DataFrame(logit_preds, columns=[\"Predictions\"], index= logit_ind)\n",
      "    total_preds = pd.concat([logit_preds, tree_preds])\n",
      "    total_preds = total_preds.loc[tot_ind]\n",
      "    true_class = aug_vSet[res]\n",
      "    num_obs = len(true_class)\n",
      "    wrong = 0\n",
      "    for i in range(num_obs):\n",
      "        if total_preds.iat[i, 0] != true_class.iat[i, 0]:\n",
      "            wrong += 1\n",
      "    err_rate = float(wrong)/num_obs\n",
      "    print \"When using the hybrid-CART Logit model, the total error rate is {} and the accuracy is {}\".format(err_rate,\n",
      "                                                                                                             1 - err_rate)\n",
      "    print \"The number of non-zero logit predictions is {}\".format(len(logit_preds[logit_preds[\"Predictions\"] != 0]))\n",
      "    return err_rate"
     ],
     "language": "python",
     "metadata": {},
     "outputs": [],
     "prompt_number": 216
    },
    {
     "cell_type": "code",
     "collapsed": false,
     "input": [
      "hybrid_classify(validationDesign, pruned_tSet_tree, min_multi, \"SER_INJ\", [0,1])\n",
      "tree_acc = treepredict.testAccuracy(validationDesign, pruned_tSet_tree, [0,1], \"SER_INJ\")\n",
      "print \"When using just the decision tree, the total error rate is {} and the accuracy is {}\".format(1-tree_acc, tree_acc)"
     ],
     "language": "python",
     "metadata": {},
     "outputs": [
      {
       "output_type": "stream",
       "stream": "stdout",
       "text": [
        "When using the hybrid-CART Logit model, the total error rate is 0.214035087719 and the accuracy is 0.785964912281\n",
        "When using just the decision tree, the total error rate is 0.210526315789 and the accuracy is 0.789473684211"
       ]
      },
      {
       "output_type": "stream",
       "stream": "stdout",
       "text": [
        "\n"
       ]
      }
     ],
     "prompt_number": 156
    },
    {
     "cell_type": "code",
     "collapsed": false,
     "input": [
      "def overall_test(aug_tSet, aug_vSet, tree, res, classes, fit_string=None):\n",
      "    d4logit = design_for_hybrid(aug_tSet, tree)\n",
      "    init_multi, init_multi_string = initial_multivariate(d4logit, res, fit=fit_string)\n",
      "    reduced_multi, reduced_multi_string = reduce_multi_model(init_multi, init_multi_string, res, d4logit, fit=fit_string)\n",
      "    hybrid_err = hybrid_classify(aug_vSet, tree, reduced_multi, res, classes)\n",
      "    tree_err = 1 - treepredict.testAccuracy(aug_vSet, tree, classes, res)\n",
      "    print \"When using just the decision tree, the total error rate is {} and the accuracy is {}\".format(tree_err, 1-tree_err)\n",
      "    return"
     ],
     "language": "python",
     "metadata": {},
     "outputs": [],
     "prompt_number": 213
    },
    {
     "cell_type": "code",
     "collapsed": false,
     "input": [
      "overall_test(trainingDesign, validationDesign, pruned_min10_tree, \"SER_INJ\", [0,1], fit_string=\"basinhopping\")"
     ],
     "language": "python",
     "metadata": {},
     "outputs": [
      {
       "output_type": "stream",
       "stream": "stdout",
       "text": [
        "These are the possible_vars so far: []\n",
        "Program encounted an error on column REGION_T2\n",
        "These are the possible_vars so far: []\n",
        "Program encounted an error on column REGION_T3\n",
        "These are the possible_vars so far:"
       ]
      },
      {
       "output_type": "stream",
       "stream": "stdout",
       "text": [
        " []\n",
        "Program encounted an error on column REGION_T4\n",
        "These are the possible_vars so far: []\n",
        "Program encounted an error on column MONTH_T2\n",
        "These are the possible_vars so far:"
       ]
      },
      {
       "output_type": "stream",
       "stream": "stdout",
       "text": [
        " []\n",
        "Program encounted an error on column MONTH_T3\n",
        "These are the possible_vars so far: []\n",
        "Program encounted an error on column MONTH_T4\n",
        "These are the possible_vars so far:"
       ]
      },
      {
       "output_type": "stream",
       "stream": "stdout",
       "text": [
        " []\n",
        "Program encounted an error on column MONTH_T5\n",
        "These are the possible_vars so far:"
       ]
      },
      {
       "output_type": "stream",
       "stream": "stdout",
       "text": [
        " []\n",
        "Program encounted an error on column MONTH_T6\n",
        "These are the possible_vars so far:"
       ]
      },
      {
       "output_type": "stream",
       "stream": "stdout",
       "text": [
        " []\n",
        "Program encounted an error on column MONTH_T7\n",
        "These are the possible_vars so far:"
       ]
      },
      {
       "output_type": "stream",
       "stream": "stdout",
       "text": [
        " []\n",
        "Program encounted an error on column MONTH_T8\n",
        "These are the possible_vars so far:"
       ]
      },
      {
       "output_type": "stream",
       "stream": "stdout",
       "text": [
        " []\n",
        "Program encounted an error on column MONTH_T9\n",
        "These are the possible_vars so far: []\n",
        "Program encounted an error on column MONTH_T10\n",
        "These are the possible_vars so far:"
       ]
      },
      {
       "output_type": "stream",
       "stream": "stdout",
       "text": [
        " []\n",
        "Program encounted an error on column MONTH_T11\n",
        "These are the possible_vars so far: []\n",
        "Program encounted an error on column MONTH_T12\n",
        "These are the possible_vars so far:"
       ]
      },
      {
       "output_type": "stream",
       "stream": "stdout",
       "text": [
        " []\n",
        "Program encounted an error on column DRUGS_Treatment(9999)_T0\n",
        "These are the possible_vars so far: []\n",
        "Program encounted an error on column DRUGS_Treatment(9999)_T1\n",
        "These are the possible_vars so far: []\n",
        "Program encounted an error on column LOCATION_Treatment(9999)_T1\n",
        "These are the possible_vars so far: []\n",
        "Program encounted an error on column LOCATION_Treatment(9999)_T2\n",
        "These are the possible_vars so far: []\n",
        "Program encounted an error on column LOCATION_Treatment(9999)_T3\n",
        "These are the possible_vars so far:"
       ]
      },
      {
       "output_type": "stream",
       "stream": "stdout",
       "text": [
        " []\n",
        "Program encounted an error on column LOCATION_Treatment(9999)_T9\n",
        "These are the possible_vars so far: []\n",
        "Program encounted an error on column LOCATION_Treatment(9999)_T10\n",
        "These are the possible_vars so far: []\n",
        "Program encounted an error on column LOCATION_Treatment(9999)_T11\n",
        "These are the possible_vars so far: []\n",
        "Program encounted an error on column LOCATION_Treatment(9999)_T13\n",
        "These are the possible_vars so far: []\n",
        "Program encounted an error on column LOCATION_Treatment(9999)_T14\n",
        "These are the possible_vars so far:"
       ]
      },
      {
       "output_type": "stream",
       "stream": "stdout",
       "text": [
        " []\n",
        "Program encounted an error on column LOCATION_Treatment(9999)_T16\n",
        "These are the possible_vars so far: []\n",
        "Program encounted an error on column LOCATION_Treatment(9999)_T20\n",
        "These are the possible_vars so far: []\n",
        "Program encounted an error on column LOCATION_Treatment(9999)_T21\n",
        "These are the possible_vars so far: []\n",
        "Program encounted an error on column LOCATION_Treatment(9999)_T23\n",
        "These are the possible_vars so far:"
       ]
      },
      {
       "output_type": "stream",
       "stream": "stdout",
       "text": [
        " []\n",
        "Program encounted an error on column LOCATION_Treatment(9999)_T25\n",
        "These are the possible_vars so far:"
       ]
      },
      {
       "output_type": "stream",
       "stream": "stdout",
       "text": [
        " []\n",
        "Program encounted an error on column SEX_IM_T2\n",
        "These are the possible_vars so far: []\n",
        "Program encounted an error on column PERALCH_IM_T1\n",
        "These are the possible_vars so far:"
       ]
      },
      {
       "output_type": "stream",
       "stream": "stdout",
       "text": [
        " []\n",
        "Program encounted an error on column TOW_VEH_vehDup_Treatment(9999)_T0\n",
        "These are the possible_vars so far: []\n",
        "Program encounted an error on column TOW_VEH_vehDup_Treatment(9999)_T1\n",
        "These are the possible_vars so far: []\n",
        "Program encounted an error on column GVWR_Treatment(9999)_T0\n",
        "These are the possible_vars so far: []\n",
        "Program encounted an error on column GVWR_Treatment(9999)_T2\n",
        "These are the possible_vars so far: []\n",
        "Program encounted an error on column GVWR_Treatment(9999)_T3\n",
        "These are the possible_vars so far:"
       ]
      },
      {
       "output_type": "stream",
       "stream": "stdout",
       "text": [
        " []\n",
        "Program encounted an error on column V_CONFIG_Treatment(9999)_T0\n",
        "These are the possible_vars so far: []\n",
        "Program encounted an error on column V_CONFIG_Treatment(9999)_T1\n",
        "These are the possible_vars so far: []\n",
        "Program encounted an error on column V_CONFIG_Treatment(9999)_T2\n",
        "These are the possible_vars so far: []\n",
        "Program encounted an error on column V_CONFIG_Treatment(9999)_T4\n",
        "These are the possible_vars so far: []\n",
        "Program encounted an error on column V_CONFIG_Treatment(9999)_T6\n",
        "These are the possible_vars so far:"
       ]
      },
      {
       "output_type": "stream",
       "stream": "stdout",
       "text": [
        " []\n",
        "Program encounted an error on column V_CONFIG_Treatment(9999)_T20\n",
        "These are the possible_vars so far: []\n",
        "Program encounted an error on column V_CONFIG_Treatment(9999)_T21\n",
        "These are the possible_vars so far: []\n",
        "Program encounted an error on column CARGO_BT_Treatment(9999)_T0\n",
        "These are the possible_vars so far: []\n",
        "Program encounted an error on column CARGO_BT_Treatment(9999)_T1\n",
        "These are the possible_vars so far: []\n",
        "Program encounted an error on column CARGO_BT_Treatment(9999)_T2\n",
        "These are the possible_vars so far:"
       ]
      },
      {
       "output_type": "stream",
       "stream": "stdout",
       "text": [
        " []\n",
        "Program encounted an error on column CARGO_BT_Treatment(9999)_T3\n",
        "These are the possible_vars so far: []\n",
        "Program encounted an error on column CARGO_BT_Treatment(9999)_T4\n",
        "These are the possible_vars so far: []\n",
        "Program encounted an error on column CARGO_BT_Treatment(9999)_T6\n",
        "These are the possible_vars so far: []\n",
        "Program encounted an error on column CARGO_BT_Treatment(9999)_T7\n",
        "These are the possible_vars so far: []\n",
        "Program encounted an error on column CARGO_BT_Treatment(9999)_T22\n",
        "These are the possible_vars so far:"
       ]
      },
      {
       "output_type": "stream",
       "stream": "stdout",
       "text": [
        " []\n",
        "Program encounted an error on column CARGO_BT_Treatment(9999)_T28\n",
        "These are the possible_vars so far: []\n",
        "Program encounted an error on column CARGO_BT_Treatment(9999)_T96\n",
        "These are the possible_vars so far: []\n",
        "Program encounted an error on column BUS_USE_Treatment(9999)_T0\n",
        "These are the possible_vars so far: []\n",
        "Program encounted an error on column BUS_USE_Treatment(9999)_T1\n",
        "These are the possible_vars so far: []\n",
        "Program encounted an error on column BUS_USE_Treatment(9999)_T4\n",
        "These are the possible_vars so far:"
       ]
      },
      {
       "output_type": "stream",
       "stream": "stdout",
       "text": [
        " []\n",
        "Program encounted an error on column BUS_USE_Treatment(9999)_T6\n",
        "These are the possible_vars so far: []\n",
        "Program encounted an error on column SPEC_USE_vehDup_Treatment(9999)_T0\n",
        "These are the possible_vars so far: []\n",
        "Program encounted an error on column SPEC_USE_vehDup_Treatment(9999)_T1\n",
        "These are the possible_vars so far: []\n",
        "Program encounted an error on column SPEC_USE_vehDup_Treatment(9999)_T3\n",
        "These are the possible_vars so far: []\n",
        "Program encounted an error on column SPEC_USE_vehDup_Treatment(9999)_T5\n",
        "These are the possible_vars so far:"
       ]
      },
      {
       "output_type": "stream",
       "stream": "stdout",
       "text": [
        " []\n",
        "Program encounted an error on column EMER_USE_vehDup_Treatment(9999)_T0\n",
        "These are the possible_vars so far: []\n",
        "Program encounted an error on column EMER_USE_vehDup_Treatment(9999)_T1\n",
        "These are the possible_vars so far: []\n",
        "Program encounted an error on column IMPACT2_vehDup_Treatment(9999)_T0\n",
        "These are the possible_vars so far: []\n",
        "Program encounted an error on column IMPACT2_vehDup_Treatment(9999)_T1\n",
        "These are the possible_vars so far: []\n",
        "Program encounted an error on column IMPACT2_vehDup_Treatment(9999)_T2\n",
        "These are the possible_vars so far:"
       ]
      },
      {
       "output_type": "stream",
       "stream": "stdout",
       "text": [
        " []\n",
        "Program encounted an error on column IMPACT2_vehDup_Treatment(9999)_T3\n",
        "These are the possible_vars so far: []\n",
        "Program encounted an error on column IMPACT2_vehDup_Treatment(9999)_T4\n",
        "These are the possible_vars so far: []\n",
        "Program encounted an error on column IMPACT2_vehDup_Treatment(9999)_T5\n",
        "These are the possible_vars so far: []\n",
        "Program encounted an error on column IMPACT2_vehDup_Treatment(9999)_T6\n",
        "These are the possible_vars so far: []\n",
        "Program encounted an error on column IMPACT2_vehDup_Treatment(9999)_T7\n",
        "These are the possible_vars so far:"
       ]
      },
      {
       "output_type": "stream",
       "stream": "stdout",
       "text": [
        " []\n",
        "Program encounted an error on column IMPACT2_vehDup_Treatment(9999)_T8\n",
        "These are the possible_vars so far: []\n",
        "Program encounted an error on column IMPACT2_vehDup_Treatment(9999)_T9\n",
        "These are the possible_vars so far: []\n",
        "Program encounted an error on column IMPACT2_vehDup_Treatment(9999)_T10\n",
        "These are the possible_vars so far: []\n",
        "Program encounted an error on column IMPACT2_vehDup_Treatment(9999)_T11\n",
        "These are the possible_vars so far: []\n",
        "Program encounted an error on column IMPACT2_vehDup_Treatment(9999)_T12\n",
        "These are the possible_vars so far: []\n",
        "Program encounted an error on column IMPACT2_vehDup_Treatment(9999)_T13\n",
        "These are the possible_vars so far:"
       ]
      },
      {
       "output_type": "stream",
       "stream": "stdout",
       "text": [
        " []\n",
        "Program encounted an error on column IMPACT2_vehDup_Treatment(9999)_T14\n",
        "These are the possible_vars so far: []\n",
        "Program encounted an error on column IMPACT2_vehDup_Treatment(9999)_T61\n",
        "These are the possible_vars so far: []\n",
        "Program encounted an error on column IMPACT2_vehDup_Treatment(9999)_T62\n",
        "These are the possible_vars so far: []\n",
        "Program encounted an error on column IMPACT2_vehDup_Treatment(9999)_T63\n",
        "These are the possible_vars so far: []\n",
        "Program encounted an error on column IMPACT2_vehDup_Treatment(9999)_T81\n",
        "These are the possible_vars so far:"
       ]
      },
      {
       "output_type": "stream",
       "stream": "stdout",
       "text": [
        " []\n",
        "Program encounted an error on column IMPACT2_vehDup_Treatment(9999)_T82\n",
        "These are the possible_vars so far: []\n",
        "Program encounted an error on column IMPACT2_vehDup_Treatment(9999)_T83\n",
        "These are the possible_vars so far: []\n",
        "Program encounted an error on column SPEEDREL_Treatment(9999)_T0\n",
        "These are the possible_vars so far: []\n",
        "Program encounted an error on column SPEEDREL_Treatment(9999)_T1\n",
        "These are the possible_vars so far: []\n",
        "Program encounted an error on column VTRAFWAY_Treatment(9999)_T0\n",
        "These are the possible_vars so far:"
       ]
      },
      {
       "output_type": "stream",
       "stream": "stdout",
       "text": [
        " []\n",
        "Program encounted an error on column VTRAFWAY_Treatment(9999)_T1\n",
        "These are the possible_vars so far: []\n",
        "Program encounted an error on column VTRAFWAY_Treatment(9999)_T2\n",
        "These are the possible_vars so far: []\n",
        "Program encounted an error on column VTRAFWAY_Treatment(9999)_T3\n",
        "These are the possible_vars so far: []\n",
        "Program encounted an error on column VTRAFWAY_Treatment(9999)_T4\n",
        "These are the possible_vars so far: []\n",
        "Program encounted an error on column VTRAFWAY_Treatment(9999)_T5\n",
        "These are the possible_vars so far:"
       ]
      },
      {
       "output_type": "stream",
       "stream": "stdout",
       "text": [
        " []\n",
        "Program encounted an error on column VTRAFWAY_Treatment(9999)_T6\n",
        "These are the possible_vars so far: []\n",
        "Program encounted an error on column VALIGN_Treatment(9999)_T0\n",
        "These are the possible_vars so far: []\n",
        "Program encounted an error on column VALIGN_Treatment(9999)_T1\n",
        "These are the possible_vars so far: []\n",
        "Program encounted an error on column VALIGN_Treatment(9999)_T2\n",
        "These are the possible_vars so far: []\n",
        "Program encounted an error on column VALIGN_Treatment(9999)_T3\n",
        "These are the possible_vars so far:"
       ]
      },
      {
       "output_type": "stream",
       "stream": "stdout",
       "text": [
        " []\n",
        "Program encounted an error on column VALIGN_Treatment(9999)_T4\n",
        "These are the possible_vars so far: []\n",
        "Program encounted an error on column VPROFILE_Treatment(9999)_T0\n",
        "These are the possible_vars so far: []\n",
        "Program encounted an error on column VPROFILE_Treatment(9999)_T1\n",
        "These are the possible_vars so far: []\n",
        "Program encounted an error on column VPROFILE_Treatment(9999)_T2\n",
        "These are the possible_vars so far: []\n",
        "Program encounted an error on column VPROFILE_Treatment(9999)_T3\n",
        "These are the possible_vars so far:"
       ]
      },
      {
       "output_type": "stream",
       "stream": "stdout",
       "text": [
        " []\n",
        "Program encounted an error on column VPROFILE_Treatment(9999)_T4\n",
        "These are the possible_vars so far: []\n",
        "Program encounted an error on column VPROFILE_Treatment(9999)_T5\n",
        "These are the possible_vars so far: []\n",
        "Program encounted an error on column VPROFILE_Treatment(9999)_T6\n",
        "These are the possible_vars so far: []\n",
        "Program encounted an error on column VSURCOND_Treatment(9999)_T0\n",
        "These are the possible_vars so far: []\n",
        "Program encounted an error on column VSURCOND_Treatment(9999)_T1\n",
        "These are the possible_vars so far:"
       ]
      },
      {
       "output_type": "stream",
       "stream": "stdout",
       "text": [
        " []\n",
        "Program encounted an error on column VSURCOND_Treatment(9999)_T2\n",
        "These are the possible_vars so far: []\n",
        "Program encounted an error on column VSURCOND_Treatment(9999)_T3\n",
        "These are the possible_vars so far: []\n",
        "Program encounted an error on column VSURCOND_Treatment(9999)_T4\n",
        "These are the possible_vars so far: []\n",
        "Program encounted an error on column VSURCOND_Treatment(9999)_T8\n",
        "These are the possible_vars so far: []\n",
        "Program encounted an error on column VTRAFCON_Treatment(9999)_T0\n",
        "These are the possible_vars so far:"
       ]
      },
      {
       "output_type": "stream",
       "stream": "stdout",
       "text": [
        " []\n",
        "Program encounted an error on column VTRAFCON_Treatment(9999)_T2\n",
        "These are the possible_vars so far: []\n",
        "Program encounted an error on column VTRAFCON_Treatment(9999)_T3\n",
        "These are the possible_vars so far: []\n",
        "Program encounted an error on column VTRAFCON_Treatment(9999)_T4\n",
        "These are the possible_vars so far: []\n",
        "Program encounted an error on column VTRAFCON_Treatment(9999)_T20\n",
        "These are the possible_vars so far: []\n",
        "Program encounted an error on column VTRAFCON_Treatment(9999)_T21\n",
        "These are the possible_vars so far:"
       ]
      },
      {
       "output_type": "stream",
       "stream": "stdout",
       "text": [
        " []\n",
        "Program encounted an error on column VTRAFCON_Treatment(9999)_T40\n",
        "These are the possible_vars so far: []\n",
        "Program encounted an error on column VTRAFCON_Treatment(9999)_T50\n",
        "These are the possible_vars so far: []\n",
        "Program encounted an error on column VTCONT_F_Treatment(9999)_T0\n",
        "These are the possible_vars so far: []\n",
        "Program encounted an error on column VTCONT_F_Treatment(9999)_T2\n",
        "These are the possible_vars so far: []\n",
        "Program encounted an error on column VTCONT_F_Treatment(9999)_T3\n",
        "These are the possible_vars so far:"
       ]
      },
      {
       "output_type": "stream",
       "stream": "stdout",
       "text": [
        " []\n",
        "Program encounted an error on column P_CRASH2_Treatment(9999)_T4\n",
        "These are the possible_vars so far: []\n",
        "Program encounted an error on column P_CRASH2_Treatment(9999)_T6\n",
        "These are the possible_vars so far: []\n",
        "Program encounted an error on column P_CRASH2_Treatment(9999)_T10\n",
        "These are the possible_vars so far: []\n",
        "Program encounted an error on column P_CRASH2_Treatment(9999)_T11\n",
        "These are the possible_vars so far: []\n",
        "Program encounted an error on column P_CRASH2_Treatment(9999)_T12\n",
        "These are the possible_vars so far:"
       ]
      },
      {
       "output_type": "stream",
       "stream": "stdout",
       "text": [
        " []\n",
        "Program encounted an error on column P_CRASH2_Treatment(9999)_T13\n",
        "These are the possible_vars so far: []\n",
        "Program encounted an error on column P_CRASH2_Treatment(9999)_T15\n",
        "These are the possible_vars so far: []\n",
        "Program encounted an error on column P_CRASH2_Treatment(9999)_T16\n",
        "These are the possible_vars so far: []\n",
        "Program encounted an error on column P_CRASH2_Treatment(9999)_T17\n",
        "These are the possible_vars so far: []\n",
        "Program encounted an error on column P_CRASH2_Treatment(9999)_T18\n",
        "These are the possible_vars so far:"
       ]
      },
      {
       "output_type": "stream",
       "stream": "stdout",
       "text": [
        " []\n",
        "Program encounted an error on column P_CRASH2_Treatment(9999)_T51\n",
        "These are the possible_vars so far: []\n",
        "Program encounted an error on column P_CRASH2_Treatment(9999)_T64\n",
        "These are the possible_vars so far: []\n",
        "Program encounted an error on column P_CRASH2_Treatment(9999)_T80\n",
        "These are the possible_vars so far: []\n",
        "Program encounted an error on column P_CRASH2_Treatment(9999)_T81\n",
        "These are the possible_vars so far: []\n",
        "Program encounted an error on column P_CRASH2_Treatment(9999)_T82\n",
        "These are the possible_vars so far:"
       ]
      },
      {
       "output_type": "stream",
       "stream": "stdout",
       "text": [
        " []\n",
        "Program encounted an error on column P_CRASH2_Treatment(9999)_T83\n",
        "These are the possible_vars so far: []\n",
        "Program encounted an error on column P_CRASH2_Treatment(9999)_T84\n",
        "These are the possible_vars so far: []\n",
        "Program encounted an error on column P_CRASH2_Treatment(9999)_T85\n",
        "These are the possible_vars so far: []\n",
        "Program encounted an error on column P_CRASH2_Treatment(9999)_T99\n",
        "These are the possible_vars so far:"
       ]
      },
      {
       "output_type": "stream",
       "stream": "stdout",
       "text": [
        " []\n",
        "Program encounted an error on column P_CRASH3_Treatment(9999)_T0\n",
        "These are the possible_vars so far: []\n",
        "Program encounted an error on column P_CRASH3_Treatment(9999)_T1\n",
        "These are the possible_vars so far: []\n",
        "Program encounted an error on column P_CRASH3_Treatment(9999)_T2\n",
        "These are the possible_vars so far: []\n",
        "Program encounted an error on column P_CRASH3_Treatment(9999)_T3\n",
        "These are the possible_vars so far: []\n",
        "Program encounted an error on column P_CRASH3_Treatment(9999)_T4\n",
        "These are the possible_vars so far:"
       ]
      },
      {
       "output_type": "stream",
       "stream": "stdout",
       "text": [
        " []\n",
        "Program encounted an error on column P_CRASH3_Treatment(9999)_T6\n",
        "These are the possible_vars so far: []\n",
        "Program encounted an error on column P_CRASH3_Treatment(9999)_T7\n",
        "These are the possible_vars so far: []\n",
        "Program encounted an error on column P_CRASH3_Treatment(9999)_T8\n",
        "These are the possible_vars so far: []\n",
        "Program encounted an error on column P_CRASH3_Treatment(9999)_T9\n",
        "These are the possible_vars so far: []\n",
        "Program encounted an error on column P_CRASH3_Treatment(9999)_T11\n",
        "These are the possible_vars so far:"
       ]
      },
      {
       "output_type": "stream",
       "stream": "stdout",
       "text": [
        " []\n",
        "Program encounted an error on column PCRASH4_Treatment(9999)_T0\n",
        "These are the possible_vars so far: []\n",
        "Program encounted an error on column PCRASH4_Treatment(9999)_T1\n",
        "These are the possible_vars so far: []\n",
        "Program encounted an error on column PCRASH4_Treatment(9999)_T2\n",
        "These are the possible_vars so far: []\n",
        "Program encounted an error on column PCRASH5_Treatment(9999)_T0\n",
        "These are the possible_vars so far: []\n",
        "Program encounted an error on column PCRASH5_Treatment(9999)_T1\n",
        "These are the possible_vars so far:"
       ]
      },
      {
       "output_type": "stream",
       "stream": "stdout",
       "text": [
        " []\n",
        "Program encounted an error on column PCRASH5_Treatment(9999)_T2\n",
        "These are the possible_vars so far: []\n",
        "Program encounted an error on column PCRASH5_Treatment(9999)_T3\n",
        "These are the possible_vars so far: []\n",
        "Program encounted an error on column PCRASH5_Treatment(9999)_T4\n",
        "These are the possible_vars so far: []\n",
        "Program encounted an error on column PCRASH5_Treatment(9999)_T5\n",
        "These are the possible_vars so far: []\n",
        "Program encounted an error on column PCRASH5_Treatment(9999)_T7\n",
        "These are the possible_vars so far:"
       ]
      },
      {
       "output_type": "stream",
       "stream": "stdout",
       "text": [
        " []\n",
        "Program encounted an error on column ACC_TYPE_Treatment(9999)_T1\n",
        "These are the possible_vars so far: []\n",
        "Program encounted an error on column ACC_TYPE_Treatment(9999)_T2\n",
        "These are the possible_vars so far: []\n",
        "Program encounted an error on column ACC_TYPE_Treatment(9999)_T6\n",
        "These are the possible_vars so far: []\n",
        "Program encounted an error on column ACC_TYPE_Treatment(9999)_T13\n",
        "These are the possible_vars so far: []\n",
        "Program encounted an error on column ACC_TYPE_Treatment(9999)_T50\n",
        "These are the possible_vars so far:"
       ]
      },
      {
       "output_type": "stream",
       "stream": "stdout",
       "text": [
        " []\n",
        "Program encounted an error on column ACC_TYPE_Treatment(9999)_T92\n",
        "These are the possible_vars so far: []\n",
        "Program encounted an error on column HITRUN_IM_T1\n",
        "These are the possible_vars so far:"
       ]
      },
      {
       "output_type": "stream",
       "stream": "stdout",
       "text": [
        " []\n",
        "Program encounted an error on column BDYTYP_IM_T2\n",
        "These are the possible_vars so far: []\n",
        "Program encounted an error on column BDYTYP_IM_T3\n",
        "These are the possible_vars so far:"
       ]
      },
      {
       "output_type": "stream",
       "stream": "stdout",
       "text": [
        " []\n",
        "Program encounted an error on column BDYTYP_IM_T4\n",
        "These are the possible_vars so far: []\n",
        "Program encounted an error on column BDYTYP_IM_T5\n",
        "These are the possible_vars so far:"
       ]
      },
      {
       "output_type": "stream",
       "stream": "stdout",
       "text": [
        " []\n",
        "Program encounted an error on column BDYTYP_IM_T6\n",
        "These are the possible_vars so far: []\n",
        "Program encounted an error on column BDYTYP_IM_T7\n",
        "These are the possible_vars so far:"
       ]
      },
      {
       "output_type": "stream",
       "stream": "stdout",
       "text": [
        " []\n",
        "Program encounted an error on column BDYTYP_IM_T8\n",
        "These are the possible_vars so far: []\n",
        "Program encounted an error on column BDYTYP_IM_T9\n",
        "These are the possible_vars so far:"
       ]
      },
      {
       "output_type": "stream",
       "stream": "stdout",
       "text": [
        " []\n",
        "Program encounted an error on column BDYTYP_IM_T12\n",
        "These are the possible_vars so far: []\n",
        "Program encounted an error on column BDYTYP_IM_T14\n",
        "These are the possible_vars so far:"
       ]
      },
      {
       "output_type": "stream",
       "stream": "stdout",
       "text": [
        " []\n",
        "Program encounted an error on column BDYTYP_IM_T15\n",
        "These are the possible_vars so far:"
       ]
      },
      {
       "output_type": "stream",
       "stream": "stdout",
       "text": [
        " []\n",
        "Program encounted an error on column BDYTYP_IM_T16\n",
        "These are the possible_vars so far:"
       ]
      },
      {
       "output_type": "stream",
       "stream": "stdout",
       "text": [
        " []\n",
        "Program encounted an error on column BDYTYP_IM_T17\n",
        "These are the possible_vars so far:"
       ]
      },
      {
       "output_type": "stream",
       "stream": "stdout",
       "text": [
        " []\n",
        "Program encounted an error on column BDYTYP_IM_T19\n",
        "These are the possible_vars so far:"
       ]
      },
      {
       "output_type": "stream",
       "stream": "stdout",
       "text": [
        " []\n",
        "Program encounted an error on column BDYTYP_IM_T20\n",
        "These are the possible_vars so far:"
       ]
      },
      {
       "output_type": "stream",
       "stream": "stdout",
       "text": [
        " []\n",
        "Program encounted an error on column BDYTYP_IM_T21\n",
        "These are the possible_vars so far:"
       ]
      },
      {
       "output_type": "stream",
       "stream": "stdout",
       "text": [
        " []\n",
        "Program encounted an error on column BDYTYP_IM_T29\n",
        "These are the possible_vars so far:"
       ]
      },
      {
       "output_type": "stream",
       "stream": "stdout",
       "text": [
        " []\n",
        "Program encounted an error on column BDYTYP_IM_T30\n",
        "These are the possible_vars so far:"
       ]
      },
      {
       "output_type": "stream",
       "stream": "stdout",
       "text": [
        " []\n",
        "Program encounted an error on column BDYTYP_IM_T31\n",
        "These are the possible_vars so far:"
       ]
      },
      {
       "output_type": "stream",
       "stream": "stdout",
       "text": [
        " []\n",
        "Program encounted an error on column BDYTYP_IM_T39\n",
        "These are the possible_vars so far:"
       ]
      },
      {
       "output_type": "stream",
       "stream": "stdout",
       "text": [
        " []\n",
        "Program encounted an error on column BDYTYP_IM_T40\n",
        "These are the possible_vars so far:"
       ]
      },
      {
       "output_type": "stream",
       "stream": "stdout",
       "text": [
        " []\n",
        "Program encounted an error on column BDYTYP_IM_T48\n",
        "These are the possible_vars so far:"
       ]
      },
      {
       "output_type": "stream",
       "stream": "stdout",
       "text": [
        " []\n",
        "Program encounted an error on column BDYTYP_IM_T50\n",
        "These are the possible_vars so far:"
       ]
      },
      {
       "output_type": "stream",
       "stream": "stdout",
       "text": [
        " []\n",
        "Program encounted an error on column BDYTYP_IM_T51\n",
        "These are the possible_vars so far:"
       ]
      },
      {
       "output_type": "stream",
       "stream": "stdout",
       "text": [
        " []\n",
        "Program encounted an error on column BDYTYP_IM_T52\n",
        "These are the possible_vars so far: []\n",
        "Program encounted an error on column BDYTYP_IM_T55\n",
        "These are the possible_vars so far:"
       ]
      },
      {
       "output_type": "stream",
       "stream": "stdout",
       "text": [
        " []\n",
        "Program encounted an error on column BDYTYP_IM_T59\n",
        "These are the possible_vars so far:"
       ]
      },
      {
       "output_type": "stream",
       "stream": "stdout",
       "text": [
        " []\n",
        "Program encounted an error on column BDYTYP_IM_T60\n",
        "These are the possible_vars so far:"
       ]
      },
      {
       "output_type": "stream",
       "stream": "stdout",
       "text": [
        " []\n",
        "Program encounted an error on column BDYTYP_IM_T61\n",
        "These are the possible_vars so far:"
       ]
      },
      {
       "output_type": "stream",
       "stream": "stdout",
       "text": [
        " []\n",
        "Program encounted an error on column BDYTYP_IM_T62\n",
        "These are the possible_vars so far:"
       ]
      },
      {
       "output_type": "stream",
       "stream": "stdout",
       "text": [
        " []\n",
        "Program encounted an error on column BDYTYP_IM_T63\n",
        "These are the possible_vars so far:"
       ]
      },
      {
       "output_type": "stream",
       "stream": "stdout",
       "text": [
        " []\n",
        "Program encounted an error on column BDYTYP_IM_T66\n",
        "These are the possible_vars so far: []\n",
        "Program encounted an error on column BDYTYP_IM_T67\n",
        "These are the possible_vars so far:"
       ]
      },
      {
       "output_type": "stream",
       "stream": "stdout",
       "text": [
        " []\n",
        "Program encounted an error on column BDYTYP_IM_T80\n",
        "These are the possible_vars so far:"
       ]
      },
      {
       "output_type": "stream",
       "stream": "stdout",
       "text": [
        " []\n",
        "Program encounted an error on column BDYTYP_IM_T88\n",
        "These are the possible_vars so far:"
       ]
      },
      {
       "output_type": "stream",
       "stream": "stdout",
       "text": [
        " []\n",
        "Program encounted an error on column BDYTYP_IM_T94\n",
        "These are the possible_vars so far:"
       ]
      },
      {
       "output_type": "stream",
       "stream": "stdout",
       "text": [
        " []\n",
        "Program encounted an error on column BDYTYP_IM_T97\n",
        "These are the possible_vars so far:"
       ]
      },
      {
       "output_type": "stream",
       "stream": "stdout",
       "text": [
        " []\n",
        "Program encounted an error on column IMPACT1_IM_T1\n",
        "These are the possible_vars so far:"
       ]
      },
      {
       "output_type": "stream",
       "stream": "stdout",
       "text": [
        " []\n",
        "Program encounted an error on column IMPACT1_IM_T2\n",
        "These are the possible_vars so far:"
       ]
      },
      {
       "output_type": "stream",
       "stream": "stdout",
       "text": [
        " []\n",
        "Program encounted an error on column IMPACT1_IM_T3\n",
        "These are the possible_vars so far:"
       ]
      },
      {
       "output_type": "stream",
       "stream": "stdout",
       "text": [
        " []\n",
        "Program encounted an error on column IMPACT1_IM_T4\n",
        "These are the possible_vars so far:"
       ]
      },
      {
       "output_type": "stream",
       "stream": "stdout",
       "text": [
        " []\n",
        "Program encounted an error on column IMPACT1_IM_T5\n",
        "These are the possible_vars so far:"
       ]
      },
      {
       "output_type": "stream",
       "stream": "stdout",
       "text": [
        " []\n",
        "Program encounted an error on column IMPACT1_IM_T6\n",
        "These are the possible_vars so far:"
       ]
      },
      {
       "output_type": "stream",
       "stream": "stdout",
       "text": [
        " []\n",
        "Program encounted an error on column IMPACT1_IM_T7\n",
        "These are the possible_vars so far:"
       ]
      },
      {
       "output_type": "stream",
       "stream": "stdout",
       "text": [
        " []\n",
        "Program encounted an error on column IMPACT1_IM_T8\n",
        "These are the possible_vars so far:"
       ]
      },
      {
       "output_type": "stream",
       "stream": "stdout",
       "text": [
        " []\n",
        "Program encounted an error on column IMPACT1_IM_T9\n",
        "These are the possible_vars so far:"
       ]
      },
      {
       "output_type": "stream",
       "stream": "stdout",
       "text": [
        " []\n",
        "Program encounted an error on column IMPACT1_IM_T10\n",
        "These are the possible_vars so far:"
       ]
      },
      {
       "output_type": "stream",
       "stream": "stdout",
       "text": [
        " []\n",
        "Program encounted an error on column IMPACT1_IM_T11\n",
        "These are the possible_vars so far:"
       ]
      },
      {
       "output_type": "stream",
       "stream": "stdout",
       "text": [
        " []\n",
        "Program encounted an error on column IMPACT1_IM_T12\n",
        "These are the possible_vars so far:"
       ]
      },
      {
       "output_type": "stream",
       "stream": "stdout",
       "text": [
        " []\n",
        "Program encounted an error on column IMPACT1_IM_T13\n",
        "These are the possible_vars so far:"
       ]
      },
      {
       "output_type": "stream",
       "stream": "stdout",
       "text": [
        " []\n",
        "Program encounted an error on column IMPACT1_IM_T14\n",
        "These are the possible_vars so far:"
       ]
      },
      {
       "output_type": "stream",
       "stream": "stdout",
       "text": [
        " []\n",
        "Program encounted an error on column IMPACT1_IM_T61\n",
        "These are the possible_vars so far:"
       ]
      },
      {
       "output_type": "stream",
       "stream": "stdout",
       "text": [
        " []\n",
        "Program encounted an error on column IMPACT1_IM_T62\n",
        "These are the possible_vars so far:"
       ]
      },
      {
       "output_type": "stream",
       "stream": "stdout",
       "text": [
        " []\n",
        "Program encounted an error on column IMPACT1_IM_T63\n",
        "These are the possible_vars so far:"
       ]
      },
      {
       "output_type": "stream",
       "stream": "stdout",
       "text": [
        " []\n",
        "Program encounted an error on column IMPACT1_IM_T81\n",
        "These are the possible_vars so far:"
       ]
      },
      {
       "output_type": "stream",
       "stream": "stdout",
       "text": [
        " []\n",
        "Program encounted an error on column IMPACT1_IM_T82\n",
        "These are the possible_vars so far:"
       ]
      },
      {
       "output_type": "stream",
       "stream": "stdout",
       "text": [
        " []\n",
        "Program encounted an error on column IMPACT1_IM_T83\n",
        "These are the possible_vars so far:"
       ]
      },
      {
       "output_type": "stream",
       "stream": "stdout",
       "text": [
        " []\n",
        "Program encounted an error on column PCRASH1_IM_T1\n",
        "These are the possible_vars so far:"
       ]
      },
      {
       "output_type": "stream",
       "stream": "stdout",
       "text": [
        " []\n",
        "Program encounted an error on column PCRASH1_IM_T2\n",
        "These are the possible_vars so far:"
       ]
      },
      {
       "output_type": "stream",
       "stream": "stdout",
       "text": [
        " []\n",
        "Program encounted an error on column PCRASH1_IM_T4\n",
        "These are the possible_vars so far:"
       ]
      },
      {
       "output_type": "stream",
       "stream": "stdout",
       "text": [
        " []\n",
        "Program encounted an error on column PCRASH1_IM_T5\n",
        "These are the possible_vars so far:"
       ]
      },
      {
       "output_type": "stream",
       "stream": "stdout",
       "text": [
        " []\n",
        "Program encounted an error on column PCRASH1_IM_T6\n",
        "These are the possible_vars so far:"
       ]
      },
      {
       "output_type": "stream",
       "stream": "stdout",
       "text": [
        " []\n",
        "Program encounted an error on column PCRASH1_IM_T7\n",
        "These are the possible_vars so far:"
       ]
      },
      {
       "output_type": "stream",
       "stream": "stdout",
       "text": [
        " []\n",
        "Program encounted an error on column PCRASH1_IM_T8\n",
        "These are the possible_vars so far:"
       ]
      },
      {
       "output_type": "stream",
       "stream": "stdout",
       "text": [
        " []\n",
        "Program encounted an error on column PCRASH1_IM_T9\n",
        "These are the possible_vars so far:"
       ]
      },
      {
       "output_type": "stream",
       "stream": "stdout",
       "text": [
        " []\n",
        "Program encounted an error on column PCRASH1_IM_T10\n",
        "These are the possible_vars so far:"
       ]
      },
      {
       "output_type": "stream",
       "stream": "stdout",
       "text": [
        " []\n",
        "Program encounted an error on column PCRASH1_IM_T11\n",
        "These are the possible_vars so far:"
       ]
      },
      {
       "output_type": "stream",
       "stream": "stdout",
       "text": [
        " []\n",
        "Program encounted an error on column PCRASH1_IM_T12\n",
        "These are the possible_vars so far:"
       ]
      },
      {
       "output_type": "stream",
       "stream": "stdout",
       "text": [
        " []\n",
        "Program encounted an error on column PCRASH1_IM_T13\n",
        "These are the possible_vars so far:"
       ]
      },
      {
       "output_type": "stream",
       "stream": "stdout",
       "text": [
        " []\n",
        "Program encounted an error on column PCRASH1_IM_T14\n",
        "These are the possible_vars so far:"
       ]
      },
      {
       "output_type": "stream",
       "stream": "stdout",
       "text": [
        " []\n",
        "Program encounted an error on column PCRASH1_IM_T15\n",
        "These are the possible_vars so far:"
       ]
      },
      {
       "output_type": "stream",
       "stream": "stdout",
       "text": [
        " []\n",
        "Program encounted an error on column PCRASH1_IM_T17\n",
        "These are the possible_vars so far:"
       ]
      },
      {
       "output_type": "stream",
       "stream": "stdout",
       "text": [
        " []\n",
        "Program encounted an error on column PCRASH1_IM_T98\n",
        "These are the possible_vars so far:"
       ]
      },
      {
       "output_type": "stream",
       "stream": "stdout",
       "text": [
        " []\n",
        "Program encounted an error on column V_ALCH_IM_T2\n",
        "These are the possible_vars so far: []\n",
        "Program encounted an error on column LAND_USE_Treatment(9999)_T1\n",
        "These are the possible_vars so far: []\n",
        "Program encounted an error on column LAND_USE_Treatment(9999)_T2\n",
        "These are the possible_vars so far:"
       ]
      },
      {
       "output_type": "stream",
       "stream": "stdout",
       "text": [
        " []\n",
        "Program encounted an error on column LAND_USE_Treatment(9999)_T3\n",
        "These are the possible_vars so far: []\n",
        "Program encounted an error on column ALCOHOL_Treatment(9999)_T1\n",
        "These are the possible_vars so far: []\n",
        "Program encounted an error on column ALCOHOL_Treatment(9999)_T2\n",
        "These are the possible_vars so far:"
       ]
      },
      {
       "output_type": "stream",
       "stream": "stdout",
       "text": [
        " []\n",
        "Program encounted an error on column TYP_INT_Treatment(9999)_T1\n",
        "These are the possible_vars so far: []\n",
        "Program encounted an error on column TYP_INT_Treatment(9999)_T2\n",
        "These are the possible_vars so far: []\n",
        "Program encounted an error on column TYP_INT_Treatment(9999)_T3\n",
        "These are the possible_vars so far:"
       ]
      },
      {
       "output_type": "stream",
       "stream": "stdout",
       "text": [
        " []\n",
        "Program encounted an error on column TYP_INT_Treatment(9999)_T4\n",
        "These are the possible_vars so far: []\n",
        "Program encounted an error on column TYP_INT_Treatment(9999)_T5\n",
        "These are the possible_vars so far: []\n",
        "Program encounted an error on column TYP_INT_Treatment(9999)_T7\n",
        "These are the possible_vars so far:"
       ]
      },
      {
       "output_type": "stream",
       "stream": "stdout",
       "text": [
        " []\n",
        "Program encounted an error on column WRK_ZONE_T1\n",
        "These are the possible_vars so far:"
       ]
      },
      {
       "output_type": "stream",
       "stream": "stdout",
       "text": [
        " []\n",
        "Program encounted an error on column WRK_ZONE_T4\n",
        "These are the possible_vars so far: []\n",
        "Program encounted an error on column REL_ROAD_Treatment(9999)_T1\n",
        "These are the possible_vars so far: []\n",
        "Program encounted an error on column REL_ROAD_Treatment(9999)_T2\n",
        "These are the possible_vars so far: []\n",
        "Program encounted an error on column REL_ROAD_Treatment(9999)_T4\n",
        "These are the possible_vars so far: []\n",
        "Program encounted an error on column REL_ROAD_Treatment(9999)_T5\n",
        "These are the possible_vars so far:"
       ]
      },
      {
       "output_type": "stream",
       "stream": "stdout",
       "text": [
        " []\n",
        "Program encounted an error on column REL_ROAD_Treatment(9999)_T7\n",
        "These are the possible_vars so far: []\n",
        "Program encounted an error on column REL_ROAD_Treatment(9999)_T11\n",
        "These are the possible_vars so far:"
       ]
      },
      {
       "output_type": "stream",
       "stream": "stdout",
       "text": [
        " []\n",
        "Program encounted an error on column WKDY_IM_T2\n",
        "These are the possible_vars so far:"
       ]
      },
      {
       "output_type": "stream",
       "stream": "stdout",
       "text": [
        " []\n",
        "Program encounted an error on column WKDY_IM_T3\n",
        "These are the possible_vars so far:"
       ]
      },
      {
       "output_type": "stream",
       "stream": "stdout",
       "text": [
        " []\n",
        "Program encounted an error on column WKDY_IM_T4\n",
        "These are the possible_vars so far:"
       ]
      },
      {
       "output_type": "stream",
       "stream": "stdout",
       "text": [
        " []\n",
        "Program encounted an error on column WKDY_IM_T5\n",
        "These are the possible_vars so far:"
       ]
      },
      {
       "output_type": "stream",
       "stream": "stdout",
       "text": [
        " []\n",
        "Program encounted an error on column WKDY_IM_T6\n",
        "These are the possible_vars so far:"
       ]
      },
      {
       "output_type": "stream",
       "stream": "stdout",
       "text": [
        " []\n",
        "Program encounted an error on column WKDY_IM_T7\n",
        "These are the possible_vars so far:"
       ]
      },
      {
       "output_type": "stream",
       "stream": "stdout",
       "text": [
        " []\n",
        "Program encounted an error on column HOUR_IM_T1\n",
        "These are the possible_vars so far:"
       ]
      },
      {
       "output_type": "stream",
       "stream": "stdout",
       "text": [
        " []\n",
        "Program encounted an error on column HOUR_IM_T2\n",
        "These are the possible_vars so far:"
       ]
      },
      {
       "output_type": "stream",
       "stream": "stdout",
       "text": [
        " []\n",
        "Program encounted an error on column HOUR_IM_T3\n",
        "These are the possible_vars so far:"
       ]
      },
      {
       "output_type": "stream",
       "stream": "stdout",
       "text": [
        " []\n",
        "Program encounted an error on column HOUR_IM_T4\n",
        "These are the possible_vars so far:"
       ]
      },
      {
       "output_type": "stream",
       "stream": "stdout",
       "text": [
        " []\n",
        "Program encounted an error on column HOUR_IM_T5\n",
        "These are the possible_vars so far:"
       ]
      },
      {
       "output_type": "stream",
       "stream": "stdout",
       "text": [
        " []\n",
        "Program encounted an error on column HOUR_IM_T6\n",
        "These are the possible_vars so far:"
       ]
      },
      {
       "output_type": "stream",
       "stream": "stdout",
       "text": [
        " []\n",
        "Program encounted an error on column HOUR_IM_T7\n",
        "These are the possible_vars so far:"
       ]
      },
      {
       "output_type": "stream",
       "stream": "stdout",
       "text": [
        " []\n",
        "Program encounted an error on column HOUR_IM_T8\n",
        "These are the possible_vars so far:"
       ]
      },
      {
       "output_type": "stream",
       "stream": "stdout",
       "text": [
        " []\n",
        "Program encounted an error on column HOUR_IM_T9\n",
        "These are the possible_vars so far:"
       ]
      },
      {
       "output_type": "stream",
       "stream": "stdout",
       "text": [
        " []\n",
        "Program encounted an error on column HOUR_IM_T10\n",
        "These are the possible_vars so far:"
       ]
      },
      {
       "output_type": "stream",
       "stream": "stdout",
       "text": [
        " []\n",
        "Program encounted an error on column HOUR_IM_T11\n",
        "These are the possible_vars so far:"
       ]
      },
      {
       "output_type": "stream",
       "stream": "stdout",
       "text": [
        " []\n",
        "Program encounted an error on column HOUR_IM_T12\n",
        "These are the possible_vars so far:"
       ]
      },
      {
       "output_type": "stream",
       "stream": "stdout",
       "text": [
        " []\n",
        "Program encounted an error on column HOUR_IM_T13\n",
        "These are the possible_vars so far:"
       ]
      },
      {
       "output_type": "stream",
       "stream": "stdout",
       "text": [
        " []\n",
        "Program encounted an error on column HOUR_IM_T14\n",
        "These are the possible_vars so far:"
       ]
      },
      {
       "output_type": "stream",
       "stream": "stdout",
       "text": [
        " []\n",
        "Program encounted an error on column HOUR_IM_T15\n",
        "These are the possible_vars so far:"
       ]
      },
      {
       "output_type": "stream",
       "stream": "stdout",
       "text": [
        " []\n",
        "Program encounted an error on column HOUR_IM_T16\n",
        "These are the possible_vars so far:"
       ]
      },
      {
       "output_type": "stream",
       "stream": "stdout",
       "text": [
        " []\n",
        "Program encounted an error on column HOUR_IM_T17\n",
        "These are the possible_vars so far:"
       ]
      },
      {
       "output_type": "stream",
       "stream": "stdout",
       "text": [
        " []\n",
        "Program encounted an error on column HOUR_IM_T18\n",
        "These are the possible_vars so far:"
       ]
      },
      {
       "output_type": "stream",
       "stream": "stdout",
       "text": [
        " []\n",
        "Program encounted an error on column HOUR_IM_T19\n",
        "These are the possible_vars so far:"
       ]
      },
      {
       "output_type": "stream",
       "stream": "stdout",
       "text": [
        " []\n",
        "Program encounted an error on column HOUR_IM_T20\n",
        "These are the possible_vars so far:"
       ]
      },
      {
       "output_type": "stream",
       "stream": "stdout",
       "text": [
        " []\n",
        "Program encounted an error on column HOUR_IM_T21\n",
        "These are the possible_vars so far:"
       ]
      },
      {
       "output_type": "stream",
       "stream": "stdout",
       "text": [
        " []\n",
        "Program encounted an error on column HOUR_IM_T22\n",
        "These are the possible_vars so far:"
       ]
      },
      {
       "output_type": "stream",
       "stream": "stdout",
       "text": [
        " []\n",
        "Program encounted an error on column HOUR_IM_T23\n",
        "These are the possible_vars so far:"
       ]
      },
      {
       "output_type": "stream",
       "stream": "stdout",
       "text": [
        " []\n",
        "Program encounted an error on column RELJCT1_IM_T1\n",
        "These are the possible_vars so far:"
       ]
      },
      {
       "output_type": "stream",
       "stream": "stdout",
       "text": [
        " []\n",
        "Program encounted an error on column RELJCT2_IM_T2\n",
        "These are the possible_vars so far:"
       ]
      },
      {
       "output_type": "stream",
       "stream": "stdout",
       "text": [
        " []\n",
        "Program encounted an error on column RELJCT2_IM_T3\n",
        "These are the possible_vars so far:"
       ]
      },
      {
       "output_type": "stream",
       "stream": "stdout",
       "text": [
        " []\n",
        "Program encounted an error on column RELJCT2_IM_T4\n",
        "These are the possible_vars so far:"
       ]
      },
      {
       "output_type": "stream",
       "stream": "stdout",
       "text": [
        " []\n",
        "Program encounted an error on column RELJCT2_IM_T5\n",
        "These are the possible_vars so far:"
       ]
      },
      {
       "output_type": "stream",
       "stream": "stdout",
       "text": [
        " []\n",
        "Program encounted an error on column RELJCT2_IM_T6\n",
        "These are the possible_vars so far:"
       ]
      },
      {
       "output_type": "stream",
       "stream": "stdout",
       "text": [
        " []\n",
        "Program encounted an error on column RELJCT2_IM_T7\n",
        "These are the possible_vars so far:"
       ]
      },
      {
       "output_type": "stream",
       "stream": "stdout",
       "text": [
        " []\n",
        "Program encounted an error on column RELJCT2_IM_T8\n",
        "These are the possible_vars so far:"
       ]
      },
      {
       "output_type": "stream",
       "stream": "stdout",
       "text": [
        " []\n",
        "Program encounted an error on column RELJCT2_IM_T16\n",
        "These are the possible_vars so far:"
       ]
      },
      {
       "output_type": "stream",
       "stream": "stdout",
       "text": [
        " []\n",
        "Program encounted an error on column RELJCT2_IM_T18\n",
        "These are the possible_vars so far:"
       ]
      },
      {
       "output_type": "stream",
       "stream": "stdout",
       "text": [
        " []\n",
        "Program encounted an error on column LGTCON_IM_T2\n",
        "These are the possible_vars so far:"
       ]
      },
      {
       "output_type": "stream",
       "stream": "stdout",
       "text": [
        " []\n",
        "Program encounted an error on column LGTCON_IM_T3\n",
        "These are the possible_vars so far:"
       ]
      },
      {
       "output_type": "stream",
       "stream": "stdout",
       "text": [
        " []\n",
        "Program encounted an error on column LGTCON_IM_T4\n",
        "These are the possible_vars so far:"
       ]
      },
      {
       "output_type": "stream",
       "stream": "stdout",
       "text": [
        " []\n",
        "Program encounted an error on column LGTCON_IM_T5\n",
        "These are the possible_vars so far:"
       ]
      },
      {
       "output_type": "stream",
       "stream": "stdout",
       "text": [
        " []\n",
        "Program encounted an error on column LGTCON_IM_T6\n",
        "These are the possible_vars so far:"
       ]
      },
      {
       "output_type": "stream",
       "stream": "stdout",
       "text": [
        " []\n",
        "Program encounted an error on column WEATHR_IM_T2\n",
        "These are the possible_vars so far:"
       ]
      },
      {
       "output_type": "stream",
       "stream": "stdout",
       "text": [
        " []\n",
        "Program encounted an error on column WEATHR_IM_T4\n",
        "These are the possible_vars so far:"
       ]
      },
      {
       "output_type": "stream",
       "stream": "stdout",
       "text": [
        " []\n",
        "Program encounted an error on column WEATHR_IM_T5\n",
        "These are the possible_vars so far:"
       ]
      },
      {
       "output_type": "stream",
       "stream": "stdout",
       "text": [
        " []\n",
        "Program encounted an error on column WEATHR_IM_T10\n",
        "These are the possible_vars so far:"
       ]
      },
      {
       "output_type": "stream",
       "stream": "stdout",
       "text": [
        " []\n",
        "Program encounted an error on column ALCHL_IM_T2\n",
        "These are the possible_vars so far: []\n",
        "Program encounted an error on column DRIVER_SEX_Treatment(9999)_T1\n",
        "These are the possible_vars so far:"
       ]
      },
      {
       "output_type": "stream",
       "stream": "stdout",
       "text": [
        " []\n",
        "Program encounted an error on column DRIVER_SEX_Treatment(9999)_T2\n",
        "These are the possible_vars so far: []\n",
        "Program encounted an error on column DRIVER_DRUGS_Treatment(9999)_T0\n",
        "These are the possible_vars so far: []\n",
        "Program encounted an error on column DRIVER_DRUGS_Treatment(9999)_T1\n",
        "These are the possible_vars so far:"
       ]
      },
      {
       "output_type": "stream",
       "stream": "stdout",
       "text": [
        " []\n",
        "Program encounted an error on column AGE_IM\n",
        "These are the possible_vars so far:"
       ]
      },
      {
       "output_type": "stream",
       "stream": "stdout",
       "text": [
        " []\n",
        "Program encounted an error on column NUMOCCS\n",
        "These are the possible_vars so far:"
       ]
      },
      {
       "output_type": "stream",
       "stream": "stdout",
       "text": [
        " []\n",
        "Program encounted an error on column TRAV_SP\n",
        "These are the possible_vars so far:"
       ]
      },
      {
       "output_type": "stream",
       "stream": "stdout",
       "text": [
        " []\n",
        "Program encounted an error on column VNUM_LAN\n",
        "These are the possible_vars so far:"
       ]
      },
      {
       "output_type": "stream",
       "stream": "stdout",
       "text": [
        " []\n",
        "Program encounted an error on column VSPD_LIM\n",
        "These are the possible_vars so far:"
       ]
      },
      {
       "output_type": "stream",
       "stream": "stdout",
       "text": [
        " []\n",
        "Program encounted an error on column PEDS\n",
        "These are the possible_vars so far:"
       ]
      },
      {
       "output_type": "stream",
       "stream": "stdout",
       "text": [
        " []\n",
        "Program encounted an error on column PERMVIT\n",
        "These are the possible_vars so far:"
       ]
      },
      {
       "output_type": "stream",
       "stream": "stdout",
       "text": [
        " []\n",
        "Program encounted an error on column PERNOTMVIT\n",
        "These are the possible_vars so far:"
       ]
      },
      {
       "output_type": "stream",
       "stream": "stdout",
       "text": [
        " []\n",
        "Program encounted an error on column DRIVER_AGE\n",
        "These are the possible_vars so far:"
       ]
      },
      {
       "output_type": "stream",
       "stream": "stdout",
       "text": [
        " []\n",
        "Program encounted an error on column MSAFEQMT1\n",
        "These are the possible_vars so far:"
       ]
      },
      {
       "output_type": "stream",
       "stream": "stdout",
       "text": [
        " []\n",
        "Program encounted an error on column MSAFEQMT2\n",
        "These are the possible_vars so far:"
       ]
      },
      {
       "output_type": "stream",
       "stream": "stdout",
       "text": [
        " []\n",
        "Program encounted an error on column MSAFEQMT3\n",
        "These are the possible_vars so far:"
       ]
      },
      {
       "output_type": "stream",
       "stream": "stdout",
       "text": [
        " []\n",
        "Program encounted an error on column MSAFEQMT4\n",
        "These are the possible_vars so far:"
       ]
      },
      {
       "output_type": "stream",
       "stream": "stdout",
       "text": [
        " []\n",
        "Program encounted an error on column MSAFEQMT5\n",
        "These are the possible_vars so far:"
       ]
      },
      {
       "output_type": "stream",
       "stream": "stdout",
       "text": [
        " []\n",
        "Program encounted an error on column MSAFEQMT7\n",
        "Warning: Maximum number of iterations has been exceeded."
       ]
      },
      {
       "output_type": "stream",
       "stream": "stdout",
       "text": [
        "\n",
        "         Current function value: 0.438707\n",
        "         Iterations: 35\n",
        "                           Logit Regression Results                           \n",
        "==============================================================================\n",
        "Dep. Variable:                SER_INJ   No. Observations:                 1126\n",
        "Model:                          Logit   Df Residuals:                     1109\n",
        "Method:                           MLE   Df Model:                           16\n",
        "Date:                Thu, 01 May 2014   Pseudo R-squ.:                  0.1229\n",
        "Time:                        02:47:21   Log-Likelihood:                -493.98\n",
        "converged:                      False   LL-Null:                       -563.18\n",
        "                                        LLR p-value:                 1.492e-21\n",
        "==============================================================================\n",
        "                 coef    std err          z      P>|z|      [95.0% Conf. Int.]\n",
        "------------------------------------------------------------------------------\n",
        "nodeNum_0     -2.8332      1.029     -2.753      0.006        -4.850    -0.816\n",
        "nodeNum_1     36.2029   6.71e+07   5.39e-07      1.000     -1.32e+08  1.32e+08\n",
        "nodeNum_2    -36.2029   7.27e+07  -4.98e-07      1.000     -1.42e+08  1.42e+08\n",
        "nodeNum_3    -36.2029   1.25e+07   -2.9e-06      1.000     -2.44e+07  2.44e+07\n",
        "nodeNum_4     -0.2877      0.764     -0.377      0.706        -1.785     1.209\n",
        "nodeNum_5     -0.7309      0.338     -2.165      0.030        -1.393    -0.069\n",
        "nodeNum_6     -0.5684      0.139     -4.087      0.000        -0.841    -0.296\n",
        "nodeNum_8    -36.2029   1.71e+07  -2.11e-06      1.000     -3.36e+07  3.36e+07\n",
        "nodeNum_9     -1.1787      0.286     -4.123      0.000        -1.739    -0.618\n",
        "nodeNum_10     0.6931      1.225      0.566      0.571        -1.707     3.094\n",
        "nodeNum_11   -36.2029    4.2e+07  -8.63e-07      1.000     -8.22e+07  8.22e+07\n",
        "nodeNum_13   -36.2029   1.82e+07  -1.99e-06      1.000     -3.56e+07  3.56e+07\n",
        "nodeNum_14   -36.2029   1.48e+07  -2.44e-06      1.000     -2.91e+07  2.91e+07\n",
        "nodeNum_15    36.2029   2.54e+07   1.43e-06      1.000     -4.97e+07  4.97e+07\n",
        "nodeNum_16    36.2029   3.36e+07   1.08e-06      1.000     -6.58e+07  6.58e+07\n",
        "nodeNum_19   -36.2029   3.63e+07  -9.96e-07      1.000     -7.12e+07  7.12e+07\n",
        "nodeNum_20    -1.7479      0.110    -15.887      0.000        -1.963    -1.532\n",
        "=============================================================================="
       ]
      },
      {
       "output_type": "stream",
       "stream": "stdout",
       "text": [
        "\n",
        "When using the hybrid-CART Logit model, the total error rate is 0.217543859649 and the accuracy is 0.782456140351"
       ]
      },
      {
       "output_type": "stream",
       "stream": "stdout",
       "text": [
        "\n",
        "The number of non-zero logit predictions is 2\n",
        "When using just the decision tree, the total error rate is 0.210526315789 and the accuracy is 0.789473684211"
       ]
      },
      {
       "output_type": "stream",
       "stream": "stdout",
       "text": [
        "\n"
       ]
      }
     ],
     "prompt_number": 217
    },
    {
     "cell_type": "code",
     "collapsed": false,
     "input": [
      "from sklearn import linear_model\n",
      "exo_scikit, endo_scikit = np.array(test5000[bvars]), np.array(test5000[\"SER_INJ\"])"
     ],
     "language": "python",
     "metadata": {},
     "outputs": [],
     "prompt_number": 169
    },
    {
     "cell_type": "code",
     "collapsed": false,
     "input": [
      "mod = linear_model.LogisticRegression(fit_intercept=False)"
     ],
     "language": "python",
     "metadata": {},
     "outputs": [],
     "prompt_number": 170
    },
    {
     "cell_type": "code",
     "collapsed": false,
     "input": [
      "mod_res = mod.fit(exo_scikit, endo_scikit)"
     ],
     "language": "python",
     "metadata": {},
     "outputs": [],
     "prompt_number": 171
    },
    {
     "cell_type": "code",
     "collapsed": false,
     "input": [
      "coeffs = np.array(mod_res.coef_)"
     ],
     "language": "python",
     "metadata": {},
     "outputs": [],
     "prompt_number": 181
    },
    {
     "cell_type": "code",
     "collapsed": false,
     "input": [
      "coeffs = coeffs.flatten()\n",
      "print coeffs"
     ],
     "language": "python",
     "metadata": {},
     "outputs": [
      {
       "output_type": "stream",
       "stream": "stdout",
       "text": [
        "[-1.72387781  0.40071813 -0.40071813 -2.52320092 -0.18208931 -0.65695041\n",
        " -0.55762762 -2.05136915 -1.09148169  0.28659488 -0.88063195 -1.96601177\n",
        " -2.26262824  1.39239465  1.04287475 -1.04287475 -1.72710018]\n"
       ]
      }
     ],
     "prompt_number": 184
    },
    {
     "cell_type": "code",
     "collapsed": false,
     "input": [
      "#Note the basin hopping coefficients are very different from the coefficients gotten from sci-kit-learn and whatever optimization\n",
      "#method they use. Perhaps it's because the statsmodels coeffiecients weren't from a regularized loss function?\n",
      "test5000 = design_for_hybrid(trainingDesign, pruned_min10_tree)\n",
      "bvars = isolate_node_cols(test5000)\n",
      "f = \"SER_INJ ~ \" + \" + \".join([\"0\"]+bvars)\n",
      "test5001 = smf.logit(f, data = test5000).fit(method='basinhopping', start_params = coeffs, maxiter=50)\n",
      "test5001.summary()"
     ],
     "language": "python",
     "metadata": {},
     "outputs": [
      {
       "output_type": "stream",
       "stream": "stdout",
       "text": [
        "basinhopping step 0: f 0.438707\n",
        "basinhopping step 1: f 0.438707 trial_f 0.438707 accepted 1  lowest_f 0.438707\n",
        "found new global minimum on step 1 with function value 0.438707\n",
        "basinhopping step 2: f 0.438707 trial_f 0.438707 accepted 1  lowest_f 0.438707"
       ]
      },
      {
       "output_type": "stream",
       "stream": "stdout",
       "text": [
        "\n",
        "found new global minimum on step 2 with function value 0.438707\n",
        "basinhopping step 3: f 0.438707 trial_f 0.438707 accepted 1  lowest_f 0.438707"
       ]
      },
      {
       "output_type": "stream",
       "stream": "stdout",
       "text": [
        "\n",
        "basinhopping step 4: f 0.438707 trial_f 0.438707 accepted 1  lowest_f 0.438707"
       ]
      },
      {
       "output_type": "stream",
       "stream": "stdout",
       "text": [
        "\n",
        "basinhopping step 5: f 0.438707 trial_f 0.438707 accepted 1  lowest_f 0.438707"
       ]
      },
      {
       "output_type": "stream",
       "stream": "stdout",
       "text": [
        "\n",
        "basinhopping step 6: f 0.438708 trial_f 0.438708 accepted 1  lowest_f 0.438707"
       ]
      },
      {
       "output_type": "stream",
       "stream": "stdout",
       "text": [
        "\n",
        "basinhopping step 7: f 0.438707 trial_f 0.438707 accepted 1  lowest_f 0.438707"
       ]
      },
      {
       "output_type": "stream",
       "stream": "stdout",
       "text": [
        "\n",
        "basinhopping step 8: f 0.438707 trial_f 0.438707 accepted 1  lowest_f 0.438707"
       ]
      },
      {
       "output_type": "stream",
       "stream": "stdout",
       "text": [
        "\n",
        "basinhopping step 9: f 0.438707 trial_f 0.438707 accepted 1  lowest_f 0.438707"
       ]
      },
      {
       "output_type": "stream",
       "stream": "stdout",
       "text": [
        "\n",
        "basinhopping step 10: f 0.438707 trial_f 0.438707 accepted 1  lowest_f 0.438707"
       ]
      },
      {
       "output_type": "stream",
       "stream": "stdout",
       "text": [
        "\n",
        "basinhopping step 11: f 0.438707 trial_f 0.438707 accepted 1  lowest_f 0.438707"
       ]
      },
      {
       "output_type": "stream",
       "stream": "stdout",
       "text": [
        "\n",
        "basinhopping step 12: f 0.438707 trial_f 0.438707 accepted 1  lowest_f 0.438707"
       ]
      },
      {
       "output_type": "stream",
       "stream": "stdout",
       "text": [
        "\n",
        "basinhopping step 13: f 0.438708 trial_f 0.438708 accepted 1  lowest_f 0.438707"
       ]
      },
      {
       "output_type": "stream",
       "stream": "stdout",
       "text": [
        "\n",
        "basinhopping step 14: f 0.438708 trial_f 0.438708 accepted 1  lowest_f 0.438707"
       ]
      },
      {
       "output_type": "stream",
       "stream": "stdout",
       "text": [
        "\n",
        "basinhopping step 15: f 0.438708 trial_f 0.438708 accepted 1  lowest_f 0.438707"
       ]
      },
      {
       "output_type": "stream",
       "stream": "stdout",
       "text": [
        "\n",
        "basinhopping step 16: f 0.438708 trial_f 0.438708 accepted 1  lowest_f 0.438707"
       ]
      },
      {
       "output_type": "stream",
       "stream": "stdout",
       "text": [
        "\n",
        "basinhopping step 17: f 0.438708 trial_f 0.438708 accepted 1  lowest_f 0.438707"
       ]
      },
      {
       "output_type": "stream",
       "stream": "stdout",
       "text": [
        "\n",
        "basinhopping step 18: f 0.438709 trial_f 0.438709 accepted 1  lowest_f 0.438707"
       ]
      },
      {
       "output_type": "stream",
       "stream": "stdout",
       "text": [
        "\n",
        "basinhopping step 19: f 0.43871 trial_f 0.43871 accepted 1  lowest_f 0.438707"
       ]
      },
      {
       "output_type": "stream",
       "stream": "stdout",
       "text": [
        "\n",
        "basinhopping step 20: f 0.43871 trial_f 0.43871 accepted 1  lowest_f 0.438707"
       ]
      },
      {
       "output_type": "stream",
       "stream": "stdout",
       "text": [
        "\n",
        "basinhopping step 21: f 0.43871 trial_f 0.43871 accepted 1  lowest_f 0.438707"
       ]
      },
      {
       "output_type": "stream",
       "stream": "stdout",
       "text": [
        "\n",
        "basinhopping step 22: f 0.438711 trial_f 0.438711 accepted 1  lowest_f 0.438707"
       ]
      },
      {
       "output_type": "stream",
       "stream": "stdout",
       "text": [
        "\n",
        "basinhopping step 23: f 0.438711 trial_f 0.438711 accepted 1  lowest_f 0.438707"
       ]
      },
      {
       "output_type": "stream",
       "stream": "stdout",
       "text": [
        "\n",
        "basinhopping step 24: f 0.438712 trial_f 0.438712 accepted 1  lowest_f 0.438707"
       ]
      },
      {
       "output_type": "stream",
       "stream": "stdout",
       "text": [
        "\n",
        "basinhopping step 25: f 0.438714 trial_f 0.438714 accepted 1  lowest_f 0.438707"
       ]
      },
      {
       "output_type": "stream",
       "stream": "stdout",
       "text": [
        "\n",
        "basinhopping step 26: f 0.438717 trial_f 0.438717 accepted 1  lowest_f 0.438707"
       ]
      },
      {
       "output_type": "stream",
       "stream": "stdout",
       "text": [
        "\n",
        "basinhopping step 27: f 0.438715 trial_f 0.438715 accepted 1  lowest_f 0.438707"
       ]
      },
      {
       "output_type": "stream",
       "stream": "stdout",
       "text": [
        "\n",
        "basinhopping step 28: f 0.438713 trial_f 0.438713 accepted 1  lowest_f 0.438707"
       ]
      },
      {
       "output_type": "stream",
       "stream": "stdout",
       "text": [
        "\n",
        "basinhopping step 29: f 0.438714 trial_f 0.438714 accepted 1  lowest_f 0.438707"
       ]
      },
      {
       "output_type": "stream",
       "stream": "stdout",
       "text": [
        "\n",
        "basinhopping step 30: f 0.438712 trial_f 0.438712 accepted 1  lowest_f 0.438707"
       ]
      },
      {
       "output_type": "stream",
       "stream": "stdout",
       "text": [
        "\n",
        "basinhopping step 31: f 0.438711 trial_f 0.438711 accepted 1  lowest_f 0.438707"
       ]
      },
      {
       "output_type": "stream",
       "stream": "stdout",
       "text": [
        "\n",
        "basinhopping step 32: f 0.43871 trial_f 0.43871 accepted 1  lowest_f 0.438707"
       ]
      },
      {
       "output_type": "stream",
       "stream": "stdout",
       "text": [
        "\n",
        "basinhopping step 33: f 0.438711 trial_f 0.438711 accepted 1  lowest_f 0.438707"
       ]
      },
      {
       "output_type": "stream",
       "stream": "stdout",
       "text": [
        "\n",
        "basinhopping step 34: f 0.438712 trial_f 0.438712 accepted 1  lowest_f 0.438707"
       ]
      },
      {
       "output_type": "stream",
       "stream": "stdout",
       "text": [
        "\n",
        "basinhopping step 35: f 0.438714 trial_f 0.438714 accepted 1  lowest_f 0.438707"
       ]
      },
      {
       "output_type": "stream",
       "stream": "stdout",
       "text": [
        "\n",
        "basinhopping step 36: f 0.438707 trial_f 0.438707 accepted 1  lowest_f 0.438707"
       ]
      },
      {
       "output_type": "stream",
       "stream": "stdout",
       "text": [
        "\n",
        "basinhopping step 37: f 0.438708 trial_f 0.438708 accepted 1  lowest_f 0.438707"
       ]
      },
      {
       "output_type": "stream",
       "stream": "stdout",
       "text": [
        "\n",
        "basinhopping step 38: f 0.438708 trial_f 0.438708 accepted 1  lowest_f 0.438707"
       ]
      },
      {
       "output_type": "stream",
       "stream": "stdout",
       "text": [
        "\n",
        "basinhopping step 39: f 0.438708 trial_f 0.438708 accepted 1  lowest_f 0.438707"
       ]
      },
      {
       "output_type": "stream",
       "stream": "stdout",
       "text": [
        "\n",
        "basinhopping step 40: f 0.438708 trial_f 0.438708 accepted 1  lowest_f 0.438707"
       ]
      },
      {
       "output_type": "stream",
       "stream": "stdout",
       "text": [
        "\n",
        "basinhopping step 41: f 0.438708 trial_f 0.438708 accepted 1  lowest_f 0.438707"
       ]
      },
      {
       "output_type": "stream",
       "stream": "stdout",
       "text": [
        "\n",
        "basinhopping step 42: f 0.438708 trial_f 0.438708 accepted 1  lowest_f 0.438707"
       ]
      },
      {
       "output_type": "stream",
       "stream": "stdout",
       "text": [
        "\n",
        "basinhopping step 43: f 0.438708 trial_f 0.438708 accepted 1  lowest_f 0.438707"
       ]
      },
      {
       "output_type": "stream",
       "stream": "stdout",
       "text": [
        "\n",
        "basinhopping step 44: f 0.438708 trial_f 0.438708 accepted 1  lowest_f 0.438707"
       ]
      },
      {
       "output_type": "stream",
       "stream": "stdout",
       "text": [
        "\n",
        "basinhopping step 45: f 0.438708 trial_f 0.438708 accepted 1  lowest_f 0.438707"
       ]
      },
      {
       "output_type": "stream",
       "stream": "stdout",
       "text": [
        "\n",
        "basinhopping step 46: f 0.438708 trial_f 0.438708 accepted 1  lowest_f 0.438707"
       ]
      },
      {
       "output_type": "stream",
       "stream": "stdout",
       "text": [
        "\n",
        "basinhopping step 47: f 0.438708 trial_f 0.438708 accepted 1  lowest_f 0.438707"
       ]
      },
      {
       "output_type": "stream",
       "stream": "stdout",
       "text": [
        "\n",
        "basinhopping step 48: f 0.438708 trial_f 0.438708 accepted 1  lowest_f 0.438707"
       ]
      },
      {
       "output_type": "stream",
       "stream": "stdout",
       "text": [
        "\n",
        "basinhopping step 49: f 0.438708 trial_f 0.438708 accepted 1  lowest_f 0.438707"
       ]
      },
      {
       "output_type": "stream",
       "stream": "stdout",
       "text": [
        "\n",
        "adaptive stepsize: acceptance rate 0.980000 target 0.500000 new stepsize 0.555556 old stepsize 0.5\n",
        "basinhopping step 50: f 0.438708 trial_f 0.438708 accepted 1  lowest_f 0.438707"
       ]
      },
      {
       "output_type": "stream",
       "stream": "stdout",
       "text": [
        "\n",
        "basinhopping step 51: f 0.438708 trial_f 0.438708 accepted 1  lowest_f 0.438707"
       ]
      },
      {
       "output_type": "stream",
       "stream": "stdout",
       "text": [
        "\n",
        "basinhopping step 52: f 0.438708 trial_f 0.438708 accepted 1  lowest_f 0.438707"
       ]
      },
      {
       "output_type": "stream",
       "stream": "stdout",
       "text": [
        "\n",
        "basinhopping step 53: f 0.438709 trial_f 0.438709 accepted 1  lowest_f 0.438707"
       ]
      },
      {
       "output_type": "stream",
       "stream": "stdout",
       "text": [
        "\n",
        "basinhopping step 54: f 0.43871 trial_f 0.43871 accepted 1  lowest_f 0.438707"
       ]
      },
      {
       "output_type": "stream",
       "stream": "stdout",
       "text": [
        "\n",
        "basinhopping step 55: f 0.438709 trial_f 0.438709 accepted 1  lowest_f 0.438707"
       ]
      },
      {
       "output_type": "stream",
       "stream": "stdout",
       "text": [
        "\n",
        "basinhopping step 56: f 0.438709 trial_f 0.438709 accepted 1  lowest_f 0.438707"
       ]
      },
      {
       "output_type": "stream",
       "stream": "stdout",
       "text": [
        "\n",
        "basinhopping step 57: f 0.438709 trial_f 0.438709 accepted 1  lowest_f 0.438707"
       ]
      },
      {
       "output_type": "stream",
       "stream": "stdout",
       "text": [
        "\n",
        "basinhopping step 58: f 0.438708 trial_f 0.438708 accepted 1  lowest_f 0.438707"
       ]
      },
      {
       "output_type": "stream",
       "stream": "stdout",
       "text": [
        "\n",
        "basinhopping step 59: f 0.438708 trial_f 0.438708 accepted 1  lowest_f 0.438707"
       ]
      },
      {
       "output_type": "stream",
       "stream": "stdout",
       "text": [
        "\n",
        "basinhopping step 60: f 0.438709 trial_f 0.438709 accepted 1  lowest_f 0.438707"
       ]
      },
      {
       "output_type": "stream",
       "stream": "stdout",
       "text": [
        "\n",
        "basinhopping step 61: f 0.438709 trial_f 0.438709 accepted 1  lowest_f 0.438707"
       ]
      },
      {
       "output_type": "stream",
       "stream": "stdout",
       "text": [
        "\n",
        "basinhopping step 62: f 0.43871 trial_f 0.43871 accepted 1  lowest_f 0.438707"
       ]
      },
      {
       "output_type": "stream",
       "stream": "stdout",
       "text": [
        "\n",
        "basinhopping step 63: f 0.438709 trial_f 0.438709 accepted 1  lowest_f 0.438707"
       ]
      },
      {
       "output_type": "stream",
       "stream": "stdout",
       "text": [
        "\n",
        "basinhopping step 64: f 0.43871 trial_f 0.43871 accepted 1  lowest_f 0.438707"
       ]
      },
      {
       "output_type": "stream",
       "stream": "stdout",
       "text": [
        "\n",
        "basinhopping step 65: f 0.43871 trial_f 0.43871 accepted 1  lowest_f 0.438707"
       ]
      },
      {
       "output_type": "stream",
       "stream": "stdout",
       "text": [
        "\n",
        "basinhopping step 66: f 0.438709 trial_f 0.438709 accepted 1  lowest_f 0.438707"
       ]
      },
      {
       "output_type": "stream",
       "stream": "stdout",
       "text": [
        "\n",
        "basinhopping step 67: f 0.438709 trial_f 0.438709 accepted 1  lowest_f 0.438707"
       ]
      },
      {
       "output_type": "stream",
       "stream": "stdout",
       "text": [
        "\n",
        "basinhopping step 68: f 0.438711 trial_f 0.438711 accepted 1  lowest_f 0.438707"
       ]
      },
      {
       "output_type": "stream",
       "stream": "stdout",
       "text": [
        "\n",
        "basinhopping step 69: f 0.438711 trial_f 0.438711 accepted 1  lowest_f 0.438707"
       ]
      },
      {
       "output_type": "stream",
       "stream": "stdout",
       "text": [
        "\n",
        "basinhopping step 70: f 0.438713 trial_f 0.438713 accepted 1  lowest_f 0.438707"
       ]
      },
      {
       "output_type": "stream",
       "stream": "stdout",
       "text": [
        "\n",
        "basinhopping step 71: f 0.438713 trial_f 0.438713 accepted 1  lowest_f 0.438707"
       ]
      },
      {
       "output_type": "stream",
       "stream": "stdout",
       "text": [
        "\n",
        "basinhopping step 72: f 0.438716 trial_f 0.438716 accepted 1  lowest_f 0.438707"
       ]
      },
      {
       "output_type": "stream",
       "stream": "stdout",
       "text": [
        "\n",
        "basinhopping step 73: f 0.438713 trial_f 0.438713 accepted 1  lowest_f 0.438707"
       ]
      },
      {
       "output_type": "stream",
       "stream": "stdout",
       "text": [
        "\n",
        "basinhopping step 74: f 0.438717 trial_f 0.438717 accepted 1  lowest_f 0.438707"
       ]
      },
      {
       "output_type": "stream",
       "stream": "stdout",
       "text": [
        "\n",
        "basinhopping step 75: f 0.438708 trial_f 0.438708 accepted 1  lowest_f 0.438707"
       ]
      },
      {
       "output_type": "stream",
       "stream": "stdout",
       "text": [
        "\n",
        "basinhopping step 76: f 0.438708 trial_f 0.438708 accepted 1  lowest_f 0.438707"
       ]
      },
      {
       "output_type": "stream",
       "stream": "stdout",
       "text": [
        "\n",
        "basinhopping step 77: f 0.438708 trial_f 0.438708 accepted 1  lowest_f 0.438707"
       ]
      },
      {
       "output_type": "stream",
       "stream": "stdout",
       "text": [
        "\n",
        "basinhopping step 78: f 0.438708 trial_f 0.438708 accepted 1  lowest_f 0.438707"
       ]
      },
      {
       "output_type": "stream",
       "stream": "stdout",
       "text": [
        "\n",
        "basinhopping step 79: f 0.438708 trial_f 0.438708 accepted 1  lowest_f 0.438707"
       ]
      },
      {
       "output_type": "stream",
       "stream": "stdout",
       "text": [
        "\n",
        "basinhopping step 80: f 0.438709 trial_f 0.438709 accepted 1  lowest_f 0.438707"
       ]
      },
      {
       "output_type": "stream",
       "stream": "stdout",
       "text": [
        "\n",
        "basinhopping step 81: f 0.438709 trial_f 0.438709 accepted 1  lowest_f 0.438707"
       ]
      },
      {
       "output_type": "stream",
       "stream": "stdout",
       "text": [
        "\n",
        "basinhopping step 82: f 0.438709 trial_f 0.438709 accepted 1  lowest_f 0.438707"
       ]
      },
      {
       "output_type": "stream",
       "stream": "stdout",
       "text": [
        "\n",
        "basinhopping step 83: f 0.438709 trial_f 0.438709 accepted 1  lowest_f 0.438707"
       ]
      },
      {
       "output_type": "stream",
       "stream": "stdout",
       "text": [
        "\n",
        "basinhopping step 84: f 0.438709 trial_f 0.438709 accepted 1  lowest_f 0.438707"
       ]
      },
      {
       "output_type": "stream",
       "stream": "stdout",
       "text": [
        "\n",
        "basinhopping step 85: f 0.438709 trial_f 0.438709 accepted 1  lowest_f 0.438707"
       ]
      },
      {
       "output_type": "stream",
       "stream": "stdout",
       "text": [
        "\n",
        "basinhopping step 86: f 0.438709 trial_f 0.438709 accepted 1  lowest_f 0.438707"
       ]
      },
      {
       "output_type": "stream",
       "stream": "stdout",
       "text": [
        "\n",
        "basinhopping step 87: f 0.438709 trial_f 0.438709 accepted 1  lowest_f 0.438707"
       ]
      },
      {
       "output_type": "stream",
       "stream": "stdout",
       "text": [
        "\n",
        "basinhopping step 88: f 0.43871 trial_f 0.43871 accepted 1  lowest_f 0.438707"
       ]
      },
      {
       "output_type": "stream",
       "stream": "stdout",
       "text": [
        "\n",
        "basinhopping step 89: f 0.438709 trial_f 0.438709 accepted 1  lowest_f 0.438707"
       ]
      },
      {
       "output_type": "stream",
       "stream": "stdout",
       "text": [
        "\n",
        "basinhopping step 90: f 0.438708 trial_f 0.438708 accepted 1  lowest_f 0.438707"
       ]
      },
      {
       "output_type": "stream",
       "stream": "stdout",
       "text": [
        "\n",
        "basinhopping step 91: f 0.438708 trial_f 0.438708 accepted 1  lowest_f 0.438707"
       ]
      },
      {
       "output_type": "stream",
       "stream": "stdout",
       "text": [
        "\n",
        "basinhopping step 92: f 0.438708 trial_f 0.438708 accepted 1  lowest_f 0.438707"
       ]
      },
      {
       "output_type": "stream",
       "stream": "stdout",
       "text": [
        "\n",
        "basinhopping step 93: f 0.438708 trial_f 0.438708 accepted 1  lowest_f 0.438707"
       ]
      },
      {
       "output_type": "stream",
       "stream": "stdout",
       "text": [
        "\n",
        "basinhopping step 94: f 0.438708 trial_f 0.438708 accepted 1  lowest_f 0.438707"
       ]
      },
      {
       "output_type": "stream",
       "stream": "stdout",
       "text": [
        "\n",
        "basinhopping step 95: f 0.438707 trial_f 0.438707 accepted 1  lowest_f 0.438707"
       ]
      },
      {
       "output_type": "stream",
       "stream": "stdout",
       "text": [
        "\n",
        "basinhopping step 96: f 0.438708 trial_f 0.438708 accepted 1  lowest_f 0.438707"
       ]
      },
      {
       "output_type": "stream",
       "stream": "stdout",
       "text": [
        "\n",
        "basinhopping step 97: f 0.438707 trial_f 0.438707 accepted 1  lowest_f 0.438707"
       ]
      },
      {
       "output_type": "stream",
       "stream": "stdout",
       "text": [
        "\n",
        "basinhopping step 98: f 0.438707 trial_f 0.438707 accepted 1  lowest_f 0.438707"
       ]
      },
      {
       "output_type": "stream",
       "stream": "stdout",
       "text": [
        "\n",
        "basinhopping step 99: f 0.438708 trial_f 0.438708 accepted 1  lowest_f 0.438707"
       ]
      },
      {
       "output_type": "stream",
       "stream": "stdout",
       "text": [
        "\n",
        "adaptive stepsize: acceptance rate 0.990000 target 0.500000 new stepsize 0.617284 old stepsize 0.555556\n",
        "basinhopping step 100: f 0.438707 trial_f 0.438707 accepted 1  lowest_f 0.438707"
       ]
      },
      {
       "output_type": "stream",
       "stream": "stdout",
       "text": [
        "\n"
       ]
      },
      {
       "html": [
        "<table class=\"simpletable\">\n",
        "<caption>Logit Regression Results</caption>\n",
        "<tr>\n",
        "  <th>Dep. Variable:</th>      <td>SER_INJ</td>     <th>  No. Observations:  </th>  <td>  1126</td>  \n",
        "</tr>\n",
        "<tr>\n",
        "  <th>Model:</th>               <td>Logit</td>      <th>  Df Residuals:      </th>  <td>  1109</td>  \n",
        "</tr>\n",
        "<tr>\n",
        "  <th>Method:</th>               <td>MLE</td>       <th>  Df Model:          </th>  <td>    16</td>  \n",
        "</tr>\n",
        "<tr>\n",
        "  <th>Date:</th>          <td>Thu, 01 May 2014</td> <th>  Pseudo R-squ.:     </th>  <td>0.1229</td>  \n",
        "</tr>\n",
        "<tr>\n",
        "  <th>Time:</th>              <td>02:08:09</td>     <th>  Log-Likelihood:    </th> <td> -493.98</td> \n",
        "</tr>\n",
        "<tr>\n",
        "  <th>converged:</th>           <td>True</td>       <th>  LL-Null:           </th> <td> -563.18</td> \n",
        "</tr>\n",
        "<tr>\n",
        "  <th> </th>                      <td> </td>        <th>  LLR p-value:       </th> <td>1.493e-21</td>\n",
        "</tr>\n",
        "</table>\n",
        "<table class=\"simpletable\">\n",
        "<tr>\n",
        "       <td></td>         <th>coef</th>     <th>std err</th>      <th>z</th>      <th>P>|z|</th> <th>[95.0% Conf. Int.]</th> \n",
        "</tr>\n",
        "<tr>\n",
        "  <th>nodeNum_0</th>  <td>   -2.8340</td> <td>    1.029</td> <td>   -2.753</td> <td> 0.006</td> <td>   -4.851    -0.817</td>\n",
        "</tr>\n",
        "<tr>\n",
        "  <th>nodeNum_1</th>  <td>    8.1207</td> <td>   58.013</td> <td>    0.140</td> <td> 0.889</td> <td> -105.583   121.824</td>\n",
        "</tr>\n",
        "<tr>\n",
        "  <th>nodeNum_2</th>  <td>   -8.6619</td> <td>   76.028</td> <td>   -0.114</td> <td> 0.909</td> <td> -157.674   140.351</td>\n",
        "</tr>\n",
        "<tr>\n",
        "  <th>nodeNum_3</th>  <td>  -25.2373</td> <td> 5.18e+04</td> <td>   -0.000</td> <td> 1.000</td> <td>-1.02e+05  1.02e+05</td>\n",
        "</tr>\n",
        "<tr>\n",
        "  <th>nodeNum_4</th>  <td>   -0.2860</td> <td>    0.764</td> <td>   -0.374</td> <td> 0.708</td> <td>   -1.783     1.211</td>\n",
        "</tr>\n",
        "<tr>\n",
        "  <th>nodeNum_5</th>  <td>   -0.7307</td> <td>    0.338</td> <td>   -2.165</td> <td> 0.030</td> <td>   -1.392    -0.069</td>\n",
        "</tr>\n",
        "<tr>\n",
        "  <th>nodeNum_6</th>  <td>   -0.5684</td> <td>    0.139</td> <td>   -4.087</td> <td> 0.000</td> <td>   -0.841    -0.296</td>\n",
        "</tr>\n",
        "<tr>\n",
        "  <th>nodeNum_8</th>  <td>  -21.2458</td> <td> 9678.800</td> <td>   -0.002</td> <td> 0.998</td> <td> -1.9e+04  1.89e+04</td>\n",
        "</tr>\n",
        "<tr>\n",
        "  <th>nodeNum_9</th>  <td>   -1.1787</td> <td>    0.286</td> <td>   -4.123</td> <td> 0.000</td> <td>   -1.739    -0.618</td>\n",
        "</tr>\n",
        "<tr>\n",
        "  <th>nodeNum_10</th> <td>    0.6902</td> <td>    1.224</td> <td>    0.564</td> <td> 0.573</td> <td>   -1.709     3.089</td>\n",
        "</tr>\n",
        "<tr>\n",
        "  <th>nodeNum_11</th> <td>  -13.3867</td> <td>  465.942</td> <td>   -0.029</td> <td> 0.977</td> <td> -926.615   899.842</td>\n",
        "</tr>\n",
        "<tr>\n",
        "  <th>nodeNum_13</th> <td>  -19.4899</td> <td> 4267.035</td> <td>   -0.005</td> <td> 0.996</td> <td>-8382.725  8343.746</td>\n",
        "</tr>\n",
        "<tr>\n",
        "  <th>nodeNum_14</th> <td>  -22.6153</td> <td> 1.66e+04</td> <td>   -0.001</td> <td> 0.999</td> <td>-3.26e+04  3.26e+04</td>\n",
        "</tr>\n",
        "<tr>\n",
        "  <th>nodeNum_15</th> <td>   16.5884</td> <td> 1512.057</td> <td>    0.011</td> <td> 0.991</td> <td>-2946.990  2980.167</td>\n",
        "</tr>\n",
        "<tr>\n",
        "  <th>nodeNum_16</th> <td>   13.4846</td> <td>  423.754</td> <td>    0.032</td> <td> 0.975</td> <td> -817.058   844.027</td>\n",
        "</tr>\n",
        "<tr>\n",
        "  <th>nodeNum_19</th> <td>  -14.2168</td> <td>  611.093</td> <td>   -0.023</td> <td> 0.981</td> <td>-1211.937  1183.504</td>\n",
        "</tr>\n",
        "<tr>\n",
        "  <th>nodeNum_20</th> <td>   -1.7478</td> <td>    0.110</td> <td>  -15.886</td> <td> 0.000</td> <td>   -1.963    -1.532</td>\n",
        "</tr>\n",
        "</table>"
       ],
       "metadata": {},
       "output_type": "pyout",
       "prompt_number": 210,
       "text": [
        "<class 'statsmodels.iolib.summary.Summary'>\n",
        "\"\"\"\n",
        "                           Logit Regression Results                           \n",
        "==============================================================================\n",
        "Dep. Variable:                SER_INJ   No. Observations:                 1126\n",
        "Model:                          Logit   Df Residuals:                     1109\n",
        "Method:                           MLE   Df Model:                           16\n",
        "Date:                Thu, 01 May 2014   Pseudo R-squ.:                  0.1229\n",
        "Time:                        02:08:09   Log-Likelihood:                -493.98\n",
        "converged:                       True   LL-Null:                       -563.18\n",
        "                                        LLR p-value:                 1.493e-21\n",
        "==============================================================================\n",
        "                 coef    std err          z      P>|z|      [95.0% Conf. Int.]\n",
        "------------------------------------------------------------------------------\n",
        "nodeNum_0     -2.8340      1.029     -2.753      0.006        -4.851    -0.817\n",
        "nodeNum_1      8.1207     58.013      0.140      0.889      -105.583   121.824\n",
        "nodeNum_2     -8.6619     76.028     -0.114      0.909      -157.674   140.351\n",
        "nodeNum_3    -25.2373   5.18e+04     -0.000      1.000     -1.02e+05  1.02e+05\n",
        "nodeNum_4     -0.2860      0.764     -0.374      0.708        -1.783     1.211\n",
        "nodeNum_5     -0.7307      0.338     -2.165      0.030        -1.392    -0.069\n",
        "nodeNum_6     -0.5684      0.139     -4.087      0.000        -0.841    -0.296\n",
        "nodeNum_8    -21.2458   9678.800     -0.002      0.998      -1.9e+04  1.89e+04\n",
        "nodeNum_9     -1.1787      0.286     -4.123      0.000        -1.739    -0.618\n",
        "nodeNum_10     0.6902      1.224      0.564      0.573        -1.709     3.089\n",
        "nodeNum_11   -13.3867    465.942     -0.029      0.977      -926.615   899.842\n",
        "nodeNum_13   -19.4899   4267.035     -0.005      0.996     -8382.725  8343.746\n",
        "nodeNum_14   -22.6153   1.66e+04     -0.001      0.999     -3.26e+04  3.26e+04\n",
        "nodeNum_15    16.5884   1512.057      0.011      0.991     -2946.990  2980.167\n",
        "nodeNum_16    13.4846    423.754      0.032      0.975      -817.058   844.027\n",
        "nodeNum_19   -14.2168    611.093     -0.023      0.981     -1211.937  1183.504\n",
        "nodeNum_20    -1.7478      0.110    -15.886      0.000        -1.963    -1.532\n",
        "==============================================================================\n",
        "\"\"\""
       ]
      }
     ],
     "prompt_number": 210
    },
    {
     "cell_type": "markdown",
     "metadata": {},
     "source": [
      "<font size=4 color=\"blue\"><p>In the end, the results from all the work above (in terms of performance on the 2011 validation set):</p></font>\n",
      "<p>On the pruned, naive decision tree, using newton's gradient descent methods to fit the logistic regressions:\n",
      "    <ol><li>When using the hybrid-CART Logit model, the total error rate is 0.214035087719 and the accuracy is 0.785964912281.</li>\n",
      "        <li>When using just the decision tree, the total error rate is 0.210526315789 and the accuracy is 0.789473684211.</li>\n",
      "        <li>Lower error rate with just the decision tree as compared to the hybrid approach when judging based on the validation set (which the decision tree was pruned with).</li>\n",
      "    </ol>\n",
      "</p>\n",
      "<p>On the pruned, minimum 10 people per leaf decision tree, using the \"basinhopping\" method to numerically maximize the likelihood:\n",
      "    <ol><li>When using the hybrid-CART Logit model, the total error rate is 0.217543859649 and the accuracy is 0.782456140351.</li>\n",
      "        <li>When using just the decision tree, the total error rate is 0.210526315789 and the accuracy is 0.789473684211</li>\n",
      "    </ol>\n",
      "</p>\n",
      "<p><strong><u>Overall?</u></strong>\n",
      "    <table><tr><td>Case</td><td>Error</td>\n",
      "        <tr><td>Pruned, naive decision tree</td><td>0.210526315789</td></tr>\n",
      "        <tr><td>Pruned, minimum 10 people per leaf decisioin tree</td><td>0.210526315789</td></tr>\n",
      "        <tr><td>Hybrid cart-logit with the pruned, naive decision tree</td><td>0.214035087719</td></tr>\n",
      "        <tr><td>Hybrid cart-logit with the pruned, minimum 10 people per leaf tree</td><td>0.217543859649</td></tr>\n",
      "        <tr><td>Always guessing zero</td><td>0.217543859649</td></tr>\n",
      "    </table>\n",
      "</p>\n",
      "<p>There are still lots of issues to resolve.\n",
      "    <ol><li>Test the four classifiers on the 2012 data that none of them have seen.</li>\n",
      "        <li>In the case of the pruned, naive decision tree, figure out why so many of the models could not be estimated when calling the initial_multivariate() function.</li>\n",
      "        <li>In the case of the pruned, minimum 10 people decision tree, figure out why the base model of nothing but nodes could not be estimated using the standard methods which invert the Hessian. Is it really un-invertable?</li>\n",
      "        <li>I'm assuming that even if step 3 is figured out, that I will still have to deal with models that were unable to be estimated, as in issue number 2.</li>\n",
      "        <li>Carry out step 4 of Hosmer, Lemeshow, and Sturdivant's purposeful selection algorithm whereby I interactively add and examine the effect of including the variables that were not selected when building the initial multivariate logit model. The point is to look for variables that don't necessarily influence the classification probability themselves but which modify the effect of one of the initially selected variables. See pg 92 of Applied Logistic Regression (2013).</li>\n",
      "    </ol>\n",
      "</p>"
     ]
    },
    {
     "cell_type": "code",
     "collapsed": false,
     "input": [],
     "language": "python",
     "metadata": {},
     "outputs": []
    }
   ],
   "metadata": {}
  }
 ]
}