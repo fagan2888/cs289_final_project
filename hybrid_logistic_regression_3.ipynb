{
 "metadata": {
  "name": ""
 },
 "nbformat": 3,
 "nbformat_minor": 0,
 "worksheets": [
  {
   "cells": [
    {
     "cell_type": "code",
     "collapsed": false,
     "input": [
      "import numpy as np, pandas as pd, statsmodels.formula.api as smf, statsmodels.api as sm\n",
      "import treepredict, cPickle, patsy, sys\n",
      "from copy import deepcopy"
     ],
     "language": "python",
     "metadata": {},
     "outputs": [],
     "prompt_number": 2
    },
    {
     "cell_type": "heading",
     "level": 3,
     "metadata": {},
     "source": [
      "Run some basic test models with the Hybrid CART-Logistic Regression"
     ]
    },
    {
     "cell_type": "code",
     "collapsed": false,
     "input": [
      "#Load the leaf augmented dataframes\n",
      "trainingDesign = pd.read_pickle(\"dataframes/leaf_augmented/trainingSet_DF_naiveTree.pkl\")\n",
      "validationDesign = pd.read_pickle(\"dataframes/leaf_augmented/validationSet_DF_naiveTree.pkl\")"
     ],
     "language": "python",
     "metadata": {},
     "outputs": [],
     "prompt_number": 9
    },
    {
     "cell_type": "code",
     "collapsed": false,
     "input": [
      "with open(\"trees/pruned_NaiveTree_trainingSet.pkl\") as f:\n",
      "    pruned_tSet_tree = cPickle.load(f)\n",
      "    \n",
      "with open(\"trees/pruned_min10_obs_trainingSet.pkl\") as f:\n",
      "    pruned_min10_tree = cPickle.load(f)"
     ],
     "language": "python",
     "metadata": {},
     "outputs": [],
     "prompt_number": 10
    },
    {
     "cell_type": "code",
     "collapsed": false,
     "input": [
      "min10_nodes = treepredict.fetchNodes(pruned_min10_tree)\n",
      "naive_nodes = treepredict.fetchNodes(pruned_tSet_tree)"
     ],
     "language": "python",
     "metadata": {},
     "outputs": [],
     "prompt_number": 11
    },
    {
     "cell_type": "code",
     "collapsed": false,
     "input": [
      "min10_trainingDesign = pd.read_pickle(\"dataframes/trainingSet_DF_naiveTree.pkl\").apply(treepredict.set_node_num,\n",
      "                                                                             axis = 1, args=(\"nodeNum\", min10_nodes))\n",
      "min10_validationDesign = pd.read_pickle(\"dataframes/validationSet_DF_naiveTree.pkl\").apply(treepredict.set_node_num,\n",
      "                                                                             axis = 1, args=(\"nodeNum\", min10_nodes))"
     ],
     "language": "python",
     "metadata": {},
     "outputs": [],
     "prompt_number": 12
    },
    {
     "cell_type": "code",
     "collapsed": false,
     "input": [
      "min10_trainingDesign.to_pickle(\"dataframes/leaf_augmented/trainingSet_DF_min10Tree.pkl\")\n",
      "min10_validationDesign.to_pickle(\"dataframes/leaf_augmented/validationSet_DF_min10Tree.pkl\")"
     ],
     "language": "python",
     "metadata": {},
     "outputs": [],
     "prompt_number": 13
    },
    {
     "cell_type": "code",
     "collapsed": false,
     "input": [
      "def find_perfect_preds(nodes):\n",
      "    perfect_preds = []\n",
      "    for place, node in enumerate(nodes):\n",
      "        if len(node[-1].keys()) == 1:\n",
      "            perfect_preds.append(place)\n",
      "    return perfect_preds"
     ],
     "language": "python",
     "metadata": {},
     "outputs": [],
     "prompt_number": 14
    },
    {
     "cell_type": "code",
     "collapsed": false,
     "input": [
      "def reduce_nodeAugmented_4hybrid(orig_nodeAugmented_training, tree):\n",
      "    nodes = treepredict.fetchNodes(tree)\n",
      "    perf_pred_nodes = find_perfect_preds(nodes)\n",
      "    nodeNum = orig_nodeAugmented_training[\"nodeNum\"]\n",
      "    return orig_nodeAugmented_training[~nodeNum.isin(perf_pred_nodes)].copy()"
     ],
     "language": "python",
     "metadata": {},
     "outputs": [],
     "prompt_number": 15
    },
    {
     "cell_type": "code",
     "collapsed": false,
     "input": [
      "def contrast_nodes_in_df(df):\n",
      "    #Contrast the node column in design matrix for the logistic regression\n",
      "    contrast_nodeNums = patsy.dmatrix(\"C(nodeNum) - 1\", data=df)\n",
      "    contrast_nodeNums = pd.DataFrame(contrast_nodeNums, columns=contrast_nodeNums.design_info.column_names,\n",
      "                                     index = df.index.tolist())\n",
      "    return pd.merge(df, contrast_nodeNums, left_index=True, right_index=True)"
     ],
     "language": "python",
     "metadata": {},
     "outputs": [],
     "prompt_number": 16
    },
    {
     "cell_type": "code",
     "collapsed": false,
     "input": [
      "def incorporate_continuous_vars(df, missing_val):\n",
      "    continuous_vars = [\"TRAV_SP\", \"NUMOCCS\", \"VSPD_LIM\", \"DRIVER_AGE\"]\n",
      "    for variable in continuous_vars:\n",
      "        df[\"{}_{}\".format(variable, missing_val)] = 0\n",
      "        for ind, row in df.iterrows():\n",
      "            if row[variable] == missing_val:\n",
      "                df.loc[ind, variable] = 1\n",
      "        df[\"{}_interact_{}_{}\".format(variable, variable, missing_val)] = df[variable] * df[\"{}_{}\".format(variable, missing_val)]\n",
      "    \n",
      "    lane_dmatrix = patsy.dmatrix(\"C(VNUM_LAN, Treatment({})) -1\".format(missing_val), data = df)\n",
      "    lane_dmatrix = pd.DataFrame(lane_dmatrix, columns = lane_dmatrix.design_info.column_names, index= df.index)\n",
      "    new_df = pd.merge(df, lane_dmatrix, left_index=True, right_index=True)\n",
      "    return new_df"
     ],
     "language": "python",
     "metadata": {},
     "outputs": [],
     "prompt_number": 61
    },
    {
     "cell_type": "code",
     "collapsed": false,
     "input": [
      "def clean_category_cols(df):\n",
      "    cols = df.columns.tolist()\n",
      "    r1 = \"C(\" #The beginning of the column name for contrast coded variables made with patsy\n",
      "    r2 = \")[\" #The ending of contrast coded variable names for variables without a specified reference treatment\n",
      "    r3 = \"]\" #The ending of the treatment delimeter for contrast coded variables made with patsy\n",
      "    r4 = \", \" #column vs patys info delimiter\n",
      "    r5 = \".\" #Patsy delimiter before value of original categorical\n",
      "    r6 = \"(9999)\" #The missing variable as shown in a patsy contrast coding, treatment delimeter\n",
      "    replace_dict = dict(zip([r1, r4, r2, r5, r3, r6], [\"\", \"_\", \"_\", \"\", \"\", \"_9999\"]))\n",
      "    new_cols = []\n",
      "    for col in cols:\n",
      "        if r1 in col: #Check if the variabe was made via contrast coding\n",
      "            new_col = deepcopy(col)\n",
      "            for item in replace_dict:\n",
      "                new_col = new_col.replace(item, replace_dict[item])\n",
      "            new_cols.append(new_col)\n",
      "        else:\n",
      "            new_cols.append(col)\n",
      "    new_df = df.copy()\n",
      "    new_df.columns = new_cols\n",
      "    return new_df        "
     ],
     "language": "python",
     "metadata": {},
     "outputs": [],
     "prompt_number": 30
    },
    {
     "cell_type": "code",
     "collapsed": false,
     "input": [
      "def design_for_hybrid(orig_nodeAugmented, tree, missing_code=9999):\n",
      "    missing_value_cols = [\"TRAV_SP\", \"NUMOCCS\", \"VNUM_LAN\", \"VSPD_LIM\", \"DRIVER_AGE\"]\n",
      "    \n",
      "    filtered = reduce_nodeAugmented_4hybrid(orig_nodeAugmented, tree)\n",
      "    contrasted = contrast_nodes_in_df(filtered)\n",
      "    cont_incorporated = incorporate_continuous_vars(contrasted, missing_code)\n",
      "    col_cleaned = clean_category_cols(cont_incorporated)\n",
      "    filtered = None #Clean up/free up memory\n",
      "    contrasted = None #Clean up/free up memory\n",
      "    del col_cleaned[\"nodeNum\"] #remove the nodeNum col from the design matrix\n",
      "    if \"Intercept\" in col_cleaned.columns:\n",
      "        del col_cleaned[\"Intercept\"] #remove the intercept from the design matrix\n",
      "    tree_feats = treepredict.searchFeats(tree)\n",
      "    for feat in tree_feats:\n",
      "        if feat in col_cleaned.columns.tolist() and feat not in missing_value_cols:\n",
      "            del col_cleaned[feat]\n",
      "    return col_cleaned"
     ],
     "language": "python",
     "metadata": {},
     "outputs": [],
     "prompt_number": 116
    },
    {
     "cell_type": "code",
     "collapsed": false,
     "input": [
      "def isolate_node_cols(df):\n",
      "    colList = df.columns.tolist()\n",
      "    node_cols = []\n",
      "    for item in colList:\n",
      "        if \"nodeNum\" in item:\n",
      "            node_cols.append(item)\n",
      "    return node_cols"
     ],
     "language": "python",
     "metadata": {},
     "outputs": [],
     "prompt_number": 35
    },
    {
     "cell_type": "code",
     "collapsed": false,
     "input": [
      "def check_initial_specification(dataframe, result_string, new_var, min_specification, fit_word=None):\n",
      "    assert isinstance(result_string, str)\n",
      "    assert isinstance(new_var, list)\n",
      "    assert isinstance(min_specification, str)\n",
      "    \n",
      "    base_vars = min_specification.split(\" + \")\n",
      "    if \"0\" in base_vars:\n",
      "        base_vars.remove(\"0\")\n",
      "    start_vals = np.random.rand(len(base_vars + new_var))\n",
      "    fString = result_string + \" ~ \" + min_specification + \" + \" + \" + \".join(new_var)\n",
      "    \n",
      "    if not check_full_rank(dataframe, base_vars + new_var):\n",
      "        raise Exception(\"The base model plus {} is not of full rank.\".format(new_var))\n",
      "    \n",
      "    if fit_word is None:\n",
      "        #model = smf.logit(fString, data=dataframe).fit(start_params = start_vals, maxiter=1000) #Fit the logistic regression\n",
      "        model = smf.logit(fString, data=dataframe).fit(maxiter=2000) #Fit the logistic regression\n",
      "    else:\n",
      "        #model = smf.logit(fString, data=dataframe).fit(method=fit_word, start_params = start_vals, maxiter=1000)\n",
      "        model = smf.logit(fString, data=dataframe).fit(method=fit_word, start_params = start_vals, maxiter=2000)\n",
      "        \n",
      "    if not model.mle_retvals[\"converged\"]: #if the model did not converge, force an error\n",
      "        raise Exception(\"The model for {} did not converge\".format(new_var))\n",
      "        \n",
      "    lowest_pval = model.pvalues[new_var[0]]\n",
      "    for orig_var in new_var:\n",
      "        current_pval = model.pvalues[orig_var]\n",
      "        if current_pval < lowest_pval:\n",
      "            lowest_pval = current_pval\n",
      "    return lowest_pval"
     ],
     "language": "python",
     "metadata": {},
     "outputs": [],
     "prompt_number": 146
    },
    {
     "cell_type": "code",
     "collapsed": false,
     "input": [
      "def initial_multivariate(df, res, missing_value=9999, base_string=None, biggest_cond = 1.0e10, fit=None):\n",
      "    \"\"\"df = the dataframe containing the data used to build the model.\n",
      "    res = the string used to name the column of results in df\n",
      "    missing_value = the number denoting missing values in this dataset\n",
      "    base_string = the string used to denote the right side of the equation in a patsy formula\n",
      "    biggest_cond = the maximum value that you will accept for the condition number of a design matrix used in a logit model\n",
      "    fit = a string used to denote the fit method of the statsmodels logit model\n",
      "    \n",
      "    ===========\n",
      "    \n",
      "    Returns a fitted model that tried all the variables in the data set and created a multivariate model based\n",
      "    on all the variables which were significant at a level of less than 0.2 and not linearly dependent. Also\n",
      "    returns the base string of independent variables, minus the intercept suppressor.\"\"\"\n",
      "    \n",
      "    if base_string is None: #If we are reading the very first variable, then base_string will not be passed in. Instead, create it.\n",
      "        base_vars = isolate_node_cols(df)\n",
      "        base_string = \" + \".join([\"0\"] + base_vars) #Make base string from all the node dummy variable columns\n",
      "    else:\n",
      "        base_vars = base_string.split(\" + \") #Split the base string around plus sign to isolate the variables\n",
      "        if \"0\" in base_vars:\n",
      "            base_vars.remove(\"0\") #Don't include the 0 which tells patsy not to include an intercept in the design matrix\n",
      "    \n",
      "    multi_cols = [] #initialize an empty list for the lists of variables that are to remain together\n",
      "    continuous_vars = [\"TRAV_SP\", \"NUMOCCS\", \"VSPD_LIM\", \"DRIVER_AGE\"]\n",
      "    for item in continuous_vars: #Iterate over all the continuous variables and create lists of them and their associated versions\n",
      "#         multi_cols.append([item, \"{}_{}\".format(item, missing_value),\n",
      "#                            \"{}_interact_{}_{}\".format(item, item, missing_value)]) #Add the entire list of variables to multi_cols\n",
      "         multi_cols.append([item, \"{}_interact_{}_{}\".format(item, item, missing_value)])\n",
      "    \n",
      "    \n",
      "    cols = df.columns.tolist() #Initialize the list of columns to add variables from\n",
      "    for var in base_vars + [res]: #Iterate through the base variables for the model and the dependent variable\n",
      "        if var in cols: #If the base variable is in cols, remove it\n",
      "            cols.remove(var) #Make sure cols only has variables to be added to the model, not variables already in the model\n",
      "    \n",
      "    print multi_cols\n",
      "    for var1, var2 in multi_cols: #Iterate through the sets of columns that are to remain together\n",
      "        #check if each of the variables in the set are in cols, and if they are present, remove them from cols\n",
      "        if var1 in cols:\n",
      "            cols.remove(var1)\n",
      "        if var2 in cols:\n",
      "            cols.remove(var2)\n",
      "#         if var3 in cols:\n",
      "#             cols.remove(var3)\n",
      "        assert var1 not in cols\n",
      "        assert var2 not in cols\n",
      "        #assert var3 not in cols\n",
      "        \n",
      "    possible_vars = [] #Initialize an empty variable to keep track of the possible variables for the multivariate model\n",
      "    problems = [] #Initialize a list to keep track of the variables where the model could not estimate and I don't know why.\n",
      "    for col in cols + multi_cols: #Iterate over all the variables or groups of variables to be checked\n",
      "        try:\n",
      "            #analyze either a list containing a single variable or a list of multiple variables\n",
      "            to_analyze = [col] if isinstance(col, str) else col\n",
      "            #get the p-value for the single variable or the most significant p-value from the set of variables\n",
      "            p_val = check_initial_specification(df, res, to_analyze, base_string, fit_word=fit)\n",
      "            if p_val < 0.2: #make sure the variable is statistically significant to some loose degree\n",
      "                if isinstance(col, str):\n",
      "                    possible_vars.append(col)\n",
      "        except Exception as inst:\n",
      "            print inst\n",
      "            if \"did not converge\" in str(inst):\n",
      "                problems.append(col)\n",
      "        except:\n",
      "            print \"Program encountered an unexpected error on column {}\".format(col)\n",
      "            problems.append(col)\n",
      "            \n",
      "    \n",
      "    print \"=\"*10 #Separate the next line from the printed things above\n",
      "    print \"\" #Place an empty line of whitespace\n",
      "    print \"There were estimation problems with at least {} variables. The problematic columns were: \".format(len(problems))\n",
      "    print problems\n",
      "    print \"=\"*10 #Separate the line above from the next printed thing below\n",
      "    print \"\" #Place an empty line of whitespace\n",
      "    print \"The possible variables being fed to combat_multi_collinearity are: \"\n",
      "    print possible_vars\n",
      "    \n",
      "    #Reduce possible_vars to a list of linearly independent variables with a condition number < the specifed condition number\n",
      "    model_vars = combat_multi_collinearity(df, possible_vars, base_vars, max_cond=biggest_cond)\n",
      "    new_b_string = \" + \".join(model_vars) #Create a string of all variables using in the multivariate regression\n",
      "    new_fString = res + \" ~ \" + \"0 + \" + new_b_string #Create the new formula string\n",
      "    if fit is None:\n",
      "        multi_model = smf.logit(new_fString, data = df).fit(maxiter=2000) #fit the initial multi-variate logistic regression\n",
      "    else:\n",
      "        multi_model = smf.logit(new_fString, data = df).fit(method=fit, maxiter=2000)\n",
      "    print multi_model.summary() #Look at the sumary statistics from this logistic regression\n",
      "    base_string = None #Clean up and reset the variable to none. Not sure if it's necessary but it might not hurt\n",
      "    return multi_model, new_b_string #return the fitted model and base string used in the model"
     ],
     "language": "python",
     "metadata": {},
     "outputs": [],
     "prompt_number": 147
    },
    {
     "cell_type": "code",
     "collapsed": false,
     "input": [
      "def whittle_multi_model_vars(orig_fitted, base_string):\n",
      "    orig_vars = base_string.split(\" + \")\n",
      "    if \"0\" in orig_vars:\n",
      "        orig_vars.remove(\"0\")\n",
      "    p_vals = orig_fitted.pvalues.order(ascending=False)\n",
      "    worst_var = None\n",
      "    for var, val in p_vals.iteritems():\n",
      "        if \"nodeNum\" in var:\n",
      "            pass\n",
      "        else:\n",
      "            if val > 0.05:\n",
      "                worst_var = var\n",
      "            break\n",
      "    if worst_var is not None:        \n",
      "        new_vars = deepcopy(orig_vars)\n",
      "        new_vars.remove(worst_var)\n",
      "        return new_vars\n",
      "    else:\n",
      "        return None"
     ],
     "language": "python",
     "metadata": {},
     "outputs": [],
     "prompt_number": 148
    },
    {
     "cell_type": "code",
     "collapsed": false,
     "input": [
      "def reduce_multi_model(orig_fitted, base_string, res, df, fit=None):\n",
      "    new_bvars = whittle_multi_model_vars(orig_fitted, base_string)\n",
      "    small_model = orig_fitted\n",
      "    small_base = base_string\n",
      "    while new_bvars is not None:\n",
      "        new_base = \" + \".join([\"0\"] + new_bvars)\n",
      "        new_fstring = res + \" ~ \" + new_base\n",
      "        try:\n",
      "            if fit is None:\n",
      "                new_model = smf.logit(new_fstring, data = df).fit(maxiter=2000)\n",
      "            else:\n",
      "                new_model = smf.logit(new_fstring, data = df).fit(method=fit, maxiter=2000)\n",
      "            small_base = \" + \".join(new_bvars)\n",
      "            new_bvars =  whittle_multi_model_vars(new_model, new_base)\n",
      "            small_model = new_model\n",
      "        except:\n",
      "            print \"Estimating logit model failed when using formula: {}\".format(new_fstring)\n",
      "    print \"=\"*10\n",
      "    print \"The reduced model results are:\"\n",
      "    print small_model.summary()\n",
      "    return small_model, small_base "
     ],
     "language": "python",
     "metadata": {},
     "outputs": [],
     "prompt_number": 149
    },
    {
     "cell_type": "code",
     "collapsed": false,
     "input": [
      "def calc_error(data):\n",
      "    assert len(data.columns) == 2\n",
      "    tot = len(data)\n",
      "    count_err = 0\n",
      "    for ind, row in data.iterrows():\n",
      "        if row.iloc[0] != row.iloc[1]:\n",
      "            count_err += 1\n",
      "    return float(count_err)/tot"
     ],
     "language": "python",
     "metadata": {},
     "outputs": [],
     "prompt_number": 156
    },
    {
     "cell_type": "code",
     "collapsed": false,
     "input": [
      "reload(treepredict)"
     ],
     "language": "python",
     "metadata": {},
     "outputs": [
      {
       "metadata": {},
       "output_type": "pyout",
       "prompt_number": 3,
       "text": [
        "<module 'treepredict' from 'treepredict.pyc'>"
       ]
      }
     ],
     "prompt_number": 3
    },
    {
     "cell_type": "code",
     "collapsed": false,
     "input": [
      "def hybrid_classify(aug_vSet, tree, fitted, res, classes, fit=None):\n",
      "    tot_ind = aug_vSet.index.tolist()\n",
      "    logit_design = design_for_hybrid(aug_vSet, tree)\n",
      "    logit_ind = logit_design.index.tolist()\n",
      "    tree_ind = list(set(tot_ind).difference(set(logit_ind)))\n",
      "    \n",
      "    tree_matrix = aug_vSet.loc[tree_ind]\n",
      "    tree_preds = []\n",
      "    for ind, row in tree_matrix.iterrows():\n",
      "        tree_preds.append(treepredict.predictWithTree(row, tree, classes))\n",
      "    tree_preds = pd.DataFrame(tree_preds, columns=[\"Predictions\"], index=tree_ind)\n",
      "    \n",
      "    cols = fitted.pvalues.index.tolist()\n",
      "    for col in cols:\n",
      "        if col not in logit_design and \"I(\" not in col:\n",
      "            logit_design[col] = 0\n",
      "    logit_probs = fitted.predict(exog=logit_design, transform=True)\n",
      "    logit_preds = [1 if x >=0.5 else 0 for x in logit_probs]\n",
      "    logit_preds = pd.DataFrame(logit_preds, columns=[\"Predictions\"], index= logit_ind)\n",
      "    total_preds = pd.concat([logit_preds, tree_preds])\n",
      "    total_preds = total_preds.loc[tot_ind]\n",
      "    true_class = aug_vSet[res]\n",
      "    \n",
      "    preds_and_real = total_preds.copy()\n",
      "    preds_and_real[\"True Class\"] = true_class\n",
      "    class_0 = preds_and_real[preds_and_real['True Class'] == 0]\n",
      "    class_1 = preds_and_real[preds_and_real['True Class'] == 1]\n",
      "    \n",
      "    class_0_err = calc_error(class_0)\n",
      "    class_1_err = calc_error(class_1)\n",
      "    tot_err = calc_error(preds_and_real)\n",
      "    \n",
      "    \n",
      "    print \"When using the hybrid-CART Logit model, the various errors are: \"\n",
      "    print \"\"\n",
      "    print \"Total Error: {}\".format(tot_err)\n",
      "    print \"Class 0 Error: {}\".format(class_0_err)\n",
      "    print \"Class 1 Error: {}\".format(class_1_err)\n",
      "    print \"\"\n",
      "    print \"Note: The number of non-zero logit predictions is {}\".format(len(logit_preds[logit_preds[\"Predictions\"] != 0]))\n",
      "    return [tot_err, class_0_err, class_1_err]"
     ],
     "language": "python",
     "metadata": {},
     "outputs": [],
     "prompt_number": 158
    },
    {
     "cell_type": "code",
     "collapsed": false,
     "input": [
      "def overall_test(aug_tSet, aug_vSet, tree, res, classes, fit_string=None):\n",
      "    d4logit = design_for_hybrid(aug_tSet, tree)   \n",
      "    init_multi, init_multi_string = initial_multivariate(d4logit, res, fit=fit_string)\n",
      "    reduced_multi, reduced_multi_string = reduce_multi_model(init_multi, init_multi_string, res, d4logit, fit=fit_string)\n",
      "    hybrid_errs = hybrid_classify(aug_vSet, tree, reduced_multi, res, classes)\n",
      "    print \"=\"*10\n",
      "    print \"\"\n",
      "    print \"=\"*10\n",
      "    tree_errs = treepredict.testAccuracy(aug_vSet, tree, classes, res)\n",
      "    all_errs = pd.DataFrame({'Hybrid': hybrid_errs, 'Tree': tree_errs},\n",
      "                            index = ['Total'] + ['Class {}'.format(x) for x in classes])\n",
      "    return reduced_multi, all_errs"
     ],
     "language": "python",
     "metadata": {},
     "outputs": [],
     "prompt_number": 160
    },
    {
     "cell_type": "code",
     "collapsed": false,
     "input": [
      "min10_model_and_errs = overall_test(min10_trainingDesign, min10_validationDesign, pruned_min10_tree,\n",
      "                                  \"SER_INJ\", [0,1], fit_string=\"ncg\")"
     ],
     "language": "python",
     "metadata": {},
     "outputs": [
      {
       "output_type": "stream",
       "stream": "stdout",
       "text": [
        "[['TRAV_SP', 'TRAV_SP_interact_TRAV_SP_9999'], ['NUMOCCS', 'NUMOCCS_interact_NUMOCCS_9999'], ['VSPD_LIM', 'VSPD_LIM_interact_VSPD_LIM_9999'], ['DRIVER_AGE', 'DRIVER_AGE_interact_DRIVER_AGE_9999']]\n",
        "Optimization terminated successfully."
       ]
      },
      {
       "output_type": "stream",
       "stream": "stdout",
       "text": [
        "\n",
        "         Current function value: 0.458877\n",
        "         Iterations: 8\n",
        "         Function evaluations: 9\n",
        "         Gradient evaluations: 16\n",
        "         Hessian evaluations: 8\n",
        "Optimization terminated successfully."
       ]
      },
      {
       "output_type": "stream",
       "stream": "stdout",
       "text": [
        "\n",
        "         Current function value: 0.458518\n",
        "         Iterations: 8\n",
        "         Function evaluations: 9\n",
        "         Gradient evaluations: 16\n",
        "         Hessian evaluations: 8\n",
        "Optimization terminated successfully."
       ]
      },
      {
       "output_type": "stream",
       "stream": "stdout",
       "text": [
        "\n",
        "         Current function value: 0.458268\n",
        "         Iterations: 8\n",
        "         Function evaluations: 9\n",
        "         Gradient evaluations: 16\n",
        "         Hessian evaluations: 8\n",
        "Optimization terminated successfully."
       ]
      },
      {
       "output_type": "stream",
       "stream": "stdout",
       "text": [
        "\n",
        "         Current function value: 0.458689\n",
        "         Iterations: 7\n",
        "         Function evaluations: 8\n",
        "         Gradient evaluations: 14\n",
        "         Hessian evaluations: 7\n",
        "Optimization terminated successfully."
       ]
      },
      {
       "output_type": "stream",
       "stream": "stdout",
       "text": [
        "\n",
        "         Current function value: 0.458762\n",
        "         Iterations: 7\n",
        "         Function evaluations: 8\n",
        "         Gradient evaluations: 14\n",
        "         Hessian evaluations: 7\n",
        "Optimization terminated successfully."
       ]
      },
      {
       "output_type": "stream",
       "stream": "stdout",
       "text": [
        "\n",
        "         Current function value: 0.458834\n",
        "         Iterations: 7\n",
        "         Function evaluations: 8\n",
        "         Gradient evaluations: 14\n",
        "         Hessian evaluations: 7\n",
        "Optimization terminated successfully."
       ]
      },
      {
       "output_type": "stream",
       "stream": "stdout",
       "text": [
        "\n",
        "         Current function value: 0.458915\n",
        "         Iterations: 8\n",
        "         Function evaluations: 9\n",
        "         Gradient evaluations: 16\n",
        "         Hessian evaluations: 8\n",
        "Optimization terminated successfully."
       ]
      },
      {
       "output_type": "stream",
       "stream": "stdout",
       "text": [
        "\n",
        "         Current function value: 0.458065\n",
        "         Iterations: 8\n",
        "         Function evaluations: 9\n",
        "         Gradient evaluations: 16\n",
        "         Hessian evaluations: 8\n",
        "Optimization terminated successfully."
       ]
      },
      {
       "output_type": "stream",
       "stream": "stdout",
       "text": [
        "\n",
        "         Current function value: 0.458874\n",
        "         Iterations: 7\n",
        "         Function evaluations: 8\n",
        "         Gradient evaluations: 14\n",
        "         Hessian evaluations: 7\n",
        "Optimization terminated successfully."
       ]
      },
      {
       "output_type": "stream",
       "stream": "stdout",
       "text": [
        "\n",
        "         Current function value: 0.458916\n",
        "         Iterations: 8\n",
        "         Function evaluations: 9\n",
        "         Gradient evaluations: 16\n",
        "         Hessian evaluations: 8\n",
        "Optimization terminated successfully."
       ]
      },
      {
       "output_type": "stream",
       "stream": "stdout",
       "text": [
        "\n",
        "         Current function value: 0.457367\n",
        "         Iterations: 8\n",
        "         Function evaluations: 9\n",
        "         Gradient evaluations: 16\n",
        "         Hessian evaluations: 8\n",
        "Optimization terminated successfully."
       ]
      },
      {
       "output_type": "stream",
       "stream": "stdout",
       "text": [
        "\n",
        "         Current function value: 0.458685\n",
        "         Iterations: 8\n",
        "         Function evaluations: 9\n",
        "         Gradient evaluations: 16\n",
        "         Hessian evaluations: 8\n",
        "Optimization terminated successfully."
       ]
      },
      {
       "output_type": "stream",
       "stream": "stdout",
       "text": [
        "\n",
        "         Current function value: 0.458714\n",
        "         Iterations: 7\n",
        "         Function evaluations: 8\n",
        "         Gradient evaluations: 14\n",
        "         Hessian evaluations: 7\n",
        "Optimization terminated successfully."
       ]
      },
      {
       "output_type": "stream",
       "stream": "stdout",
       "text": [
        "\n",
        "         Current function value: 0.458909\n",
        "         Iterations: 7\n",
        "         Function evaluations: 8\n",
        "         Gradient evaluations: 14\n",
        "         Hessian evaluations: 7\n",
        "Optimization terminated successfully."
       ]
      },
      {
       "output_type": "stream",
       "stream": "stdout",
       "text": [
        "\n",
        "         Current function value: 0.457177\n",
        "         Iterations: 8\n",
        "         Function evaluations: 9\n",
        "         Gradient evaluations: 16\n",
        "         Hessian evaluations: 8\n",
        "Optimization terminated successfully."
       ]
      },
      {
       "output_type": "stream",
       "stream": "stdout",
       "text": [
        "\n",
        "         Current function value: 0.458894\n",
        "         Iterations: 7\n",
        "         Function evaluations: 8\n",
        "         Gradient evaluations: 14\n",
        "         Hessian evaluations: 7\n",
        "Optimization terminated successfully."
       ]
      },
      {
       "output_type": "stream",
       "stream": "stdout",
       "text": [
        "\n",
        "         Current function value: 0.458917\n",
        "         Iterations: 8\n",
        "         Function evaluations: 9\n",
        "         Gradient evaluations: 16\n",
        "         Hessian evaluations: 8\n",
        "Optimization terminated successfully."
       ]
      },
      {
       "output_type": "stream",
       "stream": "stdout",
       "text": [
        "\n",
        "         Current function value: 0.458917\n",
        "         Iterations: 7\n",
        "         Function evaluations: 8\n",
        "         Gradient evaluations: 14\n",
        "         Hessian evaluations: 7\n",
        "Optimization terminated successfully."
       ]
      },
      {
       "output_type": "stream",
       "stream": "stdout",
       "text": [
        "\n",
        "         Current function value: 0.458722\n",
        "         Iterations: 8\n",
        "         Function evaluations: 10\n",
        "         Gradient evaluations: 17\n",
        "         Hessian evaluations: 8\n",
        "Optimization terminated successfully."
       ]
      },
      {
       "output_type": "stream",
       "stream": "stdout",
       "text": [
        "\n",
        "         Current function value: 0.458268\n",
        "         Iterations: 7\n",
        "         Function evaluations: 8\n",
        "         Gradient evaluations: 14\n",
        "         Hessian evaluations: 7\n",
        "Optimization terminated successfully."
       ]
      },
      {
       "output_type": "stream",
       "stream": "stdout",
       "text": [
        "\n",
        "         Current function value: 0.456638\n",
        "         Iterations: 12\n",
        "         Function evaluations: 13\n",
        "         Gradient evaluations: 24\n",
        "         Hessian evaluations: 12\n",
        "Optimization terminated successfully."
       ]
      },
      {
       "output_type": "stream",
       "stream": "stdout",
       "text": [
        "\n",
        "         Current function value: 0.458400\n",
        "         Iterations: 8\n",
        "         Function evaluations: 9\n",
        "         Gradient evaluations: 16\n",
        "         Hessian evaluations: 8\n",
        "Optimization terminated successfully."
       ]
      },
      {
       "output_type": "stream",
       "stream": "stdout",
       "text": [
        "\n",
        "         Current function value: 0.458021\n",
        "         Iterations: 7\n",
        "         Function evaluations: 8\n",
        "         Gradient evaluations: 14\n",
        "         Hessian evaluations: 7\n",
        "Optimization terminated successfully."
       ]
      },
      {
       "output_type": "stream",
       "stream": "stdout",
       "text": [
        "\n",
        "         Current function value: 0.458864\n",
        "         Iterations: 11\n",
        "         Function evaluations: 12\n",
        "         Gradient evaluations: 22\n",
        "         Hessian evaluations: 11\n",
        "Optimization terminated successfully."
       ]
      },
      {
       "output_type": "stream",
       "stream": "stdout",
       "text": [
        "\n",
        "         Current function value: 0.458268\n",
        "         Iterations: 7\n",
        "         Function evaluations: 8\n",
        "         Gradient evaluations: 14\n",
        "         Hessian evaluations: 7\n",
        "Optimization terminated successfully."
       ]
      },
      {
       "output_type": "stream",
       "stream": "stdout",
       "text": [
        "\n",
        "         Current function value: 0.458660\n",
        "         Iterations: 8\n",
        "         Function evaluations: 9\n",
        "         Gradient evaluations: 16\n",
        "         Hessian evaluations: 8\n",
        "Warning: Maximum number of iterations has been exceeded."
       ]
      },
      {
       "output_type": "stream",
       "stream": "stdout",
       "text": [
        "\n",
        "         Current function value: 0.458573\n",
        "         Iterations: 2000\n",
        "         Function evaluations: 2001\n",
        "         Gradient evaluations: 4000\n",
        "         Hessian evaluations: 2000\n",
        "The model for ['LOCATION_Treatment_9999_T21'] did not converge\n",
        "Optimization terminated successfully."
       ]
      },
      {
       "output_type": "stream",
       "stream": "stdout",
       "text": [
        "\n",
        "         Current function value: 0.458678\n",
        "         Iterations: 7\n",
        "         Function evaluations: 8\n",
        "         Gradient evaluations: 14\n",
        "         Hessian evaluations: 7\n",
        "Optimization terminated successfully."
       ]
      },
      {
       "output_type": "stream",
       "stream": "stdout",
       "text": [
        "\n",
        "         Current function value: 0.458611\n",
        "         Iterations: 1052\n",
        "         Function evaluations: 1077\n",
        "         Gradient evaluations: 2128\n",
        "         Hessian evaluations: 1052\n",
        "Optimization terminated successfully."
       ]
      },
      {
       "output_type": "stream",
       "stream": "stdout",
       "text": [
        "\n",
        "         Current function value: 0.458515\n",
        "         Iterations: 8\n",
        "         Function evaluations: 10\n",
        "         Gradient evaluations: 17\n",
        "         Hessian evaluations: 8\n",
        "Optimization terminated successfully."
       ]
      },
      {
       "output_type": "stream",
       "stream": "stdout",
       "text": [
        "\n",
        "         Current function value: 0.458871\n",
        "         Iterations: 7\n",
        "         Function evaluations: 8\n",
        "         Gradient evaluations: 14\n",
        "         Hessian evaluations: 7\n",
        "Optimization terminated successfully."
       ]
      },
      {
       "output_type": "stream",
       "stream": "stdout",
       "text": [
        "\n",
        "         Current function value: 0.458678\n",
        "         Iterations: 8\n",
        "         Function evaluations: 9\n",
        "         Gradient evaluations: 16\n",
        "         Hessian evaluations: 8\n",
        "Optimization terminated successfully."
       ]
      },
      {
       "output_type": "stream",
       "stream": "stdout",
       "text": [
        "\n",
        "         Current function value: 0.458885\n",
        "         Iterations: 8\n",
        "         Function evaluations: 9\n",
        "         Gradient evaluations: 16\n",
        "         Hessian evaluations: 8\n",
        "Optimization terminated successfully."
       ]
      },
      {
       "output_type": "stream",
       "stream": "stdout",
       "text": [
        "\n",
        "         Current function value: 0.458910\n",
        "         Iterations: 8\n",
        "         Function evaluations: 9\n",
        "         Gradient evaluations: 16\n",
        "         Hessian evaluations: 8\n",
        "Optimization terminated successfully."
       ]
      },
      {
       "output_type": "stream",
       "stream": "stdout",
       "text": [
        "\n",
        "         Current function value: 0.458678\n",
        "         Iterations: 7\n",
        "         Function evaluations: 8\n",
        "         Gradient evaluations: 14\n",
        "         Hessian evaluations: 7\n",
        "Optimization terminated successfully."
       ]
      },
      {
       "output_type": "stream",
       "stream": "stdout",
       "text": [
        "\n",
        "         Current function value: 0.458916\n",
        "         Iterations: 7\n",
        "         Function evaluations: 8\n",
        "         Gradient evaluations: 14\n",
        "         Hessian evaluations: 7\n",
        "Optimization terminated successfully."
       ]
      },
      {
       "output_type": "stream",
       "stream": "stdout",
       "text": [
        "\n",
        "         Current function value: 0.458910\n",
        "         Iterations: 9\n",
        "         Function evaluations: 11\n",
        "         Gradient evaluations: 19\n",
        "         Hessian evaluations: 9\n",
        "Optimization terminated successfully."
       ]
      },
      {
       "output_type": "stream",
       "stream": "stdout",
       "text": [
        "\n",
        "         Current function value: 0.458788\n",
        "         Iterations: 8\n",
        "         Function evaluations: 9\n",
        "         Gradient evaluations: 16\n",
        "         Hessian evaluations: 8\n",
        "Optimization terminated successfully."
       ]
      },
      {
       "output_type": "stream",
       "stream": "stdout",
       "text": [
        "\n",
        "         Current function value: 0.458412\n",
        "         Iterations: 12\n",
        "         Function evaluations: 13\n",
        "         Gradient evaluations: 24\n",
        "         Hessian evaluations: 12\n",
        "Optimization terminated successfully."
       ]
      },
      {
       "output_type": "stream",
       "stream": "stdout",
       "text": [
        "\n",
        "         Current function value: 0.458909\n",
        "         Iterations: 7\n",
        "         Function evaluations: 8\n",
        "         Gradient evaluations: 14\n",
        "         Hessian evaluations: 7\n",
        "Optimization terminated successfully."
       ]
      },
      {
       "output_type": "stream",
       "stream": "stdout",
       "text": [
        "\n",
        "         Current function value: 0.458065\n",
        "         Iterations: 12\n",
        "         Function evaluations: 13\n",
        "         Gradient evaluations: 24\n",
        "         Hessian evaluations: 12\n",
        "Optimization terminated successfully."
       ]
      },
      {
       "output_type": "stream",
       "stream": "stdout",
       "text": [
        "\n",
        "         Current function value: 0.458694\n",
        "         Iterations: 20\n",
        "         Function evaluations: 31\n",
        "         Gradient evaluations: 50\n",
        "         Hessian evaluations: 20\n",
        "Optimization terminated successfully."
       ]
      },
      {
       "output_type": "stream",
       "stream": "stdout",
       "text": [
        "\n",
        "         Current function value: 0.458872\n",
        "         Iterations: 7\n",
        "         Function evaluations: 8\n",
        "         Gradient evaluations: 14\n",
        "         Hessian evaluations: 7\n",
        "Optimization terminated successfully."
       ]
      },
      {
       "output_type": "stream",
       "stream": "stdout",
       "text": [
        "\n",
        "         Current function value: 0.458910\n",
        "         Iterations: 8\n",
        "         Function evaluations: 9\n",
        "         Gradient evaluations: 16\n",
        "         Hessian evaluations: 8\n",
        "Optimization terminated successfully."
       ]
      },
      {
       "output_type": "stream",
       "stream": "stdout",
       "text": [
        "\n",
        "         Current function value: 0.458521\n",
        "         Iterations: 7\n",
        "         Function evaluations: 8\n",
        "         Gradient evaluations: 14\n",
        "         Hessian evaluations: 7\n",
        "The base model plus ['CARGO_BT_Treatment_9999_T2'] is not of full rank.\n",
        "Optimization terminated successfully."
       ]
      },
      {
       "output_type": "stream",
       "stream": "stdout",
       "text": [
        "\n",
        "         Current function value: 0.458438\n",
        "         Iterations: 12\n",
        "         Function evaluations: 13\n",
        "         Gradient evaluations: 24\n",
        "         Hessian evaluations: 12\n",
        "Optimization terminated successfully."
       ]
      },
      {
       "output_type": "stream",
       "stream": "stdout",
       "text": [
        "\n",
        "         Current function value: 0.458258\n",
        "         Iterations: 7\n",
        "         Function evaluations: 8\n",
        "         Gradient evaluations: 14\n",
        "         Hessian evaluations: 7\n",
        "Optimization terminated successfully."
       ]
      },
      {
       "output_type": "stream",
       "stream": "stdout",
       "text": [
        "\n",
        "         Current function value: 0.458610\n",
        "         Iterations: 11\n",
        "         Function evaluations: 12\n",
        "         Gradient evaluations: 22\n",
        "         Hessian evaluations: 11\n",
        "Optimization terminated successfully."
       ]
      },
      {
       "output_type": "stream",
       "stream": "stdout",
       "text": [
        "\n",
        "         Current function value: 0.457754\n",
        "         Iterations: 12\n",
        "         Function evaluations: 13\n",
        "         Gradient evaluations: 24\n",
        "         Hessian evaluations: 12\n",
        "Optimization terminated successfully."
       ]
      },
      {
       "output_type": "stream",
       "stream": "stdout",
       "text": [
        "\n",
        "         Current function value: 0.458910\n",
        "         Iterations: 7\n",
        "         Function evaluations: 8\n",
        "         Gradient evaluations: 14\n",
        "         Hessian evaluations: 7\n",
        "Optimization terminated successfully."
       ]
      },
      {
       "output_type": "stream",
       "stream": "stdout",
       "text": [
        "\n",
        "         Current function value: 0.458258\n",
        "         Iterations: 7\n",
        "         Function evaluations: 8\n",
        "         Gradient evaluations: 14\n",
        "         Hessian evaluations: 7\n",
        "Optimization terminated successfully."
       ]
      },
      {
       "output_type": "stream",
       "stream": "stdout",
       "text": [
        "\n",
        "         Current function value: 0.457952\n",
        "         Iterations: 13\n",
        "         Function evaluations: 14\n",
        "         Gradient evaluations: 26\n",
        "         Hessian evaluations: 13\n",
        "Optimization terminated successfully."
       ]
      },
      {
       "output_type": "stream",
       "stream": "stdout",
       "text": [
        "\n",
        "         Current function value: 0.458807\n",
        "         Iterations: 8\n",
        "         Function evaluations: 9\n",
        "         Gradient evaluations: 16\n",
        "         Hessian evaluations: 8\n",
        "Optimization terminated successfully."
       ]
      },
      {
       "output_type": "stream",
       "stream": "stdout",
       "text": [
        "\n",
        "         Current function value: 0.458664\n",
        "         Iterations: 17\n",
        "         Function evaluations: 26\n",
        "         Gradient evaluations: 42\n",
        "         Hessian evaluations: 17\n",
        "Optimization terminated successfully."
       ]
      },
      {
       "output_type": "stream",
       "stream": "stdout",
       "text": [
        "\n",
        "         Current function value: 0.457353\n",
        "         Iterations: 35\n",
        "         Function evaluations: 44\n",
        "         Gradient evaluations: 78\n",
        "         Hessian evaluations: 35\n",
        "Optimization terminated successfully."
       ]
      },
      {
       "output_type": "stream",
       "stream": "stdout",
       "text": [
        "\n",
        "         Current function value: 0.457593\n",
        "         Iterations: 12\n",
        "         Function evaluations: 13\n",
        "         Gradient evaluations: 24\n",
        "         Hessian evaluations: 12\n",
        "Optimization terminated successfully."
       ]
      },
      {
       "output_type": "stream",
       "stream": "stdout",
       "text": [
        "\n",
        "         Current function value: 0.457448\n",
        "         Iterations: 8\n",
        "         Function evaluations: 9\n",
        "         Gradient evaluations: 16\n",
        "         Hessian evaluations: 8\n",
        "Optimization terminated successfully."
       ]
      },
      {
       "output_type": "stream",
       "stream": "stdout",
       "text": [
        "\n",
        "         Current function value: 0.458120\n",
        "         Iterations: 7\n",
        "         Function evaluations: 8\n",
        "         Gradient evaluations: 14\n",
        "         Hessian evaluations: 7\n",
        "Optimization terminated successfully."
       ]
      },
      {
       "output_type": "stream",
       "stream": "stdout",
       "text": [
        "\n",
        "         Current function value: 0.457353\n",
        "         Iterations: 28\n",
        "         Function evaluations: 49\n",
        "         Gradient evaluations: 76\n",
        "         Hessian evaluations: 28\n",
        "Optimization terminated successfully."
       ]
      },
      {
       "output_type": "stream",
       "stream": "stdout",
       "text": [
        "\n",
        "         Current function value: 0.458868\n",
        "         Iterations: 7\n",
        "         Function evaluations: 8\n",
        "         Gradient evaluations: 14\n",
        "         Hessian evaluations: 7\n",
        "Optimization terminated successfully."
       ]
      },
      {
       "output_type": "stream",
       "stream": "stdout",
       "text": [
        "\n",
        "         Current function value: 0.458063\n",
        "         Iterations: 8\n",
        "         Function evaluations: 9\n",
        "         Gradient evaluations: 16\n",
        "         Hessian evaluations: 8\n",
        "The base model plus ['EMER_USE_vehDup_Treatment_9999_T1'] is not of full rank.\n",
        "Optimization terminated successfully."
       ]
      },
      {
       "output_type": "stream",
       "stream": "stdout",
       "text": [
        "\n",
        "         Current function value: 0.458611\n",
        "         Iterations: 1489\n",
        "         Function evaluations: 1510\n",
        "         Gradient evaluations: 2998\n",
        "         Hessian evaluations: 1489\n",
        "Optimization terminated successfully."
       ]
      },
      {
       "output_type": "stream",
       "stream": "stdout",
       "text": [
        "\n",
        "         Current function value: 0.458062\n",
        "         Iterations: 7\n",
        "         Function evaluations: 8\n",
        "         Gradient evaluations: 14\n",
        "         Hessian evaluations: 7\n",
        "Optimization terminated successfully."
       ]
      },
      {
       "output_type": "stream",
       "stream": "stdout",
       "text": [
        "\n",
        "         Current function value: 0.458845\n",
        "         Iterations: 8\n",
        "         Function evaluations: 9\n",
        "         Gradient evaluations: 16\n",
        "         Hessian evaluations: 8\n",
        "Optimization terminated successfully."
       ]
      },
      {
       "output_type": "stream",
       "stream": "stdout",
       "text": [
        "\n",
        "         Current function value: 0.458284\n",
        "         Iterations: 7\n",
        "         Function evaluations: 8\n",
        "         Gradient evaluations: 14\n",
        "         Hessian evaluations: 7\n",
        "Optimization terminated successfully."
       ]
      },
      {
       "output_type": "stream",
       "stream": "stdout",
       "text": [
        "\n",
        "         Current function value: 0.457797\n",
        "         Iterations: 7\n",
        "         Function evaluations: 8\n",
        "         Gradient evaluations: 14\n",
        "         Hessian evaluations: 7\n",
        "Optimization terminated successfully."
       ]
      },
      {
       "output_type": "stream",
       "stream": "stdout",
       "text": [
        "\n",
        "         Current function value: 0.458403\n",
        "         Iterations: 7\n",
        "         Function evaluations: 8\n",
        "         Gradient evaluations: 14\n",
        "         Hessian evaluations: 7\n",
        "Optimization terminated successfully."
       ]
      },
      {
       "output_type": "stream",
       "stream": "stdout",
       "text": [
        "\n",
        "         Current function value: 0.458912\n",
        "         Iterations: 7\n",
        "         Function evaluations: 8\n",
        "         Gradient evaluations: 14\n",
        "         Hessian evaluations: 7\n",
        "Optimization terminated successfully."
       ]
      },
      {
       "output_type": "stream",
       "stream": "stdout",
       "text": [
        "\n",
        "         Current function value: 0.458867\n",
        "         Iterations: 8\n",
        "         Function evaluations: 9\n",
        "         Gradient evaluations: 16\n",
        "         Hessian evaluations: 8\n",
        "Optimization terminated successfully."
       ]
      },
      {
       "output_type": "stream",
       "stream": "stdout",
       "text": [
        "\n",
        "         Current function value: 0.458908\n",
        "         Iterations: 7\n",
        "         Function evaluations: 8\n",
        "         Gradient evaluations: 14\n",
        "         Hessian evaluations: 7\n",
        "Optimization terminated successfully."
       ]
      },
      {
       "output_type": "stream",
       "stream": "stdout",
       "text": [
        "\n",
        "         Current function value: 0.458915\n",
        "         Iterations: 8\n",
        "         Function evaluations: 9\n",
        "         Gradient evaluations: 16\n",
        "         Hessian evaluations: 8\n",
        "Optimization terminated successfully."
       ]
      },
      {
       "output_type": "stream",
       "stream": "stdout",
       "text": [
        "\n",
        "         Current function value: 0.458557\n",
        "         Iterations: 7\n",
        "         Function evaluations: 8\n",
        "         Gradient evaluations: 14\n",
        "         Hessian evaluations: 7\n",
        "Optimization terminated successfully."
       ]
      },
      {
       "output_type": "stream",
       "stream": "stdout",
       "text": [
        "\n",
        "         Current function value: 0.458719\n",
        "         Iterations: 7\n",
        "         Function evaluations: 8\n",
        "         Gradient evaluations: 14\n",
        "         Hessian evaluations: 7\n",
        "Optimization terminated successfully."
       ]
      },
      {
       "output_type": "stream",
       "stream": "stdout",
       "text": [
        "\n",
        "         Current function value: 0.458506\n",
        "         Iterations: 9\n",
        "         Function evaluations: 10\n",
        "         Gradient evaluations: 18\n",
        "         Hessian evaluations: 9\n",
        "Optimization terminated successfully."
       ]
      },
      {
       "output_type": "stream",
       "stream": "stdout",
       "text": [
        "\n",
        "         Current function value: 0.458485\n",
        "         Iterations: 13\n",
        "         Function evaluations: 17\n",
        "         Gradient evaluations: 29\n",
        "         Hessian evaluations: 13\n",
        "Optimization terminated successfully."
       ]
      },
      {
       "output_type": "stream",
       "stream": "stdout",
       "text": [
        "\n",
        "         Current function value: 0.458732\n",
        "         Iterations: 26\n",
        "         Function evaluations: 39\n",
        "         Gradient evaluations: 64\n",
        "         Hessian evaluations: 26\n",
        "Optimization terminated successfully."
       ]
      },
      {
       "output_type": "stream",
       "stream": "stdout",
       "text": [
        "\n",
        "         Current function value: 0.458733\n",
        "         Iterations: 17\n",
        "         Function evaluations: 25\n",
        "         Gradient evaluations: 41\n",
        "         Hessian evaluations: 17\n",
        "Optimization terminated successfully."
       ]
      },
      {
       "output_type": "stream",
       "stream": "stdout",
       "text": [
        "\n",
        "         Current function value: 0.457417\n",
        "         Iterations: 8\n",
        "         Function evaluations: 9\n",
        "         Gradient evaluations: 16\n",
        "         Hessian evaluations: 8\n",
        "Optimization terminated successfully."
       ]
      },
      {
       "output_type": "stream",
       "stream": "stdout",
       "text": [
        "\n",
        "         Current function value: 0.458437\n",
        "         Iterations: 7\n",
        "         Function evaluations: 8\n",
        "         Gradient evaluations: 14\n",
        "         Hessian evaluations: 7\n",
        "Optimization terminated successfully."
       ]
      },
      {
       "output_type": "stream",
       "stream": "stdout",
       "text": [
        "\n",
        "         Current function value: 0.458723\n",
        "         Iterations: 8\n",
        "         Function evaluations: 9\n",
        "         Gradient evaluations: 16\n",
        "         Hessian evaluations: 8\n",
        "Optimization terminated successfully."
       ]
      },
      {
       "output_type": "stream",
       "stream": "stdout",
       "text": [
        "\n",
        "         Current function value: 0.458894\n",
        "         Iterations: 8\n",
        "         Function evaluations: 9\n",
        "         Gradient evaluations: 16\n",
        "         Hessian evaluations: 8\n",
        "Optimization terminated successfully."
       ]
      },
      {
       "output_type": "stream",
       "stream": "stdout",
       "text": [
        "\n",
        "         Current function value: 0.458606\n",
        "         Iterations: 7\n",
        "         Function evaluations: 8\n",
        "         Gradient evaluations: 14\n",
        "         Hessian evaluations: 7\n",
        "Optimization terminated successfully."
       ]
      },
      {
       "output_type": "stream",
       "stream": "stdout",
       "text": [
        "\n",
        "         Current function value: 0.458917\n",
        "         Iterations: 10\n",
        "         Function evaluations: 11\n",
        "         Gradient evaluations: 20\n",
        "         Hessian evaluations: 10\n",
        "Optimization terminated successfully."
       ]
      },
      {
       "output_type": "stream",
       "stream": "stdout",
       "text": [
        "\n",
        "         Current function value: 0.458861\n",
        "         Iterations: 7\n",
        "         Function evaluations: 8\n",
        "         Gradient evaluations: 14\n",
        "         Hessian evaluations: 7\n",
        "Optimization terminated successfully."
       ]
      },
      {
       "output_type": "stream",
       "stream": "stdout",
       "text": [
        "\n",
        "         Current function value: 0.457873\n",
        "         Iterations: 7\n",
        "         Function evaluations: 8\n",
        "         Gradient evaluations: 14\n",
        "         Hessian evaluations: 7\n",
        "Optimization terminated successfully."
       ]
      },
      {
       "output_type": "stream",
       "stream": "stdout",
       "text": [
        "\n",
        "         Current function value: 0.458665\n",
        "         Iterations: 8\n",
        "         Function evaluations: 9\n",
        "         Gradient evaluations: 16\n",
        "         Hessian evaluations: 8\n",
        "Optimization terminated successfully."
       ]
      },
      {
       "output_type": "stream",
       "stream": "stdout",
       "text": [
        "\n",
        "         Current function value: 0.458542\n",
        "         Iterations: 8\n",
        "         Function evaluations: 9\n",
        "         Gradient evaluations: 16\n",
        "         Hessian evaluations: 8\n",
        "Optimization terminated successfully."
       ]
      },
      {
       "output_type": "stream",
       "stream": "stdout",
       "text": [
        "\n",
        "         Current function value: 0.458827\n",
        "         Iterations: 8\n",
        "         Function evaluations: 9\n",
        "         Gradient evaluations: 16\n",
        "         Hessian evaluations: 8\n",
        "Optimization terminated successfully."
       ]
      },
      {
       "output_type": "stream",
       "stream": "stdout",
       "text": [
        "\n",
        "         Current function value: 0.458499\n",
        "         Iterations: 7\n",
        "         Function evaluations: 8\n",
        "         Gradient evaluations: 14\n",
        "         Hessian evaluations: 7\n",
        "Optimization terminated successfully."
       ]
      },
      {
       "output_type": "stream",
       "stream": "stdout",
       "text": [
        "\n",
        "         Current function value: 0.458342\n",
        "         Iterations: 7\n",
        "         Function evaluations: 8\n",
        "         Gradient evaluations: 14\n",
        "         Hessian evaluations: 7\n",
        "Optimization terminated successfully."
       ]
      },
      {
       "output_type": "stream",
       "stream": "stdout",
       "text": [
        "\n",
        "         Current function value: 0.458371\n",
        "         Iterations: 11\n",
        "         Function evaluations: 12\n",
        "         Gradient evaluations: 22\n",
        "         Hessian evaluations: 11\n",
        "Optimization terminated successfully."
       ]
      },
      {
       "output_type": "stream",
       "stream": "stdout",
       "text": [
        "\n",
        "         Current function value: 0.457873\n",
        "         Iterations: 7\n",
        "         Function evaluations: 8\n",
        "         Gradient evaluations: 14\n",
        "         Hessian evaluations: 7\n",
        "Optimization terminated successfully."
       ]
      },
      {
       "output_type": "stream",
       "stream": "stdout",
       "text": [
        "\n",
        "         Current function value: 0.458770\n",
        "         Iterations: 9\n",
        "         Function evaluations: 11\n",
        "         Gradient evaluations: 19\n",
        "         Hessian evaluations: 9\n",
        "Optimization terminated successfully."
       ]
      },
      {
       "output_type": "stream",
       "stream": "stdout",
       "text": [
        "\n",
        "         Current function value: 0.458794\n",
        "         Iterations: 8\n",
        "         Function evaluations: 9\n",
        "         Gradient evaluations: 16\n",
        "         Hessian evaluations: 8\n",
        "Optimization terminated successfully."
       ]
      },
      {
       "output_type": "stream",
       "stream": "stdout",
       "text": [
        "\n",
        "         Current function value: 0.458885\n",
        "         Iterations: 7\n",
        "         Function evaluations: 8\n",
        "         Gradient evaluations: 14\n",
        "         Hessian evaluations: 7\n",
        "Optimization terminated successfully."
       ]
      },
      {
       "output_type": "stream",
       "stream": "stdout",
       "text": [
        "\n",
        "         Current function value: 0.457413\n",
        "         Iterations: 7\n",
        "         Function evaluations: 8\n",
        "         Gradient evaluations: 14\n",
        "         Hessian evaluations: 7\n",
        "Optimization terminated successfully."
       ]
      },
      {
       "output_type": "stream",
       "stream": "stdout",
       "text": [
        "\n",
        "         Current function value: 0.457873\n",
        "         Iterations: 7\n",
        "         Function evaluations: 8\n",
        "         Gradient evaluations: 14\n",
        "         Hessian evaluations: 7\n",
        "Optimization terminated successfully."
       ]
      },
      {
       "output_type": "stream",
       "stream": "stdout",
       "text": [
        "\n",
        "         Current function value: 0.458523\n",
        "         Iterations: 8\n",
        "         Function evaluations: 10\n",
        "         Gradient evaluations: 17\n",
        "         Hessian evaluations: 8\n",
        "Optimization terminated successfully."
       ]
      },
      {
       "output_type": "stream",
       "stream": "stdout",
       "text": [
        "\n",
        "         Current function value: 0.457424\n",
        "         Iterations: 7\n",
        "         Function evaluations: 8\n",
        "         Gradient evaluations: 14\n",
        "         Hessian evaluations: 7\n",
        "Optimization terminated successfully."
       ]
      },
      {
       "output_type": "stream",
       "stream": "stdout",
       "text": [
        "\n",
        "         Current function value: 0.457795\n",
        "         Iterations: 7\n",
        "         Function evaluations: 8\n",
        "         Gradient evaluations: 14\n",
        "         Hessian evaluations: 7\n",
        "Optimization terminated successfully."
       ]
      },
      {
       "output_type": "stream",
       "stream": "stdout",
       "text": [
        "\n",
        "         Current function value: 0.457543\n",
        "         Iterations: 7\n",
        "         Function evaluations: 8\n",
        "         Gradient evaluations: 14\n",
        "         Hessian evaluations: 7\n",
        "Optimization terminated successfully."
       ]
      },
      {
       "output_type": "stream",
       "stream": "stdout",
       "text": [
        "\n",
        "         Current function value: 0.458901\n",
        "         Iterations: 7\n",
        "         Function evaluations: 8\n",
        "         Gradient evaluations: 14\n",
        "         Hessian evaluations: 7\n",
        "Optimization terminated successfully."
       ]
      },
      {
       "output_type": "stream",
       "stream": "stdout",
       "text": [
        "\n",
        "         Current function value: 0.458117\n",
        "         Iterations: 7\n",
        "         Function evaluations: 8\n",
        "         Gradient evaluations: 14\n",
        "         Hessian evaluations: 7\n",
        "Optimization terminated successfully."
       ]
      },
      {
       "output_type": "stream",
       "stream": "stdout",
       "text": [
        "\n",
        "         Current function value: 0.457873\n",
        "         Iterations: 7\n",
        "         Function evaluations: 8\n",
        "         Gradient evaluations: 14\n",
        "         Hessian evaluations: 7\n",
        "Optimization terminated successfully."
       ]
      },
      {
       "output_type": "stream",
       "stream": "stdout",
       "text": [
        "\n",
        "         Current function value: 0.458768\n",
        "         Iterations: 8\n",
        "         Function evaluations: 9\n",
        "         Gradient evaluations: 16\n",
        "         Hessian evaluations: 8\n",
        "Optimization terminated successfully."
       ]
      },
      {
       "output_type": "stream",
       "stream": "stdout",
       "text": [
        "\n",
        "         Current function value: 0.458804\n",
        "         Iterations: 7\n",
        "         Function evaluations: 8\n",
        "         Gradient evaluations: 14\n",
        "         Hessian evaluations: 7\n",
        "Warning: Maximum number of iterations has been exceeded."
       ]
      },
      {
       "output_type": "stream",
       "stream": "stdout",
       "text": [
        "\n",
        "         Current function value: 0.458746\n",
        "         Iterations: 2000\n",
        "         Function evaluations: 2013\n",
        "         Gradient evaluations: 4012\n",
        "         Hessian evaluations: 2000\n",
        "The model for ['VSURCOND_Treatment_9999_T3'] did not converge\n",
        "Optimization terminated successfully."
       ]
      },
      {
       "output_type": "stream",
       "stream": "stdout",
       "text": [
        "\n",
        "         Current function value: 0.457630\n",
        "         Iterations: 54\n",
        "         Function evaluations: 63\n",
        "         Gradient evaluations: 116\n",
        "         Hessian evaluations: 54\n",
        "Optimization terminated successfully."
       ]
      },
      {
       "output_type": "stream",
       "stream": "stdout",
       "text": [
        "\n",
        "         Current function value: 0.457722\n",
        "         Iterations: 14\n",
        "         Function evaluations: 19\n",
        "         Gradient evaluations: 32\n",
        "         Hessian evaluations: 14\n",
        "Optimization terminated successfully."
       ]
      },
      {
       "output_type": "stream",
       "stream": "stdout",
       "text": [
        "\n",
        "         Current function value: 0.457362\n",
        "         Iterations: 8\n",
        "         Function evaluations: 9\n",
        "         Gradient evaluations: 16\n",
        "         Hessian evaluations: 8\n",
        "Optimization terminated successfully."
       ]
      },
      {
       "output_type": "stream",
       "stream": "stdout",
       "text": [
        "\n",
        "         Current function value: 0.458577\n",
        "         Iterations: 7\n",
        "         Function evaluations: 8\n",
        "         Gradient evaluations: 14\n",
        "         Hessian evaluations: 7\n",
        "Optimization terminated successfully."
       ]
      },
      {
       "output_type": "stream",
       "stream": "stdout",
       "text": [
        "\n",
        "         Current function value: 0.458742\n",
        "         Iterations: 8\n",
        "         Function evaluations: 9\n",
        "         Gradient evaluations: 16\n",
        "         Hessian evaluations: 8\n",
        "Optimization terminated successfully."
       ]
      },
      {
       "output_type": "stream",
       "stream": "stdout",
       "text": [
        "\n",
        "         Current function value: 0.458360\n",
        "         Iterations: 12\n",
        "         Function evaluations: 13\n",
        "         Gradient evaluations: 24\n",
        "         Hessian evaluations: 12\n",
        "Optimization terminated successfully."
       ]
      },
      {
       "output_type": "stream",
       "stream": "stdout",
       "text": [
        "\n",
        "         Current function value: 0.457882\n",
        "         Iterations: 8\n",
        "         Function evaluations: 9\n",
        "         Gradient evaluations: 16\n",
        "         Hessian evaluations: 8\n",
        "Optimization terminated successfully."
       ]
      },
      {
       "output_type": "stream",
       "stream": "stdout",
       "text": [
        "\n",
        "         Current function value: 0.458784\n",
        "         Iterations: 7\n",
        "         Function evaluations: 8\n",
        "         Gradient evaluations: 14\n",
        "         Hessian evaluations: 7\n",
        "The base model plus ['VTRAFCON_Treatment_9999_T40'] is not of full rank.\n",
        "Optimization terminated successfully."
       ]
      },
      {
       "output_type": "stream",
       "stream": "stdout",
       "text": [
        "\n",
        "         Current function value: 0.457920\n",
        "         Iterations: 18\n",
        "         Function evaluations: 25\n",
        "         Gradient evaluations: 42\n",
        "         Hessian evaluations: 18\n",
        "Optimization terminated successfully."
       ]
      },
      {
       "output_type": "stream",
       "stream": "stdout",
       "text": [
        "\n",
        "         Current function value: 0.457362\n",
        "         Iterations: 8\n",
        "         Function evaluations: 9\n",
        "         Gradient evaluations: 16\n",
        "         Hessian evaluations: 8\n",
        "Optimization terminated successfully."
       ]
      },
      {
       "output_type": "stream",
       "stream": "stdout",
       "text": [
        "\n",
        "         Current function value: 0.458820\n",
        "         Iterations: 16\n",
        "         Function evaluations: 25\n",
        "         Gradient evaluations: 40\n",
        "         Hessian evaluations: 16\n",
        "Optimization terminated successfully."
       ]
      },
      {
       "output_type": "stream",
       "stream": "stdout",
       "text": [
        "\n",
        "         Current function value: 0.458607\n",
        "         Iterations: 8\n",
        "         Function evaluations: 9\n",
        "         Gradient evaluations: 16\n",
        "         Hessian evaluations: 8\n",
        "Optimization terminated successfully."
       ]
      },
      {
       "output_type": "stream",
       "stream": "stdout",
       "text": [
        "\n",
        "         Current function value: 0.458694\n",
        "         Iterations: 22\n",
        "         Function evaluations: 29\n",
        "         Gradient evaluations: 50\n",
        "         Hessian evaluations: 22\n",
        "Optimization terminated successfully."
       ]
      },
      {
       "output_type": "stream",
       "stream": "stdout",
       "text": [
        "\n",
        "         Current function value: 0.457920\n",
        "         Iterations: 18\n",
        "         Function evaluations: 27\n",
        "         Gradient evaluations: 44\n",
        "         Hessian evaluations: 18\n",
        "Optimization terminated successfully."
       ]
      },
      {
       "output_type": "stream",
       "stream": "stdout",
       "text": [
        "\n",
        "         Current function value: 0.458857\n",
        "         Iterations: 7\n",
        "         Function evaluations: 8\n",
        "         Gradient evaluations: 14\n",
        "         Hessian evaluations: 7\n",
        "Optimization terminated successfully."
       ]
      },
      {
       "output_type": "stream",
       "stream": "stdout",
       "text": [
        "\n",
        "         Current function value: 0.458917\n",
        "         Iterations: 7\n",
        "         Function evaluations: 8\n",
        "         Gradient evaluations: 14\n",
        "         Hessian evaluations: 7\n",
        "Optimization terminated successfully."
       ]
      },
      {
       "output_type": "stream",
       "stream": "stdout",
       "text": [
        "\n",
        "         Current function value: 0.457803\n",
        "         Iterations: 14\n",
        "         Function evaluations: 18\n",
        "         Gradient evaluations: 31\n",
        "         Hessian evaluations: 14\n",
        "Optimization terminated successfully."
       ]
      },
      {
       "output_type": "stream",
       "stream": "stdout",
       "text": [
        "\n",
        "         Current function value: 0.458732\n",
        "         Iterations: 7\n",
        "         Function evaluations: 8\n",
        "         Gradient evaluations: 14\n",
        "         Hessian evaluations: 7\n",
        "Optimization terminated successfully."
       ]
      },
      {
       "output_type": "stream",
       "stream": "stdout",
       "text": [
        "\n",
        "         Current function value: 0.457872\n",
        "         Iterations: 7\n",
        "         Function evaluations: 8\n",
        "         Gradient evaluations: 14\n",
        "         Hessian evaluations: 7\n",
        "Optimization terminated successfully."
       ]
      },
      {
       "output_type": "stream",
       "stream": "stdout",
       "text": [
        "\n",
        "         Current function value: 0.456816\n",
        "         Iterations: 7\n",
        "         Function evaluations: 8\n",
        "         Gradient evaluations: 14\n",
        "         Hessian evaluations: 7\n",
        "Optimization terminated successfully."
       ]
      },
      {
       "output_type": "stream",
       "stream": "stdout",
       "text": [
        "\n",
        "         Current function value: 0.458916\n",
        "         Iterations: 7\n",
        "         Function evaluations: 8\n",
        "         Gradient evaluations: 14\n",
        "         Hessian evaluations: 7\n",
        "Warning: Maximum number of iterations has been exceeded."
       ]
      },
      {
       "output_type": "stream",
       "stream": "stdout",
       "text": [
        "\n",
        "         Current function value: 0.458747\n",
        "         Iterations: 2000\n",
        "         Function evaluations: 2005\n",
        "         Gradient evaluations: 4004\n",
        "         Hessian evaluations: 2000\n",
        "The model for ['P_CRASH2_Treatment_9999_T18'] did not converge\n",
        "The base model plus ['P_CRASH2_Treatment_9999_T51'] is not of full rank.\n",
        "Warning: Maximum number of iterations has been exceeded."
       ]
      },
      {
       "output_type": "stream",
       "stream": "stdout",
       "text": [
        "\n",
        "         Current function value: 0.458747\n",
        "         Iterations: 2000\n",
        "         Function evaluations: 2009\n",
        "         Gradient evaluations: 4008\n",
        "         Hessian evaluations: 2000\n",
        "The model for ['P_CRASH2_Treatment_9999_T64'] did not converge\n",
        "Optimization terminated successfully."
       ]
      },
      {
       "output_type": "stream",
       "stream": "stdout",
       "text": [
        "\n",
        "         Current function value: 0.458613\n",
        "         Iterations: 7\n",
        "         Function evaluations: 8\n",
        "         Gradient evaluations: 14\n",
        "         Hessian evaluations: 7\n",
        "The base model plus ['P_CRASH2_Treatment_9999_T81'] is not of full rank.\n",
        "Optimization terminated successfully."
       ]
      },
      {
       "output_type": "stream",
       "stream": "stdout",
       "text": [
        "\n",
        "         Current function value: 0.458880\n",
        "         Iterations: 13\n",
        "         Function evaluations: 16\n",
        "         Gradient evaluations: 28\n",
        "         Hessian evaluations: 13\n",
        "Optimization terminated successfully."
       ]
      },
      {
       "output_type": "stream",
       "stream": "stdout",
       "text": [
        "\n",
        "         Current function value: 0.458917\n",
        "         Iterations: 8\n",
        "         Function evaluations: 9\n",
        "         Gradient evaluations: 16\n",
        "         Hessian evaluations: 8\n",
        "Optimization terminated successfully."
       ]
      },
      {
       "output_type": "stream",
       "stream": "stdout",
       "text": [
        "\n",
        "         Current function value: 0.457899\n",
        "         Iterations: 7\n",
        "         Function evaluations: 8\n",
        "         Gradient evaluations: 14\n",
        "         Hessian evaluations: 7\n",
        "Optimization terminated successfully."
       ]
      },
      {
       "output_type": "stream",
       "stream": "stdout",
       "text": [
        "\n",
        "         Current function value: 0.457353\n",
        "         Iterations: 22\n",
        "         Function evaluations: 36\n",
        "         Gradient evaluations: 57\n",
        "         Hessian evaluations: 22\n",
        "Optimization terminated successfully."
       ]
      },
      {
       "output_type": "stream",
       "stream": "stdout",
       "text": [
        "\n",
        "         Current function value: 0.458392\n",
        "         Iterations: 7\n",
        "         Function evaluations: 8\n",
        "         Gradient evaluations: 14\n",
        "         Hessian evaluations: 7\n",
        "Optimization terminated successfully."
       ]
      },
      {
       "output_type": "stream",
       "stream": "stdout",
       "text": [
        "\n",
        "         Current function value: 0.458092\n",
        "         Iterations: 11\n",
        "         Function evaluations: 12\n",
        "         Gradient evaluations: 22\n",
        "         Hessian evaluations: 11\n",
        "Optimization terminated successfully."
       ]
      },
      {
       "output_type": "stream",
       "stream": "stdout",
       "text": [
        "\n",
        "         Current function value: 0.458865\n",
        "         Iterations: 8\n",
        "         Function evaluations: 9\n",
        "         Gradient evaluations: 16\n",
        "         Hessian evaluations: 8\n",
        "Optimization terminated successfully."
       ]
      },
      {
       "output_type": "stream",
       "stream": "stdout",
       "text": [
        "\n",
        "         Current function value: 0.458388\n",
        "         Iterations: 7\n",
        "         Function evaluations: 8\n",
        "         Gradient evaluations: 14\n",
        "         Hessian evaluations: 7\n",
        "Optimization terminated successfully."
       ]
      },
      {
       "output_type": "stream",
       "stream": "stdout",
       "text": [
        "\n",
        "         Current function value: 0.456007\n",
        "         Iterations: 7\n",
        "         Function evaluations: 8\n",
        "         Gradient evaluations: 14\n",
        "         Hessian evaluations: 7\n",
        "Optimization terminated successfully."
       ]
      },
      {
       "output_type": "stream",
       "stream": "stdout",
       "text": [
        "\n",
        "         Current function value: 0.458688\n",
        "         Iterations: 13\n",
        "         Function evaluations: 17\n",
        "         Gradient evaluations: 29\n",
        "         Hessian evaluations: 13\n",
        "Optimization terminated successfully."
       ]
      },
      {
       "output_type": "stream",
       "stream": "stdout",
       "text": [
        "\n",
        "         Current function value: 0.458427\n",
        "         Iterations: 7\n",
        "         Function evaluations: 8\n",
        "         Gradient evaluations: 14\n",
        "         Hessian evaluations: 7\n",
        "Optimization terminated successfully."
       ]
      },
      {
       "output_type": "stream",
       "stream": "stdout",
       "text": [
        "\n",
        "         Current function value: 0.458877\n",
        "         Iterations: 7\n",
        "         Function evaluations: 8\n",
        "         Gradient evaluations: 14\n",
        "         Hessian evaluations: 7\n",
        "Optimization terminated successfully."
       ]
      },
      {
       "output_type": "stream",
       "stream": "stdout",
       "text": [
        "\n",
        "         Current function value: 0.458089\n",
        "         Iterations: 13\n",
        "         Function evaluations: 14\n",
        "         Gradient evaluations: 26\n",
        "         Hessian evaluations: 13\n",
        "Optimization terminated successfully."
       ]
      },
      {
       "output_type": "stream",
       "stream": "stdout",
       "text": [
        "\n",
        "         Current function value: 0.458917\n",
        "         Iterations: 7\n",
        "         Function evaluations: 8\n",
        "         Gradient evaluations: 14\n",
        "         Hessian evaluations: 7\n",
        "Optimization terminated successfully."
       ]
      },
      {
       "output_type": "stream",
       "stream": "stdout",
       "text": [
        "\n",
        "         Current function value: 0.458864\n",
        "         Iterations: 14\n",
        "         Function evaluations: 15\n",
        "         Gradient evaluations: 28\n",
        "         Hessian evaluations: 14\n",
        "Optimization terminated successfully."
       ]
      },
      {
       "output_type": "stream",
       "stream": "stdout",
       "text": [
        "\n",
        "         Current function value: 0.458092\n",
        "         Iterations: 14\n",
        "         Function evaluations: 19\n",
        "         Gradient evaluations: 32\n",
        "         Hessian evaluations: 14\n",
        "Optimization terminated successfully."
       ]
      },
      {
       "output_type": "stream",
       "stream": "stdout",
       "text": [
        "\n",
        "         Current function value: 0.458816\n",
        "         Iterations: 9\n",
        "         Function evaluations: 10\n",
        "         Gradient evaluations: 18\n",
        "         Hessian evaluations: 9\n",
        "Optimization terminated successfully."
       ]
      },
      {
       "output_type": "stream",
       "stream": "stdout",
       "text": [
        "\n",
        "         Current function value: 0.458737\n",
        "         Iterations: 7\n",
        "         Function evaluations: 8\n",
        "         Gradient evaluations: 14\n",
        "         Hessian evaluations: 7\n",
        "Optimization terminated successfully."
       ]
      },
      {
       "output_type": "stream",
       "stream": "stdout",
       "text": [
        "\n",
        "         Current function value: 0.458093\n",
        "         Iterations: 12\n",
        "         Function evaluations: 17\n",
        "         Gradient evaluations: 28\n",
        "         Hessian evaluations: 12\n",
        "Optimization terminated successfully."
       ]
      },
      {
       "output_type": "stream",
       "stream": "stdout",
       "text": [
        "\n",
        "         Current function value: 0.458559\n",
        "         Iterations: 8\n",
        "         Function evaluations: 9\n",
        "         Gradient evaluations: 16\n",
        "         Hessian evaluations: 8\n",
        "Optimization terminated successfully."
       ]
      },
      {
       "output_type": "stream",
       "stream": "stdout",
       "text": [
        "\n",
        "         Current function value: 0.458916\n",
        "         Iterations: 7\n",
        "         Function evaluations: 8\n",
        "         Gradient evaluations: 14\n",
        "         Hessian evaluations: 7\n",
        "Optimization terminated successfully."
       ]
      },
      {
       "output_type": "stream",
       "stream": "stdout",
       "text": [
        "\n",
        "         Current function value: 0.458736\n",
        "         Iterations: 7\n",
        "         Function evaluations: 8\n",
        "         Gradient evaluations: 14\n",
        "         Hessian evaluations: 7\n",
        "Optimization terminated successfully."
       ]
      },
      {
       "output_type": "stream",
       "stream": "stdout",
       "text": [
        "\n",
        "         Current function value: 0.458889\n",
        "         Iterations: 7\n",
        "         Function evaluations: 8\n",
        "         Gradient evaluations: 14\n",
        "         Hessian evaluations: 7\n",
        "Optimization terminated successfully."
       ]
      },
      {
       "output_type": "stream",
       "stream": "stdout",
       "text": [
        "\n",
        "         Current function value: 0.458806\n",
        "         Iterations: 8\n",
        "         Function evaluations: 9\n",
        "         Gradient evaluations: 16\n",
        "         Hessian evaluations: 8\n",
        "Optimization terminated successfully."
       ]
      },
      {
       "output_type": "stream",
       "stream": "stdout",
       "text": [
        "\n",
        "         Current function value: 0.458605\n",
        "         Iterations: 7\n",
        "         Function evaluations: 8\n",
        "         Gradient evaluations: 14\n",
        "         Hessian evaluations: 7\n",
        "Optimization terminated successfully."
       ]
      },
      {
       "output_type": "stream",
       "stream": "stdout",
       "text": [
        "\n",
        "         Current function value: 0.458611\n",
        "         Iterations: 1121\n",
        "         Function evaluations: 1130\n",
        "         Gradient evaluations: 2250\n",
        "         Hessian evaluations: 1121\n",
        "The base model plus ['ACC_TYPE_Treatment_9999_T2'] is not of full rank.\n",
        "The base model plus ['ACC_TYPE_Treatment_9999_T6'] is not of full rank.\n",
        "Optimization terminated successfully."
       ]
      },
      {
       "output_type": "stream",
       "stream": "stdout",
       "text": [
        "\n",
        "         Current function value: 0.458868\n",
        "         Iterations: 8\n",
        "         Function evaluations: 9\n",
        "         Gradient evaluations: 16\n",
        "         Hessian evaluations: 8\n",
        "The base model plus ['ACC_TYPE_Treatment_9999_T50'] is not of full rank.\n",
        "Optimization terminated successfully."
       ]
      },
      {
       "output_type": "stream",
       "stream": "stdout",
       "text": [
        "\n",
        "         Current function value: 0.458092\n",
        "         Iterations: 12\n",
        "         Function evaluations: 13\n",
        "         Gradient evaluations: 24\n",
        "         Hessian evaluations: 12\n",
        "Optimization terminated successfully."
       ]
      },
      {
       "output_type": "stream",
       "stream": "stdout",
       "text": [
        "\n",
        "         Current function value: 0.458713\n",
        "         Iterations: 8\n",
        "         Function evaluations: 9\n",
        "         Gradient evaluations: 16\n",
        "         Hessian evaluations: 8\n",
        "Optimization terminated successfully."
       ]
      },
      {
       "output_type": "stream",
       "stream": "stdout",
       "text": [
        "\n",
        "         Current function value: 0.458152\n",
        "         Iterations: 7\n",
        "         Function evaluations: 8\n",
        "         Gradient evaluations: 14\n",
        "         Hessian evaluations: 7\n",
        "Optimization terminated successfully."
       ]
      },
      {
       "output_type": "stream",
       "stream": "stdout",
       "text": [
        "\n",
        "         Current function value: 0.456773\n",
        "         Iterations: 12\n",
        "         Function evaluations: 13\n",
        "         Gradient evaluations: 24\n",
        "         Hessian evaluations: 12\n",
        "Optimization terminated successfully."
       ]
      },
      {
       "output_type": "stream",
       "stream": "stdout",
       "text": [
        "\n",
        "         Current function value: 0.458414\n",
        "         Iterations: 8\n",
        "         Function evaluations: 9\n",
        "         Gradient evaluations: 16\n",
        "         Hessian evaluations: 8\n",
        "Optimization terminated successfully."
       ]
      },
      {
       "output_type": "stream",
       "stream": "stdout",
       "text": [
        "\n",
        "         Current function value: 0.457901\n",
        "         Iterations: 7\n",
        "         Function evaluations: 8\n",
        "         Gradient evaluations: 14\n",
        "         Hessian evaluations: 7\n",
        "Optimization terminated successfully."
       ]
      },
      {
       "output_type": "stream",
       "stream": "stdout",
       "text": [
        "\n",
        "         Current function value: 0.458102\n",
        "         Iterations: 7\n",
        "         Function evaluations: 8\n",
        "         Gradient evaluations: 14\n",
        "         Hessian evaluations: 7\n",
        "Optimization terminated successfully."
       ]
      },
      {
       "output_type": "stream",
       "stream": "stdout",
       "text": [
        "\n",
        "         Current function value: 0.458712\n",
        "         Iterations: 8\n",
        "         Function evaluations: 9\n",
        "         Gradient evaluations: 16\n",
        "         Hessian evaluations: 8\n",
        "Optimization terminated successfully."
       ]
      },
      {
       "output_type": "stream",
       "stream": "stdout",
       "text": [
        "\n",
        "         Current function value: 0.457853\n",
        "         Iterations: 7\n",
        "         Function evaluations: 8\n",
        "         Gradient evaluations: 14\n",
        "         Hessian evaluations: 7\n",
        "Optimization terminated successfully."
       ]
      },
      {
       "output_type": "stream",
       "stream": "stdout",
       "text": [
        "\n",
        "         Current function value: 0.457954\n",
        "         Iterations: 8\n",
        "         Function evaluations: 9\n",
        "         Gradient evaluations: 16\n",
        "         Hessian evaluations: 8\n",
        "The base model plus ['BDYTYP_IM_T12'] is not of full rank.\n",
        "Optimization terminated successfully."
       ]
      },
      {
       "output_type": "stream",
       "stream": "stdout",
       "text": [
        "\n",
        "         Current function value: 0.458513\n",
        "         Iterations: 9\n",
        "         Function evaluations: 10\n",
        "         Gradient evaluations: 18\n",
        "         Hessian evaluations: 9\n",
        "Optimization terminated successfully."
       ]
      },
      {
       "output_type": "stream",
       "stream": "stdout",
       "text": [
        "\n",
        "         Current function value: 0.458829\n",
        "         Iterations: 7\n",
        "         Function evaluations: 8\n",
        "         Gradient evaluations: 14\n",
        "         Hessian evaluations: 7\n",
        "Optimization terminated successfully."
       ]
      },
      {
       "output_type": "stream",
       "stream": "stdout",
       "text": [
        "\n",
        "         Current function value: 0.458746\n",
        "         Iterations: 1769\n",
        "         Function evaluations: 1770\n",
        "         Gradient evaluations: 3538\n",
        "         Hessian evaluations: 1769\n",
        "The base model plus ['BDYTYP_IM_T17'] is not of full rank.\n",
        "Optimization terminated successfully."
       ]
      },
      {
       "output_type": "stream",
       "stream": "stdout",
       "text": [
        "\n",
        "         Current function value: 0.458615\n",
        "         Iterations: 7\n",
        "         Function evaluations: 8\n",
        "         Gradient evaluations: 14\n",
        "         Hessian evaluations: 7\n",
        "Optimization terminated successfully."
       ]
      },
      {
       "output_type": "stream",
       "stream": "stdout",
       "text": [
        "\n",
        "         Current function value: 0.458908\n",
        "         Iterations: 7\n",
        "         Function evaluations: 8\n",
        "         Gradient evaluations: 14\n",
        "         Hessian evaluations: 7\n",
        "Optimization terminated successfully."
       ]
      },
      {
       "output_type": "stream",
       "stream": "stdout",
       "text": [
        "\n",
        "         Current function value: 0.458715\n",
        "         Iterations: 7\n",
        "         Function evaluations: 8\n",
        "         Gradient evaluations: 14\n",
        "         Hessian evaluations: 7\n",
        "Optimization terminated successfully."
       ]
      },
      {
       "output_type": "stream",
       "stream": "stdout",
       "text": [
        "\n",
        "         Current function value: 0.458913\n",
        "         Iterations: 7\n",
        "         Function evaluations: 8\n",
        "         Gradient evaluations: 14\n",
        "         Hessian evaluations: 7\n",
        "Optimization terminated successfully."
       ]
      },
      {
       "output_type": "stream",
       "stream": "stdout",
       "text": [
        "\n",
        "         Current function value: 0.458410\n",
        "         Iterations: 7\n",
        "         Function evaluations: 8\n",
        "         Gradient evaluations: 14\n",
        "         Hessian evaluations: 7\n",
        "Optimization terminated successfully."
       ]
      },
      {
       "output_type": "stream",
       "stream": "stdout",
       "text": [
        "\n",
        "         Current function value: 0.458789\n",
        "         Iterations: 7\n",
        "         Function evaluations: 8\n",
        "         Gradient evaluations: 14\n",
        "         Hessian evaluations: 7\n",
        "Optimization terminated successfully."
       ]
      },
      {
       "output_type": "stream",
       "stream": "stdout",
       "text": [
        "\n",
        "         Current function value: 0.458180\n",
        "         Iterations: 7\n",
        "         Function evaluations: 8\n",
        "         Gradient evaluations: 14\n",
        "         Hessian evaluations: 7\n",
        "Optimization terminated successfully."
       ]
      },
      {
       "output_type": "stream",
       "stream": "stdout",
       "text": [
        "\n",
        "         Current function value: 0.457182\n",
        "         Iterations: 22\n",
        "         Function evaluations: 35\n",
        "         Gradient evaluations: 56\n",
        "         Hessian evaluations: 22\n",
        "The base model plus ['BDYTYP_IM_T48'] is not of full rank.\n",
        "Optimization terminated successfully."
       ]
      },
      {
       "output_type": "stream",
       "stream": "stdout",
       "text": [
        "\n",
        "         Current function value: 0.458664\n",
        "         Iterations: 19\n",
        "         Function evaluations: 23\n",
        "         Gradient evaluations: 41\n",
        "         Hessian evaluations: 19\n",
        "Optimization terminated successfully."
       ]
      },
      {
       "output_type": "stream",
       "stream": "stdout",
       "text": [
        "\n",
        "         Current function value: 0.457353\n",
        "         Iterations: 22\n",
        "         Function evaluations: 32\n",
        "         Gradient evaluations: 53\n",
        "         Hessian evaluations: 22\n",
        "Optimization terminated successfully."
       ]
      },
      {
       "output_type": "stream",
       "stream": "stdout",
       "text": [
        "\n",
        "         Current function value: 0.457818\n",
        "         Iterations: 12\n",
        "         Function evaluations: 13\n",
        "         Gradient evaluations: 24\n",
        "         Hessian evaluations: 12\n",
        "Optimization terminated successfully."
       ]
      },
      {
       "output_type": "stream",
       "stream": "stdout",
       "text": [
        "\n",
        "         Current function value: 0.458694\n",
        "         Iterations: 17\n",
        "         Function evaluations: 35\n",
        "         Gradient evaluations: 51\n",
        "         Hessian evaluations: 17\n",
        "Optimization terminated successfully."
       ]
      },
      {
       "output_type": "stream",
       "stream": "stdout",
       "text": [
        "\n",
        "         Current function value: 0.457353\n",
        "         Iterations: 21\n",
        "         Function evaluations: 33\n",
        "         Gradient evaluations: 53\n",
        "         Hessian evaluations: 21\n",
        "Optimization terminated successfully."
       ]
      },
      {
       "output_type": "stream",
       "stream": "stdout",
       "text": [
        "\n",
        "         Current function value: 0.458820\n",
        "         Iterations: 14\n",
        "         Function evaluations: 19\n",
        "         Gradient evaluations: 32\n",
        "         Hessian evaluations: 14\n",
        "Optimization terminated successfully."
       ]
      },
      {
       "output_type": "stream",
       "stream": "stdout",
       "text": [
        "\n",
        "         Current function value: 0.458887\n",
        "         Iterations: 7\n",
        "         Function evaluations: 8\n",
        "         Gradient evaluations: 14\n",
        "         Hessian evaluations: 7\n",
        "Optimization terminated successfully."
       ]
      },
      {
       "output_type": "stream",
       "stream": "stdout",
       "text": [
        "\n",
        "         Current function value: 0.458916\n",
        "         Iterations: 7\n",
        "         Function evaluations: 8\n",
        "         Gradient evaluations: 14\n",
        "         Hessian evaluations: 7\n",
        "Optimization terminated successfully."
       ]
      },
      {
       "output_type": "stream",
       "stream": "stdout",
       "text": [
        "\n",
        "         Current function value: 0.458696\n",
        "         Iterations: 7\n",
        "         Function evaluations: 8\n",
        "         Gradient evaluations: 14\n",
        "         Hessian evaluations: 7\n",
        "Optimization terminated successfully."
       ]
      },
      {
       "output_type": "stream",
       "stream": "stdout",
       "text": [
        "\n",
        "         Current function value: 0.458065\n",
        "         Iterations: 12\n",
        "         Function evaluations: 13\n",
        "         Gradient evaluations: 24\n",
        "         Hessian evaluations: 12\n",
        "Optimization terminated successfully."
       ]
      },
      {
       "output_type": "stream",
       "stream": "stdout",
       "text": [
        "\n",
        "         Current function value: 0.458880\n",
        "         Iterations: 7\n",
        "         Function evaluations: 8\n",
        "         Gradient evaluations: 14\n",
        "         Hessian evaluations: 7\n",
        "Optimization terminated successfully."
       ]
      },
      {
       "output_type": "stream",
       "stream": "stdout",
       "text": [
        "\n",
        "         Current function value: 0.458732\n",
        "         Iterations: 7\n",
        "         Function evaluations: 8\n",
        "         Gradient evaluations: 14\n",
        "         Hessian evaluations: 7\n",
        "Optimization terminated successfully."
       ]
      },
      {
       "output_type": "stream",
       "stream": "stdout",
       "text": [
        "\n",
        "         Current function value: 0.458798\n",
        "         Iterations: 7\n",
        "         Function evaluations: 8\n",
        "         Gradient evaluations: 14\n",
        "         Hessian evaluations: 7\n",
        "Optimization terminated successfully."
       ]
      },
      {
       "output_type": "stream",
       "stream": "stdout",
       "text": [
        "\n",
        "         Current function value: 0.458560\n",
        "         Iterations: 15\n",
        "         Function evaluations: 19\n",
        "         Gradient evaluations: 33\n",
        "         Hessian evaluations: 15\n",
        "The base model plus ['BDYTYP_IM_T97'] is not of full rank.\n",
        "Optimization terminated successfully."
       ]
      },
      {
       "output_type": "stream",
       "stream": "stdout",
       "text": [
        "\n",
        "         Current function value: 0.458136\n",
        "         Iterations: 7\n",
        "         Function evaluations: 8\n",
        "         Gradient evaluations: 14\n",
        "         Hessian evaluations: 7\n",
        "Optimization terminated successfully."
       ]
      },
      {
       "output_type": "stream",
       "stream": "stdout",
       "text": [
        "\n",
        "         Current function value: 0.458882\n",
        "         Iterations: 7\n",
        "         Function evaluations: 8\n",
        "         Gradient evaluations: 14\n",
        "         Hessian evaluations: 7\n",
        "Optimization terminated successfully."
       ]
      },
      {
       "output_type": "stream",
       "stream": "stdout",
       "text": [
        "\n",
        "         Current function value: 0.458807\n",
        "         Iterations: 7\n",
        "         Function evaluations: 8\n",
        "         Gradient evaluations: 14\n",
        "         Hessian evaluations: 7\n",
        "Optimization terminated successfully."
       ]
      },
      {
       "output_type": "stream",
       "stream": "stdout",
       "text": [
        "\n",
        "         Current function value: 0.457109\n",
        "         Iterations: 7\n",
        "         Function evaluations: 8\n",
        "         Gradient evaluations: 14\n",
        "         Hessian evaluations: 7\n",
        "Optimization terminated successfully."
       ]
      },
      {
       "output_type": "stream",
       "stream": "stdout",
       "text": [
        "\n",
        "         Current function value: 0.458403\n",
        "         Iterations: 8\n",
        "         Function evaluations: 9\n",
        "         Gradient evaluations: 16\n",
        "         Hessian evaluations: 8\n",
        "Optimization terminated successfully."
       ]
      },
      {
       "output_type": "stream",
       "stream": "stdout",
       "text": [
        "\n",
        "         Current function value: 0.458896\n",
        "         Iterations: 8\n",
        "         Function evaluations: 9\n",
        "         Gradient evaluations: 16\n",
        "         Hessian evaluations: 8\n",
        "Optimization terminated successfully."
       ]
      },
      {
       "output_type": "stream",
       "stream": "stdout",
       "text": [
        "\n",
        "         Current function value: 0.458614\n",
        "         Iterations: 7\n",
        "         Function evaluations: 8\n",
        "         Gradient evaluations: 14\n",
        "         Hessian evaluations: 7\n",
        "Optimization terminated successfully."
       ]
      },
      {
       "output_type": "stream",
       "stream": "stdout",
       "text": [
        "\n",
        "         Current function value: 0.458844\n",
        "         Iterations: 7\n",
        "         Function evaluations: 8\n",
        "         Gradient evaluations: 14\n",
        "         Hessian evaluations: 7\n",
        "Optimization terminated successfully."
       ]
      },
      {
       "output_type": "stream",
       "stream": "stdout",
       "text": [
        "\n",
        "         Current function value: 0.458853\n",
        "         Iterations: 8\n",
        "         Function evaluations: 9\n",
        "         Gradient evaluations: 16\n",
        "         Hessian evaluations: 8\n",
        "Optimization terminated successfully."
       ]
      },
      {
       "output_type": "stream",
       "stream": "stdout",
       "text": [
        "\n",
        "         Current function value: 0.457960\n",
        "         Iterations: 7\n",
        "         Function evaluations: 8\n",
        "         Gradient evaluations: 14\n",
        "         Hessian evaluations: 7\n",
        "Optimization terminated successfully."
       ]
      },
      {
       "output_type": "stream",
       "stream": "stdout",
       "text": [
        "\n",
        "         Current function value: 0.458562\n",
        "         Iterations: 7\n",
        "         Function evaluations: 8\n",
        "         Gradient evaluations: 14\n",
        "         Hessian evaluations: 7\n",
        "Optimization terminated successfully."
       ]
      },
      {
       "output_type": "stream",
       "stream": "stdout",
       "text": [
        "\n",
        "         Current function value: 0.458462\n",
        "         Iterations: 9\n",
        "         Function evaluations: 10\n",
        "         Gradient evaluations: 18\n",
        "         Hessian evaluations: 9\n",
        "Optimization terminated successfully."
       ]
      },
      {
       "output_type": "stream",
       "stream": "stdout",
       "text": [
        "\n",
        "         Current function value: 0.458485\n",
        "         Iterations: 17\n",
        "         Function evaluations: 22\n",
        "         Gradient evaluations: 38\n",
        "         Hessian evaluations: 17\n",
        "Optimization terminated successfully."
       ]
      },
      {
       "output_type": "stream",
       "stream": "stdout",
       "text": [
        "\n",
        "         Current function value: 0.458732\n",
        "         Iterations: 12\n",
        "         Function evaluations: 13\n",
        "         Gradient evaluations: 24\n",
        "         Hessian evaluations: 12\n",
        "The base model plus ['IMPACT1_IM_T61'] is not of full rank.\n",
        "Optimization terminated successfully."
       ]
      },
      {
       "output_type": "stream",
       "stream": "stdout",
       "text": [
        "\n",
        "         Current function value: 0.456640\n",
        "         Iterations: 7\n",
        "         Function evaluations: 8\n",
        "         Gradient evaluations: 14\n",
        "         Hessian evaluations: 7\n",
        "Optimization terminated successfully."
       ]
      },
      {
       "output_type": "stream",
       "stream": "stdout",
       "text": [
        "\n",
        "         Current function value: 0.458304\n",
        "         Iterations: 7\n",
        "         Function evaluations: 8\n",
        "         Gradient evaluations: 14\n",
        "         Hessian evaluations: 7\n",
        "Optimization terminated successfully."
       ]
      },
      {
       "output_type": "stream",
       "stream": "stdout",
       "text": [
        "\n",
        "         Current function value: 0.458671\n",
        "         Iterations: 8\n",
        "         Function evaluations: 9\n",
        "         Gradient evaluations: 16\n",
        "         Hessian evaluations: 8\n",
        "Optimization terminated successfully."
       ]
      },
      {
       "output_type": "stream",
       "stream": "stdout",
       "text": [
        "\n",
        "         Current function value: 0.458904\n",
        "         Iterations: 7\n",
        "         Function evaluations: 8\n",
        "         Gradient evaluations: 14\n",
        "         Hessian evaluations: 7\n",
        "Optimization terminated successfully."
       ]
      },
      {
       "output_type": "stream",
       "stream": "stdout",
       "text": [
        "\n",
        "         Current function value: 0.458110\n",
        "         Iterations: 8\n",
        "         Function evaluations: 9\n",
        "         Gradient evaluations: 16\n",
        "         Hessian evaluations: 8\n",
        "The base model plus ['PCRASH1_IM_T1'] is not of full rank.\n",
        "Optimization terminated successfully."
       ]
      },
      {
       "output_type": "stream",
       "stream": "stdout",
       "text": [
        "\n",
        "         Current function value: 0.458673\n",
        "         Iterations: 7\n",
        "         Function evaluations: 8\n",
        "         Gradient evaluations: 14\n",
        "         Hessian evaluations: 7\n",
        "Optimization terminated successfully."
       ]
      },
      {
       "output_type": "stream",
       "stream": "stdout",
       "text": [
        "\n",
        "         Current function value: 0.458896\n",
        "         Iterations: 8\n",
        "         Function evaluations: 9\n",
        "         Gradient evaluations: 16\n",
        "         Hessian evaluations: 8\n",
        "Optimization terminated successfully."
       ]
      },
      {
       "output_type": "stream",
       "stream": "stdout",
       "text": [
        "\n",
        "         Current function value: 0.458824\n",
        "         Iterations: 7\n",
        "         Function evaluations: 8\n",
        "         Gradient evaluations: 14\n",
        "         Hessian evaluations: 7\n",
        "Optimization terminated successfully."
       ]
      },
      {
       "output_type": "stream",
       "stream": "stdout",
       "text": [
        "\n",
        "         Current function value: 0.458773\n",
        "         Iterations: 7\n",
        "         Function evaluations: 8\n",
        "         Gradient evaluations: 14\n",
        "         Hessian evaluations: 7\n",
        "Optimization terminated successfully."
       ]
      },
      {
       "output_type": "stream",
       "stream": "stdout",
       "text": [
        "\n",
        "         Current function value: 0.458732\n",
        "         Iterations: 18\n",
        "         Function evaluations: 31\n",
        "         Gradient evaluations: 48\n",
        "         Hessian evaluations: 18\n",
        "Optimization terminated successfully."
       ]
      },
      {
       "output_type": "stream",
       "stream": "stdout",
       "text": [
        "\n",
        "         Current function value: 0.458679\n",
        "         Iterations: 12\n",
        "         Function evaluations: 13\n",
        "         Gradient evaluations: 24\n",
        "         Hessian evaluations: 12\n",
        "Optimization terminated successfully."
       ]
      },
      {
       "output_type": "stream",
       "stream": "stdout",
       "text": [
        "\n",
        "         Current function value: 0.456773\n",
        "         Iterations: 8\n",
        "         Function evaluations: 9\n",
        "         Gradient evaluations: 16\n",
        "         Hessian evaluations: 8\n",
        "Optimization terminated successfully."
       ]
      },
      {
       "output_type": "stream",
       "stream": "stdout",
       "text": [
        "\n",
        "         Current function value: 0.458207\n",
        "         Iterations: 8\n",
        "         Function evaluations: 9\n",
        "         Gradient evaluations: 16\n",
        "         Hessian evaluations: 8\n",
        "Optimization terminated successfully."
       ]
      },
      {
       "output_type": "stream",
       "stream": "stdout",
       "text": [
        "\n",
        "         Current function value: 0.458833\n",
        "         Iterations: 8\n",
        "         Function evaluations: 10\n",
        "         Gradient evaluations: 17\n",
        "         Hessian evaluations: 8\n",
        "Optimization terminated successfully."
       ]
      },
      {
       "output_type": "stream",
       "stream": "stdout",
       "text": [
        "\n",
        "         Current function value: 0.458415\n",
        "         Iterations: 7\n",
        "         Function evaluations: 8\n",
        "         Gradient evaluations: 14\n",
        "         Hessian evaluations: 7\n",
        "Optimization terminated successfully."
       ]
      },
      {
       "output_type": "stream",
       "stream": "stdout",
       "text": [
        "\n",
        "         Current function value: 0.458092\n",
        "         Iterations: 13\n",
        "         Function evaluations: 14\n",
        "         Gradient evaluations: 26\n",
        "         Hessian evaluations: 13\n",
        "Optimization terminated successfully."
       ]
      },
      {
       "output_type": "stream",
       "stream": "stdout",
       "text": [
        "\n",
        "         Current function value: 0.458664\n",
        "         Iterations: 8\n",
        "         Function evaluations: 9\n",
        "         Gradient evaluations: 16\n",
        "         Hessian evaluations: 8\n",
        "Optimization terminated successfully."
       ]
      },
      {
       "output_type": "stream",
       "stream": "stdout",
       "text": [
        "\n",
        "         Current function value: 0.458566\n",
        "         Iterations: 15\n",
        "         Function evaluations: 20\n",
        "         Gradient evaluations: 34\n",
        "         Hessian evaluations: 15\n",
        "The base model plus ['PCRASH1_IM_T17'] is not of full rank.\n",
        "Optimization terminated successfully."
       ]
      },
      {
       "output_type": "stream",
       "stream": "stdout",
       "text": [
        "\n",
        "         Current function value: 0.458555\n",
        "         Iterations: 12\n",
        "         Function evaluations: 17\n",
        "         Gradient evaluations: 28\n",
        "         Hessian evaluations: 12\n",
        "Optimization terminated successfully."
       ]
      },
      {
       "output_type": "stream",
       "stream": "stdout",
       "text": [
        "\n",
        "         Current function value: 0.458874\n",
        "         Iterations: 8\n",
        "         Function evaluations: 9\n",
        "         Gradient evaluations: 16\n",
        "         Hessian evaluations: 8\n",
        "Optimization terminated successfully."
       ]
      },
      {
       "output_type": "stream",
       "stream": "stdout",
       "text": [
        "\n",
        "         Current function value: 0.458561\n",
        "         Iterations: 8\n",
        "         Function evaluations: 9\n",
        "         Gradient evaluations: 16\n",
        "         Hessian evaluations: 8\n",
        "Optimization terminated successfully."
       ]
      },
      {
       "output_type": "stream",
       "stream": "stdout",
       "text": [
        "\n",
        "         Current function value: 0.458418\n",
        "         Iterations: 7\n",
        "         Function evaluations: 8\n",
        "         Gradient evaluations: 14\n",
        "         Hessian evaluations: 7\n",
        "Optimization terminated successfully."
       ]
      },
      {
       "output_type": "stream",
       "stream": "stdout",
       "text": [
        "\n",
        "         Current function value: 0.458191\n",
        "         Iterations: 8\n",
        "         Function evaluations: 9\n",
        "         Gradient evaluations: 16\n",
        "         Hessian evaluations: 8\n",
        "Optimization terminated successfully."
       ]
      },
      {
       "output_type": "stream",
       "stream": "stdout",
       "text": [
        "\n",
        "         Current function value: 0.458906\n",
        "         Iterations: 7\n",
        "         Function evaluations: 8\n",
        "         Gradient evaluations: 14\n",
        "         Hessian evaluations: 7\n",
        "Optimization terminated successfully."
       ]
      },
      {
       "output_type": "stream",
       "stream": "stdout",
       "text": [
        "\n",
        "         Current function value: 0.458439\n",
        "         Iterations: 7\n",
        "         Function evaluations: 8\n",
        "         Gradient evaluations: 14\n",
        "         Hessian evaluations: 7\n",
        "Optimization terminated successfully."
       ]
      },
      {
       "output_type": "stream",
       "stream": "stdout",
       "text": [
        "\n",
        "         Current function value: 0.458701\n",
        "         Iterations: 8\n",
        "         Function evaluations: 10\n",
        "         Gradient evaluations: 17\n",
        "         Hessian evaluations: 8\n",
        "Optimization terminated successfully."
       ]
      },
      {
       "output_type": "stream",
       "stream": "stdout",
       "text": [
        "\n",
        "         Current function value: 0.458093\n",
        "         Iterations: 8\n",
        "         Function evaluations: 9\n",
        "         Gradient evaluations: 16\n",
        "         Hessian evaluations: 8\n",
        "Optimization terminated successfully."
       ]
      },
      {
       "output_type": "stream",
       "stream": "stdout",
       "text": [
        "\n",
        "         Current function value: 0.458842\n",
        "         Iterations: 8\n",
        "         Function evaluations: 9\n",
        "         Gradient evaluations: 16\n",
        "         Hessian evaluations: 8\n",
        "Optimization terminated successfully."
       ]
      },
      {
       "output_type": "stream",
       "stream": "stdout",
       "text": [
        "\n",
        "         Current function value: 0.458660\n",
        "         Iterations: 8\n",
        "         Function evaluations: 9\n",
        "         Gradient evaluations: 16\n",
        "         Hessian evaluations: 8\n",
        "Optimization terminated successfully."
       ]
      },
      {
       "output_type": "stream",
       "stream": "stdout",
       "text": [
        "\n",
        "         Current function value: 0.458485\n",
        "         Iterations: 13\n",
        "         Function evaluations: 17\n",
        "         Gradient evaluations: 29\n",
        "         Hessian evaluations: 13\n",
        "Optimization terminated successfully."
       ]
      },
      {
       "output_type": "stream",
       "stream": "stdout",
       "text": [
        "\n",
        "         Current function value: 0.458421\n",
        "         Iterations: 7\n",
        "         Function evaluations: 8\n",
        "         Gradient evaluations: 14\n",
        "         Hessian evaluations: 7\n",
        "Optimization terminated successfully."
       ]
      },
      {
       "output_type": "stream",
       "stream": "stdout",
       "text": [
        "\n",
        "         Current function value: 0.458253\n",
        "         Iterations: 12\n",
        "         Function evaluations: 13\n",
        "         Gradient evaluations: 24\n",
        "         Hessian evaluations: 12\n",
        "Optimization terminated successfully."
       ]
      },
      {
       "output_type": "stream",
       "stream": "stdout",
       "text": [
        "\n",
        "         Current function value: 0.458876\n",
        "         Iterations: 7\n",
        "         Function evaluations: 8\n",
        "         Gradient evaluations: 14\n",
        "         Hessian evaluations: 7\n",
        "Optimization terminated successfully."
       ]
      },
      {
       "output_type": "stream",
       "stream": "stdout",
       "text": [
        "\n",
        "         Current function value: 0.458857\n",
        "         Iterations: 8\n",
        "         Function evaluations: 9\n",
        "         Gradient evaluations: 16\n",
        "         Hessian evaluations: 8\n",
        "Optimization terminated successfully."
       ]
      },
      {
       "output_type": "stream",
       "stream": "stdout",
       "text": [
        "\n",
        "         Current function value: 0.458533\n",
        "         Iterations: 7\n",
        "         Function evaluations: 8\n",
        "         Gradient evaluations: 14\n",
        "         Hessian evaluations: 7\n",
        "Optimization terminated successfully."
       ]
      },
      {
       "output_type": "stream",
       "stream": "stdout",
       "text": [
        "\n",
        "         Current function value: 0.457858\n",
        "         Iterations: 7\n",
        "         Function evaluations: 8\n",
        "         Gradient evaluations: 14\n",
        "         Hessian evaluations: 7\n",
        "Optimization terminated successfully."
       ]
      },
      {
       "output_type": "stream",
       "stream": "stdout",
       "text": [
        "\n",
        "         Current function value: 0.458610\n",
        "         Iterations: 13\n",
        "         Function evaluations: 14\n",
        "         Gradient evaluations: 26\n",
        "         Hessian evaluations: 13\n",
        "Optimization terminated successfully."
       ]
      },
      {
       "output_type": "stream",
       "stream": "stdout",
       "text": [
        "\n",
        "         Current function value: 0.458864\n",
        "         Iterations: 12\n",
        "         Function evaluations: 17\n",
        "         Gradient evaluations: 28\n",
        "         Hessian evaluations: 12\n",
        "Optimization terminated successfully."
       ]
      },
      {
       "output_type": "stream",
       "stream": "stdout",
       "text": [
        "\n",
        "         Current function value: 0.458687\n",
        "         Iterations: 11\n",
        "         Function evaluations: 12\n",
        "         Gradient evaluations: 22\n",
        "         Hessian evaluations: 11\n",
        "Optimization terminated successfully."
       ]
      },
      {
       "output_type": "stream",
       "stream": "stdout",
       "text": [
        "\n",
        "         Current function value: 0.457815\n",
        "         Iterations: 8\n",
        "         Function evaluations: 9\n",
        "         Gradient evaluations: 16\n",
        "         Hessian evaluations: 8\n",
        "Optimization terminated successfully."
       ]
      },
      {
       "output_type": "stream",
       "stream": "stdout",
       "text": [
        "\n",
        "         Current function value: 0.457987\n",
        "         Iterations: 8\n",
        "         Function evaluations: 9\n",
        "         Gradient evaluations: 16\n",
        "         Hessian evaluations: 8\n",
        "Optimization terminated successfully."
       ]
      },
      {
       "output_type": "stream",
       "stream": "stdout",
       "text": [
        "\n",
        "         Current function value: 0.458758\n",
        "         Iterations: 8\n",
        "         Function evaluations: 9\n",
        "         Gradient evaluations: 16\n",
        "         Hessian evaluations: 8\n",
        "Optimization terminated successfully."
       ]
      },
      {
       "output_type": "stream",
       "stream": "stdout",
       "text": [
        "\n",
        "         Current function value: 0.458584\n",
        "         Iterations: 8\n",
        "         Function evaluations: 9\n",
        "         Gradient evaluations: 16\n",
        "         Hessian evaluations: 8\n",
        "Optimization terminated successfully."
       ]
      },
      {
       "output_type": "stream",
       "stream": "stdout",
       "text": [
        "\n",
        "         Current function value: 0.458799\n",
        "         Iterations: 8\n",
        "         Function evaluations: 9\n",
        "         Gradient evaluations: 16\n",
        "         Hessian evaluations: 8\n",
        "Optimization terminated successfully."
       ]
      },
      {
       "output_type": "stream",
       "stream": "stdout",
       "text": [
        "\n",
        "         Current function value: 0.458843\n",
        "         Iterations: 9\n",
        "         Function evaluations: 10\n",
        "         Gradient evaluations: 18\n",
        "         Hessian evaluations: 9\n",
        "Optimization terminated successfully."
       ]
      },
      {
       "output_type": "stream",
       "stream": "stdout",
       "text": [
        "\n",
        "         Current function value: 0.458199\n",
        "         Iterations: 7\n",
        "         Function evaluations: 8\n",
        "         Gradient evaluations: 14\n",
        "         Hessian evaluations: 7\n",
        "Optimization terminated successfully."
       ]
      },
      {
       "output_type": "stream",
       "stream": "stdout",
       "text": [
        "\n",
        "         Current function value: 0.458550\n",
        "         Iterations: 7\n",
        "         Function evaluations: 8\n",
        "         Gradient evaluations: 14\n",
        "         Hessian evaluations: 7\n",
        "Optimization terminated successfully."
       ]
      },
      {
       "output_type": "stream",
       "stream": "stdout",
       "text": [
        "\n",
        "         Current function value: 0.458904\n",
        "         Iterations: 7\n",
        "         Function evaluations: 8\n",
        "         Gradient evaluations: 14\n",
        "         Hessian evaluations: 7\n",
        "Optimization terminated successfully."
       ]
      },
      {
       "output_type": "stream",
       "stream": "stdout",
       "text": [
        "\n",
        "         Current function value: 0.456150\n",
        "         Iterations: 12\n",
        "         Function evaluations: 13\n",
        "         Gradient evaluations: 24\n",
        "         Hessian evaluations: 12\n",
        "Optimization terminated successfully."
       ]
      },
      {
       "output_type": "stream",
       "stream": "stdout",
       "text": [
        "\n",
        "         Current function value: 0.458800\n",
        "         Iterations: 7\n",
        "         Function evaluations: 8\n",
        "         Gradient evaluations: 14\n",
        "         Hessian evaluations: 7\n",
        "Optimization terminated successfully."
       ]
      },
      {
       "output_type": "stream",
       "stream": "stdout",
       "text": [
        "\n",
        "         Current function value: 0.458447\n",
        "         Iterations: 7\n",
        "         Function evaluations: 8\n",
        "         Gradient evaluations: 14\n",
        "         Hessian evaluations: 7\n",
        "Optimization terminated successfully."
       ]
      },
      {
       "output_type": "stream",
       "stream": "stdout",
       "text": [
        "\n",
        "         Current function value: 0.458905\n",
        "         Iterations: 8\n",
        "         Function evaluations: 9\n",
        "         Gradient evaluations: 16\n",
        "         Hessian evaluations: 8\n",
        "Optimization terminated successfully."
       ]
      },
      {
       "output_type": "stream",
       "stream": "stdout",
       "text": [
        "\n",
        "         Current function value: 0.458584\n",
        "         Iterations: 7\n",
        "         Function evaluations: 8\n",
        "         Gradient evaluations: 14\n",
        "         Hessian evaluations: 7\n",
        "Optimization terminated successfully."
       ]
      },
      {
       "output_type": "stream",
       "stream": "stdout",
       "text": [
        "\n",
        "         Current function value: 0.458746\n",
        "         Iterations: 7\n",
        "         Function evaluations: 8\n",
        "         Gradient evaluations: 14\n",
        "         Hessian evaluations: 7\n",
        "Optimization terminated successfully."
       ]
      },
      {
       "output_type": "stream",
       "stream": "stdout",
       "text": [
        "\n",
        "         Current function value: 0.456979\n",
        "         Iterations: 7\n",
        "         Function evaluations: 8\n",
        "         Gradient evaluations: 14\n",
        "         Hessian evaluations: 7\n",
        "Optimization terminated successfully."
       ]
      },
      {
       "output_type": "stream",
       "stream": "stdout",
       "text": [
        "\n",
        "         Current function value: 0.458244\n",
        "         Iterations: 7\n",
        "         Function evaluations: 8\n",
        "         Gradient evaluations: 14\n",
        "         Hessian evaluations: 7\n",
        "Optimization terminated successfully."
       ]
      },
      {
       "output_type": "stream",
       "stream": "stdout",
       "text": [
        "\n",
        "         Current function value: 0.458106\n",
        "         Iterations: 7\n",
        "         Function evaluations: 8\n",
        "         Gradient evaluations: 14\n",
        "         Hessian evaluations: 7\n",
        "Optimization terminated successfully."
       ]
      },
      {
       "output_type": "stream",
       "stream": "stdout",
       "text": [
        "\n",
        "         Current function value: 0.458695\n",
        "         Iterations: 7\n",
        "         Function evaluations: 8\n",
        "         Gradient evaluations: 14\n",
        "         Hessian evaluations: 7\n",
        "Optimization terminated successfully."
       ]
      },
      {
       "output_type": "stream",
       "stream": "stdout",
       "text": [
        "\n",
        "         Current function value: 0.458813\n",
        "         Iterations: 7\n",
        "         Function evaluations: 8\n",
        "         Gradient evaluations: 14\n",
        "         Hessian evaluations: 7\n",
        "Optimization terminated successfully."
       ]
      },
      {
       "output_type": "stream",
       "stream": "stdout",
       "text": [
        "\n",
        "         Current function value: 0.458686\n",
        "         Iterations: 7\n",
        "         Function evaluations: 8\n",
        "         Gradient evaluations: 14\n",
        "         Hessian evaluations: 7\n",
        "Optimization terminated successfully."
       ]
      },
      {
       "output_type": "stream",
       "stream": "stdout",
       "text": [
        "\n",
        "         Current function value: 0.458835\n",
        "         Iterations: 7\n",
        "         Function evaluations: 8\n",
        "         Gradient evaluations: 14\n",
        "         Hessian evaluations: 7\n",
        "Optimization terminated successfully."
       ]
      },
      {
       "output_type": "stream",
       "stream": "stdout",
       "text": [
        "\n",
        "         Current function value: 0.458257\n",
        "         Iterations: 8\n",
        "         Function evaluations: 9\n",
        "         Gradient evaluations: 16\n",
        "         Hessian evaluations: 8\n",
        "Optimization terminated successfully."
       ]
      },
      {
       "output_type": "stream",
       "stream": "stdout",
       "text": [
        "\n",
        "         Current function value: 0.458915\n",
        "         Iterations: 7\n",
        "         Function evaluations: 8\n",
        "         Gradient evaluations: 14\n",
        "         Hessian evaluations: 7\n",
        "Optimization terminated successfully."
       ]
      },
      {
       "output_type": "stream",
       "stream": "stdout",
       "text": [
        "\n",
        "         Current function value: 0.458917\n",
        "         Iterations: 7\n",
        "         Function evaluations: 8\n",
        "         Gradient evaluations: 14\n",
        "         Hessian evaluations: 7\n",
        "Optimization terminated successfully."
       ]
      },
      {
       "output_type": "stream",
       "stream": "stdout",
       "text": [
        "\n",
        "         Current function value: 0.458790\n",
        "         Iterations: 7\n",
        "         Function evaluations: 8\n",
        "         Gradient evaluations: 14\n",
        "         Hessian evaluations: 7\n",
        "Optimization terminated successfully."
       ]
      },
      {
       "output_type": "stream",
       "stream": "stdout",
       "text": [
        "\n",
        "         Current function value: 0.458315\n",
        "         Iterations: 7\n",
        "         Function evaluations: 8\n",
        "         Gradient evaluations: 14\n",
        "         Hessian evaluations: 7\n",
        "Optimization terminated successfully."
       ]
      },
      {
       "output_type": "stream",
       "stream": "stdout",
       "text": [
        "\n",
        "         Current function value: 0.457967\n",
        "         Iterations: 7\n",
        "         Function evaluations: 8\n",
        "         Gradient evaluations: 14\n",
        "         Hessian evaluations: 7\n",
        "Optimization terminated successfully."
       ]
      },
      {
       "output_type": "stream",
       "stream": "stdout",
       "text": [
        "\n",
        "         Current function value: 0.458895\n",
        "         Iterations: 8\n",
        "         Function evaluations: 9\n",
        "         Gradient evaluations: 16\n",
        "         Hessian evaluations: 8\n",
        "Optimization terminated successfully."
       ]
      },
      {
       "output_type": "stream",
       "stream": "stdout",
       "text": [
        "\n",
        "         Current function value: 0.458893\n",
        "         Iterations: 8\n",
        "         Function evaluations: 9\n",
        "         Gradient evaluations: 16\n",
        "         Hessian evaluations: 8\n",
        "Optimization terminated successfully."
       ]
      },
      {
       "output_type": "stream",
       "stream": "stdout",
       "text": [
        "\n",
        "         Current function value: 0.458395\n",
        "         Iterations: 8\n",
        "         Function evaluations: 9\n",
        "         Gradient evaluations: 16\n",
        "         Hessian evaluations: 8\n",
        "Optimization terminated successfully."
       ]
      },
      {
       "output_type": "stream",
       "stream": "stdout",
       "text": [
        "\n",
        "         Current function value: 0.458689\n",
        "         Iterations: 8\n",
        "         Function evaluations: 9\n",
        "         Gradient evaluations: 16\n",
        "         Hessian evaluations: 8\n",
        "Optimization terminated successfully."
       ]
      },
      {
       "output_type": "stream",
       "stream": "stdout",
       "text": [
        "\n",
        "         Current function value: 0.458736\n",
        "         Iterations: 7\n",
        "         Function evaluations: 8\n",
        "         Gradient evaluations: 14\n",
        "         Hessian evaluations: 7\n",
        "Optimization terminated successfully."
       ]
      },
      {
       "output_type": "stream",
       "stream": "stdout",
       "text": [
        "\n",
        "         Current function value: 0.458545\n",
        "         Iterations: 23\n",
        "         Function evaluations: 37\n",
        "         Gradient evaluations: 59\n",
        "         Hessian evaluations: 23\n",
        "Optimization terminated successfully."
       ]
      },
      {
       "output_type": "stream",
       "stream": "stdout",
       "text": [
        "\n",
        "         Current function value: 0.458694\n",
        "         Iterations: 13\n",
        "         Function evaluations: 18\n",
        "         Gradient evaluations: 30\n",
        "         Hessian evaluations: 13\n",
        "Warning: Maximum number of iterations has been exceeded."
       ]
      },
      {
       "output_type": "stream",
       "stream": "stdout",
       "text": [
        "\n",
        "         Current function value: 0.458573\n",
        "         Iterations: 2000\n",
        "         Function evaluations: 2005\n",
        "         Gradient evaluations: 4004\n",
        "         Hessian evaluations: 2000\n",
        "The model for ['RELJCT2_IM_T7'] did not converge\n",
        "Optimization terminated successfully."
       ]
      },
      {
       "output_type": "stream",
       "stream": "stdout",
       "text": [
        "\n",
        "         Current function value: 0.458917\n",
        "         Iterations: 7\n",
        "         Function evaluations: 8\n",
        "         Gradient evaluations: 14\n",
        "         Hessian evaluations: 7\n",
        "Optimization terminated successfully."
       ]
      },
      {
       "output_type": "stream",
       "stream": "stdout",
       "text": [
        "\n",
        "         Current function value: 0.457497\n",
        "         Iterations: 12\n",
        "         Function evaluations: 13\n",
        "         Gradient evaluations: 24\n",
        "         Hessian evaluations: 12\n",
        "Optimization terminated successfully."
       ]
      },
      {
       "output_type": "stream",
       "stream": "stdout",
       "text": [
        "\n",
        "         Current function value: 0.458560\n",
        "         Iterations: 18\n",
        "         Function evaluations: 23\n",
        "         Gradient evaluations: 40\n",
        "         Hessian evaluations: 18\n",
        "Optimization terminated successfully."
       ]
      },
      {
       "output_type": "stream",
       "stream": "stdout",
       "text": [
        "\n",
        "         Current function value: 0.458470\n",
        "         Iterations: 7\n",
        "         Function evaluations: 8\n",
        "         Gradient evaluations: 14\n",
        "         Hessian evaluations: 7\n",
        "Optimization terminated successfully."
       ]
      },
      {
       "output_type": "stream",
       "stream": "stdout",
       "text": [
        "\n",
        "         Current function value: 0.458677\n",
        "         Iterations: 8\n",
        "         Function evaluations: 9\n",
        "         Gradient evaluations: 16\n",
        "         Hessian evaluations: 8\n",
        "Optimization terminated successfully."
       ]
      },
      {
       "output_type": "stream",
       "stream": "stdout",
       "text": [
        "\n",
        "         Current function value: 0.458656\n",
        "         Iterations: 7\n",
        "         Function evaluations: 8\n",
        "         Gradient evaluations: 14\n",
        "         Hessian evaluations: 7\n",
        "Optimization terminated successfully."
       ]
      },
      {
       "output_type": "stream",
       "stream": "stdout",
       "text": [
        "\n",
        "         Current function value: 0.458792\n",
        "         Iterations: 7\n",
        "         Function evaluations: 8\n",
        "         Gradient evaluations: 14\n",
        "         Hessian evaluations: 7\n",
        "Optimization terminated successfully."
       ]
      },
      {
       "output_type": "stream",
       "stream": "stdout",
       "text": [
        "\n",
        "         Current function value: 0.458845\n",
        "         Iterations: 7\n",
        "         Function evaluations: 8\n",
        "         Gradient evaluations: 14\n",
        "         Hessian evaluations: 7\n",
        "Optimization terminated successfully."
       ]
      },
      {
       "output_type": "stream",
       "stream": "stdout",
       "text": [
        "\n",
        "         Current function value: 0.458776\n",
        "         Iterations: 8\n",
        "         Function evaluations: 9\n",
        "         Gradient evaluations: 16\n",
        "         Hessian evaluations: 8\n",
        "The base model plus ['WEATHR_IM_T4'] is not of full rank.\n",
        "Optimization terminated successfully."
       ]
      },
      {
       "output_type": "stream",
       "stream": "stdout",
       "text": [
        "\n",
        "         Current function value: 0.458585\n",
        "         Iterations: 10\n",
        "         Function evaluations: 11\n",
        "         Gradient evaluations: 20\n",
        "         Hessian evaluations: 10\n",
        "Optimization terminated successfully."
       ]
      },
      {
       "output_type": "stream",
       "stream": "stdout",
       "text": [
        "\n",
        "         Current function value: 0.458885\n",
        "         Iterations: 8\n",
        "         Function evaluations: 9\n",
        "         Gradient evaluations: 16\n",
        "         Hessian evaluations: 8\n",
        "Optimization terminated successfully."
       ]
      },
      {
       "output_type": "stream",
       "stream": "stdout",
       "text": [
        "\n",
        "         Current function value: 0.458913\n",
        "         Iterations: 8\n",
        "         Function evaluations: 9\n",
        "         Gradient evaluations: 16\n",
        "         Hessian evaluations: 8\n",
        "Optimization terminated successfully."
       ]
      },
      {
       "output_type": "stream",
       "stream": "stdout",
       "text": [
        "\n",
        "         Current function value: 0.458896\n",
        "         Iterations: 9\n",
        "         Function evaluations: 10\n",
        "         Gradient evaluations: 18\n",
        "         Hessian evaluations: 9\n",
        "Optimization terminated successfully."
       ]
      },
      {
       "output_type": "stream",
       "stream": "stdout",
       "text": [
        "\n",
        "         Current function value: 0.458912\n",
        "         Iterations: 8\n",
        "         Function evaluations: 9\n",
        "         Gradient evaluations: 16\n",
        "         Hessian evaluations: 8\n",
        "Optimization terminated successfully."
       ]
      },
      {
       "output_type": "stream",
       "stream": "stdout",
       "text": [
        "\n",
        "         Current function value: 0.458461\n",
        "         Iterations: 8\n",
        "         Function evaluations: 9\n",
        "         Gradient evaluations: 16\n",
        "         Hessian evaluations: 8\n",
        "Optimization terminated successfully."
       ]
      },
      {
       "output_type": "stream",
       "stream": "stdout",
       "text": [
        "\n",
        "         Current function value: 0.458862\n",
        "         Iterations: 7\n",
        "         Function evaluations: 8\n",
        "         Gradient evaluations: 14\n",
        "         Hessian evaluations: 7\n",
        "Optimization terminated successfully."
       ]
      },
      {
       "output_type": "stream",
       "stream": "stdout",
       "text": [
        "\n",
        "         Current function value: nan\n",
        "         Iterations: 2\n",
        "         Function evaluations: 43\n",
        "         Gradient evaluations: 43\n",
        "         Hessian evaluations: 2\n",
        "Optimization terminated successfully."
       ]
      },
      {
       "output_type": "stream",
       "stream": "stdout",
       "text": [
        "\n",
        "         Current function value: 0.458916\n",
        "         Iterations: 8\n",
        "         Function evaluations: 9\n",
        "         Gradient evaluations: 16\n",
        "         Hessian evaluations: 8\n",
        "Optimization terminated successfully."
       ]
      },
      {
       "output_type": "stream",
       "stream": "stdout",
       "text": [
        "\n",
        "         Current function value: 0.457879\n",
        "         Iterations: 10\n",
        "         Function evaluations: 11\n",
        "         Gradient evaluations: 20\n",
        "         Hessian evaluations: 10\n",
        "Optimization terminated successfully."
       ]
      },
      {
       "output_type": "stream",
       "stream": "stdout",
       "text": [
        "\n",
        "         Current function value: 0.458916\n",
        "         Iterations: 8\n",
        "         Function evaluations: 9\n",
        "         Gradient evaluations: 16\n",
        "         Hessian evaluations: 8\n",
        "Optimization terminated successfully."
       ]
      },
      {
       "output_type": "stream",
       "stream": "stdout",
       "text": [
        "\n",
        "         Current function value: 0.458762\n",
        "         Iterations: 8\n",
        "         Function evaluations: 9\n",
        "         Gradient evaluations: 16\n",
        "         Hessian evaluations: 8\n",
        "Optimization terminated successfully."
       ]
      },
      {
       "output_type": "stream",
       "stream": "stdout",
       "text": [
        "\n",
        "         Current function value: 0.458913\n",
        "         Iterations: 8\n",
        "         Function evaluations: 9\n",
        "         Gradient evaluations: 16\n",
        "         Hessian evaluations: 8\n",
        "Optimization terminated successfully."
       ]
      },
      {
       "output_type": "stream",
       "stream": "stdout",
       "text": [
        "\n",
        "         Current function value: 0.458359\n",
        "         Iterations: 7\n",
        "         Function evaluations: 8\n",
        "         Gradient evaluations: 14\n",
        "         Hessian evaluations: 7\n",
        "The base model plus ['MSAFEQMT4'] is not of full rank.\n",
        "Optimization terminated successfully."
       ]
      },
      {
       "output_type": "stream",
       "stream": "stdout",
       "text": [
        "\n",
        "         Current function value: 0.457899\n",
        "         Iterations: 8\n",
        "         Function evaluations: 9\n",
        "         Gradient evaluations: 16\n",
        "         Hessian evaluations: 8\n",
        "Optimization terminated successfully."
       ]
      },
      {
       "output_type": "stream",
       "stream": "stdout",
       "text": [
        "\n",
        "         Current function value: 0.458601\n",
        "         Iterations: 7\n",
        "         Function evaluations: 8\n",
        "         Gradient evaluations: 14\n",
        "         Hessian evaluations: 7\n",
        "The base model plus ['TRAV_SP_9999'] is not of full rank.\n",
        "The base model plus ['NUMOCCS_9999'] is not of full rank.\n",
        "The base model plus ['VSPD_LIM_9999'] is not of full rank.\n",
        "The base model plus ['DRIVER_AGE_9999'] is not of full rank.\n",
        "Optimization terminated successfully."
       ]
      },
      {
       "output_type": "stream",
       "stream": "stdout",
       "text": [
        "\n",
        "         Current function value: 0.457873\n",
        "         Iterations: 7\n",
        "         Function evaluations: 8\n",
        "         Gradient evaluations: 14\n",
        "         Hessian evaluations: 7\n",
        "Optimization terminated successfully."
       ]
      },
      {
       "output_type": "stream",
       "stream": "stdout",
       "text": [
        "\n",
        "         Current function value: 0.458753\n",
        "         Iterations: 7\n",
        "         Function evaluations: 8\n",
        "         Gradient evaluations: 14\n",
        "         Hessian evaluations: 7\n",
        "Optimization terminated successfully."
       ]
      },
      {
       "output_type": "stream",
       "stream": "stdout",
       "text": [
        "\n",
        "         Current function value: 0.458612\n",
        "         Iterations: 9\n",
        "         Function evaluations: 10\n",
        "         Gradient evaluations: 18\n",
        "         Hessian evaluations: 9\n",
        "Optimization terminated successfully."
       ]
      },
      {
       "output_type": "stream",
       "stream": "stdout",
       "text": [
        "\n",
        "         Current function value: 0.458769\n",
        "         Iterations: 8\n",
        "         Function evaluations: 9\n",
        "         Gradient evaluations: 16\n",
        "         Hessian evaluations: 8\n",
        "Optimization terminated successfully."
       ]
      },
      {
       "output_type": "stream",
       "stream": "stdout",
       "text": [
        "\n",
        "         Current function value: 0.457651\n",
        "         Iterations: 8\n",
        "         Function evaluations: 9\n",
        "         Gradient evaluations: 16\n",
        "         Hessian evaluations: 8\n",
        "Optimization terminated successfully."
       ]
      },
      {
       "output_type": "stream",
       "stream": "stdout",
       "text": [
        "\n",
        "         Current function value: 0.458503\n",
        "         Iterations: 7\n",
        "         Function evaluations: 8\n",
        "         Gradient evaluations: 14\n",
        "         Hessian evaluations: 7\n",
        "Optimization terminated successfully."
       ]
      },
      {
       "output_type": "stream",
       "stream": "stdout",
       "text": [
        "\n",
        "         Current function value: 0.458827\n",
        "         Iterations: 7\n",
        "         Function evaluations: 8\n",
        "         Gradient evaluations: 14\n",
        "         Hessian evaluations: 7\n",
        "Optimization terminated successfully."
       ]
      },
      {
       "output_type": "stream",
       "stream": "stdout",
       "text": [
        "\n",
        "         Current function value: 0.458809\n",
        "         Iterations: 8\n",
        "         Function evaluations: 9\n",
        "         Gradient evaluations: 16\n",
        "         Hessian evaluations: 8\n",
        "The base model plus ['TRAV_SP', 'TRAV_SP_interact_TRAV_SP_9999'] is not of full rank.\n",
        "The base model plus ['NUMOCCS', 'NUMOCCS_interact_NUMOCCS_9999'] is not of full rank.\n",
        "The base model plus ['VSPD_LIM', 'VSPD_LIM_interact_VSPD_LIM_9999'] is not of full rank.\n",
        "The base model plus ['DRIVER_AGE', 'DRIVER_AGE_interact_DRIVER_AGE_9999'] is not of full rank."
       ]
      },
      {
       "output_type": "stream",
       "stream": "stdout",
       "text": [
        "\n",
        "==========\n",
        "\n",
        "There were estimation problems with at least 5 variables. The problematic columns were: \n",
        "['LOCATION_Treatment_9999_T21', 'VSURCOND_Treatment_9999_T3', 'P_CRASH2_Treatment_9999_T18', 'P_CRASH2_Treatment_9999_T64', 'RELJCT2_IM_T7']\n",
        "==========\n",
        "\n",
        "The possible variables being fed to combat_multi_collinearity are: \n",
        "['MONTH_T6', 'MONTH_T9', 'DRUGS_Treatment_9999_T0', 'LOCATION_Treatment_9999_T13', 'SPEC_USE_vehDup_Treatment_9999_T0', 'SPEC_USE_vehDup_Treatment_9999_T1', 'EMER_USE_vehDup_Treatment_9999_T0', 'IMPACT2_vehDup_Treatment_9999_T1', 'IMPACT2_vehDup_Treatment_9999_T4', 'IMPACT2_vehDup_Treatment_9999_T62', 'VTRAFWAY_Treatment_9999_T0', 'VALIGN_Treatment_9999_T0', 'VALIGN_Treatment_9999_T4', 'VPROFILE_Treatment_9999_T0', 'VPROFILE_Treatment_9999_T2', 'VPROFILE_Treatment_9999_T3', 'VPROFILE_Treatment_9999_T4', 'VSURCOND_Treatment_9999_T0', 'VTRAFCON_Treatment_9999_T0', 'VTRAFCON_Treatment_9999_T20', 'VTCONT_F_Treatment_9999_T0', 'P_CRASH2_Treatment_9999_T15', 'P_CRASH2_Treatment_9999_T16', 'P_CRASH2_Treatment_9999_T84', 'P_CRASH3_Treatment_9999_T3', 'BDYTYP_IM_T5', 'BDYTYP_IM_T6', 'BDYTYP_IM_T8', 'BDYTYP_IM_T9', 'IMPACT1_IM_T1', 'IMPACT1_IM_T4', 'IMPACT1_IM_T10', 'IMPACT1_IM_T62', 'PCRASH1_IM_T9', 'TYP_INT_Treatment_9999_T2', 'REL_ROAD_Treatment_9999_T4', 'WKDY_IM_T2', 'WKDY_IM_T3', 'HOUR_IM_T10', 'HOUR_IM_T12', 'HOUR_IM_T22', 'PERMVIT', 'MSAFEQMT5', 'VNUM_LAN_Treatment_9999_0', 'VNUM_LAN_Treatment_9999_4']\n",
        "The condition number of the dataset and reduced variable list is 113.333467024\n",
        "There are 62 variables currently in the model.\n",
        "Optimization terminated successfully."
       ]
      },
      {
       "output_type": "stream",
       "stream": "stdout",
       "text": [
        "\n",
        "         Current function value: 0.412555\n",
        "         Iterations: 16\n",
        "         Function evaluations: 17\n",
        "         Gradient evaluations: 32\n",
        "         Hessian evaluations: 16\n",
        "                           Logit Regression Results                           \n",
        "==============================================================================\n",
        "Dep. Variable:                SER_INJ   No. Observations:                 1029\n",
        "Model:                          Logit   Df Residuals:                      967\n",
        "Method:                           MLE   Df Model:                           61\n",
        "Date:                Mon, 05 May 2014   Pseudo R-squ.:                  0.2322\n",
        "Time:                        22:16:07   Log-Likelihood:                -424.52\n",
        "converged:                       True   LL-Null:                       -552.89\n",
        "                                        LLR p-value:                 7.546e-26\n",
        "=====================================================================================================\n",
        "                                        coef    std err          z      P>|z|      [95.0% Conf. Int.]\n",
        "-----------------------------------------------------------------------------------------------------\n",
        "PERMVIT                               0.2435      0.146      1.672      0.094        -0.042     0.529\n",
        "DRUGS_Treatment_9999_T0              -0.6096      0.253     -2.406      0.016        -1.106    -0.113\n",
        "IMPACT1_IM_T10                        0.7675      0.617      1.244      0.214        -0.442     1.977\n",
        "WKDY_IM_T3                           -0.3602      0.269     -1.339      0.181        -0.888     0.167\n",
        "WKDY_IM_T2                            0.4991      0.253      1.972      0.049         0.003     0.995\n",
        "IMPACT2_vehDup_Treatment_9999_T62     0.2128      1.219      0.175      0.861        -2.177     2.603\n",
        "EMER_USE_vehDup_Treatment_9999_T0    -0.4717      1.146     -0.412      0.681        -2.718     1.774\n",
        "P_CRASH3_Treatment_9999_T3            2.7911      1.063      2.626      0.009         0.708     4.874\n",
        "VTRAFWAY_Treatment_9999_T0            0.8191      0.445      1.840      0.066        -0.053     1.691\n",
        "P_CRASH2_Treatment_9999_T16          -0.8154      0.536     -1.521      0.128        -1.866     0.236\n",
        "P_CRASH2_Treatment_9999_T15           0.4205      0.360      1.167      0.243        -0.286     1.127\n",
        "VTCONT_F_Treatment_9999_T0            0.2932      0.241      1.216      0.224        -0.179     0.766\n",
        "REL_ROAD_Treatment_9999_T4           -1.8425      1.526     -1.207      0.227        -4.834     1.149\n",
        "IMPACT2_vehDup_Treatment_9999_T4     -9.5126    112.102     -0.085      0.932      -229.228   210.203\n",
        "HOUR_IM_T10                          -0.9853      0.538     -1.831      0.067        -2.040     0.069\n",
        "IMPACT2_vehDup_Treatment_9999_T1      0.5656      0.932      0.607      0.544        -1.260     2.392\n",
        "IMPACT1_IM_T1                         0.0040      0.886      0.005      0.996        -1.733     1.740\n",
        "BDYTYP_IM_T6                          0.5159      0.401      1.288      0.198        -0.269     1.301\n",
        "VALIGN_Treatment_9999_T4              1.6052      0.752      2.135      0.033         0.131     3.079\n",
        "IMPACT1_IM_T4                        10.4369    112.099      0.093      0.926      -209.274   230.148\n",
        "BDYTYP_IM_T5                         -0.8365      0.961     -0.871      0.384        -2.719     1.046\n",
        "BDYTYP_IM_T8                          1.4553      1.117      1.303      0.193        -0.735     3.645\n",
        "BDYTYP_IM_T9                         -0.4649      0.433     -1.074      0.283        -1.313     0.383\n",
        "VPROFILE_Treatment_9999_T4            2.8467      1.517      1.877      0.061        -0.126     5.819\n",
        "VPROFILE_Treatment_9999_T2           -1.0169      0.488     -2.084      0.037        -1.973    -0.061\n",
        "VPROFILE_Treatment_9999_T3            1.6793      0.829      2.025      0.043         0.054     3.305\n",
        "MONTH_T9                              0.5596      0.266      2.104      0.035         0.038     1.081\n",
        "IMPACT1_IM_T62                       -1.4039      1.415     -0.992      0.321        -4.177     1.369\n",
        "VTRAFCON_Treatment_9999_T20          -0.0982      0.274     -0.358      0.720        -0.635     0.439\n",
        "MONTH_T6                             -0.1149      0.284     -0.405      0.686        -0.671     0.441\n",
        "SPEC_USE_vehDup_Treatment_9999_T0    -0.9223      0.738     -1.251      0.211        -2.368     0.523\n",
        "SPEC_USE_vehDup_Treatment_9999_T1    -0.1750      1.053     -0.166      0.868        -2.239     1.889\n",
        "HOUR_IM_T12                           0.4092      0.339      1.208      0.227        -0.255     1.073\n",
        "VNUM_LAN_Treatment_9999_4             0.3492      0.306      1.141      0.254        -0.251     0.949\n",
        "P_CRASH2_Treatment_9999_T84           1.0651      0.603      1.765      0.078        -0.118     2.248\n",
        "LOCATION_Treatment_9999_T13           0.7191      0.461      1.560      0.119        -0.184     1.623\n",
        "HOUR_IM_T22                          -1.4094      0.849     -1.660      0.097        -3.073     0.255\n",
        "MSAFEQMT5                            -1.5212      1.613     -0.943      0.346        -4.683     1.640\n",
        "TYP_INT_Treatment_9999_T2             0.3585      0.242      1.482      0.138        -0.116     0.833\n",
        "PCRASH1_IM_T9                         3.4379      1.602      2.145      0.032         0.297     6.579\n",
        "nodeNum_0                            -2.9158      1.504     -1.938      0.053        -5.865     0.033\n",
        "nodeNum_1                            -0.2359      0.983     -0.240      0.810        -2.162     1.690\n",
        "nodeNum_2                             2.3187      1.042      2.226      0.026         0.277     4.361\n",
        "nodeNum_3                             0.6320      1.059      0.597      0.551        -1.444     2.708\n",
        "nodeNum_4                             3.8607      1.560      2.476      0.013         0.804     6.917\n",
        "nodeNum_5                            -0.7699      1.273     -0.605      0.545        -3.264     1.724\n",
        "nodeNum_6                            -1.3419      1.276     -1.051      0.293        -3.844     1.160\n",
        "nodeNum_8                             0.9122      0.995      0.916      0.359        -1.039     2.863\n",
        "nodeNum_9                             0.0376      0.978      0.038      0.969        -1.880     1.955\n",
        "nodeNum_10                           -0.6517      0.952     -0.685      0.494        -2.517     1.214\n",
        "nodeNum_11                            1.6405      1.003      1.635      0.102        -0.326     3.607\n",
        "nodeNum_13                           -2.4851      1.138     -2.183      0.029        -4.716    -0.254\n",
        "nodeNum_14                           -1.5945      1.119     -1.424      0.154        -3.789     0.600\n",
        "nodeNum_15                           -2.1019      1.392     -1.510      0.131        -4.830     0.626\n",
        "nodeNum_16                           -1.2824      1.066     -1.203      0.229        -3.372     0.808\n",
        "nodeNum_19                           -1.7151      1.150     -1.492      0.136        -3.968     0.538\n",
        "nodeNum_20                            0.7053      0.993      0.710      0.477        -1.240     2.651\n",
        "nodeNum_21                            1.3560      1.141      1.189      0.234        -0.879     3.591\n",
        "nodeNum_22                            0.1671      0.992      0.168      0.866        -1.777     2.111\n",
        "nodeNum_25                           -0.6457      0.984     -0.656      0.512        -2.574     1.282\n",
        "nodeNum_26                            2.1982      1.167      1.884      0.060        -0.089     4.485\n",
        "nodeNum_27                            0.0252      1.018      0.025      0.980        -1.970     2.021\n",
        "====================================================================================================="
       ]
      },
      {
       "output_type": "stream",
       "stream": "stdout",
       "text": [
        "\n",
        "Optimization terminated successfully."
       ]
      },
      {
       "output_type": "stream",
       "stream": "stdout",
       "text": [
        "\n",
        "         Current function value: 0.412555\n",
        "         Iterations: 16\n",
        "         Function evaluations: 17\n",
        "         Gradient evaluations: 32\n",
        "         Hessian evaluations: 16\n",
        "Optimization terminated successfully."
       ]
      },
      {
       "output_type": "stream",
       "stream": "stdout",
       "text": [
        "\n",
        "         Current function value: 0.413158\n",
        "         Iterations: 10\n",
        "         Function evaluations: 11\n",
        "         Gradient evaluations: 20\n",
        "         Hessian evaluations: 10\n",
        "Optimization terminated successfully."
       ]
      },
      {
       "output_type": "stream",
       "stream": "stdout",
       "text": [
        "\n",
        "         Current function value: 0.413171\n",
        "         Iterations: 10\n",
        "         Function evaluations: 11\n",
        "         Gradient evaluations: 20\n",
        "         Hessian evaluations: 10\n",
        "Optimization terminated successfully."
       ]
      },
      {
       "output_type": "stream",
       "stream": "stdout",
       "text": [
        "\n",
        "         Current function value: 0.413187\n",
        "         Iterations: 10\n",
        "         Function evaluations: 11\n",
        "         Gradient evaluations: 20\n",
        "         Hessian evaluations: 10\n",
        "Optimization terminated successfully."
       ]
      },
      {
       "output_type": "stream",
       "stream": "stdout",
       "text": [
        "\n",
        "         Current function value: 0.413234\n",
        "         Iterations: 10\n",
        "         Function evaluations: 11\n",
        "         Gradient evaluations: 20\n",
        "         Hessian evaluations: 10\n",
        "Optimization terminated successfully."
       ]
      },
      {
       "output_type": "stream",
       "stream": "stdout",
       "text": [
        "\n",
        "         Current function value: 0.413325\n",
        "         Iterations: 10\n",
        "         Function evaluations: 11\n",
        "         Gradient evaluations: 20\n",
        "         Hessian evaluations: 10\n",
        "Optimization terminated successfully."
       ]
      },
      {
       "output_type": "stream",
       "stream": "stdout",
       "text": [
        "\n",
        "         Current function value: 0.413478\n",
        "         Iterations: 9\n",
        "         Function evaluations: 10\n",
        "         Gradient evaluations: 18\n",
        "         Hessian evaluations: 9\n",
        "Optimization terminated successfully."
       ]
      },
      {
       "output_type": "stream",
       "stream": "stdout",
       "text": [
        "\n",
        "         Current function value: 0.413865\n",
        "         Iterations: 10\n",
        "         Function evaluations: 11\n",
        "         Gradient evaluations: 20\n",
        "         Hessian evaluations: 10\n",
        "Optimization terminated successfully."
       ]
      },
      {
       "output_type": "stream",
       "stream": "stdout",
       "text": [
        "\n",
        "         Current function value: 0.414380\n",
        "         Iterations: 9\n",
        "         Function evaluations: 10\n",
        "         Gradient evaluations: 18\n",
        "         Hessian evaluations: 9\n",
        "Optimization terminated successfully."
       ]
      },
      {
       "output_type": "stream",
       "stream": "stdout",
       "text": [
        "\n",
        "         Current function value: 0.415093\n",
        "         Iterations: 11\n",
        "         Function evaluations: 12\n",
        "         Gradient evaluations: 22\n",
        "         Hessian evaluations: 11\n",
        "Optimization terminated successfully."
       ]
      },
      {
       "output_type": "stream",
       "stream": "stdout",
       "text": [
        "\n",
        "         Current function value: 0.415894\n",
        "         Iterations: 12\n",
        "         Function evaluations: 13\n",
        "         Gradient evaluations: 24\n",
        "         Hessian evaluations: 12\n",
        "Optimization terminated successfully."
       ]
      },
      {
       "output_type": "stream",
       "stream": "stdout",
       "text": [
        "\n",
        "         Current function value: 0.416597\n",
        "         Iterations: 10\n",
        "         Function evaluations: 11\n",
        "         Gradient evaluations: 20\n",
        "         Hessian evaluations: 10\n",
        "Optimization terminated successfully."
       ]
      },
      {
       "output_type": "stream",
       "stream": "stdout",
       "text": [
        "\n",
        "         Current function value: 0.417340\n",
        "         Iterations: 10\n",
        "         Function evaluations: 11\n",
        "         Gradient evaluations: 20\n",
        "         Hessian evaluations: 10\n",
        "Optimization terminated successfully."
       ]
      },
      {
       "output_type": "stream",
       "stream": "stdout",
       "text": [
        "\n",
        "         Current function value: 0.418059\n",
        "         Iterations: 11\n",
        "         Function evaluations: 12\n",
        "         Gradient evaluations: 22\n",
        "         Hessian evaluations: 11\n",
        "Optimization terminated successfully."
       ]
      },
      {
       "output_type": "stream",
       "stream": "stdout",
       "text": [
        "\n",
        "         Current function value: 0.418893\n",
        "         Iterations: 12\n",
        "         Function evaluations: 13\n",
        "         Gradient evaluations: 24\n",
        "         Hessian evaluations: 12\n",
        "Optimization terminated successfully."
       ]
      },
      {
       "output_type": "stream",
       "stream": "stdout",
       "text": [
        "\n",
        "         Current function value: 0.419751\n",
        "         Iterations: 10\n",
        "         Function evaluations: 11\n",
        "         Gradient evaluations: 20\n",
        "         Hessian evaluations: 10\n",
        "Optimization terminated successfully."
       ]
      },
      {
       "output_type": "stream",
       "stream": "stdout",
       "text": [
        "\n",
        "         Current function value: 0.420847\n",
        "         Iterations: 10\n",
        "         Function evaluations: 11\n",
        "         Gradient evaluations: 20\n",
        "         Hessian evaluations: 10\n",
        "Optimization terminated successfully."
       ]
      },
      {
       "output_type": "stream",
       "stream": "stdout",
       "text": [
        "\n",
        "         Current function value: 0.421978\n",
        "         Iterations: 11\n",
        "         Function evaluations: 12\n",
        "         Gradient evaluations: 22\n",
        "         Hessian evaluations: 11\n",
        "Optimization terminated successfully."
       ]
      },
      {
       "output_type": "stream",
       "stream": "stdout",
       "text": [
        "\n",
        "         Current function value: 0.423179\n",
        "         Iterations: 12\n",
        "         Function evaluations: 13\n",
        "         Gradient evaluations: 24\n",
        "         Hessian evaluations: 12\n",
        "Optimization terminated successfully."
       ]
      },
      {
       "output_type": "stream",
       "stream": "stdout",
       "text": [
        "\n",
        "         Current function value: 0.424191\n",
        "         Iterations: 11\n",
        "         Function evaluations: 12\n",
        "         Gradient evaluations: 22\n",
        "         Hessian evaluations: 11\n",
        "Optimization terminated successfully."
       ]
      },
      {
       "output_type": "stream",
       "stream": "stdout",
       "text": [
        "\n",
        "         Current function value: 0.425251\n",
        "         Iterations: 11\n",
        "         Function evaluations: 12\n",
        "         Gradient evaluations: 22\n",
        "         Hessian evaluations: 11\n",
        "Optimization terminated successfully."
       ]
      },
      {
       "output_type": "stream",
       "stream": "stdout",
       "text": [
        "\n",
        "         Current function value: 0.426815\n",
        "         Iterations: 10\n",
        "         Function evaluations: 11\n",
        "         Gradient evaluations: 20\n",
        "         Hessian evaluations: 10\n",
        "Optimization terminated successfully."
       ]
      },
      {
       "output_type": "stream",
       "stream": "stdout",
       "text": [
        "\n",
        "         Current function value: 0.428244\n",
        "         Iterations: 10\n",
        "         Function evaluations: 11\n",
        "         Gradient evaluations: 20\n",
        "         Hessian evaluations: 10\n",
        "Optimization terminated successfully."
       ]
      },
      {
       "output_type": "stream",
       "stream": "stdout",
       "text": [
        "\n",
        "         Current function value: 0.429755\n",
        "         Iterations: 9\n",
        "         Function evaluations: 10\n",
        "         Gradient evaluations: 18\n",
        "         Hessian evaluations: 9\n",
        "Optimization terminated successfully."
       ]
      },
      {
       "output_type": "stream",
       "stream": "stdout",
       "text": [
        "\n",
        "         Current function value: 0.431150\n",
        "         Iterations: 10\n",
        "         Function evaluations: 11\n",
        "         Gradient evaluations: 20\n",
        "         Hessian evaluations: 10\n",
        "Optimization terminated successfully."
       ]
      },
      {
       "output_type": "stream",
       "stream": "stdout",
       "text": [
        "\n",
        "         Current function value: 0.432378\n",
        "         Iterations: 9\n",
        "         Function evaluations: 10\n",
        "         Gradient evaluations: 18\n",
        "         Hessian evaluations: 9\n",
        "Optimization terminated successfully."
       ]
      },
      {
       "output_type": "stream",
       "stream": "stdout",
       "text": [
        "\n",
        "         Current function value: 0.433568\n",
        "         Iterations: 10\n",
        "         Function evaluations: 11\n",
        "         Gradient evaluations: 20\n",
        "         Hessian evaluations: 10\n",
        "Optimization terminated successfully."
       ]
      },
      {
       "output_type": "stream",
       "stream": "stdout",
       "text": [
        "\n",
        "         Current function value: 0.435032\n",
        "         Iterations: 9\n",
        "         Function evaluations: 10\n",
        "         Gradient evaluations: 18\n",
        "         Hessian evaluations: 9\n",
        "Optimization terminated successfully."
       ]
      },
      {
       "output_type": "stream",
       "stream": "stdout",
       "text": [
        "\n",
        "         Current function value: 0.436245\n",
        "         Iterations: 9\n",
        "         Function evaluations: 10\n",
        "         Gradient evaluations: 18\n",
        "         Hessian evaluations: 9\n",
        "Optimization terminated successfully."
       ]
      },
      {
       "output_type": "stream",
       "stream": "stdout",
       "text": [
        "\n",
        "         Current function value: 0.437622\n",
        "         Iterations: 8\n",
        "         Function evaluations: 9\n",
        "         Gradient evaluations: 16\n",
        "         Hessian evaluations: 8\n",
        "Optimization terminated successfully."
       ]
      },
      {
       "output_type": "stream",
       "stream": "stdout",
       "text": [
        "\n",
        "         Current function value: 0.439183\n",
        "         Iterations: 8\n",
        "         Function evaluations: 9\n",
        "         Gradient evaluations: 16\n",
        "         Hessian evaluations: 8\n",
        "Optimization terminated successfully."
       ]
      },
      {
       "output_type": "stream",
       "stream": "stdout",
       "text": [
        "\n",
        "         Current function value: 0.441008\n",
        "         Iterations: 9\n",
        "         Function evaluations: 10\n",
        "         Gradient evaluations: 18\n",
        "         Hessian evaluations: 9\n",
        "Optimization terminated successfully."
       ]
      },
      {
       "output_type": "stream",
       "stream": "stdout",
       "text": [
        "\n",
        "         Current function value: 0.442691\n",
        "         Iterations: 8\n",
        "         Function evaluations: 9\n",
        "         Gradient evaluations: 16\n",
        "         Hessian evaluations: 8\n",
        "==========\n",
        "The reduced model results are:\n",
        "                           Logit Regression Results                           \n",
        "==============================================================================\n",
        "Dep. Variable:                SER_INJ   No. Observations:                 1029\n",
        "Model:                          Logit   Df Residuals:                     1000\n",
        "Method:                           MLE   Df Model:                           28\n",
        "Date:                Mon, 05 May 2014   Pseudo R-squ.:                  0.1761\n",
        "Time:                        22:16:16   Log-Likelihood:                -455.53\n",
        "converged:                       True   LL-Null:                       -552.89\n",
        "                                        LLR p-value:                 6.806e-27\n",
        "==============================================================================================\n",
        "                                 coef    std err          z      P>|z|      [95.0% Conf. Int.]\n",
        "----------------------------------------------------------------------------------------------\n",
        "DRUGS_Treatment_9999_T0       -0.5108      0.234     -2.181      0.029        -0.970    -0.052\n",
        "P_CRASH3_Treatment_9999_T3     2.9611      1.025      2.888      0.004         0.951     4.971\n",
        "VALIGN_Treatment_9999_T4       1.4988      0.714      2.098      0.036         0.099     2.899\n",
        "VPROFILE_Treatment_9999_T2    -1.1204      0.468     -2.393      0.017        -2.038    -0.203\n",
        "MONTH_T9                       0.5133      0.247      2.076      0.038         0.029     0.998\n",
        "IMPACT1_IM_T62                -1.4765      0.729     -2.026      0.043        -2.905    -0.048\n",
        "PCRASH1_IM_T9                  3.1385      1.293      2.428      0.015         0.605     5.672\n",
        "nodeNum_0                     -2.9401      1.147     -2.564      0.010        -5.188    -0.692\n",
        "nodeNum_1                     -1.0418      0.338     -3.078      0.002        -1.705    -0.379\n",
        "nodeNum_2                      1.3881      0.452      3.069      0.002         0.502     2.274\n",
        "nodeNum_3                     -0.1660      0.517     -0.321      0.748        -1.179     0.847\n",
        "nodeNum_4                      1.7598      0.823      2.138      0.032         0.147     3.373\n",
        "nodeNum_5                     -1.1513      0.819     -1.406      0.160        -2.756     0.453\n",
        "nodeNum_6                     -1.8339      0.767     -2.392      0.017        -3.337    -0.331\n",
        "nodeNum_8                      0.2154      0.394      0.547      0.584        -0.556     0.987\n",
        "nodeNum_9                     -0.5776      0.313     -1.844      0.065        -1.191     0.036\n",
        "nodeNum_10                    -1.1660      0.323     -3.612      0.000        -1.799    -0.533\n",
        "nodeNum_11                     0.8929      0.443      2.016      0.044         0.025     1.761\n",
        "nodeNum_13                    -2.6992      0.628     -4.301      0.000        -3.929    -1.469\n",
        "nodeNum_14                    -2.4413      0.561     -4.354      0.000        -3.540    -1.342\n",
        "nodeNum_15                    -2.8325      1.038     -2.728      0.006        -4.867    -0.798\n",
        "nodeNum_16                    -1.9299      0.538     -3.585      0.000        -2.985    -0.875\n",
        "nodeNum_19                    -1.9893      0.635     -3.134      0.002        -3.233    -0.745\n",
        "nodeNum_20                    -0.0658      0.382     -0.172      0.863        -0.814     0.682\n",
        "nodeNum_21                     0.3380      0.667      0.507      0.612        -0.968     1.645\n",
        "nodeNum_22                    -0.4651      0.310     -1.499      0.134        -1.073     0.143\n",
        "nodeNum_25                    -1.3240      0.358     -3.694      0.000        -2.026    -0.622\n",
        "nodeNum_26                     0.8849      0.685      1.293      0.196        -0.457     2.227\n",
        "nodeNum_27                    -0.7675      0.433     -1.771      0.076        -1.617     0.082\n",
        "=============================================================================================="
       ]
      },
      {
       "output_type": "stream",
       "stream": "stdout",
       "text": [
        "\n",
        "When using the hybrid-CART Logit model, the various errors are: "
       ]
      },
      {
       "output_type": "stream",
       "stream": "stdout",
       "text": [
        "\n",
        "\n",
        "Total Error: 0.217543859649\n",
        "Class 0 Error: 0.0582959641256\n",
        "Class 1 Error: 0.790322580645\n",
        "\n",
        "Note: The number of non-zero logit predictions is 26\n",
        "==========\n",
        "\n",
        "==========\n",
        "When using the decision tree, its various error rates are:"
       ]
      },
      {
       "output_type": "stream",
       "stream": "stdout",
       "text": [
        "\n",
        "Total Error: 0.210526315789\n",
        "Class 0 error rate: 0.0313901345291\n",
        "Class 1 error rate: 0.854838709677\n"
       ]
      }
     ],
     "prompt_number": 161
    },
    {
     "cell_type": "code",
     "collapsed": false,
     "input": [
      "naive_model_and_errs = overall_test(trainingDesign, validationDesign, pruned_tSet_tree, \"SER_INJ\", [0,1], fit_string=\"ncg\")"
     ],
     "language": "python",
     "metadata": {},
     "outputs": [
      {
       "output_type": "stream",
       "stream": "stdout",
       "text": [
        "[['TRAV_SP', 'TRAV_SP_interact_TRAV_SP_9999'], ['NUMOCCS', 'NUMOCCS_interact_NUMOCCS_9999'], ['VSPD_LIM', 'VSPD_LIM_interact_VSPD_LIM_9999'], ['DRIVER_AGE', 'DRIVER_AGE_interact_DRIVER_AGE_9999']]\n",
        "Optimization terminated successfully.\n",
        "         Current function value: 0.487266\n",
        "         Iterations: 7\n",
        "         Function evaluations: 8\n",
        "         Gradient evaluations: 14\n",
        "         Hessian evaluations: 7\n",
        "Optimization terminated successfully."
       ]
      },
      {
       "output_type": "stream",
       "stream": "stdout",
       "text": [
        "\n",
        "         Current function value: 0.487601\n",
        "         Iterations: 7\n",
        "         Function evaluations: 8\n",
        "         Gradient evaluations: 14\n",
        "         Hessian evaluations: 7\n",
        "Optimization terminated successfully."
       ]
      },
      {
       "output_type": "stream",
       "stream": "stdout",
       "text": [
        "\n",
        "         Current function value: 0.487479\n",
        "         Iterations: 7\n",
        "         Function evaluations: 8\n",
        "         Gradient evaluations: 14\n",
        "         Hessian evaluations: 7\n",
        "Optimization terminated successfully."
       ]
      },
      {
       "output_type": "stream",
       "stream": "stdout",
       "text": [
        "\n",
        "         Current function value: 0.487485\n",
        "         Iterations: 7\n",
        "         Function evaluations: 8\n",
        "         Gradient evaluations: 14\n",
        "         Hessian evaluations: 7\n",
        "Optimization terminated successfully."
       ]
      },
      {
       "output_type": "stream",
       "stream": "stdout",
       "text": [
        "\n",
        "         Current function value: 0.487732\n",
        "         Iterations: 7\n",
        "         Function evaluations: 8\n",
        "         Gradient evaluations: 14\n",
        "         Hessian evaluations: 7\n",
        "Optimization terminated successfully."
       ]
      },
      {
       "output_type": "stream",
       "stream": "stdout",
       "text": [
        "\n",
        "         Current function value: 0.487513\n",
        "         Iterations: 7\n",
        "         Function evaluations: 8\n",
        "         Gradient evaluations: 14\n",
        "         Hessian evaluations: 7\n",
        "Optimization terminated successfully."
       ]
      },
      {
       "output_type": "stream",
       "stream": "stdout",
       "text": [
        "\n",
        "         Current function value: 0.487576\n",
        "         Iterations: 6\n",
        "         Function evaluations: 7\n",
        "         Gradient evaluations: 12\n",
        "         Hessian evaluations: 6\n",
        "Optimization terminated successfully."
       ]
      },
      {
       "output_type": "stream",
       "stream": "stdout",
       "text": [
        "\n",
        "         Current function value: 0.486373\n",
        "         Iterations: 7\n",
        "         Function evaluations: 8\n",
        "         Gradient evaluations: 14\n",
        "         Hessian evaluations: 7\n",
        "Optimization terminated successfully."
       ]
      },
      {
       "output_type": "stream",
       "stream": "stdout",
       "text": [
        "\n",
        "         Current function value: 0.487270\n",
        "         Iterations: 6\n",
        "         Function evaluations: 7\n",
        "         Gradient evaluations: 12\n",
        "         Hessian evaluations: 6\n",
        "Optimization terminated successfully."
       ]
      },
      {
       "output_type": "stream",
       "stream": "stdout",
       "text": [
        "\n",
        "         Current function value: 0.487481\n",
        "         Iterations: 9\n",
        "         Function evaluations: 10\n",
        "         Gradient evaluations: 18\n",
        "         Hessian evaluations: 9\n",
        "Optimization terminated successfully."
       ]
      },
      {
       "output_type": "stream",
       "stream": "stdout",
       "text": [
        "\n",
        "         Current function value: 0.487164\n",
        "         Iterations: 8\n",
        "         Function evaluations: 9\n",
        "         Gradient evaluations: 16\n",
        "         Hessian evaluations: 8\n",
        "Optimization terminated successfully."
       ]
      },
      {
       "output_type": "stream",
       "stream": "stdout",
       "text": [
        "\n",
        "         Current function value: 0.487288\n",
        "         Iterations: 7\n",
        "         Function evaluations: 8\n",
        "         Gradient evaluations: 14\n",
        "         Hessian evaluations: 7\n",
        "Optimization terminated successfully."
       ]
      },
      {
       "output_type": "stream",
       "stream": "stdout",
       "text": [
        "\n",
        "         Current function value: 0.487541\n",
        "         Iterations: 7\n",
        "         Function evaluations: 8\n",
        "         Gradient evaluations: 14\n",
        "         Hessian evaluations: 7\n",
        "Optimization terminated successfully."
       ]
      },
      {
       "output_type": "stream",
       "stream": "stdout",
       "text": [
        "\n",
        "         Current function value: 0.487666\n",
        "         Iterations: 8\n",
        "         Function evaluations: 9\n",
        "         Gradient evaluations: 16\n",
        "         Hessian evaluations: 8\n",
        "Optimization terminated successfully."
       ]
      },
      {
       "output_type": "stream",
       "stream": "stdout",
       "text": [
        "\n",
        "         Current function value: 0.487046\n",
        "         Iterations: 9\n",
        "         Function evaluations: 10\n",
        "         Gradient evaluations: 18\n",
        "         Hessian evaluations: 9\n",
        "Optimization terminated successfully."
       ]
      },
      {
       "output_type": "stream",
       "stream": "stdout",
       "text": [
        "\n",
        "         Current function value: 0.487538\n",
        "         Iterations: 10\n",
        "         Function evaluations: 11\n",
        "         Gradient evaluations: 20\n",
        "         Hessian evaluations: 10\n",
        "Optimization terminated successfully."
       ]
      },
      {
       "output_type": "stream",
       "stream": "stdout",
       "text": [
        "\n",
        "         Current function value: 0.487296\n",
        "         Iterations: 7\n",
        "         Function evaluations: 8\n",
        "         Gradient evaluations: 14\n",
        "         Hessian evaluations: 7\n",
        "Optimization terminated successfully."
       ]
      },
      {
       "output_type": "stream",
       "stream": "stdout",
       "text": [
        "\n",
        "         Current function value: 0.487686\n",
        "         Iterations: 7\n",
        "         Function evaluations: 8\n",
        "         Gradient evaluations: 14\n",
        "         Hessian evaluations: 7\n",
        "Optimization terminated successfully."
       ]
      },
      {
       "output_type": "stream",
       "stream": "stdout",
       "text": [
        "\n",
        "         Current function value: 0.485641\n",
        "         Iterations: 7\n",
        "         Function evaluations: 8\n",
        "         Gradient evaluations: 14\n",
        "         Hessian evaluations: 7\n",
        "Optimization terminated successfully."
       ]
      },
      {
       "output_type": "stream",
       "stream": "stdout",
       "text": [
        "\n",
        "         Current function value: 0.487744\n",
        "         Iterations: 7\n",
        "         Function evaluations: 8\n",
        "         Gradient evaluations: 14\n",
        "         Hessian evaluations: 7\n",
        "Optimization terminated successfully."
       ]
      },
      {
       "output_type": "stream",
       "stream": "stdout",
       "text": [
        "\n",
        "         Current function value: 0.485396\n",
        "         Iterations: 1956\n",
        "         Function evaluations: 1959\n",
        "         Gradient evaluations: 3914\n",
        "         Hessian evaluations: 1956\n",
        "Optimization terminated successfully."
       ]
      },
      {
       "output_type": "stream",
       "stream": "stdout",
       "text": [
        "\n",
        "         Current function value: 0.487623\n",
        "         Iterations: 7\n",
        "         Function evaluations: 8\n",
        "         Gradient evaluations: 14\n",
        "         Hessian evaluations: 7\n",
        "Optimization terminated successfully."
       ]
      },
      {
       "output_type": "stream",
       "stream": "stdout",
       "text": [
        "\n",
        "         Current function value: 0.487742\n",
        "         Iterations: 7\n",
        "         Function evaluations: 8\n",
        "         Gradient evaluations: 14\n",
        "         Hessian evaluations: 7\n",
        "Optimization terminated successfully."
       ]
      },
      {
       "output_type": "stream",
       "stream": "stdout",
       "text": [
        "\n",
        "         Current function value: 0.487122\n",
        "         Iterations: 10\n",
        "         Function evaluations: 11\n",
        "         Gradient evaluations: 20\n",
        "         Hessian evaluations: 10\n",
        "Optimization terminated successfully."
       ]
      },
      {
       "output_type": "stream",
       "stream": "stdout",
       "text": [
        "\n",
        "         Current function value: 0.486975\n",
        "         Iterations: 7\n",
        "         Function evaluations: 8\n",
        "         Gradient evaluations: 14\n",
        "         Hessian evaluations: 7\n",
        "Optimization terminated successfully."
       ]
      },
      {
       "output_type": "stream",
       "stream": "stdout",
       "text": [
        "\n",
        "         Current function value: 0.486984\n",
        "         Iterations: 7\n",
        "         Function evaluations: 8\n",
        "         Gradient evaluations: 14\n",
        "         Hessian evaluations: 7\n",
        "Warning: Maximum number of iterations has been exceeded."
       ]
      },
      {
       "output_type": "stream",
       "stream": "stdout",
       "text": [
        "\n",
        "         Current function value: 0.487597\n",
        "         Iterations: 2000\n",
        "         Function evaluations: 2001\n",
        "         Gradient evaluations: 4000\n",
        "         Hessian evaluations: 2000\n",
        "The model for ['LOCATION_Treatment_9999_T21'] did not converge\n",
        "Optimization terminated successfully."
       ]
      },
      {
       "output_type": "stream",
       "stream": "stdout",
       "text": [
        "\n",
        "         Current function value: 0.482318\n",
        "         Iterations: 8\n",
        "         Function evaluations: 9\n",
        "         Gradient evaluations: 16\n",
        "         Hessian evaluations: 8\n",
        "Optimization terminated successfully."
       ]
      },
      {
       "output_type": "stream",
       "stream": "stdout",
       "text": [
        "\n",
        "         Current function value: 0.487154\n",
        "         Iterations: 13\n",
        "         Function evaluations: 14\n",
        "         Gradient evaluations: 26\n",
        "         Hessian evaluations: 13\n",
        "Optimization terminated successfully."
       ]
      },
      {
       "output_type": "stream",
       "stream": "stdout",
       "text": [
        "\n",
        "         Current function value: 0.486833\n",
        "         Iterations: 8\n",
        "         Function evaluations: 9\n",
        "         Gradient evaluations: 16\n",
        "         Hessian evaluations: 8\n",
        "Optimization terminated successfully."
       ]
      },
      {
       "output_type": "stream",
       "stream": "stdout",
       "text": [
        "\n",
        "         Current function value: 0.487722\n",
        "         Iterations: 7\n",
        "         Function evaluations: 8\n",
        "         Gradient evaluations: 14\n",
        "         Hessian evaluations: 7\n",
        "Optimization terminated successfully."
       ]
      },
      {
       "output_type": "stream",
       "stream": "stdout",
       "text": [
        "\n",
        "         Current function value: 0.487718\n",
        "         Iterations: 9\n",
        "         Function evaluations: 10\n",
        "         Gradient evaluations: 18\n",
        "         Hessian evaluations: 9\n",
        "Optimization terminated successfully."
       ]
      },
      {
       "output_type": "stream",
       "stream": "stdout",
       "text": [
        "\n",
        "         Current function value: 0.487568\n",
        "         Iterations: 7\n",
        "         Function evaluations: 8\n",
        "         Gradient evaluations: 14\n",
        "         Hessian evaluations: 7\n",
        "Optimization terminated successfully."
       ]
      },
      {
       "output_type": "stream",
       "stream": "stdout",
       "text": [
        "\n",
        "         Current function value: 0.487573\n",
        "         Iterations: 9\n",
        "         Function evaluations: 11\n",
        "         Gradient evaluations: 19\n",
        "         Hessian evaluations: 9\n",
        "Optimization terminated successfully."
       ]
      },
      {
       "output_type": "stream",
       "stream": "stdout",
       "text": [
        "\n",
        "         Current function value: 0.487750\n",
        "         Iterations: 7\n",
        "         Function evaluations: 8\n",
        "         Gradient evaluations: 14\n",
        "         Hessian evaluations: 7\n",
        "Optimization terminated successfully."
       ]
      },
      {
       "output_type": "stream",
       "stream": "stdout",
       "text": [
        "\n",
        "         Current function value: 0.487650\n",
        "         Iterations: 7\n",
        "         Function evaluations: 8\n",
        "         Gradient evaluations: 14\n",
        "         Hessian evaluations: 7\n",
        "Optimization terminated successfully."
       ]
      },
      {
       "output_type": "stream",
       "stream": "stdout",
       "text": [
        "\n",
        "         Current function value: 0.487573\n",
        "         Iterations: 8\n",
        "         Function evaluations: 9\n",
        "         Gradient evaluations: 16\n",
        "         Hessian evaluations: 8\n",
        "Optimization terminated successfully."
       ]
      },
      {
       "output_type": "stream",
       "stream": "stdout",
       "text": [
        "\n",
        "         Current function value: 0.486930\n",
        "         Iterations: 8\n",
        "         Function evaluations: 9\n",
        "         Gradient evaluations: 16\n",
        "         Hessian evaluations: 8\n",
        "Warning: Maximum number of iterations has been exceeded."
       ]
      },
      {
       "output_type": "stream",
       "stream": "stdout",
       "text": [
        "\n",
        "         Current function value: 0.487597\n",
        "         Iterations: 2000\n",
        "         Function evaluations: 2001\n",
        "         Gradient evaluations: 4000\n",
        "         Hessian evaluations: 2000\n",
        "The model for ['V_CONFIG_Treatment_9999_T2'] did not converge\n",
        "Optimization terminated successfully."
       ]
      },
      {
       "output_type": "stream",
       "stream": "stdout",
       "text": [
        "\n",
        "         Current function value: 0.487517\n",
        "         Iterations: 7\n",
        "         Function evaluations: 8\n",
        "         Gradient evaluations: 14\n",
        "         Hessian evaluations: 7\n",
        "Optimization terminated successfully."
       ]
      },
      {
       "output_type": "stream",
       "stream": "stdout",
       "text": [
        "\n",
        "         Current function value: 0.486289\n",
        "         Iterations: 835\n",
        "         Function evaluations: 836\n",
        "         Gradient evaluations: 1670\n",
        "         Hessian evaluations: 835\n",
        "Optimization terminated successfully."
       ]
      },
      {
       "output_type": "stream",
       "stream": "stdout",
       "text": [
        "\n",
        "         Current function value: 0.487361\n",
        "         Iterations: 17\n",
        "         Function evaluations: 25\n",
        "         Gradient evaluations: 41\n",
        "         Hessian evaluations: 17\n",
        "Optimization terminated successfully."
       ]
      },
      {
       "output_type": "stream",
       "stream": "stdout",
       "text": [
        "\n",
        "         Current function value: 0.487737\n",
        "         Iterations: 7\n",
        "         Function evaluations: 8\n",
        "         Gradient evaluations: 14\n",
        "         Hessian evaluations: 7\n",
        "Optimization terminated successfully."
       ]
      },
      {
       "output_type": "stream",
       "stream": "stdout",
       "text": [
        "\n",
        "         Current function value: 0.487573\n",
        "         Iterations: 7\n",
        "         Function evaluations: 8\n",
        "         Gradient evaluations: 14\n",
        "         Hessian evaluations: 7\n",
        "Optimization terminated successfully."
       ]
      },
      {
       "output_type": "stream",
       "stream": "stdout",
       "text": [
        "\n",
        "         Current function value: 0.486830\n",
        "         Iterations: 8\n",
        "         Function evaluations: 9\n",
        "         Gradient evaluations: 16\n",
        "         Hessian evaluations: 8\n",
        "The base model plus ['CARGO_BT_Treatment_9999_T2'] is not of full rank.\n",
        "Optimization terminated successfully."
       ]
      },
      {
       "output_type": "stream",
       "stream": "stdout",
       "text": [
        "\n",
        "         Current function value: 0.487047\n",
        "         Iterations: 13\n",
        "         Function evaluations: 14\n",
        "         Gradient evaluations: 26\n",
        "         Hessian evaluations: 13\n",
        "Optimization terminated successfully."
       ]
      },
      {
       "output_type": "stream",
       "stream": "stdout",
       "text": [
        "\n",
        "         Current function value: 0.487649\n",
        "         Iterations: 6\n",
        "         Function evaluations: 7\n",
        "         Gradient evaluations: 12\n",
        "         Hessian evaluations: 6\n",
        "Optimization terminated successfully."
       ]
      },
      {
       "output_type": "stream",
       "stream": "stdout",
       "text": [
        "\n",
        "         Current function value: 0.487312\n",
        "         Iterations: 26\n",
        "         Function evaluations: 32\n",
        "         Gradient evaluations: 57\n",
        "         Hessian evaluations: 26\n",
        "Optimization terminated successfully."
       ]
      },
      {
       "output_type": "stream",
       "stream": "stdout",
       "text": [
        "\n",
        "         Current function value: 0.486997\n",
        "         Iterations: 13\n",
        "         Function evaluations: 14\n",
        "         Gradient evaluations: 26\n",
        "         Hessian evaluations: 13\n",
        "Optimization terminated successfully."
       ]
      },
      {
       "output_type": "stream",
       "stream": "stdout",
       "text": [
        "\n",
        "         Current function value: 0.487746\n",
        "         Iterations: 7\n",
        "         Function evaluations: 8\n",
        "         Gradient evaluations: 14\n",
        "         Hessian evaluations: 7\n",
        "Optimization terminated successfully."
       ]
      },
      {
       "output_type": "stream",
       "stream": "stdout",
       "text": [
        "\n",
        "         Current function value: 0.486703\n",
        "         Iterations: 7\n",
        "         Function evaluations: 8\n",
        "         Gradient evaluations: 14\n",
        "         Hessian evaluations: 7\n",
        "Optimization terminated successfully."
       ]
      },
      {
       "output_type": "stream",
       "stream": "stdout",
       "text": [
        "\n",
        "         Current function value: 0.486869\n",
        "         Iterations: 22\n",
        "         Function evaluations: 37\n",
        "         Gradient evaluations: 58\n",
        "         Hessian evaluations: 22\n",
        "Optimization terminated successfully."
       ]
      },
      {
       "output_type": "stream",
       "stream": "stdout",
       "text": [
        "\n",
        "         Current function value: 0.487577\n",
        "         Iterations: 10\n",
        "         Function evaluations: 11\n",
        "         Gradient evaluations: 20\n",
        "         Hessian evaluations: 10\n",
        "Warning: Maximum number of iterations has been exceeded."
       ]
      },
      {
       "output_type": "stream",
       "stream": "stdout",
       "text": [
        "\n",
        "         Current function value: 0.487597\n",
        "         Iterations: 2000\n",
        "         Function evaluations: 2001\n",
        "         Gradient evaluations: 4000\n",
        "         Hessian evaluations: 2000\n",
        "The model for ['BUS_USE_Treatment_9999_T1'] did not converge\n",
        "Optimization terminated successfully."
       ]
      },
      {
       "output_type": "stream",
       "stream": "stdout",
       "text": [
        "\n",
        "         Current function value: 0.486626\n",
        "         Iterations: 20\n",
        "         Function evaluations: 28\n",
        "         Gradient evaluations: 47\n",
        "         Hessian evaluations: 20\n",
        "Optimization terminated successfully."
       ]
      },
      {
       "output_type": "stream",
       "stream": "stdout",
       "text": [
        "\n",
        "         Current function value: 0.486223\n",
        "         Iterations: 12\n",
        "         Function evaluations: 13\n",
        "         Gradient evaluations: 24\n",
        "         Hessian evaluations: 12\n",
        "Optimization terminated successfully."
       ]
      },
      {
       "output_type": "stream",
       "stream": "stdout",
       "text": [
        "\n",
        "         Current function value: 0.486459\n",
        "         Iterations: 8\n",
        "         Function evaluations: 9\n",
        "         Gradient evaluations: 16\n",
        "         Hessian evaluations: 8\n",
        "Optimization terminated successfully."
       ]
      },
      {
       "output_type": "stream",
       "stream": "stdout",
       "text": [
        "\n",
        "         Current function value: 0.486579\n",
        "         Iterations: 8\n",
        "         Function evaluations: 9\n",
        "         Gradient evaluations: 16\n",
        "         Hessian evaluations: 8\n",
        "Optimization terminated successfully."
       ]
      },
      {
       "output_type": "stream",
       "stream": "stdout",
       "text": [
        "\n",
        "         Current function value: 0.486626\n",
        "         Iterations: 25\n",
        "         Function evaluations: 35\n",
        "         Gradient evaluations: 59\n",
        "         Hessian evaluations: 25\n",
        "Optimization terminated successfully."
       ]
      },
      {
       "output_type": "stream",
       "stream": "stdout",
       "text": [
        "\n",
        "         Current function value: 0.487613\n",
        "         Iterations: 7\n",
        "         Function evaluations: 8\n",
        "         Gradient evaluations: 14\n",
        "         Hessian evaluations: 7\n",
        "Optimization terminated successfully."
       ]
      },
      {
       "output_type": "stream",
       "stream": "stdout",
       "text": [
        "\n",
        "         Current function value: 0.486005\n",
        "         Iterations: 7\n",
        "         Function evaluations: 8\n",
        "         Gradient evaluations: 14\n",
        "         Hessian evaluations: 7\n",
        "The base model plus ['EMER_USE_vehDup_Treatment_9999_T1'] is not of full rank.\n",
        "Optimization terminated successfully."
       ]
      },
      {
       "output_type": "stream",
       "stream": "stdout",
       "text": [
        "\n",
        "         Current function value: 0.487312\n",
        "         Iterations: 17\n",
        "         Function evaluations: 28\n",
        "         Gradient evaluations: 44\n",
        "         Hessian evaluations: 17\n",
        "Optimization terminated successfully."
       ]
      },
      {
       "output_type": "stream",
       "stream": "stdout",
       "text": [
        "\n",
        "         Current function value: 0.486900\n",
        "         Iterations: 7\n",
        "         Function evaluations: 8\n",
        "         Gradient evaluations: 14\n",
        "         Hessian evaluations: 7\n",
        "Optimization terminated successfully."
       ]
      },
      {
       "output_type": "stream",
       "stream": "stdout",
       "text": [
        "\n",
        "         Current function value: 0.487649\n",
        "         Iterations: 7\n",
        "         Function evaluations: 8\n",
        "         Gradient evaluations: 14\n",
        "         Hessian evaluations: 7\n",
        "Optimization terminated successfully."
       ]
      },
      {
       "output_type": "stream",
       "stream": "stdout",
       "text": [
        "\n",
        "         Current function value: 0.487330\n",
        "         Iterations: 7\n",
        "         Function evaluations: 8\n",
        "         Gradient evaluations: 14\n",
        "         Hessian evaluations: 7\n",
        "Optimization terminated successfully."
       ]
      },
      {
       "output_type": "stream",
       "stream": "stdout",
       "text": [
        "\n",
        "         Current function value: 0.487751\n",
        "         Iterations: 7\n",
        "         Function evaluations: 8\n",
        "         Gradient evaluations: 14\n",
        "         Hessian evaluations: 7\n",
        "Optimization terminated successfully."
       ]
      },
      {
       "output_type": "stream",
       "stream": "stdout",
       "text": [
        "\n",
        "         Current function value: 0.487719\n",
        "         Iterations: 7\n",
        "         Function evaluations: 8\n",
        "         Gradient evaluations: 14\n",
        "         Hessian evaluations: 7\n",
        "Optimization terminated successfully."
       ]
      },
      {
       "output_type": "stream",
       "stream": "stdout",
       "text": [
        "\n",
        "         Current function value: 0.487732\n",
        "         Iterations: 7\n",
        "         Function evaluations: 8\n",
        "         Gradient evaluations: 14\n",
        "         Hessian evaluations: 7\n",
        "Optimization terminated successfully."
       ]
      },
      {
       "output_type": "stream",
       "stream": "stdout",
       "text": [
        "\n",
        "         Current function value: 0.487744\n",
        "         Iterations: 7\n",
        "         Function evaluations: 8\n",
        "         Gradient evaluations: 14\n",
        "         Hessian evaluations: 7\n",
        "Optimization terminated successfully."
       ]
      },
      {
       "output_type": "stream",
       "stream": "stdout",
       "text": [
        "\n",
        "         Current function value: 0.487709\n",
        "         Iterations: 7\n",
        "         Function evaluations: 8\n",
        "         Gradient evaluations: 14\n",
        "         Hessian evaluations: 7\n",
        "Optimization terminated successfully."
       ]
      },
      {
       "output_type": "stream",
       "stream": "stdout",
       "text": [
        "\n",
        "         Current function value: 0.487737\n",
        "         Iterations: 6\n",
        "         Function evaluations: 7\n",
        "         Gradient evaluations: 12\n",
        "         Hessian evaluations: 6\n",
        "Optimization terminated successfully."
       ]
      },
      {
       "output_type": "stream",
       "stream": "stdout",
       "text": [
        "\n",
        "         Current function value: 0.487043\n",
        "         Iterations: 7\n",
        "         Function evaluations: 8\n",
        "         Gradient evaluations: 14\n",
        "         Hessian evaluations: 7\n",
        "Optimization terminated successfully."
       ]
      },
      {
       "output_type": "stream",
       "stream": "stdout",
       "text": [
        "\n",
        "         Current function value: 0.487696\n",
        "         Iterations: 7\n",
        "         Function evaluations: 8\n",
        "         Gradient evaluations: 14\n",
        "         Hessian evaluations: 7\n",
        "Optimization terminated successfully."
       ]
      },
      {
       "output_type": "stream",
       "stream": "stdout",
       "text": [
        "\n",
        "         Current function value: 0.487539\n",
        "         Iterations: 7\n",
        "         Function evaluations: 8\n",
        "         Gradient evaluations: 14\n",
        "         Hessian evaluations: 7\n",
        "Optimization terminated successfully."
       ]
      },
      {
       "output_type": "stream",
       "stream": "stdout",
       "text": [
        "\n",
        "         Current function value: 0.487312\n",
        "         Iterations: 21\n",
        "         Function evaluations: 27\n",
        "         Gradient evaluations: 47\n",
        "         Hessian evaluations: 21\n",
        "Warning: Maximum number of iterations has been exceeded."
       ]
      },
      {
       "output_type": "stream",
       "stream": "stdout",
       "text": [
        "\n",
        "         Current function value: 0.487597\n",
        "         Iterations: 2000\n",
        "         Function evaluations: 2001\n",
        "         Gradient evaluations: 4000\n",
        "         Hessian evaluations: 2000\n",
        "The model for ['IMPACT2_vehDup_Treatment_9999_T14'] did not converge\n",
        "Warning: Maximum number of iterations has been exceeded."
       ]
      },
      {
       "output_type": "stream",
       "stream": "stdout",
       "text": [
        "\n",
        "         Current function value: 0.487441\n",
        "         Iterations: 2000\n",
        "         Function evaluations: 2001\n",
        "         Gradient evaluations: 4000\n",
        "         Hessian evaluations: 2000\n",
        "The model for ['IMPACT2_vehDup_Treatment_9999_T61'] did not converge\n",
        "Optimization terminated successfully."
       ]
      },
      {
       "output_type": "stream",
       "stream": "stdout",
       "text": [
        "\n",
        "         Current function value: 0.487183\n",
        "         Iterations: 7\n",
        "         Function evaluations: 8\n",
        "         Gradient evaluations: 14\n",
        "         Hessian evaluations: 7\n",
        "Optimization terminated successfully."
       ]
      },
      {
       "output_type": "stream",
       "stream": "stdout",
       "text": [
        "\n",
        "         Current function value: 0.487510\n",
        "         Iterations: 7\n",
        "         Function evaluations: 8\n",
        "         Gradient evaluations: 14\n",
        "         Hessian evaluations: 7\n",
        "Optimization terminated successfully."
       ]
      },
      {
       "output_type": "stream",
       "stream": "stdout",
       "text": [
        "\n",
        "         Current function value: 0.487723\n",
        "         Iterations: 7\n",
        "         Function evaluations: 8\n",
        "         Gradient evaluations: 14\n",
        "         Hessian evaluations: 7\n",
        "Optimization terminated successfully."
       ]
      },
      {
       "output_type": "stream",
       "stream": "stdout",
       "text": [
        "\n",
        "         Current function value: 0.487497\n",
        "         Iterations: 8\n",
        "         Function evaluations: 9\n",
        "         Gradient evaluations: 16\n",
        "         Hessian evaluations: 8\n",
        "Optimization terminated successfully."
       ]
      },
      {
       "output_type": "stream",
       "stream": "stdout",
       "text": [
        "\n",
        "         Current function value: 0.487672\n",
        "         Iterations: 7\n",
        "         Function evaluations: 8\n",
        "         Gradient evaluations: 14\n",
        "         Hessian evaluations: 7\n",
        "Optimization terminated successfully."
       ]
      },
      {
       "output_type": "stream",
       "stream": "stdout",
       "text": [
        "\n",
        "         Current function value: 0.487600\n",
        "         Iterations: 9\n",
        "         Function evaluations: 10\n",
        "         Gradient evaluations: 18\n",
        "         Hessian evaluations: 9\n",
        "Optimization terminated successfully."
       ]
      },
      {
       "output_type": "stream",
       "stream": "stdout",
       "text": [
        "\n",
        "         Current function value: 0.487405\n",
        "         Iterations: 7\n",
        "         Function evaluations: 8\n",
        "         Gradient evaluations: 14\n",
        "         Hessian evaluations: 7\n",
        "Optimization terminated successfully."
       ]
      },
      {
       "output_type": "stream",
       "stream": "stdout",
       "text": [
        "\n",
        "         Current function value: 0.487341\n",
        "         Iterations: 7\n",
        "         Function evaluations: 8\n",
        "         Gradient evaluations: 14\n",
        "         Hessian evaluations: 7\n",
        "Optimization terminated successfully."
       ]
      },
      {
       "output_type": "stream",
       "stream": "stdout",
       "text": [
        "\n",
        "         Current function value: 0.487341\n",
        "         Iterations: 8\n",
        "         Function evaluations: 9\n",
        "         Gradient evaluations: 16\n",
        "         Hessian evaluations: 8\n",
        "Optimization terminated successfully."
       ]
      },
      {
       "output_type": "stream",
       "stream": "stdout",
       "text": [
        "\n",
        "         Current function value: 0.487055\n",
        "         Iterations: 7\n",
        "         Function evaluations: 8\n",
        "         Gradient evaluations: 14\n",
        "         Hessian evaluations: 7\n",
        "Optimization terminated successfully."
       ]
      },
      {
       "output_type": "stream",
       "stream": "stdout",
       "text": [
        "\n",
        "         Current function value: 0.487741\n",
        "         Iterations: 7\n",
        "         Function evaluations: 8\n",
        "         Gradient evaluations: 14\n",
        "         Hessian evaluations: 7\n",
        "Optimization terminated successfully."
       ]
      },
      {
       "output_type": "stream",
       "stream": "stdout",
       "text": [
        "\n",
        "         Current function value: 0.485622\n",
        "         Iterations: 7\n",
        "         Function evaluations: 8\n",
        "         Gradient evaluations: 14\n",
        "         Hessian evaluations: 7\n",
        "Optimization terminated successfully."
       ]
      },
      {
       "output_type": "stream",
       "stream": "stdout",
       "text": [
        "\n",
        "         Current function value: 0.487348\n",
        "         Iterations: 8\n",
        "         Function evaluations: 9\n",
        "         Gradient evaluations: 16\n",
        "         Hessian evaluations: 8\n",
        "Optimization terminated successfully."
       ]
      },
      {
       "output_type": "stream",
       "stream": "stdout",
       "text": [
        "\n",
        "         Current function value: 0.486964\n",
        "         Iterations: 10\n",
        "         Function evaluations: 11\n",
        "         Gradient evaluations: 20\n",
        "         Hessian evaluations: 10\n",
        "Optimization terminated successfully."
       ]
      },
      {
       "output_type": "stream",
       "stream": "stdout",
       "text": [
        "\n",
        "         Current function value: 0.487341\n",
        "         Iterations: 7\n",
        "         Function evaluations: 8\n",
        "         Gradient evaluations: 14\n",
        "         Hessian evaluations: 7\n",
        "Optimization terminated successfully."
       ]
      },
      {
       "output_type": "stream",
       "stream": "stdout",
       "text": [
        "\n",
        "         Current function value: 0.487322\n",
        "         Iterations: 8\n",
        "         Function evaluations: 9\n",
        "         Gradient evaluations: 16\n",
        "         Hessian evaluations: 8\n",
        "Optimization terminated successfully."
       ]
      },
      {
       "output_type": "stream",
       "stream": "stdout",
       "text": [
        "\n",
        "         Current function value: 0.487118\n",
        "         Iterations: 7\n",
        "         Function evaluations: 8\n",
        "         Gradient evaluations: 14\n",
        "         Hessian evaluations: 7\n",
        "Optimization terminated successfully."
       ]
      },
      {
       "output_type": "stream",
       "stream": "stdout",
       "text": [
        "\n",
        "         Current function value: 0.487720\n",
        "         Iterations: 7\n",
        "         Function evaluations: 8\n",
        "         Gradient evaluations: 14\n",
        "         Hessian evaluations: 7\n",
        "Optimization terminated successfully."
       ]
      },
      {
       "output_type": "stream",
       "stream": "stdout",
       "text": [
        "\n",
        "         Current function value: 0.485857\n",
        "         Iterations: 7\n",
        "         Function evaluations: 8\n",
        "         Gradient evaluations: 14\n",
        "         Hessian evaluations: 7\n",
        "Optimization terminated successfully."
       ]
      },
      {
       "output_type": "stream",
       "stream": "stdout",
       "text": [
        "\n",
        "         Current function value: 0.487341\n",
        "         Iterations: 7\n",
        "         Function evaluations: 8\n",
        "         Gradient evaluations: 14\n",
        "         Hessian evaluations: 7\n",
        "Optimization terminated successfully."
       ]
      },
      {
       "output_type": "stream",
       "stream": "stdout",
       "text": [
        "\n",
        "         Current function value: 0.485262\n",
        "         Iterations: 10\n",
        "         Function evaluations: 11\n",
        "         Gradient evaluations: 20\n",
        "         Hessian evaluations: 10\n",
        "Optimization terminated successfully."
       ]
      },
      {
       "output_type": "stream",
       "stream": "stdout",
       "text": [
        "\n",
        "         Current function value: 0.487678\n",
        "         Iterations: 7\n",
        "         Function evaluations: 8\n",
        "         Gradient evaluations: 14\n",
        "         Hessian evaluations: 7\n",
        "Optimization terminated successfully."
       ]
      },
      {
       "output_type": "stream",
       "stream": "stdout",
       "text": [
        "\n",
        "         Current function value: 0.486900\n",
        "         Iterations: 8\n",
        "         Function evaluations: 9\n",
        "         Gradient evaluations: 16\n",
        "         Hessian evaluations: 8\n",
        "Optimization terminated successfully."
       ]
      },
      {
       "output_type": "stream",
       "stream": "stdout",
       "text": [
        "\n",
        "         Current function value: 0.487437\n",
        "         Iterations: 7\n",
        "         Function evaluations: 8\n",
        "         Gradient evaluations: 14\n",
        "         Hessian evaluations: 7\n",
        "Optimization terminated successfully."
       ]
      },
      {
       "output_type": "stream",
       "stream": "stdout",
       "text": [
        "\n",
        "         Current function value: 0.487728\n",
        "         Iterations: 7\n",
        "         Function evaluations: 8\n",
        "         Gradient evaluations: 14\n",
        "         Hessian evaluations: 7\n",
        "Optimization terminated successfully."
       ]
      },
      {
       "output_type": "stream",
       "stream": "stdout",
       "text": [
        "\n",
        "         Current function value: 0.487671\n",
        "         Iterations: 7\n",
        "         Function evaluations: 8\n",
        "         Gradient evaluations: 14\n",
        "         Hessian evaluations: 7\n",
        "Optimization terminated successfully."
       ]
      },
      {
       "output_type": "stream",
       "stream": "stdout",
       "text": [
        "\n",
        "         Current function value: 0.487341\n",
        "         Iterations: 9\n",
        "         Function evaluations: 10\n",
        "         Gradient evaluations: 18\n",
        "         Hessian evaluations: 9\n",
        "Optimization terminated successfully."
       ]
      },
      {
       "output_type": "stream",
       "stream": "stdout",
       "text": [
        "\n",
        "         Current function value: 0.487107\n",
        "         Iterations: 8\n",
        "         Function evaluations: 9\n",
        "         Gradient evaluations: 16\n",
        "         Hessian evaluations: 8\n",
        "Optimization terminated successfully."
       ]
      },
      {
       "output_type": "stream",
       "stream": "stdout",
       "text": [
        "\n",
        "         Current function value: 0.487508\n",
        "         Iterations: 9\n",
        "         Function evaluations: 10\n",
        "         Gradient evaluations: 18\n",
        "         Hessian evaluations: 9\n",
        "Optimization terminated successfully."
       ]
      },
      {
       "output_type": "stream",
       "stream": "stdout",
       "text": [
        "\n",
        "         Current function value: 0.487487\n",
        "         Iterations: 37\n",
        "         Function evaluations: 45\n",
        "         Gradient evaluations: 81\n",
        "         Hessian evaluations: 37\n",
        "Optimization terminated successfully."
       ]
      },
      {
       "output_type": "stream",
       "stream": "stdout",
       "text": [
        "\n",
        "         Current function value: 0.486753\n",
        "         Iterations: 22\n",
        "         Function evaluations: 31\n",
        "         Gradient evaluations: 52\n",
        "         Hessian evaluations: 22\n",
        "Optimization terminated successfully."
       ]
      },
      {
       "output_type": "stream",
       "stream": "stdout",
       "text": [
        "\n",
        "         Current function value: 0.487312\n",
        "         Iterations: 10\n",
        "         Function evaluations: 11\n",
        "         Gradient evaluations: 20\n",
        "         Hessian evaluations: 10\n",
        "Optimization terminated successfully."
       ]
      },
      {
       "output_type": "stream",
       "stream": "stdout",
       "text": [
        "\n",
        "         Current function value: 0.487579\n",
        "         Iterations: 8\n",
        "         Function evaluations: 9\n",
        "         Gradient evaluations: 16\n",
        "         Hessian evaluations: 8\n",
        "Optimization terminated successfully."
       ]
      },
      {
       "output_type": "stream",
       "stream": "stdout",
       "text": [
        "\n",
        "         Current function value: 0.487022\n",
        "         Iterations: 7\n",
        "         Function evaluations: 8\n",
        "         Gradient evaluations: 14\n",
        "         Hessian evaluations: 7\n",
        "Optimization terminated successfully."
       ]
      },
      {
       "output_type": "stream",
       "stream": "stdout",
       "text": [
        "\n",
        "         Current function value: 0.487728\n",
        "         Iterations: 8\n",
        "         Function evaluations: 9\n",
        "         Gradient evaluations: 16\n",
        "         Hessian evaluations: 8\n",
        "Warning: Maximum number of iterations has been exceeded."
       ]
      },
      {
       "output_type": "stream",
       "stream": "stdout",
       "text": [
        "\n",
        "         Current function value: 0.487204\n",
        "         Iterations: 2000\n",
        "         Function evaluations: 2004\n",
        "         Gradient evaluations: 4003\n",
        "         Hessian evaluations: 2000\n",
        "The model for ['VTRAFCON_Treatment_9999_T4'] did not converge\n",
        "Optimization terminated successfully."
       ]
      },
      {
       "output_type": "stream",
       "stream": "stdout",
       "text": [
        "\n",
        "         Current function value: 0.486729\n",
        "         Iterations: 6\n",
        "         Function evaluations: 7\n",
        "         Gradient evaluations: 12\n",
        "         Hessian evaluations: 6\n",
        "Optimization terminated successfully."
       ]
      },
      {
       "output_type": "stream",
       "stream": "stdout",
       "text": [
        "\n",
        "         Current function value: 0.487751\n",
        "         Iterations: 7\n",
        "         Function evaluations: 8\n",
        "         Gradient evaluations: 14\n",
        "         Hessian evaluations: 7\n",
        "The base model plus ['VTRAFCON_Treatment_9999_T40'] is not of full rank.\n",
        "Optimization terminated successfully."
       ]
      },
      {
       "output_type": "stream",
       "stream": "stdout",
       "text": [
        "\n",
        "         Current function value: 0.487448\n",
        "         Iterations: 10\n",
        "         Function evaluations: 11\n",
        "         Gradient evaluations: 20\n",
        "         Hessian evaluations: 10\n",
        "Optimization terminated successfully."
       ]
      },
      {
       "output_type": "stream",
       "stream": "stdout",
       "text": [
        "\n",
        "         Current function value: 0.487579\n",
        "         Iterations: 7\n",
        "         Function evaluations: 8\n",
        "         Gradient evaluations: 14\n",
        "         Hessian evaluations: 7\n",
        "Optimization terminated successfully."
       ]
      },
      {
       "output_type": "stream",
       "stream": "stdout",
       "text": [
        "\n",
        "         Current function value: 0.487595\n",
        "         Iterations: 15\n",
        "         Function evaluations: 18\n",
        "         Gradient evaluations: 32\n",
        "         Hessian evaluations: 15\n",
        "Optimization terminated successfully."
       ]
      },
      {
       "output_type": "stream",
       "stream": "stdout",
       "text": [
        "\n",
        "         Current function value: 0.487709\n",
        "         Iterations: 10\n",
        "         Function evaluations: 11\n",
        "         Gradient evaluations: 20\n",
        "         Hessian evaluations: 10\n",
        "Optimization terminated successfully."
       ]
      },
      {
       "output_type": "stream",
       "stream": "stdout",
       "text": [
        "\n",
        "         Current function value: 0.487361\n",
        "         Iterations: 24\n",
        "         Function evaluations: 31\n",
        "         Gradient evaluations: 54\n",
        "         Hessian evaluations: 24\n",
        "The base model plus ['P_CRASH2_Treatment_9999_T6'] is not of full rank.\n",
        "Optimization terminated successfully."
       ]
      },
      {
       "output_type": "stream",
       "stream": "stdout",
       "text": [
        "\n",
        "         Current function value: 0.487644\n",
        "         Iterations: 7\n",
        "         Function evaluations: 8\n",
        "         Gradient evaluations: 14\n",
        "         Hessian evaluations: 7\n",
        "Optimization terminated successfully."
       ]
      },
      {
       "output_type": "stream",
       "stream": "stdout",
       "text": [
        "\n",
        "         Current function value: 0.487751\n",
        "         Iterations: 8\n",
        "         Function evaluations: 9\n",
        "         Gradient evaluations: 16\n",
        "         Hessian evaluations: 8\n",
        "Optimization terminated successfully."
       ]
      },
      {
       "output_type": "stream",
       "stream": "stdout",
       "text": [
        "\n",
        "         Current function value: 0.486028\n",
        "         Iterations: 7\n",
        "         Function evaluations: 8\n",
        "         Gradient evaluations: 14\n",
        "         Hessian evaluations: 7\n",
        "Optimization terminated successfully."
       ]
      },
      {
       "output_type": "stream",
       "stream": "stdout",
       "text": [
        "\n",
        "         Current function value: 0.487534\n",
        "         Iterations: 7\n",
        "         Function evaluations: 8\n",
        "         Gradient evaluations: 14\n",
        "         Hessian evaluations: 7\n",
        "Optimization terminated successfully.\n",
        "         Current function value: 0.485660\n",
        "         Iterations: 7\n",
        "         Function evaluations: 8\n",
        "         Gradient evaluations: 14\n",
        "         Hessian evaluations: 7\n",
        "Optimization terminated successfully."
       ]
      },
      {
       "output_type": "stream",
       "stream": "stdout",
       "text": [
        "\n",
        "         Current function value: 0.485360\n",
        "         Iterations: 7\n",
        "         Function evaluations: 8\n",
        "         Gradient evaluations: 14\n",
        "         Hessian evaluations: 7\n",
        "Optimization terminated successfully."
       ]
      },
      {
       "output_type": "stream",
       "stream": "stdout",
       "text": [
        "\n",
        "         Current function value: 0.487750\n",
        "         Iterations: 7\n",
        "         Function evaluations: 8\n",
        "         Gradient evaluations: 14\n",
        "         Hessian evaluations: 7\n",
        "The base model plus ['P_CRASH2_Treatment_9999_T18'] is not of full rank.\n",
        "Warning: Maximum number of iterations has been exceeded."
       ]
      },
      {
       "output_type": "stream",
       "stream": "stdout",
       "text": [
        "\n",
        "         Current function value: 0.487597\n",
        "         Iterations: 2000\n",
        "         Function evaluations: 2001\n",
        "         Gradient evaluations: 4000\n",
        "         Hessian evaluations: 2000\n",
        "The model for ['P_CRASH2_Treatment_9999_T51'] did not converge\n",
        "The base model plus ['P_CRASH2_Treatment_9999_T64'] is not of full rank.\n",
        "Optimization terminated successfully."
       ]
      },
      {
       "output_type": "stream",
       "stream": "stdout",
       "text": [
        "\n",
        "         Current function value: 0.487105\n",
        "         Iterations: 7\n",
        "         Function evaluations: 8\n",
        "         Gradient evaluations: 14\n",
        "         Hessian evaluations: 7\n",
        "The base model plus ['P_CRASH2_Treatment_9999_T81'] is not of full rank.\n",
        "Warning: Maximum number of iterations has been exceeded."
       ]
      },
      {
       "output_type": "stream",
       "stream": "stdout",
       "text": [
        "\n",
        "         Current function value: 0.487597\n",
        "         Iterations: 2000\n",
        "         Function evaluations: 2001\n",
        "         Gradient evaluations: 4000\n",
        "         Hessian evaluations: 2000\n",
        "The model for ['P_CRASH2_Treatment_9999_T82'] did not converge\n",
        "Optimization terminated successfully."
       ]
      },
      {
       "output_type": "stream",
       "stream": "stdout",
       "text": [
        "\n",
        "         Current function value: 0.487614\n",
        "         Iterations: 8\n",
        "         Function evaluations: 9\n",
        "         Gradient evaluations: 16\n",
        "         Hessian evaluations: 8\n",
        "Optimization terminated successfully."
       ]
      },
      {
       "output_type": "stream",
       "stream": "stdout",
       "text": [
        "\n",
        "         Current function value: 0.487284\n",
        "         Iterations: 7\n",
        "         Function evaluations: 8\n",
        "         Gradient evaluations: 14\n",
        "         Hessian evaluations: 7\n",
        "Optimization terminated successfully."
       ]
      },
      {
       "output_type": "stream",
       "stream": "stdout",
       "text": [
        "\n",
        "         Current function value: 0.486812\n",
        "         Iterations: 13\n",
        "         Function evaluations: 16\n",
        "         Gradient evaluations: 28\n",
        "         Hessian evaluations: 13\n",
        "Optimization terminated successfully."
       ]
      },
      {
       "output_type": "stream",
       "stream": "stdout",
       "text": [
        "\n",
        "         Current function value: 0.487573\n",
        "         Iterations: 7\n",
        "         Function evaluations: 8\n",
        "         Gradient evaluations: 14\n",
        "         Hessian evaluations: 7\n",
        "Optimization terminated successfully."
       ]
      },
      {
       "output_type": "stream",
       "stream": "stdout",
       "text": [
        "\n",
        "         Current function value: 0.485882\n",
        "         Iterations: 948\n",
        "         Function evaluations: 949\n",
        "         Gradient evaluations: 1896\n",
        "         Hessian evaluations: 948\n",
        "Optimization terminated successfully."
       ]
      },
      {
       "output_type": "stream",
       "stream": "stdout",
       "text": [
        "\n",
        "         Current function value: 0.487501\n",
        "         Iterations: 8\n",
        "         Function evaluations: 9\n",
        "         Gradient evaluations: 16\n",
        "         Hessian evaluations: 8\n",
        "Optimization terminated successfully."
       ]
      },
      {
       "output_type": "stream",
       "stream": "stdout",
       "text": [
        "\n",
        "         Current function value: 0.486603\n",
        "         Iterations: 7\n",
        "         Function evaluations: 8\n",
        "         Gradient evaluations: 14\n",
        "         Hessian evaluations: 7\n",
        "Optimization terminated successfully."
       ]
      },
      {
       "output_type": "stream",
       "stream": "stdout",
       "text": [
        "\n",
        "         Current function value: 0.485402\n",
        "         Iterations: 7\n",
        "         Function evaluations: 8\n",
        "         Gradient evaluations: 14\n",
        "         Hessian evaluations: 7\n",
        "Warning: Maximum number of iterations has been exceeded."
       ]
      },
      {
       "output_type": "stream",
       "stream": "stdout",
       "text": [
        "\n",
        "         Current function value: 0.487312\n",
        "         Iterations: 2000\n",
        "         Function evaluations: 2004\n",
        "         Gradient evaluations: 4003\n",
        "         Hessian evaluations: 2000\n",
        "The model for ['P_CRASH3_Treatment_9999_T4'] did not converge\n",
        "Optimization terminated successfully."
       ]
      },
      {
       "output_type": "stream",
       "stream": "stdout",
       "text": [
        "\n",
        "         Current function value: 0.485796\n",
        "         Iterations: 7\n",
        "         Function evaluations: 8\n",
        "         Gradient evaluations: 14\n",
        "         Hessian evaluations: 7\n",
        "Optimization terminated successfully."
       ]
      },
      {
       "output_type": "stream",
       "stream": "stdout",
       "text": [
        "\n",
        "         Current function value: 0.487738\n",
        "         Iterations: 7\n",
        "         Function evaluations: 8\n",
        "         Gradient evaluations: 14\n",
        "         Hessian evaluations: 7\n",
        "Warning: Maximum number of iterations has been exceeded."
       ]
      },
      {
       "output_type": "stream",
       "stream": "stdout",
       "text": [
        "\n",
        "         Current function value: 0.486504\n",
        "         Iterations: 2000\n",
        "         Function evaluations: 2001\n",
        "         Gradient evaluations: 4000\n",
        "         Hessian evaluations: 2000\n",
        "The model for ['P_CRASH3_Treatment_9999_T8'] did not converge\n",
        "Optimization terminated successfully."
       ]
      },
      {
       "output_type": "stream",
       "stream": "stdout",
       "text": [
        "\n",
        "         Current function value: 0.487747\n",
        "         Iterations: 6\n",
        "         Function evaluations: 7\n",
        "         Gradient evaluations: 12\n",
        "         Hessian evaluations: 6\n",
        "Optimization terminated successfully."
       ]
      },
      {
       "output_type": "stream",
       "stream": "stdout",
       "text": [
        "\n",
        "         Current function value: 0.487595\n",
        "         Iterations: 10\n",
        "         Function evaluations: 11\n",
        "         Gradient evaluations: 20\n",
        "         Hessian evaluations: 10\n",
        "Optimization terminated successfully."
       ]
      },
      {
       "output_type": "stream",
       "stream": "stdout",
       "text": [
        "\n",
        "         Current function value: 0.485881\n",
        "         Iterations: 9\n",
        "         Function evaluations: 10\n",
        "         Gradient evaluations: 18\n",
        "         Hessian evaluations: 9\n",
        "Optimization terminated successfully."
       ]
      },
      {
       "output_type": "stream",
       "stream": "stdout",
       "text": [
        "\n",
        "         Current function value: 0.487428\n",
        "         Iterations: 8\n",
        "         Function evaluations: 9\n",
        "         Gradient evaluations: 16\n",
        "         Hessian evaluations: 8\n",
        "Optimization terminated successfully."
       ]
      },
      {
       "output_type": "stream",
       "stream": "stdout",
       "text": [
        "\n",
        "         Current function value: 0.487419\n",
        "         Iterations: 7\n",
        "         Function evaluations: 8\n",
        "         Gradient evaluations: 14\n",
        "         Hessian evaluations: 7\n",
        "Optimization terminated successfully."
       ]
      },
      {
       "output_type": "stream",
       "stream": "stdout",
       "text": [
        "\n",
        "         Current function value: 0.485882\n",
        "         Iterations: 1806\n",
        "         Function evaluations: 1807\n",
        "         Gradient evaluations: 3612\n",
        "         Hessian evaluations: 1806\n",
        "Optimization terminated successfully."
       ]
      },
      {
       "output_type": "stream",
       "stream": "stdout",
       "text": [
        "\n",
        "         Current function value: 0.485798\n",
        "         Iterations: 8\n",
        "         Function evaluations: 9\n",
        "         Gradient evaluations: 16\n",
        "         Hessian evaluations: 8\n",
        "Optimization terminated successfully."
       ]
      },
      {
       "output_type": "stream",
       "stream": "stdout",
       "text": [
        "\n",
        "         Current function value: 0.487751\n",
        "         Iterations: 7\n",
        "         Function evaluations: 8\n",
        "         Gradient evaluations: 14\n",
        "         Hessian evaluations: 7\n",
        "Optimization terminated successfully."
       ]
      },
      {
       "output_type": "stream",
       "stream": "stdout",
       "text": [
        "\n",
        "         Current function value: 0.487266\n",
        "         Iterations: 7\n",
        "         Function evaluations: 8\n",
        "         Gradient evaluations: 14\n",
        "         Hessian evaluations: 7\n",
        "Optimization terminated successfully."
       ]
      },
      {
       "output_type": "stream",
       "stream": "stdout",
       "text": [
        "\n",
        "         Current function value: 0.487553\n",
        "         Iterations: 7\n",
        "         Function evaluations: 8\n",
        "         Gradient evaluations: 14\n",
        "         Hessian evaluations: 7\n",
        "Optimization terminated successfully."
       ]
      },
      {
       "output_type": "stream",
       "stream": "stdout",
       "text": [
        "\n",
        "         Current function value: 0.487548\n",
        "         Iterations: 7\n",
        "         Function evaluations: 8\n",
        "         Gradient evaluations: 14\n",
        "         Hessian evaluations: 7\n",
        "Optimization terminated successfully."
       ]
      },
      {
       "output_type": "stream",
       "stream": "stdout",
       "text": [
        "\n",
        "         Current function value: 0.485465\n",
        "         Iterations: 7\n",
        "         Function evaluations: 8\n",
        "         Gradient evaluations: 14\n",
        "         Hessian evaluations: 7\n",
        "Optimization terminated successfully."
       ]
      },
      {
       "output_type": "stream",
       "stream": "stdout",
       "text": [
        "\n",
        "         Current function value: 0.486997\n",
        "         Iterations: 12\n",
        "         Function evaluations: 13\n",
        "         Gradient evaluations: 24\n",
        "         Hessian evaluations: 12\n",
        "The base model plus ['ACC_TYPE_Treatment_9999_T2'] is not of full rank.\n",
        "Warning: Maximum number of iterations has been exceeded."
       ]
      },
      {
       "output_type": "stream",
       "stream": "stdout",
       "text": [
        "\n",
        "         Current function value: 0.487597\n",
        "         Iterations: 2000\n",
        "         Function evaluations: 2001\n",
        "         Gradient evaluations: 4000\n",
        "         Hessian evaluations: 2000\n",
        "The model for ['ACC_TYPE_Treatment_9999_T6'] did not converge\n",
        "Optimization terminated successfully."
       ]
      },
      {
       "output_type": "stream",
       "stream": "stdout",
       "text": [
        "\n",
        "         Current function value: 0.487735\n",
        "         Iterations: 6\n",
        "         Function evaluations: 7\n",
        "         Gradient evaluations: 12\n",
        "         Hessian evaluations: 6\n",
        "The base model plus ['ACC_TYPE_Treatment_9999_T50'] is not of full rank.\n",
        "Optimization terminated successfully."
       ]
      },
      {
       "output_type": "stream",
       "stream": "stdout",
       "text": [
        "\n",
        "         Current function value: 0.486488\n",
        "         Iterations: 10\n",
        "         Function evaluations: 11\n",
        "         Gradient evaluations: 20\n",
        "         Hessian evaluations: 10\n",
        "Optimization terminated successfully."
       ]
      },
      {
       "output_type": "stream",
       "stream": "stdout",
       "text": [
        "\n",
        "         Current function value: 0.487555\n",
        "         Iterations: 8\n",
        "         Function evaluations: 9\n",
        "         Gradient evaluations: 16\n",
        "         Hessian evaluations: 8\n",
        "Optimization terminated successfully."
       ]
      },
      {
       "output_type": "stream",
       "stream": "stdout",
       "text": [
        "\n",
        "         Current function value: 0.486159\n",
        "         Iterations: 8\n",
        "         Function evaluations: 9\n",
        "         Gradient evaluations: 16\n",
        "         Hessian evaluations: 8\n",
        "Optimization terminated successfully."
       ]
      },
      {
       "output_type": "stream",
       "stream": "stdout",
       "text": [
        "\n",
        "         Current function value: 0.485094\n",
        "         Iterations: 18\n",
        "         Function evaluations: 19\n",
        "         Gradient evaluations: 36\n",
        "         Hessian evaluations: 18\n",
        "Optimization terminated successfully."
       ]
      },
      {
       "output_type": "stream",
       "stream": "stdout",
       "text": [
        "\n",
        "         Current function value: 0.487742\n",
        "         Iterations: 7\n",
        "         Function evaluations: 8\n",
        "         Gradient evaluations: 14\n",
        "         Hessian evaluations: 7\n",
        "Optimization terminated successfully."
       ]
      },
      {
       "output_type": "stream",
       "stream": "stdout",
       "text": [
        "\n",
        "         Current function value: 0.487717\n",
        "         Iterations: 7\n",
        "         Function evaluations: 8\n",
        "         Gradient evaluations: 14\n",
        "         Hessian evaluations: 7\n",
        "Optimization terminated successfully.\n",
        "         Current function value: 0.486064\n",
        "         Iterations: 7"
       ]
      },
      {
       "output_type": "stream",
       "stream": "stdout",
       "text": [
        "\n",
        "         Function evaluations: 8\n",
        "         Gradient evaluations: 14\n",
        "         Hessian evaluations: 7\n",
        "Optimization terminated successfully."
       ]
      },
      {
       "output_type": "stream",
       "stream": "stdout",
       "text": [
        "\n",
        "         Current function value: 0.487516\n",
        "         Iterations: 7\n",
        "         Function evaluations: 8\n",
        "         Gradient evaluations: 14\n",
        "         Hessian evaluations: 7\n",
        "Optimization terminated successfully."
       ]
      },
      {
       "output_type": "stream",
       "stream": "stdout",
       "text": [
        "\n",
        "         Current function value: 0.487442\n",
        "         Iterations: 7\n",
        "         Function evaluations: 8\n",
        "         Gradient evaluations: 14\n",
        "         Hessian evaluations: 7\n",
        "Optimization terminated successfully."
       ]
      },
      {
       "output_type": "stream",
       "stream": "stdout",
       "text": [
        "\n",
        "         Current function value: 0.482369\n",
        "         Iterations: 7\n",
        "         Function evaluations: 8\n",
        "         Gradient evaluations: 14\n",
        "         Hessian evaluations: 7\n",
        "The base model plus ['BDYTYP_IM_T12'] is not of full rank.\n",
        "Optimization terminated successfully."
       ]
      },
      {
       "output_type": "stream",
       "stream": "stdout",
       "text": [
        "\n",
        "         Current function value: 0.485996\n",
        "         Iterations: 7\n",
        "         Function evaluations: 8\n",
        "         Gradient evaluations: 14\n",
        "         Hessian evaluations: 7\n",
        "Optimization terminated successfully."
       ]
      },
      {
       "output_type": "stream",
       "stream": "stdout",
       "text": [
        "\n",
        "         Current function value: 0.487586\n",
        "         Iterations: 8\n",
        "         Function evaluations: 9\n",
        "         Gradient evaluations: 16\n",
        "         Hessian evaluations: 8\n",
        "The base model plus ['BDYTYP_IM_T16'] is not of full rank.\n",
        "Warning: Maximum number of iterations has been exceeded."
       ]
      },
      {
       "output_type": "stream",
       "stream": "stdout",
       "text": [
        "\n",
        "         Current function value: 0.487597\n",
        "         Iterations: 2000\n",
        "         Function evaluations: 2001\n",
        "         Gradient evaluations: 4000\n",
        "         Hessian evaluations: 2000\n",
        "The model for ['BDYTYP_IM_T17'] did not converge\n",
        "Optimization terminated successfully."
       ]
      },
      {
       "output_type": "stream",
       "stream": "stdout",
       "text": [
        "\n",
        "         Current function value: 0.487749\n",
        "         Iterations: 7\n",
        "         Function evaluations: 8\n",
        "         Gradient evaluations: 14\n",
        "         Hessian evaluations: 7\n",
        "Optimization terminated successfully."
       ]
      },
      {
       "output_type": "stream",
       "stream": "stdout",
       "text": [
        "\n",
        "         Current function value: 0.487734\n",
        "         Iterations: 7\n",
        "         Function evaluations: 8\n",
        "         Gradient evaluations: 14\n",
        "         Hessian evaluations: 7\n",
        "Optimization terminated successfully."
       ]
      },
      {
       "output_type": "stream",
       "stream": "stdout",
       "text": [
        "\n",
        "         Current function value: 0.487545\n",
        "         Iterations: 7\n",
        "         Function evaluations: 8\n",
        "         Gradient evaluations: 14\n",
        "         Hessian evaluations: 7\n",
        "Optimization terminated successfully."
       ]
      },
      {
       "output_type": "stream",
       "stream": "stdout",
       "text": [
        "\n",
        "         Current function value: 0.487751\n",
        "         Iterations: 7\n",
        "         Function evaluations: 8\n",
        "         Gradient evaluations: 14\n",
        "         Hessian evaluations: 7\n",
        "Optimization terminated successfully."
       ]
      },
      {
       "output_type": "stream",
       "stream": "stdout",
       "text": [
        "\n",
        "         Current function value: 0.487376\n",
        "         Iterations: 6\n",
        "         Function evaluations: 7\n",
        "         Gradient evaluations: 12\n",
        "         Hessian evaluations: 6\n",
        "Optimization terminated successfully."
       ]
      },
      {
       "output_type": "stream",
       "stream": "stdout",
       "text": [
        "\n",
        "         Current function value: 0.487633\n",
        "         Iterations: 7\n",
        "         Function evaluations: 8\n",
        "         Gradient evaluations: 14\n",
        "         Hessian evaluations: 7\n",
        "Optimization terminated successfully."
       ]
      },
      {
       "output_type": "stream",
       "stream": "stdout",
       "text": [
        "\n",
        "         Current function value: 0.487446\n",
        "         Iterations: 7\n",
        "         Function evaluations: 8\n",
        "         Gradient evaluations: 14\n",
        "         Hessian evaluations: 7\n",
        "Optimization terminated successfully."
       ]
      },
      {
       "output_type": "stream",
       "stream": "stdout",
       "text": [
        "\n",
        "         Current function value: 0.485881\n",
        "         Iterations: 10\n",
        "         Function evaluations: 11\n",
        "         Gradient evaluations: 20\n",
        "         Hessian evaluations: 10\n",
        "Warning: Maximum number of iterations has been exceeded."
       ]
      },
      {
       "output_type": "stream",
       "stream": "stdout",
       "text": [
        "\n",
        "         Current function value: 0.487597\n",
        "         Iterations: 2000\n",
        "         Function evaluations: 2001\n",
        "         Gradient evaluations: 4000\n",
        "         Hessian evaluations: 2000\n",
        "The model for ['BDYTYP_IM_T48'] did not converge\n",
        "Optimization terminated successfully."
       ]
      },
      {
       "output_type": "stream",
       "stream": "stdout",
       "text": [
        "\n",
        "         Current function value: 0.487596\n",
        "         Iterations: 9\n",
        "         Function evaluations: 10\n",
        "         Gradient evaluations: 18\n",
        "         Hessian evaluations: 9\n",
        "Optimization terminated successfully."
       ]
      },
      {
       "output_type": "stream",
       "stream": "stdout",
       "text": [
        "\n",
        "         Current function value: 0.486626\n",
        "         Iterations: 16\n",
        "         Function evaluations: 24\n",
        "         Gradient evaluations: 39\n",
        "         Hessian evaluations: 16\n",
        "Optimization terminated successfully."
       ]
      },
      {
       "output_type": "stream",
       "stream": "stdout",
       "text": [
        "\n",
        "         Current function value: 0.486613\n",
        "         Iterations: 26\n",
        "         Function evaluations: 27\n",
        "         Gradient evaluations: 52\n",
        "         Hessian evaluations: 26\n",
        "Optimization terminated successfully."
       ]
      },
      {
       "output_type": "stream",
       "stream": "stdout",
       "text": [
        "\n",
        "         Current function value: 0.487361\n",
        "         Iterations: 18\n",
        "         Function evaluations: 27\n",
        "         Gradient evaluations: 44\n",
        "         Hessian evaluations: 18\n",
        "Optimization terminated successfully."
       ]
      },
      {
       "output_type": "stream",
       "stream": "stdout",
       "text": [
        "\n",
        "         Current function value: 0.486626\n",
        "         Iterations: 14\n",
        "         Function evaluations: 19\n",
        "         Gradient evaluations: 32\n",
        "         Hessian evaluations: 14\n",
        "Warning: Maximum number of iterations has been exceeded."
       ]
      },
      {
       "output_type": "stream",
       "stream": "stdout",
       "text": [
        "\n",
        "         Current function value: 0.487597\n",
        "         Iterations: 2000\n",
        "         Function evaluations: 2001\n",
        "         Gradient evaluations: 4000\n",
        "         Hessian evaluations: 2000\n",
        "The model for ['BDYTYP_IM_T60'] did not converge\n",
        "Optimization terminated successfully."
       ]
      },
      {
       "output_type": "stream",
       "stream": "stdout",
       "text": [
        "\n",
        "         Current function value: 0.487751\n",
        "         Iterations: 8\n",
        "         Function evaluations: 9\n",
        "         Gradient evaluations: 16\n",
        "         Hessian evaluations: 8\n",
        "Optimization terminated successfully."
       ]
      },
      {
       "output_type": "stream",
       "stream": "stdout",
       "text": [
        "\n",
        "         Current function value: 0.487677\n",
        "         Iterations: 7\n",
        "         Function evaluations: 8\n",
        "         Gradient evaluations: 14\n",
        "         Hessian evaluations: 7\n",
        "Optimization terminated successfully."
       ]
      },
      {
       "output_type": "stream",
       "stream": "stdout",
       "text": [
        "\n",
        "         Current function value: 0.487582\n",
        "         Iterations: 7\n",
        "         Function evaluations: 8\n",
        "         Gradient evaluations: 14\n",
        "         Hessian evaluations: 7\n",
        "Optimization terminated successfully."
       ]
      },
      {
       "output_type": "stream",
       "stream": "stdout",
       "text": [
        "\n",
        "         Current function value: 0.486289\n",
        "         Iterations: 1404\n",
        "         Function evaluations: 1405\n",
        "         Gradient evaluations: 2808\n",
        "         Hessian evaluations: 1404\n",
        "Optimization terminated successfully."
       ]
      },
      {
       "output_type": "stream",
       "stream": "stdout",
       "text": [
        "\n",
        "         Current function value: 0.487462\n",
        "         Iterations: 7\n",
        "         Function evaluations: 8\n",
        "         Gradient evaluations: 14\n",
        "         Hessian evaluations: 7\n",
        "Optimization terminated successfully."
       ]
      },
      {
       "output_type": "stream",
       "stream": "stdout",
       "text": [
        "\n",
        "         Current function value: 0.487644\n",
        "         Iterations: 7\n",
        "         Function evaluations: 8\n",
        "         Gradient evaluations: 14\n",
        "         Hessian evaluations: 7\n",
        "Optimization terminated successfully."
       ]
      },
      {
       "output_type": "stream",
       "stream": "stdout",
       "text": [
        "\n",
        "         Current function value: 0.487263\n",
        "         Iterations: 7\n",
        "         Function evaluations: 8\n",
        "         Gradient evaluations: 14\n",
        "         Hessian evaluations: 7\n",
        "Optimization terminated successfully."
       ]
      },
      {
       "output_type": "stream",
       "stream": "stdout",
       "text": [
        "\n",
        "         Current function value: 0.486753\n",
        "         Iterations: 26\n",
        "         Function evaluations: 37\n",
        "         Gradient evaluations: 62\n",
        "         Hessian evaluations: 26\n",
        "The base model plus ['BDYTYP_IM_T97'] is not of full rank.\n",
        "Optimization terminated successfully."
       ]
      },
      {
       "output_type": "stream",
       "stream": "stdout",
       "text": [
        "\n",
        "         Current function value: 0.486846\n",
        "         Iterations: 7\n",
        "         Function evaluations: 8\n",
        "         Gradient evaluations: 14\n",
        "         Hessian evaluations: 7\n",
        "Optimization terminated successfully."
       ]
      },
      {
       "output_type": "stream",
       "stream": "stdout",
       "text": [
        "\n",
        "         Current function value: 0.487711\n",
        "         Iterations: 7\n",
        "         Function evaluations: 8\n",
        "         Gradient evaluations: 14\n",
        "         Hessian evaluations: 7\n",
        "Optimization terminated successfully."
       ]
      },
      {
       "output_type": "stream",
       "stream": "stdout",
       "text": [
        "\n",
        "         Current function value: 0.487751\n",
        "         Iterations: 7\n",
        "         Function evaluations: 8\n",
        "         Gradient evaluations: 14\n",
        "         Hessian evaluations: 7\n",
        "Optimization terminated successfully."
       ]
      },
      {
       "output_type": "stream",
       "stream": "stdout",
       "text": [
        "\n",
        "         Current function value: 0.487536\n",
        "         Iterations: 8\n",
        "         Function evaluations: 9\n",
        "         Gradient evaluations: 16\n",
        "         Hessian evaluations: 8\n",
        "Optimization terminated successfully."
       ]
      },
      {
       "output_type": "stream",
       "stream": "stdout",
       "text": [
        "\n",
        "         Current function value: 0.487719\n",
        "         Iterations: 7\n",
        "         Function evaluations: 8\n",
        "         Gradient evaluations: 14\n",
        "         Hessian evaluations: 7\n",
        "Optimization terminated successfully."
       ]
      },
      {
       "output_type": "stream",
       "stream": "stdout",
       "text": [
        "\n",
        "         Current function value: 0.487705\n",
        "         Iterations: 7\n",
        "         Function evaluations: 8\n",
        "         Gradient evaluations: 14\n",
        "         Hessian evaluations: 7\n",
        "Optimization terminated successfully."
       ]
      },
      {
       "output_type": "stream",
       "stream": "stdout",
       "text": [
        "\n",
        "         Current function value: 0.487630\n",
        "         Iterations: 7\n",
        "         Function evaluations: 8\n",
        "         Gradient evaluations: 14\n",
        "         Hessian evaluations: 7\n",
        "Optimization terminated successfully."
       ]
      },
      {
       "output_type": "stream",
       "stream": "stdout",
       "text": [
        "\n",
        "         Current function value: 0.487601\n",
        "         Iterations: 8\n",
        "         Function evaluations: 9\n",
        "         Gradient evaluations: 16\n",
        "         Hessian evaluations: 8\n",
        "Optimization terminated successfully."
       ]
      },
      {
       "output_type": "stream",
       "stream": "stdout",
       "text": [
        "\n",
        "         Current function value: 0.487658\n",
        "         Iterations: 7\n",
        "         Function evaluations: 8\n",
        "         Gradient evaluations: 14\n",
        "         Hessian evaluations: 7\n",
        "Optimization terminated successfully."
       ]
      },
      {
       "output_type": "stream",
       "stream": "stdout",
       "text": [
        "\n",
        "         Current function value: 0.486602\n",
        "         Iterations: 7\n",
        "         Function evaluations: 8\n",
        "         Gradient evaluations: 14\n",
        "         Hessian evaluations: 7\n",
        "Optimization terminated successfully."
       ]
      },
      {
       "output_type": "stream",
       "stream": "stdout",
       "text": [
        "\n",
        "         Current function value: 0.487751\n",
        "         Iterations: 8\n",
        "         Function evaluations: 9\n",
        "         Gradient evaluations: 16\n",
        "         Hessian evaluations: 8\n",
        "Optimization terminated successfully."
       ]
      },
      {
       "output_type": "stream",
       "stream": "stdout",
       "text": [
        "\n",
        "         Current function value: 0.487452\n",
        "         Iterations: 10\n",
        "         Function evaluations: 12\n",
        "         Gradient evaluations: 21\n",
        "         Hessian evaluations: 10\n",
        "Optimization terminated successfully."
       ]
      },
      {
       "output_type": "stream",
       "stream": "stdout",
       "text": [
        "\n",
        "         Current function value: 0.487312\n",
        "         Iterations: 38\n",
        "         Function evaluations: 52\n",
        "         Gradient evaluations: 89\n",
        "         Hessian evaluations: 38\n",
        "Warning: Maximum number of iterations has been exceeded."
       ]
      },
      {
       "output_type": "stream",
       "stream": "stdout",
       "text": [
        "\n",
        "         Current function value: 0.487597\n",
        "         Iterations: 2000\n",
        "         Function evaluations: 2001\n",
        "         Gradient evaluations: 4000\n",
        "         Hessian evaluations: 2000\n",
        "The model for ['IMPACT1_IM_T14'] did not converge\n",
        "The base model plus ['IMPACT1_IM_T61'] is not of full rank.\n",
        "Optimization terminated successfully."
       ]
      },
      {
       "output_type": "stream",
       "stream": "stdout",
       "text": [
        "\n",
        "         Current function value: 0.486548\n",
        "         Iterations: 7\n",
        "         Function evaluations: 8\n",
        "         Gradient evaluations: 14\n",
        "         Hessian evaluations: 7\n",
        "Optimization terminated successfully."
       ]
      },
      {
       "output_type": "stream",
       "stream": "stdout",
       "text": [
        "\n",
        "         Current function value: 0.487510\n",
        "         Iterations: 7\n",
        "         Function evaluations: 8\n",
        "         Gradient evaluations: 14\n",
        "         Hessian evaluations: 7\n",
        "Optimization terminated successfully."
       ]
      },
      {
       "output_type": "stream",
       "stream": "stdout",
       "text": [
        "\n",
        "         Current function value: 0.487723\n",
        "         Iterations: 7\n",
        "         Function evaluations: 8\n",
        "         Gradient evaluations: 14\n",
        "         Hessian evaluations: 7\n",
        "Optimization terminated successfully."
       ]
      },
      {
       "output_type": "stream",
       "stream": "stdout",
       "text": [
        "\n",
        "         Current function value: 0.487337\n",
        "         Iterations: 7\n",
        "         Function evaluations: 8\n",
        "         Gradient evaluations: 14\n",
        "         Hessian evaluations: 7\n",
        "Optimization terminated successfully."
       ]
      },
      {
       "output_type": "stream",
       "stream": "stdout",
       "text": [
        "\n",
        "         Current function value: 0.487393\n",
        "         Iterations: 7\n",
        "         Function evaluations: 8\n",
        "         Gradient evaluations: 14\n",
        "         Hessian evaluations: 7\n",
        "The base model plus ['PCRASH1_IM_T1'] is not of full rank.\n",
        "Optimization terminated successfully."
       ]
      },
      {
       "output_type": "stream",
       "stream": "stdout",
       "text": [
        "\n",
        "         Current function value: 0.487750\n",
        "         Iterations: 7\n",
        "         Function evaluations: 8\n",
        "         Gradient evaluations: 14\n",
        "         Hessian evaluations: 7\n",
        "Optimization terminated successfully."
       ]
      },
      {
       "output_type": "stream",
       "stream": "stdout",
       "text": [
        "\n",
        "         Current function value: 0.487735\n",
        "         Iterations: 9\n",
        "         Function evaluations: 10\n",
        "         Gradient evaluations: 18\n",
        "         Hessian evaluations: 9\n",
        "Optimization terminated successfully."
       ]
      },
      {
       "output_type": "stream",
       "stream": "stdout",
       "text": [
        "\n",
        "         Current function value: 0.487731\n",
        "         Iterations: 7\n",
        "         Function evaluations: 8\n",
        "         Gradient evaluations: 14\n",
        "         Hessian evaluations: 7\n",
        "Optimization terminated successfully."
       ]
      },
      {
       "output_type": "stream",
       "stream": "stdout",
       "text": [
        "\n",
        "         Current function value: 0.487699\n",
        "         Iterations: 7\n",
        "         Function evaluations: 8\n",
        "         Gradient evaluations: 14\n",
        "         Hessian evaluations: 7\n",
        "Warning: Maximum number of iterations has been exceeded."
       ]
      },
      {
       "output_type": "stream",
       "stream": "stdout",
       "text": [
        "\n",
        "         Current function value: 0.487597\n",
        "         Iterations: 2000\n",
        "         Function evaluations: 2001\n",
        "         Gradient evaluations: 4000\n",
        "         Hessian evaluations: 2000\n",
        "The model for ['PCRASH1_IM_T7'] did not converge\n",
        "Warning: Maximum number of iterations has been exceeded."
       ]
      },
      {
       "output_type": "stream",
       "stream": "stdout",
       "text": [
        "\n",
        "         Current function value: 0.487282\n",
        "         Iterations: 2000\n",
        "         Function evaluations: 2001\n",
        "         Gradient evaluations: 4000\n",
        "         Hessian evaluations: 2000\n",
        "The model for ['PCRASH1_IM_T8'] did not converge\n",
        "Optimization terminated successfully."
       ]
      },
      {
       "output_type": "stream",
       "stream": "stdout",
       "text": [
        "\n",
        "         Current function value: 0.487118\n",
        "         Iterations: 7\n",
        "         Function evaluations: 8\n",
        "         Gradient evaluations: 14\n",
        "         Hessian evaluations: 7\n",
        "Optimization terminated successfully."
       ]
      },
      {
       "output_type": "stream",
       "stream": "stdout",
       "text": [
        "\n",
        "         Current function value: 0.487095\n",
        "         Iterations: 7\n",
        "         Function evaluations: 8\n",
        "         Gradient evaluations: 14\n",
        "         Hessian evaluations: 7\n",
        "Optimization terminated successfully."
       ]
      },
      {
       "output_type": "stream",
       "stream": "stdout",
       "text": [
        "\n",
        "         Current function value: 0.486741\n",
        "         Iterations: 9\n",
        "         Function evaluations: 10\n",
        "         Gradient evaluations: 18\n",
        "         Hessian evaluations: 9\n",
        "Optimization terminated successfully."
       ]
      },
      {
       "output_type": "stream",
       "stream": "stdout",
       "text": [
        "\n",
        "         Current function value: 0.487751\n",
        "         Iterations: 7\n",
        "         Function evaluations: 8\n",
        "         Gradient evaluations: 14\n",
        "         Hessian evaluations: 7\n",
        "Warning: Maximum number of iterations has been exceeded."
       ]
      },
      {
       "output_type": "stream",
       "stream": "stdout",
       "text": [
        "\n",
        "         Current function value: 0.486490\n",
        "         Iterations: 2000\n",
        "         Function evaluations: 2001\n",
        "         Gradient evaluations: 4000\n",
        "         Hessian evaluations: 2000\n",
        "The model for ['PCRASH1_IM_T13'] did not converge\n",
        "Optimization terminated successfully."
       ]
      },
      {
       "output_type": "stream",
       "stream": "stdout",
       "text": [
        "\n",
        "         Current function value: 0.486885\n",
        "         Iterations: 9\n",
        "         Function evaluations: 10\n",
        "         Gradient evaluations: 18\n",
        "         Hessian evaluations: 9\n",
        "Optimization terminated successfully."
       ]
      },
      {
       "output_type": "stream",
       "stream": "stdout",
       "text": [
        "\n",
        "         Current function value: 0.486963\n",
        "         Iterations: 299\n",
        "         Function evaluations: 304\n",
        "         Gradient evaluations: 602\n",
        "         Hessian evaluations: 299\n",
        "Optimization terminated successfully."
       ]
      },
      {
       "output_type": "stream",
       "stream": "stdout",
       "text": [
        "\n",
        "         Current function value: 0.487595\n",
        "         Iterations: 9\n",
        "         Function evaluations: 10\n",
        "         Gradient evaluations: 18\n",
        "         Hessian evaluations: 9\n",
        "Optimization terminated successfully."
       ]
      },
      {
       "output_type": "stream",
       "stream": "stdout",
       "text": [
        "\n",
        "         Current function value: 0.486168\n",
        "         Iterations: 16\n",
        "         Function evaluations: 22\n",
        "         Gradient evaluations: 37\n",
        "         Hessian evaluations: 16\n",
        "Optimization terminated successfully."
       ]
      },
      {
       "output_type": "stream",
       "stream": "stdout",
       "text": [
        "\n",
        "         Current function value: 0.486808\n",
        "         Iterations: 8\n",
        "         Function evaluations: 9\n",
        "         Gradient evaluations: 16\n",
        "         Hessian evaluations: 8\n",
        "Optimization terminated successfully."
       ]
      },
      {
       "output_type": "stream",
       "stream": "stdout",
       "text": [
        "\n",
        "         Current function value: 0.487340\n",
        "         Iterations: 7\n",
        "         Function evaluations: 8\n",
        "         Gradient evaluations: 14\n",
        "         Hessian evaluations: 7\n",
        "Optimization terminated successfully."
       ]
      },
      {
       "output_type": "stream",
       "stream": "stdout",
       "text": [
        "\n",
        "         Current function value: 0.485881\n",
        "         Iterations: 7\n",
        "         Function evaluations: 8\n",
        "         Gradient evaluations: 14\n",
        "         Hessian evaluations: 7\n",
        "Optimization terminated successfully."
       ]
      },
      {
       "output_type": "stream",
       "stream": "stdout",
       "text": [
        "\n",
        "         Current function value: 0.487279\n",
        "         Iterations: 8\n",
        "         Function evaluations: 9\n",
        "         Gradient evaluations: 16\n",
        "         Hessian evaluations: 8\n",
        "Optimization terminated successfully."
       ]
      },
      {
       "output_type": "stream",
       "stream": "stdout",
       "text": [
        "\n",
        "         Current function value: 0.487660\n",
        "         Iterations: 7\n",
        "         Function evaluations: 8\n",
        "         Gradient evaluations: 14\n",
        "         Hessian evaluations: 7\n",
        "Optimization terminated successfully."
       ]
      },
      {
       "output_type": "stream",
       "stream": "stdout",
       "text": [
        "\n",
        "         Current function value: 0.487735\n",
        "         Iterations: 8\n",
        "         Function evaluations: 9\n",
        "         Gradient evaluations: 16\n",
        "         Hessian evaluations: 8\n",
        "Optimization terminated successfully."
       ]
      },
      {
       "output_type": "stream",
       "stream": "stdout",
       "text": [
        "\n",
        "         Current function value: 0.485316\n",
        "         Iterations: 7\n",
        "         Function evaluations: 8\n",
        "         Gradient evaluations: 14\n",
        "         Hessian evaluations: 7\n",
        "Optimization terminated successfully."
       ]
      },
      {
       "output_type": "stream",
       "stream": "stdout",
       "text": [
        "\n",
        "         Current function value: 0.484202\n",
        "         Iterations: 8\n",
        "         Function evaluations: 9\n",
        "         Gradient evaluations: 16\n",
        "         Hessian evaluations: 8\n",
        "Optimization terminated successfully."
       ]
      },
      {
       "output_type": "stream",
       "stream": "stdout",
       "text": [
        "\n",
        "         Current function value: 0.487727\n",
        "         Iterations: 7\n",
        "         Function evaluations: 8\n",
        "         Gradient evaluations: 14\n",
        "         Hessian evaluations: 7\n",
        "Optimization terminated successfully."
       ]
      },
      {
       "output_type": "stream",
       "stream": "stdout",
       "text": [
        "\n",
        "         Current function value: 0.487463\n",
        "         Iterations: 7\n",
        "         Function evaluations: 8\n",
        "         Gradient evaluations: 14\n",
        "         Hessian evaluations: 7\n",
        "Optimization terminated successfully."
       ]
      },
      {
       "output_type": "stream",
       "stream": "stdout",
       "text": [
        "\n",
        "         Current function value: 0.487154\n",
        "         Iterations: 12\n",
        "         Function evaluations: 13\n",
        "         Gradient evaluations: 24\n",
        "         Hessian evaluations: 12\n",
        "Optimization terminated successfully."
       ]
      },
      {
       "output_type": "stream",
       "stream": "stdout",
       "text": [
        "\n",
        "         Current function value: 0.486945\n",
        "         Iterations: 7\n",
        "         Function evaluations: 8\n",
        "         Gradient evaluations: 14\n",
        "         Hessian evaluations: 7\n",
        "Warning: Maximum number of iterations has been exceeded."
       ]
      },
      {
       "output_type": "stream",
       "stream": "stdout",
       "text": [
        "\n",
        "         Current function value: 0.487283\n",
        "         Iterations: 2000\n",
        "         Function evaluations: 2001\n",
        "         Gradient evaluations: 4000\n",
        "         Hessian evaluations: 2000\n",
        "The model for ['WRK_ZONE_T1'] did not converge\n",
        "Optimization terminated successfully."
       ]
      },
      {
       "output_type": "stream",
       "stream": "stdout",
       "text": [
        "\n",
        "         Current function value: 0.487675\n",
        "         Iterations: 8\n",
        "         Function evaluations: 9\n",
        "         Gradient evaluations: 16\n",
        "         Hessian evaluations: 8\n",
        "Optimization terminated successfully."
       ]
      },
      {
       "output_type": "stream",
       "stream": "stdout",
       "text": [
        "\n",
        "         Current function value: 0.487587\n",
        "         Iterations: 6\n",
        "         Function evaluations: 7\n",
        "         Gradient evaluations: 12\n",
        "         Hessian evaluations: 6\n",
        "Optimization terminated successfully."
       ]
      },
      {
       "output_type": "stream",
       "stream": "stdout",
       "text": [
        "\n",
        "         Current function value: 0.486793\n",
        "         Iterations: 8\n",
        "         Function evaluations: 9\n",
        "         Gradient evaluations: 16\n",
        "         Hessian evaluations: 8\n",
        "Optimization terminated successfully."
       ]
      },
      {
       "output_type": "stream",
       "stream": "stdout",
       "text": [
        "\n",
        "         Current function value: 0.486177\n",
        "         Iterations: 7\n",
        "         Function evaluations: 8\n",
        "         Gradient evaluations: 14\n",
        "         Hessian evaluations: 7\n",
        "Optimization terminated successfully."
       ]
      },
      {
       "output_type": "stream",
       "stream": "stdout",
       "text": [
        "\n",
        "         Current function value: 0.487155\n",
        "         Iterations: 12\n",
        "         Function evaluations: 13\n",
        "         Gradient evaluations: 24\n",
        "         Hessian evaluations: 12\n",
        "Warning: Maximum number of iterations has been exceeded."
       ]
      },
      {
       "output_type": "stream",
       "stream": "stdout",
       "text": [
        "\n",
        "         Current function value: 0.487123\n",
        "         Iterations: 2000\n",
        "         Function evaluations: 2001\n",
        "         Gradient evaluations: 4000\n",
        "         Hessian evaluations: 2000\n",
        "The model for ['REL_ROAD_Treatment_9999_T7'] did not converge\n",
        "Optimization terminated successfully."
       ]
      },
      {
       "output_type": "stream",
       "stream": "stdout",
       "text": [
        "\n",
        "         Current function value: 0.486753\n",
        "         Iterations: 15\n",
        "         Function evaluations: 19\n",
        "         Gradient evaluations: 33\n",
        "         Hessian evaluations: 15\n",
        "Optimization terminated successfully."
       ]
      },
      {
       "output_type": "stream",
       "stream": "stdout",
       "text": [
        "\n",
        "         Current function value: 0.487224\n",
        "         Iterations: 7\n",
        "         Function evaluations: 8\n",
        "         Gradient evaluations: 14\n",
        "         Hessian evaluations: 7\n",
        "Optimization terminated successfully."
       ]
      },
      {
       "output_type": "stream",
       "stream": "stdout",
       "text": [
        "\n",
        "         Current function value: 0.487328\n",
        "         Iterations: 7\n",
        "         Function evaluations: 8\n",
        "         Gradient evaluations: 14\n",
        "         Hessian evaluations: 7\n",
        "Optimization terminated successfully."
       ]
      },
      {
       "output_type": "stream",
       "stream": "stdout",
       "text": [
        "\n",
        "         Current function value: 0.487697\n",
        "         Iterations: 7\n",
        "         Function evaluations: 8\n",
        "         Gradient evaluations: 14\n",
        "         Hessian evaluations: 7\n",
        "Optimization terminated successfully."
       ]
      },
      {
       "output_type": "stream",
       "stream": "stdout",
       "text": [
        "\n",
        "         Current function value: 0.487676\n",
        "         Iterations: 7\n",
        "         Function evaluations: 8\n",
        "         Gradient evaluations: 14\n",
        "         Hessian evaluations: 7\n",
        "Optimization terminated successfully."
       ]
      },
      {
       "output_type": "stream",
       "stream": "stdout",
       "text": [
        "\n",
        "         Current function value: 0.487552\n",
        "         Iterations: 7\n",
        "         Function evaluations: 8\n",
        "         Gradient evaluations: 14\n",
        "         Hessian evaluations: 7\n",
        "Optimization terminated successfully."
       ]
      },
      {
       "output_type": "stream",
       "stream": "stdout",
       "text": [
        "\n",
        "         Current function value: 0.487659\n",
        "         Iterations: 7\n",
        "         Function evaluations: 8\n",
        "         Gradient evaluations: 14\n",
        "         Hessian evaluations: 7\n",
        "Optimization terminated successfully."
       ]
      },
      {
       "output_type": "stream",
       "stream": "stdout",
       "text": [
        "\n",
        "         Current function value: 0.487112\n",
        "         Iterations: 7\n",
        "         Function evaluations: 8\n",
        "         Gradient evaluations: 14\n",
        "         Hessian evaluations: 7\n",
        "Optimization terminated successfully."
       ]
      },
      {
       "output_type": "stream",
       "stream": "stdout",
       "text": [
        "\n",
        "         Current function value: 0.487738\n",
        "         Iterations: 6\n",
        "         Function evaluations: 7\n",
        "         Gradient evaluations: 12\n",
        "         Hessian evaluations: 6\n",
        "Optimization terminated successfully."
       ]
      },
      {
       "output_type": "stream",
       "stream": "stdout",
       "text": [
        "\n",
        "         Current function value: 0.486987\n",
        "         Iterations: 19\n",
        "         Function evaluations: 23\n",
        "         Gradient evaluations: 41\n",
        "         Hessian evaluations: 19\n",
        "Optimization terminated successfully."
       ]
      },
      {
       "output_type": "stream",
       "stream": "stdout",
       "text": [
        "\n",
        "         Current function value: 0.484881\n",
        "         Iterations: 11\n",
        "         Function evaluations: 12\n",
        "         Gradient evaluations: 22\n",
        "         Hessian evaluations: 11\n",
        "Optimization terminated successfully."
       ]
      },
      {
       "output_type": "stream",
       "stream": "stdout",
       "text": [
        "\n",
        "         Current function value: 0.487358\n",
        "         Iterations: 7\n",
        "         Function evaluations: 8\n",
        "         Gradient evaluations: 14\n",
        "         Hessian evaluations: 7\n",
        "Optimization terminated successfully."
       ]
      },
      {
       "output_type": "stream",
       "stream": "stdout",
       "text": [
        "\n",
        "         Current function value: 0.487194\n",
        "         Iterations: 10\n",
        "         Function evaluations: 11\n",
        "         Gradient evaluations: 20\n",
        "         Hessian evaluations: 10\n",
        "Optimization terminated successfully."
       ]
      },
      {
       "output_type": "stream",
       "stream": "stdout",
       "text": [
        "\n",
        "         Current function value: 0.487520\n",
        "         Iterations: 7\n",
        "         Function evaluations: 8\n",
        "         Gradient evaluations: 14\n",
        "         Hessian evaluations: 7\n",
        "Optimization terminated successfully."
       ]
      },
      {
       "output_type": "stream",
       "stream": "stdout",
       "text": [
        "\n",
        "         Current function value: 0.487689\n",
        "         Iterations: 7\n",
        "         Function evaluations: 8\n",
        "         Gradient evaluations: 14\n",
        "         Hessian evaluations: 7\n",
        "Optimization terminated successfully."
       ]
      },
      {
       "output_type": "stream",
       "stream": "stdout",
       "text": [
        "\n",
        "         Current function value: 0.487641\n",
        "         Iterations: 7\n",
        "         Function evaluations: 8\n",
        "         Gradient evaluations: 14\n",
        "         Hessian evaluations: 7\n",
        "Optimization terminated successfully."
       ]
      },
      {
       "output_type": "stream",
       "stream": "stdout",
       "text": [
        "\n",
        "         Current function value: 0.486629\n",
        "         Iterations: 7\n",
        "         Function evaluations: 8\n",
        "         Gradient evaluations: 14\n",
        "         Hessian evaluations: 7\n",
        "Optimization terminated successfully.\n",
        "         Current function value: 0.487551\n",
        "         Iterations: 6\n",
        "         Function evaluations: 7\n",
        "         Gradient evaluations: 12\n",
        "         Hessian evaluations: 6\n",
        "Optimization terminated successfully."
       ]
      },
      {
       "output_type": "stream",
       "stream": "stdout",
       "text": [
        "\n",
        "         Current function value: 0.487140\n",
        "         Iterations: 7\n",
        "         Function evaluations: 8\n",
        "         Gradient evaluations: 14\n",
        "         Hessian evaluations: 7\n",
        "Optimization terminated successfully."
       ]
      },
      {
       "output_type": "stream",
       "stream": "stdout",
       "text": [
        "\n",
        "         Current function value: 0.484934\n",
        "         Iterations: 7\n",
        "         Function evaluations: 8\n",
        "         Gradient evaluations: 14\n",
        "         Hessian evaluations: 7\n",
        "Optimization terminated successfully."
       ]
      },
      {
       "output_type": "stream",
       "stream": "stdout",
       "text": [
        "\n",
        "         Current function value: 0.487715\n",
        "         Iterations: 7\n",
        "         Function evaluations: 8\n",
        "         Gradient evaluations: 14\n",
        "         Hessian evaluations: 7\n",
        "Optimization terminated successfully."
       ]
      },
      {
       "output_type": "stream",
       "stream": "stdout",
       "text": [
        "\n",
        "         Current function value: 0.487543\n",
        "         Iterations: 8\n",
        "         Function evaluations: 9\n",
        "         Gradient evaluations: 16\n",
        "         Hessian evaluations: 8\n",
        "Optimization terminated successfully."
       ]
      },
      {
       "output_type": "stream",
       "stream": "stdout",
       "text": [
        "\n",
        "         Current function value: 0.487749\n",
        "         Iterations: 8\n",
        "         Function evaluations: 9\n",
        "         Gradient evaluations: 16\n",
        "         Hessian evaluations: 8\n",
        "Optimization terminated successfully."
       ]
      },
      {
       "output_type": "stream",
       "stream": "stdout",
       "text": [
        "\n",
        "         Current function value: 0.484766\n",
        "         Iterations: 7\n",
        "         Function evaluations: 8\n",
        "         Gradient evaluations: 14\n",
        "         Hessian evaluations: 7\n",
        "Optimization terminated successfully."
       ]
      },
      {
       "output_type": "stream",
       "stream": "stdout",
       "text": [
        "\n",
        "         Current function value: 0.487574\n",
        "         Iterations: 7\n",
        "         Function evaluations: 8\n",
        "         Gradient evaluations: 14\n",
        "         Hessian evaluations: 7\n",
        "Optimization terminated successfully."
       ]
      },
      {
       "output_type": "stream",
       "stream": "stdout",
       "text": [
        "\n",
        "         Current function value: 0.487686\n",
        "         Iterations: 7\n",
        "         Function evaluations: 8\n",
        "         Gradient evaluations: 14\n",
        "         Hessian evaluations: 7\n",
        "Optimization terminated successfully."
       ]
      },
      {
       "output_type": "stream",
       "stream": "stdout",
       "text": [
        "\n",
        "         Current function value: 0.487628\n",
        "         Iterations: 7\n",
        "         Function evaluations: 8\n",
        "         Gradient evaluations: 14\n",
        "         Hessian evaluations: 7\n",
        "Optimization terminated successfully."
       ]
      },
      {
       "output_type": "stream",
       "stream": "stdout",
       "text": [
        "\n",
        "         Current function value: 0.487737\n",
        "         Iterations: 7\n",
        "         Function evaluations: 8\n",
        "         Gradient evaluations: 14\n",
        "         Hessian evaluations: 7\n",
        "Optimization terminated successfully."
       ]
      },
      {
       "output_type": "stream",
       "stream": "stdout",
       "text": [
        "\n",
        "         Current function value: 0.487577\n",
        "         Iterations: 7\n",
        "         Function evaluations: 8\n",
        "         Gradient evaluations: 14\n",
        "         Hessian evaluations: 7\n",
        "Optimization terminated successfully."
       ]
      },
      {
       "output_type": "stream",
       "stream": "stdout",
       "text": [
        "\n",
        "         Current function value: 0.487609\n",
        "         Iterations: 7\n",
        "         Function evaluations: 8\n",
        "         Gradient evaluations: 14\n",
        "         Hessian evaluations: 7\n",
        "Optimization terminated successfully."
       ]
      },
      {
       "output_type": "stream",
       "stream": "stdout",
       "text": [
        "\n",
        "         Current function value: 0.487739\n",
        "         Iterations: 8\n",
        "         Function evaluations: 9\n",
        "         Gradient evaluations: 16\n",
        "         Hessian evaluations: 8\n",
        "Optimization terminated successfully."
       ]
      },
      {
       "output_type": "stream",
       "stream": "stdout",
       "text": [
        "\n",
        "         Current function value: 0.485568\n",
        "         Iterations: 7\n",
        "         Function evaluations: 8\n",
        "         Gradient evaluations: 14\n",
        "         Hessian evaluations: 7\n",
        "Optimization terminated successfully."
       ]
      },
      {
       "output_type": "stream",
       "stream": "stdout",
       "text": [
        "\n",
        "         Current function value: 0.487743\n",
        "         Iterations: 7\n",
        "         Function evaluations: 8\n",
        "         Gradient evaluations: 14\n",
        "         Hessian evaluations: 7\n",
        "Optimization terminated successfully."
       ]
      },
      {
       "output_type": "stream",
       "stream": "stdout",
       "text": [
        "\n",
        "         Current function value: 0.483634\n",
        "         Iterations: 9\n",
        "         Function evaluations: 10\n",
        "         Gradient evaluations: 18\n",
        "         Hessian evaluations: 9\n",
        "Warning: Maximum number of iterations has been exceeded."
       ]
      },
      {
       "output_type": "stream",
       "stream": "stdout",
       "text": [
        "\n",
        "         Current function value: 0.487281\n",
        "         Iterations: 2000\n",
        "         Function evaluations: 2001\n",
        "         Gradient evaluations: 4000\n",
        "         Hessian evaluations: 2000\n",
        "The model for ['RELJCT2_IM_T5'] did not converge\n",
        "Optimization terminated successfully."
       ]
      },
      {
       "output_type": "stream",
       "stream": "stdout",
       "text": [
        "\n",
        "         Current function value: 0.487361\n",
        "         Iterations: 20\n",
        "         Function evaluations: 24\n",
        "         Gradient evaluations: 43\n",
        "         Hessian evaluations: 20\n",
        "Optimization terminated successfully."
       ]
      },
      {
       "output_type": "stream",
       "stream": "stdout",
       "text": [
        "\n",
        "         Current function value: 0.487487\n",
        "         Iterations: 15\n",
        "         Function evaluations: 20\n",
        "         Gradient evaluations: 34\n",
        "         Hessian evaluations: 15\n",
        "Optimization terminated successfully.\n",
        "         Current function value: 0.487614\n",
        "         Iterations: 7\n",
        "         Function evaluations: 8\n",
        "         Gradient evaluations: 14\n",
        "         Hessian evaluations: 7\n",
        "Optimization terminated successfully."
       ]
      },
      {
       "output_type": "stream",
       "stream": "stdout",
       "text": [
        "\n",
        "         Current function value: 0.486921\n",
        "         Iterations: 1890\n",
        "         Function evaluations: 1891\n",
        "         Gradient evaluations: 3780\n",
        "         Hessian evaluations: 1890\n",
        "Optimization terminated successfully."
       ]
      },
      {
       "output_type": "stream",
       "stream": "stdout",
       "text": [
        "\n",
        "         Current function value: 0.486753\n",
        "         Iterations: 34\n",
        "         Function evaluations: 45\n",
        "         Gradient evaluations: 78\n",
        "         Hessian evaluations: 34\n",
        "Optimization terminated successfully."
       ]
      },
      {
       "output_type": "stream",
       "stream": "stdout",
       "text": [
        "\n",
        "         Current function value: 0.486780\n",
        "         Iterations: 7\n",
        "         Function evaluations: 8\n",
        "         Gradient evaluations: 14\n",
        "         Hessian evaluations: 7\n",
        "Optimization terminated successfully."
       ]
      },
      {
       "output_type": "stream",
       "stream": "stdout",
       "text": [
        "\n",
        "         Current function value: 0.487717\n",
        "         Iterations: 9\n",
        "         Function evaluations: 10\n",
        "         Gradient evaluations: 18\n",
        "         Hessian evaluations: 9\n",
        "Optimization terminated successfully."
       ]
      },
      {
       "output_type": "stream",
       "stream": "stdout",
       "text": [
        "\n",
        "         Current function value: 0.487510\n",
        "         Iterations: 7\n",
        "         Function evaluations: 8\n",
        "         Gradient evaluations: 14\n",
        "         Hessian evaluations: 7\n",
        "Optimization terminated successfully."
       ]
      },
      {
       "output_type": "stream",
       "stream": "stdout",
       "text": [
        "\n",
        "         Current function value: 0.487709\n",
        "         Iterations: 7\n",
        "         Function evaluations: 8\n",
        "         Gradient evaluations: 14\n",
        "         Hessian evaluations: 7\n",
        "Optimization terminated successfully."
       ]
      },
      {
       "output_type": "stream",
       "stream": "stdout",
       "text": [
        "\n",
        "         Current function value: 0.487081\n",
        "         Iterations: 7\n",
        "         Function evaluations: 8\n",
        "         Gradient evaluations: 14\n",
        "         Hessian evaluations: 7\n",
        "Optimization terminated successfully."
       ]
      },
      {
       "output_type": "stream",
       "stream": "stdout",
       "text": [
        "\n",
        "         Current function value: 0.487748\n",
        "         Iterations: 7\n",
        "         Function evaluations: 8\n",
        "         Gradient evaluations: 14\n",
        "         Hessian evaluations: 7\n",
        "The base model plus ['WEATHR_IM_T4'] is not of full rank.\n",
        "Warning: Maximum number of iterations has been exceeded."
       ]
      },
      {
       "output_type": "stream",
       "stream": "stdout",
       "text": [
        "\n",
        "         Current function value: 0.487597\n",
        "         Iterations: 2000\n",
        "         Function evaluations: 2001\n",
        "         Gradient evaluations: 4000\n",
        "         Hessian evaluations: 2000\n",
        "The model for ['WEATHR_IM_T5'] did not converge\n",
        "Optimization terminated successfully."
       ]
      },
      {
       "output_type": "stream",
       "stream": "stdout",
       "text": [
        "\n",
        "         Current function value: 0.487237\n",
        "         Iterations: 7\n",
        "         Function evaluations: 8\n",
        "         Gradient evaluations: 14\n",
        "         Hessian evaluations: 7\n",
        "Optimization terminated successfully."
       ]
      },
      {
       "output_type": "stream",
       "stream": "stdout",
       "text": [
        "\n",
        "         Current function value: 0.487745\n",
        "         Iterations: 8\n",
        "         Function evaluations: 9\n",
        "         Gradient evaluations: 16\n",
        "         Hessian evaluations: 8\n",
        "Optimization terminated successfully."
       ]
      },
      {
       "output_type": "stream",
       "stream": "stdout",
       "text": [
        "\n",
        "         Current function value: 0.487751\n",
        "         Iterations: 8\n",
        "         Function evaluations: 9\n",
        "         Gradient evaluations: 16\n",
        "         Hessian evaluations: 8\n",
        "Optimization terminated successfully."
       ]
      },
      {
       "output_type": "stream",
       "stream": "stdout",
       "text": [
        "\n",
        "         Current function value: 0.487746\n",
        "         Iterations: 8\n",
        "         Function evaluations: 9\n",
        "         Gradient evaluations: 16\n",
        "         Hessian evaluations: 8\n",
        "Optimization terminated successfully."
       ]
      },
      {
       "output_type": "stream",
       "stream": "stdout",
       "text": [
        "\n",
        "         Current function value: 0.487669\n",
        "         Iterations: 7\n",
        "         Function evaluations: 8\n",
        "         Gradient evaluations: 14\n",
        "         Hessian evaluations: 7\n",
        "Optimization terminated successfully."
       ]
      },
      {
       "output_type": "stream",
       "stream": "stdout",
       "text": [
        "\n",
        "         Current function value: 0.487462\n",
        "         Iterations: 8\n",
        "         Function evaluations: 9\n",
        "         Gradient evaluations: 16\n",
        "         Hessian evaluations: 8\n",
        "Optimization terminated successfully."
       ]
      },
      {
       "output_type": "stream",
       "stream": "stdout",
       "text": [
        "\n",
        "         Current function value: nan\n",
        "         Iterations: 2\n",
        "         Function evaluations: 43\n",
        "         Gradient evaluations: 43\n",
        "         Hessian evaluations: 2\n",
        "Optimization terminated successfully."
       ]
      },
      {
       "output_type": "stream",
       "stream": "stdout",
       "text": [
        "\n",
        "         Current function value: 0.487557\n",
        "         Iterations: 9\n",
        "         Function evaluations: 10\n",
        "         Gradient evaluations: 18\n",
        "         Hessian evaluations: 9\n",
        "Optimization terminated successfully."
       ]
      },
      {
       "output_type": "stream",
       "stream": "stdout",
       "text": [
        "\n",
        "         Current function value: 0.486740\n",
        "         Iterations: 8\n",
        "         Function evaluations: 9\n",
        "         Gradient evaluations: 16\n",
        "         Hessian evaluations: 8\n",
        "Optimization terminated successfully."
       ]
      },
      {
       "output_type": "stream",
       "stream": "stdout",
       "text": [
        "\n",
        "         Current function value: 0.487557\n",
        "         Iterations: 10\n",
        "         Function evaluations: 11\n",
        "         Gradient evaluations: 20\n",
        "         Hessian evaluations: 10\n",
        "Optimization terminated successfully."
       ]
      },
      {
       "output_type": "stream",
       "stream": "stdout",
       "text": [
        "\n",
        "         Current function value: 0.487752\n",
        "         Iterations: 8\n",
        "         Function evaluations: 9\n",
        "         Gradient evaluations: 16\n",
        "         Hessian evaluations: 8\n",
        "Optimization terminated successfully."
       ]
      },
      {
       "output_type": "stream",
       "stream": "stdout",
       "text": [
        "\n",
        "         Current function value: 0.487244\n",
        "         Iterations: 7\n",
        "         Function evaluations: 8\n",
        "         Gradient evaluations: 14\n",
        "         Hessian evaluations: 7\n",
        "The base model plus ['MSAFEQMT4'] is not of full rank.\n",
        "Optimization terminated successfully."
       ]
      },
      {
       "output_type": "stream",
       "stream": "stdout",
       "text": [
        "\n",
        "         Current function value: 0.487735\n",
        "         Iterations: 7\n",
        "         Function evaluations: 8\n",
        "         Gradient evaluations: 14\n",
        "         Hessian evaluations: 7\n",
        "Optimization terminated successfully."
       ]
      },
      {
       "output_type": "stream",
       "stream": "stdout",
       "text": [
        "\n",
        "         Current function value: 0.487639\n",
        "         Iterations: 8\n",
        "         Function evaluations: 9\n",
        "         Gradient evaluations: 16\n",
        "         Hessian evaluations: 8\n",
        "The base model plus ['TRAV_SP_9999'] is not of full rank.\n",
        "The base model plus ['NUMOCCS_9999'] is not of full rank.\n",
        "The base model plus ['VSPD_LIM_9999'] is not of full rank.\n",
        "The base model plus ['DRIVER_AGE_9999'] is not of full rank."
       ]
      },
      {
       "output_type": "stream",
       "stream": "stdout",
       "text": [
        "\n",
        "Optimization terminated successfully."
       ]
      },
      {
       "output_type": "stream",
       "stream": "stdout",
       "text": [
        "\n",
        "         Current function value: 0.487341\n",
        "         Iterations: 7\n",
        "         Function evaluations: 8\n",
        "         Gradient evaluations: 14\n",
        "         Hessian evaluations: 7\n",
        "Optimization terminated successfully."
       ]
      },
      {
       "output_type": "stream",
       "stream": "stdout",
       "text": [
        "\n",
        "         Current function value: 0.487419\n",
        "         Iterations: 8\n",
        "         Function evaluations: 9\n",
        "         Gradient evaluations: 16\n",
        "         Hessian evaluations: 8\n",
        "Optimization terminated successfully."
       ]
      },
      {
       "output_type": "stream",
       "stream": "stdout",
       "text": [
        "\n",
        "         Current function value: 0.487416\n",
        "         Iterations: 7\n",
        "         Function evaluations: 8\n",
        "         Gradient evaluations: 14\n",
        "         Hessian evaluations: 7\n",
        "Optimization terminated successfully."
       ]
      },
      {
       "output_type": "stream",
       "stream": "stdout",
       "text": [
        "\n",
        "         Current function value: 0.487480\n",
        "         Iterations: 7\n",
        "         Function evaluations: 8\n",
        "         Gradient evaluations: 14\n",
        "         Hessian evaluations: 7\n",
        "Optimization terminated successfully."
       ]
      },
      {
       "output_type": "stream",
       "stream": "stdout",
       "text": [
        "\n",
        "         Current function value: 0.486711\n",
        "         Iterations: 8\n",
        "         Function evaluations: 9\n",
        "         Gradient evaluations: 16\n",
        "         Hessian evaluations: 8\n",
        "Optimization terminated successfully."
       ]
      },
      {
       "output_type": "stream",
       "stream": "stdout",
       "text": [
        "\n",
        "         Current function value: 0.486829\n",
        "         Iterations: 6\n",
        "         Function evaluations: 7\n",
        "         Gradient evaluations: 12\n",
        "         Hessian evaluations: 6\n",
        "Optimization terminated successfully."
       ]
      },
      {
       "output_type": "stream",
       "stream": "stdout",
       "text": [
        "\n",
        "         Current function value: 0.487714\n",
        "         Iterations: 7\n",
        "         Function evaluations: 8\n",
        "         Gradient evaluations: 14\n",
        "         Hessian evaluations: 7\n",
        "Optimization terminated successfully."
       ]
      },
      {
       "output_type": "stream",
       "stream": "stdout",
       "text": [
        "\n",
        "         Current function value: 0.487387\n",
        "         Iterations: 7\n",
        "         Function evaluations: 8\n",
        "         Gradient evaluations: 14\n",
        "         Hessian evaluations: 7\n",
        "The base model plus ['TRAV_SP', 'TRAV_SP_interact_TRAV_SP_9999'] is not of full rank.\n",
        "The base model plus ['NUMOCCS', 'NUMOCCS_interact_NUMOCCS_9999'] is not of full rank.\n",
        "The base model plus ['VSPD_LIM', 'VSPD_LIM_interact_VSPD_LIM_9999'] is not of full rank."
       ]
      },
      {
       "output_type": "stream",
       "stream": "stdout",
       "text": [
        "\n",
        "The base model plus ['DRIVER_AGE', 'DRIVER_AGE_interact_DRIVER_AGE_9999'] is not of full rank.\n",
        "==========\n",
        "\n",
        "There were estimation problems with at least 22 variables. The problematic columns were: \n",
        "['LOCATION_Treatment_9999_T21', 'V_CONFIG_Treatment_9999_T2', 'BUS_USE_Treatment_9999_T1', 'IMPACT2_vehDup_Treatment_9999_T14', 'IMPACT2_vehDup_Treatment_9999_T61', 'VTRAFCON_Treatment_9999_T4', 'P_CRASH2_Treatment_9999_T51', 'P_CRASH2_Treatment_9999_T82', 'P_CRASH3_Treatment_9999_T4', 'P_CRASH3_Treatment_9999_T8', 'ACC_TYPE_Treatment_9999_T6', 'BDYTYP_IM_T17', 'BDYTYP_IM_T48', 'BDYTYP_IM_T60', 'IMPACT1_IM_T14', 'PCRASH1_IM_T7', 'PCRASH1_IM_T8', 'PCRASH1_IM_T13', 'WRK_ZONE_T1', 'REL_ROAD_Treatment_9999_T7', 'RELJCT2_IM_T5', 'WEATHR_IM_T5']\n",
        "==========\n",
        "\n",
        "The possible variables being fed to combat_multi_collinearity are: \n",
        "['MONTH_T6', 'LOCATION_Treatment_9999_T3', 'LOCATION_Treatment_9999_T23', 'SEX_IM_T2', 'V_CONFIG_Treatment_9999_T1', 'CARGO_BT_Treatment_9999_T1', 'CARGO_BT_Treatment_9999_T28', 'SPEC_USE_vehDup_Treatment_9999_T0', 'SPEC_USE_vehDup_Treatment_9999_T1', 'EMER_USE_vehDup_Treatment_9999_T0', 'IMPACT2_vehDup_Treatment_9999_T1', 'VTRAFWAY_Treatment_9999_T4', 'VALIGN_Treatment_9999_T4', 'VPROFILE_Treatment_9999_T1', 'VPROFILE_Treatment_9999_T3', 'VTRAFCON_Treatment_9999_T20', 'P_CRASH2_Treatment_9999_T12', 'P_CRASH2_Treatment_9999_T15', 'P_CRASH2_Treatment_9999_T16', 'P_CRASH3_Treatment_9999_T2', 'P_CRASH3_Treatment_9999_T3', 'P_CRASH3_Treatment_9999_T6', 'PCRASH5_Treatment_9999_T1', 'PCRASH5_Treatment_9999_T7', 'BDYTYP_IM_T2', 'BDYTYP_IM_T6', 'BDYTYP_IM_T9', 'BDYTYP_IM_T14', 'IMPACT1_IM_T1', 'IMPACT1_IM_T10', 'IMPACT1_IM_T62', 'PCRASH1_IM_T11', 'PCRASH1_IM_T14', 'V_ALCH_IM_T2', 'LAND_USE_Treatment_9999_T2', 'TYP_INT_Treatment_9999_T1', 'TYP_INT_Treatment_9999_T2', 'TYP_INT_Treatment_9999_T7', 'REL_ROAD_Treatment_9999_T2', 'REL_ROAD_Treatment_9999_T4', 'HOUR_IM_T10', 'HOUR_IM_T13', 'HOUR_IM_T17', 'RELJCT2_IM_T2', 'RELJCT2_IM_T4', 'LGTCON_IM_T2', 'PERMVIT', 'VNUM_LAN_Treatment_9999_4', 'VNUM_LAN_Treatment_9999_5']\n",
        "The condition number of the dataset and reduced variable list is 134.692102067"
       ]
      },
      {
       "output_type": "stream",
       "stream": "stdout",
       "text": [
        "\n",
        "There are 57 variables currently in the model.\n",
        "Optimization terminated successfully."
       ]
      },
      {
       "output_type": "stream",
       "stream": "stdout",
       "text": [
        "\n",
        "         Current function value: 0.425550\n",
        "         Iterations: 11\n",
        "         Function evaluations: 12\n",
        "         Gradient evaluations: 22\n",
        "         Hessian evaluations: 11\n",
        "                           Logit Regression Results                           \n",
        "==============================================================================\n",
        "Dep. Variable:                SER_INJ   No. Observations:                 1022\n",
        "Model:                          Logit   Df Residuals:                      965\n",
        "Method:                           MLE   Df Model:                           56\n",
        "Date:                Mon, 05 May 2014   Pseudo R-squ.:                  0.1728\n",
        "Time:                        22:18:52   Log-Likelihood:                -434.91\n",
        "converged:                       True   LL-Null:                       -525.77\n",
        "                                        LLR p-value:                 3.398e-15\n",
        "=====================================================================================================\n",
        "                                        coef    std err          z      P>|z|      [95.0% Conf. Int.]\n",
        "-----------------------------------------------------------------------------------------------------\n",
        "PERMVIT                               0.1266      0.141      0.895      0.371        -0.151     0.404\n",
        "IMPACT1_IM_T10                        0.9025      0.574      1.571      0.116        -0.223     2.028\n",
        "SEX_IM_T2                             0.1960      0.201      0.975      0.329        -0.198     0.590\n",
        "PCRASH1_IM_T11                       -0.2619      0.338     -0.776      0.438        -0.924     0.400\n",
        "IMPACT2_vehDup_Treatment_9999_T1      0.3329      0.979      0.340      0.734        -1.586     2.252\n",
        "EMER_USE_vehDup_Treatment_9999_T0    -1.7706      1.097     -1.615      0.106        -3.920     0.379\n",
        "CARGO_BT_Treatment_9999_T28           1.1236      0.997      1.127      0.260        -0.830     3.077\n",
        "P_CRASH3_Treatment_9999_T2           -0.9645      0.593     -1.625      0.104        -2.128     0.199\n",
        "P_CRASH3_Treatment_9999_T3            1.3318      1.121      1.188      0.235        -0.866     3.530\n",
        "P_CRASH3_Treatment_9999_T6            0.6857      0.558      1.229      0.219        -0.408     1.779\n",
        "P_CRASH2_Treatment_9999_T16          -0.8472      0.474     -1.787      0.074        -1.776     0.082\n",
        "P_CRASH2_Treatment_9999_T15           0.3949      0.408      0.969      0.333        -0.404     1.194\n",
        "VTRAFWAY_Treatment_9999_T4           -1.4116      0.662     -2.133      0.033        -2.709    -0.114\n",
        "REL_ROAD_Treatment_9999_T2            1.3252      0.970      1.367      0.172        -0.575     3.226\n",
        "RELJCT2_IM_T4                        -0.3201      0.809     -0.395      0.693        -1.907     1.267\n",
        "LOCATION_Treatment_9999_T23          -1.1521      0.795     -1.448      0.148        -2.711     0.407\n",
        "RELJCT2_IM_T2                        -0.0074      0.253     -0.029      0.976        -0.502     0.487\n",
        "REL_ROAD_Treatment_9999_T4           -1.5300      1.246     -1.228      0.219        -3.972     0.912\n",
        "LAND_USE_Treatment_9999_T2           -0.8082      0.370     -2.184      0.029        -1.534    -0.083\n",
        "HOUR_IM_T13                          -0.9913      0.492     -2.017      0.044        -1.955    -0.028\n",
        "HOUR_IM_T10                          -0.8042      0.485     -1.659      0.097        -1.754     0.146\n",
        "HOUR_IM_T17                           0.4436      0.259      1.712      0.087        -0.064     0.951\n",
        "BDYTYP_IM_T2                         -0.8623      0.512     -1.684      0.092        -1.866     0.142\n",
        "IMPACT1_IM_T1                         0.2753      0.913      0.302      0.763        -1.514     2.065\n",
        "BDYTYP_IM_T6                          0.6604      0.384      1.721      0.085        -0.092     1.413\n",
        "VALIGN_Treatment_9999_T4              1.5645      0.699      2.238      0.025         0.195     2.934\n",
        "SPEC_USE_vehDup_Treatment_9999_T1     0.4896      1.066      0.459      0.646        -1.600     2.579\n",
        "LOCATION_Treatment_9999_T3            0.2347      0.253      0.930      0.353        -0.260     0.730\n",
        "PCRASH1_IM_T14                       -0.0212      0.766     -0.028      0.978        -1.523     1.481\n",
        "BDYTYP_IM_T14                         0.3626      0.259      1.403      0.161        -0.144     0.869\n",
        "VPROFILE_Treatment_9999_T1            0.3562      0.260      1.367      0.172        -0.154     0.867\n",
        "VPROFILE_Treatment_9999_T3            1.1506      0.866      1.328      0.184        -0.547     2.848\n",
        "IMPACT1_IM_T62                       -3.0468      1.729     -1.762      0.078        -6.435     0.342\n",
        "VTRAFCON_Treatment_9999_T20          -0.3494      0.270     -1.296      0.195        -0.878     0.179\n",
        "MONTH_T6                             -0.4075      0.292     -1.395      0.163        -0.980     0.165\n",
        "SPEC_USE_vehDup_Treatment_9999_T0    -0.1338      0.704     -0.190      0.849        -1.514     1.246\n",
        "CARGO_BT_Treatment_9999_T1            2.0953      1.204      1.740      0.082        -0.265     4.455\n",
        "V_ALCH_IM_T2                         -1.7362      1.189     -1.460      0.144        -4.066     0.594\n",
        "PCRASH5_Treatment_9999_T7             0.1986      0.746      0.266      0.790        -1.264     1.661\n",
        "LGTCON_IM_T2                         -0.6411      0.533     -1.203      0.229        -1.686     0.403\n",
        "VNUM_LAN_Treatment_9999_4             0.3749      0.298      1.259      0.208        -0.209     0.959\n",
        "V_CONFIG_Treatment_9999_T1           -0.1415      0.740     -0.191      0.848        -1.591     1.308\n",
        "VNUM_LAN_Treatment_9999_5             0.8323      0.948      0.878      0.380        -1.025     2.690\n",
        "BDYTYP_IM_T9                         -0.7895      0.340     -2.320      0.020        -1.457    -0.122\n",
        "PCRASH5_Treatment_9999_T1             0.5316      0.373      1.426      0.154        -0.199     1.262\n",
        "TYP_INT_Treatment_9999_T7             0.9762      0.832      1.173      0.241        -0.655     2.607\n",
        "P_CRASH2_Treatment_9999_T12           3.8551      2.002      1.925      0.054        -0.069     7.779\n",
        "TYP_INT_Treatment_9999_T2             0.3241      0.221      1.468      0.142        -0.109     0.757\n",
        "TYP_INT_Treatment_9999_T1             0.1838      0.282      0.651      0.515        -0.369     0.737\n",
        "nodeNum_0                            -0.6478      1.851     -0.350      0.726        -4.275     2.980\n",
        "nodeNum_4                             2.3570      1.754      1.344      0.179        -1.081     5.795\n",
        "nodeNum_5                             1.6978      1.563      1.086      0.277        -1.366     4.762\n",
        "nodeNum_6                             1.9434      1.524      1.275      0.202        -1.043     4.930\n",
        "nodeNum_9                             1.7397      1.518      1.146      0.252        -1.235     4.714\n",
        "nodeNum_10                            4.2755      2.060      2.076      0.038         0.239     8.312\n",
        "nodeNum_18                            0.4950      1.364      0.363      0.717        -2.179     3.169\n",
        "nodeNum_20                            1.0391      1.504      0.691      0.490        -1.909     3.988\n",
        "====================================================================================================="
       ]
      },
      {
       "output_type": "stream",
       "stream": "stdout",
       "text": [
        "\n",
        "Optimization terminated successfully."
       ]
      },
      {
       "output_type": "stream",
       "stream": "stdout",
       "text": [
        "\n",
        "         Current function value: 0.425551\n",
        "         Iterations: 10\n",
        "         Function evaluations: 11\n",
        "         Gradient evaluations: 20\n",
        "         Hessian evaluations: 10\n",
        "Optimization terminated successfully."
       ]
      },
      {
       "output_type": "stream",
       "stream": "stdout",
       "text": [
        "\n",
        "         Current function value: 0.425551\n",
        "         Iterations: 11\n",
        "         Function evaluations: 12\n",
        "         Gradient evaluations: 22\n",
        "         Hessian evaluations: 11\n",
        "Optimization terminated successfully."
       ]
      },
      {
       "output_type": "stream",
       "stream": "stdout",
       "text": [
        "\n",
        "         Current function value: 0.425568\n",
        "         Iterations: 12\n",
        "         Function evaluations: 13\n",
        "         Gradient evaluations: 24\n",
        "         Hessian evaluations: 12\n",
        "Optimization terminated successfully."
       ]
      },
      {
       "output_type": "stream",
       "stream": "stdout",
       "text": [
        "\n",
        "         Current function value: 0.425588\n",
        "         Iterations: 11\n",
        "         Function evaluations: 12\n",
        "         Gradient evaluations: 22\n",
        "         Hessian evaluations: 11\n",
        "Optimization terminated successfully."
       ]
      },
      {
       "output_type": "stream",
       "stream": "stdout",
       "text": [
        "\n",
        "         Current function value: 0.425621\n",
        "         Iterations: 10\n",
        "         Function evaluations: 11\n",
        "         Gradient evaluations: 20\n",
        "         Hessian evaluations: 10\n",
        "Optimization terminated successfully."
       ]
      },
      {
       "output_type": "stream",
       "stream": "stdout",
       "text": [
        "\n",
        "         Current function value: 0.425664\n",
        "         Iterations: 10\n",
        "         Function evaluations: 11\n",
        "         Gradient evaluations: 20\n",
        "         Hessian evaluations: 10\n",
        "Optimization terminated successfully."
       ]
      },
      {
       "output_type": "stream",
       "stream": "stdout",
       "text": [
        "\n",
        "         Current function value: 0.425731\n",
        "         Iterations: 10\n",
        "         Function evaluations: 11\n",
        "         Gradient evaluations: 20\n",
        "         Hessian evaluations: 10\n",
        "Optimization terminated successfully."
       ]
      },
      {
       "output_type": "stream",
       "stream": "stdout",
       "text": [
        "\n",
        "         Current function value: 0.425962\n",
        "         Iterations: 11\n",
        "         Function evaluations: 12\n",
        "         Gradient evaluations: 22\n",
        "         Hessian evaluations: 11\n",
        "Optimization terminated successfully."
       ]
      },
      {
       "output_type": "stream",
       "stream": "stdout",
       "text": [
        "\n",
        "         Current function value: 0.426228\n",
        "         Iterations: 11\n",
        "         Function evaluations: 12\n",
        "         Gradient evaluations: 22\n",
        "         Hessian evaluations: 11\n",
        "Optimization terminated successfully."
       ]
      },
      {
       "output_type": "stream",
       "stream": "stdout",
       "text": [
        "\n",
        "         Current function value: 0.426561\n",
        "         Iterations: 11\n",
        "         Function evaluations: 12\n",
        "         Gradient evaluations: 22\n",
        "         Hessian evaluations: 11\n",
        "Optimization terminated successfully."
       ]
      },
      {
       "output_type": "stream",
       "stream": "stdout",
       "text": [
        "\n",
        "         Current function value: 0.426795\n",
        "         Iterations: 10\n",
        "         Function evaluations: 11\n",
        "         Gradient evaluations: 20\n",
        "         Hessian evaluations: 10\n",
        "Optimization terminated successfully."
       ]
      },
      {
       "output_type": "stream",
       "stream": "stdout",
       "text": [
        "\n",
        "         Current function value: 0.427200\n",
        "         Iterations: 10\n",
        "         Function evaluations: 11\n",
        "         Gradient evaluations: 20\n",
        "         Hessian evaluations: 10\n",
        "Optimization terminated successfully."
       ]
      },
      {
       "output_type": "stream",
       "stream": "stdout",
       "text": [
        "\n",
        "         Current function value: 0.427524\n",
        "         Iterations: 10\n",
        "         Function evaluations: 11\n",
        "         Gradient evaluations: 20\n",
        "         Hessian evaluations: 10\n",
        "Optimization terminated successfully."
       ]
      },
      {
       "output_type": "stream",
       "stream": "stdout",
       "text": [
        "\n",
        "         Current function value: 0.428020\n",
        "         Iterations: 10\n",
        "         Function evaluations: 11\n",
        "         Gradient evaluations: 20\n",
        "         Hessian evaluations: 10\n",
        "Optimization terminated successfully."
       ]
      },
      {
       "output_type": "stream",
       "stream": "stdout",
       "text": [
        "\n",
        "         Current function value: 0.428507\n",
        "         Iterations: 10\n",
        "         Function evaluations: 11\n",
        "         Gradient evaluations: 20\n",
        "         Hessian evaluations: 10\n",
        "Optimization terminated successfully."
       ]
      },
      {
       "output_type": "stream",
       "stream": "stdout",
       "text": [
        "\n",
        "         Current function value: 0.429123\n",
        "         Iterations: 10\n",
        "         Function evaluations: 11\n",
        "         Gradient evaluations: 20\n",
        "         Hessian evaluations: 10\n",
        "Optimization terminated successfully."
       ]
      },
      {
       "output_type": "stream",
       "stream": "stdout",
       "text": [
        "\n",
        "         Current function value: 0.429836\n",
        "         Iterations: 10\n",
        "         Function evaluations: 11\n",
        "         Gradient evaluations: 20\n",
        "         Hessian evaluations: 10\n",
        "Optimization terminated successfully."
       ]
      },
      {
       "output_type": "stream",
       "stream": "stdout",
       "text": [
        "\n",
        "         Current function value: 0.430515\n",
        "         Iterations: 10\n",
        "         Function evaluations: 11\n",
        "         Gradient evaluations: 20\n",
        "         Hessian evaluations: 10\n",
        "Optimization terminated successfully."
       ]
      },
      {
       "output_type": "stream",
       "stream": "stdout",
       "text": [
        "\n",
        "         Current function value: 0.431271\n",
        "         Iterations: 10\n",
        "         Function evaluations: 11\n",
        "         Gradient evaluations: 20\n",
        "         Hessian evaluations: 10\n",
        "Optimization terminated successfully."
       ]
      },
      {
       "output_type": "stream",
       "stream": "stdout",
       "text": [
        "\n",
        "         Current function value: 0.431987\n",
        "         Iterations: 10\n",
        "         Function evaluations: 11\n",
        "         Gradient evaluations: 20\n",
        "         Hessian evaluations: 10\n",
        "Optimization terminated successfully."
       ]
      },
      {
       "output_type": "stream",
       "stream": "stdout",
       "text": [
        "\n",
        "         Current function value: 0.433035\n",
        "         Iterations: 10\n",
        "         Function evaluations: 11\n",
        "         Gradient evaluations: 20\n",
        "         Hessian evaluations: 10\n",
        "Optimization terminated successfully."
       ]
      },
      {
       "output_type": "stream",
       "stream": "stdout",
       "text": [
        "\n",
        "         Current function value: 0.433902\n",
        "         Iterations: 10\n",
        "         Function evaluations: 11\n",
        "         Gradient evaluations: 20\n",
        "         Hessian evaluations: 10\n",
        "Optimization terminated successfully."
       ]
      },
      {
       "output_type": "stream",
       "stream": "stdout",
       "text": [
        "\n",
        "         Current function value: 0.434789\n",
        "         Iterations: 10\n",
        "         Function evaluations: 11\n",
        "         Gradient evaluations: 20\n",
        "         Hessian evaluations: 10\n",
        "Optimization terminated successfully."
       ]
      },
      {
       "output_type": "stream",
       "stream": "stdout",
       "text": [
        "\n",
        "         Current function value: 0.435905\n",
        "         Iterations: 10\n",
        "         Function evaluations: 11\n",
        "         Gradient evaluations: 20\n",
        "         Hessian evaluations: 10\n",
        "Optimization terminated successfully."
       ]
      },
      {
       "output_type": "stream",
       "stream": "stdout",
       "text": [
        "\n",
        "         Current function value: 0.436940\n",
        "         Iterations: 10\n",
        "         Function evaluations: 11\n",
        "         Gradient evaluations: 20\n",
        "         Hessian evaluations: 10\n",
        "Optimization terminated successfully."
       ]
      },
      {
       "output_type": "stream",
       "stream": "stdout",
       "text": [
        "\n",
        "         Current function value: 0.437969\n",
        "         Iterations: 10\n",
        "         Function evaluations: 11\n",
        "         Gradient evaluations: 20\n",
        "         Hessian evaluations: 10\n",
        "Optimization terminated successfully."
       ]
      },
      {
       "output_type": "stream",
       "stream": "stdout",
       "text": [
        "\n",
        "         Current function value: 0.439338\n",
        "         Iterations: 10\n",
        "         Function evaluations: 11\n",
        "         Gradient evaluations: 20\n",
        "         Hessian evaluations: 10\n",
        "Optimization terminated successfully."
       ]
      },
      {
       "output_type": "stream",
       "stream": "stdout",
       "text": [
        "\n",
        "         Current function value: 0.440460\n",
        "         Iterations: 9\n",
        "         Function evaluations: 10\n",
        "         Gradient evaluations: 18\n",
        "         Hessian evaluations: 9\n",
        "Optimization terminated successfully."
       ]
      },
      {
       "output_type": "stream",
       "stream": "stdout",
       "text": [
        "\n",
        "         Current function value: 0.441740\n",
        "         Iterations: 10\n",
        "         Function evaluations: 11\n",
        "         Gradient evaluations: 20\n",
        "         Hessian evaluations: 10\n",
        "Optimization terminated successfully."
       ]
      },
      {
       "output_type": "stream",
       "stream": "stdout",
       "text": [
        "\n",
        "         Current function value: 0.442931\n",
        "         Iterations: 10\n",
        "         Function evaluations: 11\n",
        "         Gradient evaluations: 20\n",
        "         Hessian evaluations: 10\n",
        "Optimization terminated successfully."
       ]
      },
      {
       "output_type": "stream",
       "stream": "stdout",
       "text": [
        "\n",
        "         Current function value: 0.444075\n",
        "         Iterations: 9\n",
        "         Function evaluations: 10\n",
        "         Gradient evaluations: 18\n",
        "         Hessian evaluations: 9\n",
        "Optimization terminated successfully."
       ]
      },
      {
       "output_type": "stream",
       "stream": "stdout",
       "text": [
        "\n",
        "         Current function value: 0.445731\n",
        "         Iterations: 9\n",
        "         Function evaluations: 10\n",
        "         Gradient evaluations: 18\n",
        "         Hessian evaluations: 9\n",
        "Optimization terminated successfully."
       ]
      },
      {
       "output_type": "stream",
       "stream": "stdout",
       "text": [
        "\n",
        "         Current function value: 0.447116\n",
        "         Iterations: 11\n",
        "         Function evaluations: 12\n",
        "         Gradient evaluations: 22\n",
        "         Hessian evaluations: 11\n",
        "Optimization terminated successfully."
       ]
      },
      {
       "output_type": "stream",
       "stream": "stdout",
       "text": [
        "\n",
        "         Current function value: 0.448433\n",
        "         Iterations: 10\n",
        "         Function evaluations: 11\n",
        "         Gradient evaluations: 20\n",
        "         Hessian evaluations: 10\n",
        "Optimization terminated successfully."
       ]
      },
      {
       "output_type": "stream",
       "stream": "stdout",
       "text": [
        "\n",
        "         Current function value: 0.450153\n",
        "         Iterations: 10\n",
        "         Function evaluations: 11\n",
        "         Gradient evaluations: 20\n",
        "         Hessian evaluations: 10\n",
        "Optimization terminated successfully."
       ]
      },
      {
       "output_type": "stream",
       "stream": "stdout",
       "text": [
        "\n",
        "         Current function value: 0.453106\n",
        "         Iterations: 9\n",
        "         Function evaluations: 10\n",
        "         Gradient evaluations: 18\n",
        "         Hessian evaluations: 9\n",
        "Optimization terminated successfully."
       ]
      },
      {
       "output_type": "stream",
       "stream": "stdout",
       "text": [
        "\n",
        "         Current function value: 0.455235\n",
        "         Iterations: 9\n",
        "         Function evaluations: 10\n",
        "         Gradient evaluations: 18\n",
        "         Hessian evaluations: 9\n",
        "Optimization terminated successfully."
       ]
      },
      {
       "output_type": "stream",
       "stream": "stdout",
       "text": [
        "\n",
        "         Current function value: 0.456793\n",
        "         Iterations: 9\n",
        "         Function evaluations: 10\n",
        "         Gradient evaluations: 18\n",
        "         Hessian evaluations: 9\n",
        "==========\n",
        "The reduced model results are:\n",
        "                           Logit Regression Results                           \n",
        "==============================================================================\n",
        "Dep. Variable:                SER_INJ   No. Observations:                 1022\n",
        "Model:                          Logit   Df Residuals:                     1003\n",
        "Method:                           MLE   Df Model:                           18\n",
        "Date:                Mon, 05 May 2014   Pseudo R-squ.:                  0.1121\n",
        "Time:                        22:19:02   Log-Likelihood:                -466.84\n",
        "converged:                       True   LL-Null:                       -525.77\n",
        "                                        LLR p-value:                 1.067e-16\n",
        "=====================================================================================================\n",
        "                                        coef    std err          z      P>|z|      [95.0% Conf. Int.]\n",
        "-----------------------------------------------------------------------------------------------------\n",
        "EMER_USE_vehDup_Treatment_9999_T0    -1.6430      0.784     -2.095      0.036        -3.180    -0.106\n",
        "P_CRASH2_Treatment_9999_T16          -0.9974      0.448     -2.227      0.026        -1.875    -0.120\n",
        "VTRAFWAY_Treatment_9999_T4           -1.2803      0.631     -2.031      0.042        -2.516    -0.045\n",
        "LOCATION_Treatment_9999_T23          -1.5185      0.544     -2.791      0.005        -2.585    -0.452\n",
        "LAND_USE_Treatment_9999_T2           -0.7547      0.348     -2.172      0.030        -1.436    -0.074\n",
        "HOUR_IM_T17                           0.6390      0.245      2.608      0.009         0.159     1.119\n",
        "VTRAFCON_Treatment_9999_T20          -0.4983      0.245     -2.036      0.042        -0.978    -0.019\n",
        "V_ALCH_IM_T2                         -2.2562      1.041     -2.168      0.030        -4.296    -0.217\n",
        "BDYTYP_IM_T9                         -1.0301      0.318     -3.237      0.001        -1.654    -0.406\n",
        "PCRASH5_Treatment_9999_T1             0.5744      0.280      2.048      0.041         0.025     1.124\n",
        "P_CRASH2_Treatment_9999_T12           2.6200      1.268      2.067      0.039         0.136     5.104\n",
        "nodeNum_0                             0.4584      1.621      0.283      0.777        -2.719     3.635\n",
        "nodeNum_4                             3.5990      1.554      2.316      0.021         0.554     6.644\n",
        "nodeNum_5                             2.9052      1.369      2.123      0.034         0.223     5.587\n",
        "nodeNum_6                             2.9133      1.324      2.201      0.028         0.319     5.508\n",
        "nodeNum_9                             2.6324      1.337      1.968      0.049         0.011     5.254\n",
        "nodeNum_10                            4.3962      1.836      2.395      0.017         0.798     7.994\n",
        "nodeNum_18                            1.2732      1.264      1.007      0.314        -1.204     3.750\n",
        "nodeNum_20                            1.9931      1.317      1.513      0.130        -0.588     4.574\n",
        "====================================================================================================="
       ]
      },
      {
       "output_type": "stream",
       "stream": "stdout",
       "text": [
        "\n",
        "When using the hybrid-CART Logit model, the various errors are: "
       ]
      },
      {
       "output_type": "stream",
       "stream": "stdout",
       "text": [
        "\n",
        "\n",
        "Total Error: 0.217543859649\n",
        "Class 0 Error: 0.0403587443946\n",
        "Class 1 Error: 0.854838709677\n",
        "\n",
        "Note: The number of non-zero logit predictions is 14\n",
        "==========\n",
        "\n",
        "==========\n",
        "When using the decision tree, its various error rates are:"
       ]
      },
      {
       "output_type": "stream",
       "stream": "stdout",
       "text": [
        "\n",
        "Total Error: 0.210526315789\n",
        "Class 0 error rate: 0.00448430493274\n",
        "Class 1 error rate: 0.951612903226"
       ]
      },
      {
       "output_type": "stream",
       "stream": "stdout",
       "text": [
        "\n"
       ]
      }
     ],
     "prompt_number": 162
    },
    {
     "cell_type": "code",
     "collapsed": false,
     "input": [
      "with open(\"models_and_errors/min10_model.pkl\", \"wb\") as f:\n",
      "    cPickle.dump(min10_model_and_errs[0], f)\n",
      "    \n",
      "min10_model_and_errs[1].to_pickle(\"models_and_errors/min10_errors_df.pkl\")\n",
      "\n",
      "with open(\"models_and_errors/naive_model.pkl\", \"wb\") as f:\n",
      "    cPickle.dump(naive_model_and_errs[0], f)\n",
      "    \n",
      "naive_model_and_errs[1].to_pickle(\"models_and_errors/naive_errors_df.pkl\")"
     ],
     "language": "python",
     "metadata": {},
     "outputs": [],
     "prompt_number": 166
    },
    {
     "cell_type": "code",
     "collapsed": false,
     "input": [
      "for i, node in enumerate(min10_nodes):\n",
      "    print \"=\"*10\n",
      "    print \"Node {}:\".format(i)\n",
      "    print node\n",
      "    print \"=\"*10"
     ],
     "language": "python",
     "metadata": {},
     "outputs": [
      {
       "output_type": "stream",
       "stream": "stdout",
       "text": [
        "==========\n",
        "Node 0:\n",
        "[('C(PCRASH1_IM)[T.1]', 1, 'true'), ('C(ALCHL_IM)[T.2]', 1, 'true'), ('C(VPROFILE, Treatment(9999))[T.1]', 1, 'true'), ('NUMOCCS', 4, 'true'), {0: 17, 1: 1}]\n",
        "==========\n",
        "==========\n",
        "Node 1:\n",
        "[('C(PCRASH1_IM)[T.1]', 1, 'true'), ('C(ALCHL_IM)[T.2]', 1, 'true'), ('C(VPROFILE, Treatment(9999))[T.1]', 1, 'true'), ('NUMOCCS', 4, 'false'), ('C(VTCONT_F, Treatment(9999))[T.3]', 1, 'true'), {0: 66, 1: 17}]\n",
        "==========\n",
        "==========\n",
        "Node 2:\n",
        "[('C(PCRASH1_IM)[T.1]', 1, 'true'), ('C(ALCHL_IM)[T.2]', 1, 'true'), ('C(VPROFILE, Treatment(9999))[T.1]', 1, 'true'), ('NUMOCCS', 4, 'false'), ('C(VTCONT_F, Treatment(9999))[T.3]', 1, 'false'), ('AGE_IM', 22, 'true'), ('C(VTRAFWAY, Treatment(9999))[T.1]', 1, 'true'), ('C(DRIVER_SEX, Treatment(9999))[T.1]', 1, 'true'), {0: 10, 1: 23}]\n",
        "==========\n",
        "==========\n",
        "Node 3:\n",
        "[('C(PCRASH1_IM)[T.1]', 1, 'true'), ('C(ALCHL_IM)[T.2]', 1, 'true'), ('C(VPROFILE, Treatment(9999))[T.1]', 1, 'true'), ('NUMOCCS', 4, 'false'), ('C(VTCONT_F, Treatment(9999))[T.3]', 1, 'false'), ('AGE_IM', 22, 'true'), ('C(VTRAFWAY, Treatment(9999))[T.1]', 1, 'true'), ('C(DRIVER_SEX, Treatment(9999))[T.1]', 1, 'false'), {0: 13, 1: 7}]\n",
        "==========\n",
        "==========\n",
        "Node 4:\n",
        "[('C(PCRASH1_IM)[T.1]', 1, 'true'), ('C(ALCHL_IM)[T.2]', 1, 'true'), ('C(VPROFILE, Treatment(9999))[T.1]', 1, 'true'), ('NUMOCCS', 4, 'false'), ('C(VTCONT_F, Treatment(9999))[T.3]', 1, 'false'), ('AGE_IM', 22, 'true'), ('C(VTRAFWAY, Treatment(9999))[T.1]', 1, 'false'), ('AGE_IM', 37, 'true'), ('DRIVER_AGE', 28, 'true'), ('AGE_IM', 52, 'true'), ('C(REGION)[T.3]', 1, 'true'), {0: 2, 1: 8}]\n",
        "==========\n",
        "==========\n",
        "Node 5:\n",
        "[('C(PCRASH1_IM)[T.1]', 1, 'true'), ('C(ALCHL_IM)[T.2]', 1, 'true'), ('C(VPROFILE, Treatment(9999))[T.1]', 1, 'true'), ('NUMOCCS', 4, 'false'), ('C(VTCONT_F, Treatment(9999))[T.3]', 1, 'false'), ('AGE_IM', 22, 'true'), ('C(VTRAFWAY, Treatment(9999))[T.1]', 1, 'false'), ('AGE_IM', 37, 'true'), ('DRIVER_AGE', 28, 'true'), ('AGE_IM', 52, 'true'), ('C(REGION)[T.3]', 1, 'false'), {0: 8, 1: 2}]\n",
        "==========\n",
        "==========\n",
        "Node 6:\n",
        "[('C(PCRASH1_IM)[T.1]', 1, 'true'), ('C(ALCHL_IM)[T.2]', 1, 'true'), ('C(VPROFILE, Treatment(9999))[T.1]', 1, 'true'), ('NUMOCCS', 4, 'false'), ('C(VTCONT_F, Treatment(9999))[T.3]', 1, 'false'), ('AGE_IM', 22, 'true'), ('C(VTRAFWAY, Treatment(9999))[T.1]', 1, 'false'), ('AGE_IM', 37, 'true'), ('DRIVER_AGE', 28, 'true'), ('AGE_IM', 52, 'false'), {0: 16, 1: 2}]\n",
        "==========\n",
        "==========\n",
        "Node 7:\n",
        "[('C(PCRASH1_IM)[T.1]', 1, 'true'), ('C(ALCHL_IM)[T.2]', 1, 'true'), ('C(VPROFILE, Treatment(9999))[T.1]', 1, 'true'), ('NUMOCCS', 4, 'false'), ('C(VTCONT_F, Treatment(9999))[T.3]', 1, 'false'), ('AGE_IM', 22, 'true'), ('C(VTRAFWAY, Treatment(9999))[T.1]', 1, 'false'), ('AGE_IM', 37, 'true'), ('DRIVER_AGE', 28, 'false'), {0: 13}]\n",
        "==========\n",
        "==========\n",
        "Node 8:\n",
        "[('C(PCRASH1_IM)[T.1]', 1, 'true'), ('C(ALCHL_IM)[T.2]', 1, 'true'), ('C(VPROFILE, Treatment(9999))[T.1]', 1, 'true'), ('NUMOCCS', 4, 'false'), ('C(VTCONT_F, Treatment(9999))[T.3]', 1, 'false'), ('AGE_IM', 22, 'true'), ('C(VTRAFWAY, Treatment(9999))[T.1]', 1, 'false'), ('AGE_IM', 37, 'false'), {0: 16, 1: 15}]\n",
        "==========\n",
        "==========\n",
        "Node 9:\n",
        "[('C(PCRASH1_IM)[T.1]', 1, 'true'), ('C(ALCHL_IM)[T.2]', 1, 'true'), ('C(VPROFILE, Treatment(9999))[T.1]', 1, 'true'), ('NUMOCCS', 4, 'false'), ('C(VTCONT_F, Treatment(9999))[T.3]', 1, 'false'), ('AGE_IM', 22, 'false'), {0: 65, 1: 24}]\n",
        "==========\n",
        "==========\n",
        "Node 10:\n",
        "[('C(PCRASH1_IM)[T.1]', 1, 'true'), ('C(ALCHL_IM)[T.2]', 1, 'true'), ('C(VPROFILE, Treatment(9999))[T.1]', 1, 'false'), {0: 114, 1: 22}]\n",
        "==========\n",
        "==========\n",
        "Node 11:\n",
        "[('C(PCRASH1_IM)[T.1]', 1, 'true'), ('C(ALCHL_IM)[T.2]', 1, 'false'), {0: 10, 1: 17}]\n",
        "==========\n",
        "==========\n",
        "Node 12:\n",
        "[('C(PCRASH1_IM)[T.1]', 1, 'false'), ('C(HOUR_IM)[T.13]', 1, 'true'), {0: 37}]\n",
        "==========\n",
        "==========\n",
        "Node 13:\n",
        "[('C(PCRASH1_IM)[T.1]', 1, 'false'), ('C(HOUR_IM)[T.13]', 1, 'false'), ('C(LOCATION, Treatment(9999))[T.23]', 1, 'true'), {0: 67, 1: 3}]\n",
        "==========\n",
        "==========\n",
        "Node 14:\n",
        "[('C(PCRASH1_IM)[T.1]', 1, 'false'), ('C(HOUR_IM)[T.13]', 1, 'false'), ('C(LOCATION, Treatment(9999))[T.23]', 1, 'false'), ('C(BDYTYP_IM)[T.9]', 1, 'true'), {0: 71, 1: 4}]\n",
        "==========\n",
        "==========\n",
        "Node 15:\n",
        "[('C(PCRASH1_IM)[T.1]', 1, 'false'), ('C(HOUR_IM)[T.13]', 1, 'false'), ('C(LOCATION, Treatment(9999))[T.23]', 1, 'false'), ('C(BDYTYP_IM)[T.9]', 1, 'false'), ('C(REL_ROAD, Treatment(9999))[T.1]', 1, 'true'), ('C(BDYTYP_IM)[T.2]', 1, 'true'), {0: 26, 1: 1}]\n",
        "==========\n",
        "==========\n",
        "Node 16:\n",
        "[('C(PCRASH1_IM)[T.1]', 1, 'false'), ('C(HOUR_IM)[T.13]', 1, 'false'), ('C(LOCATION, Treatment(9999))[T.23]', 1, 'false'), ('C(BDYTYP_IM)[T.9]', 1, 'false'), ('C(REL_ROAD, Treatment(9999))[T.1]', 1, 'true'), ('C(BDYTYP_IM)[T.2]', 1, 'false'), ('C(MONTH)[T.8]', 1, 'true'), {0: 48, 1: 5}]\n",
        "==========\n",
        "==========\n",
        "Node 17:\n",
        "[('C(PCRASH1_IM)[T.1]', 1, 'false'), ('C(HOUR_IM)[T.13]', 1, 'false'), ('C(LOCATION, Treatment(9999))[T.23]', 1, 'false'), ('C(BDYTYP_IM)[T.9]', 1, 'false'), ('C(REL_ROAD, Treatment(9999))[T.1]', 1, 'true'), ('C(BDYTYP_IM)[T.2]', 1, 'false'), ('C(MONTH)[T.8]', 1, 'false'), ('C(VTRAFWAY, Treatment(9999))[T.4]', 1, 'true'), {0: 11}]\n",
        "==========\n",
        "==========\n",
        "Node 18:\n",
        "[('C(PCRASH1_IM)[T.1]', 1, 'false'), ('C(HOUR_IM)[T.13]', 1, 'false'), ('C(LOCATION, Treatment(9999))[T.23]', 1, 'false'), ('C(BDYTYP_IM)[T.9]', 1, 'false'), ('C(REL_ROAD, Treatment(9999))[T.1]', 1, 'true'), ('C(BDYTYP_IM)[T.2]', 1, 'false'), ('C(MONTH)[T.8]', 1, 'false'), ('C(VTRAFWAY, Treatment(9999))[T.4]', 1, 'false'), ('C(BDYTYP_IM)[T.15]', 1, 'true'), {0: 11}]\n",
        "==========\n",
        "==========\n",
        "Node 19:\n",
        "[('C(PCRASH1_IM)[T.1]', 1, 'false'), ('C(HOUR_IM)[T.13]', 1, 'false'), ('C(LOCATION, Treatment(9999))[T.23]', 1, 'false'), ('C(BDYTYP_IM)[T.9]', 1, 'false'), ('C(REL_ROAD, Treatment(9999))[T.1]', 1, 'true'), ('C(BDYTYP_IM)[T.2]', 1, 'false'), ('C(MONTH)[T.8]', 1, 'false'), ('C(VTRAFWAY, Treatment(9999))[T.4]', 1, 'false'), ('C(BDYTYP_IM)[T.15]', 1, 'false'), ('C(LAND_USE, Treatment(9999))[T.2]', 1, 'true'), {0: 31, 1: 3}]\n",
        "==========\n",
        "==========\n",
        "Node 20:\n",
        "[('C(PCRASH1_IM)[T.1]', 1, 'false'), ('C(HOUR_IM)[T.13]', 1, 'false'), ('C(LOCATION, Treatment(9999))[T.23]', 1, 'false'), ('C(BDYTYP_IM)[T.9]', 1, 'false'), ('C(REL_ROAD, Treatment(9999))[T.1]', 1, 'true'), ('C(BDYTYP_IM)[T.2]', 1, 'false'), ('C(MONTH)[T.8]', 1, 'false'), ('C(VTRAFWAY, Treatment(9999))[T.4]', 1, 'false'), ('C(BDYTYP_IM)[T.15]', 1, 'false'), ('C(LAND_USE, Treatment(9999))[T.2]', 1, 'false'), ('C(HOUR_IM)[T.17]', 1, 'true'), {0: 29, 1: 17}]\n",
        "==========\n",
        "==========\n",
        "Node 21:\n",
        "[('C(PCRASH1_IM)[T.1]', 1, 'false'), ('C(HOUR_IM)[T.13]', 1, 'false'), ('C(LOCATION, Treatment(9999))[T.23]', 1, 'false'), ('C(BDYTYP_IM)[T.9]', 1, 'false'), ('C(REL_ROAD, Treatment(9999))[T.1]', 1, 'true'), ('C(BDYTYP_IM)[T.2]', 1, 'false'), ('C(MONTH)[T.8]', 1, 'false'), ('C(VTRAFWAY, Treatment(9999))[T.4]', 1, 'false'), ('C(BDYTYP_IM)[T.15]', 1, 'false'), ('C(LAND_USE, Treatment(9999))[T.2]', 1, 'false'), ('C(HOUR_IM)[T.17]', 1, 'false'), ('DRIVER_AGE', 81, 'true'), {0: 6, 1: 5}]\n",
        "==========\n",
        "==========\n",
        "Node 22:\n",
        "[('C(PCRASH1_IM)[T.1]', 1, 'false'), ('C(HOUR_IM)[T.13]', 1, 'false'), ('C(LOCATION, Treatment(9999))[T.23]', 1, 'false'), ('C(BDYTYP_IM)[T.9]', 1, 'false'), ('C(REL_ROAD, Treatment(9999))[T.1]', 1, 'true'), ('C(BDYTYP_IM)[T.2]', 1, 'false'), ('C(MONTH)[T.8]', 1, 'false'), ('C(VTRAFWAY, Treatment(9999))[T.4]', 1, 'false'), ('C(BDYTYP_IM)[T.15]', 1, 'false'), ('C(LAND_USE, Treatment(9999))[T.2]', 1, 'false'), ('C(HOUR_IM)[T.17]', 1, 'false'), ('DRIVER_AGE', 81, 'false'), ('C(TYP_INT, Treatment(9999))[T.2]', 1, 'true'), {0: 69, 1: 28}]\n",
        "==========\n",
        "==========\n",
        "Node 23:\n",
        "[('C(PCRASH1_IM)[T.1]', 1, 'false'), ('C(HOUR_IM)[T.13]', 1, 'false'), ('C(LOCATION, Treatment(9999))[T.23]', 1, 'false'), ('C(BDYTYP_IM)[T.9]', 1, 'false'), ('C(REL_ROAD, Treatment(9999))[T.1]', 1, 'true'), ('C(BDYTYP_IM)[T.2]', 1, 'false'), ('C(MONTH)[T.8]', 1, 'false'), ('C(VTRAFWAY, Treatment(9999))[T.4]', 1, 'false'), ('C(BDYTYP_IM)[T.15]', 1, 'false'), ('C(LAND_USE, Treatment(9999))[T.2]', 1, 'false'), ('C(HOUR_IM)[T.17]', 1, 'false'), ('DRIVER_AGE', 81, 'false'), ('C(TYP_INT, Treatment(9999))[T.2]', 1, 'false'), ('C(PCRASH1_IM)[T.4]', 1, 'true'), {0: 15}]\n",
        "==========\n",
        "==========\n",
        "Node 24:\n",
        "[('C(PCRASH1_IM)[T.1]', 1, 'false'), ('C(HOUR_IM)[T.13]', 1, 'false'), ('C(LOCATION, Treatment(9999))[T.23]', 1, 'false'), ('C(BDYTYP_IM)[T.9]', 1, 'false'), ('C(REL_ROAD, Treatment(9999))[T.1]', 1, 'true'), ('C(BDYTYP_IM)[T.2]', 1, 'false'), ('C(MONTH)[T.8]', 1, 'false'), ('C(VTRAFWAY, Treatment(9999))[T.4]', 1, 'false'), ('C(BDYTYP_IM)[T.15]', 1, 'false'), ('C(LAND_USE, Treatment(9999))[T.2]', 1, 'false'), ('C(HOUR_IM)[T.17]', 1, 'false'), ('DRIVER_AGE', 81, 'false'), ('C(TYP_INT, Treatment(9999))[T.2]', 1, 'false'), ('C(PCRASH1_IM)[T.4]', 1, 'false'), ('C(HITRUN_IM)[T.1]', 1, 'true'), {0: 12}]\n",
        "==========\n",
        "==========\n",
        "Node 25:\n",
        "[('C(PCRASH1_IM)[T.1]', 1, 'false'), ('C(HOUR_IM)[T.13]', 1, 'false'), ('C(LOCATION, Treatment(9999))[T.23]', 1, 'false'), ('C(BDYTYP_IM)[T.9]', 1, 'false'), ('C(REL_ROAD, Treatment(9999))[T.1]', 1, 'true'), ('C(BDYTYP_IM)[T.2]', 1, 'false'), ('C(MONTH)[T.8]', 1, 'false'), ('C(VTRAFWAY, Treatment(9999))[T.4]', 1, 'false'), ('C(BDYTYP_IM)[T.15]', 1, 'false'), ('C(LAND_USE, Treatment(9999))[T.2]', 1, 'false'), ('C(HOUR_IM)[T.17]', 1, 'false'), ('DRIVER_AGE', 81, 'false'), ('C(TYP_INT, Treatment(9999))[T.2]', 1, 'false'), ('C(PCRASH1_IM)[T.4]', 1, 'false'), ('C(HITRUN_IM)[T.1]', 1, 'false'), ('C(DRIVER_SEX, Treatment(9999))[T.1]', 1, 'true'), {0: 72, 1: 15}]\n",
        "==========\n",
        "==========\n",
        "Node 26:\n",
        "[('C(PCRASH1_IM)[T.1]', 1, 'false'), ('C(HOUR_IM)[T.13]', 1, 'false'), ('C(LOCATION, Treatment(9999))[T.23]', 1, 'false'), ('C(BDYTYP_IM)[T.9]', 1, 'false'), ('C(REL_ROAD, Treatment(9999))[T.1]', 1, 'true'), ('C(BDYTYP_IM)[T.2]', 1, 'false'), ('C(MONTH)[T.8]', 1, 'false'), ('C(VTRAFWAY, Treatment(9999))[T.4]', 1, 'false'), ('C(BDYTYP_IM)[T.15]', 1, 'false'), ('C(LAND_USE, Treatment(9999))[T.2]', 1, 'false'), ('C(HOUR_IM)[T.17]', 1, 'false'), ('DRIVER_AGE', 81, 'false'), ('C(TYP_INT, Treatment(9999))[T.2]', 1, 'false'), ('C(PCRASH1_IM)[T.4]', 1, 'false'), ('C(HITRUN_IM)[T.1]', 1, 'false'), ('C(DRIVER_SEX, Treatment(9999))[T.1]', 1, 'false'), ('AGE_IM', 53, 'true'), {0: 4, 1: 6}]\n",
        "==========\n",
        "==========\n",
        "Node 27:\n",
        "[('C(PCRASH1_IM)[T.1]', 1, 'false'), ('C(HOUR_IM)[T.13]', 1, 'false'), ('C(LOCATION, Treatment(9999))[T.23]', 1, 'false'), ('C(BDYTYP_IM)[T.9]', 1, 'false'), ('C(REL_ROAD, Treatment(9999))[T.1]', 1, 'true'), ('C(BDYTYP_IM)[T.2]', 1, 'false'), ('C(MONTH)[T.8]', 1, 'false'), ('C(VTRAFWAY, Treatment(9999))[T.4]', 1, 'false'), ('C(BDYTYP_IM)[T.15]', 1, 'false'), ('C(LAND_USE, Treatment(9999))[T.2]', 1, 'false'), ('C(HOUR_IM)[T.17]', 1, 'false'), ('DRIVER_AGE', 81, 'false'), ('C(TYP_INT, Treatment(9999))[T.2]', 1, 'false'), ('C(PCRASH1_IM)[T.4]', 1, 'false'), ('C(HITRUN_IM)[T.1]', 1, 'false'), ('C(DRIVER_SEX, Treatment(9999))[T.1]', 1, 'false'), ('AGE_IM', 53, 'false'), {0: 34, 1: 10}]\n",
        "==========\n",
        "==========\n",
        "Node 28:\n",
        "[('C(PCRASH1_IM)[T.1]', 1, 'false'), ('C(HOUR_IM)[T.13]', 1, 'false'), ('C(LOCATION, Treatment(9999))[T.23]', 1, 'false'), ('C(BDYTYP_IM)[T.9]', 1, 'false'), ('C(REL_ROAD, Treatment(9999))[T.1]', 1, 'false'), {0: 14}]\n",
        "==========\n"
       ]
      }
     ],
     "prompt_number": 132
    },
    {
     "cell_type": "code",
     "collapsed": false,
     "input": [
      "for i, node in enumerate(naive_nodes):\n",
      "    print \"=\"*10\n",
      "    print \"Node {}:\".format(i)\n",
      "    print node\n",
      "    print \"=\"*10"
     ],
     "language": "python",
     "metadata": {},
     "outputs": [
      {
       "output_type": "stream",
       "stream": "stdout",
       "text": [
        "==========\n",
        "Node 0:\n",
        "[('C(PCRASH1_IM)[T.1]', 1, 'true'), ('C(ALCHL_IM)[T.2]', 1, 'true'), ('C(VPROFILE, Treatment(9999))[T.1]', 1, 'true'), ('NUMOCCS', 4, 'true'), {0: 17, 1: 1}]\n",
        "==========\n",
        "==========\n",
        "Node 1:\n",
        "[('C(PCRASH1_IM)[T.1]', 1, 'true'), ('C(ALCHL_IM)[T.2]', 1, 'true'), ('C(VPROFILE, Treatment(9999))[T.1]', 1, 'true'), ('NUMOCCS', 4, 'false'), ('C(VTCONT_F, Treatment(9999))[T.3]', 1, 'true'), ('MSAFEQMT1', 1, 'true'), ('C(DRUGS, Treatment(9999))[T.0]', 1, 'true'), ('C(LOCATION, Treatment(9999))[T.2]', 1, 'true'), ('C(MONTH)[T.2]', 1, 'true'), {1: 1}]\n",
        "==========\n",
        "==========\n",
        "Node 2:\n",
        "[('C(PCRASH1_IM)[T.1]', 1, 'true'), ('C(ALCHL_IM)[T.2]', 1, 'true'), ('C(VPROFILE, Treatment(9999))[T.1]', 1, 'true'), ('NUMOCCS', 4, 'false'), ('C(VTCONT_F, Treatment(9999))[T.3]', 1, 'true'), ('MSAFEQMT1', 1, 'true'), ('C(DRUGS, Treatment(9999))[T.0]', 1, 'true'), ('C(LOCATION, Treatment(9999))[T.2]', 1, 'true'), ('C(MONTH)[T.2]', 1, 'false'), {0: 1}]\n",
        "==========\n",
        "==========\n",
        "Node 3:\n",
        "[('C(PCRASH1_IM)[T.1]', 1, 'true'), ('C(ALCHL_IM)[T.2]', 1, 'true'), ('C(VPROFILE, Treatment(9999))[T.1]', 1, 'true'), ('NUMOCCS', 4, 'false'), ('C(VTCONT_F, Treatment(9999))[T.3]', 1, 'true'), ('MSAFEQMT1', 1, 'true'), ('C(DRUGS, Treatment(9999))[T.0]', 1, 'true'), ('C(LOCATION, Treatment(9999))[T.2]', 1, 'false'), {0: 34}]\n",
        "==========\n",
        "==========\n",
        "Node 4:\n",
        "[('C(PCRASH1_IM)[T.1]', 1, 'true'), ('C(ALCHL_IM)[T.2]', 1, 'true'), ('C(VPROFILE, Treatment(9999))[T.1]', 1, 'true'), ('NUMOCCS', 4, 'false'), ('C(VTCONT_F, Treatment(9999))[T.3]', 1, 'true'), ('MSAFEQMT1', 1, 'true'), ('C(DRUGS, Treatment(9999))[T.0]', 1, 'false'), {0: 4, 1: 3}]\n",
        "==========\n",
        "==========\n",
        "Node 5:\n",
        "[('C(PCRASH1_IM)[T.1]', 1, 'true'), ('C(ALCHL_IM)[T.2]', 1, 'true'), ('C(VPROFILE, Treatment(9999))[T.1]', 1, 'true'), ('NUMOCCS', 4, 'false'), ('C(VTCONT_F, Treatment(9999))[T.3]', 1, 'true'), ('MSAFEQMT1', 1, 'false'), {0: 27, 1: 13}]\n",
        "==========\n",
        "==========\n",
        "Node 6:\n",
        "[('C(PCRASH1_IM)[T.1]', 1, 'true'), ('C(ALCHL_IM)[T.2]', 1, 'true'), ('C(VPROFILE, Treatment(9999))[T.1]', 1, 'true'), ('NUMOCCS', 4, 'false'), ('C(VTCONT_F, Treatment(9999))[T.3]', 1, 'false'), {0: 143, 1: 81}]\n",
        "==========\n",
        "==========\n",
        "Node 7:\n",
        "[('C(PCRASH1_IM)[T.1]', 1, 'true'), ('C(ALCHL_IM)[T.2]', 1, 'true'), ('C(VPROFILE, Treatment(9999))[T.1]', 1, 'false'), ('C(IMPACT2_vehDup, Treatment(9999))[T.4]', 1, 'true'), {1: 2}]\n",
        "==========\n",
        "==========\n",
        "Node 8:\n",
        "[('C(PCRASH1_IM)[T.1]', 1, 'true'), ('C(ALCHL_IM)[T.2]', 1, 'true'), ('C(VPROFILE, Treatment(9999))[T.1]', 1, 'false'), ('C(IMPACT2_vehDup, Treatment(9999))[T.4]', 1, 'false'), ('DRIVER_AGE', 68, 'true'), {0: 18}]\n",
        "==========\n",
        "==========\n",
        "Node 9:\n",
        "[('C(PCRASH1_IM)[T.1]', 1, 'true'), ('C(ALCHL_IM)[T.2]', 1, 'true'), ('C(VPROFILE, Treatment(9999))[T.1]', 1, 'false'), ('C(IMPACT2_vehDup, Treatment(9999))[T.4]', 1, 'false'), ('DRIVER_AGE', 68, 'false'), ('C(IMPACT1_IM)[T.12]', 1, 'true'), {0: 52, 1: 16}]\n",
        "==========\n",
        "==========\n",
        "Node 10:\n",
        "[('C(PCRASH1_IM)[T.1]', 1, 'true'), ('C(ALCHL_IM)[T.2]', 1, 'true'), ('C(VPROFILE, Treatment(9999))[T.1]', 1, 'false'), ('C(IMPACT2_vehDup, Treatment(9999))[T.4]', 1, 'false'), ('DRIVER_AGE', 68, 'false'), ('C(IMPACT1_IM)[T.12]', 1, 'false'), ('C(TYP_INT, Treatment(9999))[T.1]', 1, 'true'), ('C(WKDY_IM)[T.7]', 1, 'true'), {0: 1, 1: 2}]\n",
        "==========\n",
        "==========\n",
        "Node 11:\n",
        "[('C(PCRASH1_IM)[T.1]', 1, 'true'), ('C(ALCHL_IM)[T.2]', 1, 'true'), ('C(VPROFILE, Treatment(9999))[T.1]', 1, 'false'), ('C(IMPACT2_vehDup, Treatment(9999))[T.4]', 1, 'false'), ('DRIVER_AGE', 68, 'false'), ('C(IMPACT1_IM)[T.12]', 1, 'false'), ('C(TYP_INT, Treatment(9999))[T.1]', 1, 'true'), ('C(WKDY_IM)[T.7]', 1, 'false'), ('AGE_IM', 30, 'true'), ('AGE_IM', 49, 'true'), {0: 3}]\n",
        "==========\n",
        "==========\n",
        "Node 12:\n",
        "[('C(PCRASH1_IM)[T.1]', 1, 'true'), ('C(ALCHL_IM)[T.2]', 1, 'true'), ('C(VPROFILE, Treatment(9999))[T.1]', 1, 'false'), ('C(IMPACT2_vehDup, Treatment(9999))[T.4]', 1, 'false'), ('DRIVER_AGE', 68, 'false'), ('C(IMPACT1_IM)[T.12]', 1, 'false'), ('C(TYP_INT, Treatment(9999))[T.1]', 1, 'true'), ('C(WKDY_IM)[T.7]', 1, 'false'), ('AGE_IM', 30, 'true'), ('AGE_IM', 49, 'false'), {1: 2}]\n",
        "==========\n",
        "==========\n",
        "Node 13:\n",
        "[('C(PCRASH1_IM)[T.1]', 1, 'true'), ('C(ALCHL_IM)[T.2]', 1, 'true'), ('C(VPROFILE, Treatment(9999))[T.1]', 1, 'false'), ('C(IMPACT2_vehDup, Treatment(9999))[T.4]', 1, 'false'), ('DRIVER_AGE', 68, 'false'), ('C(IMPACT1_IM)[T.12]', 1, 'false'), ('C(TYP_INT, Treatment(9999))[T.1]', 1, 'true'), ('C(WKDY_IM)[T.7]', 1, 'false'), ('AGE_IM', 30, 'false'), {0: 16}]\n",
        "==========\n",
        "==========\n",
        "Node 14:\n",
        "[('C(PCRASH1_IM)[T.1]', 1, 'true'), ('C(ALCHL_IM)[T.2]', 1, 'true'), ('C(VPROFILE, Treatment(9999))[T.1]', 1, 'false'), ('C(IMPACT2_vehDup, Treatment(9999))[T.4]', 1, 'false'), ('DRIVER_AGE', 68, 'false'), ('C(IMPACT1_IM)[T.12]', 1, 'false'), ('C(TYP_INT, Treatment(9999))[T.1]', 1, 'false'), {0: 24}]\n",
        "==========\n",
        "==========\n",
        "Node 15:\n",
        "[('C(PCRASH1_IM)[T.1]', 1, 'true'), ('C(ALCHL_IM)[T.2]', 1, 'false'), ('AGE_IM', 51, 'true'), {1: 7}]\n",
        "==========\n",
        "==========\n",
        "Node 16:\n",
        "[('C(PCRASH1_IM)[T.1]', 1, 'true'), ('C(ALCHL_IM)[T.2]', 1, 'false'), ('AGE_IM', 51, 'false'), ('C(LGTCON_IM)[T.2]', 1, 'true'), {1: 4}]\n",
        "==========\n",
        "==========\n",
        "Node 17:\n",
        "[('C(PCRASH1_IM)[T.1]', 1, 'true'), ('C(ALCHL_IM)[T.2]', 1, 'false'), ('AGE_IM', 51, 'false'), ('C(LGTCON_IM)[T.2]', 1, 'false'), ('C(SPEEDREL, Treatment(9999))[T.0]', 1, 'true'), ('C(LGTCON_IM)[T.3]', 1, 'true'), {1: 4}]\n",
        "==========\n",
        "==========\n",
        "Node 18:\n",
        "[('C(PCRASH1_IM)[T.1]', 1, 'true'), ('C(ALCHL_IM)[T.2]', 1, 'false'), ('AGE_IM', 51, 'false'), ('C(LGTCON_IM)[T.2]', 1, 'false'), ('C(SPEEDREL, Treatment(9999))[T.0]', 1, 'true'), ('C(LGTCON_IM)[T.3]', 1, 'false'), {0: 6, 1: 2}]\n",
        "==========\n",
        "==========\n",
        "Node 19:\n",
        "[('C(PCRASH1_IM)[T.1]', 1, 'true'), ('C(ALCHL_IM)[T.2]', 1, 'false'), ('AGE_IM', 51, 'false'), ('C(LGTCON_IM)[T.2]', 1, 'false'), ('C(SPEEDREL, Treatment(9999))[T.0]', 1, 'false'), {0: 4}]\n",
        "==========\n",
        "==========\n",
        "Node 20:\n",
        "[('C(PCRASH1_IM)[T.1]', 1, 'false'), {0: 557, 1: 97}]\n",
        "==========\n"
       ]
      }
     ],
     "prompt_number": 344
    },
    {
     "cell_type": "code",
     "collapsed": false,
     "input": [
      "def allFeats(fitted, tree):\n",
      "    set1 = set(min10_model_and_errs[0].params.index.tolist())\n",
      "    set2 = treepredict.searchFeats(tree)\n",
      "    return set1.union(set2)"
     ],
     "language": "python",
     "metadata": {},
     "outputs": [],
     "prompt_number": 170
    },
    {
     "cell_type": "code",
     "collapsed": false,
     "input": [
      "min10_hybrid_and_tree_feats = allFeats(min10_model_and_errs[0], pruned_min10_tree)\n",
      "naive_hybrid_and_tree_feats = allFeats(naive_model_and_errs[0], pruned_tSet_tree)"
     ],
     "language": "python",
     "metadata": {},
     "outputs": [],
     "prompt_number": 171
    },
    {
     "cell_type": "code",
     "collapsed": false,
     "input": [
      "min10_hybrid_and_tree_feats"
     ],
     "language": "python",
     "metadata": {},
     "outputs": [
      {
       "metadata": {},
       "output_type": "pyout",
       "prompt_number": 172,
       "text": [
        "{'AGE_IM',\n",
        " 'C(ALCHL_IM)[T.2]',\n",
        " 'C(BDYTYP_IM)[T.15]',\n",
        " 'C(BDYTYP_IM)[T.2]',\n",
        " 'C(BDYTYP_IM)[T.9]',\n",
        " 'C(DRIVER_SEX, Treatment(9999))[T.1]',\n",
        " 'C(HITRUN_IM)[T.1]',\n",
        " 'C(HOUR_IM)[T.13]',\n",
        " 'C(HOUR_IM)[T.17]',\n",
        " 'C(LAND_USE, Treatment(9999))[T.2]',\n",
        " 'C(LOCATION, Treatment(9999))[T.23]',\n",
        " 'C(MONTH)[T.8]',\n",
        " 'C(PCRASH1_IM)[T.1]',\n",
        " 'C(PCRASH1_IM)[T.4]',\n",
        " 'C(REGION)[T.3]',\n",
        " 'C(REL_ROAD, Treatment(9999))[T.1]',\n",
        " 'C(TYP_INT, Treatment(9999))[T.2]',\n",
        " 'C(VPROFILE, Treatment(9999))[T.1]',\n",
        " 'C(VTCONT_F, Treatment(9999))[T.3]',\n",
        " 'C(VTRAFWAY, Treatment(9999))[T.1]',\n",
        " 'C(VTRAFWAY, Treatment(9999))[T.4]',\n",
        " 'DRIVER_AGE',\n",
        " 'DRUGS_Treatment_9999_T0',\n",
        " 'IMPACT1_IM_T62',\n",
        " 'MONTH_T9',\n",
        " 'NUMOCCS',\n",
        " 'PCRASH1_IM_T9',\n",
        " 'P_CRASH3_Treatment_9999_T3',\n",
        " 'VALIGN_Treatment_9999_T4',\n",
        " 'VPROFILE_Treatment_9999_T2',\n",
        " 'nodeNum_0',\n",
        " 'nodeNum_1',\n",
        " 'nodeNum_10',\n",
        " 'nodeNum_11',\n",
        " 'nodeNum_13',\n",
        " 'nodeNum_14',\n",
        " 'nodeNum_15',\n",
        " 'nodeNum_16',\n",
        " 'nodeNum_19',\n",
        " 'nodeNum_2',\n",
        " 'nodeNum_20',\n",
        " 'nodeNum_21',\n",
        " 'nodeNum_22',\n",
        " 'nodeNum_25',\n",
        " 'nodeNum_26',\n",
        " 'nodeNum_27',\n",
        " 'nodeNum_3',\n",
        " 'nodeNum_4',\n",
        " 'nodeNum_5',\n",
        " 'nodeNum_6',\n",
        " 'nodeNum_8',\n",
        " 'nodeNum_9'}"
       ]
      }
     ],
     "prompt_number": 172
    },
    {
     "cell_type": "code",
     "collapsed": false,
     "input": [
      "naive_hybrid_and_tree_feats"
     ],
     "language": "python",
     "metadata": {},
     "outputs": [
      {
       "metadata": {},
       "output_type": "pyout",
       "prompt_number": 173,
       "text": [
        "{'AGE_IM',\n",
        " 'C(ALCHL_IM)[T.2]',\n",
        " 'C(DRUGS, Treatment(9999))[T.0]',\n",
        " 'C(IMPACT1_IM)[T.12]',\n",
        " 'C(IMPACT2_vehDup, Treatment(9999))[T.4]',\n",
        " 'C(LGTCON_IM)[T.2]',\n",
        " 'C(LGTCON_IM)[T.3]',\n",
        " 'C(LOCATION, Treatment(9999))[T.2]',\n",
        " 'C(MONTH)[T.2]',\n",
        " 'C(PCRASH1_IM)[T.1]',\n",
        " 'C(SPEEDREL, Treatment(9999))[T.0]',\n",
        " 'C(TYP_INT, Treatment(9999))[T.1]',\n",
        " 'C(VPROFILE, Treatment(9999))[T.1]',\n",
        " 'C(VTCONT_F, Treatment(9999))[T.3]',\n",
        " 'C(WKDY_IM)[T.7]',\n",
        " 'DRIVER_AGE',\n",
        " 'DRUGS_Treatment_9999_T0',\n",
        " 'IMPACT1_IM_T62',\n",
        " 'MONTH_T9',\n",
        " 'MSAFEQMT1',\n",
        " 'NUMOCCS',\n",
        " 'PCRASH1_IM_T9',\n",
        " 'P_CRASH3_Treatment_9999_T3',\n",
        " 'VALIGN_Treatment_9999_T4',\n",
        " 'VPROFILE_Treatment_9999_T2',\n",
        " 'nodeNum_0',\n",
        " 'nodeNum_1',\n",
        " 'nodeNum_10',\n",
        " 'nodeNum_11',\n",
        " 'nodeNum_13',\n",
        " 'nodeNum_14',\n",
        " 'nodeNum_15',\n",
        " 'nodeNum_16',\n",
        " 'nodeNum_19',\n",
        " 'nodeNum_2',\n",
        " 'nodeNum_20',\n",
        " 'nodeNum_21',\n",
        " 'nodeNum_22',\n",
        " 'nodeNum_25',\n",
        " 'nodeNum_26',\n",
        " 'nodeNum_27',\n",
        " 'nodeNum_3',\n",
        " 'nodeNum_4',\n",
        " 'nodeNum_5',\n",
        " 'nodeNum_6',\n",
        " 'nodeNum_8',\n",
        " 'nodeNum_9'}"
       ]
      }
     ],
     "prompt_number": 173
    },
    {
     "cell_type": "code",
     "collapsed": false,
     "input": [
      "trainingDesign.groupby('C(IMPACT2_vehDup, Treatment(9999))[T.4]').size()"
     ],
     "language": "python",
     "metadata": {},
     "outputs": [
      {
       "metadata": {},
       "output_type": "pyout",
       "prompt_number": 174,
       "text": [
        "C(IMPACT2_vehDup, Treatment(9999))[T.4]\n",
        "0                                          1129\n",
        "1                                            13\n",
        "dtype: int64"
       ]
      }
     ],
     "prompt_number": 174
    },
    {
     "cell_type": "markdown",
     "metadata": {},
     "source": [
      "<font size=4 color=\"blue\"><p>In the end, the results from all the work above (in terms of performance on the 2011 validation set):</p></font>\n",
      "<p>On the pruned, naive decision tree, using newton's gradient descent methods to fit the logistic regressions:\n",
      "    <ol><li>When using the hybrid-CART Logit model, the total error rate is 0.214035087719 and the accuracy is 0.785964912281.</li>\n",
      "        <li>When using just the decision tree, the total error rate is 0.210526315789 and the accuracy is 0.789473684211.</li>\n",
      "        <li>Lower error rate with just the decision tree as compared to the hybrid approach when judging based on the validation set (which the decision tree was pruned with).</li>\n",
      "    </ol>\n",
      "</p>\n",
      "<p>On the pruned, minimum 10 people per leaf decision tree, using the \"basinhopping\" method to numerically maximize the likelihood:\n",
      "    <ol><li>When using the hybrid-CART Logit model, the total error rate is 0.217543859649 and the accuracy is 0.782456140351.</li>\n",
      "        <li>When using just the decision tree, the total error rate is 0.210526315789 and the accuracy is 0.789473684211</li>\n",
      "    </ol>\n",
      "</p>\n",
      "<p><strong><u>Overall?</u></strong>\n",
      "    <table><tr><td>Case</td><td>Error</td>\n",
      "        <tr><td>Pruned, naive decision tree</td><td>0.210526315789</td></tr>\n",
      "        <tr><td>Pruned, minimum 10 people per leaf decisioin tree</td><td>0.210526315789</td></tr>\n",
      "        <tr><td>Hybrid cart-logit with the pruned, naive decision tree</td><td>0.214035087719</td></tr>\n",
      "        <tr><td>Hybrid cart-logit with the pruned, minimum 10 people per leaf tree</td><td>0.217543859649</td></tr>\n",
      "        <tr><td>Always guessing zero</td><td>0.217543859649</td></tr>\n",
      "    </table>\n",
      "</p>\n",
      "<p>There are still lots of issues to resolve.\n",
      "    <ol><li>Test the four classifiers on the 2012 data that none of them have seen.</li>\n",
      "        <li>In the case of the pruned, naive decision tree, figure out why so many of the models could not be estimated when calling the initial_multivariate() function.</li>\n",
      "        <li>In the case of the pruned, minimum 10 people decision tree, figure out why the base model of nothing but nodes could not be estimated using the standard methods which invert the Hessian. Is it really un-invertable?</li>\n",
      "        <li>I'm assuming that even if step 3 is figured out, that I will still have to deal with models that were unable to be estimated, as in issue number 2.</li>\n",
      "        <li>Carry out step 4 of Hosmer, Lemeshow, and Sturdivant's purposeful selection algorithm whereby I interactively add and examine the effect of including the variables that were not selected when building the initial multivariate logit model. The point is to look for variables that don't necessarily influence the classification probability themselves but which modify the effect of one of the initially selected variables. See pg 92 of Applied Logistic Regression (2013).</li>\n",
      "    </ol>\n",
      "</p>"
     ]
    },
    {
     "cell_type": "code",
     "collapsed": false,
     "input": [
      "treepredict.searchFeats(pruned_min10_tree)"
     ],
     "language": "python",
     "metadata": {},
     "outputs": [
      {
       "metadata": {},
       "output_type": "pyout",
       "prompt_number": 168,
       "text": [
        "{'AGE_IM',\n",
        " 'C(ALCHL_IM)[T.2]',\n",
        " 'C(BDYTYP_IM)[T.15]',\n",
        " 'C(BDYTYP_IM)[T.2]',\n",
        " 'C(BDYTYP_IM)[T.9]',\n",
        " 'C(DRIVER_SEX, Treatment(9999))[T.1]',\n",
        " 'C(HITRUN_IM)[T.1]',\n",
        " 'C(HOUR_IM)[T.13]',\n",
        " 'C(HOUR_IM)[T.17]',\n",
        " 'C(LAND_USE, Treatment(9999))[T.2]',\n",
        " 'C(LOCATION, Treatment(9999))[T.23]',\n",
        " 'C(MONTH)[T.8]',\n",
        " 'C(PCRASH1_IM)[T.1]',\n",
        " 'C(PCRASH1_IM)[T.4]',\n",
        " 'C(REGION)[T.3]',\n",
        " 'C(REL_ROAD, Treatment(9999))[T.1]',\n",
        " 'C(TYP_INT, Treatment(9999))[T.2]',\n",
        " 'C(VPROFILE, Treatment(9999))[T.1]',\n",
        " 'C(VTCONT_F, Treatment(9999))[T.3]',\n",
        " 'C(VTRAFWAY, Treatment(9999))[T.1]',\n",
        " 'C(VTRAFWAY, Treatment(9999))[T.4]',\n",
        " 'DRIVER_AGE',\n",
        " 'NUMOCCS'}"
       ]
      }
     ],
     "prompt_number": 168
    },
    {
     "cell_type": "code",
     "collapsed": false,
     "input": [
      "treepredict.searchFeats(pruned_tSet_tree)"
     ],
     "language": "python",
     "metadata": {},
     "outputs": [
      {
       "metadata": {},
       "output_type": "pyout",
       "prompt_number": 169,
       "text": [
        "{'AGE_IM',\n",
        " 'C(ALCHL_IM)[T.2]',\n",
        " 'C(DRUGS, Treatment(9999))[T.0]',\n",
        " 'C(IMPACT1_IM)[T.12]',\n",
        " 'C(IMPACT2_vehDup, Treatment(9999))[T.4]',\n",
        " 'C(LGTCON_IM)[T.2]',\n",
        " 'C(LGTCON_IM)[T.3]',\n",
        " 'C(LOCATION, Treatment(9999))[T.2]',\n",
        " 'C(MONTH)[T.2]',\n",
        " 'C(PCRASH1_IM)[T.1]',\n",
        " 'C(SPEEDREL, Treatment(9999))[T.0]',\n",
        " 'C(TYP_INT, Treatment(9999))[T.1]',\n",
        " 'C(VPROFILE, Treatment(9999))[T.1]',\n",
        " 'C(VTCONT_F, Treatment(9999))[T.3]',\n",
        " 'C(WKDY_IM)[T.7]',\n",
        " 'DRIVER_AGE',\n",
        " 'MSAFEQMT1',\n",
        " 'NUMOCCS'}"
       ]
      }
     ],
     "prompt_number": 169
    },
    {
     "cell_type": "code",
     "collapsed": false,
     "input": [
      "np.linalg.cond(d_here[test_out])"
     ],
     "language": "python",
     "metadata": {},
     "outputs": [
      {
       "metadata": {},
       "output_type": "pyout",
       "prompt_number": 145,
       "text": [
        "61682035378735744.0"
       ]
      }
     ],
     "prompt_number": 145
    },
    {
     "cell_type": "code",
     "collapsed": false,
     "input": [
      "def get_independent_cols(df, desired_cols, tol=1e-05):\n",
      "    \"\"\"\"df = the dataframe containing the data used to build the model.\n",
      "    desired_cols = a list of column names that we want to use to filter the data.\n",
      "    ==========\n",
      "    Returns the largest possible list of list of linearly independent columns, given the\n",
      "    desired_cols. The solution uses the Q-R matrix decomposition and returns a set of linearly\n",
      "    independent columns which may not be the only unique set of independent columns.\"\"\"\n",
      "    A = df[desired_cols] #Filter the dataframe by the appropriate columns\n",
      "    Q, R = np.linalg.qr(A) #Calculate the Q and R decompositions of the filtered dataframe\n",
      "    independent_col_indices = np.where(np.abs(R.diagonal()) > tol)[0] #Isolate the positions of the independent columns\n",
      "    independent_cols = [] #Initialize an empty list to store the independent columns in\n",
      "    for i in independent_col_indices: #Fill independent_cols by going through the indices of independent columns\n",
      "        independent_cols.append(desired_cols[i])\n",
      "    return independent_cols\n",
      "\n",
      "def check_full_rank(df, desired_cols):\n",
      "    \"\"\"\"df = the dataframe containing the data used to build the model.\n",
      "    desired_cols = a list of column names that we want to use to filter the data.\n",
      "    ==========\n",
      "    Returns a boolean saying whether the theoretical rank of the matrix created by filtering\n",
      "    data by the desired columns is greater than actual, computed rank of the filtered matrix.\"\"\"\n",
      "    theoretical_rank = len(desired_cols) #Calculate theoretical rank\n",
      "    actual_data = df[desired_cols] #Filter the data by the desired columns\n",
      "    actual_rank = np.linalg.matrix_rank(actual_data) #Calculate the actual rank of the matrix\n",
      "    if actual_rank < theoretical_rank:\n",
      "        return False\n",
      "    else:\n",
      "        return True\n",
      "\n",
      "\n",
      "def combat_multi_collinearity(df, variables, must_include, max_cond=None):\n",
      "    \"\"\"df = the dataframe containing the data that the model will be built on.\n",
      "    variables = a list of all of the variables to appear in the model or of just the optional independent variables that \n",
      "    may be removed from the model\n",
      "    must_include = a list of independent variables that MUST remain in the model.\n",
      "    max_cond = a number used to indicate the maximum allowable conditioning number. Will default to 1 / the system floating\n",
      "    point arithmetic error if not otherwise specified.\n",
      "    ==========\n",
      "    Returns the variables that together produce a conditioning number lower than the maximum allowable condition number.\"\"\"\n",
      "    assert isinstance(variables, list) #make sure variables and must_include are both lists\n",
      "    assert isinstance(must_include, list)\n",
      "    \n",
      "    #Set the maximum allowable condition number for the matrix\n",
      "    import sys\n",
      "    eps = sys.float_info.epsilon\n",
      "    ref_cond = 1.0 / eps if max_cond is None else max_cond\n",
      "    \n",
      "    #Isolate the variables that are to be added or subtracted from the model to achieve the desired conditioning.\n",
      "    to_check = list(set(variables).difference(set(must_include)))\n",
      "    \n",
      "    if not check_full_rank(df, to_check): #make sure the dataframe of potential variables is of full rank\n",
      "        to_check = get_independent_cols(df, to_check) #If it is not, remove the appropriate number of linearly dependent variables\n",
      "    \n",
      "    tot_vars = to_check + must_include #Create a list of total variables to include in the model, initially\n",
      "    current_cond_no = np.linalg.cond(df[tot_vars]) #Calculate the conditioning number for those variables\n",
      "    \n",
      "    #Remove variables sequentially from to_check while the data's condidtioning is greater than the maximum desired conditioning.\n",
      "    while current_cond_no > ref_cond:\n",
      "        to_check, current_cond_no = remove_collinear_var(df, to_check, must_include)\n",
      "        if len(to_check) == 0: #If no more variables to remove, simply return the variables that must be included in the model\n",
      "            return must_include\n",
      "    print \"The condition number of the dataset and reduced variable list is {}\".format(current_cond_no)\n",
      "    print \"There are {} variables currently in the model.\".format(len(to_check + must_include))\n",
      "    return to_check + must_include\n",
      "\n",
      "def remove_collinear_var(df, check_vars, include_vars):\n",
      "    \"\"\"df = the dataframe containing the data that the model will be built on.\n",
      "    check_vars = a list of optional independent variables that may be removed from the model\n",
      "    include_vars = a list of independent variables that MUST remain in the model.\n",
      "    ==========\n",
      "    Finds, removes, and returns the variable(s) which, when removed, produce a conditioning number lower than that of the \n",
      "    variables passed into the function.\"\"\"\n",
      "    \n",
      "    #Initialize the lowest conditioning number to be the current conditioning number using all desired variables\n",
      "    lowest_cond_no = np.linalg.cond(df[check_vars + include_vars])\n",
      "    worst_var = None #Initialize the worst_variable to be none\n",
      "    new_to_check = deepcopy(check_vars) #Make a copy of check_vars that can be altered without inadvertently changeing check_vars\n",
      "    \n",
      "    while worst_var is None: #Keep removing variables until a 'worst_variable' is found, i.e. when the lowest_cond_no is reduced.\n",
      "        bad_var, cond_no = find_most_collinear_var(df, new_to_check, include_vars) #Find most collinear variable in new_to_check\n",
      "        if cond_no < lowest_cond_no: #Check if the condition number achieved by removing bad_var is lower than lowest_cond_no\n",
      "            print \"I found a worst variable. The condition number is now {}\".format(cond_no)\n",
      "            lowest_cond_no = cond_no #If so, update the variable assignment for lowest_cond_no and \n",
      "            worst_var = bad_var #Assign worst_var to the variable bad_var\n",
      "        if worst_var is None: #If the condition number achieved by removing bad_var is not lower than lowest_cond_no\n",
      "            assert bad_var in new_to_check #make sure bad_var is in new_to_check before trying to remove it from new_to_check\n",
      "            new_to_check.remove(bad_var) #remove bad_var from new_to_check\n",
      "        else: \n",
      "            assert worst_var in new_to_check #Check that worst_var is in the new_to_check list\n",
      "    \n",
      "    assert worst_var is not None #Check that worst_var has been assigned to a variable\n",
      "    new_to_check.remove(worst_var) #Remove worst_var from new_to_check \n",
      "    return new_to_check, lowest_cond_no #Return new_to_check along with the newly achieved condition number.\n",
      "\n",
      "def find_most_collinear_var(df, opt_ind_vars, necessary_vars):\n",
      "    \"\"\"df = the dataframe containing the data that the model will be built on.\n",
      "    opt_ind_vars = a list of optional independent variables that may be removed from the model\n",
      "    necessary_vars = a list of independent variables that MUST remain in the model.\n",
      "    ==========\n",
      "    Finds the variable which, when removed, produces the lowest conditioning number among those in opt_ind_vars\"\"\"\n",
      "    \n",
      "    lowest_current_cond = np.linalg.cond(df[opt_ind_vars[1:] + necessary_vars]) #Initialize the lowest condition number\n",
      "    most_collinear = opt_ind_vars[0] #Initialize the variable that produces the lowest condition number\n",
      "    for var in opt_ind_vars: #Iterate over all of the optinal independent variables\n",
      "        opt_regressors = deepcopy(opt_ind_vars) #initialize a list of the optional regressors\n",
      "        opt_regressors.remove(var) #Remove the variable in question\n",
      "        dataset = df[opt_regressors + necessary_vars] #Filter the dataset to the full set of model variables\n",
      "        specific_cond_no = np.linalg.cond(dataset) #Calculate the condition number achieved by removing var\n",
      "        if specific_cond_no < lowest_current_cond: #Check if removing this variable produces the lowest condition number so far \n",
      "            most_collinear = var #If so, assign the 'most_collinear' variable name to this variable and\n",
      "            lowest_current_cond = specific_cond_no #Assign the 'lowest_of_current'_variables name to this variable\n",
      "    return most_collinear, lowest_current_cond #After iterating through all variables, return most_collinear and lowest_of_current"
     ],
     "language": "python",
     "metadata": {},
     "outputs": [],
     "prompt_number": 60
    },
    {
     "cell_type": "code",
     "collapsed": false,
     "input": [
      "def independent_cols(df, desired_cols, tol=1e-05):\n",
      "    A = df[desired_cols]\n",
      "    Q, R = np.linalg.qr(A)\n",
      "    independent = np.where(np.abs(R.diagonal()) > tol)[0]\n",
      "    return A.iloc[:, independent]"
     ],
     "language": "python",
     "metadata": {},
     "outputs": [],
     "prompt_number": 318
    },
    {
     "cell_type": "code",
     "collapsed": false,
     "input": [],
     "language": "python",
     "metadata": {},
     "outputs": []
    }
   ],
   "metadata": {}
  }
 ]
}