{
 "metadata": {
  "name": "build_pure_logit.ipynb"
 },
 "nbformat": 3,
 "nbformat_minor": 0,
 "worksheets": [
  {
   "cells": [
    {
     "cell_type": "code",
     "collapsed": false,
     "input": [
      "import numpy as np, pandas as pd, statsmodels.formula.api as smf, hybrid_logit as hl\n",
      "import initial_data_cleaning, util\n",
      "import categorical_design, treepredict\n",
      "import cPickle, os"
     ],
     "language": "python",
     "metadata": {},
     "outputs": [],
     "prompt_number": 1
    },
    {
     "cell_type": "code",
     "collapsed": false,
     "input": [
      "with open(\"trees/pruned_NaiveTree_trainingSet.pkl\") as f:\n",
      "    pruned_tSet_tree = cPickle.load(f)\n",
      "    \n",
      "with open(\"trees/pruned_min10_obs_trainingSet.pkl\") as f:\n",
      "    pruned_min10_tree = cPickle.load(f)\n",
      "    \n",
      "pruned_naive_nodes = treepredict.fetchNodes(pruned_tSet_tree)\n",
      "pruned_min10_nodes = treepredict.fetchNodes(pruned_min10_tree)"
     ],
     "language": "python",
     "metadata": {},
     "outputs": [],
     "prompt_number": 2
    },
    {
     "cell_type": "code",
     "collapsed": false,
     "input": [
      "naive_testSet_2012 = pd.read_pickle(\"dataframes/leaf_augmented/naive_design_DF_4Tree.pkl\")\n",
      "\n",
      "min10_testSet_2012 = pd.read_pickle(\"dataframes/leaf_augmented/min10_design_DF_4Tree.pkl\")"
     ],
     "language": "python",
     "metadata": {},
     "outputs": [],
     "prompt_number": 3
    },
    {
     "cell_type": "code",
     "collapsed": false,
     "input": [
      "with open(\"models_and_errors/min10_model.pkl\") as f:\n",
      "    min10_model = cPickle.load(f)\n",
      "    \n",
      "min10_validation_errs = pd.read_pickle(\"models_and_errors/min10_errors_df.pkl\")\n",
      "\n",
      "with open(\"models_and_errors/naive_model.pkl\") as f:\n",
      "    naive_model = cPickle.load(f)\n",
      "    \n",
      "naive_validation_errs = pd.read_pickle(\"models_and_errors/naive_errors_df.pkl\")"
     ],
     "language": "python",
     "metadata": {},
     "outputs": [],
     "prompt_number": 4
    },
    {
     "cell_type": "code",
     "collapsed": false,
     "input": [
      "min10_trainingDesign = pd.read_pickle(\"dataframes/leaf_augmented/trainingSet_DF_min10Tree.pkl\")\n",
      "naive_trainingDesign = pd.read_pickle(\"dataframes/leaf_augmented/trainingSet_DF_naiveTree.pkl\")"
     ],
     "language": "python",
     "metadata": {},
     "outputs": [],
     "prompt_number": 5
    },
    {
     "cell_type": "code",
     "collapsed": false,
     "input": [
      "def initialize_logit(df, res, biggest_cond=1e10, fit='ncg'):\n",
      "    missing_value = 9999\n",
      "    multi_cols = []\n",
      "    continuous_vars = [\"TRAV_SP\", \"NUMOCCS\", \"VSPD_LIM\", \"DRIVER_AGE\"]\n",
      "    for item in continuous_vars: #Iterate over all the continuous variables and create lists of them and their associated versions\n",
      "        multi_cols.append([item, \"{}_interact_{}_{}\".format(item, item, missing_value)])\n",
      "        \n",
      "    cols = df.columns.tolist() #Initialize the list of columns to add variables from\n",
      "    for var in cols: #Iterate through the columns of df\n",
      "        if \"nodeNum\" in var or res == var: #If the variable is a node dummy or the dependent in cols, remove it\n",
      "            cols.remove(var) #Make sure cols only has variables to be added to the model, not variables already in the model\n",
      "    \n",
      "    design = df[cols + [res]]\n",
      "    \n",
      "    possible = []\n",
      "    for col in cols:\n",
      "        fString = res + \" ~ {}\".format(col)\n",
      "        assert col in design.columns\n",
      "        print \"About to check invertibility of using column {}\".format(col)\n",
      "        try:\n",
      "            if hl.check_full_rank(design, [col]):\n",
      "                try:\n",
      "                    mod = smf.logit(fString, data=design).fit(method=fit)\n",
      "                except inst:\n",
      "                    print \"Problem on column {}\".format(col)\n",
      "                    print inst\n",
      "                    raise Exception\n",
      "                if mod.pvalues[-1] < 0.2:\n",
      "                    possible.append(col)\n",
      "        except Exception as inst:\n",
      "            print \"Problem on column {}\".format(col)\n",
      "            print inst\n",
      "            raise Exception\n",
      "                \n",
      "    model_vars = hl.combat_multi_collinearity(design, possible, [], max_cond = biggest_cond)\n",
      "    final_string = res + \" ~ + \" + \" + \".join(model_vars)\n",
      "    last_mod = smf.logit(final_string, data=design).fit(method=fit)\n",
      "    if last_mod.mle_retvals[\"converged\"]:\n",
      "        return last_mod, \" + \".join(model_vars)\n",
      "    else:\n",
      "        raise Exception(\"The model failed to converge\")        "
     ],
     "language": "python",
     "metadata": {},
     "outputs": [],
     "prompt_number": 6
    },
    {
     "cell_type": "code",
     "collapsed": false,
     "input": [
      "reload(hl)"
     ],
     "language": "python",
     "metadata": {},
     "outputs": [
      {
       "metadata": {},
       "output_type": "pyout",
       "prompt_number": 48,
       "text": [
        "<module 'hybrid_logit' from 'hybrid_logit.py'>"
       ]
      }
     ],
     "prompt_number": 48
    },
    {
     "cell_type": "code",
     "collapsed": false,
     "input": [
      "def strip_nodeNum_cols(df):\n",
      "    for var in df.columns.tolist():\n",
      "        if \"nodeNum\" in var:\n",
      "            del df[var]"
     ],
     "language": "python",
     "metadata": {},
     "outputs": [],
     "prompt_number": 17
    },
    {
     "cell_type": "code",
     "collapsed": false,
     "input": [
      "noNode_trainingDesign = hl.design_for_hybrid(pd.read_pickle(\"dataframes/leaf_augmented/trainingSet_DF_min10Tree.pkl\"),\n",
      "                                            pruned_min10_tree)\n",
      "\n",
      "strip_nodeNum_cols(noNode_trainingDesign)\n",
      "\n",
      "#designed_for_logit = hl.clean_category_cols(hl.incorporate_continuous_vars(noNode_trainingDesign, 9999))\n",
      "logit_init_multi, logit_init_multi_string = initialize_logit(noNode_trainingDesign, \"SER_INJ\", biggest_cond=2000)"
     ],
     "language": "python",
     "metadata": {},
     "outputs": [
      {
       "output_type": "stream",
       "stream": "stdout",
       "text": [
        "About to check invertibility of using column REGION_T2\n",
        "['REGION_T2']\n",
        "Optimization terminated successfully."
       ]
      },
      {
       "output_type": "stream",
       "stream": "stdout",
       "text": [
        "\n",
        "         Current function value: 0.536089\n",
        "         Iterations: 5\n",
        "         Function evaluations: 6\n",
        "         Gradient evaluations: 10\n",
        "         Hessian evaluations: 5\n",
        "About to check invertibility of using column REGION_T3"
       ]
      },
      {
       "output_type": "stream",
       "stream": "stdout",
       "text": [
        "\n",
        "['REGION_T3']\n",
        "Optimization terminated successfully.\n",
        "         Current function value: 0.536127\n",
        "         Iterations: 5\n",
        "         Function evaluations: 6\n",
        "         Gradient evaluations: 10\n",
        "         Hessian evaluations: 5\n",
        "About to check invertibility of using column REGION_T4\n",
        "['REGION_T4']\n",
        "Optimization terminated successfully.\n",
        "         Current function value: 0.537072\n",
        "         Iterations: 5\n",
        "         Function evaluations: 6\n",
        "         Gradient evaluations: 10\n",
        "         Hessian evaluations: 5\n",
        "About to check invertibility of using column MONTH_T2\n",
        "['MONTH_T2']\n",
        "Optimization terminated successfully."
       ]
      },
      {
       "output_type": "stream",
       "stream": "stdout",
       "text": [
        "\n",
        "         Current function value: 0.536797\n",
        "         Iterations: 6\n",
        "         Function evaluations: 7\n",
        "         Gradient evaluations: 12\n",
        "         Hessian evaluations: 6\n",
        "About to check invertibility of using column MONTH_T3\n",
        "['MONTH_T3']\n",
        "Optimization terminated successfully.\n",
        "         Current function value: 0.537256\n",
        "         Iterations: 5\n",
        "         Function evaluations: 6\n",
        "         Gradient evaluations: 10\n",
        "         Hessian evaluations: 5\n",
        "About to check invertibility of using column MONTH_T4\n",
        "['MONTH_T4']\n",
        "Optimization terminated successfully.\n",
        "         Current function value: 0.537299\n",
        "         Iterations: 5\n",
        "         Function evaluations: 6\n",
        "         Gradient evaluations: 10\n",
        "         Hessian evaluations: 5\n",
        "About to check invertibility of using column MONTH_T5\n",
        "['MONTH_T5']\n",
        "Optimization terminated successfully."
       ]
      },
      {
       "output_type": "stream",
       "stream": "stdout",
       "text": [
        "\n",
        "         Current function value: 0.537262\n",
        "         Iterations: 5\n",
        "         Function evaluations: 6\n",
        "         Gradient evaluations: 10\n",
        "         Hessian evaluations: 5\n",
        "About to check invertibility of using column MONTH_T6\n",
        "['MONTH_T6']\n",
        "Optimization terminated successfully.\n",
        "         Current function value: 0.536501\n",
        "         Iterations: 5\n",
        "         Function evaluations: 6\n",
        "         Gradient evaluations: 10\n",
        "         Hessian evaluations: 5\n",
        "About to check invertibility of using column MONTH_T7\n",
        "['MONTH_T7']\n",
        "Optimization terminated successfully.\n",
        "         Current function value: 0.537060\n",
        "         Iterations: 4\n",
        "         Function evaluations: 5\n",
        "         Gradient evaluations: 8\n",
        "         Hessian evaluations: 4\n",
        "About to check invertibility of using column MONTH_T8"
       ]
      },
      {
       "output_type": "stream",
       "stream": "stdout",
       "text": [
        "\n",
        "['MONTH_T8']\n",
        "Optimization terminated successfully.\n",
        "         Current function value: 0.536100\n",
        "         Iterations: 6\n",
        "         Function evaluations: 7\n",
        "         Gradient evaluations: 12\n",
        "         Hessian evaluations: 6\n",
        "About to check invertibility of using column MONTH_T9"
       ]
      },
      {
       "output_type": "stream",
       "stream": "stdout",
       "text": [
        "\n",
        "['MONTH_T9']\n",
        "Optimization terminated successfully."
       ]
      },
      {
       "output_type": "stream",
       "stream": "stdout",
       "text": [
        "\n",
        "         Current function value: 0.535583\n",
        "         Iterations: 5\n",
        "         Function evaluations: 6\n",
        "         Gradient evaluations: 10\n",
        "         Hessian evaluations: 5\n",
        "About to check invertibility of using column MONTH_T10\n",
        "['MONTH_T10']\n",
        "Optimization terminated successfully."
       ]
      },
      {
       "output_type": "stream",
       "stream": "stdout",
       "text": [
        "\n",
        "         Current function value: 0.537059\n",
        "         Iterations: 5\n",
        "         Function evaluations: 6\n",
        "         Gradient evaluations: 10\n",
        "         Hessian evaluations: 5\n",
        "About to check invertibility of using column MONTH_T11\n",
        "['MONTH_T11']\n",
        "Optimization terminated successfully.\n",
        "         Current function value: 0.536934\n",
        "         Iterations: 6\n",
        "         Function evaluations: 7\n",
        "         Gradient evaluations: 12\n",
        "         Hessian evaluations: 6\n",
        "About to check invertibility of using column MONTH_T12\n",
        "['MONTH_T12']\n",
        "Optimization terminated successfully.\n",
        "         Current function value: 0.537176\n",
        "         Iterations: 6\n",
        "         Function evaluations: 7\n",
        "         Gradient evaluations: 12\n",
        "         Hessian evaluations: 6\n",
        "About to check invertibility of using column DRUGS_Treatment_9999_T0\n",
        "['DRUGS_Treatment_9999_T0']\n",
        "Optimization terminated successfully."
       ]
      },
      {
       "output_type": "stream",
       "stream": "stdout",
       "text": [
        "\n",
        "         Current function value: 0.533801\n",
        "         Iterations: 5\n",
        "         Function evaluations: 6\n",
        "         Gradient evaluations: 10\n",
        "         Hessian evaluations: 5\n",
        "About to check invertibility of using column DRUGS_Treatment_9999_T1\n",
        "['DRUGS_Treatment_9999_T1']\n",
        "Optimization terminated successfully.\n",
        "         Current function value: 0.537224\n",
        "         Iterations: 5\n",
        "         Function evaluations: 6\n",
        "         Gradient evaluations: 10\n",
        "         Hessian evaluations: 5\n",
        "About to check invertibility of using column LOCATION_Treatment_9999_T1\n",
        "['LOCATION_Treatment_9999_T1']\n",
        "Optimization terminated successfully.\n",
        "         Current function value: 0.536801\n",
        "         Iterations: 4\n",
        "         Function evaluations: 5\n",
        "         Gradient evaluations: 8\n",
        "         Hessian evaluations: 4\n",
        "About to check invertibility of using column LOCATION_Treatment_9999_T2"
       ]
      },
      {
       "output_type": "stream",
       "stream": "stdout",
       "text": [
        "\n",
        "['LOCATION_Treatment_9999_T2']\n",
        "Optimization terminated successfully.\n",
        "         Current function value: 0.537289\n",
        "         Iterations: 5\n",
        "         Function evaluations: 6\n",
        "         Gradient evaluations: 10\n",
        "         Hessian evaluations: 5\n",
        "About to check invertibility of using column LOCATION_Treatment_9999_T3\n",
        "['LOCATION_Treatment_9999_T3']\n",
        "Optimization terminated successfully."
       ]
      },
      {
       "output_type": "stream",
       "stream": "stdout",
       "text": [
        "\n",
        "         Current function value: 0.536509\n",
        "         Iterations: 5\n",
        "         Function evaluations: 6\n",
        "         Gradient evaluations: 10\n",
        "         Hessian evaluations: 5\n",
        "About to check invertibility of using column LOCATION_Treatment_9999_T9\n",
        "['LOCATION_Treatment_9999_T9']\n",
        "Optimization terminated successfully.\n",
        "         Current function value: 0.537088\n",
        "         Iterations: 6\n",
        "         Function evaluations: 7\n",
        "         Gradient evaluations: 12\n",
        "         Hessian evaluations: 6\n",
        "About to check invertibility of using column LOCATION_Treatment_9999_T10\n",
        "['LOCATION_Treatment_9999_T10']\n",
        "Warning: Maximum number of iterations has been exceeded."
       ]
      },
      {
       "output_type": "stream",
       "stream": "stdout",
       "text": [
        "\n",
        "         Current function value: 0.535794\n",
        "         Iterations: 35\n",
        "         Function evaluations: 36\n",
        "         Gradient evaluations: 70\n",
        "         Hessian evaluations: 35\n",
        "About to check invertibility of using column LOCATION_Treatment_9999_T11\n",
        "['LOCATION_Treatment_9999_T11']\n",
        "Optimization terminated successfully.\n",
        "         Current function value: 0.536728\n",
        "         Iterations: 5\n",
        "         Function evaluations: 6\n",
        "         Gradient evaluations: 10\n",
        "         Hessian evaluations: 5\n",
        "About to check invertibility of using column LOCATION_Treatment_9999_T13\n",
        "['LOCATION_Treatment_9999_T13']\n",
        "Optimization terminated successfully.\n",
        "         Current function value: 0.536996\n",
        "         Iterations: 6\n",
        "         Function evaluations: 7\n",
        "         Gradient evaluations: 12\n",
        "         Hessian evaluations: 6\n",
        "About to check invertibility of using column LOCATION_Treatment_9999_T14"
       ]
      },
      {
       "output_type": "stream",
       "stream": "stdout",
       "text": [
        "\n",
        "['LOCATION_Treatment_9999_T14']\n",
        "Warning: Maximum number of iterations has been exceeded."
       ]
      },
      {
       "output_type": "stream",
       "stream": "stdout",
       "text": [
        "\n",
        "         Current function value: 0.537059\n",
        "         Iterations: 35\n",
        "         Function evaluations: 36\n",
        "         Gradient evaluations: 70\n",
        "         Hessian evaluations: 35\n",
        "About to check invertibility of using column LOCATION_Treatment_9999_T16\n",
        "['LOCATION_Treatment_9999_T16']\n",
        "Optimization terminated successfully.\n",
        "         Current function value: 0.537249\n",
        "         Iterations: 5\n",
        "         Function evaluations: 6\n",
        "         Gradient evaluations: 10\n",
        "         Hessian evaluations: 5\n",
        "About to check invertibility of using column LOCATION_Treatment_9999_T20\n",
        "['LOCATION_Treatment_9999_T20']\n",
        "Optimization terminated successfully."
       ]
      },
      {
       "output_type": "stream",
       "stream": "stdout",
       "text": [
        "\n",
        "         Current function value: 0.535589\n",
        "         Iterations: 5\n",
        "         Function evaluations: 6\n",
        "         Gradient evaluations: 10\n",
        "         Hessian evaluations: 5\n",
        "About to check invertibility of using column LOCATION_Treatment_9999_T21\n",
        "['LOCATION_Treatment_9999_T21']\n",
        "Warning: Maximum number of iterations has been exceeded."
       ]
      },
      {
       "output_type": "stream",
       "stream": "stdout",
       "text": [
        "\n",
        "         Current function value: 0.536806\n",
        "         Iterations: 35\n",
        "         Function evaluations: 36\n",
        "         Gradient evaluations: 70\n",
        "         Hessian evaluations: 35\n",
        "About to check invertibility of using column LOCATION_Treatment_9999_T23\n",
        "['LOCATION_Treatment_9999_T23']\n",
        "Optimization terminated successfully.\n",
        "         Current function value: 0.528491\n",
        "         Iterations: 6\n",
        "         Function evaluations: 7\n",
        "         Gradient evaluations: 12\n",
        "         Hessian evaluations: 6\n",
        "About to check invertibility of using column LOCATION_Treatment_9999_T25\n",
        "['LOCATION_Treatment_9999_T25']\n",
        "Warning: Maximum number of iterations has been exceeded."
       ]
      },
      {
       "output_type": "stream",
       "stream": "stdout",
       "text": [
        "\n",
        "         Current function value: 0.537059\n",
        "         Iterations: 35\n",
        "         Function evaluations: 36\n",
        "         Gradient evaluations: 70\n",
        "         Hessian evaluations: 35\n",
        "About to check invertibility of using column SEX_IM_T2\n",
        "['SEX_IM_T2']\n",
        "Optimization terminated successfully.\n",
        "         Current function value: 0.536835\n",
        "         Iterations: 5\n",
        "         Function evaluations: 6\n",
        "         Gradient evaluations: 10\n",
        "         Hessian evaluations: 5\n",
        "About to check invertibility of using column PERALCH_IM_T1\n",
        "['PERALCH_IM_T1']\n",
        "Optimization terminated successfully.\n",
        "         Current function value: 0.533868\n",
        "         Iterations: 5\n",
        "         Function evaluations: 6\n",
        "         Gradient evaluations: 10\n",
        "         Hessian evaluations: 5\n",
        "About to check invertibility of using column TOW_VEH_vehDup_Treatment_9999_T0\n",
        "['TOW_VEH_vehDup_Treatment_9999_T0']\n",
        "Optimization terminated successfully."
       ]
      },
      {
       "output_type": "stream",
       "stream": "stdout",
       "text": [
        "\n",
        "         Current function value: 0.537191\n",
        "         Iterations: 6\n",
        "         Function evaluations: 7\n",
        "         Gradient evaluations: 12\n",
        "         Hessian evaluations: 6\n",
        "About to check invertibility of using column TOW_VEH_vehDup_Treatment_9999_T1\n",
        "['TOW_VEH_vehDup_Treatment_9999_T1']\n",
        "Optimization terminated successfully.\n",
        "         Current function value: 0.537308\n",
        "         Iterations: 4\n",
        "         Function evaluations: 5\n",
        "         Gradient evaluations: 8\n",
        "         Hessian evaluations: 4\n",
        "About to check invertibility of using column GVWR_Treatment_9999_T0\n",
        "['GVWR_Treatment_9999_T0']\n",
        "Optimization terminated successfully.\n",
        "         Current function value: 0.537172\n",
        "         Iterations: 6\n",
        "         Function evaluations: 7\n",
        "         Gradient evaluations: 12\n",
        "         Hessian evaluations: 6\n",
        "About to check invertibility of using column GVWR_Treatment_9999_T2\n",
        "['GVWR_Treatment_9999_T2']\n",
        "Optimization terminated successfully."
       ]
      },
      {
       "output_type": "stream",
       "stream": "stdout",
       "text": [
        "\n",
        "         Current function value: 0.537249\n",
        "         Iterations: 5\n",
        "         Function evaluations: 6\n",
        "         Gradient evaluations: 10\n",
        "         Hessian evaluations: 5\n",
        "About to check invertibility of using column GVWR_Treatment_9999_T3\n",
        "['GVWR_Treatment_9999_T3']\n",
        "Optimization terminated successfully.\n",
        "         Current function value: 0.537219\n",
        "         Iterations: 5\n",
        "         Function evaluations: 6\n",
        "         Gradient evaluations: 10\n",
        "         Hessian evaluations: 5\n",
        "About to check invertibility of using column V_CONFIG_Treatment_9999_T0\n",
        "['V_CONFIG_Treatment_9999_T0']\n",
        "Optimization terminated successfully.\n",
        "         Current function value: 0.537172\n",
        "         Iterations: 6\n",
        "         Function evaluations: 7\n",
        "         Gradient evaluations: 12\n",
        "         Hessian evaluations: 6\n",
        "About to check invertibility of using column V_CONFIG_Treatment_9999_T1\n",
        "['V_CONFIG_Treatment_9999_T1']\n",
        "Optimization terminated successfully."
       ]
      },
      {
       "output_type": "stream",
       "stream": "stdout",
       "text": [
        "\n",
        "         Current function value: 0.535951\n",
        "         Iterations: 6\n",
        "         Function evaluations: 7\n",
        "         Gradient evaluations: 12\n",
        "         Hessian evaluations: 6\n",
        "About to check invertibility of using column V_CONFIG_Treatment_9999_T2\n",
        "['V_CONFIG_Treatment_9999_T2']\n",
        "Warning: Maximum number of iterations has been exceeded."
       ]
      },
      {
       "output_type": "stream",
       "stream": "stdout",
       "text": [
        "\n",
        "         Current function value: 0.536806\n",
        "         Iterations: 35\n",
        "         Function evaluations: 36\n",
        "         Gradient evaluations: 70\n",
        "         Hessian evaluations: 35\n",
        "About to check invertibility of using column V_CONFIG_Treatment_9999_T4\n",
        "['V_CONFIG_Treatment_9999_T4']\n",
        "Optimization terminated successfully.\n",
        "         Current function value: 0.537240\n",
        "         Iterations: 5\n",
        "         Function evaluations: 6\n",
        "         Gradient evaluations: 10\n",
        "         Hessian evaluations: 5\n",
        "About to check invertibility of using column V_CONFIG_Treatment_9999_T6\n",
        "['V_CONFIG_Treatment_9999_T6']\n",
        "Warning: Maximum number of iterations has been exceeded."
       ]
      },
      {
       "output_type": "stream",
       "stream": "stdout",
       "text": [
        "\n",
        "         Current function value: 0.536303\n",
        "         Iterations: 35\n",
        "         Function evaluations: 36\n",
        "         Gradient evaluations: 70\n",
        "         Hessian evaluations: 35\n",
        "About to check invertibility of using column V_CONFIG_Treatment_9999_T20\n",
        "['V_CONFIG_Treatment_9999_T20']\n",
        "Warning: Maximum number of iterations has been exceeded."
       ]
      },
      {
       "output_type": "stream",
       "stream": "stdout",
       "text": [
        "\n",
        "         Current function value: 0.537059\n",
        "         Iterations: 35\n",
        "         Function evaluations: 36\n",
        "         Gradient evaluations: 70\n",
        "         Hessian evaluations: 35\n",
        "About to check invertibility of using column V_CONFIG_Treatment_9999_T21\n",
        "['V_CONFIG_Treatment_9999_T21']\n",
        "Optimization terminated successfully.\n",
        "         Current function value: 0.537285\n",
        "         Iterations: 5\n",
        "         Function evaluations: 6\n",
        "         Gradient evaluations: 10\n",
        "         Hessian evaluations: 5\n",
        "About to check invertibility of using column CARGO_BT_Treatment_9999_T0\n",
        "['CARGO_BT_Treatment_9999_T0']\n",
        "Optimization terminated successfully.\n",
        "         Current function value: 0.537172\n",
        "         Iterations: 6\n",
        "         Function evaluations: 7\n",
        "         Gradient evaluations: 12\n",
        "         Hessian evaluations: 6\n",
        "About to check invertibility of using column CARGO_BT_Treatment_9999_T1\n",
        "['CARGO_BT_Treatment_9999_T1']\n",
        "Optimization terminated successfully."
       ]
      },
      {
       "output_type": "stream",
       "stream": "stdout",
       "text": [
        "\n",
        "         Current function value: 0.536625\n",
        "         Iterations: 6\n",
        "         Function evaluations: 7\n",
        "         Gradient evaluations: 12\n",
        "         Hessian evaluations: 6\n",
        "About to check invertibility of using column CARGO_BT_Treatment_9999_T2\n",
        "['CARGO_BT_Treatment_9999_T2']\n",
        "About to check invertibility of using column CARGO_BT_Treatment_9999_T3\n",
        "['CARGO_BT_Treatment_9999_T3']\n",
        "Warning: Maximum number of iterations has been exceeded."
       ]
      },
      {
       "output_type": "stream",
       "stream": "stdout",
       "text": [
        "\n",
        "         Current function value: 0.536806\n",
        "         Iterations: 35\n",
        "         Function evaluations: 36\n",
        "         Gradient evaluations: 70\n",
        "         Hessian evaluations: 35\n",
        "About to check invertibility of using column CARGO_BT_Treatment_9999_T4\n",
        "['CARGO_BT_Treatment_9999_T4']\n",
        "Optimization terminated successfully.\n",
        "         Current function value: 0.536967\n",
        "         Iterations: 6\n",
        "         Function evaluations: 7\n",
        "         Gradient evaluations: 12\n",
        "         Hessian evaluations: 6\n",
        "About to check invertibility of using column CARGO_BT_Treatment_9999_T6\n",
        "['CARGO_BT_Treatment_9999_T6']\n",
        "Warning: Maximum number of iterations has been exceeded."
       ]
      },
      {
       "output_type": "stream",
       "stream": "stdout",
       "text": [
        "\n",
        "         Current function value: 0.537059\n",
        "         Iterations: 35\n",
        "         Function evaluations: 36\n",
        "         Gradient evaluations: 70\n",
        "         Hessian evaluations: 35\n",
        "About to check invertibility of using column CARGO_BT_Treatment_9999_T7\n",
        "['CARGO_BT_Treatment_9999_T7']\n",
        "Warning: Maximum number of iterations has been exceeded."
       ]
      },
      {
       "output_type": "stream",
       "stream": "stdout",
       "text": [
        "\n",
        "         Current function value: 0.536555\n",
        "         Iterations: 35\n",
        "         Function evaluations: 36\n",
        "         Gradient evaluations: 70\n",
        "         Hessian evaluations: 35\n",
        "About to check invertibility of using column CARGO_BT_Treatment_9999_T22\n",
        "['CARGO_BT_Treatment_9999_T22']\n",
        "Optimization terminated successfully.\n",
        "         Current function value: 0.537238\n",
        "         Iterations: 5\n",
        "         Function evaluations: 6\n",
        "         Gradient evaluations: 10\n",
        "         Hessian evaluations: 5\n",
        "About to check invertibility of using column CARGO_BT_Treatment_9999_T28"
       ]
      },
      {
       "output_type": "stream",
       "stream": "stdout",
       "text": [
        "\n",
        "['CARGO_BT_Treatment_9999_T28']\n",
        "Optimization terminated successfully.\n",
        "         Current function value: 0.536281\n",
        "         Iterations: 6\n",
        "         Function evaluations: 7\n",
        "         Gradient evaluations: 12\n",
        "         Hessian evaluations: 6\n",
        "About to check invertibility of using column CARGO_BT_Treatment_9999_T96\n",
        "['CARGO_BT_Treatment_9999_T96']\n",
        "Warning: Maximum number of iterations has been exceeded."
       ]
      },
      {
       "output_type": "stream",
       "stream": "stdout",
       "text": [
        "\n",
        "         Current function value: 0.536806\n",
        "         Iterations: 35\n",
        "         Function evaluations: 36\n",
        "         Gradient evaluations: 70\n",
        "         Hessian evaluations: 35\n",
        "About to check invertibility of using column BUS_USE_Treatment_9999_T0\n",
        "['BUS_USE_Treatment_9999_T0']\n",
        "Optimization terminated successfully."
       ]
      },
      {
       "output_type": "stream",
       "stream": "stdout",
       "text": [
        "\n",
        "         Current function value: 0.537302\n",
        "         Iterations: 6\n",
        "         Function evaluations: 7\n",
        "         Gradient evaluations: 12\n",
        "         Hessian evaluations: 6\n",
        "About to check invertibility of using column BUS_USE_Treatment_9999_T1\n",
        "['BUS_USE_Treatment_9999_T1']\n",
        "Warning: Maximum number of iterations has been exceeded."
       ]
      },
      {
       "output_type": "stream",
       "stream": "stdout",
       "text": [
        "\n",
        "         Current function value: 0.537059\n",
        "         Iterations: 35\n",
        "         Function evaluations: 36\n",
        "         Gradient evaluations: 70\n",
        "         Hessian evaluations: 35\n",
        "About to check invertibility of using column BUS_USE_Treatment_9999_T4\n",
        "['BUS_USE_Treatment_9999_T4']\n",
        "Warning: Maximum number of iterations has been exceeded."
       ]
      },
      {
       "output_type": "stream",
       "stream": "stdout",
       "text": [
        "\n",
        "         Current function value: 0.535873\n",
        "         Iterations: 35\n",
        "         Function evaluations: 36\n",
        "         Gradient evaluations: 70\n",
        "         Hessian evaluations: 35\n",
        "About to check invertibility of using column BUS_USE_Treatment_9999_T6\n",
        "['BUS_USE_Treatment_9999_T6']\n",
        "Warning: Maximum number of iterations has been exceeded."
       ]
      },
      {
       "output_type": "stream",
       "stream": "stdout",
       "text": [
        "\n",
        "         Current function value: 0.535287\n",
        "         Iterations: 35\n",
        "         Function evaluations: 36\n",
        "         Gradient evaluations: 70\n",
        "         Hessian evaluations: 35\n",
        "About to check invertibility of using column SPEC_USE_vehDup_Treatment_9999_T0\n",
        "['SPEC_USE_vehDup_Treatment_9999_T0']\n",
        "Optimization terminated successfully.\n",
        "         Current function value: 0.536268\n",
        "         Iterations: 5\n",
        "         Function evaluations: 6\n",
        "         Gradient evaluations: 10\n",
        "         Hessian evaluations: 5\n",
        "About to check invertibility of using column SPEC_USE_vehDup_Treatment_9999_T1\n",
        "['SPEC_USE_vehDup_Treatment_9999_T1']\n",
        "Optimization terminated successfully."
       ]
      },
      {
       "output_type": "stream",
       "stream": "stdout",
       "text": [
        "\n",
        "         Current function value: 0.536588\n",
        "         Iterations: 6\n",
        "         Function evaluations: 7\n",
        "         Gradient evaluations: 12\n",
        "         Hessian evaluations: 6\n",
        "About to check invertibility of using column SPEC_USE_vehDup_Treatment_9999_T3\n",
        "['SPEC_USE_vehDup_Treatment_9999_T3']\n",
        "Warning: Maximum number of iterations has been exceeded."
       ]
      },
      {
       "output_type": "stream",
       "stream": "stdout",
       "text": [
        "\n",
        "         Current function value: 0.535873\n",
        "         Iterations: 35\n",
        "         Function evaluations: 36\n",
        "         Gradient evaluations: 70\n",
        "         Hessian evaluations: 35\n",
        "About to check invertibility of using column SPEC_USE_vehDup_Treatment_9999_T5\n",
        "['SPEC_USE_vehDup_Treatment_9999_T5']\n",
        "Optimization terminated successfully.\n",
        "         Current function value: 0.537303\n",
        "         Iterations: 5\n",
        "         Function evaluations: 6\n",
        "         Gradient evaluations: 10\n",
        "         Hessian evaluations: 5\n",
        "About to check invertibility of using column EMER_USE_vehDup_Treatment_9999_T0\n",
        "['EMER_USE_vehDup_Treatment_9999_T0']\n",
        "Optimization terminated successfully."
       ]
      },
      {
       "output_type": "stream",
       "stream": "stdout",
       "text": [
        "\n",
        "         Current function value: 0.536805\n",
        "         Iterations: 5\n",
        "         Function evaluations: 6\n",
        "         Gradient evaluations: 10\n",
        "         Hessian evaluations: 5\n",
        "About to check invertibility of using column EMER_USE_vehDup_Treatment_9999_T1\n",
        "['EMER_USE_vehDup_Treatment_9999_T1']\n",
        "About to check invertibility of using column IMPACT2_vehDup_Treatment_9999_T0\n",
        "['IMPACT2_vehDup_Treatment_9999_T0']\n",
        "Warning: Maximum number of iterations has been exceeded."
       ]
      },
      {
       "output_type": "stream",
       "stream": "stdout",
       "text": [
        "\n",
        "         Current function value: 0.537059\n",
        "         Iterations: 35\n",
        "         Function evaluations: 36\n",
        "         Gradient evaluations: 70\n",
        "         Hessian evaluations: 35\n",
        "About to check invertibility of using column IMPACT2_vehDup_Treatment_9999_T1\n",
        "['IMPACT2_vehDup_Treatment_9999_T1']\n",
        "Optimization terminated successfully.\n",
        "         Current function value: 0.536419\n",
        "         Iterations: 5\n",
        "         Function evaluations: 6\n",
        "         Gradient evaluations: 10\n",
        "         Hessian evaluations: 5\n",
        "About to check invertibility of using column IMPACT2_vehDup_Treatment_9999_T2\n",
        "['IMPACT2_vehDup_Treatment_9999_T2']\n",
        "Optimization terminated successfully."
       ]
      },
      {
       "output_type": "stream",
       "stream": "stdout",
       "text": [
        "\n",
        "         Current function value: 0.536888\n",
        "         Iterations: 6\n",
        "         Function evaluations: 7\n",
        "         Gradient evaluations: 12\n",
        "         Hessian evaluations: 6\n",
        "About to check invertibility of using column IMPACT2_vehDup_Treatment_9999_T3\n",
        "['IMPACT2_vehDup_Treatment_9999_T3']\n",
        "Optimization terminated successfully.\n",
        "         Current function value: 0.535530\n",
        "         Iterations: 5\n",
        "         Function evaluations: 6\n",
        "         Gradient evaluations: 10\n",
        "         Hessian evaluations: 5\n",
        "About to check invertibility of using column IMPACT2_vehDup_Treatment_9999_T4\n",
        "['IMPACT2_vehDup_Treatment_9999_T4']\n",
        "Optimization terminated successfully."
       ]
      },
      {
       "output_type": "stream",
       "stream": "stdout",
       "text": [
        "\n",
        "         Current function value: 0.536306\n",
        "         Iterations: 6\n",
        "         Function evaluations: 7\n",
        "         Gradient evaluations: 12\n",
        "         Hessian evaluations: 6\n",
        "About to check invertibility of using column IMPACT2_vehDup_Treatment_9999_T5\n",
        "['IMPACT2_vehDup_Treatment_9999_T5']\n",
        "Optimization terminated successfully.\n",
        "         Current function value: 0.537172\n",
        "         Iterations: 6\n",
        "         Function evaluations: 7\n",
        "         Gradient evaluations: 12\n",
        "         Hessian evaluations: 6\n",
        "About to check invertibility of using column IMPACT2_vehDup_Treatment_9999_T6\n",
        "['IMPACT2_vehDup_Treatment_9999_T6']\n",
        "Optimization terminated successfully."
       ]
      },
      {
       "output_type": "stream",
       "stream": "stdout",
       "text": [
        "\n",
        "         Current function value: 0.537273\n",
        "         Iterations: 5\n",
        "         Function evaluations: 6\n",
        "         Gradient evaluations: 10\n",
        "         Hessian evaluations: 5\n",
        "About to check invertibility of using column IMPACT2_vehDup_Treatment_9999_T7\n",
        "['IMPACT2_vehDup_Treatment_9999_T7']\n",
        "Optimization terminated successfully.\n",
        "         Current function value: 0.537285\n",
        "         Iterations: 5\n",
        "         Function evaluations: 6\n",
        "         Gradient evaluations: 10\n",
        "         Hessian evaluations: 5\n",
        "About to check invertibility of using column IMPACT2_vehDup_Treatment_9999_T8\n",
        "['IMPACT2_vehDup_Treatment_9999_T8']\n",
        "Optimization terminated successfully."
       ]
      },
      {
       "output_type": "stream",
       "stream": "stdout",
       "text": [
        "\n",
        "         Current function value: 0.537247\n",
        "         Iterations: 5\n",
        "         Function evaluations: 6\n",
        "         Gradient evaluations: 10\n",
        "         Hessian evaluations: 5\n",
        "About to check invertibility of using column IMPACT2_vehDup_Treatment_9999_T9\n",
        "['IMPACT2_vehDup_Treatment_9999_T9']\n",
        "Optimization terminated successfully.\n",
        "         Current function value: 0.537031\n",
        "         Iterations: 6\n",
        "         Function evaluations: 7\n",
        "         Gradient evaluations: 12\n",
        "         Hessian evaluations: 6\n",
        "About to check invertibility of using column IMPACT2_vehDup_Treatment_9999_T10\n",
        "['IMPACT2_vehDup_Treatment_9999_T10']\n",
        "Optimization terminated successfully."
       ]
      },
      {
       "output_type": "stream",
       "stream": "stdout",
       "text": [
        "\n",
        "         Current function value: 0.535909\n",
        "         Iterations: 6\n",
        "         Function evaluations: 7\n",
        "         Gradient evaluations: 12\n",
        "         Hessian evaluations: 6\n",
        "About to check invertibility of using column IMPACT2_vehDup_Treatment_9999_T11\n",
        "['IMPACT2_vehDup_Treatment_9999_T11']\n",
        "Optimization terminated successfully.\n",
        "         Current function value: 0.537308\n",
        "         Iterations: 4\n",
        "         Function evaluations: 5\n",
        "         Gradient evaluations: 8\n",
        "         Hessian evaluations: 4\n",
        "About to check invertibility of using column IMPACT2_vehDup_Treatment_9999_T12\n",
        "['IMPACT2_vehDup_Treatment_9999_T12']\n",
        "Optimization terminated successfully."
       ]
      },
      {
       "output_type": "stream",
       "stream": "stdout",
       "text": [
        "\n",
        "         Current function value: 0.537113\n",
        "         Iterations: 5\n",
        "         Function evaluations: 6\n",
        "         Gradient evaluations: 10\n",
        "         Hessian evaluations: 5\n",
        "About to check invertibility of using column IMPACT2_vehDup_Treatment_9999_T13\n",
        "['IMPACT2_vehDup_Treatment_9999_T13']\n",
        "Warning: Maximum number of iterations has been exceeded."
       ]
      },
      {
       "output_type": "stream",
       "stream": "stdout",
       "text": [
        "\n",
        "         Current function value: 0.537059\n",
        "         Iterations: 35\n",
        "         Function evaluations: 36\n",
        "         Gradient evaluations: 70\n",
        "         Hessian evaluations: 35\n",
        "About to check invertibility of using column IMPACT2_vehDup_Treatment_9999_T14\n",
        "['IMPACT2_vehDup_Treatment_9999_T14']\n",
        "Warning: Maximum number of iterations has been exceeded."
       ]
      },
      {
       "output_type": "stream",
       "stream": "stdout",
       "text": [
        "\n",
        "         Current function value: 0.537059\n",
        "         Iterations: 35\n",
        "         Function evaluations: 36\n",
        "         Gradient evaluations: 70\n",
        "         Hessian evaluations: 35\n",
        "About to check invertibility of using column IMPACT2_vehDup_Treatment_9999_T61\n",
        "['IMPACT2_vehDup_Treatment_9999_T61']\n",
        "Warning: Maximum number of iterations has been exceeded."
       ]
      },
      {
       "output_type": "stream",
       "stream": "stdout",
       "text": [
        "\n",
        "         Current function value: 0.537059\n",
        "         Iterations: 35\n",
        "         Function evaluations: 36\n",
        "         Gradient evaluations: 70\n",
        "         Hessian evaluations: 35\n",
        "About to check invertibility of using column IMPACT2_vehDup_Treatment_9999_T62\n",
        "['IMPACT2_vehDup_Treatment_9999_T62']\n",
        "Optimization terminated successfully.\n",
        "         Current function value: 0.536556\n",
        "         Iterations: 6\n",
        "         Function evaluations: 7\n",
        "         Gradient evaluations: 12\n",
        "         Hessian evaluations: 6\n",
        "About to check invertibility of using column IMPACT2_vehDup_Treatment_9999_T63\n",
        "['IMPACT2_vehDup_Treatment_9999_T63']\n",
        "Optimization terminated successfully.\n",
        "         Current function value: 0.537036\n",
        "         Iterations: 6\n",
        "         Function evaluations: 7\n",
        "         Gradient evaluations: 12\n",
        "         Hessian evaluations: 6\n",
        "About to check invertibility of using column IMPACT2_vehDup_Treatment_9999_T81\n",
        "['IMPACT2_vehDup_Treatment_9999_T81']\n",
        "Optimization terminated successfully."
       ]
      },
      {
       "output_type": "stream",
       "stream": "stdout",
       "text": [
        "\n",
        "         Current function value: 0.536625\n",
        "         Iterations: 6\n",
        "         Function evaluations: 7\n",
        "         Gradient evaluations: 12\n",
        "         Hessian evaluations: 6\n",
        "About to check invertibility of using column IMPACT2_vehDup_Treatment_9999_T82\n",
        "['IMPACT2_vehDup_Treatment_9999_T82']\n",
        "Optimization terminated successfully.\n",
        "         Current function value: 0.537283\n",
        "         Iterations: 4\n",
        "         Function evaluations: 5\n",
        "         Gradient evaluations: 8\n",
        "         Hessian evaluations: 4\n",
        "About to check invertibility of using column IMPACT2_vehDup_Treatment_9999_T83\n",
        "['IMPACT2_vehDup_Treatment_9999_T83']\n",
        "Optimization terminated successfully.\n",
        "         Current function value: 0.537020\n",
        "         Iterations: 6\n",
        "         Function evaluations: 7\n",
        "         Gradient evaluations: 12\n",
        "         Hessian evaluations: 6\n",
        "About to check invertibility of using column SPEEDREL_Treatment_9999_T0\n",
        "['SPEEDREL_Treatment_9999_T0']\n",
        "Optimization terminated successfully."
       ]
      },
      {
       "output_type": "stream",
       "stream": "stdout",
       "text": [
        "\n",
        "         Current function value: 0.537174\n",
        "         Iterations: 6\n",
        "         Function evaluations: 7\n",
        "         Gradient evaluations: 12\n",
        "         Hessian evaluations: 6\n",
        "About to check invertibility of using column SPEEDREL_Treatment_9999_T1\n",
        "['SPEEDREL_Treatment_9999_T1']\n",
        "Optimization terminated successfully.\n",
        "         Current function value: 0.537191\n",
        "         Iterations: 6\n",
        "         Function evaluations: 7\n",
        "         Gradient evaluations: 12\n",
        "         Hessian evaluations: 6\n",
        "About to check invertibility of using column VTRAFWAY_Treatment_9999_T0\n",
        "['VTRAFWAY_Treatment_9999_T0']\n",
        "Optimization terminated successfully."
       ]
      },
      {
       "output_type": "stream",
       "stream": "stdout",
       "text": [
        "\n",
        "         Current function value: 0.535674\n",
        "         Iterations: 5\n",
        "         Function evaluations: 6\n",
        "         Gradient evaluations: 10\n",
        "         Hessian evaluations: 5\n",
        "About to check invertibility of using column VTRAFWAY_Treatment_9999_T1\n",
        "['VTRAFWAY_Treatment_9999_T1']\n",
        "Optimization terminated successfully.\n",
        "         Current function value: 0.536736\n",
        "         Iterations: 5\n",
        "         Function evaluations: 6\n",
        "         Gradient evaluations: 10\n",
        "         Hessian evaluations: 5\n",
        "About to check invertibility of using column VTRAFWAY_Treatment_9999_T2\n",
        "['VTRAFWAY_Treatment_9999_T2']\n",
        "Optimization terminated successfully."
       ]
      },
      {
       "output_type": "stream",
       "stream": "stdout",
       "text": [
        "\n",
        "         Current function value: 0.536874\n",
        "         Iterations: 5\n",
        "         Function evaluations: 6\n",
        "         Gradient evaluations: 10\n",
        "         Hessian evaluations: 5\n",
        "About to check invertibility of using column VTRAFWAY_Treatment_9999_T3\n",
        "['VTRAFWAY_Treatment_9999_T3']\n",
        "Optimization terminated successfully.\n",
        "         Current function value: 0.537259\n",
        "         Iterations: 5\n",
        "         Function evaluations: 6\n",
        "         Gradient evaluations: 10\n",
        "         Hessian evaluations: 5\n",
        "About to check invertibility of using column VTRAFWAY_Treatment_9999_T4\n",
        "['VTRAFWAY_Treatment_9999_T4']\n",
        "Optimization terminated successfully."
       ]
      },
      {
       "output_type": "stream",
       "stream": "stdout",
       "text": [
        "\n",
        "         Current function value: 0.536928\n",
        "         Iterations: 6\n",
        "         Function evaluations: 7\n",
        "         Gradient evaluations: 12\n",
        "         Hessian evaluations: 6\n",
        "About to check invertibility of using column VTRAFWAY_Treatment_9999_T5\n",
        "['VTRAFWAY_Treatment_9999_T5']\n",
        "Optimization terminated successfully.\n",
        "         Current function value: 0.535761\n",
        "         Iterations: 5\n",
        "         Function evaluations: 6\n",
        "         Gradient evaluations: 10\n",
        "         Hessian evaluations: 5\n",
        "About to check invertibility of using column VTRAFWAY_Treatment_9999_T6\n",
        "['VTRAFWAY_Treatment_9999_T6']\n",
        "Warning: Maximum number of iterations has been exceeded."
       ]
      },
      {
       "output_type": "stream",
       "stream": "stdout",
       "text": [
        "\n",
        "         Current function value: 0.536303\n",
        "         Iterations: 35\n",
        "         Function evaluations: 36\n",
        "         Gradient evaluations: 70\n",
        "         Hessian evaluations: 35\n",
        "About to check invertibility of using column VALIGN_Treatment_9999_T0\n",
        "['VALIGN_Treatment_9999_T0']\n",
        "Optimization terminated successfully.\n",
        "         Current function value: 0.535674\n",
        "         Iterations: 5\n",
        "         Function evaluations: 6\n",
        "         Gradient evaluations: 10\n",
        "         Hessian evaluations: 5\n",
        "About to check invertibility of using column VALIGN_Treatment_9999_T1\n",
        "['VALIGN_Treatment_9999_T1']\n",
        "Optimization terminated successfully."
       ]
      },
      {
       "output_type": "stream",
       "stream": "stdout",
       "text": [
        "\n",
        "         Current function value: 0.533137\n",
        "         Iterations: 6\n",
        "         Function evaluations: 7\n",
        "         Gradient evaluations: 12\n",
        "         Hessian evaluations: 6\n",
        "About to check invertibility of using column VALIGN_Treatment_9999_T2\n",
        "['VALIGN_Treatment_9999_T2']\n",
        "Optimization terminated successfully.\n",
        "         Current function value: 0.537140\n",
        "         Iterations: 6\n",
        "         Function evaluations: 7\n",
        "         Gradient evaluations: 12\n",
        "         Hessian evaluations: 6\n",
        "About to check invertibility of using column VALIGN_Treatment_9999_T3\n",
        "['VALIGN_Treatment_9999_T3']\n",
        "Optimization terminated successfully."
       ]
      },
      {
       "output_type": "stream",
       "stream": "stdout",
       "text": [
        "\n",
        "         Current function value: 0.537307\n",
        "         Iterations: 4\n",
        "         Function evaluations: 5\n",
        "         Gradient evaluations: 8\n",
        "         Hessian evaluations: 4\n",
        "About to check invertibility of using column VALIGN_Treatment_9999_T4\n",
        "['VALIGN_Treatment_9999_T4']\n",
        "Optimization terminated successfully.\n",
        "         Current function value: 0.535969\n",
        "         Iterations: 6\n",
        "         Function evaluations: 7\n",
        "         Gradient evaluations: 12\n",
        "         Hessian evaluations: 6\n",
        "About to check invertibility of using column VPROFILE_Treatment_9999_T0\n",
        "['VPROFILE_Treatment_9999_T0']\n",
        "Optimization terminated successfully."
       ]
      },
      {
       "output_type": "stream",
       "stream": "stdout",
       "text": [
        "\n",
        "         Current function value: 0.535674\n",
        "         Iterations: 5\n",
        "         Function evaluations: 6\n",
        "         Gradient evaluations: 10\n",
        "         Hessian evaluations: 5\n",
        "About to check invertibility of using column VPROFILE_Treatment_9999_T1\n",
        "['VPROFILE_Treatment_9999_T1']\n",
        "Optimization terminated successfully.\n",
        "         Current function value: 0.525022\n",
        "         Iterations: 6\n",
        "         Function evaluations: 7\n",
        "         Gradient evaluations: 12\n",
        "         Hessian evaluations: 6\n",
        "About to check invertibility of using column VPROFILE_Treatment_9999_T2\n",
        "['VPROFILE_Treatment_9999_T2']\n",
        "Optimization terminated successfully."
       ]
      },
      {
       "output_type": "stream",
       "stream": "stdout",
       "text": [
        "\n",
        "         Current function value: 0.535157\n",
        "         Iterations: 5\n",
        "         Function evaluations: 6\n",
        "         Gradient evaluations: 10\n",
        "         Hessian evaluations: 5\n",
        "About to check invertibility of using column VPROFILE_Treatment_9999_T3\n",
        "['VPROFILE_Treatment_9999_T3']\n",
        "Optimization terminated successfully."
       ]
      },
      {
       "output_type": "stream",
       "stream": "stdout",
       "text": [
        "\n",
        "         Current function value: 0.537056\n",
        "         Iterations: 6\n",
        "         Function evaluations: 7\n",
        "         Gradient evaluations: 12\n",
        "         Hessian evaluations: 6\n",
        "About to check invertibility of using column VPROFILE_Treatment_9999_T4\n",
        "['VPROFILE_Treatment_9999_T4']\n",
        "Optimization terminated successfully."
       ]
      },
      {
       "output_type": "stream",
       "stream": "stdout",
       "text": [
        "\n",
        "         Current function value: 0.536967\n",
        "         Iterations: 6\n",
        "         Function evaluations: 7\n",
        "         Gradient evaluations: 12\n",
        "         Hessian evaluations: 6\n",
        "About to check invertibility of using column VPROFILE_Treatment_9999_T5\n",
        "['VPROFILE_Treatment_9999_T5']\n",
        "Optimization terminated successfully.\n",
        "         Current function value: 0.537240\n",
        "         Iterations: 5\n",
        "         Function evaluations: 6\n",
        "         Gradient evaluations: 10\n",
        "         Hessian evaluations: 5\n",
        "About to check invertibility of using column VPROFILE_Treatment_9999_T6\n",
        "['VPROFILE_Treatment_9999_T6']\n",
        "Optimization terminated successfully."
       ]
      },
      {
       "output_type": "stream",
       "stream": "stdout",
       "text": [
        "\n",
        "         Current function value: 0.536604\n",
        "         Iterations: 6\n",
        "         Function evaluations: 7\n",
        "         Gradient evaluations: 12\n",
        "         Hessian evaluations: 6\n",
        "About to check invertibility of using column VSURCOND_Treatment_9999_T0\n",
        "['VSURCOND_Treatment_9999_T0']\n",
        "Optimization terminated successfully.\n",
        "         Current function value: 0.535674\n",
        "         Iterations: 5\n",
        "         Function evaluations: 6\n",
        "         Gradient evaluations: 10\n",
        "         Hessian evaluations: 5\n",
        "About to check invertibility of using column VSURCOND_Treatment_9999_T1\n",
        "['VSURCOND_Treatment_9999_T1']\n",
        "Optimization terminated successfully.\n",
        "         Current function value: 0.536549\n",
        "         Iterations: 5\n",
        "         Function evaluations: 6\n",
        "         Gradient evaluations: 10\n",
        "         Hessian evaluations: 5\n",
        "About to check invertibility of using column VSURCOND_Treatment_9999_T2\n",
        "['VSURCOND_Treatment_9999_T2']\n",
        "Optimization terminated successfully."
       ]
      },
      {
       "output_type": "stream",
       "stream": "stdout",
       "text": [
        "\n",
        "         Current function value: 0.537301\n",
        "         Iterations: 5\n",
        "         Function evaluations: 6\n",
        "         Gradient evaluations: 10\n",
        "         Hessian evaluations: 5\n",
        "About to check invertibility of using column VSURCOND_Treatment_9999_T3\n",
        "['VSURCOND_Treatment_9999_T3']\n",
        "Warning: Maximum number of iterations has been exceeded."
       ]
      },
      {
       "output_type": "stream",
       "stream": "stdout",
       "text": [
        "\n",
        "         Current function value: 0.537059\n",
        "         Iterations: 35\n",
        "         Function evaluations: 36\n",
        "         Gradient evaluations: 70\n",
        "         Hessian evaluations: 35\n",
        "About to check invertibility of using column VSURCOND_Treatment_9999_T4\n",
        "['VSURCOND_Treatment_9999_T4']\n",
        "Warning: Maximum number of iterations has been exceeded."
       ]
      },
      {
       "output_type": "stream",
       "stream": "stdout",
       "text": [
        "\n",
        "         Current function value: 0.535873\n",
        "         Iterations: 35\n",
        "         Function evaluations: 36\n",
        "         Gradient evaluations: 70\n",
        "         Hessian evaluations: 35\n",
        "About to check invertibility of using column VSURCOND_Treatment_9999_T8\n",
        "['VSURCOND_Treatment_9999_T8']\n",
        "Warning: Maximum number of iterations has been exceeded."
       ]
      },
      {
       "output_type": "stream",
       "stream": "stdout",
       "text": [
        "\n",
        "         Current function value: 0.537059\n",
        "         Iterations: 35\n",
        "         Function evaluations: 36\n",
        "         Gradient evaluations: 70\n",
        "         Hessian evaluations: 35\n",
        "About to check invertibility of using column VTRAFCON_Treatment_9999_T0\n",
        "['VTRAFCON_Treatment_9999_T0']\n",
        "Optimization terminated successfully.\n",
        "         Current function value: 0.532382\n",
        "         Iterations: 5\n",
        "         Function evaluations: 6\n",
        "         Gradient evaluations: 10\n",
        "         Hessian evaluations: 5\n",
        "About to check invertibility of using column VTRAFCON_Treatment_9999_T2\n",
        "['VTRAFCON_Treatment_9999_T2']\n",
        "Optimization terminated successfully.\n",
        "         Current function value: 0.537261\n",
        "         Iterations: 5\n",
        "         Function evaluations: 6\n",
        "         Gradient evaluations: 10\n",
        "         Hessian evaluations: 5\n",
        "About to check invertibility of using column VTRAFCON_Treatment_9999_T3\n",
        "['VTRAFCON_Treatment_9999_T3']\n",
        "Optimization terminated successfully."
       ]
      },
      {
       "output_type": "stream",
       "stream": "stdout",
       "text": [
        "\n",
        "         Current function value: 0.536483\n",
        "         Iterations: 5\n",
        "         Function evaluations: 6\n",
        "         Gradient evaluations: 10\n",
        "         Hessian evaluations: 5\n",
        "About to check invertibility of using column VTRAFCON_Treatment_9999_T4\n",
        "['VTRAFCON_Treatment_9999_T4']\n",
        "Warning: Maximum number of iterations has been exceeded."
       ]
      },
      {
       "output_type": "stream",
       "stream": "stdout",
       "text": [
        "\n",
        "         Current function value: 0.536806\n",
        "         Iterations: 35\n",
        "         Function evaluations: 36\n",
        "         Gradient evaluations: 70\n",
        "         Hessian evaluations: 35\n",
        "About to check invertibility of using column VTRAFCON_Treatment_9999_T20\n",
        "['VTRAFCON_Treatment_9999_T20']\n",
        "Optimization terminated successfully.\n",
        "         Current function value: 0.534205\n",
        "         Iterations: 5\n",
        "         Function evaluations: 6\n",
        "         Gradient evaluations: 10\n",
        "         Hessian evaluations: 5\n",
        "About to check invertibility of using column VTRAFCON_Treatment_9999_T21\n",
        "['VTRAFCON_Treatment_9999_T21']\n",
        "Optimization terminated successfully."
       ]
      },
      {
       "output_type": "stream",
       "stream": "stdout",
       "text": [
        "\n",
        "         Current function value: 0.537296\n",
        "         Iterations: 5\n",
        "         Function evaluations: 6\n",
        "         Gradient evaluations: 10\n",
        "         Hessian evaluations: 5\n",
        "About to check invertibility of using column VTRAFCON_Treatment_9999_T40\n",
        "['VTRAFCON_Treatment_9999_T40']\n",
        "About to check invertibility of using column VTRAFCON_Treatment_9999_T50\n",
        "['VTRAFCON_Treatment_9999_T50']\n",
        "Warning: Maximum number of iterations has been exceeded."
       ]
      },
      {
       "output_type": "stream",
       "stream": "stdout",
       "text": [
        "\n",
        "         Current function value: 0.537059\n",
        "         Iterations: 35\n",
        "         Function evaluations: 36\n",
        "         Gradient evaluations: 70\n",
        "         Hessian evaluations: 35\n",
        "About to check invertibility of using column VTCONT_F_Treatment_9999_T0\n",
        "['VTCONT_F_Treatment_9999_T0']\n",
        "Optimization terminated successfully.\n",
        "         Current function value: 0.532382\n",
        "         Iterations: 5\n",
        "         Function evaluations: 6\n",
        "         Gradient evaluations: 10\n",
        "         Hessian evaluations: 5\n",
        "About to check invertibility of using column VTCONT_F_Treatment_9999_T2\n",
        "['VTCONT_F_Treatment_9999_T2']\n",
        "Warning: Maximum number of iterations has been exceeded."
       ]
      },
      {
       "output_type": "stream",
       "stream": "stdout",
       "text": [
        "\n",
        "         Current function value: 0.537059\n",
        "         Iterations: 35\n",
        "         Function evaluations: 36\n",
        "         Gradient evaluations: 70\n",
        "         Hessian evaluations: 35\n",
        "About to check invertibility of using column VTCONT_F_Treatment_9999_T3\n",
        "['VTCONT_F_Treatment_9999_T3']\n",
        "Optimization terminated successfully.\n",
        "         Current function value: 0.534080\n",
        "         Iterations: 5\n",
        "         Function evaluations: 6\n",
        "         Gradient evaluations: 10\n",
        "         Hessian evaluations: 5\n",
        "About to check invertibility of using column P_CRASH2_Treatment_9999_T4\n",
        "['P_CRASH2_Treatment_9999_T4']\n",
        "Warning: Maximum number of iterations has been exceeded."
       ]
      },
      {
       "output_type": "stream",
       "stream": "stdout",
       "text": [
        "\n",
        "         Current function value: 0.537059\n",
        "         Iterations: 35\n",
        "         Function evaluations: 36\n",
        "         Gradient evaluations: 70\n",
        "         Hessian evaluations: 35\n",
        "About to check invertibility of using column P_CRASH2_Treatment_9999_T6\n",
        "['P_CRASH2_Treatment_9999_T6']\n",
        "Warning: Maximum number of iterations has been exceeded."
       ]
      },
      {
       "output_type": "stream",
       "stream": "stdout",
       "text": [
        "\n",
        "         Current function value: 0.537059\n",
        "         Iterations: 35\n",
        "         Function evaluations: 36\n",
        "         Gradient evaluations: 70\n",
        "         Hessian evaluations: 35\n",
        "About to check invertibility of using column P_CRASH2_Treatment_9999_T10\n",
        "['P_CRASH2_Treatment_9999_T10']\n",
        "Optimization terminated successfully.\n",
        "         Current function value: 0.537303\n",
        "         Iterations: 5\n",
        "         Function evaluations: 6\n",
        "         Gradient evaluations: 10\n",
        "         Hessian evaluations: 5\n",
        "About to check invertibility of using column P_CRASH2_Treatment_9999_T11\n",
        "['P_CRASH2_Treatment_9999_T11']\n",
        "Optimization terminated successfully."
       ]
      },
      {
       "output_type": "stream",
       "stream": "stdout",
       "text": [
        "\n",
        "         Current function value: 0.537250\n",
        "         Iterations: 5\n",
        "         Function evaluations: 6\n",
        "         Gradient evaluations: 10\n",
        "         Hessian evaluations: 5\n",
        "About to check invertibility of using column P_CRASH2_Treatment_9999_T12\n",
        "['P_CRASH2_Treatment_9999_T12']\n",
        "Warning: Maximum number of iterations has been exceeded."
       ]
      },
      {
       "output_type": "stream",
       "stream": "stdout",
       "text": [
        "\n",
        "         Current function value: 0.532990\n",
        "         Iterations: 35\n",
        "         Function evaluations: 36\n",
        "         Gradient evaluations: 70\n",
        "         Hessian evaluations: 35\n",
        "About to check invertibility of using column P_CRASH2_Treatment_9999_T13\n",
        "['P_CRASH2_Treatment_9999_T13']\n",
        "Optimization terminated successfully.\n",
        "         Current function value: 0.537174\n",
        "         Iterations: 6\n",
        "         Function evaluations: 7\n",
        "         Gradient evaluations: 12\n",
        "         Hessian evaluations: 6\n",
        "About to check invertibility of using column P_CRASH2_Treatment_9999_T15\n",
        "['P_CRASH2_Treatment_9999_T15']\n",
        "Optimization terminated successfully.\n",
        "         Current function value: 0.537292\n",
        "         Iterations: 5\n",
        "         Function evaluations: 6\n",
        "         Gradient evaluations: 10\n",
        "         Hessian evaluations: 5\n",
        "About to check invertibility of using column P_CRASH2_Treatment_9999_T16"
       ]
      },
      {
       "output_type": "stream",
       "stream": "stdout",
       "text": [
        "\n",
        "['P_CRASH2_Treatment_9999_T16']\n",
        "Optimization terminated successfully.\n",
        "         Current function value: 0.533056\n",
        "         Iterations: 6\n",
        "         Function evaluations: 7\n",
        "         Gradient evaluations: 12\n",
        "         Hessian evaluations: 6\n",
        "About to check invertibility of using column P_CRASH2_Treatment_9999_T17\n",
        "['P_CRASH2_Treatment_9999_T17']\n",
        "Optimization terminated successfully."
       ]
      },
      {
       "output_type": "stream",
       "stream": "stdout",
       "text": [
        "\n",
        "         Current function value: 0.537284\n",
        "         Iterations: 5\n",
        "         Function evaluations: 6\n",
        "         Gradient evaluations: 10\n",
        "         Hessian evaluations: 5\n",
        "About to check invertibility of using column P_CRASH2_Treatment_9999_T18\n",
        "['P_CRASH2_Treatment_9999_T18']\n",
        "Warning: Maximum number of iterations has been exceeded."
       ]
      },
      {
       "output_type": "stream",
       "stream": "stdout",
       "text": [
        "\n",
        "         Current function value: 0.537059\n",
        "         Iterations: 35\n",
        "         Function evaluations: 36\n",
        "         Gradient evaluations: 70\n",
        "         Hessian evaluations: 35\n",
        "About to check invertibility of using column P_CRASH2_Treatment_9999_T51\n",
        "['P_CRASH2_Treatment_9999_T51']\n",
        "About to check invertibility of using column P_CRASH2_Treatment_9999_T64\n",
        "['P_CRASH2_Treatment_9999_T64']\n",
        "Warning: Maximum number of iterations has been exceeded."
       ]
      },
      {
       "output_type": "stream",
       "stream": "stdout",
       "text": [
        "\n",
        "         Current function value: 0.537059\n",
        "         Iterations: 35\n",
        "         Function evaluations: 36\n",
        "         Gradient evaluations: 70\n",
        "         Hessian evaluations: 35\n",
        "About to check invertibility of using column P_CRASH2_Treatment_9999_T80\n",
        "['P_CRASH2_Treatment_9999_T80']\n",
        "Optimization terminated successfully.\n",
        "         Current function value: 0.536961\n",
        "         Iterations: 6\n",
        "         Function evaluations: 7\n",
        "         Gradient evaluations: 12\n",
        "         Hessian evaluations: 6\n",
        "About to check invertibility of using column P_CRASH2_Treatment_9999_T81\n",
        "['P_CRASH2_Treatment_9999_T81']\n",
        "About to check invertibility of using column P_CRASH2_Treatment_9999_T82\n",
        "['P_CRASH2_Treatment_9999_T82']\n",
        "Warning: Maximum number of iterations has been exceeded."
       ]
      },
      {
       "output_type": "stream",
       "stream": "stdout",
       "text": [
        "\n",
        "         Current function value: 0.537059\n",
        "         Iterations: 35\n",
        "         Function evaluations: 36\n",
        "         Gradient evaluations: 70\n",
        "         Hessian evaluations: 35\n",
        "About to check invertibility of using column P_CRASH2_Treatment_9999_T83\n",
        "['P_CRASH2_Treatment_9999_T83']\n",
        "Optimization terminated successfully.\n",
        "         Current function value: 0.536262\n",
        "         Iterations: 5\n",
        "         Function evaluations: 6\n",
        "         Gradient evaluations: 10\n",
        "         Hessian evaluations: 5\n",
        "About to check invertibility of using column P_CRASH2_Treatment_9999_T84\n",
        "['P_CRASH2_Treatment_9999_T84']\n",
        "Optimization terminated successfully."
       ]
      },
      {
       "output_type": "stream",
       "stream": "stdout",
       "text": [
        "\n",
        "         Current function value: 0.536222\n",
        "         Iterations: 6\n",
        "         Function evaluations: 7\n",
        "         Gradient evaluations: 12\n",
        "         Hessian evaluations: 6\n",
        "About to check invertibility of using column P_CRASH2_Treatment_9999_T85\n",
        "['P_CRASH2_Treatment_9999_T85']\n",
        "Warning: Maximum number of iterations has been exceeded."
       ]
      },
      {
       "output_type": "stream",
       "stream": "stdout",
       "text": [
        "\n",
        "         Current function value: 0.535873\n",
        "         Iterations: 35\n",
        "         Function evaluations: 36\n",
        "         Gradient evaluations: 70\n",
        "         Hessian evaluations: 35\n",
        "About to check invertibility of using column P_CRASH2_Treatment_9999_T99\n",
        "['P_CRASH2_Treatment_9999_T99']\n",
        "Optimization terminated successfully.\n",
        "         Current function value: 0.534925\n",
        "         Iterations: 7\n",
        "         Function evaluations: 8\n",
        "         Gradient evaluations: 14\n",
        "         Hessian evaluations: 7\n",
        "About to check invertibility of using column P_CRASH3_Treatment_9999_T0\n",
        "['P_CRASH3_Treatment_9999_T0']\n",
        "Warning: Maximum number of iterations has been exceeded."
       ]
      },
      {
       "output_type": "stream",
       "stream": "stdout",
       "text": [
        "\n",
        "         Current function value: 0.535873\n",
        "         Iterations: 35\n",
        "         Function evaluations: 36\n",
        "         Gradient evaluations: 70\n",
        "         Hessian evaluations: 35\n",
        "About to check invertibility of using column P_CRASH3_Treatment_9999_T1\n",
        "['P_CRASH3_Treatment_9999_T1']\n",
        "Optimization terminated successfully.\n",
        "         Current function value: 0.537271\n",
        "         Iterations: 5\n",
        "         Function evaluations: 6\n",
        "         Gradient evaluations: 10\n",
        "         Hessian evaluations: 5\n",
        "About to check invertibility of using column P_CRASH3_Treatment_9999_T2\n",
        "['P_CRASH3_Treatment_9999_T2']\n",
        "Optimization terminated successfully.\n",
        "         Current function value: 0.536390\n",
        "         Iterations: 6\n",
        "         Function evaluations: 7\n",
        "         Gradient evaluations: 12\n",
        "         Hessian evaluations: 6\n",
        "About to check invertibility of using column P_CRASH3_Treatment_9999_T3\n",
        "['P_CRASH3_Treatment_9999_T3']\n",
        "Optimization terminated successfully."
       ]
      },
      {
       "output_type": "stream",
       "stream": "stdout",
       "text": [
        "\n",
        "         Current function value: 0.535759\n",
        "         Iterations: 6\n",
        "         Function evaluations: 7\n",
        "         Gradient evaluations: 12\n",
        "         Hessian evaluations: 6\n",
        "About to check invertibility of using column P_CRASH3_Treatment_9999_T4\n",
        "['P_CRASH3_Treatment_9999_T4']\n",
        "Warning: Maximum number of iterations has been exceeded."
       ]
      },
      {
       "output_type": "stream",
       "stream": "stdout",
       "text": [
        "\n",
        "         Current function value: 0.537059\n",
        "         Iterations: 35\n",
        "         Function evaluations: 36\n",
        "         Gradient evaluations: 70\n",
        "         Hessian evaluations: 35\n",
        "About to check invertibility of using column P_CRASH3_Treatment_9999_T6\n",
        "['P_CRASH3_Treatment_9999_T6']\n",
        "Optimization terminated successfully.\n",
        "         Current function value: 0.534596\n",
        "         Iterations: 5\n",
        "         Function evaluations: 6\n",
        "         Gradient evaluations: 10\n",
        "         Hessian evaluations: 5\n",
        "About to check invertibility of using column P_CRASH3_Treatment_9999_T7\n",
        "['P_CRASH3_Treatment_9999_T7']\n",
        "Optimization terminated successfully."
       ]
      },
      {
       "output_type": "stream",
       "stream": "stdout",
       "text": [
        "\n",
        "         Current function value: 0.537224\n",
        "         Iterations: 5\n",
        "         Function evaluations: 6\n",
        "         Gradient evaluations: 10\n",
        "         Hessian evaluations: 5\n",
        "About to check invertibility of using column P_CRASH3_Treatment_9999_T8\n",
        "['P_CRASH3_Treatment_9999_T8']\n",
        "Warning: Maximum number of iterations has been exceeded."
       ]
      },
      {
       "output_type": "stream",
       "stream": "stdout",
       "text": [
        "\n",
        "         Current function value: 0.536303\n",
        "         Iterations: 35\n",
        "         Function evaluations: 36\n",
        "         Gradient evaluations: 70\n",
        "         Hessian evaluations: 35\n",
        "About to check invertibility of using column P_CRASH3_Treatment_9999_T9\n",
        "['P_CRASH3_Treatment_9999_T9']\n",
        "Optimization terminated successfully.\n",
        "         Current function value: 0.536967\n",
        "         Iterations: 6\n",
        "         Function evaluations: 7\n",
        "         Gradient evaluations: 12\n",
        "         Hessian evaluations: 6\n",
        "About to check invertibility of using column P_CRASH3_Treatment_9999_T11\n",
        "['P_CRASH3_Treatment_9999_T11']\n",
        "Warning: Maximum number of iterations has been exceeded."
       ]
      },
      {
       "output_type": "stream",
       "stream": "stdout",
       "text": [
        "\n",
        "         Current function value: 0.537059\n",
        "         Iterations: 35\n",
        "         Function evaluations: 36\n",
        "         Gradient evaluations: 70\n",
        "         Hessian evaluations: 35\n",
        "About to check invertibility of using column PCRASH4_Treatment_9999_T0\n",
        "['PCRASH4_Treatment_9999_T0']\n",
        "Warning: Maximum number of iterations has been exceeded."
       ]
      },
      {
       "output_type": "stream",
       "stream": "stdout",
       "text": [
        "\n",
        "         Current function value: 0.535873\n",
        "         Iterations: 35\n",
        "         Function evaluations: 36\n",
        "         Gradient evaluations: 70\n",
        "         Hessian evaluations: 35\n",
        "About to check invertibility of using column PCRASH4_Treatment_9999_T1\n",
        "['PCRASH4_Treatment_9999_T1']\n",
        "Optimization terminated successfully.\n",
        "         Current function value: 0.536120\n",
        "         Iterations: 5\n",
        "         Function evaluations: 6\n",
        "         Gradient evaluations: 10\n",
        "         Hessian evaluations: 5\n",
        "About to check invertibility of using column PCRASH4_Treatment_9999_T2\n",
        "['PCRASH4_Treatment_9999_T2']\n",
        "Optimization terminated successfully.\n",
        "         Current function value: 0.536882\n",
        "         Iterations: 6\n",
        "         Function evaluations: 7\n",
        "         Gradient evaluations: 12\n",
        "         Hessian evaluations: 6\n",
        "About to check invertibility of using column PCRASH5_Treatment_9999_T0\n",
        "['PCRASH5_Treatment_9999_T0']\n",
        "Warning: Maximum number of iterations has been exceeded."
       ]
      },
      {
       "output_type": "stream",
       "stream": "stdout",
       "text": [
        "\n",
        "         Current function value: 0.535873\n",
        "         Iterations: 35\n",
        "         Function evaluations: 36\n",
        "         Gradient evaluations: 70\n",
        "         Hessian evaluations: 35\n",
        "About to check invertibility of using column PCRASH5_Treatment_9999_T1\n",
        "['PCRASH5_Treatment_9999_T1']\n",
        "Optimization terminated successfully.\n",
        "         Current function value: 0.536009\n",
        "         Iterations: 6\n",
        "         Function evaluations: 7\n",
        "         Gradient evaluations: 12\n",
        "         Hessian evaluations: 6\n",
        "About to check invertibility of using column PCRASH5_Treatment_9999_T2\n",
        "['PCRASH5_Treatment_9999_T2']\n",
        "Optimization terminated successfully.\n",
        "         Current function value: 0.537303\n",
        "         Iterations: 5\n",
        "         Function evaluations: 6\n",
        "         Gradient evaluations: 10\n",
        "         Hessian evaluations: 5\n",
        "About to check invertibility of using column PCRASH5_Treatment_9999_T3\n",
        "['PCRASH5_Treatment_9999_T3']\n",
        "Optimization terminated successfully."
       ]
      },
      {
       "output_type": "stream",
       "stream": "stdout",
       "text": [
        "\n",
        "         Current function value: 0.537020\n",
        "         Iterations: 6\n",
        "         Function evaluations: 7\n",
        "         Gradient evaluations: 12\n",
        "         Hessian evaluations: 6\n",
        "About to check invertibility of using column PCRASH5_Treatment_9999_T4\n",
        "['PCRASH5_Treatment_9999_T4']\n",
        "Optimization terminated successfully.\n",
        "         Current function value: 0.536711\n",
        "         Iterations: 6\n",
        "         Function evaluations: 7\n",
        "         Gradient evaluations: 12\n",
        "         Hessian evaluations: 6\n",
        "About to check invertibility of using column PCRASH5_Treatment_9999_T5\n",
        "['PCRASH5_Treatment_9999_T5']\n",
        "Optimization terminated successfully."
       ]
      },
      {
       "output_type": "stream",
       "stream": "stdout",
       "text": [
        "\n",
        "         Current function value: 0.536438\n",
        "         Iterations: 7\n",
        "         Function evaluations: 8\n",
        "         Gradient evaluations: 14\n",
        "         Hessian evaluations: 7\n",
        "About to check invertibility of using column PCRASH5_Treatment_9999_T7\n",
        "['PCRASH5_Treatment_9999_T7']\n",
        "Optimization terminated successfully.\n",
        "         Current function value: 0.532984\n",
        "         Iterations: 6\n",
        "         Function evaluations: 7\n",
        "         Gradient evaluations: 12\n",
        "         Hessian evaluations: 6\n",
        "About to check invertibility of using column ACC_TYPE_Treatment_9999_T1\n",
        "['ACC_TYPE_Treatment_9999_T1']\n",
        "Warning: Maximum number of iterations has been exceeded."
       ]
      },
      {
       "output_type": "stream",
       "stream": "stdout",
       "text": [
        "\n",
        "         Current function value: 0.537059\n",
        "         Iterations: 35\n",
        "         Function evaluations: 36\n",
        "         Gradient evaluations: 70\n",
        "         Hessian evaluations: 35\n",
        "About to check invertibility of using column ACC_TYPE_Treatment_9999_T2\n",
        "['ACC_TYPE_Treatment_9999_T2']\n",
        "About to check invertibility of using column ACC_TYPE_Treatment_9999_T6\n",
        "['ACC_TYPE_Treatment_9999_T6']\n",
        "About to check invertibility of using column ACC_TYPE_Treatment_9999_T13\n",
        "['ACC_TYPE_Treatment_9999_T13']\n",
        "Optimization terminated successfully.\n",
        "         Current function value: 0.537306\n",
        "         Iterations: 6\n",
        "         Function evaluations: 7\n",
        "         Gradient evaluations: 12\n",
        "         Hessian evaluations: 6\n",
        "About to check invertibility of using column ACC_TYPE_Treatment_9999_T50\n",
        "['ACC_TYPE_Treatment_9999_T50']\n",
        "About to check invertibility of using column ACC_TYPE_Treatment_9999_T92\n",
        "['ACC_TYPE_Treatment_9999_T92']\n",
        "Warning: Maximum number of iterations has been exceeded."
       ]
      },
      {
       "output_type": "stream",
       "stream": "stdout",
       "text": [
        "\n",
        "         Current function value: 0.535794\n",
        "         Iterations: 35\n",
        "         Function evaluations: 36\n",
        "         Gradient evaluations: 70\n",
        "         Hessian evaluations: 35\n",
        "About to check invertibility of using column HITRUN_IM_T1\n",
        "['HITRUN_IM_T1']\n",
        "Optimization terminated successfully.\n",
        "         Current function value: 0.537253\n",
        "         Iterations: 5\n",
        "         Function evaluations: 6\n",
        "         Gradient evaluations: 10\n",
        "         Hessian evaluations: 5\n",
        "About to check invertibility of using column BDYTYP_IM_T2\n",
        "['BDYTYP_IM_T2']\n",
        "Optimization terminated successfully.\n",
        "         Current function value: 0.535083\n",
        "         Iterations: 6\n",
        "         Function evaluations: 7\n",
        "         Gradient evaluations: 12\n",
        "         Hessian evaluations: 6\n",
        "About to check invertibility of using column BDYTYP_IM_T3\n",
        "['BDYTYP_IM_T3']\n",
        "Warning: Maximum number of iterations has been exceeded."
       ]
      },
      {
       "output_type": "stream",
       "stream": "stdout",
       "text": [
        "\n",
        "         Current function value: 0.535033\n",
        "         Iterations: 35\n",
        "         Function evaluations: 36\n",
        "         Gradient evaluations: 70\n",
        "         Hessian evaluations: 35\n",
        "About to check invertibility of using column BDYTYP_IM_T4\n",
        "['BDYTYP_IM_T4']\n",
        "Optimization terminated successfully.\n",
        "         Current function value: 0.537306\n",
        "         Iterations: 5\n",
        "         Function evaluations: 6\n",
        "         Gradient evaluations: 10\n",
        "         Hessian evaluations: 5\n",
        "About to check invertibility of using column BDYTYP_IM_T5\n",
        "['BDYTYP_IM_T5']\n",
        "Optimization terminated successfully.\n",
        "         Current function value: 0.537298\n",
        "         Iterations: 5\n",
        "         Function evaluations: 6\n",
        "         Gradient evaluations: 10\n",
        "         Hessian evaluations: 5\n",
        "About to check invertibility of using column BDYTYP_IM_T6\n",
        "['BDYTYP_IM_T6']\n",
        "Optimization terminated successfully."
       ]
      },
      {
       "output_type": "stream",
       "stream": "stdout",
       "text": [
        "\n",
        "         Current function value: 0.535676\n",
        "         Iterations: 5\n",
        "         Function evaluations: 6\n",
        "         Gradient evaluations: 10\n",
        "         Hessian evaluations: 5\n",
        "About to check invertibility of using column BDYTYP_IM_T7\n",
        "['BDYTYP_IM_T7']\n",
        "Optimization terminated successfully.\n",
        "         Current function value: 0.536967\n",
        "         Iterations: 6\n",
        "         Function evaluations: 7\n",
        "         Gradient evaluations: 12\n",
        "         Hessian evaluations: 6\n",
        "About to check invertibility of using column BDYTYP_IM_T8\n",
        "['BDYTYP_IM_T8']\n",
        "Optimization terminated successfully.\n",
        "         Current function value: 0.536950\n",
        "         Iterations: 6\n",
        "         Function evaluations: 7\n",
        "         Gradient evaluations: 12\n",
        "         Hessian evaluations: 6\n",
        "About to check invertibility of using column BDYTYP_IM_T9\n",
        "['BDYTYP_IM_T9']\n",
        "Optimization terminated successfully."
       ]
      },
      {
       "output_type": "stream",
       "stream": "stdout",
       "text": [
        "\n",
        "         Current function value: 0.530066\n",
        "         Iterations: 6\n",
        "         Function evaluations: 7\n",
        "         Gradient evaluations: 12\n",
        "         Hessian evaluations: 6\n",
        "About to check invertibility of using column BDYTYP_IM_T12\n",
        "['BDYTYP_IM_T12']\n",
        "About to check invertibility of using column BDYTYP_IM_T14\n",
        "['BDYTYP_IM_T14']\n",
        "Optimization terminated successfully.\n",
        "         Current function value: 0.536147\n",
        "         Iterations: 5\n",
        "         Function evaluations: 6\n",
        "         Gradient evaluations: 10\n",
        "         Hessian evaluations: 5\n",
        "About to check invertibility of using column BDYTYP_IM_T15\n",
        "['BDYTYP_IM_T15']\n",
        "Optimization terminated successfully.\n",
        "         Current function value: 0.537128\n",
        "         Iterations: 6\n",
        "         Function evaluations: 7\n",
        "         Gradient evaluations: 12\n",
        "         Hessian evaluations: 6\n",
        "About to check invertibility of using column BDYTYP_IM_T16\n",
        "['BDYTYP_IM_T16']\n",
        "Warning: Maximum number of iterations has been exceeded."
       ]
      },
      {
       "output_type": "stream",
       "stream": "stdout",
       "text": [
        "\n",
        "         Current function value: 0.537059\n",
        "         Iterations: 35\n",
        "         Function evaluations: 36\n",
        "         Gradient evaluations: 70\n",
        "         Hessian evaluations: 35\n",
        "About to check invertibility of using column BDYTYP_IM_T17\n",
        "['BDYTYP_IM_T17']\n",
        "About to check invertibility of using column BDYTYP_IM_T19\n",
        "['BDYTYP_IM_T19']\n",
        "Optimization terminated successfully.\n",
        "         Current function value: 0.537056\n",
        "         Iterations: 6\n",
        "         Function evaluations: 7\n",
        "         Gradient evaluations: 12\n",
        "         Hessian evaluations: 6\n",
        "About to check invertibility of using column BDYTYP_IM_T20\n",
        "['BDYTYP_IM_T20']\n",
        "Optimization terminated successfully."
       ]
      },
      {
       "output_type": "stream",
       "stream": "stdout",
       "text": [
        "\n",
        "         Current function value: 0.537305\n",
        "         Iterations: 5\n",
        "         Function evaluations: 6\n",
        "         Gradient evaluations: 10\n",
        "         Hessian evaluations: 5\n",
        "About to check invertibility of using column BDYTYP_IM_T21\n",
        "['BDYTYP_IM_T21']\n",
        "Optimization terminated successfully.\n",
        "         Current function value: 0.537013\n",
        "         Iterations: 6\n",
        "         Function evaluations: 7\n",
        "         Gradient evaluations: 12\n",
        "         Hessian evaluations: 6\n",
        "About to check invertibility of using column BDYTYP_IM_T29\n",
        "['BDYTYP_IM_T29']\n",
        "Optimization terminated successfully."
       ]
      },
      {
       "output_type": "stream",
       "stream": "stdout",
       "text": [
        "\n",
        "         Current function value: 0.537240\n",
        "         Iterations: 5\n",
        "         Function evaluations: 6\n",
        "         Gradient evaluations: 10\n",
        "         Hessian evaluations: 5\n",
        "About to check invertibility of using column BDYTYP_IM_T30\n",
        "['BDYTYP_IM_T30']\n",
        "Optimization terminated successfully.\n",
        "         Current function value: 0.536857\n",
        "         Iterations: 6\n",
        "         Function evaluations: 7\n",
        "         Gradient evaluations: 12\n",
        "         Hessian evaluations: 6\n",
        "About to check invertibility of using column BDYTYP_IM_T31\n",
        "['BDYTYP_IM_T31']\n",
        "Optimization terminated successfully.\n",
        "         Current function value: 0.537179\n",
        "         Iterations: 5\n",
        "         Function evaluations: 6\n",
        "         Gradient evaluations: 10\n",
        "         Hessian evaluations: 5\n",
        "About to check invertibility of using column BDYTYP_IM_T39\n",
        "['BDYTYP_IM_T39']\n",
        "Optimization terminated successfully."
       ]
      },
      {
       "output_type": "stream",
       "stream": "stdout",
       "text": [
        "\n",
        "         Current function value: 0.536449\n",
        "         Iterations: 6\n",
        "         Function evaluations: 7\n",
        "         Gradient evaluations: 12\n",
        "         Hessian evaluations: 6\n",
        "About to check invertibility of using column BDYTYP_IM_T40\n",
        "['BDYTYP_IM_T40']\n",
        "Warning: Maximum number of iterations has been exceeded."
       ]
      },
      {
       "output_type": "stream",
       "stream": "stdout",
       "text": [
        "\n",
        "         Current function value: 0.535873\n",
        "         Iterations: 35\n",
        "         Function evaluations: 36\n",
        "         Gradient evaluations: 70\n",
        "         Hessian evaluations: 35\n",
        "About to check invertibility of using column BDYTYP_IM_T48\n",
        "['BDYTYP_IM_T48']\n",
        "About to check invertibility of using column BDYTYP_IM_T50\n",
        "['BDYTYP_IM_T50']\n",
        "Warning: Maximum number of iterations has been exceeded."
       ]
      },
      {
       "output_type": "stream",
       "stream": "stdout",
       "text": [
        "\n",
        "         Current function value: 0.537059\n",
        "         Iterations: 35\n",
        "         Function evaluations: 36\n",
        "         Gradient evaluations: 70\n",
        "         Hessian evaluations: 35\n",
        "About to check invertibility of using column BDYTYP_IM_T51\n",
        "['BDYTYP_IM_T51']\n",
        "Warning: Maximum number of iterations has been exceeded."
       ]
      },
      {
       "output_type": "stream",
       "stream": "stdout",
       "text": [
        "\n",
        "         Current function value: 0.535873\n",
        "         Iterations: 35\n",
        "         Function evaluations: 36\n",
        "         Gradient evaluations: 70\n",
        "         Hessian evaluations: 35\n",
        "About to check invertibility of using column BDYTYP_IM_T52\n",
        "['BDYTYP_IM_T52']\n",
        "Warning: Maximum number of iterations has been exceeded."
       ]
      },
      {
       "output_type": "stream",
       "stream": "stdout",
       "text": [
        "\n",
        "         Current function value: 0.535541\n",
        "         Iterations: 35\n",
        "         Function evaluations: 36\n",
        "         Gradient evaluations: 70\n",
        "         Hessian evaluations: 35\n",
        "About to check invertibility of using column BDYTYP_IM_T55\n",
        "['BDYTYP_IM_T55']\n",
        "Warning: Maximum number of iterations has been exceeded."
       ]
      },
      {
       "output_type": "stream",
       "stream": "stdout",
       "text": [
        "\n",
        "         Current function value: 0.537059\n",
        "         Iterations: 35\n",
        "         Function evaluations: 36\n",
        "         Gradient evaluations: 70\n",
        "         Hessian evaluations: 35\n",
        "About to check invertibility of using column BDYTYP_IM_T59\n",
        "['BDYTYP_IM_T59']\n",
        "Warning: Maximum number of iterations has been exceeded."
       ]
      },
      {
       "output_type": "stream",
       "stream": "stdout",
       "text": [
        "\n",
        "         Current function value: 0.535873\n",
        "         Iterations: 35\n",
        "         Function evaluations: 36\n",
        "         Gradient evaluations: 70\n",
        "         Hessian evaluations: 35\n",
        "About to check invertibility of using column BDYTYP_IM_T60\n",
        "['BDYTYP_IM_T60']\n",
        "Warning: Maximum number of iterations has been exceeded."
       ]
      },
      {
       "output_type": "stream",
       "stream": "stdout",
       "text": [
        "\n",
        "         Current function value: 0.537059\n",
        "         Iterations: 35\n",
        "         Function evaluations: 36\n",
        "         Gradient evaluations: 70\n",
        "         Hessian evaluations: 35\n",
        "About to check invertibility of using column BDYTYP_IM_T61\n",
        "['BDYTYP_IM_T61']\n",
        "Optimization terminated successfully.\n",
        "         Current function value: 0.537303\n",
        "         Iterations: 5\n",
        "         Function evaluations: 6\n",
        "         Gradient evaluations: 10\n",
        "         Hessian evaluations: 5\n",
        "About to check invertibility of using column BDYTYP_IM_T62\n",
        "['BDYTYP_IM_T62']\n",
        "Optimization terminated successfully.\n",
        "         Current function value: 0.536950\n",
        "         Iterations: 6\n",
        "         Function evaluations: 7\n",
        "         Gradient evaluations: 12\n",
        "         Hessian evaluations: 6\n",
        "About to check invertibility of using column BDYTYP_IM_T63\n",
        "['BDYTYP_IM_T63']\n",
        "Optimization terminated successfully."
       ]
      },
      {
       "output_type": "stream",
       "stream": "stdout",
       "text": [
        "\n",
        "         Current function value: 0.537056\n",
        "         Iterations: 6\n",
        "         Function evaluations: 7\n",
        "         Gradient evaluations: 12\n",
        "         Hessian evaluations: 6\n",
        "About to check invertibility of using column BDYTYP_IM_T66\n",
        "['BDYTYP_IM_T66']\n",
        "Warning: Maximum number of iterations has been exceeded."
       ]
      },
      {
       "output_type": "stream",
       "stream": "stdout",
       "text": [
        "\n",
        "         Current function value: 0.536303\n",
        "         Iterations: 35\n",
        "         Function evaluations: 36\n",
        "         Gradient evaluations: 70\n",
        "         Hessian evaluations: 35\n",
        "About to check invertibility of using column BDYTYP_IM_T67\n",
        "['BDYTYP_IM_T67']\n",
        "Optimization terminated successfully.\n",
        "         Current function value: 0.536967\n",
        "         Iterations: 6\n",
        "         Function evaluations: 7\n",
        "         Gradient evaluations: 12\n",
        "         Hessian evaluations: 6\n",
        "About to check invertibility of using column BDYTYP_IM_T80\n",
        "['BDYTYP_IM_T80']\n",
        "Optimization terminated successfully.\n",
        "         Current function value: 0.536625\n",
        "         Iterations: 6\n",
        "         Function evaluations: 7\n",
        "         Gradient evaluations: 12\n",
        "         Hessian evaluations: 6\n",
        "About to check invertibility of using column BDYTYP_IM_T88\n",
        "['BDYTYP_IM_T88']\n",
        "Optimization terminated successfully."
       ]
      },
      {
       "output_type": "stream",
       "stream": "stdout",
       "text": [
        "\n",
        "         Current function value: 0.536967\n",
        "         Iterations: 6\n",
        "         Function evaluations: 7\n",
        "         Gradient evaluations: 12\n",
        "         Hessian evaluations: 6\n",
        "About to check invertibility of using column BDYTYP_IM_T94\n",
        "['BDYTYP_IM_T94']\n",
        "Warning: Maximum number of iterations has been exceeded."
       ]
      },
      {
       "output_type": "stream",
       "stream": "stdout",
       "text": [
        "\n",
        "         Current function value: 0.535873\n",
        "         Iterations: 35\n",
        "         Function evaluations: 36\n",
        "         Gradient evaluations: 70\n",
        "         Hessian evaluations: 35\n",
        "About to check invertibility of using column BDYTYP_IM_T97\n",
        "['BDYTYP_IM_T97']\n",
        "About to check invertibility of using column IMPACT1_IM_T1\n",
        "['IMPACT1_IM_T1']\n",
        "Optimization terminated successfully.\n",
        "         Current function value: 0.536460\n",
        "         Iterations: 5\n",
        "         Function evaluations: 6\n",
        "         Gradient evaluations: 10\n",
        "         Hessian evaluations: 5\n",
        "About to check invertibility of using column IMPACT1_IM_T2\n",
        "['IMPACT1_IM_T2']\n",
        "Optimization terminated successfully."
       ]
      },
      {
       "output_type": "stream",
       "stream": "stdout",
       "text": [
        "\n",
        "         Current function value: 0.536961\n",
        "         Iterations: 6\n",
        "         Function evaluations: 7\n",
        "         Gradient evaluations: 12\n",
        "         Hessian evaluations: 6\n",
        "About to check invertibility of using column IMPACT1_IM_T3\n",
        "['IMPACT1_IM_T3']\n",
        "Optimization terminated successfully.\n",
        "         Current function value: 0.536865\n",
        "         Iterations: 6\n",
        "         Function evaluations: 7\n",
        "         Gradient evaluations: 12\n",
        "         Hessian evaluations: 6\n",
        "About to check invertibility of using column IMPACT1_IM_T4\n",
        "['IMPACT1_IM_T4']\n",
        "Optimization terminated successfully."
       ]
      },
      {
       "output_type": "stream",
       "stream": "stdout",
       "text": [
        "\n",
        "         Current function value: 0.535589\n",
        "         Iterations: 5\n",
        "         Function evaluations: 6\n",
        "         Gradient evaluations: 10\n",
        "         Hessian evaluations: 5\n",
        "About to check invertibility of using column IMPACT1_IM_T5\n",
        "['IMPACT1_IM_T5']\n",
        "Optimization terminated successfully.\n",
        "         Current function value: 0.537172\n",
        "         Iterations: 6\n",
        "         Function evaluations: 7\n",
        "         Gradient evaluations: 12\n",
        "         Hessian evaluations: 6\n",
        "About to check invertibility of using column IMPACT1_IM_T6\n",
        "['IMPACT1_IM_T6']\n",
        "Optimization terminated successfully."
       ]
      },
      {
       "output_type": "stream",
       "stream": "stdout",
       "text": [
        "\n",
        "         Current function value: 0.537219\n",
        "         Iterations: 5\n",
        "         Function evaluations: 6\n",
        "         Gradient evaluations: 10\n",
        "         Hessian evaluations: 5\n",
        "About to check invertibility of using column IMPACT1_IM_T7\n",
        "['IMPACT1_IM_T7']\n",
        "Optimization terminated successfully."
       ]
      },
      {
       "output_type": "stream",
       "stream": "stdout",
       "text": [
        "\n",
        "         Current function value: 0.537171\n",
        "         Iterations: 6\n",
        "         Function evaluations: 7\n",
        "         Gradient evaluations: 12\n",
        "         Hessian evaluations: 6\n",
        "About to check invertibility of using column IMPACT1_IM_T8\n",
        "['IMPACT1_IM_T8']\n",
        "Optimization terminated successfully."
       ]
      },
      {
       "output_type": "stream",
       "stream": "stdout",
       "text": [
        "\n",
        "         Current function value: 0.537298\n",
        "         Iterations: 5\n",
        "         Function evaluations: 6\n",
        "         Gradient evaluations: 10\n",
        "         Hessian evaluations: 5\n",
        "About to check invertibility of using column IMPACT1_IM_T9\n",
        "['IMPACT1_IM_T9']\n",
        "Optimization terminated successfully.\n",
        "         Current function value: 0.536766\n",
        "         Iterations: 6\n",
        "         Function evaluations: 7\n",
        "         Gradient evaluations: 12\n",
        "         Hessian evaluations: 6\n",
        "About to check invertibility of using column IMPACT1_IM_T10\n",
        "['IMPACT1_IM_T10']\n",
        "Optimization terminated successfully.\n",
        "         Current function value: 0.534936\n",
        "         Iterations: 6\n",
        "         Function evaluations: 7\n",
        "         Gradient evaluations: 12\n",
        "         Hessian evaluations: 6\n",
        "About to check invertibility of using column IMPACT1_IM_T11\n",
        "['IMPACT1_IM_T11']\n",
        "Optimization terminated successfully."
       ]
      },
      {
       "output_type": "stream",
       "stream": "stdout",
       "text": [
        "\n",
        "         Current function value: 0.537280\n",
        "         Iterations: 5\n",
        "         Function evaluations: 6\n",
        "         Gradient evaluations: 10\n",
        "         Hessian evaluations: 5\n",
        "About to check invertibility of using column IMPACT1_IM_T12\n",
        "['IMPACT1_IM_T12']\n",
        "Optimization terminated successfully.\n",
        "         Current function value: 0.536900\n",
        "         Iterations: 5\n",
        "         Function evaluations: 6\n",
        "         Gradient evaluations: 10\n",
        "         Hessian evaluations: 5\n",
        "About to check invertibility of using column IMPACT1_IM_T13\n",
        "['IMPACT1_IM_T13']\n",
        "Warning: Maximum number of iterations has been exceeded."
       ]
      },
      {
       "output_type": "stream",
       "stream": "stdout",
       "text": [
        "\n",
        "         Current function value: 0.537059\n",
        "         Iterations: 35\n",
        "         Function evaluations: 36\n",
        "         Gradient evaluations: 70\n",
        "         Hessian evaluations: 35\n",
        "About to check invertibility of using column IMPACT1_IM_T14\n",
        "['IMPACT1_IM_T14']\n",
        "Warning: Maximum number of iterations has been exceeded."
       ]
      },
      {
       "output_type": "stream",
       "stream": "stdout",
       "text": [
        "\n",
        "         Current function value: 0.537059\n",
        "         Iterations: 35\n",
        "         Function evaluations: 36\n",
        "         Gradient evaluations: 70\n",
        "         Hessian evaluations: 35\n",
        "About to check invertibility of using column IMPACT1_IM_T61\n",
        "['IMPACT1_IM_T61']\n",
        "About to check invertibility of using column IMPACT1_IM_T62\n",
        "['IMPACT1_IM_T62']\n",
        "Optimization terminated successfully.\n",
        "         Current function value: 0.536220\n",
        "         Iterations: 6\n",
        "         Function evaluations: 7\n",
        "         Gradient evaluations: 12\n",
        "         Hessian evaluations: 6\n",
        "About to check invertibility of using column IMPACT1_IM_T63\n",
        "['IMPACT1_IM_T63']\n",
        "Optimization terminated successfully."
       ]
      },
      {
       "output_type": "stream",
       "stream": "stdout",
       "text": [
        "\n",
        "         Current function value: 0.536905\n",
        "         Iterations: 6\n",
        "         Function evaluations: 7\n",
        "         Gradient evaluations: 12\n",
        "         Hessian evaluations: 6\n",
        "About to check invertibility of using column IMPACT1_IM_T81\n",
        "['IMPACT1_IM_T81']\n",
        "Optimization terminated successfully.\n",
        "         Current function value: 0.536625\n",
        "         Iterations: 6\n",
        "         Function evaluations: 7\n",
        "         Gradient evaluations: 12\n",
        "         Hessian evaluations: 6\n",
        "About to check invertibility of using column IMPACT1_IM_T82\n",
        "['IMPACT1_IM_T82']\n",
        "Optimization terminated successfully.\n",
        "         Current function value: 0.537243\n",
        "         Iterations: 5\n",
        "         Function evaluations: 6\n",
        "         Gradient evaluations: 10\n",
        "         Hessian evaluations: 5\n",
        "About to check invertibility of using column IMPACT1_IM_T83\n",
        "['IMPACT1_IM_T83']\n",
        "Optimization terminated successfully."
       ]
      },
      {
       "output_type": "stream",
       "stream": "stdout",
       "text": [
        "\n",
        "         Current function value: 0.536496\n",
        "         Iterations: 6\n",
        "         Function evaluations: 7\n",
        "         Gradient evaluations: 12\n",
        "         Hessian evaluations: 6\n",
        "About to check invertibility of using column PCRASH1_IM_T1\n",
        "['PCRASH1_IM_T1']\n",
        "Optimization terminated successfully.\n",
        "         Current function value: 0.527918\n",
        "         Iterations: 5\n",
        "         Function evaluations: 6\n",
        "         Gradient evaluations: 10\n",
        "         Hessian evaluations: 5\n",
        "About to check invertibility of using column PCRASH1_IM_T2\n",
        "['PCRASH1_IM_T2']\n",
        "Optimization terminated successfully.\n",
        "         Current function value: 0.537307\n",
        "         Iterations: 4\n",
        "         Function evaluations: 5\n",
        "         Gradient evaluations: 8\n",
        "         Hessian evaluations: 4\n",
        "About to check invertibility of using column PCRASH1_IM_T4\n",
        "['PCRASH1_IM_T4']\n",
        "Optimization terminated successfully."
       ]
      },
      {
       "output_type": "stream",
       "stream": "stdout",
       "text": [
        "\n",
        "         Current function value: 0.537200\n",
        "         Iterations: 5\n",
        "         Function evaluations: 6\n",
        "         Gradient evaluations: 10\n",
        "         Hessian evaluations: 5\n",
        "About to check invertibility of using column PCRASH1_IM_T5\n",
        "['PCRASH1_IM_T5']\n",
        "Optimization terminated successfully.\n",
        "         Current function value: 0.537280\n",
        "         Iterations: 5\n",
        "         Function evaluations: 6\n",
        "         Gradient evaluations: 10\n",
        "         Hessian evaluations: 5\n",
        "About to check invertibility of using column PCRASH1_IM_T6\n",
        "['PCRASH1_IM_T6']\n",
        "Optimization terminated successfully.\n",
        "         Current function value: 0.537296\n",
        "         Iterations: 5\n",
        "         Function evaluations: 6\n",
        "         Gradient evaluations: 10\n",
        "         Hessian evaluations: 5\n",
        "About to check invertibility of using column PCRASH1_IM_T7\n",
        "['PCRASH1_IM_T7']\n",
        "Warning: Maximum number of iterations has been exceeded."
       ]
      },
      {
       "output_type": "stream",
       "stream": "stdout",
       "text": [
        "\n",
        "         Current function value: 0.537059\n",
        "         Iterations: 35\n",
        "         Function evaluations: 36\n",
        "         Gradient evaluations: 70\n",
        "         Hessian evaluations: 35\n",
        "About to check invertibility of using column PCRASH1_IM_T8\n",
        "['PCRASH1_IM_T8']\n",
        "Warning: Maximum number of iterations has been exceeded."
       ]
      },
      {
       "output_type": "stream",
       "stream": "stdout",
       "text": [
        "\n",
        "         Current function value: 0.536806\n",
        "         Iterations: 35\n",
        "         Function evaluations: 36\n",
        "         Gradient evaluations: 70\n",
        "         Hessian evaluations: 35\n",
        "About to check invertibility of using column PCRASH1_IM_T9\n",
        "['PCRASH1_IM_T9']\n",
        "Optimization terminated successfully.\n",
        "         Current function value: 0.536037\n",
        "         Iterations: 7\n",
        "         Function evaluations: 8\n",
        "         Gradient evaluations: 14\n",
        "         Hessian evaluations: 7\n",
        "About to check invertibility of using column PCRASH1_IM_T10\n",
        "['PCRASH1_IM_T10']\n",
        "Optimization terminated successfully.\n",
        "         Current function value: 0.531014\n",
        "         Iterations: 5\n",
        "         Function evaluations: 6\n",
        "         Gradient evaluations: 10\n",
        "         Hessian evaluations: 5\n",
        "About to check invertibility of using column PCRASH1_IM_T11\n",
        "['PCRASH1_IM_T11']\n",
        "Optimization terminated successfully."
       ]
      },
      {
       "output_type": "stream",
       "stream": "stdout",
       "text": [
        "\n",
        "         Current function value: 0.536593\n",
        "         Iterations: 5\n",
        "         Function evaluations: 6\n",
        "         Gradient evaluations: 10\n",
        "         Hessian evaluations: 5\n",
        "About to check invertibility of using column PCRASH1_IM_T12\n",
        "['PCRASH1_IM_T12']\n",
        "Optimization terminated successfully.\n",
        "         Current function value: 0.537296\n",
        "         Iterations: 5\n",
        "         Function evaluations: 6\n",
        "         Gradient evaluations: 10\n",
        "         Hessian evaluations: 5\n",
        "About to check invertibility of using column PCRASH1_IM_T13\n",
        "['PCRASH1_IM_T13']\n",
        "Warning: Maximum number of iterations has been exceeded."
       ]
      },
      {
       "output_type": "stream",
       "stream": "stdout",
       "text": [
        "\n",
        "         Current function value: 0.535794\n",
        "         Iterations: 35\n",
        "         Function evaluations: 36\n",
        "         Gradient evaluations: 70\n",
        "         Hessian evaluations: 35\n",
        "About to check invertibility of using column PCRASH1_IM_T14\n",
        "['PCRASH1_IM_T14']\n",
        "Optimization terminated successfully.\n",
        "         Current function value: 0.536970\n",
        "         Iterations: 6\n",
        "         Function evaluations: 7\n",
        "         Gradient evaluations: 12\n",
        "         Hessian evaluations: 6\n",
        "About to check invertibility of using column PCRASH1_IM_T15\n",
        "['PCRASH1_IM_T15']\n",
        "Warning: Maximum number of iterations has been exceeded."
       ]
      },
      {
       "output_type": "stream",
       "stream": "stdout",
       "text": [
        "\n",
        "         Current function value: 0.536806\n",
        "         Iterations: 35\n",
        "         Function evaluations: 36\n",
        "         Gradient evaluations: 70\n",
        "         Hessian evaluations: 35\n",
        "About to check invertibility of using column PCRASH1_IM_T17\n",
        "['PCRASH1_IM_T17']\n",
        "About to check invertibility of using column PCRASH1_IM_T98\n",
        "['PCRASH1_IM_T98']\n",
        "Warning: Maximum number of iterations has been exceeded."
       ]
      },
      {
       "output_type": "stream",
       "stream": "stdout",
       "text": [
        "\n",
        "         Current function value: 0.535287\n",
        "         Iterations: 35\n",
        "         Function evaluations: 36\n",
        "         Gradient evaluations: 70\n",
        "         Hessian evaluations: 35\n",
        "About to check invertibility of using column V_ALCH_IM_T2\n",
        "['V_ALCH_IM_T2']\n",
        "Optimization terminated successfully.\n",
        "         Current function value: 0.534889\n",
        "         Iterations: 5\n",
        "         Function evaluations: 6\n",
        "         Gradient evaluations: 10\n",
        "         Hessian evaluations: 5\n",
        "About to check invertibility of using column LAND_USE_Treatment_9999_T1\n",
        "['LAND_USE_Treatment_9999_T1']\n",
        "Optimization terminated successfully."
       ]
      },
      {
       "output_type": "stream",
       "stream": "stdout",
       "text": [
        "\n",
        "         Current function value: 0.537015\n",
        "         Iterations: 5\n",
        "         Function evaluations: 6\n",
        "         Gradient evaluations: 10\n",
        "         Hessian evaluations: 5\n",
        "About to check invertibility of using column LAND_USE_Treatment_9999_T2\n",
        "['LAND_USE_Treatment_9999_T2']\n",
        "Optimization terminated successfully.\n",
        "         Current function value: 0.535342\n",
        "         Iterations: 5\n",
        "         Function evaluations: 6\n",
        "         Gradient evaluations: 10\n",
        "         Hessian evaluations: 5\n",
        "About to check invertibility of using column LAND_USE_Treatment_9999_T3\n",
        "['LAND_USE_Treatment_9999_T3']\n",
        "Optimization terminated successfully."
       ]
      },
      {
       "output_type": "stream",
       "stream": "stdout",
       "text": [
        "\n",
        "         Current function value: 0.537178\n",
        "         Iterations: 5\n",
        "         Function evaluations: 6\n",
        "         Gradient evaluations: 10\n",
        "         Hessian evaluations: 5\n",
        "About to check invertibility of using column ALCOHOL_Treatment_9999_T1\n",
        "['ALCOHOL_Treatment_9999_T1']\n",
        "Optimization terminated successfully.\n",
        "         Current function value: 0.532461\n",
        "         Iterations: 5\n",
        "         Function evaluations: 6\n",
        "         Gradient evaluations: 10\n",
        "         Hessian evaluations: 5\n",
        "About to check invertibility of using column ALCOHOL_Treatment_9999_T2\n",
        "['ALCOHOL_Treatment_9999_T2']\n",
        "Optimization terminated successfully."
       ]
      },
      {
       "output_type": "stream",
       "stream": "stdout",
       "text": [
        "\n",
        "         Current function value: 0.535224\n",
        "         Iterations: 5\n",
        "         Function evaluations: 6\n",
        "         Gradient evaluations: 10\n",
        "         Hessian evaluations: 5\n",
        "About to check invertibility of using column TYP_INT_Treatment_9999_T1\n",
        "['TYP_INT_Treatment_9999_T1']\n",
        "Optimization terminated successfully.\n",
        "         Current function value: 0.537295\n",
        "         Iterations: 5\n",
        "         Function evaluations: 6\n",
        "         Gradient evaluations: 10\n",
        "         Hessian evaluations: 5\n",
        "About to check invertibility of using column TYP_INT_Treatment_9999_T2\n",
        "['TYP_INT_Treatment_9999_T2']\n",
        "Optimization terminated successfully."
       ]
      },
      {
       "output_type": "stream",
       "stream": "stdout",
       "text": [
        "\n",
        "         Current function value: 0.536739\n",
        "         Iterations: 5\n",
        "         Function evaluations: 6\n",
        "         Gradient evaluations: 10\n",
        "         Hessian evaluations: 5\n",
        "About to check invertibility of using column TYP_INT_Treatment_9999_T3\n",
        "['TYP_INT_Treatment_9999_T3']\n",
        "Optimization terminated successfully.\n",
        "         Current function value: 0.537150\n",
        "         Iterations: 5\n",
        "         Function evaluations: 6\n",
        "         Gradient evaluations: 10\n",
        "         Hessian evaluations: 5\n",
        "About to check invertibility of using column TYP_INT_Treatment_9999_T4\n",
        "['TYP_INT_Treatment_9999_T4']\n",
        "Optimization terminated successfully."
       ]
      },
      {
       "output_type": "stream",
       "stream": "stdout",
       "text": [
        "\n",
        "         Current function value: 0.536635\n",
        "         Iterations: 6\n",
        "         Function evaluations: 7\n",
        "         Gradient evaluations: 12\n",
        "         Hessian evaluations: 6\n",
        "About to check invertibility of using column TYP_INT_Treatment_9999_T5\n",
        "['TYP_INT_Treatment_9999_T5']\n",
        "Warning: Maximum number of iterations has been exceeded."
       ]
      },
      {
       "output_type": "stream",
       "stream": "stdout",
       "text": [
        "\n",
        "         Current function value: 0.537059\n",
        "         Iterations: 35\n",
        "         Function evaluations: 36\n",
        "         Gradient evaluations: 70\n",
        "         Hessian evaluations: 35\n",
        "About to check invertibility of using column TYP_INT_Treatment_9999_T7\n",
        "['TYP_INT_Treatment_9999_T7']\n",
        "Optimization terminated successfully.\n",
        "         Current function value: 0.536882\n",
        "         Iterations: 6\n",
        "         Function evaluations: 7\n",
        "         Gradient evaluations: 12\n",
        "         Hessian evaluations: 6\n",
        "About to check invertibility of using column WRK_ZONE_T1\n",
        "['WRK_ZONE_T1']\n",
        "Warning: Maximum number of iterations has been exceeded."
       ]
      },
      {
       "output_type": "stream",
       "stream": "stdout",
       "text": [
        "\n",
        "         Current function value: 0.536555\n",
        "         Iterations: 35\n",
        "         Function evaluations: 36\n",
        "         Gradient evaluations: 70\n",
        "         Hessian evaluations: 35\n",
        "About to check invertibility of using column WRK_ZONE_T4\n",
        "['WRK_ZONE_T4']\n",
        "Optimization terminated successfully.\n",
        "         Current function value: 0.537224\n",
        "         Iterations: 5\n",
        "         Function evaluations: 6\n",
        "         Gradient evaluations: 10\n",
        "         Hessian evaluations: 5\n",
        "About to check invertibility of using column REL_ROAD_Treatment_9999_T1\n",
        "['REL_ROAD_Treatment_9999_T1']\n",
        "Optimization terminated successfully.\n",
        "         Current function value: 0.536554\n",
        "         Iterations: 4\n",
        "         Function evaluations: 5\n",
        "         Gradient evaluations: 8\n",
        "         Hessian evaluations: 4\n",
        "About to check invertibility of using column REL_ROAD_Treatment_9999_T2\n",
        "['REL_ROAD_Treatment_9999_T2']\n",
        "Optimization terminated successfully."
       ]
      },
      {
       "output_type": "stream",
       "stream": "stdout",
       "text": [
        "\n",
        "         Current function value: 0.535109\n",
        "         Iterations: 6\n",
        "         Function evaluations: 7\n",
        "         Gradient evaluations: 12\n",
        "         Hessian evaluations: 6\n",
        "About to check invertibility of using column REL_ROAD_Treatment_9999_T4\n",
        "['REL_ROAD_Treatment_9999_T4']\n",
        "Optimization terminated successfully.\n",
        "         Current function value: 0.537150\n",
        "         Iterations: 6\n",
        "         Function evaluations: 7\n",
        "         Gradient evaluations: 12\n",
        "         Hessian evaluations: 6\n",
        "About to check invertibility of using column REL_ROAD_Treatment_9999_T5\n",
        "['REL_ROAD_Treatment_9999_T5']\n",
        "Warning: Maximum number of iterations has been exceeded."
       ]
      },
      {
       "output_type": "stream",
       "stream": "stdout",
       "text": [
        "\n",
        "         Current function value: 0.537059\n",
        "         Iterations: 35\n",
        "         Function evaluations: 36\n",
        "         Gradient evaluations: 70\n",
        "         Hessian evaluations: 35\n",
        "About to check invertibility of using column REL_ROAD_Treatment_9999_T7\n",
        "['REL_ROAD_Treatment_9999_T7']\n",
        "Warning: Maximum number of iterations has been exceeded."
       ]
      },
      {
       "output_type": "stream",
       "stream": "stdout",
       "text": [
        "\n",
        "         Current function value: 0.537059\n",
        "         Iterations: 35\n",
        "         Function evaluations: 36\n",
        "         Gradient evaluations: 70\n",
        "         Hessian evaluations: 35\n",
        "About to check invertibility of using column REL_ROAD_Treatment_9999_T11\n",
        "['REL_ROAD_Treatment_9999_T11']\n",
        "Warning: Maximum number of iterations has been exceeded."
       ]
      },
      {
       "output_type": "stream",
       "stream": "stdout",
       "text": [
        "\n",
        "         Current function value: 0.535873\n",
        "         Iterations: 35\n",
        "         Function evaluations: 36\n",
        "         Gradient evaluations: 70\n",
        "         Hessian evaluations: 35\n",
        "About to check invertibility of using column WKDY_IM_T2\n",
        "['WKDY_IM_T2']\n",
        "Optimization terminated successfully.\n",
        "         Current function value: 0.536736\n",
        "         Iterations: 5\n",
        "         Function evaluations: 6\n",
        "         Gradient evaluations: 10\n",
        "         Hessian evaluations: 5\n",
        "About to check invertibility of using column WKDY_IM_T3\n",
        "['WKDY_IM_T3']\n",
        "Optimization terminated successfully."
       ]
      },
      {
       "output_type": "stream",
       "stream": "stdout",
       "text": [
        "\n",
        "         Current function value: 0.536279\n",
        "         Iterations: 5\n",
        "         Function evaluations: 6\n",
        "         Gradient evaluations: 10\n",
        "         Hessian evaluations: 5\n",
        "About to check invertibility of using column WKDY_IM_T4\n",
        "['WKDY_IM_T4']\n",
        "Optimization terminated successfully.\n",
        "         Current function value: 0.537259\n",
        "         Iterations: 5\n",
        "         Function evaluations: 6\n",
        "         Gradient evaluations: 10\n",
        "         Hessian evaluations: 5\n",
        "About to check invertibility of using column WKDY_IM_T5\n",
        "['WKDY_IM_T5']\n",
        "Optimization terminated successfully.\n",
        "         Current function value: 0.537065\n",
        "         Iterations: 5\n",
        "         Function evaluations: 6\n",
        "         Gradient evaluations: 10\n",
        "         Hessian evaluations: 5\n",
        "About to check invertibility of using column WKDY_IM_T6\n",
        "['WKDY_IM_T6']\n",
        "Optimization terminated successfully."
       ]
      },
      {
       "output_type": "stream",
       "stream": "stdout",
       "text": [
        "\n",
        "         Current function value: 0.537079\n",
        "         Iterations: 5\n",
        "         Function evaluations: 6\n",
        "         Gradient evaluations: 10\n",
        "         Hessian evaluations: 5\n",
        "About to check invertibility of using column WKDY_IM_T7\n",
        "['WKDY_IM_T7']\n",
        "Optimization terminated successfully.\n",
        "         Current function value: 0.536693\n",
        "         Iterations: 5\n",
        "         Function evaluations: 6\n",
        "         Gradient evaluations: 10\n",
        "         Hessian evaluations: 5\n",
        "About to check invertibility of using column HOUR_IM_T1\n",
        "['HOUR_IM_T1']\n",
        "Optimization terminated successfully.\n",
        "         Current function value: 0.536281\n",
        "         Iterations: 6\n",
        "         Function evaluations: 7\n",
        "         Gradient evaluations: 12\n",
        "         Hessian evaluations: 6\n",
        "About to check invertibility of using column HOUR_IM_T2\n",
        "['HOUR_IM_T2']\n",
        "Optimization terminated successfully."
       ]
      },
      {
       "output_type": "stream",
       "stream": "stdout",
       "text": [
        "\n",
        "         Current function value: 0.536625\n",
        "         Iterations: 6\n",
        "         Function evaluations: 7\n",
        "         Gradient evaluations: 12\n",
        "         Hessian evaluations: 6\n",
        "About to check invertibility of using column HOUR_IM_T3\n",
        "['HOUR_IM_T3']\n",
        "Optimization terminated successfully.\n",
        "         Current function value: 0.537224\n",
        "         Iterations: 5\n",
        "         Function evaluations: 6\n",
        "         Gradient evaluations: 10\n",
        "         Hessian evaluations: 5\n",
        "About to check invertibility of using column HOUR_IM_T4\n",
        "['HOUR_IM_T4']\n",
        "Warning: Maximum number of iterations has been exceeded."
       ]
      },
      {
       "output_type": "stream",
       "stream": "stdout",
       "text": [
        "\n",
        "         Current function value: 0.534434\n",
        "         Iterations: 35\n",
        "         Function evaluations: 36\n",
        "         Gradient evaluations: 70\n",
        "         Hessian evaluations: 35\n",
        "About to check invertibility of using column HOUR_IM_T5\n",
        "['HOUR_IM_T5']\n",
        "Optimization terminated successfully.\n",
        "         Current function value: 0.537247\n",
        "         Iterations: 5\n",
        "         Function evaluations: 6\n",
        "         Gradient evaluations: 10\n",
        "         Hessian evaluations: 5\n",
        "About to check invertibility of using column HOUR_IM_T6\n",
        "['HOUR_IM_T6']\n",
        "Optimization terminated successfully.\n",
        "         Current function value: 0.536958\n",
        "         Iterations: 6\n",
        "         Function evaluations: 7\n",
        "         Gradient evaluations: 12\n",
        "         Hessian evaluations: 6\n",
        "About to check invertibility of using column HOUR_IM_T7\n",
        "['HOUR_IM_T7']\n",
        "Optimization terminated successfully."
       ]
      },
      {
       "output_type": "stream",
       "stream": "stdout",
       "text": [
        "\n",
        "         Current function value: 0.537274\n",
        "         Iterations: 5\n",
        "         Function evaluations: 6\n",
        "         Gradient evaluations: 10\n",
        "         Hessian evaluations: 5\n",
        "About to check invertibility of using column HOUR_IM_T8\n",
        "['HOUR_IM_T8']\n",
        "Optimization terminated successfully.\n",
        "         Current function value: 0.537188\n",
        "         Iterations: 5\n",
        "         Function evaluations: 6\n",
        "         Gradient evaluations: 10\n",
        "         Hessian evaluations: 5\n",
        "About to check invertibility of using column HOUR_IM_T9\n",
        "['HOUR_IM_T9']\n",
        "Optimization terminated successfully.\n",
        "         Current function value: 0.537228\n",
        "         Iterations: 5\n",
        "         Function evaluations: 6\n",
        "         Gradient evaluations: 10\n",
        "         Hessian evaluations: 5\n",
        "About to check invertibility of using column HOUR_IM_T10\n",
        "['HOUR_IM_T10']\n",
        "Optimization terminated successfully."
       ]
      },
      {
       "output_type": "stream",
       "stream": "stdout",
       "text": [
        "\n",
        "         Current function value: 0.536109\n",
        "         Iterations: 6\n",
        "         Function evaluations: 7\n",
        "         Gradient evaluations: 12\n",
        "         Hessian evaluations: 6\n",
        "About to check invertibility of using column HOUR_IM_T11\n",
        "['HOUR_IM_T11']\n",
        "Optimization terminated successfully.\n",
        "         Current function value: 0.536873\n",
        "         Iterations: 6\n",
        "         Function evaluations: 7\n",
        "         Gradient evaluations: 12\n",
        "         Hessian evaluations: 6\n",
        "About to check invertibility of using column HOUR_IM_T12\n",
        "['HOUR_IM_T12']\n",
        "Optimization terminated successfully."
       ]
      },
      {
       "output_type": "stream",
       "stream": "stdout",
       "text": [
        "\n",
        "         Current function value: 0.537295\n",
        "         Iterations: 5\n",
        "         Function evaluations: 6\n",
        "         Gradient evaluations: 10\n",
        "         Hessian evaluations: 5\n",
        "About to check invertibility of using column HOUR_IM_T13\n",
        "['HOUR_IM_T13']\n",
        "Optimization terminated successfully.\n",
        "         Current function value: 0.537269\n",
        "         Iterations: 5\n",
        "         Function evaluations: 6\n",
        "         Gradient evaluations: 10\n",
        "         Hessian evaluations: 5\n",
        "About to check invertibility of using column HOUR_IM_T14\n",
        "['HOUR_IM_T14']\n",
        "Optimization terminated successfully."
       ]
      },
      {
       "output_type": "stream",
       "stream": "stdout",
       "text": [
        "\n",
        "         Current function value: 0.536744\n",
        "         Iterations: 6\n",
        "         Function evaluations: 7\n",
        "         Gradient evaluations: 12\n",
        "         Hessian evaluations: 6\n",
        "About to check invertibility of using column HOUR_IM_T15\n",
        "['HOUR_IM_T15']\n",
        "Optimization terminated successfully.\n",
        "         Current function value: 0.536766\n",
        "         Iterations: 5\n",
        "         Function evaluations: 6\n",
        "         Gradient evaluations: 10\n",
        "         Hessian evaluations: 5\n",
        "About to check invertibility of using column HOUR_IM_T16\n",
        "['HOUR_IM_T16']\n",
        "Optimization terminated successfully."
       ]
      },
      {
       "output_type": "stream",
       "stream": "stdout",
       "text": [
        "\n",
        "         Current function value: 0.537083\n",
        "         Iterations: 5\n",
        "         Function evaluations: 6\n",
        "         Gradient evaluations: 10\n",
        "         Hessian evaluations: 5\n",
        "About to check invertibility of using column HOUR_IM_T17\n",
        "['HOUR_IM_T17']\n",
        "Optimization terminated successfully.\n",
        "         Current function value: 0.535967\n",
        "         Iterations: 5\n",
        "         Function evaluations: 6\n",
        "         Gradient evaluations: 10\n",
        "         Hessian evaluations: 5\n",
        "About to check invertibility of using column HOUR_IM_T18\n",
        "['HOUR_IM_T18']\n",
        "Optimization terminated successfully."
       ]
      },
      {
       "output_type": "stream",
       "stream": "stdout",
       "text": [
        "\n",
        "         Current function value: 0.537223\n",
        "         Iterations: 5\n",
        "         Function evaluations: 6\n",
        "         Gradient evaluations: 10\n",
        "         Hessian evaluations: 5\n",
        "About to check invertibility of using column HOUR_IM_T19\n",
        "['HOUR_IM_T19']\n",
        "Optimization terminated successfully.\n",
        "         Current function value: 0.537275\n",
        "         Iterations: 5\n",
        "         Function evaluations: 6\n",
        "         Gradient evaluations: 10\n",
        "         Hessian evaluations: 5\n",
        "About to check invertibility of using column HOUR_IM_T20\n",
        "['HOUR_IM_T20']\n",
        "Optimization terminated successfully."
       ]
      },
      {
       "output_type": "stream",
       "stream": "stdout",
       "text": [
        "\n",
        "         Current function value: 0.537302\n",
        "         Iterations: 5\n",
        "         Function evaluations: 6\n",
        "         Gradient evaluations: 10\n",
        "         Hessian evaluations: 5\n",
        "About to check invertibility of using column HOUR_IM_T21\n",
        "['HOUR_IM_T21']\n",
        "Optimization terminated successfully.\n",
        "         Current function value: 0.536988\n",
        "         Iterations: 6\n",
        "         Function evaluations: 7\n",
        "         Gradient evaluations: 12\n",
        "         Hessian evaluations: 6\n",
        "About to check invertibility of using column HOUR_IM_T22\n",
        "['HOUR_IM_T22']\n",
        "Optimization terminated successfully."
       ]
      },
      {
       "output_type": "stream",
       "stream": "stdout",
       "text": [
        "\n",
        "         Current function value: 0.537261\n",
        "         Iterations: 5\n",
        "         Function evaluations: 6\n",
        "         Gradient evaluations: 10\n",
        "         Hessian evaluations: 5\n",
        "About to check invertibility of using column HOUR_IM_T23\n",
        "['HOUR_IM_T23']\n",
        "Optimization terminated successfully."
       ]
      },
      {
       "output_type": "stream",
       "stream": "stdout",
       "text": [
        "\n",
        "         Current function value: 0.537013\n",
        "         Iterations: 6\n",
        "         Function evaluations: 7\n",
        "         Gradient evaluations: 12\n",
        "         Hessian evaluations: 6\n",
        "About to check invertibility of using column RELJCT1_IM_T1\n",
        "['RELJCT1_IM_T1']\n",
        "Optimization terminated successfully.\n",
        "         Current function value: 0.537285\n",
        "         Iterations: 5\n",
        "         Function evaluations: 6\n",
        "         Gradient evaluations: 10\n",
        "         Hessian evaluations: 5\n",
        "About to check invertibility of using column RELJCT2_IM_T2\n",
        "['RELJCT2_IM_T2']\n",
        "Optimization terminated successfully.\n",
        "         Current function value: 0.536481\n",
        "         Iterations: 5\n",
        "         Function evaluations: 6\n",
        "         Gradient evaluations: 10\n",
        "         Hessian evaluations: 5\n",
        "About to check invertibility of using column RELJCT2_IM_T3"
       ]
      },
      {
       "output_type": "stream",
       "stream": "stdout",
       "text": [
        "\n",
        "['RELJCT2_IM_T3']\n",
        "Optimization terminated successfully.\n",
        "         Current function value: 0.535851\n",
        "         Iterations: 5\n",
        "         Function evaluations: 6\n",
        "         Gradient evaluations: 10\n",
        "         Hessian evaluations: 5\n",
        "About to check invertibility of using column RELJCT2_IM_T4\n",
        "['RELJCT2_IM_T4']\n",
        "Optimization terminated successfully."
       ]
      },
      {
       "output_type": "stream",
       "stream": "stdout",
       "text": [
        "\n",
        "         Current function value: 0.531303\n",
        "         Iterations: 6\n",
        "         Function evaluations: 7\n",
        "         Gradient evaluations: 12\n",
        "         Hessian evaluations: 6\n",
        "About to check invertibility of using column RELJCT2_IM_T5\n",
        "['RELJCT2_IM_T5']\n",
        "Warning: Maximum number of iterations has been exceeded."
       ]
      },
      {
       "output_type": "stream",
       "stream": "stdout",
       "text": [
        "\n",
        "         Current function value: 0.536806\n",
        "         Iterations: 35\n",
        "         Function evaluations: 36\n",
        "         Gradient evaluations: 70\n",
        "         Hessian evaluations: 35\n",
        "About to check invertibility of using column RELJCT2_IM_T6\n",
        "['RELJCT2_IM_T6']\n",
        "Warning: Maximum number of iterations has been exceeded."
       ]
      },
      {
       "output_type": "stream",
       "stream": "stdout",
       "text": [
        "\n",
        "         Current function value: 0.537059\n",
        "         Iterations: 35\n",
        "         Function evaluations: 36\n",
        "         Gradient evaluations: 70\n",
        "         Hessian evaluations: 35\n",
        "About to check invertibility of using column RELJCT2_IM_T7\n",
        "['RELJCT2_IM_T7']\n",
        "Warning: Maximum number of iterations has been exceeded."
       ]
      },
      {
       "output_type": "stream",
       "stream": "stdout",
       "text": [
        "\n",
        "         Current function value: 0.536806\n",
        "         Iterations: 35\n",
        "         Function evaluations: 36\n",
        "         Gradient evaluations: 70\n",
        "         Hessian evaluations: 35\n",
        "About to check invertibility of using column RELJCT2_IM_T8\n",
        "['RELJCT2_IM_T8']\n",
        "Optimization terminated successfully.\n",
        "         Current function value: 0.536841\n",
        "         Iterations: 5\n",
        "         Function evaluations: 6\n",
        "         Gradient evaluations: 10\n",
        "         Hessian evaluations: 5\n",
        "About to check invertibility of using column RELJCT2_IM_T16\n",
        "['RELJCT2_IM_T16']\n",
        "Warning: Maximum number of iterations has been exceeded."
       ]
      },
      {
       "output_type": "stream",
       "stream": "stdout",
       "text": [
        "\n",
        "         Current function value: 0.536806\n",
        "         Iterations: 35\n",
        "         Function evaluations: 36\n",
        "         Gradient evaluations: 70\n",
        "         Hessian evaluations: 35\n",
        "About to check invertibility of using column RELJCT2_IM_T18\n",
        "['RELJCT2_IM_T18']\n",
        "Warning: Maximum number of iterations has been exceeded."
       ]
      },
      {
       "output_type": "stream",
       "stream": "stdout",
       "text": [
        "\n",
        "         Current function value: 0.535873\n",
        "         Iterations: 35\n",
        "         Function evaluations: 36\n",
        "         Gradient evaluations: 70\n",
        "         Hessian evaluations: 35\n",
        "About to check invertibility of using column LGTCON_IM_T2\n",
        "['LGTCON_IM_T2']\n",
        "Optimization terminated successfully.\n",
        "         Current function value: 0.537299\n",
        "         Iterations: 5\n",
        "         Function evaluations: 6\n",
        "         Gradient evaluations: 10\n",
        "         Hessian evaluations: 5\n",
        "About to check invertibility of using column LGTCON_IM_T3\n",
        "['LGTCON_IM_T3']\n",
        "Optimization terminated successfully.\n",
        "         Current function value: 0.536503\n",
        "         Iterations: 5\n",
        "         Function evaluations: 6\n",
        "         Gradient evaluations: 10\n",
        "         Hessian evaluations: 5\n",
        "About to check invertibility of using column LGTCON_IM_T4\n",
        "['LGTCON_IM_T4']\n",
        "Optimization terminated successfully."
       ]
      },
      {
       "output_type": "stream",
       "stream": "stdout",
       "text": [
        "\n",
        "         Current function value: 0.537056\n",
        "         Iterations: 6\n",
        "         Function evaluations: 7\n",
        "         Gradient evaluations: 12\n",
        "         Hessian evaluations: 6\n",
        "About to check invertibility of using column LGTCON_IM_T5\n",
        "['LGTCON_IM_T5']\n",
        "Optimization terminated successfully.\n",
        "         Current function value: 0.537308\n",
        "         Iterations: 5\n",
        "         Function evaluations: 6\n",
        "         Gradient evaluations: 10\n",
        "         Hessian evaluations: 5\n",
        "About to check invertibility of using column LGTCON_IM_T6\n",
        "['LGTCON_IM_T6']\n",
        "Optimization terminated successfully.\n",
        "         Current function value: 0.536967\n",
        "         Iterations: 6\n",
        "         Function evaluations: 7\n",
        "         Gradient evaluations: 12\n",
        "         Hessian evaluations: 6\n",
        "About to check invertibility of using column WEATHR_IM_T2\n",
        "['WEATHR_IM_T2']\n",
        "Optimization terminated successfully."
       ]
      },
      {
       "output_type": "stream",
       "stream": "stdout",
       "text": [
        "\n",
        "         Current function value: 0.537206\n",
        "         Iterations: 6\n",
        "         Function evaluations: 7\n",
        "         Gradient evaluations: 12\n",
        "         Hessian evaluations: 6\n",
        "About to check invertibility of using column WEATHR_IM_T4\n",
        "['WEATHR_IM_T4']\n",
        "About to check invertibility of using column WEATHR_IM_T5\n",
        "['WEATHR_IM_T5']\n",
        "Warning: Maximum number of iterations has been exceeded."
       ]
      },
      {
       "output_type": "stream",
       "stream": "stdout",
       "text": [
        "\n",
        "         Current function value: 0.537059\n",
        "         Iterations: 35\n",
        "         Function evaluations: 36\n",
        "         Gradient evaluations: 70\n",
        "         Hessian evaluations: 35\n",
        "About to check invertibility of using column WEATHR_IM_T10\n",
        "['WEATHR_IM_T10']\n",
        "Optimization terminated successfully.\n",
        "         Current function value: 0.537228\n",
        "         Iterations: 5\n",
        "         Function evaluations: 6\n",
        "         Gradient evaluations: 10\n",
        "         Hessian evaluations: 5\n",
        "About to check invertibility of using column ALCHL_IM_T2\n",
        "['ALCHL_IM_T2']\n",
        "Optimization terminated successfully."
       ]
      },
      {
       "output_type": "stream",
       "stream": "stdout",
       "text": [
        "\n",
        "         Current function value: 0.532081\n",
        "         Iterations: 5\n",
        "         Function evaluations: 6\n",
        "         Gradient evaluations: 10\n",
        "         Hessian evaluations: 5\n",
        "About to check invertibility of using column DRIVER_SEX_Treatment_9999_T1\n",
        "['DRIVER_SEX_Treatment_9999_T1']\n",
        "Optimization terminated successfully.\n",
        "         Current function value: 0.537120\n",
        "         Iterations: 5\n",
        "         Function evaluations: 6\n",
        "         Gradient evaluations: 10\n",
        "         Hessian evaluations: 5\n",
        "About to check invertibility of using column DRIVER_SEX_Treatment_9999_T2\n",
        "['DRIVER_SEX_Treatment_9999_T2']\n",
        "Optimization terminated successfully."
       ]
      },
      {
       "output_type": "stream",
       "stream": "stdout",
       "text": [
        "\n",
        "         Current function value: 0.537043\n",
        "         Iterations: 5\n",
        "         Function evaluations: 6\n",
        "         Gradient evaluations: 10\n",
        "         Hessian evaluations: 5\n",
        "About to check invertibility of using column DRIVER_DRUGS_Treatment_9999_T0\n",
        "['DRIVER_DRUGS_Treatment_9999_T0']\n",
        "Optimization terminated successfully.\n",
        "         Current function value: 0.536784\n",
        "         Iterations: 5\n",
        "         Function evaluations: 6\n",
        "         Gradient evaluations: 10\n",
        "         Hessian evaluations: 5\n",
        "About to check invertibility of using column DRIVER_DRUGS_Treatment_9999_T1\n",
        "['DRIVER_DRUGS_Treatment_9999_T1']\n",
        "Optimization terminated successfully."
       ]
      },
      {
       "output_type": "stream",
       "stream": "stdout",
       "text": [
        "\n",
        "         Current function value: 0.536967\n",
        "         Iterations: 6\n",
        "         Function evaluations: 7\n",
        "         Gradient evaluations: 12\n",
        "         Hessian evaluations: 6\n",
        "About to check invertibility of using column NUMOCCS\n",
        "['NUMOCCS']\n",
        "Optimization terminated successfully.\n",
        "         Current function value: 0.536817\n",
        "         Iterations: 6\n",
        "         Function evaluations: 7\n",
        "         Gradient evaluations: 12\n",
        "         Hessian evaluations: 6\n",
        "About to check invertibility of using column TRAV_SP\n",
        "['TRAV_SP']\n",
        "Optimization terminated successfully."
       ]
      },
      {
       "output_type": "stream",
       "stream": "stdout",
       "text": [
        "\n",
        "         Current function value: 0.526901\n",
        "         Iterations: 8\n",
        "         Function evaluations: 9\n",
        "         Gradient evaluations: 16\n",
        "         Hessian evaluations: 8\n",
        "About to check invertibility of using column VSPD_LIM\n",
        "['VSPD_LIM']\n",
        "Optimization terminated successfully."
       ]
      },
      {
       "output_type": "stream",
       "stream": "stdout",
       "text": [
        "\n",
        "         Current function value: 0.531277\n",
        "         Iterations: 8\n",
        "         Function evaluations: 43\n",
        "         Gradient evaluations: 48\n",
        "         Hessian evaluations: 8\n",
        "About to check invertibility of using column PEDS\n",
        "['PEDS']\n",
        "Optimization terminated successfully."
       ]
      },
      {
       "output_type": "stream",
       "stream": "stdout",
       "text": [
        "\n",
        "         Current function value: 0.536975\n",
        "         Iterations: 7\n",
        "         Function evaluations: 8\n",
        "         Gradient evaluations: 14\n",
        "         Hessian evaluations: 7\n",
        "About to check invertibility of using column PERMVIT\n",
        "['PERMVIT']\n",
        "Optimization terminated successfully."
       ]
      },
      {
       "output_type": "stream",
       "stream": "stdout",
       "text": [
        "\n",
        "         Current function value: 0.536475\n",
        "         Iterations: 6\n",
        "         Function evaluations: 7\n",
        "         Gradient evaluations: 12\n",
        "         Hessian evaluations: 6\n",
        "About to check invertibility of using column PERNOTMVIT\n",
        "['PERNOTMVIT']\n",
        "Optimization terminated successfully."
       ]
      },
      {
       "output_type": "stream",
       "stream": "stdout",
       "text": [
        "\n",
        "         Current function value: 0.536975\n",
        "         Iterations: 7\n",
        "         Function evaluations: 8\n",
        "         Gradient evaluations: 14\n",
        "         Hessian evaluations: 7\n",
        "About to check invertibility of using column DRIVER_AGE\n",
        "['DRIVER_AGE']\n",
        "Optimization terminated successfully.\n",
        "         Current function value: 0.537263\n",
        "         Iterations: 11\n",
        "         Function evaluations: 15\n",
        "         Gradient evaluations: 25\n",
        "         Hessian evaluations: 11\n",
        "About to check invertibility of using column MSAFEQMT1\n",
        "['MSAFEQMT1']\n",
        "Optimization terminated successfully."
       ]
      },
      {
       "output_type": "stream",
       "stream": "stdout",
       "text": [
        "\n",
        "         Current function value: 0.537100\n",
        "         Iterations: 5\n",
        "         Function evaluations: 6\n",
        "         Gradient evaluations: 10\n",
        "         Hessian evaluations: 5\n",
        "About to check invertibility of using column MSAFEQMT2\n",
        "['MSAFEQMT2']\n",
        "Optimization terminated successfully.\n",
        "         Current function value: 0.537294\n",
        "         Iterations: 5\n",
        "         Function evaluations: 6\n",
        "         Gradient evaluations: 10\n",
        "         Hessian evaluations: 5\n",
        "About to check invertibility of using column MSAFEQMT3\n",
        "['MSAFEQMT3']\n",
        "Optimization terminated successfully."
       ]
      },
      {
       "output_type": "stream",
       "stream": "stdout",
       "text": [
        "\n",
        "         Current function value: 0.536882\n",
        "         Iterations: 6\n",
        "         Function evaluations: 7\n",
        "         Gradient evaluations: 12\n",
        "         Hessian evaluations: 6\n",
        "About to check invertibility of using column MSAFEQMT4\n",
        "['MSAFEQMT4']\n",
        "About to check invertibility of using column MSAFEQMT5\n",
        "['MSAFEQMT5']\n",
        "Optimization terminated successfully.\n",
        "         Current function value: 0.537303\n",
        "         Iterations: 5\n",
        "         Function evaluations: 6\n",
        "         Gradient evaluations: 10\n",
        "         Hessian evaluations: 5\n",
        "About to check invertibility of using column MSAFEQMT7\n",
        "['MSAFEQMT7']\n",
        "Optimization terminated successfully."
       ]
      },
      {
       "output_type": "stream",
       "stream": "stdout",
       "text": [
        "\n",
        "         Current function value: 0.536950\n",
        "         Iterations: 6\n",
        "         Function evaluations: 7\n",
        "         Gradient evaluations: 12\n",
        "         Hessian evaluations: 6\n",
        "About to check invertibility of using column TRAV_SP_9999\n",
        "['TRAV_SP_9999']\n",
        "About to check invertibility of using column TRAV_SP_interact_TRAV_SP_9999\n",
        "['TRAV_SP_interact_TRAV_SP_9999']\n",
        "About to check invertibility of using column NUMOCCS_9999\n",
        "['NUMOCCS_9999']\n",
        "About to check invertibility of using column NUMOCCS_interact_NUMOCCS_9999\n",
        "['NUMOCCS_interact_NUMOCCS_9999']\n",
        "About to check invertibility of using column VSPD_LIM_9999\n",
        "['VSPD_LIM_9999']\n",
        "About to check invertibility of using column VSPD_LIM_interact_VSPD_LIM_9999\n",
        "['VSPD_LIM_interact_VSPD_LIM_9999']\n",
        "About to check invertibility of using column DRIVER_AGE_9999\n",
        "['DRIVER_AGE_9999']\n",
        "About to check invertibility of using column DRIVER_AGE_interact_DRIVER_AGE_9999\n",
        "['DRIVER_AGE_interact_DRIVER_AGE_9999']\n",
        "About to check invertibility of using column VNUM_LAN_Treatment_9999_T0\n",
        "['VNUM_LAN_Treatment_9999_T0']\n",
        "Optimization terminated successfully."
       ]
      },
      {
       "output_type": "stream",
       "stream": "stdout",
       "text": [
        "\n",
        "         Current function value: 0.535674\n",
        "         Iterations: 5\n",
        "         Function evaluations: 6\n",
        "         Gradient evaluations: 10\n",
        "         Hessian evaluations: 5\n",
        "About to check invertibility of using column VNUM_LAN_Treatment_9999_T1\n",
        "['VNUM_LAN_Treatment_9999_T1']\n",
        "Optimization terminated successfully.\n",
        "         Current function value: 0.537208\n",
        "         Iterations: 5\n",
        "         Function evaluations: 6\n",
        "         Gradient evaluations: 10\n",
        "         Hessian evaluations: 5\n",
        "About to check invertibility of using column VNUM_LAN_Treatment_9999_T2\n",
        "['VNUM_LAN_Treatment_9999_T2']\n",
        "Optimization terminated successfully."
       ]
      },
      {
       "output_type": "stream",
       "stream": "stdout",
       "text": [
        "\n",
        "         Current function value: 0.535996\n",
        "         Iterations: 5\n",
        "         Function evaluations: 6\n",
        "         Gradient evaluations: 10\n",
        "         Hessian evaluations: 5\n",
        "About to check invertibility of using column VNUM_LAN_Treatment_9999_T3\n",
        "['VNUM_LAN_Treatment_9999_T3']\n",
        "Optimization terminated successfully.\n",
        "         Current function value: 0.537274\n",
        "         Iterations: 5\n",
        "         Function evaluations: 6\n",
        "         Gradient evaluations: 10\n",
        "         Hessian evaluations: 5\n",
        "About to check invertibility of using column VNUM_LAN_Treatment_9999_T4\n",
        "['VNUM_LAN_Treatment_9999_T4']\n",
        "Optimization terminated successfully."
       ]
      },
      {
       "output_type": "stream",
       "stream": "stdout",
       "text": [
        "\n",
        "         Current function value: 0.536280\n",
        "         Iterations: 5\n",
        "         Function evaluations: 6\n",
        "         Gradient evaluations: 10\n",
        "         Hessian evaluations: 5\n",
        "About to check invertibility of using column VNUM_LAN_Treatment_9999_T5\n",
        "['VNUM_LAN_Treatment_9999_T5']\n",
        "Optimization terminated successfully.\n",
        "         Current function value: 0.536950\n",
        "         Iterations: 6\n",
        "         Function evaluations: 7\n",
        "         Gradient evaluations: 12\n",
        "         Hessian evaluations: 6\n",
        "About to check invertibility of using column VNUM_LAN_Treatment_9999_T6\n",
        "['VNUM_LAN_Treatment_9999_T6']\n",
        "Optimization terminated successfully."
       ]
      },
      {
       "output_type": "stream",
       "stream": "stdout",
       "text": [
        "\n",
        "         Current function value: 0.537296\n",
        "         Iterations: 5\n",
        "         Function evaluations: 6\n",
        "         Gradient evaluations: 10\n",
        "         Hessian evaluations: 5\n",
        "['PERMVIT', 'DRUGS_Treatment_9999_T0', 'IMPACT1_IM_T10', 'IMPACT1_IM_T1', 'WKDY_IM_T3', 'ALCHL_IM_T2', 'PCRASH1_IM_T10', 'HOUR_IM_T1', 'PERALCH_IM_T1', 'CARGO_BT_Treatment_9999_T28', 'P_CRASH3_Treatment_9999_T2', 'P_CRASH3_Treatment_9999_T3', 'VTRAFWAY_Treatment_9999_T0', 'P_CRASH3_Treatment_9999_T6', 'P_CRASH2_Treatment_9999_T16', 'VTRAFWAY_Treatment_9999_T5', 'LOCATION_Treatment_9999_T3', 'TRAV_SP', 'REL_ROAD_Treatment_9999_T2', 'REL_ROAD_Treatment_9999_T1', 'P_CRASH2_Treatment_9999_T83', 'LOCATION_Treatment_9999_T23', 'RELJCT2_IM_T2', 'LOCATION_Treatment_9999_T20', 'IMPACT2_vehDup_Treatment_9999_T4', 'HOUR_IM_T10', 'LGTCON_IM_T3', 'IMPACT2_vehDup_Treatment_9999_T1', 'IMPACT2_vehDup_Treatment_9999_T3', 'BDYTYP_IM_T2', 'VSURCOND_Treatment_9999_T0', 'VNUM_LAN_Treatment_9999_T4', 'REGION_T2', 'REGION_T3', 'IMPACT1_IM_T4', 'VNUM_LAN_Treatment_9999_T0', 'VALIGN_Treatment_9999_T4', 'BDYTYP_IM_T6', 'BDYTYP_IM_T9', 'VTRAFCON_Treatment_9999_T3', 'VTRAFCON_Treatment_9999_T0', 'VNUM_LAN_Treatment_9999_T2', 'BDYTYP_IM_T39', 'VPROFILE_Treatment_9999_T0', 'VPROFILE_Treatment_9999_T1', 'VPROFILE_Treatment_9999_T2', 'VSPD_LIM', 'VTCONT_F_Treatment_9999_T3', 'RELJCT2_IM_T4', 'MONTH_T9', 'MONTH_T8', 'IMPACT1_IM_T62', 'VTRAFCON_Treatment_9999_T20', 'VALIGN_Treatment_9999_T0', 'VALIGN_Treatment_9999_T1', 'SPEC_USE_vehDup_Treatment_9999_T0', 'V_ALCH_IM_T2', 'PCRASH5_Treatment_9999_T7', 'PCRASH4_Treatment_9999_T1', 'PCRASH5_Treatment_9999_T1', 'V_CONFIG_Treatment_9999_T1', 'ALCOHOL_Treatment_9999_T1', 'P_CRASH2_Treatment_9999_T99', 'P_CRASH2_Treatment_9999_T84', 'IMPACT2_vehDup_Treatment_9999_T10', 'LAND_USE_Treatment_9999_T2', 'VTCONT_F_Treatment_9999_T0', 'PCRASH1_IM_T1', 'RELJCT2_IM_T3', 'HOUR_IM_T17', 'BDYTYP_IM_T14', 'ALCOHOL_Treatment_9999_T2', 'PCRASH1_IM_T9']\n",
        "The condition number of the dataset and reduced variable list is 1949.10753908"
       ]
      },
      {
       "output_type": "stream",
       "stream": "stdout",
       "text": [
        "\n",
        "There are 68 variables currently in the model.\n",
        "Optimization terminated successfully."
       ]
      },
      {
       "output_type": "stream",
       "stream": "stdout",
       "text": [
        "\n",
        "         Current function value: 0.437617\n",
        "         Iterations: 23\n",
        "         Function evaluations: 31\n",
        "         Gradient evaluations: 53\n",
        "         Hessian evaluations: 23\n"
       ]
      }
     ],
     "prompt_number": 8
    },
    {
     "cell_type": "code",
     "collapsed": false,
     "input": [
      "reduced_logit, reduced_logit_string = hl.reduce_multi_model(logit_init_multi, logit_init_multi_string, \"SER_INJ\",\n",
      "                                                            noNode_trainingDesign, fit='ncg')"
     ],
     "language": "python",
     "metadata": {},
     "outputs": [
      {
       "output_type": "stream",
       "stream": "stdout",
       "text": [
        "Optimization terminated successfully.\n",
        "         Current function value: 0.437631\n",
        "         Iterations: 24\n",
        "         Function evaluations: 32\n",
        "         Gradient evaluations: 55\n",
        "         Hessian evaluations: 24\n",
        "Optimization terminated successfully."
       ]
      },
      {
       "output_type": "stream",
       "stream": "stdout",
       "text": [
        "\n",
        "         Current function value: 0.437652\n",
        "         Iterations: 24\n",
        "         Function evaluations: 32\n",
        "         Gradient evaluations: 55\n",
        "         Hessian evaluations: 24\n",
        "Optimization terminated successfully."
       ]
      },
      {
       "output_type": "stream",
       "stream": "stdout",
       "text": [
        "\n",
        "         Current function value: 0.437653\n",
        "         Iterations: 23\n",
        "         Function evaluations: 28\n",
        "         Gradient evaluations: 50\n",
        "         Hessian evaluations: 23\n",
        "Optimization terminated successfully."
       ]
      },
      {
       "output_type": "stream",
       "stream": "stdout",
       "text": [
        "\n",
        "         Current function value: 0.437654\n",
        "         Iterations: 23\n",
        "         Function evaluations: 31\n",
        "         Gradient evaluations: 53\n",
        "         Hessian evaluations: 23\n",
        "Optimization terminated successfully."
       ]
      },
      {
       "output_type": "stream",
       "stream": "stdout",
       "text": [
        "\n",
        "         Current function value: 0.437719\n",
        "         Iterations: 23\n",
        "         Function evaluations: 29\n",
        "         Gradient evaluations: 51\n",
        "         Hessian evaluations: 23\n",
        "Optimization terminated successfully."
       ]
      },
      {
       "output_type": "stream",
       "stream": "stdout",
       "text": [
        "\n",
        "         Current function value: 0.438684\n",
        "         Iterations: 23\n",
        "         Function evaluations: 29\n",
        "         Gradient evaluations: 51\n",
        "         Hessian evaluations: 23\n",
        "Optimization terminated successfully."
       ]
      },
      {
       "output_type": "stream",
       "stream": "stdout",
       "text": [
        "\n",
        "         Current function value: 0.439893\n",
        "         Iterations: 19\n",
        "         Function evaluations: 24\n",
        "         Gradient evaluations: 42\n",
        "         Hessian evaluations: 19\n",
        "Optimization terminated successfully."
       ]
      },
      {
       "output_type": "stream",
       "stream": "stdout",
       "text": [
        "\n",
        "         Current function value: 0.439900\n",
        "         Iterations: 19\n",
        "         Function evaluations: 23\n",
        "         Gradient evaluations: 41\n",
        "         Hessian evaluations: 19\n",
        "Optimization terminated successfully."
       ]
      },
      {
       "output_type": "stream",
       "stream": "stdout",
       "text": [
        "\n",
        "         Current function value: 0.439917\n",
        "         Iterations: 17\n",
        "         Function evaluations: 23\n",
        "         Gradient evaluations: 39\n",
        "         Hessian evaluations: 17\n",
        "Optimization terminated successfully."
       ]
      },
      {
       "output_type": "stream",
       "stream": "stdout",
       "text": [
        "\n",
        "         Current function value: 0.439940\n",
        "         Iterations: 17\n",
        "         Function evaluations: 23\n",
        "         Gradient evaluations: 39\n",
        "         Hessian evaluations: 17\n",
        "Optimization terminated successfully."
       ]
      },
      {
       "output_type": "stream",
       "stream": "stdout",
       "text": [
        "\n",
        "         Current function value: 0.439976\n",
        "         Iterations: 17\n",
        "         Function evaluations: 23\n",
        "         Gradient evaluations: 39\n",
        "         Hessian evaluations: 17\n",
        "Optimization terminated successfully."
       ]
      },
      {
       "output_type": "stream",
       "stream": "stdout",
       "text": [
        "\n",
        "         Current function value: 0.440047\n",
        "         Iterations: 18\n",
        "         Function evaluations: 23\n",
        "         Gradient evaluations: 40\n",
        "         Hessian evaluations: 18\n",
        "Optimization terminated successfully."
       ]
      },
      {
       "output_type": "stream",
       "stream": "stdout",
       "text": [
        "\n",
        "         Current function value: 0.440124\n",
        "         Iterations: 18\n",
        "         Function evaluations: 25\n",
        "         Gradient evaluations: 42\n",
        "         Hessian evaluations: 18\n",
        "Optimization terminated successfully."
       ]
      },
      {
       "output_type": "stream",
       "stream": "stdout",
       "text": [
        "\n",
        "         Current function value: 0.440250\n",
        "         Iterations: 18\n",
        "         Function evaluations: 25\n",
        "         Gradient evaluations: 42\n",
        "         Hessian evaluations: 18\n",
        "Optimization terminated successfully."
       ]
      },
      {
       "output_type": "stream",
       "stream": "stdout",
       "text": [
        "\n",
        "         Current function value: 0.440323\n",
        "         Iterations: 18\n",
        "         Function evaluations: 23\n",
        "         Gradient evaluations: 40\n",
        "         Hessian evaluations: 18\n",
        "Optimization terminated successfully."
       ]
      },
      {
       "output_type": "stream",
       "stream": "stdout",
       "text": [
        "\n",
        "         Current function value: 0.440428\n",
        "         Iterations: 18\n",
        "         Function evaluations: 23\n",
        "         Gradient evaluations: 40\n",
        "         Hessian evaluations: 18\n",
        "Optimization terminated successfully."
       ]
      },
      {
       "output_type": "stream",
       "stream": "stdout",
       "text": [
        "\n",
        "         Current function value: 0.440600\n",
        "         Iterations: 17\n",
        "         Function evaluations: 25\n",
        "         Gradient evaluations: 41\n",
        "         Hessian evaluations: 17\n",
        "Optimization terminated successfully."
       ]
      },
      {
       "output_type": "stream",
       "stream": "stdout",
       "text": [
        "\n",
        "         Current function value: 0.440771\n",
        "         Iterations: 17\n",
        "         Function evaluations: 25\n",
        "         Gradient evaluations: 41\n",
        "         Hessian evaluations: 17\n",
        "Optimization terminated successfully."
       ]
      },
      {
       "output_type": "stream",
       "stream": "stdout",
       "text": [
        "\n",
        "         Current function value: 0.440953\n",
        "         Iterations: 18\n",
        "         Function evaluations: 23\n",
        "         Gradient evaluations: 40\n",
        "         Hessian evaluations: 18\n",
        "Optimization terminated successfully."
       ]
      },
      {
       "output_type": "stream",
       "stream": "stdout",
       "text": [
        "\n",
        "         Current function value: 0.441154\n",
        "         Iterations: 18\n",
        "         Function evaluations: 23\n",
        "         Gradient evaluations: 40\n",
        "         Hessian evaluations: 18\n",
        "Optimization terminated successfully."
       ]
      },
      {
       "output_type": "stream",
       "stream": "stdout",
       "text": [
        "\n",
        "         Current function value: 0.441404\n",
        "         Iterations: 18\n",
        "         Function evaluations: 23\n",
        "         Gradient evaluations: 40\n",
        "         Hessian evaluations: 18\n",
        "Optimization terminated successfully."
       ]
      },
      {
       "output_type": "stream",
       "stream": "stdout",
       "text": [
        "\n",
        "         Current function value: 0.441730\n",
        "         Iterations: 17\n",
        "         Function evaluations: 22\n",
        "         Gradient evaluations: 38\n",
        "         Hessian evaluations: 17\n",
        "Optimization terminated successfully."
       ]
      },
      {
       "output_type": "stream",
       "stream": "stdout",
       "text": [
        "\n",
        "         Current function value: 0.442105\n",
        "         Iterations: 19\n",
        "         Function evaluations: 24\n",
        "         Gradient evaluations: 42\n",
        "         Hessian evaluations: 19\n",
        "Optimization terminated successfully."
       ]
      },
      {
       "output_type": "stream",
       "stream": "stdout",
       "text": [
        "\n",
        "         Current function value: 0.442498\n",
        "         Iterations: 19\n",
        "         Function evaluations: 24\n",
        "         Gradient evaluations: 42\n",
        "         Hessian evaluations: 19\n",
        "Optimization terminated successfully."
       ]
      },
      {
       "output_type": "stream",
       "stream": "stdout",
       "text": [
        "\n",
        "         Current function value: 0.442933\n",
        "         Iterations: 18\n",
        "         Function evaluations: 23\n",
        "         Gradient evaluations: 40\n",
        "         Hessian evaluations: 18\n",
        "Optimization terminated successfully."
       ]
      },
      {
       "output_type": "stream",
       "stream": "stdout",
       "text": [
        "\n",
        "         Current function value: 0.443383\n",
        "         Iterations: 17\n",
        "         Function evaluations: 22\n",
        "         Gradient evaluations: 38\n",
        "         Hessian evaluations: 17\n",
        "Optimization terminated successfully."
       ]
      },
      {
       "output_type": "stream",
       "stream": "stdout",
       "text": [
        "\n",
        "         Current function value: 0.443859\n",
        "         Iterations: 17\n",
        "         Function evaluations: 23\n",
        "         Gradient evaluations: 39\n",
        "         Hessian evaluations: 17\n",
        "Optimization terminated successfully."
       ]
      },
      {
       "output_type": "stream",
       "stream": "stdout",
       "text": [
        "\n",
        "         Current function value: 0.444290\n",
        "         Iterations: 17\n",
        "         Function evaluations: 23\n",
        "         Gradient evaluations: 39\n",
        "         Hessian evaluations: 17\n",
        "Optimization terminated successfully."
       ]
      },
      {
       "output_type": "stream",
       "stream": "stdout",
       "text": [
        "\n",
        "         Current function value: 0.444809\n",
        "         Iterations: 18\n",
        "         Function evaluations: 24\n",
        "         Gradient evaluations: 41\n",
        "         Hessian evaluations: 18\n",
        "Optimization terminated successfully."
       ]
      },
      {
       "output_type": "stream",
       "stream": "stdout",
       "text": [
        "\n",
        "         Current function value: 0.445496\n",
        "         Iterations: 17\n",
        "         Function evaluations: 23\n",
        "         Gradient evaluations: 39\n",
        "         Hessian evaluations: 17\n",
        "Optimization terminated successfully."
       ]
      },
      {
       "output_type": "stream",
       "stream": "stdout",
       "text": [
        "\n",
        "         Current function value: 0.446088\n",
        "         Iterations: 17\n",
        "         Function evaluations: 23\n",
        "         Gradient evaluations: 39\n",
        "         Hessian evaluations: 17\n",
        "Optimization terminated successfully."
       ]
      },
      {
       "output_type": "stream",
       "stream": "stdout",
       "text": [
        "\n",
        "         Current function value: 0.446751\n",
        "         Iterations: 17\n",
        "         Function evaluations: 23\n",
        "         Gradient evaluations: 39\n",
        "         Hessian evaluations: 17\n",
        "Optimization terminated successfully."
       ]
      },
      {
       "output_type": "stream",
       "stream": "stdout",
       "text": [
        "\n",
        "         Current function value: 0.447410\n",
        "         Iterations: 18\n",
        "         Function evaluations: 24\n",
        "         Gradient evaluations: 41\n",
        "         Hessian evaluations: 18\n",
        "Optimization terminated successfully."
       ]
      },
      {
       "output_type": "stream",
       "stream": "stdout",
       "text": [
        "\n",
        "         Current function value: 0.448205\n",
        "         Iterations: 17\n",
        "         Function evaluations: 23\n",
        "         Gradient evaluations: 39\n",
        "         Hessian evaluations: 17\n",
        "Optimization terminated successfully."
       ]
      },
      {
       "output_type": "stream",
       "stream": "stdout",
       "text": [
        "\n",
        "         Current function value: 0.449008\n",
        "         Iterations: 17\n",
        "         Function evaluations: 23\n",
        "         Gradient evaluations: 39\n",
        "         Hessian evaluations: 17\n",
        "Optimization terminated successfully."
       ]
      },
      {
       "output_type": "stream",
       "stream": "stdout",
       "text": [
        "\n",
        "         Current function value: 0.449939\n",
        "         Iterations: 16\n",
        "         Function evaluations: 24\n",
        "         Gradient evaluations: 39\n",
        "         Hessian evaluations: 16\n",
        "Optimization terminated successfully."
       ]
      },
      {
       "output_type": "stream",
       "stream": "stdout",
       "text": [
        "\n",
        "         Current function value: 0.450865\n",
        "         Iterations: 17\n",
        "         Function evaluations: 25\n",
        "         Gradient evaluations: 41\n",
        "         Hessian evaluations: 17\n",
        "Optimization terminated successfully."
       ]
      },
      {
       "output_type": "stream",
       "stream": "stdout",
       "text": [
        "\n",
        "         Current function value: 0.452042\n",
        "         Iterations: 16\n",
        "         Function evaluations: 24\n",
        "         Gradient evaluations: 39\n",
        "         Hessian evaluations: 16\n",
        "Optimization terminated successfully."
       ]
      },
      {
       "output_type": "stream",
       "stream": "stdout",
       "text": [
        "\n",
        "         Current function value: 0.453136\n",
        "         Iterations: 19\n",
        "         Function evaluations: 25\n",
        "         Gradient evaluations: 43\n",
        "         Hessian evaluations: 19\n",
        "Optimization terminated successfully."
       ]
      },
      {
       "output_type": "stream",
       "stream": "stdout",
       "text": [
        "\n",
        "         Current function value: 0.454234\n",
        "         Iterations: 17\n",
        "         Function evaluations: 23\n",
        "         Gradient evaluations: 39\n",
        "         Hessian evaluations: 17\n",
        "Optimization terminated successfully."
       ]
      },
      {
       "output_type": "stream",
       "stream": "stdout",
       "text": [
        "\n",
        "         Current function value: 0.455428\n",
        "         Iterations: 11\n",
        "         Function evaluations: 12\n",
        "         Gradient evaluations: 22\n",
        "         Hessian evaluations: 11\n",
        "Optimization terminated successfully."
       ]
      },
      {
       "output_type": "stream",
       "stream": "stdout",
       "text": [
        "\n",
        "         Current function value: 0.456540\n",
        "         Iterations: 11\n",
        "         Function evaluations: 12\n",
        "         Gradient evaluations: 22\n",
        "         Hessian evaluations: 11\n",
        "Optimization terminated successfully."
       ]
      },
      {
       "output_type": "stream",
       "stream": "stdout",
       "text": [
        "\n",
        "         Current function value: 0.457736\n",
        "         Iterations: 12\n",
        "         Function evaluations: 13\n",
        "         Gradient evaluations: 24\n",
        "         Hessian evaluations: 12\n",
        "Optimization terminated successfully."
       ]
      },
      {
       "output_type": "stream",
       "stream": "stdout",
       "text": [
        "\n",
        "         Current function value: 0.459239\n",
        "         Iterations: 10\n",
        "         Function evaluations: 11\n",
        "         Gradient evaluations: 20\n",
        "         Hessian evaluations: 10\n",
        "Optimization terminated successfully."
       ]
      },
      {
       "output_type": "stream",
       "stream": "stdout",
       "text": [
        "\n",
        "         Current function value: 0.460809\n",
        "         Iterations: 11\n",
        "         Function evaluations: 12\n",
        "         Gradient evaluations: 22\n",
        "         Hessian evaluations: 11\n",
        "Optimization terminated successfully."
       ]
      },
      {
       "output_type": "stream",
       "stream": "stdout",
       "text": [
        "\n",
        "         Current function value: 0.462538\n",
        "         Iterations: 11\n",
        "         Function evaluations: 12\n",
        "         Gradient evaluations: 22\n",
        "         Hessian evaluations: 11\n",
        "==========\n",
        "The reduced model results are:\n",
        "                           Logit Regression Results                           \n",
        "==============================================================================\n",
        "Dep. Variable:                SER_INJ   No. Observations:                 1029\n",
        "Model:                          Logit   Df Residuals:                     1007\n",
        "Method:                           MLE   Df Model:                           21\n",
        "Date:                Tue, 06 May 2014   Pseudo R-squ.:                  0.1392\n",
        "Time:                        12:40:31   Log-Likelihood:                -475.95\n",
        "converged:                       True   LL-Null:                       -552.89\n",
        "                                        LLR p-value:                 3.209e-22\n",
        "===============================================================================================\n",
        "                                  coef    std err          z      P>|z|      [95.0% Conf. Int.]\n",
        "-----------------------------------------------------------------------------------------------\n",
        "DRUGS_Treatment_9999_T0        -0.5936      0.217     -2.734      0.006        -1.019    -0.168\n",
        "IMPACT1_IM_T10                  1.4531      0.526      2.764      0.006         0.423     2.484\n",
        "IMPACT1_IM_T1                   0.6943      0.320      2.171      0.030         0.068     1.321\n",
        "PERALCH_IM_T1                   1.1142      0.412      2.705      0.007         0.307     1.922\n",
        "VTRAFWAY_Treatment_9999_T0      1.4668      0.534      2.749      0.006         0.421     2.513\n",
        "TRAV_SP                         0.0281      0.007      3.788      0.000         0.014     0.043\n",
        "REL_ROAD_Treatment_9999_T2      2.0346      0.836      2.433      0.015         0.396     3.674\n",
        "LOCATION_Treatment_9999_T23    -2.1503      0.542     -3.964      0.000        -3.214    -1.087\n",
        "HOUR_IM_T10                    -0.9377      0.478     -1.962      0.050        -1.875    -0.001\n",
        "BDYTYP_IM_T2                   -1.1371      0.464     -2.451      0.014        -2.046    -0.228\n",
        "VALIGN_Treatment_9999_T4        2.3229      0.783      2.967      0.003         0.789     3.857\n",
        "BDYTYP_IM_T6                    0.7436      0.368      2.021      0.043         0.022     1.465\n",
        "BDYTYP_IM_T9                   -1.1079      0.306     -3.616      0.000        -1.708    -0.507\n",
        "VTRAFCON_Treatment_9999_T0      0.6204      0.167      3.718      0.000         0.293     0.947\n",
        "VPROFILE_Treatment_9999_T2     -1.1942      0.419     -2.851      0.004        -2.015    -0.373\n",
        "IMPACT1_IM_T62                 -2.0336      0.940     -2.164      0.030        -3.875    -0.192\n",
        "VALIGN_Treatment_9999_T1        0.6416      0.303      2.119      0.034         0.048     1.235\n",
        "V_ALCH_IM_T2                   -1.4010      0.453     -3.095      0.002        -2.288    -0.514\n",
        "PCRASH4_Treatment_9999_T1      -1.1882      0.477     -2.490      0.013        -2.124    -0.253\n",
        "PCRASH5_Treatment_9999_T1       1.0563      0.352      3.002      0.003         0.367     1.746\n",
        "LAND_USE_Treatment_9999_T2     -0.9955      0.333     -2.993      0.003        -1.647    -0.344\n",
        "PCRASH1_IM_T9                   3.5440      1.575      2.251      0.024         0.458     6.631\n",
        "==============================================================================================="
       ]
      },
      {
       "output_type": "stream",
       "stream": "stdout",
       "text": [
        "\n"
       ]
      }
     ],
     "prompt_number": 9
    },
    {
     "cell_type": "code",
     "collapsed": false,
     "input": [
      "reload(hl)\n",
      "print \"This error output is for the min10 tree.\"\n",
      "print \"=\"*10\n",
      "hl.predict_with_hybrid_tree_and_logit(min10_testSet_2012, pruned_min10_tree,\n",
      "                                      min10_model, reduced_logit, \"SER_INJ\", [0,1])"
     ],
     "language": "python",
     "metadata": {},
     "outputs": [
      {
       "output_type": "stream",
       "stream": "stdout",
       "text": [
        "This error output is for the min10 tree.\n",
        "==========\n",
        "When using the hybrid-CART Logit model, the various errors are: "
       ]
      },
      {
       "output_type": "stream",
       "stream": "stdout",
       "text": [
        "\n",
        "\n",
        "Total Error: 0.243877019281\n",
        "Class 0 Error Rate: 0.0902643455835\n",
        "Class 1 Error Rate: 0.891304347826\n",
        "\n",
        "Note: The number of non-zero logit predictions is 180\n",
        "==========\n",
        "\n",
        "==========\n",
        "When using the decision tree, its various error rates are:"
       ]
      },
      {
       "output_type": "stream",
       "stream": "stdout",
       "text": [
        "\n",
        "Total Error: 0.239708181344\n",
        "Class 0 error rate: 0.079948420374"
       ]
      },
      {
       "output_type": "stream",
       "stream": "stdout",
       "text": [
        "\n",
        "Class 1 error rate: 0.913043478261"
       ]
      },
      {
       "output_type": "stream",
       "stream": "stdout",
       "text": [
        "\n",
        "=========="
       ]
      },
      {
       "output_type": "stream",
       "stream": "stdout",
       "text": [
        "\n",
        "\n",
        "When using the pure logit model, its various error rates are:\n",
        "Total Error Rate: 0.229807191245\n",
        "Class 0 Error Rate: 0.073500967118"
       ]
      },
      {
       "output_type": "stream",
       "stream": "stdout",
       "text": [
        "\n",
        "Class 1 Error Rate: 0.888586956522"
       ]
      },
      {
       "output_type": "stream",
       "stream": "stdout",
       "text": [
        "\n"
       ]
      },
      {
       "html": [
        "<div style=\"max-height:1000px;max-width:1500px;overflow:auto;\">\n",
        "<table border=\"1\" class=\"dataframe\">\n",
        "  <thead>\n",
        "    <tr style=\"text-align: right;\">\n",
        "      <th></th>\n",
        "      <th>Hybrid Error Rates</th>\n",
        "      <th>Logit Error Rates</th>\n",
        "      <th>Tree Error Rates</th>\n",
        "    </tr>\n",
        "  </thead>\n",
        "  <tbody>\n",
        "    <tr>\n",
        "      <th>Total</th>\n",
        "      <td> 0.243877</td>\n",
        "      <td> 0.229807</td>\n",
        "      <td> 0.239708</td>\n",
        "    </tr>\n",
        "    <tr>\n",
        "      <th>Class 0</th>\n",
        "      <td> 0.090264</td>\n",
        "      <td> 0.073501</td>\n",
        "      <td> 0.079948</td>\n",
        "    </tr>\n",
        "    <tr>\n",
        "      <th>Class 1</th>\n",
        "      <td> 0.891304</td>\n",
        "      <td> 0.888587</td>\n",
        "      <td> 0.913043</td>\n",
        "    </tr>\n",
        "  </tbody>\n",
        "</table>\n",
        "<p>3 rows \u00d7 3 columns</p>\n",
        "</div>"
       ],
       "metadata": {},
       "output_type": "pyout",
       "prompt_number": 31,
       "text": [
        "         Hybrid Error Rates  Logit Error Rates  Tree Error Rates\n",
        "Total              0.243877           0.229807          0.239708\n",
        "Class 0            0.090264           0.073501          0.079948\n",
        "Class 1            0.891304           0.888587          0.913043\n",
        "\n",
        "[3 rows x 3 columns]"
       ]
      }
     ],
     "prompt_number": 31
    },
    {
     "cell_type": "code",
     "collapsed": false,
     "input": [
      "print \"This error output is for the naive tree.\"\n",
      "print \"=\"*10\n",
      "hl.predict_with_hybrid_tree_and_logit(naive_testSet_2012, pruned_tSet_tree,\n",
      "                                      naive_model, reduced_logit, \"SER_INJ\", [0,1])"
     ],
     "language": "python",
     "metadata": {},
     "outputs": [
      {
       "output_type": "stream",
       "stream": "stdout",
       "text": [
        "This error output is for the naive tree.\n",
        "==========\n",
        "When using the hybrid-CART Logit model, the various errors are: "
       ]
      },
      {
       "output_type": "stream",
       "stream": "stdout",
       "text": [
        "\n",
        "\n",
        "Total Error: 0.219906201146\n",
        "Class 0 Error Rate: 0.0554480980013\n",
        "Class 1 Error Rate: 0.913043478261\n",
        "\n",
        "Note: The number of non-zero logit predictions is 65\n",
        "==========\n",
        "\n",
        "==========\n",
        "When using the decision tree, its various error rates are:"
       ]
      },
      {
       "output_type": "stream",
       "stream": "stdout",
       "text": [
        "\n",
        "Total Error: 0.210005211047\n",
        "Class 0 error rate: 0.0315925209542"
       ]
      },
      {
       "output_type": "stream",
       "stream": "stdout",
       "text": [
        "\n",
        "Class 1 error rate: 0.961956521739"
       ]
      },
      {
       "output_type": "stream",
       "stream": "stdout",
       "text": [
        "\n",
        "=========="
       ]
      },
      {
       "output_type": "stream",
       "stream": "stdout",
       "text": [
        "\n",
        "\n",
        "When using the pure logit model, its various error rates are:\n",
        "Total Error Rate: 0.229807191245\n",
        "Class 0 Error Rate: 0.073500967118"
       ]
      },
      {
       "output_type": "stream",
       "stream": "stdout",
       "text": [
        "\n",
        "Class 1 Error Rate: 0.888586956522"
       ]
      },
      {
       "output_type": "stream",
       "stream": "stdout",
       "text": [
        "\n"
       ]
      },
      {
       "html": [
        "<div style=\"max-height:1000px;max-width:1500px;overflow:auto;\">\n",
        "<table border=\"1\" class=\"dataframe\">\n",
        "  <thead>\n",
        "    <tr style=\"text-align: right;\">\n",
        "      <th></th>\n",
        "      <th>Hybrid Error Rates</th>\n",
        "      <th>Logit Error Rates</th>\n",
        "      <th>Tree Error Rates</th>\n",
        "    </tr>\n",
        "  </thead>\n",
        "  <tbody>\n",
        "    <tr>\n",
        "      <th>Total</th>\n",
        "      <td> 0.219906</td>\n",
        "      <td> 0.229807</td>\n",
        "      <td> 0.210005</td>\n",
        "    </tr>\n",
        "    <tr>\n",
        "      <th>Class 0</th>\n",
        "      <td> 0.055448</td>\n",
        "      <td> 0.073501</td>\n",
        "      <td> 0.031593</td>\n",
        "    </tr>\n",
        "    <tr>\n",
        "      <th>Class 1</th>\n",
        "      <td> 0.913043</td>\n",
        "      <td> 0.888587</td>\n",
        "      <td> 0.961957</td>\n",
        "    </tr>\n",
        "  </tbody>\n",
        "</table>\n",
        "<p>3 rows \u00d7 3 columns</p>\n",
        "</div>"
       ],
       "metadata": {},
       "output_type": "pyout",
       "prompt_number": 37,
       "text": [
        "         Hybrid Error Rates  Logit Error Rates  Tree Error Rates\n",
        "Total              0.219906           0.229807          0.210005\n",
        "Class 0            0.055448           0.073501          0.031593\n",
        "Class 1            0.913043           0.888587          0.961957\n",
        "\n",
        "[3 rows x 3 columns]"
       ]
      }
     ],
     "prompt_number": 37
    },
    {
     "cell_type": "code",
     "collapsed": false,
     "input": [
      "for i, node in enumerate(pruned_min10_nodes):\n",
      "    print \"=\"*10\n",
      "    print \"Node {}:\".format(i)\n",
      "    print node\n",
      "    print \"=\"*10"
     ],
     "language": "python",
     "metadata": {},
     "outputs": [
      {
       "output_type": "stream",
       "stream": "stdout",
       "text": [
        "==========\n",
        "Node 0:\n",
        "[('C(PCRASH1_IM)[T.1]', 1, 'true'), ('C(ALCHL_IM)[T.2]', 1, 'true'), ('C(VPROFILE, Treatment(9999))[T.1]', 1, 'true'), ('NUMOCCS', 4, 'true'), {0: 17, 1: 1}]\n",
        "==========\n",
        "==========\n",
        "Node 1:\n",
        "[('C(PCRASH1_IM)[T.1]', 1, 'true'), ('C(ALCHL_IM)[T.2]', 1, 'true'), ('C(VPROFILE, Treatment(9999))[T.1]', 1, 'true'), ('NUMOCCS', 4, 'false'), ('C(VTCONT_F, Treatment(9999))[T.3]', 1, 'true'), {0: 66, 1: 17}]\n",
        "==========\n",
        "==========\n",
        "Node 2:\n",
        "[('C(PCRASH1_IM)[T.1]', 1, 'true'), ('C(ALCHL_IM)[T.2]', 1, 'true'), ('C(VPROFILE, Treatment(9999))[T.1]', 1, 'true'), ('NUMOCCS', 4, 'false'), ('C(VTCONT_F, Treatment(9999))[T.3]', 1, 'false'), ('AGE_IM', 22, 'true'), ('C(VTRAFWAY, Treatment(9999))[T.1]', 1, 'true'), ('C(DRIVER_SEX, Treatment(9999))[T.1]', 1, 'true'), {0: 10, 1: 23}]\n",
        "==========\n",
        "==========\n",
        "Node 3:\n",
        "[('C(PCRASH1_IM)[T.1]', 1, 'true'), ('C(ALCHL_IM)[T.2]', 1, 'true'), ('C(VPROFILE, Treatment(9999))[T.1]', 1, 'true'), ('NUMOCCS', 4, 'false'), ('C(VTCONT_F, Treatment(9999))[T.3]', 1, 'false'), ('AGE_IM', 22, 'true'), ('C(VTRAFWAY, Treatment(9999))[T.1]', 1, 'true'), ('C(DRIVER_SEX, Treatment(9999))[T.1]', 1, 'false'), {0: 13, 1: 7}]\n",
        "==========\n",
        "==========\n",
        "Node 4:\n",
        "[('C(PCRASH1_IM)[T.1]', 1, 'true'), ('C(ALCHL_IM)[T.2]', 1, 'true'), ('C(VPROFILE, Treatment(9999))[T.1]', 1, 'true'), ('NUMOCCS', 4, 'false'), ('C(VTCONT_F, Treatment(9999))[T.3]', 1, 'false'), ('AGE_IM', 22, 'true'), ('C(VTRAFWAY, Treatment(9999))[T.1]', 1, 'false'), ('AGE_IM', 37, 'true'), ('DRIVER_AGE', 28, 'true'), ('AGE_IM', 52, 'true'), ('C(REGION)[T.3]', 1, 'true'), {0: 2, 1: 8}]\n",
        "==========\n",
        "==========\n",
        "Node 5:\n",
        "[('C(PCRASH1_IM)[T.1]', 1, 'true'), ('C(ALCHL_IM)[T.2]', 1, 'true'), ('C(VPROFILE, Treatment(9999))[T.1]', 1, 'true'), ('NUMOCCS', 4, 'false'), ('C(VTCONT_F, Treatment(9999))[T.3]', 1, 'false'), ('AGE_IM', 22, 'true'), ('C(VTRAFWAY, Treatment(9999))[T.1]', 1, 'false'), ('AGE_IM', 37, 'true'), ('DRIVER_AGE', 28, 'true'), ('AGE_IM', 52, 'true'), ('C(REGION)[T.3]', 1, 'false'), {0: 8, 1: 2}]\n",
        "==========\n",
        "==========\n",
        "Node 6:\n",
        "[('C(PCRASH1_IM)[T.1]', 1, 'true'), ('C(ALCHL_IM)[T.2]', 1, 'true'), ('C(VPROFILE, Treatment(9999))[T.1]', 1, 'true'), ('NUMOCCS', 4, 'false'), ('C(VTCONT_F, Treatment(9999))[T.3]', 1, 'false'), ('AGE_IM', 22, 'true'), ('C(VTRAFWAY, Treatment(9999))[T.1]', 1, 'false'), ('AGE_IM', 37, 'true'), ('DRIVER_AGE', 28, 'true'), ('AGE_IM', 52, 'false'), {0: 16, 1: 2}]\n",
        "==========\n",
        "==========\n",
        "Node 7:\n",
        "[('C(PCRASH1_IM)[T.1]', 1, 'true'), ('C(ALCHL_IM)[T.2]', 1, 'true'), ('C(VPROFILE, Treatment(9999))[T.1]', 1, 'true'), ('NUMOCCS', 4, 'false'), ('C(VTCONT_F, Treatment(9999))[T.3]', 1, 'false'), ('AGE_IM', 22, 'true'), ('C(VTRAFWAY, Treatment(9999))[T.1]', 1, 'false'), ('AGE_IM', 37, 'true'), ('DRIVER_AGE', 28, 'false'), {0: 13}]\n",
        "==========\n",
        "==========\n",
        "Node 8:\n",
        "[('C(PCRASH1_IM)[T.1]', 1, 'true'), ('C(ALCHL_IM)[T.2]', 1, 'true'), ('C(VPROFILE, Treatment(9999))[T.1]', 1, 'true'), ('NUMOCCS', 4, 'false'), ('C(VTCONT_F, Treatment(9999))[T.3]', 1, 'false'), ('AGE_IM', 22, 'true'), ('C(VTRAFWAY, Treatment(9999))[T.1]', 1, 'false'), ('AGE_IM', 37, 'false'), {0: 16, 1: 15}]\n",
        "==========\n",
        "==========\n",
        "Node 9:\n",
        "[('C(PCRASH1_IM)[T.1]', 1, 'true'), ('C(ALCHL_IM)[T.2]', 1, 'true'), ('C(VPROFILE, Treatment(9999))[T.1]', 1, 'true'), ('NUMOCCS', 4, 'false'), ('C(VTCONT_F, Treatment(9999))[T.3]', 1, 'false'), ('AGE_IM', 22, 'false'), {0: 65, 1: 24}]\n",
        "==========\n",
        "==========\n",
        "Node 10:\n",
        "[('C(PCRASH1_IM)[T.1]', 1, 'true'), ('C(ALCHL_IM)[T.2]', 1, 'true'), ('C(VPROFILE, Treatment(9999))[T.1]', 1, 'false'), {0: 114, 1: 22}]\n",
        "==========\n",
        "==========\n",
        "Node 11:\n",
        "[('C(PCRASH1_IM)[T.1]', 1, 'true'), ('C(ALCHL_IM)[T.2]', 1, 'false'), {0: 10, 1: 17}]\n",
        "==========\n",
        "==========\n",
        "Node 12:\n",
        "[('C(PCRASH1_IM)[T.1]', 1, 'false'), ('C(HOUR_IM)[T.13]', 1, 'true'), {0: 37}]\n",
        "==========\n",
        "==========\n",
        "Node 13:\n",
        "[('C(PCRASH1_IM)[T.1]', 1, 'false'), ('C(HOUR_IM)[T.13]', 1, 'false'), ('C(LOCATION, Treatment(9999))[T.23]', 1, 'true'), {0: 67, 1: 3}]\n",
        "==========\n",
        "==========\n",
        "Node 14:\n",
        "[('C(PCRASH1_IM)[T.1]', 1, 'false'), ('C(HOUR_IM)[T.13]', 1, 'false'), ('C(LOCATION, Treatment(9999))[T.23]', 1, 'false'), ('C(BDYTYP_IM)[T.9]', 1, 'true'), {0: 71, 1: 4}]\n",
        "==========\n",
        "==========\n",
        "Node 15:\n",
        "[('C(PCRASH1_IM)[T.1]', 1, 'false'), ('C(HOUR_IM)[T.13]', 1, 'false'), ('C(LOCATION, Treatment(9999))[T.23]', 1, 'false'), ('C(BDYTYP_IM)[T.9]', 1, 'false'), ('C(REL_ROAD, Treatment(9999))[T.1]', 1, 'true'), ('C(BDYTYP_IM)[T.2]', 1, 'true'), {0: 26, 1: 1}]\n",
        "==========\n",
        "==========\n",
        "Node 16:\n",
        "[('C(PCRASH1_IM)[T.1]', 1, 'false'), ('C(HOUR_IM)[T.13]', 1, 'false'), ('C(LOCATION, Treatment(9999))[T.23]', 1, 'false'), ('C(BDYTYP_IM)[T.9]', 1, 'false'), ('C(REL_ROAD, Treatment(9999))[T.1]', 1, 'true'), ('C(BDYTYP_IM)[T.2]', 1, 'false'), ('C(MONTH)[T.8]', 1, 'true'), {0: 48, 1: 5}]\n",
        "==========\n",
        "==========\n",
        "Node 17:\n",
        "[('C(PCRASH1_IM)[T.1]', 1, 'false'), ('C(HOUR_IM)[T.13]', 1, 'false'), ('C(LOCATION, Treatment(9999))[T.23]', 1, 'false'), ('C(BDYTYP_IM)[T.9]', 1, 'false'), ('C(REL_ROAD, Treatment(9999))[T.1]', 1, 'true'), ('C(BDYTYP_IM)[T.2]', 1, 'false'), ('C(MONTH)[T.8]', 1, 'false'), ('C(VTRAFWAY, Treatment(9999))[T.4]', 1, 'true'), {0: 11}]\n",
        "==========\n",
        "==========\n",
        "Node 18:\n",
        "[('C(PCRASH1_IM)[T.1]', 1, 'false'), ('C(HOUR_IM)[T.13]', 1, 'false'), ('C(LOCATION, Treatment(9999))[T.23]', 1, 'false'), ('C(BDYTYP_IM)[T.9]', 1, 'false'), ('C(REL_ROAD, Treatment(9999))[T.1]', 1, 'true'), ('C(BDYTYP_IM)[T.2]', 1, 'false'), ('C(MONTH)[T.8]', 1, 'false'), ('C(VTRAFWAY, Treatment(9999))[T.4]', 1, 'false'), ('C(BDYTYP_IM)[T.15]', 1, 'true'), {0: 11}]\n",
        "==========\n",
        "==========\n",
        "Node 19:\n",
        "[('C(PCRASH1_IM)[T.1]', 1, 'false'), ('C(HOUR_IM)[T.13]', 1, 'false'), ('C(LOCATION, Treatment(9999))[T.23]', 1, 'false'), ('C(BDYTYP_IM)[T.9]', 1, 'false'), ('C(REL_ROAD, Treatment(9999))[T.1]', 1, 'true'), ('C(BDYTYP_IM)[T.2]', 1, 'false'), ('C(MONTH)[T.8]', 1, 'false'), ('C(VTRAFWAY, Treatment(9999))[T.4]', 1, 'false'), ('C(BDYTYP_IM)[T.15]', 1, 'false'), ('C(LAND_USE, Treatment(9999))[T.2]', 1, 'true'), {0: 31, 1: 3}]\n",
        "==========\n",
        "==========\n",
        "Node 20:\n",
        "[('C(PCRASH1_IM)[T.1]', 1, 'false'), ('C(HOUR_IM)[T.13]', 1, 'false'), ('C(LOCATION, Treatment(9999))[T.23]', 1, 'false'), ('C(BDYTYP_IM)[T.9]', 1, 'false'), ('C(REL_ROAD, Treatment(9999))[T.1]', 1, 'true'), ('C(BDYTYP_IM)[T.2]', 1, 'false'), ('C(MONTH)[T.8]', 1, 'false'), ('C(VTRAFWAY, Treatment(9999))[T.4]', 1, 'false'), ('C(BDYTYP_IM)[T.15]', 1, 'false'), ('C(LAND_USE, Treatment(9999))[T.2]', 1, 'false'), ('C(HOUR_IM)[T.17]', 1, 'true'), {0: 29, 1: 17}]\n",
        "==========\n",
        "==========\n",
        "Node 21:\n",
        "[('C(PCRASH1_IM)[T.1]', 1, 'false'), ('C(HOUR_IM)[T.13]', 1, 'false'), ('C(LOCATION, Treatment(9999))[T.23]', 1, 'false'), ('C(BDYTYP_IM)[T.9]', 1, 'false'), ('C(REL_ROAD, Treatment(9999))[T.1]', 1, 'true'), ('C(BDYTYP_IM)[T.2]', 1, 'false'), ('C(MONTH)[T.8]', 1, 'false'), ('C(VTRAFWAY, Treatment(9999))[T.4]', 1, 'false'), ('C(BDYTYP_IM)[T.15]', 1, 'false'), ('C(LAND_USE, Treatment(9999))[T.2]', 1, 'false'), ('C(HOUR_IM)[T.17]', 1, 'false'), ('DRIVER_AGE', 81, 'true'), {0: 6, 1: 5}]\n",
        "==========\n",
        "==========\n",
        "Node 22:\n",
        "[('C(PCRASH1_IM)[T.1]', 1, 'false'), ('C(HOUR_IM)[T.13]', 1, 'false'), ('C(LOCATION, Treatment(9999))[T.23]', 1, 'false'), ('C(BDYTYP_IM)[T.9]', 1, 'false'), ('C(REL_ROAD, Treatment(9999))[T.1]', 1, 'true'), ('C(BDYTYP_IM)[T.2]', 1, 'false'), ('C(MONTH)[T.8]', 1, 'false'), ('C(VTRAFWAY, Treatment(9999))[T.4]', 1, 'false'), ('C(BDYTYP_IM)[T.15]', 1, 'false'), ('C(LAND_USE, Treatment(9999))[T.2]', 1, 'false'), ('C(HOUR_IM)[T.17]', 1, 'false'), ('DRIVER_AGE', 81, 'false'), ('C(TYP_INT, Treatment(9999))[T.2]', 1, 'true'), {0: 69, 1: 28}]\n",
        "==========\n",
        "==========\n",
        "Node 23:\n",
        "[('C(PCRASH1_IM)[T.1]', 1, 'false'), ('C(HOUR_IM)[T.13]', 1, 'false'), ('C(LOCATION, Treatment(9999))[T.23]', 1, 'false'), ('C(BDYTYP_IM)[T.9]', 1, 'false'), ('C(REL_ROAD, Treatment(9999))[T.1]', 1, 'true'), ('C(BDYTYP_IM)[T.2]', 1, 'false'), ('C(MONTH)[T.8]', 1, 'false'), ('C(VTRAFWAY, Treatment(9999))[T.4]', 1, 'false'), ('C(BDYTYP_IM)[T.15]', 1, 'false'), ('C(LAND_USE, Treatment(9999))[T.2]', 1, 'false'), ('C(HOUR_IM)[T.17]', 1, 'false'), ('DRIVER_AGE', 81, 'false'), ('C(TYP_INT, Treatment(9999))[T.2]', 1, 'false'), ('C(PCRASH1_IM)[T.4]', 1, 'true'), {0: 15}]\n",
        "==========\n",
        "==========\n",
        "Node 24:\n",
        "[('C(PCRASH1_IM)[T.1]', 1, 'false'), ('C(HOUR_IM)[T.13]', 1, 'false'), ('C(LOCATION, Treatment(9999))[T.23]', 1, 'false'), ('C(BDYTYP_IM)[T.9]', 1, 'false'), ('C(REL_ROAD, Treatment(9999))[T.1]', 1, 'true'), ('C(BDYTYP_IM)[T.2]', 1, 'false'), ('C(MONTH)[T.8]', 1, 'false'), ('C(VTRAFWAY, Treatment(9999))[T.4]', 1, 'false'), ('C(BDYTYP_IM)[T.15]', 1, 'false'), ('C(LAND_USE, Treatment(9999))[T.2]', 1, 'false'), ('C(HOUR_IM)[T.17]', 1, 'false'), ('DRIVER_AGE', 81, 'false'), ('C(TYP_INT, Treatment(9999))[T.2]', 1, 'false'), ('C(PCRASH1_IM)[T.4]', 1, 'false'), ('C(HITRUN_IM)[T.1]', 1, 'true'), {0: 12}]\n",
        "==========\n",
        "==========\n",
        "Node 25:\n",
        "[('C(PCRASH1_IM)[T.1]', 1, 'false'), ('C(HOUR_IM)[T.13]', 1, 'false'), ('C(LOCATION, Treatment(9999))[T.23]', 1, 'false'), ('C(BDYTYP_IM)[T.9]', 1, 'false'), ('C(REL_ROAD, Treatment(9999))[T.1]', 1, 'true'), ('C(BDYTYP_IM)[T.2]', 1, 'false'), ('C(MONTH)[T.8]', 1, 'false'), ('C(VTRAFWAY, Treatment(9999))[T.4]', 1, 'false'), ('C(BDYTYP_IM)[T.15]', 1, 'false'), ('C(LAND_USE, Treatment(9999))[T.2]', 1, 'false'), ('C(HOUR_IM)[T.17]', 1, 'false'), ('DRIVER_AGE', 81, 'false'), ('C(TYP_INT, Treatment(9999))[T.2]', 1, 'false'), ('C(PCRASH1_IM)[T.4]', 1, 'false'), ('C(HITRUN_IM)[T.1]', 1, 'false'), ('C(DRIVER_SEX, Treatment(9999))[T.1]', 1, 'true'), {0: 72, 1: 15}]\n",
        "==========\n",
        "==========\n",
        "Node 26:\n",
        "[('C(PCRASH1_IM)[T.1]', 1, 'false'), ('C(HOUR_IM)[T.13]', 1, 'false'), ('C(LOCATION, Treatment(9999))[T.23]', 1, 'false'), ('C(BDYTYP_IM)[T.9]', 1, 'false'), ('C(REL_ROAD, Treatment(9999))[T.1]', 1, 'true'), ('C(BDYTYP_IM)[T.2]', 1, 'false'), ('C(MONTH)[T.8]', 1, 'false'), ('C(VTRAFWAY, Treatment(9999))[T.4]', 1, 'false'), ('C(BDYTYP_IM)[T.15]', 1, 'false'), ('C(LAND_USE, Treatment(9999))[T.2]', 1, 'false'), ('C(HOUR_IM)[T.17]', 1, 'false'), ('DRIVER_AGE', 81, 'false'), ('C(TYP_INT, Treatment(9999))[T.2]', 1, 'false'), ('C(PCRASH1_IM)[T.4]', 1, 'false'), ('C(HITRUN_IM)[T.1]', 1, 'false'), ('C(DRIVER_SEX, Treatment(9999))[T.1]', 1, 'false'), ('AGE_IM', 53, 'true'), {0: 4, 1: 6}]\n",
        "==========\n",
        "==========\n",
        "Node 27:\n",
        "[('C(PCRASH1_IM)[T.1]', 1, 'false'), ('C(HOUR_IM)[T.13]', 1, 'false'), ('C(LOCATION, Treatment(9999))[T.23]', 1, 'false'), ('C(BDYTYP_IM)[T.9]', 1, 'false'), ('C(REL_ROAD, Treatment(9999))[T.1]', 1, 'true'), ('C(BDYTYP_IM)[T.2]', 1, 'false'), ('C(MONTH)[T.8]', 1, 'false'), ('C(VTRAFWAY, Treatment(9999))[T.4]', 1, 'false'), ('C(BDYTYP_IM)[T.15]', 1, 'false'), ('C(LAND_USE, Treatment(9999))[T.2]', 1, 'false'), ('C(HOUR_IM)[T.17]', 1, 'false'), ('DRIVER_AGE', 81, 'false'), ('C(TYP_INT, Treatment(9999))[T.2]', 1, 'false'), ('C(PCRASH1_IM)[T.4]', 1, 'false'), ('C(HITRUN_IM)[T.1]', 1, 'false'), ('C(DRIVER_SEX, Treatment(9999))[T.1]', 1, 'false'), ('AGE_IM', 53, 'false'), {0: 34, 1: 10}]\n",
        "==========\n",
        "==========\n",
        "Node 28:\n",
        "[('C(PCRASH1_IM)[T.1]', 1, 'false'), ('C(HOUR_IM)[T.13]', 1, 'false'), ('C(LOCATION, Treatment(9999))[T.23]', 1, 'false'), ('C(BDYTYP_IM)[T.9]', 1, 'false'), ('C(REL_ROAD, Treatment(9999))[T.1]', 1, 'false'), {0: 14}]\n",
        "==========\n"
       ]
      }
     ],
     "prompt_number": 44
    },
    {
     "cell_type": "code",
     "collapsed": false,
     "input": [
      "for i, node in enumerate(pruned_naive_nodes):\n",
      "    print \"=\"*10\n",
      "    print \"Node {}:\".format(i)\n",
      "    print node\n",
      "    print \"=\"*10"
     ],
     "language": "python",
     "metadata": {},
     "outputs": [
      {
       "output_type": "stream",
       "stream": "stdout",
       "text": [
        "==========\n",
        "Node 0:\n",
        "[('C(PCRASH1_IM)[T.1]', 1, 'true'), ('C(ALCHL_IM)[T.2]', 1, 'true'), ('C(VPROFILE, Treatment(9999))[T.1]', 1, 'true'), ('NUMOCCS', 4, 'true'), {0: 17, 1: 1}]\n",
        "==========\n",
        "==========\n",
        "Node 1:\n",
        "[('C(PCRASH1_IM)[T.1]', 1, 'true'), ('C(ALCHL_IM)[T.2]', 1, 'true'), ('C(VPROFILE, Treatment(9999))[T.1]', 1, 'true'), ('NUMOCCS', 4, 'false'), ('C(VTCONT_F, Treatment(9999))[T.3]', 1, 'true'), ('MSAFEQMT1', 1, 'true'), ('C(DRUGS, Treatment(9999))[T.0]', 1, 'true'), ('C(LOCATION, Treatment(9999))[T.2]', 1, 'true'), ('C(MONTH)[T.2]', 1, 'true'), {1: 1}]\n",
        "==========\n",
        "==========\n",
        "Node 2:\n",
        "[('C(PCRASH1_IM)[T.1]', 1, 'true'), ('C(ALCHL_IM)[T.2]', 1, 'true'), ('C(VPROFILE, Treatment(9999))[T.1]', 1, 'true'), ('NUMOCCS', 4, 'false'), ('C(VTCONT_F, Treatment(9999))[T.3]', 1, 'true'), ('MSAFEQMT1', 1, 'true'), ('C(DRUGS, Treatment(9999))[T.0]', 1, 'true'), ('C(LOCATION, Treatment(9999))[T.2]', 1, 'true'), ('C(MONTH)[T.2]', 1, 'false'), {0: 1}]\n",
        "==========\n",
        "==========\n",
        "Node 3:\n",
        "[('C(PCRASH1_IM)[T.1]', 1, 'true'), ('C(ALCHL_IM)[T.2]', 1, 'true'), ('C(VPROFILE, Treatment(9999))[T.1]', 1, 'true'), ('NUMOCCS', 4, 'false'), ('C(VTCONT_F, Treatment(9999))[T.3]', 1, 'true'), ('MSAFEQMT1', 1, 'true'), ('C(DRUGS, Treatment(9999))[T.0]', 1, 'true'), ('C(LOCATION, Treatment(9999))[T.2]', 1, 'false'), {0: 34}]\n",
        "==========\n",
        "==========\n",
        "Node 4:\n",
        "[('C(PCRASH1_IM)[T.1]', 1, 'true'), ('C(ALCHL_IM)[T.2]', 1, 'true'), ('C(VPROFILE, Treatment(9999))[T.1]', 1, 'true'), ('NUMOCCS', 4, 'false'), ('C(VTCONT_F, Treatment(9999))[T.3]', 1, 'true'), ('MSAFEQMT1', 1, 'true'), ('C(DRUGS, Treatment(9999))[T.0]', 1, 'false'), {0: 4, 1: 3}]\n",
        "==========\n",
        "==========\n",
        "Node 5:\n",
        "[('C(PCRASH1_IM)[T.1]', 1, 'true'), ('C(ALCHL_IM)[T.2]', 1, 'true'), ('C(VPROFILE, Treatment(9999))[T.1]', 1, 'true'), ('NUMOCCS', 4, 'false'), ('C(VTCONT_F, Treatment(9999))[T.3]', 1, 'true'), ('MSAFEQMT1', 1, 'false'), {0: 27, 1: 13}]\n",
        "==========\n",
        "==========\n",
        "Node 6:\n",
        "[('C(PCRASH1_IM)[T.1]', 1, 'true'), ('C(ALCHL_IM)[T.2]', 1, 'true'), ('C(VPROFILE, Treatment(9999))[T.1]', 1, 'true'), ('NUMOCCS', 4, 'false'), ('C(VTCONT_F, Treatment(9999))[T.3]', 1, 'false'), {0: 143, 1: 81}]\n",
        "==========\n",
        "==========\n",
        "Node 7:\n",
        "[('C(PCRASH1_IM)[T.1]', 1, 'true'), ('C(ALCHL_IM)[T.2]', 1, 'true'), ('C(VPROFILE, Treatment(9999))[T.1]', 1, 'false'), ('C(IMPACT2_vehDup, Treatment(9999))[T.4]', 1, 'true'), {1: 2}]\n",
        "==========\n",
        "==========\n",
        "Node 8:\n",
        "[('C(PCRASH1_IM)[T.1]', 1, 'true'), ('C(ALCHL_IM)[T.2]', 1, 'true'), ('C(VPROFILE, Treatment(9999))[T.1]', 1, 'false'), ('C(IMPACT2_vehDup, Treatment(9999))[T.4]', 1, 'false'), ('DRIVER_AGE', 68, 'true'), {0: 18}]\n",
        "==========\n",
        "==========\n",
        "Node 9:\n",
        "[('C(PCRASH1_IM)[T.1]', 1, 'true'), ('C(ALCHL_IM)[T.2]', 1, 'true'), ('C(VPROFILE, Treatment(9999))[T.1]', 1, 'false'), ('C(IMPACT2_vehDup, Treatment(9999))[T.4]', 1, 'false'), ('DRIVER_AGE', 68, 'false'), ('C(IMPACT1_IM)[T.12]', 1, 'true'), {0: 52, 1: 16}]\n",
        "==========\n",
        "==========\n",
        "Node 10:\n",
        "[('C(PCRASH1_IM)[T.1]', 1, 'true'), ('C(ALCHL_IM)[T.2]', 1, 'true'), ('C(VPROFILE, Treatment(9999))[T.1]', 1, 'false'), ('C(IMPACT2_vehDup, Treatment(9999))[T.4]', 1, 'false'), ('DRIVER_AGE', 68, 'false'), ('C(IMPACT1_IM)[T.12]', 1, 'false'), ('C(TYP_INT, Treatment(9999))[T.1]', 1, 'true'), ('C(WKDY_IM)[T.7]', 1, 'true'), {0: 1, 1: 2}]\n",
        "==========\n",
        "==========\n",
        "Node 11:\n",
        "[('C(PCRASH1_IM)[T.1]', 1, 'true'), ('C(ALCHL_IM)[T.2]', 1, 'true'), ('C(VPROFILE, Treatment(9999))[T.1]', 1, 'false'), ('C(IMPACT2_vehDup, Treatment(9999))[T.4]', 1, 'false'), ('DRIVER_AGE', 68, 'false'), ('C(IMPACT1_IM)[T.12]', 1, 'false'), ('C(TYP_INT, Treatment(9999))[T.1]', 1, 'true'), ('C(WKDY_IM)[T.7]', 1, 'false'), ('AGE_IM', 30, 'true'), ('AGE_IM', 49, 'true'), {0: 3}]\n",
        "==========\n",
        "==========\n",
        "Node 12:\n",
        "[('C(PCRASH1_IM)[T.1]', 1, 'true'), ('C(ALCHL_IM)[T.2]', 1, 'true'), ('C(VPROFILE, Treatment(9999))[T.1]', 1, 'false'), ('C(IMPACT2_vehDup, Treatment(9999))[T.4]', 1, 'false'), ('DRIVER_AGE', 68, 'false'), ('C(IMPACT1_IM)[T.12]', 1, 'false'), ('C(TYP_INT, Treatment(9999))[T.1]', 1, 'true'), ('C(WKDY_IM)[T.7]', 1, 'false'), ('AGE_IM', 30, 'true'), ('AGE_IM', 49, 'false'), {1: 2}]\n",
        "==========\n",
        "==========\n",
        "Node 13:\n",
        "[('C(PCRASH1_IM)[T.1]', 1, 'true'), ('C(ALCHL_IM)[T.2]', 1, 'true'), ('C(VPROFILE, Treatment(9999))[T.1]', 1, 'false'), ('C(IMPACT2_vehDup, Treatment(9999))[T.4]', 1, 'false'), ('DRIVER_AGE', 68, 'false'), ('C(IMPACT1_IM)[T.12]', 1, 'false'), ('C(TYP_INT, Treatment(9999))[T.1]', 1, 'true'), ('C(WKDY_IM)[T.7]', 1, 'false'), ('AGE_IM', 30, 'false'), {0: 16}]\n",
        "==========\n",
        "==========\n",
        "Node 14:\n",
        "[('C(PCRASH1_IM)[T.1]', 1, 'true'), ('C(ALCHL_IM)[T.2]', 1, 'true'), ('C(VPROFILE, Treatment(9999))[T.1]', 1, 'false'), ('C(IMPACT2_vehDup, Treatment(9999))[T.4]', 1, 'false'), ('DRIVER_AGE', 68, 'false'), ('C(IMPACT1_IM)[T.12]', 1, 'false'), ('C(TYP_INT, Treatment(9999))[T.1]', 1, 'false'), {0: 24}]\n",
        "==========\n",
        "==========\n",
        "Node 15:\n",
        "[('C(PCRASH1_IM)[T.1]', 1, 'true'), ('C(ALCHL_IM)[T.2]', 1, 'false'), ('AGE_IM', 51, 'true'), {1: 7}]\n",
        "==========\n",
        "==========\n",
        "Node 16:\n",
        "[('C(PCRASH1_IM)[T.1]', 1, 'true'), ('C(ALCHL_IM)[T.2]', 1, 'false'), ('AGE_IM', 51, 'false'), ('C(LGTCON_IM)[T.2]', 1, 'true'), {1: 4}]\n",
        "==========\n",
        "==========\n",
        "Node 17:\n",
        "[('C(PCRASH1_IM)[T.1]', 1, 'true'), ('C(ALCHL_IM)[T.2]', 1, 'false'), ('AGE_IM', 51, 'false'), ('C(LGTCON_IM)[T.2]', 1, 'false'), ('C(SPEEDREL, Treatment(9999))[T.0]', 1, 'true'), ('C(LGTCON_IM)[T.3]', 1, 'true'), {1: 4}]\n",
        "==========\n",
        "==========\n",
        "Node 18:\n",
        "[('C(PCRASH1_IM)[T.1]', 1, 'true'), ('C(ALCHL_IM)[T.2]', 1, 'false'), ('AGE_IM', 51, 'false'), ('C(LGTCON_IM)[T.2]', 1, 'false'), ('C(SPEEDREL, Treatment(9999))[T.0]', 1, 'true'), ('C(LGTCON_IM)[T.3]', 1, 'false'), {0: 6, 1: 2}]\n",
        "==========\n",
        "==========\n",
        "Node 19:\n",
        "[('C(PCRASH1_IM)[T.1]', 1, 'true'), ('C(ALCHL_IM)[T.2]', 1, 'false'), ('AGE_IM', 51, 'false'), ('C(LGTCON_IM)[T.2]', 1, 'false'), ('C(SPEEDREL, Treatment(9999))[T.0]', 1, 'false'), {0: 4}]\n",
        "==========\n",
        "==========\n",
        "Node 20:\n",
        "[('C(PCRASH1_IM)[T.1]', 1, 'false'), {0: 557, 1: 97}]\n",
        "==========\n"
       ]
      }
     ],
     "prompt_number": 45
    },
    {
     "cell_type": "code",
     "collapsed": false,
     "input": [
      "with open(\"models_and_errors/pure_logit.pkl\", \"wb\") as f:\n",
      "    cPickle.dump(reduced_logit, f)"
     ],
     "language": "python",
     "metadata": {},
     "outputs": [],
     "prompt_number": 39
    },
    {
     "cell_type": "code",
     "collapsed": false,
     "input": [
      "min10_model.summary()"
     ],
     "language": "python",
     "metadata": {},
     "outputs": [
      {
       "html": [
        "<table class=\"simpletable\">\n",
        "<caption>Logit Regression Results</caption>\n",
        "<tr>\n",
        "  <th>Dep. Variable:</th>      <td>SER_INJ</td>     <th>  No. Observations:  </th>  <td>  1029</td>  \n",
        "</tr>\n",
        "<tr>\n",
        "  <th>Model:</th>               <td>Logit</td>      <th>  Df Residuals:      </th>  <td>  1000</td>  \n",
        "</tr>\n",
        "<tr>\n",
        "  <th>Method:</th>               <td>MLE</td>       <th>  Df Model:          </th>  <td>    28</td>  \n",
        "</tr>\n",
        "<tr>\n",
        "  <th>Date:</th>          <td>Tue, 06 May 2014</td> <th>  Pseudo R-squ.:     </th>  <td>0.1761</td>  \n",
        "</tr>\n",
        "<tr>\n",
        "  <th>Time:</th>              <td>14:23:27</td>     <th>  Log-Likelihood:    </th> <td> -455.53</td> \n",
        "</tr>\n",
        "<tr>\n",
        "  <th>converged:</th>           <td>True</td>       <th>  LL-Null:           </th> <td> -552.89</td> \n",
        "</tr>\n",
        "<tr>\n",
        "  <th> </th>                      <td> </td>        <th>  LLR p-value:       </th> <td>6.806e-27</td>\n",
        "</tr>\n",
        "</table>\n",
        "<table class=\"simpletable\">\n",
        "<tr>\n",
        "               <td></td>                 <th>coef</th>     <th>std err</th>      <th>z</th>      <th>P>|z|</th> <th>[95.0% Conf. Int.]</th> \n",
        "</tr>\n",
        "<tr>\n",
        "  <th>DRUGS_Treatment_9999_T0</th>    <td>   -0.5108</td> <td>    0.234</td> <td>   -2.181</td> <td> 0.029</td> <td>   -0.970    -0.052</td>\n",
        "</tr>\n",
        "<tr>\n",
        "  <th>P_CRASH3_Treatment_9999_T3</th> <td>    2.9611</td> <td>    1.025</td> <td>    2.888</td> <td> 0.004</td> <td>    0.951     4.971</td>\n",
        "</tr>\n",
        "<tr>\n",
        "  <th>VALIGN_Treatment_9999_T4</th>   <td>    1.4988</td> <td>    0.714</td> <td>    2.098</td> <td> 0.036</td> <td>    0.099     2.899</td>\n",
        "</tr>\n",
        "<tr>\n",
        "  <th>VPROFILE_Treatment_9999_T2</th> <td>   -1.1204</td> <td>    0.468</td> <td>   -2.393</td> <td> 0.017</td> <td>   -2.038    -0.203</td>\n",
        "</tr>\n",
        "<tr>\n",
        "  <th>MONTH_T9</th>                   <td>    0.5133</td> <td>    0.247</td> <td>    2.076</td> <td> 0.038</td> <td>    0.029     0.998</td>\n",
        "</tr>\n",
        "<tr>\n",
        "  <th>IMPACT1_IM_T62</th>             <td>   -1.4765</td> <td>    0.729</td> <td>   -2.026</td> <td> 0.043</td> <td>   -2.905    -0.048</td>\n",
        "</tr>\n",
        "<tr>\n",
        "  <th>PCRASH1_IM_T9</th>              <td>    3.1385</td> <td>    1.293</td> <td>    2.428</td> <td> 0.015</td> <td>    0.605     5.672</td>\n",
        "</tr>\n",
        "<tr>\n",
        "  <th>nodeNum_0</th>                  <td>   -2.9401</td> <td>    1.147</td> <td>   -2.564</td> <td> 0.010</td> <td>   -5.188    -0.692</td>\n",
        "</tr>\n",
        "<tr>\n",
        "  <th>nodeNum_1</th>                  <td>   -1.0418</td> <td>    0.338</td> <td>   -3.078</td> <td> 0.002</td> <td>   -1.705    -0.379</td>\n",
        "</tr>\n",
        "<tr>\n",
        "  <th>nodeNum_2</th>                  <td>    1.3881</td> <td>    0.452</td> <td>    3.069</td> <td> 0.002</td> <td>    0.502     2.274</td>\n",
        "</tr>\n",
        "<tr>\n",
        "  <th>nodeNum_3</th>                  <td>   -0.1660</td> <td>    0.517</td> <td>   -0.321</td> <td> 0.748</td> <td>   -1.179     0.847</td>\n",
        "</tr>\n",
        "<tr>\n",
        "  <th>nodeNum_4</th>                  <td>    1.7598</td> <td>    0.823</td> <td>    2.138</td> <td> 0.032</td> <td>    0.147     3.373</td>\n",
        "</tr>\n",
        "<tr>\n",
        "  <th>nodeNum_5</th>                  <td>   -1.1513</td> <td>    0.819</td> <td>   -1.406</td> <td> 0.160</td> <td>   -2.756     0.453</td>\n",
        "</tr>\n",
        "<tr>\n",
        "  <th>nodeNum_6</th>                  <td>   -1.8339</td> <td>    0.767</td> <td>   -2.392</td> <td> 0.017</td> <td>   -3.337    -0.331</td>\n",
        "</tr>\n",
        "<tr>\n",
        "  <th>nodeNum_8</th>                  <td>    0.2154</td> <td>    0.394</td> <td>    0.547</td> <td> 0.584</td> <td>   -0.556     0.987</td>\n",
        "</tr>\n",
        "<tr>\n",
        "  <th>nodeNum_9</th>                  <td>   -0.5776</td> <td>    0.313</td> <td>   -1.844</td> <td> 0.065</td> <td>   -1.191     0.036</td>\n",
        "</tr>\n",
        "<tr>\n",
        "  <th>nodeNum_10</th>                 <td>   -1.1660</td> <td>    0.323</td> <td>   -3.612</td> <td> 0.000</td> <td>   -1.799    -0.533</td>\n",
        "</tr>\n",
        "<tr>\n",
        "  <th>nodeNum_11</th>                 <td>    0.8929</td> <td>    0.443</td> <td>    2.016</td> <td> 0.044</td> <td>    0.025     1.761</td>\n",
        "</tr>\n",
        "<tr>\n",
        "  <th>nodeNum_13</th>                 <td>   -2.6992</td> <td>    0.628</td> <td>   -4.301</td> <td> 0.000</td> <td>   -3.929    -1.469</td>\n",
        "</tr>\n",
        "<tr>\n",
        "  <th>nodeNum_14</th>                 <td>   -2.4413</td> <td>    0.561</td> <td>   -4.354</td> <td> 0.000</td> <td>   -3.540    -1.342</td>\n",
        "</tr>\n",
        "<tr>\n",
        "  <th>nodeNum_15</th>                 <td>   -2.8325</td> <td>    1.038</td> <td>   -2.728</td> <td> 0.006</td> <td>   -4.867    -0.798</td>\n",
        "</tr>\n",
        "<tr>\n",
        "  <th>nodeNum_16</th>                 <td>   -1.9299</td> <td>    0.538</td> <td>   -3.585</td> <td> 0.000</td> <td>   -2.985    -0.875</td>\n",
        "</tr>\n",
        "<tr>\n",
        "  <th>nodeNum_19</th>                 <td>   -1.9893</td> <td>    0.635</td> <td>   -3.134</td> <td> 0.002</td> <td>   -3.233    -0.745</td>\n",
        "</tr>\n",
        "<tr>\n",
        "  <th>nodeNum_20</th>                 <td>   -0.0658</td> <td>    0.382</td> <td>   -0.172</td> <td> 0.863</td> <td>   -0.814     0.682</td>\n",
        "</tr>\n",
        "<tr>\n",
        "  <th>nodeNum_21</th>                 <td>    0.3380</td> <td>    0.667</td> <td>    0.507</td> <td> 0.612</td> <td>   -0.968     1.645</td>\n",
        "</tr>\n",
        "<tr>\n",
        "  <th>nodeNum_22</th>                 <td>   -0.4651</td> <td>    0.310</td> <td>   -1.499</td> <td> 0.134</td> <td>   -1.073     0.143</td>\n",
        "</tr>\n",
        "<tr>\n",
        "  <th>nodeNum_25</th>                 <td>   -1.3240</td> <td>    0.358</td> <td>   -3.694</td> <td> 0.000</td> <td>   -2.026    -0.622</td>\n",
        "</tr>\n",
        "<tr>\n",
        "  <th>nodeNum_26</th>                 <td>    0.8849</td> <td>    0.685</td> <td>    1.293</td> <td> 0.196</td> <td>   -0.457     2.227</td>\n",
        "</tr>\n",
        "<tr>\n",
        "  <th>nodeNum_27</th>                 <td>   -0.7675</td> <td>    0.433</td> <td>   -1.771</td> <td> 0.076</td> <td>   -1.617     0.082</td>\n",
        "</tr>\n",
        "</table>"
       ],
       "metadata": {},
       "output_type": "pyout",
       "prompt_number": 53,
       "text": [
        "<class 'statsmodels.iolib.summary.Summary'>\n",
        "\"\"\"\n",
        "                           Logit Regression Results                           \n",
        "==============================================================================\n",
        "Dep. Variable:                SER_INJ   No. Observations:                 1029\n",
        "Model:                          Logit   Df Residuals:                     1000\n",
        "Method:                           MLE   Df Model:                           28\n",
        "Date:                Tue, 06 May 2014   Pseudo R-squ.:                  0.1761\n",
        "Time:                        14:23:27   Log-Likelihood:                -455.53\n",
        "converged:                       True   LL-Null:                       -552.89\n",
        "                                        LLR p-value:                 6.806e-27\n",
        "==============================================================================================\n",
        "                                 coef    std err          z      P>|z|      [95.0% Conf. Int.]\n",
        "----------------------------------------------------------------------------------------------\n",
        "DRUGS_Treatment_9999_T0       -0.5108      0.234     -2.181      0.029        -0.970    -0.052\n",
        "P_CRASH3_Treatment_9999_T3     2.9611      1.025      2.888      0.004         0.951     4.971\n",
        "VALIGN_Treatment_9999_T4       1.4988      0.714      2.098      0.036         0.099     2.899\n",
        "VPROFILE_Treatment_9999_T2    -1.1204      0.468     -2.393      0.017        -2.038    -0.203\n",
        "MONTH_T9                       0.5133      0.247      2.076      0.038         0.029     0.998\n",
        "IMPACT1_IM_T62                -1.4765      0.729     -2.026      0.043        -2.905    -0.048\n",
        "PCRASH1_IM_T9                  3.1385      1.293      2.428      0.015         0.605     5.672\n",
        "nodeNum_0                     -2.9401      1.147     -2.564      0.010        -5.188    -0.692\n",
        "nodeNum_1                     -1.0418      0.338     -3.078      0.002        -1.705    -0.379\n",
        "nodeNum_2                      1.3881      0.452      3.069      0.002         0.502     2.274\n",
        "nodeNum_3                     -0.1660      0.517     -0.321      0.748        -1.179     0.847\n",
        "nodeNum_4                      1.7598      0.823      2.138      0.032         0.147     3.373\n",
        "nodeNum_5                     -1.1513      0.819     -1.406      0.160        -2.756     0.453\n",
        "nodeNum_6                     -1.8339      0.767     -2.392      0.017        -3.337    -0.331\n",
        "nodeNum_8                      0.2154      0.394      0.547      0.584        -0.556     0.987\n",
        "nodeNum_9                     -0.5776      0.313     -1.844      0.065        -1.191     0.036\n",
        "nodeNum_10                    -1.1660      0.323     -3.612      0.000        -1.799    -0.533\n",
        "nodeNum_11                     0.8929      0.443      2.016      0.044         0.025     1.761\n",
        "nodeNum_13                    -2.6992      0.628     -4.301      0.000        -3.929    -1.469\n",
        "nodeNum_14                    -2.4413      0.561     -4.354      0.000        -3.540    -1.342\n",
        "nodeNum_15                    -2.8325      1.038     -2.728      0.006        -4.867    -0.798\n",
        "nodeNum_16                    -1.9299      0.538     -3.585      0.000        -2.985    -0.875\n",
        "nodeNum_19                    -1.9893      0.635     -3.134      0.002        -3.233    -0.745\n",
        "nodeNum_20                    -0.0658      0.382     -0.172      0.863        -0.814     0.682\n",
        "nodeNum_21                     0.3380      0.667      0.507      0.612        -0.968     1.645\n",
        "nodeNum_22                    -0.4651      0.310     -1.499      0.134        -1.073     0.143\n",
        "nodeNum_25                    -1.3240      0.358     -3.694      0.000        -2.026    -0.622\n",
        "nodeNum_26                     0.8849      0.685      1.293      0.196        -0.457     2.227\n",
        "nodeNum_27                    -0.7675      0.433     -1.771      0.076        -1.617     0.082\n",
        "==============================================================================================\n",
        "\"\"\""
       ]
      }
     ],
     "prompt_number": 53
    },
    {
     "cell_type": "code",
     "collapsed": false,
     "input": [
      "\"At its core, the naive tree has only {} features\".format(len(treepredict.searchFeats(pruned_tSet_tree)))"
     ],
     "language": "python",
     "metadata": {},
     "outputs": [
      {
       "metadata": {},
       "output_type": "pyout",
       "prompt_number": 42,
       "text": [
        "'At its core, the naive tree has only 18 features'"
       ]
      }
     ],
     "prompt_number": 42
    },
    {
     "cell_type": "code",
     "collapsed": false,
     "input": [
      "\"At its core, the minimum 10 people per leaf tree has only {} features\".format(len(treepredict.searchFeats(pruned_min10_tree)))"
     ],
     "language": "python",
     "metadata": {},
     "outputs": [
      {
       "metadata": {},
       "output_type": "pyout",
       "prompt_number": 41,
       "text": [
        "'At its core, the minimum 10 people per leaf tree has only 23 features'"
       ]
      }
     ],
     "prompt_number": 41
    },
    {
     "cell_type": "code",
     "collapsed": false,
     "input": [
      "the_tree = pruned_tSet_tree\n",
      "the_model = naive_model\n",
      "weird_cols = hl.allFeats(the_model, the_tree)\n",
      "init_cols = hl.clean_category_cols(pd.DataFrame( [range(len(weird_cols)) for x in weird_cols],\n",
      "                                                columns=list(weird_cols))).columns.tolist()\n",
      "all_vars = np.unique(init_cols)\n",
      "\"Between the nodes and regular independent variables, there are {} variables in total in the {}.\".format(len(all_vars),\n",
      "                                                                                                         \"naive_model\")"
     ],
     "language": "python",
     "metadata": {},
     "outputs": [
      {
       "metadata": {},
       "output_type": "pyout",
       "prompt_number": 59,
       "text": [
        "'Between the nodes and regular independent variables, there are 37 variables in total in the naive_model.'"
       ]
      }
     ],
     "prompt_number": 59
    },
    {
     "cell_type": "code",
     "collapsed": false,
     "input": [],
     "language": "python",
     "metadata": {},
     "outputs": []
    }
   ],
   "metadata": {}
  }
 ]
}