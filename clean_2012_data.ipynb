{
 "metadata": {
  "name": "clean_2012_data.ipynb"
 },
 "nbformat": 3,
 "nbformat_minor": 0,
 "worksheets": [
  {
   "cells": [
    {
     "cell_type": "heading",
     "level": 1,
     "metadata": {},
     "source": [
      "Clean the 2012 Data and Get Results"
     ]
    },
    {
     "cell_type": "code",
     "collapsed": false,
     "input": [
      "import numpy as np, pandas as pd, statsmodels.formula.api as smf, hybrid_logit as hl\n",
      "import initial_data_cleaning, util\n",
      "import categorical_design, treepredict\n",
      "import cPickle, os"
     ],
     "language": "python",
     "metadata": {},
     "outputs": [],
     "prompt_number": 1
    },
    {
     "cell_type": "code",
     "collapsed": false,
     "input": [
      "YEAR = 12\n",
      "damage = pd.read_table(\"GES_12/DAMAGE.TXT\")\n",
      "\n",
      "accidents, vehicles, persons, safety_eq = initial_data_cleaning.get_tables(YEAR)\n",
      "\n",
      "allButCategorySplit2012 = pd.read_csv(\"dataframes/allButCategorySplit_2012.csv\", index_col=0)"
     ],
     "language": "python",
     "metadata": {},
     "outputs": [
      {
       "output_type": "stream",
       "stream": "stderr",
       "text": [
        "/home/timothy/Enthought/Canopy_64bit/User/lib/python2.7/site-packages/pandas/io/parsers.py:1130: DtypeWarning: Columns (34,35) have mixed types. Specify dtype option on import or set low_memory=False.\n",
        "  data = self._reader.read(nrows)\n"
       ]
      }
     ],
     "prompt_number": 2
    },
    {
     "cell_type": "code",
     "collapsed": false,
     "input": [
      "print \"IMPACT2\" in allButCategorySplit2012.columns\n",
      "print \"IMPACT1_IM\" in allButCategorySplit2012.columns"
     ],
     "language": "python",
     "metadata": {},
     "outputs": [
      {
       "output_type": "stream",
       "stream": "stdout",
       "text": [
        "False\n",
        "True\n"
       ]
      }
     ],
     "prompt_number": 3
    },
    {
     "cell_type": "code",
     "collapsed": false,
     "input": [
      "#Use this dataframe to act as a container for more information about the most damaged area on a striking vehicle\n",
      "more_info = pd.DataFrame({'CASENUM': allButCategorySplit2012[\"CASENUM\"],\n",
      "                          'PER_NO': allButCategorySplit2012[\"PER_NO\"]}, index=allButCategorySplit2012.index)"
     ],
     "language": "python",
     "metadata": {},
     "outputs": [],
     "prompt_number": 4
    },
    {
     "cell_type": "code",
     "collapsed": false,
     "input": [
      "str_veh = [] #initialize an empty list to hold all of the id's of the vehicles striking each cyclist in the 2012 dataframe\n",
      "#impact2_vehDup = [] \n",
      "for ind, row in more_info.iterrows(): #Iterate through all rows of more_info and find the appropriate striking vehicle id.\n",
      "    cond1 = persons[\"CASENUM\"] == row[\"CASENUM\"] # Get person record with the correct case number\n",
      "    cond2 = persons[\"PER_NO\"] == row[\"PER_NO\"] #Get the person record that corresponds to the cyclist who was struck\n",
      "    str_veh_no = persons[cond1 & cond2][\"STR_VEH\"].iloc[0] #Get the vehicle id of the striking vehicle\n",
      "    assert isinstance(str_veh_no, int) or isinstance(str_veh_no, float) #Make sure the number is an integer or a float\n",
      "    str_veh.append(str_veh_no) #Append the striking vehicle id to the list\n",
      "\n",
      "more_info[\"VEH_NO\"] = pd.Series(str_veh) #Append the list of striking vehicle id's to the more_info dataframe"
     ],
     "language": "python",
     "metadata": {},
     "outputs": [],
     "prompt_number": 5
    },
    {
     "cell_type": "code",
     "collapsed": false,
     "input": [
      "damage.head() #Look at the most-damaged areas data."
     ],
     "language": "python",
     "metadata": {},
     "outputs": [
      {
       "html": [
        "<div style=\"max-height:1000px;max-width:1500px;overflow:auto;\">\n",
        "<table border=\"1\" class=\"dataframe\">\n",
        "  <thead>\n",
        "    <tr style=\"text-align: right;\">\n",
        "      <th></th>\n",
        "      <th>CASENUM</th>\n",
        "      <th>VEH_NO</th>\n",
        "      <th>WEIGHT</th>\n",
        "      <th>REGION</th>\n",
        "      <th>STRATUM</th>\n",
        "      <th>PJ</th>\n",
        "      <th>PSU</th>\n",
        "      <th>PSUSTRAT</th>\n",
        "      <th>MDAREAS</th>\n",
        "    </tr>\n",
        "  </thead>\n",
        "  <tbody>\n",
        "    <tr>\n",
        "      <th>0</th>\n",
        "      <td> 201210432623</td>\n",
        "      <td> 1</td>\n",
        "      <td> 27.146</td>\n",
        "      <td> 1</td>\n",
        "      <td> 2</td>\n",
        "      <td> 3</td>\n",
        "      <td> 2</td>\n",
        "      <td> 3</td>\n",
        "      <td>  1</td>\n",
        "    </tr>\n",
        "    <tr>\n",
        "      <th>1</th>\n",
        "      <td> 201210432623</td>\n",
        "      <td> 1</td>\n",
        "      <td> 27.146</td>\n",
        "      <td> 1</td>\n",
        "      <td> 2</td>\n",
        "      <td> 3</td>\n",
        "      <td> 2</td>\n",
        "      <td> 3</td>\n",
        "      <td> 12</td>\n",
        "    </tr>\n",
        "    <tr>\n",
        "      <th>2</th>\n",
        "      <td> 201210432623</td>\n",
        "      <td> 2</td>\n",
        "      <td> 27.146</td>\n",
        "      <td> 1</td>\n",
        "      <td> 2</td>\n",
        "      <td> 3</td>\n",
        "      <td> 2</td>\n",
        "      <td> 3</td>\n",
        "      <td>  7</td>\n",
        "    </tr>\n",
        "    <tr>\n",
        "      <th>3</th>\n",
        "      <td> 201210432623</td>\n",
        "      <td> 2</td>\n",
        "      <td> 27.146</td>\n",
        "      <td> 1</td>\n",
        "      <td> 2</td>\n",
        "      <td> 3</td>\n",
        "      <td> 2</td>\n",
        "      <td> 3</td>\n",
        "      <td>  8</td>\n",
        "    </tr>\n",
        "    <tr>\n",
        "      <th>4</th>\n",
        "      <td> 201210432623</td>\n",
        "      <td> 2</td>\n",
        "      <td> 27.146</td>\n",
        "      <td> 1</td>\n",
        "      <td> 2</td>\n",
        "      <td> 3</td>\n",
        "      <td> 2</td>\n",
        "      <td> 3</td>\n",
        "      <td>  9</td>\n",
        "    </tr>\n",
        "  </tbody>\n",
        "</table>\n",
        "</div>"
       ],
       "metadata": {},
       "output_type": "pyout",
       "prompt_number": 6,
       "text": [
        "        CASENUM  VEH_NO  WEIGHT  REGION  STRATUM  PJ  PSU  PSUSTRAT  MDAREAS\n",
        "0  201210432623       1  27.146       1        2   3    2         3        1\n",
        "1  201210432623       1  27.146       1        2   3    2         3       12\n",
        "2  201210432623       2  27.146       1        2   3    2         3        7\n",
        "3  201210432623       2  27.146       1        2   3    2         3        8\n",
        "4  201210432623       2  27.146       1        2   3    2         3        9"
       ]
      }
     ],
     "prompt_number": 6
    },
    {
     "cell_type": "code",
     "collapsed": false,
     "input": [
      "damage.groupby(\"MDAREAS\").size() #Look at how many records there are per damaged area."
     ],
     "language": "python",
     "metadata": {},
     "outputs": [
      {
       "metadata": {},
       "output_type": "pyout",
       "prompt_number": 7,
       "text": [
        "MDAREAS\n",
        "1          24573\n",
        "2          14177\n",
        "3          11209\n",
        "4           9563\n",
        "5          11904\n",
        "6          25830\n",
        "7          12585\n",
        "8          10033\n",
        "9          11755\n",
        "10         14387\n",
        "11         24930\n",
        "12         57842\n",
        "13          8080\n",
        "14          3952\n",
        "15          2674\n",
        "99          2803\n",
        "dtype: int64"
       ]
      }
     ],
     "prompt_number": 7
    },
    {
     "cell_type": "code",
     "collapsed": false,
     "input": [
      "count = 0 #initialize a counter to keep track of when clock point four appears as a damaged area of a vehicle.\n",
      "\n",
      "for ind, row in more_info.iterrows(): #Iterate through all the rows of more_info\n",
      "    cond1 = damage[\"CASENUM\"] == row[\"CASENUM\"] #Filter the damage data by the correct case number\n",
      "    cond2 = damage[\"VEH_NO\"] == row[\"VEH_NO\"] #Filter the damage data by the correct vehicle number\n",
      "    filtered_damage = damage[cond1 & cond2] #Filter the damage data by the correct case and vehicle numbers\n",
      "    if 4 in filtered_damage[\"MDAREAS\"].values: #Check if clock point four was damaged for this striking vehickle\n",
      "        count += 1\n",
      "print \"There are {} injured cyclists in 2012 for whom the striking vehicle suffered damage to clock point 4.\".format(count)\n",
      "print \"There are {} injured cyclists overall.\".format(len(more_info))"
     ],
     "language": "python",
     "metadata": {},
     "outputs": [
      {
       "output_type": "stream",
       "stream": "stdout",
       "text": [
        "There are 94 injured cyclists in 2012 for whom the striking vehicle suffered damage to clock point 4.\n",
        "There are 1919 injured cyclists overall.\n"
       ]
      }
     ],
     "prompt_number": 8
    },
    {
     "cell_type": "code",
     "collapsed": false,
     "input": [
      "nums = range(16) + [99] #Create a list of all unique values in the \"MDAREAS\" column of the damage dataframe\n",
      "damage_dict = dict(zip(nums, [0 for x in range(17)])) #initialize a dictionary of counts for those values.\n",
      "\n",
      "for ind, row in more_info.iterrows(): #Iterate over all columns of the more_info dataframe\n",
      "    cond1 = damage[\"CASENUM\"] == row[\"CASENUM\"] #Make sure the case number in the damage dataframe matches the one in more_info\n",
      "    cond2 = damage[\"VEH_NO\"] == row[\"VEH_NO\"] #Make sure the vehicle number in the damage dataframe matches the one in more_info\n",
      "    filtered_damage = damage[cond1 & cond2] #Filter the damage dataframe\n",
      "    mdareas = filtered_damage[\"MDAREAS\"].values #Get a list of the damaged areas on the striking vehicle\n",
      "    if len(mdareas) == 1: #Check if only one area sustained damage\n",
      "        damage_dict[mdareas[0]] += 1 #If so count that record in the damage_dict\n",
      "        \n",
      "for num in nums: #Print out how many records have only one damaged part on the striking vehicle, for each damaged location\n",
      "    print \"There are {} injured cyclists in 2012 for whom the striking vehicle suffered only damage to clock point {}.\".format(damage_dict[num], num)\n",
      "print \"There are {} injured cyclists overall.\".format(len(more_info))"
     ],
     "language": "python",
     "metadata": {},
     "outputs": [
      {
       "output_type": "stream",
       "stream": "stdout",
       "text": [
        "There are 0 injured cyclists in 2012 for whom the striking vehicle suffered only damage to clock point 0.\n",
        "There are 87 injured cyclists in 2012 for whom the striking vehicle suffered only damage to clock point 1.\n",
        "There are 41 injured cyclists in 2012 for whom the striking vehicle suffered only damage to clock point 2.\n",
        "There are 76 injured cyclists in 2012 for whom the striking vehicle suffered only damage to clock point 3.\n",
        "There are 20 injured cyclists in 2012 for whom the striking vehicle suffered only damage to clock point 4.\n",
        "There are 30 injured cyclists in 2012 for whom the striking vehicle suffered only damage to clock point 5.\n",
        "There are 24 injured cyclists in 2012 for whom the striking vehicle suffered only damage to clock point 6.\n",
        "There are 1 injured cyclists in 2012 for whom the striking vehicle suffered only damage to clock point 7.\n",
        "There are 6 injured cyclists in 2012 for whom the striking vehicle suffered only damage to clock point 8.\n",
        "There are 28 injured cyclists in 2012 for whom the striking vehicle suffered only damage to clock point 9.\n",
        "There are 18 injured cyclists in 2012 for whom the striking vehicle suffered only damage to clock point 10.\n",
        "There are 37 injured cyclists in 2012 for whom the striking vehicle suffered only damage to clock point 11.\n",
        "There are 615 injured cyclists in 2012 for whom the striking vehicle suffered only damage to clock point 12.\n",
        "There are 0 injured cyclists in 2012 for whom the striking vehicle suffered only damage to clock point 13.\n",
        "There are 0 injured cyclists in 2012 for whom the striking vehicle suffered only damage to clock point 14.\n",
        "There are 292 injured cyclists in 2012 for whom the striking vehicle suffered only damage to clock point 15.\n",
        "There are 159 injured cyclists in 2012 for whom the striking vehicle suffered only damage to clock point 99.\n",
        "There are 1919 injured cyclists overall.\n"
       ]
      }
     ],
     "prompt_number": 9
    },
    {
     "cell_type": "code",
     "collapsed": false,
     "input": [
      "np.sum(damage_dict.values()) #The number of records with certain, & uniquely identified points of \"most damage\", i.e. only damage"
     ],
     "language": "python",
     "metadata": {},
     "outputs": [
      {
       "metadata": {},
       "output_type": "pyout",
       "prompt_number": 11,
       "text": [
        "1434"
       ]
      }
     ],
     "prompt_number": 11
    },
    {
     "cell_type": "code",
     "collapsed": false,
     "input": [
      "print \"The fraction of 2011 cyclists for whom the striking vehicle suffered the most damage to clock point 4 is {}\".format(13.0/(13 + 1129))"
     ],
     "language": "python",
     "metadata": {},
     "outputs": [
      {
       "output_type": "stream",
       "stream": "stdout",
       "text": [
        "The fraction of 2011 cyclists for whom the striking vehicle suffered the most damage to clock point 4 is 0.0113835376532\n"
       ]
      }
     ],
     "prompt_number": 12
    },
    {
     "cell_type": "code",
     "collapsed": false,
     "input": [
      "print \"The fraction of 2012 cyclists for whom the striking vehicle suffered damage (not necessarily the most damage) to clock point 4 is {}\".format(94.0 / (1919))"
     ],
     "language": "python",
     "metadata": {},
     "outputs": [
      {
       "output_type": "stream",
       "stream": "stdout",
       "text": [
        "The fraction of 2012 cyclists for whom the striking vehicle suffered damage (not necessarily the most damage) to clock point 4 is 0.048983845753\n"
       ]
      }
     ],
     "prompt_number": 13
    },
    {
     "cell_type": "code",
     "collapsed": false,
     "input": [
      "\"The fraction of 2012 cyclists for whom the striking vehicle only suffered damage (not necessarily the most damage) to clock point 4 is {}\".format(20.0/1919)"
     ],
     "language": "python",
     "metadata": {},
     "outputs": [
      {
       "metadata": {},
       "output_type": "pyout",
       "prompt_number": 14,
       "text": [
        "'The fraction of 2012 cyclists for whom the striking vehicle only suffered damage (not necessarily the most damage) to clock point 4 is 0.0104220948411'"
       ]
      }
     ],
     "prompt_number": 14
    },
    {
     "cell_type": "code",
     "collapsed": false,
     "input": [
      "print \"If vehicles in 2012 suffered the most damage to clock point 4 at the same rate as they did in 2011, then there should be {} vehicles in the count.\".format(1919 * 13.0/(13 + 1129))"
     ],
     "language": "python",
     "metadata": {},
     "outputs": [
      {
       "output_type": "stream",
       "stream": "stdout",
       "text": [
        "If vehicles in 2012 suffered the most damage to clock point 4 at the same rate as they did in 2011, then there should be 21.8450087566 vehicles in the count.\n"
       ]
      }
     ],
     "prompt_number": 15
    },
    {
     "cell_type": "heading",
     "level": 4,
     "metadata": {},
     "source": [
      "<p>Given that the number of vehicles only suffering damage to clock point 4 is very similar the expected number of vehicles that a priori should have suffered the most damage to clock point 4, I am going to assume that if a vehicle suffered damage to multiple parts of the auto, then clock point 4 will not be greatly damaged as compared to the other parts of the automobile.</p>\n",
      "\n",
      "<p>Additionally, if the only damage that one's vehicle suffered was to clock point 4, then by definition, the part of the vehicle which suffered the most damage was clock point 4.</p>\n",
      "\n",
      "<p>Update, I'm going to assume for all values within MDAREAS, that if a cyclist's striking vehicle only suffered damage to one part of the vehicle, or to no parts, then the \"most damaged\" value for that vehicle is uniquely identified."
     ]
    },
    {
     "cell_type": "code",
     "collapsed": false,
     "input": [
      "##Initialize random numbers for the impact_2 column. I have no idea why I originally created 200 \"do not know vehicles\" though.\n",
      "# init_numbers = [9999 for x in range(200)] + [0 for x in range(len(more_info) - 200)]\n",
      "# np.random.shuffle(init_numbers)\n",
      "\n",
      "more_info[\"IMPACT2_vehDup\"] = 9999 #Initialize the IMPACT2 column to be \"do not know\"\n",
      "\n",
      "for ind, row in more_info.iterrows(): #Iterate over all rows of more_info\n",
      "    cond1 = damage[\"CASENUM\"] == row[\"CASENUM\"] #Match the case number in the damage dataframe and more_info\n",
      "    cond2 = damage[\"VEH_NO\"] == row[\"VEH_NO\"] #Match the vehicle number in the damage dataframe and more_info\n",
      "    filtered_damage = damage[cond1 & cond2] #Filter the damage dataframe\n",
      "    mdareas = filtered_damage[\"MDAREAS\"].values #Get the list of damaged areas for this striking vehicle\n",
      "    if len(mdareas) == 1 and mdareas[0] != 99: #if there is only one damaged area and it is certain (i.e. not unknown)\n",
      "        more_info.loc[ind, \"IMPACT2_vehDup\"] = mdareas[0] #Then assign that code to the \"IMPACT2\" column.\n",
      "print more_info.groupby(\"IMPACT2_vehDup\").size()"
     ],
     "language": "python",
     "metadata": {},
     "outputs": [
      {
       "output_type": "stream",
       "stream": "stdout",
       "text": [
        "IMPACT2_vehDup\n",
        "1                  87\n",
        "2                  41\n",
        "3                  76\n",
        "4                  20\n",
        "5                  30\n",
        "6                  24\n",
        "7                   1\n",
        "8                   6\n",
        "9                  28\n",
        "10                 18\n",
        "11                 37\n",
        "12                615\n",
        "15                292\n",
        "9999              644\n",
        "dtype: int64\n"
       ]
      }
     ],
     "prompt_number": 16
    },
    {
     "cell_type": "code",
     "collapsed": false,
     "input": [
      "allButCategorySplit2012[\"IMPACT2_vehDup\"] = more_info[\"IMPACT2_vehDup\"] #Assign more_info's IMPACT2 column to the 2012 dataframe"
     ],
     "language": "python",
     "metadata": {},
     "outputs": [],
     "prompt_number": 17
    },
    {
     "cell_type": "code",
     "collapsed": false,
     "input": [
      "allButCategorySplit2012.to_csv(\"dataframes/allButCategorySplit_2012.csv\") #Save the all-but-category-split 2012 data"
     ],
     "language": "python",
     "metadata": {},
     "outputs": [],
     "prompt_number": 18
    },
    {
     "cell_type": "code",
     "collapsed": false,
     "input": [
      "allButCategorySplit2012 = categorical_design.read_and_reset_col_types(\"dataframes/allButCategorySplit_2012.csv\", 0, [\"WEIGHT\"])"
     ],
     "language": "python",
     "metadata": {},
     "outputs": [],
     "prompt_number": 19
    },
    {
     "cell_type": "code",
     "collapsed": false,
     "input": [
      "#Get the lists of categorical columns and missing value codes\n",
      "columnFrame = pd.read_excel(\"categoricalColumns_MissingValues.xlsx\", \"Sheet1\")\n",
      "columnFrame.fillna(\"\", inplace = True) #Get rid of null values and replace them with empty strings in the dataframe.\n",
      "#Change the following column types to strings.\n",
      "columnFrame.DontKnow = columnFrame.DontKnow.astype(str)\n",
      "columnFrame.DontKnow_2012 = columnFrame.DontKnow_2012.astype(str)\n",
      "\n",
      "columnFrame[\"DontKnow\"] = columnFrame[\"DontKnow_2012\"]"
     ],
     "language": "python",
     "metadata": {},
     "outputs": [],
     "prompt_number": 20
    },
    {
     "cell_type": "code",
     "collapsed": false,
     "input": [
      "#Convert all missing values in the 2012 data to 9999\n",
      "basicTransform2012 = allButCategorySplit2012.apply(categorical_design.removeMissing, axis = 1, args=(columnFrame,))\n",
      "#Reset the column types on the 2012 data\n",
      "categorical_design.reset_col_types(basicTransform2012, [\"WEIGHT\"])"
     ],
     "language": "python",
     "metadata": {},
     "outputs": [],
     "prompt_number": 22
    },
    {
     "cell_type": "code",
     "collapsed": false,
     "input": [
      "basicTransform2012.to_pickle(\"dataframes/noMissingValueDf_2012.pkl\") #Save the data with all missing values made into 9999's"
     ],
     "language": "python",
     "metadata": {},
     "outputs": [],
     "prompt_number": 23
    },
    {
     "cell_type": "code",
     "collapsed": false,
     "input": [
      "columnFrame.index = columnFrame.Cols #Change the index of columnFrame\n",
      "\n",
      " #Make the design string used to contrast code the necessary variables\n",
      "d_string = categorical_design.make_design_string(basicTransform2012, columnFrame)"
     ],
     "language": "python",
     "metadata": {},
     "outputs": [],
     "prompt_number": 24
    },
    {
     "cell_type": "code",
     "collapsed": false,
     "input": [
      "categorical_design.add_injury_indicator(\"SER_INJ\", basicTransform2012) #Add the serious injury indicator to the 2012 data"
     ],
     "language": "python",
     "metadata": {},
     "outputs": [],
     "prompt_number": 25
    },
    {
     "cell_type": "code",
     "collapsed": false,
     "input": [
      "design4Tree_2012 = categorical_design.create_design_df(d_string, basicTransform2012) #Create the final 2012 design matrix"
     ],
     "language": "python",
     "metadata": {},
     "outputs": [],
     "prompt_number": 26
    },
    {
     "cell_type": "code",
     "collapsed": false,
     "input": [
      "design4Tree_2012.to_pickle(\"dataframes/design_DF_4Tree_2012.pkl\") #Save the 2012 design matrix"
     ],
     "language": "python",
     "metadata": {},
     "outputs": [],
     "prompt_number": 27
    },
    {
     "cell_type": "code",
     "collapsed": false,
     "input": [
      "with open(\"trees/pruned_NaiveTree_trainingSet.pkl\") as f:\n",
      "    pruned_tSet_tree = cPickle.load(f)\n",
      "    \n",
      "with open(\"trees/pruned_min10_obs_trainingSet.pkl\") as f:\n",
      "    pruned_min10_tree = cPickle.load(f)\n",
      "    \n",
      "pruned_naive_nodes = treepredict.fetchNodes(pruned_tSet_tree)\n",
      "pruned_min10_nodes = treepredict.fetchNodes(pruned_min10_tree)"
     ],
     "language": "python",
     "metadata": {},
     "outputs": [],
     "prompt_number": 99
    },
    {
     "cell_type": "code",
     "collapsed": false,
     "input": [
      "naive_testSet_2012 = design4Tree_2012.apply(treepredict.set_node_num, axis = 1, args=(\"nodeNum\", pruned_naive_nodes))\n",
      "\n",
      "min10_testSet_2012 = design4Tree_2012.apply(treepredict.set_node_num, axis = 1, args=(\"nodeNum\", pruned_min10_nodes))"
     ],
     "language": "python",
     "metadata": {},
     "outputs": [],
     "prompt_number": 100
    },
    {
     "cell_type": "code",
     "collapsed": false,
     "input": [
      "naive_testSet_2012.to_pickle(\"dataframes/leaf_augmented/naive_design_DF_4Tree.pkl\")\n",
      "\n",
      "min10_testSet_2012.to_pickle(\"dataframes/leaf_augmented/min10_design_DF_4Tree.pkl\")"
     ],
     "language": "python",
     "metadata": {},
     "outputs": [],
     "prompt_number": 101
    },
    {
     "cell_type": "code",
     "collapsed": false,
     "input": [
      "naive_testSet_2012 = pd.read_pickle(\"dataframes/leaf_augmented/naive_design_DF_4Tree.pkl\")\n",
      "\n",
      "min10_testSet_2012 = pd.read_pickle(\"dataframes/leaf_augmented/min10_design_DF_4Tree.pkl\")"
     ],
     "language": "python",
     "metadata": {},
     "outputs": [],
     "prompt_number": 2
    },
    {
     "cell_type": "code",
     "collapsed": false,
     "input": [
      "import hybrid_logit as hl"
     ],
     "language": "python",
     "metadata": {},
     "outputs": [],
     "prompt_number": 3
    },
    {
     "cell_type": "code",
     "collapsed": false,
     "input": [
      "reload(hl)"
     ],
     "language": "python",
     "metadata": {},
     "outputs": [
      {
       "metadata": {},
       "output_type": "pyout",
       "prompt_number": 138,
       "text": [
        "<module 'hybrid_logit' from 'hybrid_logit.py'>"
       ]
      }
     ],
     "prompt_number": 138
    },
    {
     "cell_type": "code",
     "collapsed": false,
     "input": [
      "with open(\"models_and_errors/min10_model.pkl\") as f:\n",
      "    min10_model = cPickle.load(f)\n",
      "    \n",
      "min10_validation_errs = pd.read_pickle(\"models_and_errors/min10_errors_df.pkl\")\n",
      "\n",
      "with open(\"models_and_errors/naive_model.pkl\") as f:\n",
      "    naive_model = cPickle.load(f)\n",
      "    \n",
      "naive_validation_errs = pd.read_pickle(\"models_and_errors/naive_errors_df.pkl\")"
     ],
     "language": "python",
     "metadata": {},
     "outputs": [],
     "prompt_number": 5
    },
    {
     "cell_type": "code",
     "collapsed": false,
     "input": [
      "print \"This tree was grown in the standard way of growing to full depth then using reduced error pruning.\"\n",
      "print \"\"\n",
      "\n",
      "hl.predict_with_hybrid_and_tree(naive_testSet_2012, pruned_tSet_tree, naive_model, \"SER_INJ\", [0,1])"
     ],
     "language": "python",
     "metadata": {},
     "outputs": [
      {
       "output_type": "stream",
       "stream": "stdout",
       "text": [
        "This tree was grown in the standard way of growing to full depth then using reduced error pruning.\n",
        "\n",
        "When using the hybrid-CART Logit model, the various errors are: "
       ]
      },
      {
       "output_type": "stream",
       "stream": "stdout",
       "text": [
        "\n",
        "\n",
        "Total Error: 0.219906201146\n",
        "Class 0 Error: 0.0554480980013\n",
        "Class 1 Error: 0.913043478261\n",
        "\n",
        "Note: The number of non-zero logit predictions is 65\n",
        "==========\n",
        "\n",
        "==========\n",
        "When using the decision tree, its various error rates are:"
       ]
      },
      {
       "output_type": "stream",
       "stream": "stdout",
       "text": [
        "\n",
        "Total Error: 0.210005211047\n",
        "Class 0 error rate: 0.0315925209542"
       ]
      },
      {
       "output_type": "stream",
       "stream": "stdout",
       "text": [
        "\n",
        "Class 1 error rate: 0.961956521739"
       ]
      },
      {
       "output_type": "stream",
       "stream": "stdout",
       "text": [
        "\n"
       ]
      },
      {
       "html": [
        "<div style=\"max-height:1000px;max-width:1500px;overflow:auto;\">\n",
        "<table border=\"1\" class=\"dataframe\">\n",
        "  <thead>\n",
        "    <tr style=\"text-align: right;\">\n",
        "      <th></th>\n",
        "      <th>Hybrid Error Rates</th>\n",
        "      <th>Tree Error Rates</th>\n",
        "    </tr>\n",
        "  </thead>\n",
        "  <tbody>\n",
        "    <tr>\n",
        "      <th>Total</th>\n",
        "      <td> 0.219906</td>\n",
        "      <td> 0.210005</td>\n",
        "    </tr>\n",
        "    <tr>\n",
        "      <th>Class 0</th>\n",
        "      <td> 0.055448</td>\n",
        "      <td> 0.031593</td>\n",
        "    </tr>\n",
        "    <tr>\n",
        "      <th>Class 1</th>\n",
        "      <td> 0.913043</td>\n",
        "      <td> 0.961957</td>\n",
        "    </tr>\n",
        "  </tbody>\n",
        "</table>\n",
        "<p>3 rows \u00d7 2 columns</p>\n",
        "</div>"
       ],
       "metadata": {},
       "output_type": "pyout",
       "prompt_number": 124,
       "text": [
        "         Hybrid Error Rates  Tree Error Rates\n",
        "Total              0.219906          0.210005\n",
        "Class 0            0.055448          0.031593\n",
        "Class 1            0.913043          0.961957\n",
        "\n",
        "[3 rows x 2 columns]"
       ]
      }
     ],
     "prompt_number": 124
    },
    {
     "cell_type": "code",
     "collapsed": false,
     "input": [
      "print \"These are the in-sample statistical testing results for the naive model\"\n",
      "print \"\"\n",
      "naive_model.summary()"
     ],
     "language": "python",
     "metadata": {},
     "outputs": [
      {
       "output_type": "stream",
       "stream": "stdout",
       "text": [
        "These are the in-sample statistical testing results for the naive model\n",
        "\n"
       ]
      },
      {
       "html": [
        "<table class=\"simpletable\">\n",
        "<caption>Logit Regression Results</caption>\n",
        "<tr>\n",
        "  <th>Dep. Variable:</th>      <td>SER_INJ</td>     <th>  No. Observations:  </th>  <td>  1022</td>  \n",
        "</tr>\n",
        "<tr>\n",
        "  <th>Model:</th>               <td>Logit</td>      <th>  Df Residuals:      </th>  <td>  1003</td>  \n",
        "</tr>\n",
        "<tr>\n",
        "  <th>Method:</th>               <td>MLE</td>       <th>  Df Model:          </th>  <td>    18</td>  \n",
        "</tr>\n",
        "<tr>\n",
        "  <th>Date:</th>          <td>Tue, 06 May 2014</td> <th>  Pseudo R-squ.:     </th>  <td>0.1121</td>  \n",
        "</tr>\n",
        "<tr>\n",
        "  <th>Time:</th>              <td>03:08:25</td>     <th>  Log-Likelihood:    </th> <td> -466.84</td> \n",
        "</tr>\n",
        "<tr>\n",
        "  <th>converged:</th>           <td>True</td>       <th>  LL-Null:           </th> <td> -525.77</td> \n",
        "</tr>\n",
        "<tr>\n",
        "  <th> </th>                      <td> </td>        <th>  LLR p-value:       </th> <td>1.067e-16</td>\n",
        "</tr>\n",
        "</table>\n",
        "<table class=\"simpletable\">\n",
        "<tr>\n",
        "                  <td></td>                     <th>coef</th>     <th>std err</th>      <th>z</th>      <th>P>|z|</th> <th>[95.0% Conf. Int.]</th> \n",
        "</tr>\n",
        "<tr>\n",
        "  <th>EMER_USE_vehDup_Treatment_9999_T0</th> <td>   -1.6430</td> <td>    0.784</td> <td>   -2.095</td> <td> 0.036</td> <td>   -3.180    -0.106</td>\n",
        "</tr>\n",
        "<tr>\n",
        "  <th>P_CRASH2_Treatment_9999_T16</th>       <td>   -0.9974</td> <td>    0.448</td> <td>   -2.227</td> <td> 0.026</td> <td>   -1.875    -0.120</td>\n",
        "</tr>\n",
        "<tr>\n",
        "  <th>VTRAFWAY_Treatment_9999_T4</th>        <td>   -1.2803</td> <td>    0.631</td> <td>   -2.031</td> <td> 0.042</td> <td>   -2.516    -0.045</td>\n",
        "</tr>\n",
        "<tr>\n",
        "  <th>LOCATION_Treatment_9999_T23</th>       <td>   -1.5185</td> <td>    0.544</td> <td>   -2.791</td> <td> 0.005</td> <td>   -2.585    -0.452</td>\n",
        "</tr>\n",
        "<tr>\n",
        "  <th>LAND_USE_Treatment_9999_T2</th>        <td>   -0.7547</td> <td>    0.348</td> <td>   -2.172</td> <td> 0.030</td> <td>   -1.436    -0.074</td>\n",
        "</tr>\n",
        "<tr>\n",
        "  <th>HOUR_IM_T17</th>                       <td>    0.6390</td> <td>    0.245</td> <td>    2.608</td> <td> 0.009</td> <td>    0.159     1.119</td>\n",
        "</tr>\n",
        "<tr>\n",
        "  <th>VTRAFCON_Treatment_9999_T20</th>       <td>   -0.4983</td> <td>    0.245</td> <td>   -2.036</td> <td> 0.042</td> <td>   -0.978    -0.019</td>\n",
        "</tr>\n",
        "<tr>\n",
        "  <th>V_ALCH_IM_T2</th>                      <td>   -2.2562</td> <td>    1.041</td> <td>   -2.168</td> <td> 0.030</td> <td>   -4.296    -0.217</td>\n",
        "</tr>\n",
        "<tr>\n",
        "  <th>BDYTYP_IM_T9</th>                      <td>   -1.0301</td> <td>    0.318</td> <td>   -3.237</td> <td> 0.001</td> <td>   -1.654    -0.406</td>\n",
        "</tr>\n",
        "<tr>\n",
        "  <th>PCRASH5_Treatment_9999_T1</th>         <td>    0.5744</td> <td>    0.280</td> <td>    2.048</td> <td> 0.041</td> <td>    0.025     1.124</td>\n",
        "</tr>\n",
        "<tr>\n",
        "  <th>P_CRASH2_Treatment_9999_T12</th>       <td>    2.6200</td> <td>    1.268</td> <td>    2.067</td> <td> 0.039</td> <td>    0.136     5.104</td>\n",
        "</tr>\n",
        "<tr>\n",
        "  <th>nodeNum_0</th>                         <td>    0.4584</td> <td>    1.621</td> <td>    0.283</td> <td> 0.777</td> <td>   -2.719     3.635</td>\n",
        "</tr>\n",
        "<tr>\n",
        "  <th>nodeNum_4</th>                         <td>    3.5990</td> <td>    1.554</td> <td>    2.316</td> <td> 0.021</td> <td>    0.554     6.644</td>\n",
        "</tr>\n",
        "<tr>\n",
        "  <th>nodeNum_5</th>                         <td>    2.9052</td> <td>    1.369</td> <td>    2.123</td> <td> 0.034</td> <td>    0.223     5.587</td>\n",
        "</tr>\n",
        "<tr>\n",
        "  <th>nodeNum_6</th>                         <td>    2.9133</td> <td>    1.324</td> <td>    2.201</td> <td> 0.028</td> <td>    0.319     5.508</td>\n",
        "</tr>\n",
        "<tr>\n",
        "  <th>nodeNum_9</th>                         <td>    2.6324</td> <td>    1.337</td> <td>    1.968</td> <td> 0.049</td> <td>    0.011     5.254</td>\n",
        "</tr>\n",
        "<tr>\n",
        "  <th>nodeNum_10</th>                        <td>    4.3962</td> <td>    1.836</td> <td>    2.395</td> <td> 0.017</td> <td>    0.798     7.994</td>\n",
        "</tr>\n",
        "<tr>\n",
        "  <th>nodeNum_18</th>                        <td>    1.2732</td> <td>    1.264</td> <td>    1.007</td> <td> 0.314</td> <td>   -1.204     3.750</td>\n",
        "</tr>\n",
        "<tr>\n",
        "  <th>nodeNum_20</th>                        <td>    1.9931</td> <td>    1.317</td> <td>    1.513</td> <td> 0.130</td> <td>   -0.588     4.574</td>\n",
        "</tr>\n",
        "</table>"
       ],
       "metadata": {},
       "output_type": "pyout",
       "prompt_number": 127,
       "text": [
        "<class 'statsmodels.iolib.summary.Summary'>\n",
        "\"\"\"\n",
        "                           Logit Regression Results                           \n",
        "==============================================================================\n",
        "Dep. Variable:                SER_INJ   No. Observations:                 1022\n",
        "Model:                          Logit   Df Residuals:                     1003\n",
        "Method:                           MLE   Df Model:                           18\n",
        "Date:                Tue, 06 May 2014   Pseudo R-squ.:                  0.1121\n",
        "Time:                        03:08:25   Log-Likelihood:                -466.84\n",
        "converged:                       True   LL-Null:                       -525.77\n",
        "                                        LLR p-value:                 1.067e-16\n",
        "=====================================================================================================\n",
        "                                        coef    std err          z      P>|z|      [95.0% Conf. Int.]\n",
        "-----------------------------------------------------------------------------------------------------\n",
        "EMER_USE_vehDup_Treatment_9999_T0    -1.6430      0.784     -2.095      0.036        -3.180    -0.106\n",
        "P_CRASH2_Treatment_9999_T16          -0.9974      0.448     -2.227      0.026        -1.875    -0.120\n",
        "VTRAFWAY_Treatment_9999_T4           -1.2803      0.631     -2.031      0.042        -2.516    -0.045\n",
        "LOCATION_Treatment_9999_T23          -1.5185      0.544     -2.791      0.005        -2.585    -0.452\n",
        "LAND_USE_Treatment_9999_T2           -0.7547      0.348     -2.172      0.030        -1.436    -0.074\n",
        "HOUR_IM_T17                           0.6390      0.245      2.608      0.009         0.159     1.119\n",
        "VTRAFCON_Treatment_9999_T20          -0.4983      0.245     -2.036      0.042        -0.978    -0.019\n",
        "V_ALCH_IM_T2                         -2.2562      1.041     -2.168      0.030        -4.296    -0.217\n",
        "BDYTYP_IM_T9                         -1.0301      0.318     -3.237      0.001        -1.654    -0.406\n",
        "PCRASH5_Treatment_9999_T1             0.5744      0.280      2.048      0.041         0.025     1.124\n",
        "P_CRASH2_Treatment_9999_T12           2.6200      1.268      2.067      0.039         0.136     5.104\n",
        "nodeNum_0                             0.4584      1.621      0.283      0.777        -2.719     3.635\n",
        "nodeNum_4                             3.5990      1.554      2.316      0.021         0.554     6.644\n",
        "nodeNum_5                             2.9052      1.369      2.123      0.034         0.223     5.587\n",
        "nodeNum_6                             2.9133      1.324      2.201      0.028         0.319     5.508\n",
        "nodeNum_9                             2.6324      1.337      1.968      0.049         0.011     5.254\n",
        "nodeNum_10                            4.3962      1.836      2.395      0.017         0.798     7.994\n",
        "nodeNum_18                            1.2732      1.264      1.007      0.314        -1.204     3.750\n",
        "nodeNum_20                            1.9931      1.317      1.513      0.130        -0.588     4.574\n",
        "=====================================================================================================\n",
        "\"\"\""
       ]
      }
     ],
     "prompt_number": 127
    },
    {
     "cell_type": "code",
     "collapsed": false,
     "input": [
      "print \"The following results come from using the pruned tree that was grown with a minimum 10 people per leaf\"\n",
      "print \"\"\n",
      "\n",
      "hl.predict_with_hybrid_and_tree(min10_testSet_2012, pruned_min10_tree, min10_model, \"SER_INJ\", [0,1])"
     ],
     "language": "python",
     "metadata": {},
     "outputs": [
      {
       "output_type": "stream",
       "stream": "stdout",
       "text": [
        "The following results come from using the pruned tree that was grown with a minimum 10 people per leaf\n",
        "\n",
        "When using the hybrid-CART Logit model, the various errors are: "
       ]
      },
      {
       "output_type": "stream",
       "stream": "stdout",
       "text": [
        "\n",
        "\n",
        "Total Error: 0.243877019281\n",
        "Class 0 Error: 0.0902643455835\n",
        "Class 1 Error: 0.891304347826\n",
        "\n",
        "Note: The number of non-zero logit predictions is 180\n",
        "==========\n",
        "\n",
        "==========\n",
        "When using the decision tree, its various error rates are:"
       ]
      },
      {
       "output_type": "stream",
       "stream": "stdout",
       "text": [
        "\n",
        "Total Error: 0.237623762376\n",
        "Class 0 error rate: 0.0773694390716"
       ]
      },
      {
       "output_type": "stream",
       "stream": "stdout",
       "text": [
        "\n",
        "Class 1 error rate: 0.913043478261"
       ]
      },
      {
       "output_type": "stream",
       "stream": "stdout",
       "text": [
        "\n"
       ]
      },
      {
       "html": [
        "<div style=\"max-height:1000px;max-width:1500px;overflow:auto;\">\n",
        "<table border=\"1\" class=\"dataframe\">\n",
        "  <thead>\n",
        "    <tr style=\"text-align: right;\">\n",
        "      <th></th>\n",
        "      <th>Hybrid Error Rates</th>\n",
        "      <th>Tree Error Rates</th>\n",
        "    </tr>\n",
        "  </thead>\n",
        "  <tbody>\n",
        "    <tr>\n",
        "      <th>Total</th>\n",
        "      <td> 0.243877</td>\n",
        "      <td> 0.237624</td>\n",
        "    </tr>\n",
        "    <tr>\n",
        "      <th>Class 0</th>\n",
        "      <td> 0.090264</td>\n",
        "      <td> 0.077369</td>\n",
        "    </tr>\n",
        "    <tr>\n",
        "      <th>Class 1</th>\n",
        "      <td> 0.891304</td>\n",
        "      <td> 0.913043</td>\n",
        "    </tr>\n",
        "  </tbody>\n",
        "</table>\n",
        "<p>3 rows \u00d7 2 columns</p>\n",
        "</div>"
       ],
       "metadata": {},
       "output_type": "pyout",
       "prompt_number": 125,
       "text": [
        "         Hybrid Error Rates  Tree Error Rates\n",
        "Total              0.243877          0.237624\n",
        "Class 0            0.090264          0.077369\n",
        "Class 1            0.891304          0.913043\n",
        "\n",
        "[3 rows x 2 columns]"
       ]
      }
     ],
     "prompt_number": 125
    },
    {
     "cell_type": "code",
     "collapsed": false,
     "input": [
      "print \"These are the in-sample statistical testing results for the minimum 10 observations per leaf model\"\n",
      "print \"\"\n",
      "min10_model.summary()"
     ],
     "language": "python",
     "metadata": {},
     "outputs": [
      {
       "output_type": "stream",
       "stream": "stdout",
       "text": [
        "These are the in-sample statistical testing results for the minimum 10 observations per leaf model\n",
        "\n"
       ]
      },
      {
       "html": [
        "<table class=\"simpletable\">\n",
        "<caption>Logit Regression Results</caption>\n",
        "<tr>\n",
        "  <th>Dep. Variable:</th>      <td>SER_INJ</td>     <th>  No. Observations:  </th>  <td>  1029</td>  \n",
        "</tr>\n",
        "<tr>\n",
        "  <th>Model:</th>               <td>Logit</td>      <th>  Df Residuals:      </th>  <td>  1000</td>  \n",
        "</tr>\n",
        "<tr>\n",
        "  <th>Method:</th>               <td>MLE</td>       <th>  Df Model:          </th>  <td>    28</td>  \n",
        "</tr>\n",
        "<tr>\n",
        "  <th>Date:</th>          <td>Tue, 06 May 2014</td> <th>  Pseudo R-squ.:     </th>  <td>0.1761</td>  \n",
        "</tr>\n",
        "<tr>\n",
        "  <th>Time:</th>              <td>03:10:25</td>     <th>  Log-Likelihood:    </th> <td> -455.53</td> \n",
        "</tr>\n",
        "<tr>\n",
        "  <th>converged:</th>           <td>True</td>       <th>  LL-Null:           </th> <td> -552.89</td> \n",
        "</tr>\n",
        "<tr>\n",
        "  <th> </th>                      <td> </td>        <th>  LLR p-value:       </th> <td>6.806e-27</td>\n",
        "</tr>\n",
        "</table>\n",
        "<table class=\"simpletable\">\n",
        "<tr>\n",
        "               <td></td>                 <th>coef</th>     <th>std err</th>      <th>z</th>      <th>P>|z|</th> <th>[95.0% Conf. Int.]</th> \n",
        "</tr>\n",
        "<tr>\n",
        "  <th>DRUGS_Treatment_9999_T0</th>    <td>   -0.5108</td> <td>    0.234</td> <td>   -2.181</td> <td> 0.029</td> <td>   -0.970    -0.052</td>\n",
        "</tr>\n",
        "<tr>\n",
        "  <th>P_CRASH3_Treatment_9999_T3</th> <td>    2.9611</td> <td>    1.025</td> <td>    2.888</td> <td> 0.004</td> <td>    0.951     4.971</td>\n",
        "</tr>\n",
        "<tr>\n",
        "  <th>VALIGN_Treatment_9999_T4</th>   <td>    1.4988</td> <td>    0.714</td> <td>    2.098</td> <td> 0.036</td> <td>    0.099     2.899</td>\n",
        "</tr>\n",
        "<tr>\n",
        "  <th>VPROFILE_Treatment_9999_T2</th> <td>   -1.1204</td> <td>    0.468</td> <td>   -2.393</td> <td> 0.017</td> <td>   -2.038    -0.203</td>\n",
        "</tr>\n",
        "<tr>\n",
        "  <th>MONTH_T9</th>                   <td>    0.5133</td> <td>    0.247</td> <td>    2.076</td> <td> 0.038</td> <td>    0.029     0.998</td>\n",
        "</tr>\n",
        "<tr>\n",
        "  <th>IMPACT1_IM_T62</th>             <td>   -1.4765</td> <td>    0.729</td> <td>   -2.026</td> <td> 0.043</td> <td>   -2.905    -0.048</td>\n",
        "</tr>\n",
        "<tr>\n",
        "  <th>PCRASH1_IM_T9</th>              <td>    3.1385</td> <td>    1.293</td> <td>    2.428</td> <td> 0.015</td> <td>    0.605     5.672</td>\n",
        "</tr>\n",
        "<tr>\n",
        "  <th>nodeNum_0</th>                  <td>   -2.9401</td> <td>    1.147</td> <td>   -2.564</td> <td> 0.010</td> <td>   -5.188    -0.692</td>\n",
        "</tr>\n",
        "<tr>\n",
        "  <th>nodeNum_1</th>                  <td>   -1.0418</td> <td>    0.338</td> <td>   -3.078</td> <td> 0.002</td> <td>   -1.705    -0.379</td>\n",
        "</tr>\n",
        "<tr>\n",
        "  <th>nodeNum_2</th>                  <td>    1.3881</td> <td>    0.452</td> <td>    3.069</td> <td> 0.002</td> <td>    0.502     2.274</td>\n",
        "</tr>\n",
        "<tr>\n",
        "  <th>nodeNum_3</th>                  <td>   -0.1660</td> <td>    0.517</td> <td>   -0.321</td> <td> 0.748</td> <td>   -1.179     0.847</td>\n",
        "</tr>\n",
        "<tr>\n",
        "  <th>nodeNum_4</th>                  <td>    1.7598</td> <td>    0.823</td> <td>    2.138</td> <td> 0.032</td> <td>    0.147     3.373</td>\n",
        "</tr>\n",
        "<tr>\n",
        "  <th>nodeNum_5</th>                  <td>   -1.1513</td> <td>    0.819</td> <td>   -1.406</td> <td> 0.160</td> <td>   -2.756     0.453</td>\n",
        "</tr>\n",
        "<tr>\n",
        "  <th>nodeNum_6</th>                  <td>   -1.8339</td> <td>    0.767</td> <td>   -2.392</td> <td> 0.017</td> <td>   -3.337    -0.331</td>\n",
        "</tr>\n",
        "<tr>\n",
        "  <th>nodeNum_8</th>                  <td>    0.2154</td> <td>    0.394</td> <td>    0.547</td> <td> 0.584</td> <td>   -0.556     0.987</td>\n",
        "</tr>\n",
        "<tr>\n",
        "  <th>nodeNum_9</th>                  <td>   -0.5776</td> <td>    0.313</td> <td>   -1.844</td> <td> 0.065</td> <td>   -1.191     0.036</td>\n",
        "</tr>\n",
        "<tr>\n",
        "  <th>nodeNum_10</th>                 <td>   -1.1660</td> <td>    0.323</td> <td>   -3.612</td> <td> 0.000</td> <td>   -1.799    -0.533</td>\n",
        "</tr>\n",
        "<tr>\n",
        "  <th>nodeNum_11</th>                 <td>    0.8929</td> <td>    0.443</td> <td>    2.016</td> <td> 0.044</td> <td>    0.025     1.761</td>\n",
        "</tr>\n",
        "<tr>\n",
        "  <th>nodeNum_13</th>                 <td>   -2.6992</td> <td>    0.628</td> <td>   -4.301</td> <td> 0.000</td> <td>   -3.929    -1.469</td>\n",
        "</tr>\n",
        "<tr>\n",
        "  <th>nodeNum_14</th>                 <td>   -2.4413</td> <td>    0.561</td> <td>   -4.354</td> <td> 0.000</td> <td>   -3.540    -1.342</td>\n",
        "</tr>\n",
        "<tr>\n",
        "  <th>nodeNum_15</th>                 <td>   -2.8325</td> <td>    1.038</td> <td>   -2.728</td> <td> 0.006</td> <td>   -4.867    -0.798</td>\n",
        "</tr>\n",
        "<tr>\n",
        "  <th>nodeNum_16</th>                 <td>   -1.9299</td> <td>    0.538</td> <td>   -3.585</td> <td> 0.000</td> <td>   -2.985    -0.875</td>\n",
        "</tr>\n",
        "<tr>\n",
        "  <th>nodeNum_19</th>                 <td>   -1.9893</td> <td>    0.635</td> <td>   -3.134</td> <td> 0.002</td> <td>   -3.233    -0.745</td>\n",
        "</tr>\n",
        "<tr>\n",
        "  <th>nodeNum_20</th>                 <td>   -0.0658</td> <td>    0.382</td> <td>   -0.172</td> <td> 0.863</td> <td>   -0.814     0.682</td>\n",
        "</tr>\n",
        "<tr>\n",
        "  <th>nodeNum_21</th>                 <td>    0.3380</td> <td>    0.667</td> <td>    0.507</td> <td> 0.612</td> <td>   -0.968     1.645</td>\n",
        "</tr>\n",
        "<tr>\n",
        "  <th>nodeNum_22</th>                 <td>   -0.4651</td> <td>    0.310</td> <td>   -1.499</td> <td> 0.134</td> <td>   -1.073     0.143</td>\n",
        "</tr>\n",
        "<tr>\n",
        "  <th>nodeNum_25</th>                 <td>   -1.3240</td> <td>    0.358</td> <td>   -3.694</td> <td> 0.000</td> <td>   -2.026    -0.622</td>\n",
        "</tr>\n",
        "<tr>\n",
        "  <th>nodeNum_26</th>                 <td>    0.8849</td> <td>    0.685</td> <td>    1.293</td> <td> 0.196</td> <td>   -0.457     2.227</td>\n",
        "</tr>\n",
        "<tr>\n",
        "  <th>nodeNum_27</th>                 <td>   -0.7675</td> <td>    0.433</td> <td>   -1.771</td> <td> 0.076</td> <td>   -1.617     0.082</td>\n",
        "</tr>\n",
        "</table>"
       ],
       "metadata": {},
       "output_type": "pyout",
       "prompt_number": 128,
       "text": [
        "<class 'statsmodels.iolib.summary.Summary'>\n",
        "\"\"\"\n",
        "                           Logit Regression Results                           \n",
        "==============================================================================\n",
        "Dep. Variable:                SER_INJ   No. Observations:                 1029\n",
        "Model:                          Logit   Df Residuals:                     1000\n",
        "Method:                           MLE   Df Model:                           28\n",
        "Date:                Tue, 06 May 2014   Pseudo R-squ.:                  0.1761\n",
        "Time:                        03:10:25   Log-Likelihood:                -455.53\n",
        "converged:                       True   LL-Null:                       -552.89\n",
        "                                        LLR p-value:                 6.806e-27\n",
        "==============================================================================================\n",
        "                                 coef    std err          z      P>|z|      [95.0% Conf. Int.]\n",
        "----------------------------------------------------------------------------------------------\n",
        "DRUGS_Treatment_9999_T0       -0.5108      0.234     -2.181      0.029        -0.970    -0.052\n",
        "P_CRASH3_Treatment_9999_T3     2.9611      1.025      2.888      0.004         0.951     4.971\n",
        "VALIGN_Treatment_9999_T4       1.4988      0.714      2.098      0.036         0.099     2.899\n",
        "VPROFILE_Treatment_9999_T2    -1.1204      0.468     -2.393      0.017        -2.038    -0.203\n",
        "MONTH_T9                       0.5133      0.247      2.076      0.038         0.029     0.998\n",
        "IMPACT1_IM_T62                -1.4765      0.729     -2.026      0.043        -2.905    -0.048\n",
        "PCRASH1_IM_T9                  3.1385      1.293      2.428      0.015         0.605     5.672\n",
        "nodeNum_0                     -2.9401      1.147     -2.564      0.010        -5.188    -0.692\n",
        "nodeNum_1                     -1.0418      0.338     -3.078      0.002        -1.705    -0.379\n",
        "nodeNum_2                      1.3881      0.452      3.069      0.002         0.502     2.274\n",
        "nodeNum_3                     -0.1660      0.517     -0.321      0.748        -1.179     0.847\n",
        "nodeNum_4                      1.7598      0.823      2.138      0.032         0.147     3.373\n",
        "nodeNum_5                     -1.1513      0.819     -1.406      0.160        -2.756     0.453\n",
        "nodeNum_6                     -1.8339      0.767     -2.392      0.017        -3.337    -0.331\n",
        "nodeNum_8                      0.2154      0.394      0.547      0.584        -0.556     0.987\n",
        "nodeNum_9                     -0.5776      0.313     -1.844      0.065        -1.191     0.036\n",
        "nodeNum_10                    -1.1660      0.323     -3.612      0.000        -1.799    -0.533\n",
        "nodeNum_11                     0.8929      0.443      2.016      0.044         0.025     1.761\n",
        "nodeNum_13                    -2.6992      0.628     -4.301      0.000        -3.929    -1.469\n",
        "nodeNum_14                    -2.4413      0.561     -4.354      0.000        -3.540    -1.342\n",
        "nodeNum_15                    -2.8325      1.038     -2.728      0.006        -4.867    -0.798\n",
        "nodeNum_16                    -1.9299      0.538     -3.585      0.000        -2.985    -0.875\n",
        "nodeNum_19                    -1.9893      0.635     -3.134      0.002        -3.233    -0.745\n",
        "nodeNum_20                    -0.0658      0.382     -0.172      0.863        -0.814     0.682\n",
        "nodeNum_21                     0.3380      0.667      0.507      0.612        -0.968     1.645\n",
        "nodeNum_22                    -0.4651      0.310     -1.499      0.134        -1.073     0.143\n",
        "nodeNum_25                    -1.3240      0.358     -3.694      0.000        -2.026    -0.622\n",
        "nodeNum_26                     0.8849      0.685      1.293      0.196        -0.457     2.227\n",
        "nodeNum_27                    -0.7675      0.433     -1.771      0.076        -1.617     0.082\n",
        "==============================================================================================\n",
        "\"\"\""
       ]
      }
     ],
     "prompt_number": 128
    },
    {
     "cell_type": "code",
     "collapsed": false,
     "input": [
      "print \"The naive model has an AIC of {}, and a BIC of {}\".format(naive_model.aic, naive_model.bic)\n",
      "print \"\"\n",
      "print \"The min10 model has an AIC of {}, and a BIC of {}\".format(min10_model.aic, min10_model.bic)"
     ],
     "language": "python",
     "metadata": {},
     "outputs": [
      {
       "output_type": "stream",
       "stream": "stdout",
       "text": [
        "The naive model has an AIC of 971.684147986, and a BIC of 1065.34496663\n",
        "\n",
        "The min10 model has an AIC of 969.057920472, and a BIC of 1112.21185981\n"
       ]
      }
     ],
     "prompt_number": 130
    },
    {
     "cell_type": "code",
     "collapsed": false,
     "input": [
      "def logit_error_rates(testSet, model, the_classes, res_string):\n",
      "    req_cols = model.pvalues.index.tolist()\n",
      "    logit_probabilitiess = model.predict(np.array(testSet[req_cols]), Transform = False)\n",
      "    logit_predictions = pd.DataFrame([1 if x >= 0.5 else 0 for x in logit_probabilites], columns=[\"Predictions\"],\n",
      "                                     index = testSet.index)\n",
      "    \n",
      "    actual = testSet[[res_string]].copy()\n",
      "    actual.columns = [\"True Class\"]\n",
      "    \n",
      "    prediction_and_reality = pd.merge(logit_predictions, actual, left_index = True, right_index = True)\n",
      "    tot_err = calc_error(prediction_and_reality)\n",
      "    \n",
      "    print \"When using the pure logit model, its various error rates are:\"\n",
      "    print \"Total Error: {}\".format(tot_err)\n",
      "    \n",
      "    groups_and_results = {}\n",
      "    groups_and_results['groups'] = {}\n",
      "    groups_and_results['results'] = {}\n",
      "    for state in the_classes:\n",
      "        groups_and_results['groups'][state] = prediction_and_reality[prediction_and_reality['True Class'] == state]\n",
      "        groups_and_results['results'][state] = calc_error(groups_and_results['groups'][state])\n",
      "        print \"Class {} error rate: {}\".format(state, groups_and_results['results'][state]) \n",
      "    errs = [tot_err] + [groups_and_results['results'][state] for state in classes]\n",
      "    return errs #Return the errors of the pure logit model's predictions."
     ],
     "language": "python",
     "metadata": {},
     "outputs": []
    },
    {
     "cell_type": "code",
     "collapsed": false,
     "input": [
      "reload(hl)"
     ],
     "language": "python",
     "metadata": {},
     "outputs": [
      {
       "metadata": {},
       "output_type": "pyout",
       "prompt_number": 166,
       "text": [
        "<module 'hybrid_logit' from 'hybrid_logit.py'>"
       ]
      }
     ],
     "prompt_number": 166
    },
    {
     "cell_type": "code",
     "collapsed": false,
     "input": [
      "def initialize_logit(df, res, biggest_cond=1e10, fit='ncg'):\n",
      "    missing_value = 9999\n",
      "    multi_cols = []\n",
      "    continuous_vars = [\"TRAV_SP\", \"NUMOCCS\", \"VSPD_LIM\", \"DRIVER_AGE\"]\n",
      "    for item in continuous_vars: #Iterate over all the continuous variables and create lists of them and their associated versions\n",
      "        multi_cols.append([item, \"{}_interact_{}_{}\".format(item, item, missing_value)])\n",
      "        \n",
      "    cols = df.columns.tolist() #Initialize the list of columns to add variables from\n",
      "    for var in cols: #Iterate through the columns of df\n",
      "        if \"nodeNum\" in var or res == var: #If the variable is a node dummy or the dependent in cols, remove it\n",
      "            cols.remove(var) #Make sure cols only has variables to be added to the model, not variables already in the model\n",
      "    \n",
      "    design = df[cols + [res]]\n",
      "    \n",
      "    possible = []\n",
      "    for col in cols:\n",
      "        fString = res + \" ~ {}\".format(col)\n",
      "        if hl.check_full_rank(design, [col]):\n",
      "            try:\n",
      "                mod = smf.logit(fString, data=design).fit(method=fit)\n",
      "            except inst:\n",
      "                print inst\n",
      "                raise Exception\n",
      "            if mod.pvalues[-1] < 0.2:\n",
      "                possible.append(col)\n",
      "                \n",
      "    model_vars = hl.combat_multi_collinearity(design, possible, [], max_cond = biggest_cond)\n",
      "    final_string = res + \" ~ + \" + \" + \".join(model_vars)\n",
      "    last_mod = smf.logit(final_string, data=design).fit(method=fit)\n",
      "    if last_mod.mle_retvals[\"converged\"]:\n",
      "        return last_mod, final_string\n",
      "    else:\n",
      "        raise Exception(\"The model failed to converge\")   "
     ],
     "language": "python",
     "metadata": {},
     "outputs": [],
     "prompt_number": 2
    },
    {
     "cell_type": "code",
     "collapsed": false,
     "input": [
      "noNode_trainingDesign = hl.design_for_hybrid(pd.read_pickle(\"dataframes/leaf_augmented/trainingSet_DF_min10Tree.pkl\"),\n",
      "                                            pruned_min10_tree)\n",
      "\n",
      "for var in noNode_trainingDesign.columns.tolist():\n",
      "    if \"nodeNum\" in var:\n",
      "        del noNode_trainingDesign[var]\n",
      "\n",
      "logit_init_multi, logit_init_multi_string = initialize_logit(noNode_trainingDesign, \"SER_INJ\", biggest_cond=2000)\n",
      "\n",
      "logit_reduced_multi, logit_reduced_multi_string = hl.reduce_multi_model(logit_init_multi, logit_init_multi_string, \"SER_INJ\",\n",
      "                                                                        noNode_trainingDesign, fit='nm')"
     ],
     "language": "python",
     "metadata": {},
     "outputs": [
      {
       "output_type": "stream",
       "stream": "stdout",
       "text": [
        "Optimization terminated successfully.\n",
        "         Current function value: 0.536089\n",
        "         Iterations: 5\n",
        "         Function evaluations: 6\n",
        "         Gradient evaluations: 10\n",
        "         Hessian evaluations: 5\n",
        "Optimization terminated successfully."
       ]
      },
      {
       "output_type": "stream",
       "stream": "stdout",
       "text": [
        "\n",
        "         Current function value: 0.536127\n",
        "         Iterations: 5\n",
        "         Function evaluations: 6\n",
        "         Gradient evaluations: 10\n",
        "         Hessian evaluations: 5\n",
        "Optimization terminated successfully.\n",
        "         Current function value: 0.537072\n",
        "         Iterations: 5\n",
        "         Function evaluations: 6\n",
        "         Gradient evaluations: 10\n",
        "         Hessian evaluations: 5\n",
        "Optimization terminated successfully.\n",
        "         Current function value: 0.536797\n",
        "         Iterations: 6\n",
        "         Function evaluations: 7\n",
        "         Gradient evaluations: 12\n",
        "         Hessian evaluations: 6\n",
        "Optimization terminated successfully."
       ]
      },
      {
       "output_type": "stream",
       "stream": "stdout",
       "text": [
        "\n",
        "         Current function value: 0.537256\n",
        "         Iterations: 5\n",
        "         Function evaluations: 6\n",
        "         Gradient evaluations: 10\n",
        "         Hessian evaluations: 5\n",
        "Optimization terminated successfully.\n",
        "         Current function value: 0.537299\n",
        "         Iterations: 5\n",
        "         Function evaluations: 6\n",
        "         Gradient evaluations: 10\n",
        "         Hessian evaluations: 5\n",
        "Optimization terminated successfully.\n",
        "         Current function value: 0.537262\n",
        "         Iterations: 5\n",
        "         Function evaluations: 6\n",
        "         Gradient evaluations: 10\n",
        "         Hessian evaluations: 5\n",
        "Optimization terminated successfully."
       ]
      },
      {
       "output_type": "stream",
       "stream": "stdout",
       "text": [
        "\n",
        "         Current function value: 0.536501\n",
        "         Iterations: 5\n",
        "         Function evaluations: 6\n",
        "         Gradient evaluations: 10\n",
        "         Hessian evaluations: 5\n",
        "Optimization terminated successfully.\n",
        "         Current function value: 0.537060\n",
        "         Iterations: 4\n",
        "         Function evaluations: 5\n",
        "         Gradient evaluations: 8\n",
        "         Hessian evaluations: 4\n",
        "Optimization terminated successfully.\n",
        "         Current function value: 0.536100\n",
        "         Iterations: 6\n",
        "         Function evaluations: 7\n",
        "         Gradient evaluations: 12\n",
        "         Hessian evaluations: 6\n",
        "Optimization terminated successfully."
       ]
      },
      {
       "output_type": "stream",
       "stream": "stdout",
       "text": [
        "\n",
        "         Current function value: 0.535583\n",
        "         Iterations: 5\n",
        "         Function evaluations: 6\n",
        "         Gradient evaluations: 10\n",
        "         Hessian evaluations: 5\n",
        "Optimization terminated successfully.\n",
        "         Current function value: 0.537059\n",
        "         Iterations: 5\n",
        "         Function evaluations: 6\n",
        "         Gradient evaluations: 10\n",
        "         Hessian evaluations: 5\n",
        "Optimization terminated successfully.\n",
        "         Current function value: 0.536934\n",
        "         Iterations: 6\n",
        "         Function evaluations: 7\n",
        "         Gradient evaluations: 12\n",
        "         Hessian evaluations: 6\n",
        "Optimization terminated successfully."
       ]
      },
      {
       "output_type": "stream",
       "stream": "stdout",
       "text": [
        "\n",
        "         Current function value: 0.537176\n",
        "         Iterations: 6\n",
        "         Function evaluations: 7\n",
        "         Gradient evaluations: 12\n",
        "         Hessian evaluations: 6\n",
        "Optimization terminated successfully.\n",
        "         Current function value: 0.533801\n",
        "         Iterations: 5\n",
        "         Function evaluations: 6\n",
        "         Gradient evaluations: 10\n",
        "         Hessian evaluations: 5\n",
        "Optimization terminated successfully.\n",
        "         Current function value: 0.537224\n",
        "         Iterations: 5\n",
        "         Function evaluations: 6\n",
        "         Gradient evaluations: 10\n",
        "         Hessian evaluations: 5\n",
        "Optimization terminated successfully."
       ]
      },
      {
       "output_type": "stream",
       "stream": "stdout",
       "text": [
        "\n",
        "         Current function value: 0.536801\n",
        "         Iterations: 4\n",
        "         Function evaluations: 5\n",
        "         Gradient evaluations: 8\n",
        "         Hessian evaluations: 4\n",
        "Optimization terminated successfully.\n",
        "         Current function value: 0.537289\n",
        "         Iterations: 5\n",
        "         Function evaluations: 6\n",
        "         Gradient evaluations: 10\n",
        "         Hessian evaluations: 5\n",
        "Optimization terminated successfully.\n",
        "         Current function value: 0.536509\n",
        "         Iterations: 5\n",
        "         Function evaluations: 6\n",
        "         Gradient evaluations: 10\n",
        "         Hessian evaluations: 5\n",
        "Optimization terminated successfully."
       ]
      },
      {
       "output_type": "stream",
       "stream": "stdout",
       "text": [
        "\n",
        "         Current function value: 0.537088\n",
        "         Iterations: 6\n",
        "         Function evaluations: 7\n",
        "         Gradient evaluations: 12\n",
        "         Hessian evaluations: 6\n",
        "Warning: Maximum number of iterations has been exceeded."
       ]
      },
      {
       "output_type": "stream",
       "stream": "stdout",
       "text": [
        "\n",
        "         Current function value: 0.535794\n",
        "         Iterations: 35\n",
        "         Function evaluations: 36\n",
        "         Gradient evaluations: 70\n",
        "         Hessian evaluations: 35\n",
        "Optimization terminated successfully.\n",
        "         Current function value: 0.536728\n",
        "         Iterations: 5\n",
        "         Function evaluations: 6\n",
        "         Gradient evaluations: 10\n",
        "         Hessian evaluations: 5\n",
        "Optimization terminated successfully.\n",
        "         Current function value: 0.536996\n",
        "         Iterations: 6\n",
        "         Function evaluations: 7\n",
        "         Gradient evaluations: 12\n",
        "         Hessian evaluations: 6\n",
        "Warning: Maximum number of iterations has been exceeded."
       ]
      },
      {
       "output_type": "stream",
       "stream": "stdout",
       "text": [
        "\n",
        "         Current function value: 0.537059\n",
        "         Iterations: 35\n",
        "         Function evaluations: 36\n",
        "         Gradient evaluations: 70\n",
        "         Hessian evaluations: 35\n",
        "Optimization terminated successfully.\n",
        "         Current function value: 0.537249\n",
        "         Iterations: 5\n",
        "         Function evaluations: 6\n",
        "         Gradient evaluations: 10\n",
        "         Hessian evaluations: 5\n",
        "Optimization terminated successfully.\n",
        "         Current function value: 0.535589\n",
        "         Iterations: 5\n",
        "         Function evaluations: 6\n",
        "         Gradient evaluations: 10\n",
        "         Hessian evaluations: 5\n",
        "Warning: Maximum number of iterations has been exceeded."
       ]
      },
      {
       "output_type": "stream",
       "stream": "stdout",
       "text": [
        "\n",
        "         Current function value: 0.536806\n",
        "         Iterations: 35\n",
        "         Function evaluations: 36\n",
        "         Gradient evaluations: 70\n",
        "         Hessian evaluations: 35\n",
        "Optimization terminated successfully."
       ]
      },
      {
       "output_type": "stream",
       "stream": "stdout",
       "text": [
        "\n",
        "         Current function value: 0.528491\n",
        "         Iterations: 6\n",
        "         Function evaluations: 7\n",
        "         Gradient evaluations: 12\n",
        "         Hessian evaluations: 6\n",
        "Warning: Maximum number of iterations has been exceeded."
       ]
      },
      {
       "output_type": "stream",
       "stream": "stdout",
       "text": [
        "\n",
        "         Current function value: 0.537059\n",
        "         Iterations: 35\n",
        "         Function evaluations: 36\n",
        "         Gradient evaluations: 70\n",
        "         Hessian evaluations: 35\n",
        "Optimization terminated successfully.\n",
        "         Current function value: 0.536835\n",
        "         Iterations: 5\n",
        "         Function evaluations: 6\n",
        "         Gradient evaluations: 10\n",
        "         Hessian evaluations: 5\n",
        "Optimization terminated successfully."
       ]
      },
      {
       "output_type": "stream",
       "stream": "stdout",
       "text": [
        "\n",
        "         Current function value: 0.533868\n",
        "         Iterations: 5\n",
        "         Function evaluations: 6\n",
        "         Gradient evaluations: 10\n",
        "         Hessian evaluations: 5\n",
        "Optimization terminated successfully.\n",
        "         Current function value: 0.537191\n",
        "         Iterations: 6\n",
        "         Function evaluations: 7\n",
        "         Gradient evaluations: 12\n",
        "         Hessian evaluations: 6\n",
        "Optimization terminated successfully."
       ]
      },
      {
       "output_type": "stream",
       "stream": "stdout",
       "text": [
        "\n",
        "         Current function value: 0.537308\n",
        "         Iterations: 4\n",
        "         Function evaluations: 5\n",
        "         Gradient evaluations: 8\n",
        "         Hessian evaluations: 4\n",
        "Optimization terminated successfully.\n",
        "         Current function value: 0.537172\n",
        "         Iterations: 6\n",
        "         Function evaluations: 7\n",
        "         Gradient evaluations: 12\n",
        "         Hessian evaluations: 6\n",
        "Optimization terminated successfully."
       ]
      },
      {
       "output_type": "stream",
       "stream": "stdout",
       "text": [
        "\n",
        "         Current function value: 0.537249\n",
        "         Iterations: 5\n",
        "         Function evaluations: 6\n",
        "         Gradient evaluations: 10\n",
        "         Hessian evaluations: 5\n",
        "Optimization terminated successfully."
       ]
      },
      {
       "output_type": "stream",
       "stream": "stdout",
       "text": [
        "\n",
        "         Current function value: 0.537219\n",
        "         Iterations: 5\n",
        "         Function evaluations: 6\n",
        "         Gradient evaluations: 10\n",
        "         Hessian evaluations: 5\n",
        "Optimization terminated successfully."
       ]
      },
      {
       "output_type": "stream",
       "stream": "stdout",
       "text": [
        "\n",
        "         Current function value: 0.537172\n",
        "         Iterations: 6\n",
        "         Function evaluations: 7\n",
        "         Gradient evaluations: 12\n",
        "         Hessian evaluations: 6\n",
        "Optimization terminated successfully."
       ]
      },
      {
       "output_type": "stream",
       "stream": "stdout",
       "text": [
        "\n",
        "         Current function value: 0.535951\n",
        "         Iterations: 6\n",
        "         Function evaluations: 7\n",
        "         Gradient evaluations: 12\n",
        "         Hessian evaluations: 6\n",
        "Warning: Maximum number of iterations has been exceeded."
       ]
      },
      {
       "output_type": "stream",
       "stream": "stdout",
       "text": [
        "\n",
        "         Current function value: 0.536806\n",
        "         Iterations: 35\n",
        "         Function evaluations: 36\n",
        "         Gradient evaluations: 70\n",
        "         Hessian evaluations: 35\n",
        "Optimization terminated successfully.\n",
        "         Current function value: 0.537240\n",
        "         Iterations: 5\n",
        "         Function evaluations: 6\n",
        "         Gradient evaluations: 10\n",
        "         Hessian evaluations: 5\n",
        "Warning: Maximum number of iterations has been exceeded."
       ]
      },
      {
       "output_type": "stream",
       "stream": "stdout",
       "text": [
        "\n",
        "         Current function value: 0.536303\n",
        "         Iterations: 35\n",
        "         Function evaluations: 36\n",
        "         Gradient evaluations: 70\n",
        "         Hessian evaluations: 35\n",
        "Warning: Maximum number of iterations has been exceeded."
       ]
      },
      {
       "output_type": "stream",
       "stream": "stdout",
       "text": [
        "\n",
        "         Current function value: 0.537059\n",
        "         Iterations: 35\n",
        "         Function evaluations: 36\n",
        "         Gradient evaluations: 70\n",
        "         Hessian evaluations: 35\n",
        "Optimization terminated successfully.\n",
        "         Current function value: 0.537285\n",
        "         Iterations: 5\n",
        "         Function evaluations: 6\n",
        "         Gradient evaluations: 10\n",
        "         Hessian evaluations: 5\n",
        "Optimization terminated successfully."
       ]
      },
      {
       "output_type": "stream",
       "stream": "stdout",
       "text": [
        "\n",
        "         Current function value: 0.537172\n",
        "         Iterations: 6\n",
        "         Function evaluations: 7\n",
        "         Gradient evaluations: 12\n",
        "         Hessian evaluations: 6\n",
        "Optimization terminated successfully.\n",
        "         Current function value: 0.536625\n",
        "         Iterations: 6\n",
        "         Function evaluations: 7\n",
        "         Gradient evaluations: 12\n",
        "         Hessian evaluations: 6\n",
        "Warning: Maximum number of iterations has been exceeded."
       ]
      },
      {
       "output_type": "stream",
       "stream": "stdout",
       "text": [
        "\n",
        "         Current function value: 0.536806\n",
        "         Iterations: 35\n",
        "         Function evaluations: 36\n",
        "         Gradient evaluations: 70\n",
        "         Hessian evaluations: 35\n",
        "Optimization terminated successfully.\n",
        "         Current function value: 0.536967\n",
        "         Iterations: 6\n",
        "         Function evaluations: 7\n",
        "         Gradient evaluations: 12\n",
        "         Hessian evaluations: 6\n",
        "Warning: Maximum number of iterations has been exceeded."
       ]
      },
      {
       "output_type": "stream",
       "stream": "stdout",
       "text": [
        "\n",
        "         Current function value: 0.537059\n",
        "         Iterations: 35\n",
        "         Function evaluations: 36\n",
        "         Gradient evaluations: 70\n",
        "         Hessian evaluations: 35\n",
        "Warning: Maximum number of iterations has been exceeded."
       ]
      },
      {
       "output_type": "stream",
       "stream": "stdout",
       "text": [
        "\n",
        "         Current function value: 0.536555\n",
        "         Iterations: 35\n",
        "         Function evaluations: 36\n",
        "         Gradient evaluations: 70\n",
        "         Hessian evaluations: 35\n",
        "Optimization terminated successfully.\n",
        "         Current function value: 0.537238\n",
        "         Iterations: 5\n",
        "         Function evaluations: 6\n",
        "         Gradient evaluations: 10\n",
        "         Hessian evaluations: 5\n",
        "Optimization terminated successfully.\n",
        "         Current function value: 0.536281\n",
        "         Iterations: 6\n",
        "         Function evaluations: 7\n",
        "         Gradient evaluations: 12\n",
        "         Hessian evaluations: 6\n",
        "Warning: Maximum number of iterations has been exceeded."
       ]
      },
      {
       "output_type": "stream",
       "stream": "stdout",
       "text": [
        "\n",
        "         Current function value: 0.536806\n",
        "         Iterations: 35\n",
        "         Function evaluations: 36\n",
        "         Gradient evaluations: 70\n",
        "         Hessian evaluations: 35\n",
        "Optimization terminated successfully.\n",
        "         Current function value: 0.537302\n",
        "         Iterations: 6\n",
        "         Function evaluations: 7\n",
        "         Gradient evaluations: 12\n",
        "         Hessian evaluations: 6\n",
        "Warning: Maximum number of iterations has been exceeded."
       ]
      },
      {
       "output_type": "stream",
       "stream": "stdout",
       "text": [
        "\n",
        "         Current function value: 0.537059\n",
        "         Iterations: 35\n",
        "         Function evaluations: 36\n",
        "         Gradient evaluations: 70\n",
        "         Hessian evaluations: 35\n",
        "Warning: Maximum number of iterations has been exceeded."
       ]
      },
      {
       "output_type": "stream",
       "stream": "stdout",
       "text": [
        "\n",
        "         Current function value: 0.535873\n",
        "         Iterations: 35\n",
        "         Function evaluations: 36\n",
        "         Gradient evaluations: 70\n",
        "         Hessian evaluations: 35\n",
        "Warning: Maximum number of iterations has been exceeded."
       ]
      },
      {
       "output_type": "stream",
       "stream": "stdout",
       "text": [
        "\n",
        "         Current function value: 0.535287\n",
        "         Iterations: 35\n",
        "         Function evaluations: 36\n",
        "         Gradient evaluations: 70\n",
        "         Hessian evaluations: 35\n",
        "Optimization terminated successfully.\n",
        "         Current function value: 0.536268\n",
        "         Iterations: 5\n",
        "         Function evaluations: 6\n",
        "         Gradient evaluations: 10\n",
        "         Hessian evaluations: 5\n",
        "Optimization terminated successfully.\n",
        "         Current function value: 0.536588\n",
        "         Iterations: 6\n",
        "         Function evaluations: 7\n",
        "         Gradient evaluations: 12\n",
        "         Hessian evaluations: 6\n",
        "Warning: Maximum number of iterations has been exceeded."
       ]
      },
      {
       "output_type": "stream",
       "stream": "stdout",
       "text": [
        "\n",
        "         Current function value: 0.535873\n",
        "         Iterations: 35\n",
        "         Function evaluations: 36\n",
        "         Gradient evaluations: 70\n",
        "         Hessian evaluations: 35\n",
        "Optimization terminated successfully.\n",
        "         Current function value: 0.537303\n",
        "         Iterations: 5\n",
        "         Function evaluations: 6\n",
        "         Gradient evaluations: 10\n",
        "         Hessian evaluations: 5\n",
        "Optimization terminated successfully.\n",
        "         Current function value: 0.536805\n",
        "         Iterations: 5\n",
        "         Function evaluations: 6\n",
        "         Gradient evaluations: 10\n",
        "         Hessian evaluations: 5\n",
        "Warning: Maximum number of iterations has been exceeded."
       ]
      },
      {
       "output_type": "stream",
       "stream": "stdout",
       "text": [
        "\n",
        "         Current function value: 0.537059\n",
        "         Iterations: 35\n",
        "         Function evaluations: 36\n",
        "         Gradient evaluations: 70\n",
        "         Hessian evaluations: 35\n",
        "Optimization terminated successfully.\n",
        "         Current function value: 0.536419\n",
        "         Iterations: 5\n",
        "         Function evaluations: 6\n",
        "         Gradient evaluations: 10\n",
        "         Hessian evaluations: 5\n",
        "Optimization terminated successfully.\n",
        "         Current function value: 0.536888\n",
        "         Iterations: 6\n",
        "         Function evaluations: 7\n",
        "         Gradient evaluations: 12\n",
        "         Hessian evaluations: 6\n",
        "Optimization terminated successfully."
       ]
      },
      {
       "output_type": "stream",
       "stream": "stdout",
       "text": [
        "\n",
        "         Current function value: 0.535530\n",
        "         Iterations: 5\n",
        "         Function evaluations: 6\n",
        "         Gradient evaluations: 10\n",
        "         Hessian evaluations: 5\n",
        "Optimization terminated successfully.\n",
        "         Current function value: 0.536306\n",
        "         Iterations: 6\n",
        "         Function evaluations: 7\n",
        "         Gradient evaluations: 12\n",
        "         Hessian evaluations: 6\n",
        "Optimization terminated successfully.\n",
        "         Current function value: 0.537172\n",
        "         Iterations: 6\n",
        "         Function evaluations: 7\n",
        "         Gradient evaluations: 12\n",
        "         Hessian evaluations: 6\n",
        "Optimization terminated successfully."
       ]
      },
      {
       "output_type": "stream",
       "stream": "stdout",
       "text": [
        "\n",
        "         Current function value: 0.537273\n",
        "         Iterations: 5\n",
        "         Function evaluations: 6\n",
        "         Gradient evaluations: 10\n",
        "         Hessian evaluations: 5\n",
        "Optimization terminated successfully.\n",
        "         Current function value: 0.537285\n",
        "         Iterations: 5\n",
        "         Function evaluations: 6\n",
        "         Gradient evaluations: 10\n",
        "         Hessian evaluations: 5\n",
        "Optimization terminated successfully.\n",
        "         Current function value: 0.537247\n",
        "         Iterations: 5\n",
        "         Function evaluations: 6\n",
        "         Gradient evaluations: 10\n",
        "         Hessian evaluations: 5\n",
        "Optimization terminated successfully."
       ]
      },
      {
       "output_type": "stream",
       "stream": "stdout",
       "text": [
        "\n",
        "         Current function value: 0.537031\n",
        "         Iterations: 6\n",
        "         Function evaluations: 7\n",
        "         Gradient evaluations: 12\n",
        "         Hessian evaluations: 6\n",
        "Optimization terminated successfully.\n",
        "         Current function value: 0.535909\n",
        "         Iterations: 6\n",
        "         Function evaluations: 7\n",
        "         Gradient evaluations: 12\n",
        "         Hessian evaluations: 6\n",
        "Optimization terminated successfully.\n",
        "         Current function value: 0.537308\n",
        "         Iterations: 4\n",
        "         Function evaluations: 5\n",
        "         Gradient evaluations: 8\n",
        "         Hessian evaluations: 4\n",
        "Optimization terminated successfully."
       ]
      },
      {
       "output_type": "stream",
       "stream": "stdout",
       "text": [
        "\n",
        "         Current function value: 0.537113\n",
        "         Iterations: 5\n",
        "         Function evaluations: 6\n",
        "         Gradient evaluations: 10\n",
        "         Hessian evaluations: 5\n",
        "Warning: Maximum number of iterations has been exceeded."
       ]
      },
      {
       "output_type": "stream",
       "stream": "stdout",
       "text": [
        "\n",
        "         Current function value: 0.537059\n",
        "         Iterations: 35\n",
        "         Function evaluations: 36\n",
        "         Gradient evaluations: 70\n",
        "         Hessian evaluations: 35\n",
        "Warning: Maximum number of iterations has been exceeded."
       ]
      },
      {
       "output_type": "stream",
       "stream": "stdout",
       "text": [
        "\n",
        "         Current function value: 0.537059\n",
        "         Iterations: 35\n",
        "         Function evaluations: 36\n",
        "         Gradient evaluations: 70\n",
        "         Hessian evaluations: 35\n",
        "Warning: Maximum number of iterations has been exceeded."
       ]
      },
      {
       "output_type": "stream",
       "stream": "stdout",
       "text": [
        "\n",
        "         Current function value: 0.537059\n",
        "         Iterations: 35\n",
        "         Function evaluations: 36\n",
        "         Gradient evaluations: 70\n",
        "         Hessian evaluations: 35\n",
        "Optimization terminated successfully.\n",
        "         Current function value: 0.536556\n",
        "         Iterations: 6\n",
        "         Function evaluations: 7\n",
        "         Gradient evaluations: 12\n",
        "         Hessian evaluations: 6\n",
        "Optimization terminated successfully.\n",
        "         Current function value: 0.537036\n",
        "         Iterations: 6\n",
        "         Function evaluations: 7\n",
        "         Gradient evaluations: 12\n",
        "         Hessian evaluations: 6\n",
        "Optimization terminated successfully."
       ]
      },
      {
       "output_type": "stream",
       "stream": "stdout",
       "text": [
        "\n",
        "         Current function value: 0.536625\n",
        "         Iterations: 6\n",
        "         Function evaluations: 7\n",
        "         Gradient evaluations: 12\n",
        "         Hessian evaluations: 6\n",
        "Optimization terminated successfully.\n",
        "         Current function value: 0.537283\n",
        "         Iterations: 4\n",
        "         Function evaluations: 5\n",
        "         Gradient evaluations: 8\n",
        "         Hessian evaluations: 4\n",
        "Optimization terminated successfully.\n",
        "         Current function value: 0.537020\n",
        "         Iterations: 6\n",
        "         Function evaluations: 7\n",
        "         Gradient evaluations: 12\n",
        "         Hessian evaluations: 6\n",
        "Optimization terminated successfully."
       ]
      },
      {
       "output_type": "stream",
       "stream": "stdout",
       "text": [
        "\n",
        "         Current function value: 0.537174\n",
        "         Iterations: 6\n",
        "         Function evaluations: 7\n",
        "         Gradient evaluations: 12\n",
        "         Hessian evaluations: 6\n",
        "Optimization terminated successfully.\n",
        "         Current function value: 0.537191\n",
        "         Iterations: 6\n",
        "         Function evaluations: 7\n",
        "         Gradient evaluations: 12\n",
        "         Hessian evaluations: 6\n",
        "Optimization terminated successfully.\n",
        "         Current function value: 0.535674\n",
        "         Iterations: 5\n",
        "         Function evaluations: 6\n",
        "         Gradient evaluations: 10\n",
        "         Hessian evaluations: 5\n",
        "Optimization terminated successfully."
       ]
      },
      {
       "output_type": "stream",
       "stream": "stdout",
       "text": [
        "\n",
        "         Current function value: 0.536736\n",
        "         Iterations: 5\n",
        "         Function evaluations: 6\n",
        "         Gradient evaluations: 10\n",
        "         Hessian evaluations: 5\n",
        "Optimization terminated successfully.\n",
        "         Current function value: 0.536874\n",
        "         Iterations: 5\n",
        "         Function evaluations: 6\n",
        "         Gradient evaluations: 10\n",
        "         Hessian evaluations: 5\n",
        "Optimization terminated successfully.\n",
        "         Current function value: 0.537259\n",
        "         Iterations: 5\n",
        "         Function evaluations: 6\n",
        "         Gradient evaluations: 10\n",
        "         Hessian evaluations: 5\n",
        "Optimization terminated successfully."
       ]
      },
      {
       "output_type": "stream",
       "stream": "stdout",
       "text": [
        "\n",
        "         Current function value: 0.536928\n",
        "         Iterations: 6\n",
        "         Function evaluations: 7\n",
        "         Gradient evaluations: 12\n",
        "         Hessian evaluations: 6\n",
        "Optimization terminated successfully.\n",
        "         Current function value: 0.535761\n",
        "         Iterations: 5\n",
        "         Function evaluations: 6\n",
        "         Gradient evaluations: 10\n",
        "         Hessian evaluations: 5\n",
        "Warning: Maximum number of iterations has been exceeded."
       ]
      },
      {
       "output_type": "stream",
       "stream": "stdout",
       "text": [
        "\n",
        "         Current function value: 0.536303\n",
        "         Iterations: 35\n",
        "         Function evaluations: 36\n",
        "         Gradient evaluations: 70\n",
        "         Hessian evaluations: 35\n",
        "Optimization terminated successfully.\n",
        "         Current function value: 0.535674\n",
        "         Iterations: 5\n",
        "         Function evaluations: 6\n",
        "         Gradient evaluations: 10\n",
        "         Hessian evaluations: 5\n",
        "Optimization terminated successfully.\n",
        "         Current function value: 0.533137\n",
        "         Iterations: 6\n",
        "         Function evaluations: 7\n",
        "         Gradient evaluations: 12\n",
        "         Hessian evaluations: 6\n",
        "Optimization terminated successfully."
       ]
      },
      {
       "output_type": "stream",
       "stream": "stdout",
       "text": [
        "\n",
        "         Current function value: 0.537140\n",
        "         Iterations: 6\n",
        "         Function evaluations: 7\n",
        "         Gradient evaluations: 12\n",
        "         Hessian evaluations: 6\n",
        "Optimization terminated successfully.\n",
        "         Current function value: 0.537307\n",
        "         Iterations: 4\n",
        "         Function evaluations: 5\n",
        "         Gradient evaluations: 8\n",
        "         Hessian evaluations: 4\n",
        "Optimization terminated successfully.\n",
        "         Current function value: 0.535969\n",
        "         Iterations: 6\n",
        "         Function evaluations: 7\n",
        "         Gradient evaluations: 12\n",
        "         Hessian evaluations: 6\n",
        "Optimization terminated successfully."
       ]
      },
      {
       "output_type": "stream",
       "stream": "stdout",
       "text": [
        "\n",
        "         Current function value: 0.535674\n",
        "         Iterations: 5\n",
        "         Function evaluations: 6\n",
        "         Gradient evaluations: 10\n",
        "         Hessian evaluations: 5\n",
        "Optimization terminated successfully.\n",
        "         Current function value: 0.525022\n",
        "         Iterations: 6\n",
        "         Function evaluations: 7\n",
        "         Gradient evaluations: 12\n",
        "         Hessian evaluations: 6\n",
        "Optimization terminated successfully.\n",
        "         Current function value: 0.535157\n",
        "         Iterations: 5\n",
        "         Function evaluations: 6\n",
        "         Gradient evaluations: 10\n",
        "         Hessian evaluations: 5\n",
        "Optimization terminated successfully."
       ]
      },
      {
       "output_type": "stream",
       "stream": "stdout",
       "text": [
        "\n",
        "         Current function value: 0.537056\n",
        "         Iterations: 6\n",
        "         Function evaluations: 7\n",
        "         Gradient evaluations: 12\n",
        "         Hessian evaluations: 6\n",
        "Optimization terminated successfully.\n",
        "         Current function value: 0.536967\n",
        "         Iterations: 6\n",
        "         Function evaluations: 7\n",
        "         Gradient evaluations: 12\n",
        "         Hessian evaluations: 6\n",
        "Optimization terminated successfully.\n",
        "         Current function value: 0.537240\n",
        "         Iterations: 5\n",
        "         Function evaluations: 6\n",
        "         Gradient evaluations: 10\n",
        "         Hessian evaluations: 5\n",
        "Optimization terminated successfully."
       ]
      },
      {
       "output_type": "stream",
       "stream": "stdout",
       "text": [
        "\n",
        "         Current function value: 0.536604\n",
        "         Iterations: 6\n",
        "         Function evaluations: 7\n",
        "         Gradient evaluations: 12\n",
        "         Hessian evaluations: 6\n",
        "Optimization terminated successfully.\n",
        "         Current function value: 0.535674\n",
        "         Iterations: 5\n",
        "         Function evaluations: 6\n",
        "         Gradient evaluations: 10\n",
        "         Hessian evaluations: 5\n",
        "Optimization terminated successfully.\n",
        "         Current function value: 0.536549\n",
        "         Iterations: 5\n",
        "         Function evaluations: 6\n",
        "         Gradient evaluations: 10\n",
        "         Hessian evaluations: 5\n",
        "Optimization terminated successfully."
       ]
      },
      {
       "output_type": "stream",
       "stream": "stdout",
       "text": [
        "\n",
        "         Current function value: 0.537301\n",
        "         Iterations: 5\n",
        "         Function evaluations: 6\n",
        "         Gradient evaluations: 10\n",
        "         Hessian evaluations: 5\n",
        "Warning: Maximum number of iterations has been exceeded."
       ]
      },
      {
       "output_type": "stream",
       "stream": "stdout",
       "text": [
        "\n",
        "         Current function value: 0.537059\n",
        "         Iterations: 35\n",
        "         Function evaluations: 36\n",
        "         Gradient evaluations: 70\n",
        "         Hessian evaluations: 35\n",
        "Warning: Maximum number of iterations has been exceeded."
       ]
      },
      {
       "output_type": "stream",
       "stream": "stdout",
       "text": [
        "\n",
        "         Current function value: 0.535873\n",
        "         Iterations: 35\n",
        "         Function evaluations: 36\n",
        "         Gradient evaluations: 70\n",
        "         Hessian evaluations: 35\n",
        "Warning: Maximum number of iterations has been exceeded."
       ]
      },
      {
       "output_type": "stream",
       "stream": "stdout",
       "text": [
        "\n",
        "         Current function value: 0.537059\n",
        "         Iterations: 35\n",
        "         Function evaluations: 36\n",
        "         Gradient evaluations: 70\n",
        "         Hessian evaluations: 35\n",
        "Optimization terminated successfully.\n",
        "         Current function value: 0.532382\n",
        "         Iterations: 5\n",
        "         Function evaluations: 6\n",
        "         Gradient evaluations: 10\n",
        "         Hessian evaluations: 5\n",
        "Optimization terminated successfully.\n",
        "         Current function value: 0.537261\n",
        "         Iterations: 5\n",
        "         Function evaluations: 6\n",
        "         Gradient evaluations: 10\n",
        "         Hessian evaluations: 5\n",
        "Optimization terminated successfully."
       ]
      },
      {
       "output_type": "stream",
       "stream": "stdout",
       "text": [
        "\n",
        "         Current function value: 0.536483\n",
        "         Iterations: 5\n",
        "         Function evaluations: 6\n",
        "         Gradient evaluations: 10\n",
        "         Hessian evaluations: 5\n",
        "Warning: Maximum number of iterations has been exceeded."
       ]
      },
      {
       "output_type": "stream",
       "stream": "stdout",
       "text": [
        "\n",
        "         Current function value: 0.536806\n",
        "         Iterations: 35\n",
        "         Function evaluations: 36\n",
        "         Gradient evaluations: 70\n",
        "         Hessian evaluations: 35\n",
        "Optimization terminated successfully.\n",
        "         Current function value: 0.534205\n",
        "         Iterations: 5\n",
        "         Function evaluations: 6\n",
        "         Gradient evaluations: 10\n",
        "         Hessian evaluations: 5\n",
        "Optimization terminated successfully.\n",
        "         Current function value: 0.537296\n",
        "         Iterations: 5\n",
        "         Function evaluations: 6\n",
        "         Gradient evaluations: 10\n",
        "         Hessian evaluations: 5\n",
        "Warning: Maximum number of iterations has been exceeded."
       ]
      },
      {
       "output_type": "stream",
       "stream": "stdout",
       "text": [
        "\n",
        "         Current function value: 0.537059\n",
        "         Iterations: 35\n",
        "         Function evaluations: 36\n",
        "         Gradient evaluations: 70\n",
        "         Hessian evaluations: 35\n",
        "Optimization terminated successfully.\n",
        "         Current function value: 0.532382\n",
        "         Iterations: 5\n",
        "         Function evaluations: 6\n",
        "         Gradient evaluations: 10\n",
        "         Hessian evaluations: 5\n",
        "Warning: Maximum number of iterations has been exceeded."
       ]
      },
      {
       "output_type": "stream",
       "stream": "stdout",
       "text": [
        "\n",
        "         Current function value: 0.537059\n",
        "         Iterations: 35\n",
        "         Function evaluations: 36\n",
        "         Gradient evaluations: 70\n",
        "         Hessian evaluations: 35\n",
        "Optimization terminated successfully.\n",
        "         Current function value: 0.534080\n",
        "         Iterations: 5\n",
        "         Function evaluations: 6\n",
        "         Gradient evaluations: 10\n",
        "         Hessian evaluations: 5\n",
        "Warning: Maximum number of iterations has been exceeded."
       ]
      },
      {
       "output_type": "stream",
       "stream": "stdout",
       "text": [
        "\n",
        "         Current function value: 0.537059\n",
        "         Iterations: 35\n",
        "         Function evaluations: 36\n",
        "         Gradient evaluations: 70\n",
        "         Hessian evaluations: 35\n",
        "Warning: Maximum number of iterations has been exceeded."
       ]
      },
      {
       "output_type": "stream",
       "stream": "stdout",
       "text": [
        "\n",
        "         Current function value: 0.537059\n",
        "         Iterations: 35\n",
        "         Function evaluations: 36\n",
        "         Gradient evaluations: 70\n",
        "         Hessian evaluations: 35\n",
        "Optimization terminated successfully.\n",
        "         Current function value: 0.537303\n",
        "         Iterations: 5\n",
        "         Function evaluations: 6\n",
        "         Gradient evaluations: 10\n",
        "         Hessian evaluations: 5\n",
        "Optimization terminated successfully."
       ]
      },
      {
       "output_type": "stream",
       "stream": "stdout",
       "text": [
        "\n",
        "         Current function value: 0.537250\n",
        "         Iterations: 5\n",
        "         Function evaluations: 6\n",
        "         Gradient evaluations: 10\n",
        "         Hessian evaluations: 5\n",
        "Warning: Maximum number of iterations has been exceeded."
       ]
      },
      {
       "output_type": "stream",
       "stream": "stdout",
       "text": [
        "\n",
        "         Current function value: 0.532990\n",
        "         Iterations: 35\n",
        "         Function evaluations: 36\n",
        "         Gradient evaluations: 70\n",
        "         Hessian evaluations: 35\n",
        "Optimization terminated successfully.\n",
        "         Current function value: 0.537174\n",
        "         Iterations: 6\n",
        "         Function evaluations: 7\n",
        "         Gradient evaluations: 12\n",
        "         Hessian evaluations: 6\n",
        "Optimization terminated successfully."
       ]
      },
      {
       "output_type": "stream",
       "stream": "stdout",
       "text": [
        "\n",
        "         Current function value: 0.537292\n",
        "         Iterations: 5\n",
        "         Function evaluations: 6\n",
        "         Gradient evaluations: 10\n",
        "         Hessian evaluations: 5\n",
        "Optimization terminated successfully.\n",
        "         Current function value: 0.533056\n",
        "         Iterations: 6\n",
        "         Function evaluations: 7\n",
        "         Gradient evaluations: 12\n",
        "         Hessian evaluations: 6\n",
        "Optimization terminated successfully."
       ]
      },
      {
       "output_type": "stream",
       "stream": "stdout",
       "text": [
        "\n",
        "         Current function value: 0.537284\n",
        "         Iterations: 5\n",
        "         Function evaluations: 6\n",
        "         Gradient evaluations: 10\n",
        "         Hessian evaluations: 5\n",
        "Warning: Maximum number of iterations has been exceeded."
       ]
      },
      {
       "output_type": "stream",
       "stream": "stdout",
       "text": [
        "\n",
        "         Current function value: 0.537059\n",
        "         Iterations: 35\n",
        "         Function evaluations: 36\n",
        "         Gradient evaluations: 70\n",
        "         Hessian evaluations: 35\n",
        "Warning: Maximum number of iterations has been exceeded."
       ]
      },
      {
       "output_type": "stream",
       "stream": "stdout",
       "text": [
        "\n",
        "         Current function value: 0.537059\n",
        "         Iterations: 35\n",
        "         Function evaluations: 36\n",
        "         Gradient evaluations: 70\n",
        "         Hessian evaluations: 35\n",
        "Optimization terminated successfully.\n",
        "         Current function value: 0.536961\n",
        "         Iterations: 6\n",
        "         Function evaluations: 7\n",
        "         Gradient evaluations: 12\n",
        "         Hessian evaluations: 6\n",
        "Warning: Maximum number of iterations has been exceeded."
       ]
      },
      {
       "output_type": "stream",
       "stream": "stdout",
       "text": [
        "\n",
        "         Current function value: 0.537059\n",
        "         Iterations: 35\n",
        "         Function evaluations: 36\n",
        "         Gradient evaluations: 70\n",
        "         Hessian evaluations: 35\n",
        "Optimization terminated successfully.\n",
        "         Current function value: 0.536262\n",
        "         Iterations: 5\n",
        "         Function evaluations: 6\n",
        "         Gradient evaluations: 10\n",
        "         Hessian evaluations: 5\n",
        "Optimization terminated successfully.\n",
        "         Current function value: 0.536222\n",
        "         Iterations: 6\n",
        "         Function evaluations: 7\n",
        "         Gradient evaluations: 12\n",
        "         Hessian evaluations: 6\n",
        "Warning: Maximum number of iterations has been exceeded."
       ]
      },
      {
       "output_type": "stream",
       "stream": "stdout",
       "text": [
        "\n",
        "         Current function value: 0.535873\n",
        "         Iterations: 35\n",
        "         Function evaluations: 36\n",
        "         Gradient evaluations: 70\n",
        "         Hessian evaluations: 35\n",
        "Optimization terminated successfully.\n",
        "         Current function value: 0.534925\n",
        "         Iterations: 7\n",
        "         Function evaluations: 8\n",
        "         Gradient evaluations: 14\n",
        "         Hessian evaluations: 7\n",
        "Warning: Maximum number of iterations has been exceeded."
       ]
      },
      {
       "output_type": "stream",
       "stream": "stdout",
       "text": [
        "\n",
        "         Current function value: 0.535873\n",
        "         Iterations: 35\n",
        "         Function evaluations: 36\n",
        "         Gradient evaluations: 70\n",
        "         Hessian evaluations: 35\n",
        "Optimization terminated successfully.\n",
        "         Current function value: 0.537271\n",
        "         Iterations: 5\n",
        "         Function evaluations: 6\n",
        "         Gradient evaluations: 10\n",
        "         Hessian evaluations: 5\n",
        "Optimization terminated successfully.\n",
        "         Current function value: 0.536390\n",
        "         Iterations: 6\n",
        "         Function evaluations: 7\n",
        "         Gradient evaluations: 12\n",
        "         Hessian evaluations: 6\n",
        "Optimization terminated successfully."
       ]
      },
      {
       "output_type": "stream",
       "stream": "stdout",
       "text": [
        "\n",
        "         Current function value: 0.535759\n",
        "         Iterations: 6\n",
        "         Function evaluations: 7\n",
        "         Gradient evaluations: 12\n",
        "         Hessian evaluations: 6\n",
        "Warning: Maximum number of iterations has been exceeded."
       ]
      },
      {
       "output_type": "stream",
       "stream": "stdout",
       "text": [
        "\n",
        "         Current function value: 0.537059\n",
        "         Iterations: 35\n",
        "         Function evaluations: 36\n",
        "         Gradient evaluations: 70\n",
        "         Hessian evaluations: 35\n",
        "Optimization terminated successfully.\n",
        "         Current function value: 0.534596\n",
        "         Iterations: 5\n",
        "         Function evaluations: 6\n",
        "         Gradient evaluations: 10\n",
        "         Hessian evaluations: 5\n",
        "Optimization terminated successfully.\n",
        "         Current function value: 0.537224\n",
        "         Iterations: 5\n",
        "         Function evaluations: 6\n",
        "         Gradient evaluations: 10\n",
        "         Hessian evaluations: 5\n",
        "Warning: Maximum number of iterations has been exceeded."
       ]
      },
      {
       "output_type": "stream",
       "stream": "stdout",
       "text": [
        "\n",
        "         Current function value: 0.536303\n",
        "         Iterations: 35\n",
        "         Function evaluations: 36\n",
        "         Gradient evaluations: 70\n",
        "         Hessian evaluations: 35\n",
        "Optimization terminated successfully.\n",
        "         Current function value: 0.536967\n",
        "         Iterations: 6\n",
        "         Function evaluations: 7\n",
        "         Gradient evaluations: 12\n",
        "         Hessian evaluations: 6\n",
        "Warning: Maximum number of iterations has been exceeded."
       ]
      },
      {
       "output_type": "stream",
       "stream": "stdout",
       "text": [
        "\n",
        "         Current function value: 0.537059\n",
        "         Iterations: 35\n",
        "         Function evaluations: 36\n",
        "         Gradient evaluations: 70\n",
        "         Hessian evaluations: 35\n",
        "Warning: Maximum number of iterations has been exceeded.\n",
        "         Current function value: 0.535873\n",
        "         Iterations: 35\n",
        "         Function evaluations: 36\n",
        "         Gradient evaluations: 70\n",
        "         Hessian evaluations: 35\n",
        "Optimization terminated successfully."
       ]
      },
      {
       "output_type": "stream",
       "stream": "stdout",
       "text": [
        "\n",
        "         Current function value: 0.536120\n",
        "         Iterations: 5\n",
        "         Function evaluations: 6\n",
        "         Gradient evaluations: 10\n",
        "         Hessian evaluations: 5\n",
        "Optimization terminated successfully.\n",
        "         Current function value: 0.536882\n",
        "         Iterations: 6\n",
        "         Function evaluations: 7\n",
        "         Gradient evaluations: 12\n",
        "         Hessian evaluations: 6\n",
        "Warning: Maximum number of iterations has been exceeded."
       ]
      },
      {
       "output_type": "stream",
       "stream": "stdout",
       "text": [
        "\n",
        "         Current function value: 0.535873\n",
        "         Iterations: 35\n",
        "         Function evaluations: 36\n",
        "         Gradient evaluations: 70\n",
        "         Hessian evaluations: 35\n",
        "Optimization terminated successfully.\n",
        "         Current function value: 0.536009\n",
        "         Iterations: 6\n",
        "         Function evaluations: 7\n",
        "         Gradient evaluations: 12\n",
        "         Hessian evaluations: 6\n",
        "Optimization terminated successfully."
       ]
      },
      {
       "output_type": "stream",
       "stream": "stdout",
       "text": [
        "\n",
        "         Current function value: 0.537303\n",
        "         Iterations: 5\n",
        "         Function evaluations: 6\n",
        "         Gradient evaluations: 10\n",
        "         Hessian evaluations: 5\n",
        "Optimization terminated successfully.\n",
        "         Current function value: 0.537020\n",
        "         Iterations: 6\n",
        "         Function evaluations: 7\n",
        "         Gradient evaluations: 12\n",
        "         Hessian evaluations: 6\n",
        "Optimization terminated successfully."
       ]
      },
      {
       "output_type": "stream",
       "stream": "stdout",
       "text": [
        "\n",
        "         Current function value: 0.536711\n",
        "         Iterations: 6\n",
        "         Function evaluations: 7\n",
        "         Gradient evaluations: 12\n",
        "         Hessian evaluations: 6\n",
        "Optimization terminated successfully.\n",
        "         Current function value: 0.536438\n",
        "         Iterations: 7\n",
        "         Function evaluations: 8\n",
        "         Gradient evaluations: 14\n",
        "         Hessian evaluations: 7\n",
        "Optimization terminated successfully."
       ]
      },
      {
       "output_type": "stream",
       "stream": "stdout",
       "text": [
        "\n",
        "         Current function value: 0.532984\n",
        "         Iterations: 6\n",
        "         Function evaluations: 7\n",
        "         Gradient evaluations: 12\n",
        "         Hessian evaluations: 6\n",
        "Warning: Maximum number of iterations has been exceeded."
       ]
      },
      {
       "output_type": "stream",
       "stream": "stdout",
       "text": [
        "\n",
        "         Current function value: 0.537059\n",
        "         Iterations: 35\n",
        "         Function evaluations: 36\n",
        "         Gradient evaluations: 70\n",
        "         Hessian evaluations: 35\n",
        "Optimization terminated successfully.\n",
        "         Current function value: 0.537306\n",
        "         Iterations: 6\n",
        "         Function evaluations: 7\n",
        "         Gradient evaluations: 12\n",
        "         Hessian evaluations: 6\n",
        "Warning: Maximum number of iterations has been exceeded."
       ]
      },
      {
       "output_type": "stream",
       "stream": "stdout",
       "text": [
        "\n",
        "         Current function value: 0.535794\n",
        "         Iterations: 35\n",
        "         Function evaluations: 36\n",
        "         Gradient evaluations: 70\n",
        "         Hessian evaluations: 35\n",
        "Optimization terminated successfully.\n",
        "         Current function value: 0.537253\n",
        "         Iterations: 5\n",
        "         Function evaluations: 6\n",
        "         Gradient evaluations: 10\n",
        "         Hessian evaluations: 5\n",
        "Optimization terminated successfully."
       ]
      },
      {
       "output_type": "stream",
       "stream": "stdout",
       "text": [
        "\n",
        "         Current function value: 0.535083\n",
        "         Iterations: 6\n",
        "         Function evaluations: 7\n",
        "         Gradient evaluations: 12\n",
        "         Hessian evaluations: 6\n",
        "Warning: Maximum number of iterations has been exceeded."
       ]
      },
      {
       "output_type": "stream",
       "stream": "stdout",
       "text": [
        "\n",
        "         Current function value: 0.535033\n",
        "         Iterations: 35\n",
        "         Function evaluations: 36\n",
        "         Gradient evaluations: 70\n",
        "         Hessian evaluations: 35\n",
        "Optimization terminated successfully.\n",
        "         Current function value: 0.537306\n",
        "         Iterations: 5\n",
        "         Function evaluations: 6\n",
        "         Gradient evaluations: 10\n",
        "         Hessian evaluations: 5\n",
        "Optimization terminated successfully."
       ]
      },
      {
       "output_type": "stream",
       "stream": "stdout",
       "text": [
        "\n",
        "         Current function value: 0.537298\n",
        "         Iterations: 5\n",
        "         Function evaluations: 6\n",
        "         Gradient evaluations: 10\n",
        "         Hessian evaluations: 5\n",
        "Optimization terminated successfully.\n",
        "         Current function value: 0.535676\n",
        "         Iterations: 5\n",
        "         Function evaluations: 6\n",
        "         Gradient evaluations: 10\n",
        "         Hessian evaluations: 5\n",
        "Optimization terminated successfully.\n",
        "         Current function value: 0.536967\n",
        "         Iterations: 6\n",
        "         Function evaluations: 7\n",
        "         Gradient evaluations: 12\n",
        "         Hessian evaluations: 6\n",
        "Optimization terminated successfully."
       ]
      },
      {
       "output_type": "stream",
       "stream": "stdout",
       "text": [
        "\n",
        "         Current function value: 0.536950\n",
        "         Iterations: 6\n",
        "         Function evaluations: 7\n",
        "         Gradient evaluations: 12\n",
        "         Hessian evaluations: 6\n",
        "Optimization terminated successfully.\n",
        "         Current function value: 0.530066\n",
        "         Iterations: 6\n",
        "         Function evaluations: 7\n",
        "         Gradient evaluations: 12\n",
        "         Hessian evaluations: 6\n",
        "Optimization terminated successfully."
       ]
      },
      {
       "output_type": "stream",
       "stream": "stdout",
       "text": [
        "\n",
        "         Current function value: 0.536147\n",
        "         Iterations: 5\n",
        "         Function evaluations: 6\n",
        "         Gradient evaluations: 10\n",
        "         Hessian evaluations: 5\n",
        "Optimization terminated successfully.\n",
        "         Current function value: 0.537128\n",
        "         Iterations: 6\n",
        "         Function evaluations: 7\n",
        "         Gradient evaluations: 12\n",
        "         Hessian evaluations: 6\n",
        "Warning: Maximum number of iterations has been exceeded."
       ]
      },
      {
       "output_type": "stream",
       "stream": "stdout",
       "text": [
        "\n",
        "         Current function value: 0.537059\n",
        "         Iterations: 35\n",
        "         Function evaluations: 36\n",
        "         Gradient evaluations: 70\n",
        "         Hessian evaluations: 35\n",
        "Optimization terminated successfully.\n",
        "         Current function value: 0.537056\n",
        "         Iterations: 6\n",
        "         Function evaluations: 7\n",
        "         Gradient evaluations: 12\n",
        "         Hessian evaluations: 6\n",
        "Optimization terminated successfully."
       ]
      },
      {
       "output_type": "stream",
       "stream": "stdout",
       "text": [
        "\n",
        "         Current function value: 0.537305\n",
        "         Iterations: 5\n",
        "         Function evaluations: 6\n",
        "         Gradient evaluations: 10\n",
        "         Hessian evaluations: 5\n",
        "Optimization terminated successfully.\n",
        "         Current function value: 0.537013\n",
        "         Iterations: 6\n",
        "         Function evaluations: 7\n",
        "         Gradient evaluations: 12\n",
        "         Hessian evaluations: 6\n",
        "Optimization terminated successfully."
       ]
      },
      {
       "output_type": "stream",
       "stream": "stdout",
       "text": [
        "\n",
        "         Current function value: 0.537240\n",
        "         Iterations: 5\n",
        "         Function evaluations: 6\n",
        "         Gradient evaluations: 10\n",
        "         Hessian evaluations: 5\n",
        "Optimization terminated successfully.\n",
        "         Current function value: 0.536857\n",
        "         Iterations: 6\n",
        "         Function evaluations: 7\n",
        "         Gradient evaluations: 12\n",
        "         Hessian evaluations: 6\n",
        "Optimization terminated successfully.\n",
        "         Current function value: 0.537179\n",
        "         Iterations: 5\n",
        "         Function evaluations: 6\n",
        "         Gradient evaluations: 10\n",
        "         Hessian evaluations: 5\n",
        "Optimization terminated successfully."
       ]
      },
      {
       "output_type": "stream",
       "stream": "stdout",
       "text": [
        "\n",
        "         Current function value: 0.536449\n",
        "         Iterations: 6\n",
        "         Function evaluations: 7\n",
        "         Gradient evaluations: 12\n",
        "         Hessian evaluations: 6\n",
        "Warning: Maximum number of iterations has been exceeded."
       ]
      },
      {
       "output_type": "stream",
       "stream": "stdout",
       "text": [
        "\n",
        "         Current function value: 0.535873\n",
        "         Iterations: 35\n",
        "         Function evaluations: 36\n",
        "         Gradient evaluations: 70\n",
        "         Hessian evaluations: 35\n",
        "Warning: Maximum number of iterations has been exceeded."
       ]
      },
      {
       "output_type": "stream",
       "stream": "stdout",
       "text": [
        "\n",
        "         Current function value: 0.537059\n",
        "         Iterations: 35\n",
        "         Function evaluations: 36\n",
        "         Gradient evaluations: 70\n",
        "         Hessian evaluations: 35\n",
        "Warning: Maximum number of iterations has been exceeded.\n",
        "         Current function value: 0.535873\n",
        "         Iterations: 35\n",
        "         Function evaluations: 36\n",
        "         Gradient evaluations: 70\n",
        "         Hessian evaluations: 35\n"
       ]
      },
      {
       "output_type": "stream",
       "stream": "stdout",
       "text": [
        "Warning: Maximum number of iterations has been exceeded.\n",
        "         Current function value: 0.535541\n",
        "         Iterations: 35\n",
        "         Function evaluations: 36\n",
        "         Gradient evaluations: 70\n",
        "         Hessian evaluations: 35\n",
        "Warning: Maximum number of iterations has been exceeded.\n",
        "         Current function value: 0.537059\n",
        "         Iterations: 35\n",
        "         Function evaluations: 36\n",
        "         Gradient evaluations: 70\n",
        "         Hessian evaluations: 35\n",
        "Warning: Maximum number of iterations has been exceeded."
       ]
      },
      {
       "output_type": "stream",
       "stream": "stdout",
       "text": [
        "\n",
        "         Current function value: 0.535873\n",
        "         Iterations: 35\n",
        "         Function evaluations: 36\n",
        "         Gradient evaluations: 70\n",
        "         Hessian evaluations: 35\n",
        "Warning: Maximum number of iterations has been exceeded."
       ]
      },
      {
       "output_type": "stream",
       "stream": "stdout",
       "text": [
        "\n",
        "         Current function value: 0.537059\n",
        "         Iterations: 35\n",
        "         Function evaluations: 36\n",
        "         Gradient evaluations: 70\n",
        "         Hessian evaluations: 35\n",
        "Optimization terminated successfully.\n",
        "         Current function value: 0.537303\n",
        "         Iterations: 5\n",
        "         Function evaluations: 6\n",
        "         Gradient evaluations: 10\n",
        "         Hessian evaluations: 5\n",
        "Optimization terminated successfully."
       ]
      },
      {
       "output_type": "stream",
       "stream": "stdout",
       "text": [
        "\n",
        "         Current function value: 0.536950\n",
        "         Iterations: 6\n",
        "         Function evaluations: 7\n",
        "         Gradient evaluations: 12\n",
        "         Hessian evaluations: 6\n",
        "Optimization terminated successfully.\n",
        "         Current function value: 0.537056\n",
        "         Iterations: 6\n",
        "         Function evaluations: 7\n",
        "         Gradient evaluations: 12\n",
        "         Hessian evaluations: 6\n",
        "Warning: Maximum number of iterations has been exceeded."
       ]
      },
      {
       "output_type": "stream",
       "stream": "stdout",
       "text": [
        "\n",
        "         Current function value: 0.536303\n",
        "         Iterations: 35\n",
        "         Function evaluations: 36\n",
        "         Gradient evaluations: 70\n",
        "         Hessian evaluations: 35\n",
        "Optimization terminated successfully.\n",
        "         Current function value: 0.536967\n",
        "         Iterations: 6\n",
        "         Function evaluations: 7\n",
        "         Gradient evaluations: 12\n",
        "         Hessian evaluations: 6\n",
        "Optimization terminated successfully."
       ]
      },
      {
       "output_type": "stream",
       "stream": "stdout",
       "text": [
        "\n",
        "         Current function value: 0.536625\n",
        "         Iterations: 6\n",
        "         Function evaluations: 7\n",
        "         Gradient evaluations: 12\n",
        "         Hessian evaluations: 6\n",
        "Optimization terminated successfully.\n",
        "         Current function value: 0.536967\n",
        "         Iterations: 6\n",
        "         Function evaluations: 7\n",
        "         Gradient evaluations: 12\n",
        "         Hessian evaluations: 6\n",
        "Warning: Maximum number of iterations has been exceeded."
       ]
      },
      {
       "output_type": "stream",
       "stream": "stdout",
       "text": [
        "\n",
        "         Current function value: 0.535873\n",
        "         Iterations: 35\n",
        "         Function evaluations: 36\n",
        "         Gradient evaluations: 70\n",
        "         Hessian evaluations: 35\n",
        "Optimization terminated successfully.\n",
        "         Current function value: 0.536460\n",
        "         Iterations: 5\n",
        "         Function evaluations: 6\n",
        "         Gradient evaluations: 10\n",
        "         Hessian evaluations: 5\n",
        "Optimization terminated successfully."
       ]
      },
      {
       "output_type": "stream",
       "stream": "stdout",
       "text": [
        "\n",
        "         Current function value: 0.536961\n",
        "         Iterations: 6\n",
        "         Function evaluations: 7\n",
        "         Gradient evaluations: 12\n",
        "         Hessian evaluations: 6\n",
        "Optimization terminated successfully.\n",
        "         Current function value: 0.536865\n",
        "         Iterations: 6\n",
        "         Function evaluations: 7\n",
        "         Gradient evaluations: 12\n",
        "         Hessian evaluations: 6\n",
        "Optimization terminated successfully."
       ]
      },
      {
       "output_type": "stream",
       "stream": "stdout",
       "text": [
        "\n",
        "         Current function value: 0.535589\n",
        "         Iterations: 5\n",
        "         Function evaluations: 6\n",
        "         Gradient evaluations: 10\n",
        "         Hessian evaluations: 5\n",
        "Optimization terminated successfully.\n",
        "         Current function value: 0.537172\n",
        "         Iterations: 6\n",
        "         Function evaluations: 7\n",
        "         Gradient evaluations: 12\n",
        "         Hessian evaluations: 6\n",
        "Optimization terminated successfully."
       ]
      },
      {
       "output_type": "stream",
       "stream": "stdout",
       "text": [
        "\n",
        "         Current function value: 0.537219\n",
        "         Iterations: 5\n",
        "         Function evaluations: 6\n",
        "         Gradient evaluations: 10\n",
        "         Hessian evaluations: 5\n",
        "Optimization terminated successfully."
       ]
      },
      {
       "output_type": "stream",
       "stream": "stdout",
       "text": [
        "\n",
        "         Current function value: 0.537171\n",
        "         Iterations: 6\n",
        "         Function evaluations: 7\n",
        "         Gradient evaluations: 12\n",
        "         Hessian evaluations: 6\n",
        "Optimization terminated successfully."
       ]
      },
      {
       "output_type": "stream",
       "stream": "stdout",
       "text": [
        "\n",
        "         Current function value: 0.537298\n",
        "         Iterations: 5\n",
        "         Function evaluations: 6\n",
        "         Gradient evaluations: 10\n",
        "         Hessian evaluations: 5\n",
        "Optimization terminated successfully."
       ]
      },
      {
       "output_type": "stream",
       "stream": "stdout",
       "text": [
        "\n",
        "         Current function value: 0.536766\n",
        "         Iterations: 6\n",
        "         Function evaluations: 7\n",
        "         Gradient evaluations: 12\n",
        "         Hessian evaluations: 6\n",
        "Optimization terminated successfully.\n",
        "         Current function value: 0.534936\n",
        "         Iterations: 6\n",
        "         Function evaluations: 7\n",
        "         Gradient evaluations: 12\n",
        "         Hessian evaluations: 6\n",
        "Optimization terminated successfully.\n",
        "         Current function value: 0.537280\n",
        "         Iterations: 5\n",
        "         Function evaluations: 6\n",
        "         Gradient evaluations: 10\n",
        "         Hessian evaluations: 5\n",
        "Optimization terminated successfully."
       ]
      },
      {
       "output_type": "stream",
       "stream": "stdout",
       "text": [
        "\n",
        "         Current function value: 0.536900\n",
        "         Iterations: 5\n",
        "         Function evaluations: 6\n",
        "         Gradient evaluations: 10\n",
        "         Hessian evaluations: 5\n",
        "Warning: Maximum number of iterations has been exceeded."
       ]
      },
      {
       "output_type": "stream",
       "stream": "stdout",
       "text": [
        "\n",
        "         Current function value: 0.537059\n",
        "         Iterations: 35\n",
        "         Function evaluations: 36\n",
        "         Gradient evaluations: 70\n",
        "         Hessian evaluations: 35\n",
        "Warning: Maximum number of iterations has been exceeded."
       ]
      },
      {
       "output_type": "stream",
       "stream": "stdout",
       "text": [
        "\n",
        "         Current function value: 0.537059\n",
        "         Iterations: 35\n",
        "         Function evaluations: 36\n",
        "         Gradient evaluations: 70\n",
        "         Hessian evaluations: 35\n",
        "Optimization terminated successfully.\n",
        "         Current function value: 0.536220\n",
        "         Iterations: 6\n",
        "         Function evaluations: 7\n",
        "         Gradient evaluations: 12\n",
        "         Hessian evaluations: 6\n",
        "Optimization terminated successfully.\n",
        "         Current function value: 0.536905\n",
        "         Iterations: 6\n",
        "         Function evaluations: 7\n",
        "         Gradient evaluations: 12\n",
        "         Hessian evaluations: 6\n",
        "Optimization terminated successfully."
       ]
      },
      {
       "output_type": "stream",
       "stream": "stdout",
       "text": [
        "\n",
        "         Current function value: 0.536625\n",
        "         Iterations: 6\n",
        "         Function evaluations: 7\n",
        "         Gradient evaluations: 12\n",
        "         Hessian evaluations: 6\n",
        "Optimization terminated successfully.\n",
        "         Current function value: 0.537243\n",
        "         Iterations: 5\n",
        "         Function evaluations: 6\n",
        "         Gradient evaluations: 10\n",
        "         Hessian evaluations: 5\n",
        "Optimization terminated successfully."
       ]
      },
      {
       "output_type": "stream",
       "stream": "stdout",
       "text": [
        "\n",
        "         Current function value: 0.536496\n",
        "         Iterations: 6\n",
        "         Function evaluations: 7\n",
        "         Gradient evaluations: 12\n",
        "         Hessian evaluations: 6\n",
        "Optimization terminated successfully.\n",
        "         Current function value: 0.527918\n",
        "         Iterations: 5\n",
        "         Function evaluations: 6\n",
        "         Gradient evaluations: 10\n",
        "         Hessian evaluations: 5\n",
        "Optimization terminated successfully."
       ]
      },
      {
       "output_type": "stream",
       "stream": "stdout",
       "text": [
        "\n",
        "         Current function value: 0.537307\n",
        "         Iterations: 4\n",
        "         Function evaluations: 5\n",
        "         Gradient evaluations: 8\n",
        "         Hessian evaluations: 4\n",
        "Optimization terminated successfully.\n",
        "         Current function value: 0.537200\n",
        "         Iterations: 5\n",
        "         Function evaluations: 6\n",
        "         Gradient evaluations: 10\n",
        "         Hessian evaluations: 5\n",
        "Optimization terminated successfully."
       ]
      },
      {
       "output_type": "stream",
       "stream": "stdout",
       "text": [
        "\n",
        "         Current function value: 0.537280\n",
        "         Iterations: 5\n",
        "         Function evaluations: 6\n",
        "         Gradient evaluations: 10\n",
        "         Hessian evaluations: 5\n",
        "Optimization terminated successfully.\n",
        "         Current function value: 0.537296\n",
        "         Iterations: 5\n",
        "         Function evaluations: 6\n",
        "         Gradient evaluations: 10\n",
        "         Hessian evaluations: 5\n",
        "Warning: Maximum number of iterations has been exceeded."
       ]
      },
      {
       "output_type": "stream",
       "stream": "stdout",
       "text": [
        "\n",
        "         Current function value: 0.537059\n",
        "         Iterations: 35\n",
        "         Function evaluations: 36\n",
        "         Gradient evaluations: 70\n",
        "         Hessian evaluations: 35\n",
        "Warning: Maximum number of iterations has been exceeded."
       ]
      },
      {
       "output_type": "stream",
       "stream": "stdout",
       "text": [
        "\n",
        "         Current function value: 0.536806\n",
        "         Iterations: 35\n",
        "         Function evaluations: 36\n",
        "         Gradient evaluations: 70\n",
        "         Hessian evaluations: 35\n",
        "Optimization terminated successfully.\n",
        "         Current function value: 0.536037\n",
        "         Iterations: 7\n",
        "         Function evaluations: 8\n",
        "         Gradient evaluations: 14\n",
        "         Hessian evaluations: 7\n",
        "Optimization terminated successfully."
       ]
      },
      {
       "output_type": "stream",
       "stream": "stdout",
       "text": [
        "\n",
        "         Current function value: 0.531014\n",
        "         Iterations: 5\n",
        "         Function evaluations: 6\n",
        "         Gradient evaluations: 10\n",
        "         Hessian evaluations: 5\n",
        "Optimization terminated successfully.\n",
        "         Current function value: 0.536593\n",
        "         Iterations: 5\n",
        "         Function evaluations: 6\n",
        "         Gradient evaluations: 10\n",
        "         Hessian evaluations: 5\n",
        "Optimization terminated successfully."
       ]
      },
      {
       "output_type": "stream",
       "stream": "stdout",
       "text": [
        "\n",
        "         Current function value: 0.537296\n",
        "         Iterations: 5\n",
        "         Function evaluations: 6\n",
        "         Gradient evaluations: 10\n",
        "         Hessian evaluations: 5\n",
        "Warning: Maximum number of iterations has been exceeded."
       ]
      },
      {
       "output_type": "stream",
       "stream": "stdout",
       "text": [
        "\n",
        "         Current function value: 0.535794\n",
        "         Iterations: 35\n",
        "         Function evaluations: 36\n",
        "         Gradient evaluations: 70\n",
        "         Hessian evaluations: 35\n",
        "Optimization terminated successfully.\n",
        "         Current function value: 0.536970\n",
        "         Iterations: 6\n",
        "         Function evaluations: 7\n",
        "         Gradient evaluations: 12\n",
        "         Hessian evaluations: 6\n",
        "Warning: Maximum number of iterations has been exceeded."
       ]
      },
      {
       "output_type": "stream",
       "stream": "stdout",
       "text": [
        "\n",
        "         Current function value: 0.536806\n",
        "         Iterations: 35\n",
        "         Function evaluations: 36\n",
        "         Gradient evaluations: 70\n",
        "         Hessian evaluations: 35\n",
        "Warning: Maximum number of iterations has been exceeded."
       ]
      },
      {
       "output_type": "stream",
       "stream": "stdout",
       "text": [
        "\n",
        "         Current function value: 0.535287\n",
        "         Iterations: 35\n",
        "         Function evaluations: 36\n",
        "         Gradient evaluations: 70\n",
        "         Hessian evaluations: 35\n",
        "Optimization terminated successfully.\n",
        "         Current function value: 0.534889\n",
        "         Iterations: 5\n",
        "         Function evaluations: 6\n",
        "         Gradient evaluations: 10\n",
        "         Hessian evaluations: 5\n",
        "Optimization terminated successfully."
       ]
      },
      {
       "output_type": "stream",
       "stream": "stdout",
       "text": [
        "\n",
        "         Current function value: 0.537015\n",
        "         Iterations: 5\n",
        "         Function evaluations: 6\n",
        "         Gradient evaluations: 10\n",
        "         Hessian evaluations: 5\n",
        "Optimization terminated successfully.\n",
        "         Current function value: 0.535342\n",
        "         Iterations: 5\n",
        "         Function evaluations: 6\n",
        "         Gradient evaluations: 10\n",
        "         Hessian evaluations: 5\n",
        "Optimization terminated successfully."
       ]
      },
      {
       "output_type": "stream",
       "stream": "stdout",
       "text": [
        "\n",
        "         Current function value: 0.537178\n",
        "         Iterations: 5\n",
        "         Function evaluations: 6\n",
        "         Gradient evaluations: 10\n",
        "         Hessian evaluations: 5\n",
        "Optimization terminated successfully.\n",
        "         Current function value: 0.532461\n",
        "         Iterations: 5\n",
        "         Function evaluations: 6\n",
        "         Gradient evaluations: 10\n",
        "         Hessian evaluations: 5\n",
        "Optimization terminated successfully."
       ]
      },
      {
       "output_type": "stream",
       "stream": "stdout",
       "text": [
        "\n",
        "         Current function value: 0.535224\n",
        "         Iterations: 5\n",
        "         Function evaluations: 6\n",
        "         Gradient evaluations: 10\n",
        "         Hessian evaluations: 5\n",
        "Optimization terminated successfully.\n",
        "         Current function value: 0.537295\n",
        "         Iterations: 5\n",
        "         Function evaluations: 6\n",
        "         Gradient evaluations: 10\n",
        "         Hessian evaluations: 5\n",
        "Optimization terminated successfully."
       ]
      },
      {
       "output_type": "stream",
       "stream": "stdout",
       "text": [
        "\n",
        "         Current function value: 0.536739\n",
        "         Iterations: 5\n",
        "         Function evaluations: 6\n",
        "         Gradient evaluations: 10\n",
        "         Hessian evaluations: 5\n",
        "Optimization terminated successfully.\n",
        "         Current function value: 0.537150\n",
        "         Iterations: 5\n",
        "         Function evaluations: 6\n",
        "         Gradient evaluations: 10\n",
        "         Hessian evaluations: 5\n",
        "Optimization terminated successfully."
       ]
      },
      {
       "output_type": "stream",
       "stream": "stdout",
       "text": [
        "\n",
        "         Current function value: 0.536635\n",
        "         Iterations: 6\n",
        "         Function evaluations: 7\n",
        "         Gradient evaluations: 12\n",
        "         Hessian evaluations: 6\n",
        "Warning: Maximum number of iterations has been exceeded."
       ]
      },
      {
       "output_type": "stream",
       "stream": "stdout",
       "text": [
        "\n",
        "         Current function value: 0.537059\n",
        "         Iterations: 35\n",
        "         Function evaluations: 36\n",
        "         Gradient evaluations: 70\n",
        "         Hessian evaluations: 35\n",
        "Optimization terminated successfully.\n",
        "         Current function value: 0.536882\n",
        "         Iterations: 6\n",
        "         Function evaluations: 7\n",
        "         Gradient evaluations: 12\n",
        "         Hessian evaluations: 6\n",
        "Warning: Maximum number of iterations has been exceeded."
       ]
      },
      {
       "output_type": "stream",
       "stream": "stdout",
       "text": [
        "\n",
        "         Current function value: 0.536555\n",
        "         Iterations: 35\n",
        "         Function evaluations: 36\n",
        "         Gradient evaluations: 70\n",
        "         Hessian evaluations: 35\n",
        "Optimization terminated successfully.\n",
        "         Current function value: 0.537224\n",
        "         Iterations: 5\n",
        "         Function evaluations: 6\n",
        "         Gradient evaluations: 10\n",
        "         Hessian evaluations: 5\n",
        "Optimization terminated successfully."
       ]
      },
      {
       "output_type": "stream",
       "stream": "stdout",
       "text": [
        "\n",
        "         Current function value: 0.536554\n",
        "         Iterations: 4\n",
        "         Function evaluations: 5\n",
        "         Gradient evaluations: 8\n",
        "         Hessian evaluations: 4\n",
        "Optimization terminated successfully.\n",
        "         Current function value: 0.535109\n",
        "         Iterations: 6\n",
        "         Function evaluations: 7\n",
        "         Gradient evaluations: 12\n",
        "         Hessian evaluations: 6\n",
        "Optimization terminated successfully."
       ]
      },
      {
       "output_type": "stream",
       "stream": "stdout",
       "text": [
        "\n",
        "         Current function value: 0.537150\n",
        "         Iterations: 6\n",
        "         Function evaluations: 7\n",
        "         Gradient evaluations: 12\n",
        "         Hessian evaluations: 6\n",
        "Warning: Maximum number of iterations has been exceeded."
       ]
      },
      {
       "output_type": "stream",
       "stream": "stdout",
       "text": [
        "\n",
        "         Current function value: 0.537059\n",
        "         Iterations: 35\n",
        "         Function evaluations: 36\n",
        "         Gradient evaluations: 70\n",
        "         Hessian evaluations: 35\n",
        "Warning: Maximum number of iterations has been exceeded."
       ]
      },
      {
       "output_type": "stream",
       "stream": "stdout",
       "text": [
        "\n",
        "         Current function value: 0.537059\n",
        "         Iterations: 35\n",
        "         Function evaluations: 36\n",
        "         Gradient evaluations: 70\n",
        "         Hessian evaluations: 35\n",
        "Warning: Maximum number of iterations has been exceeded."
       ]
      },
      {
       "output_type": "stream",
       "stream": "stdout",
       "text": [
        "\n",
        "         Current function value: 0.535873\n",
        "         Iterations: 35\n",
        "         Function evaluations: 36\n",
        "         Gradient evaluations: 70\n",
        "         Hessian evaluations: 35\n",
        "Optimization terminated successfully.\n",
        "         Current function value: 0.536736\n",
        "         Iterations: 5\n",
        "         Function evaluations: 6\n",
        "         Gradient evaluations: 10\n",
        "         Hessian evaluations: 5\n",
        "Optimization terminated successfully."
       ]
      },
      {
       "output_type": "stream",
       "stream": "stdout",
       "text": [
        "\n",
        "         Current function value: 0.536279\n",
        "         Iterations: 5\n",
        "         Function evaluations: 6\n",
        "         Gradient evaluations: 10\n",
        "         Hessian evaluations: 5\n",
        "Optimization terminated successfully.\n",
        "         Current function value: 0.537259\n",
        "         Iterations: 5\n",
        "         Function evaluations: 6\n",
        "         Gradient evaluations: 10\n",
        "         Hessian evaluations: 5\n",
        "Optimization terminated successfully."
       ]
      },
      {
       "output_type": "stream",
       "stream": "stdout",
       "text": [
        "\n",
        "         Current function value: 0.537065\n",
        "         Iterations: 5\n",
        "         Function evaluations: 6\n",
        "         Gradient evaluations: 10\n",
        "         Hessian evaluations: 5\n",
        "Optimization terminated successfully.\n",
        "         Current function value: 0.537079\n",
        "         Iterations: 5\n",
        "         Function evaluations: 6\n",
        "         Gradient evaluations: 10\n",
        "         Hessian evaluations: 5\n",
        "Optimization terminated successfully."
       ]
      },
      {
       "output_type": "stream",
       "stream": "stdout",
       "text": [
        "\n",
        "         Current function value: 0.536693\n",
        "         Iterations: 5\n",
        "         Function evaluations: 6\n",
        "         Gradient evaluations: 10\n",
        "         Hessian evaluations: 5\n",
        "Optimization terminated successfully.\n",
        "         Current function value: 0.536281\n",
        "         Iterations: 6\n",
        "         Function evaluations: 7\n",
        "         Gradient evaluations: 12\n",
        "         Hessian evaluations: 6\n",
        "Optimization terminated successfully."
       ]
      },
      {
       "output_type": "stream",
       "stream": "stdout",
       "text": [
        "\n",
        "         Current function value: 0.536625\n",
        "         Iterations: 6\n",
        "         Function evaluations: 7\n",
        "         Gradient evaluations: 12\n",
        "         Hessian evaluations: 6\n",
        "Optimization terminated successfully.\n",
        "         Current function value: 0.537224\n",
        "         Iterations: 5\n",
        "         Function evaluations: 6\n",
        "         Gradient evaluations: 10\n",
        "         Hessian evaluations: 5\n",
        "Warning: Maximum number of iterations has been exceeded."
       ]
      },
      {
       "output_type": "stream",
       "stream": "stdout",
       "text": [
        "\n",
        "         Current function value: 0.534434\n",
        "         Iterations: 35\n",
        "         Function evaluations: 36\n",
        "         Gradient evaluations: 70\n",
        "         Hessian evaluations: 35\n",
        "Optimization terminated successfully.\n",
        "         Current function value: 0.537247\n",
        "         Iterations: 5\n",
        "         Function evaluations: 6\n",
        "         Gradient evaluations: 10\n",
        "         Hessian evaluations: 5\n",
        "Optimization terminated successfully."
       ]
      },
      {
       "output_type": "stream",
       "stream": "stdout",
       "text": [
        "\n",
        "         Current function value: 0.536958\n",
        "         Iterations: 6\n",
        "         Function evaluations: 7\n",
        "         Gradient evaluations: 12\n",
        "         Hessian evaluations: 6\n",
        "Optimization terminated successfully.\n",
        "         Current function value: 0.537274\n",
        "         Iterations: 5\n",
        "         Function evaluations: 6\n",
        "         Gradient evaluations: 10\n",
        "         Hessian evaluations: 5\n",
        "Optimization terminated successfully."
       ]
      },
      {
       "output_type": "stream",
       "stream": "stdout",
       "text": [
        "\n",
        "         Current function value: 0.537188\n",
        "         Iterations: 5\n",
        "         Function evaluations: 6\n",
        "         Gradient evaluations: 10\n",
        "         Hessian evaluations: 5\n",
        "Optimization terminated successfully.\n",
        "         Current function value: 0.537228\n",
        "         Iterations: 5\n",
        "         Function evaluations: 6\n",
        "         Gradient evaluations: 10\n",
        "         Hessian evaluations: 5\n",
        "Optimization terminated successfully."
       ]
      },
      {
       "output_type": "stream",
       "stream": "stdout",
       "text": [
        "\n",
        "         Current function value: 0.536109\n",
        "         Iterations: 6\n",
        "         Function evaluations: 7\n",
        "         Gradient evaluations: 12\n",
        "         Hessian evaluations: 6\n",
        "Optimization terminated successfully.\n",
        "         Current function value: 0.536873\n",
        "         Iterations: 6\n",
        "         Function evaluations: 7\n",
        "         Gradient evaluations: 12\n",
        "         Hessian evaluations: 6\n",
        "Optimization terminated successfully."
       ]
      },
      {
       "output_type": "stream",
       "stream": "stdout",
       "text": [
        "\n",
        "         Current function value: 0.537295\n",
        "         Iterations: 5\n",
        "         Function evaluations: 6\n",
        "         Gradient evaluations: 10\n",
        "         Hessian evaluations: 5\n",
        "Optimization terminated successfully.\n",
        "         Current function value: 0.537269\n",
        "         Iterations: 5\n",
        "         Function evaluations: 6\n",
        "         Gradient evaluations: 10\n",
        "         Hessian evaluations: 5\n",
        "Optimization terminated successfully."
       ]
      },
      {
       "output_type": "stream",
       "stream": "stdout",
       "text": [
        "\n",
        "         Current function value: 0.536744\n",
        "         Iterations: 6\n",
        "         Function evaluations: 7\n",
        "         Gradient evaluations: 12\n",
        "         Hessian evaluations: 6\n",
        "Optimization terminated successfully.\n",
        "         Current function value: 0.536766\n",
        "         Iterations: 5\n",
        "         Function evaluations: 6\n",
        "         Gradient evaluations: 10\n",
        "         Hessian evaluations: 5\n",
        "Optimization terminated successfully."
       ]
      },
      {
       "output_type": "stream",
       "stream": "stdout",
       "text": [
        "\n",
        "         Current function value: 0.537083\n",
        "         Iterations: 5\n",
        "         Function evaluations: 6\n",
        "         Gradient evaluations: 10\n",
        "         Hessian evaluations: 5\n",
        "Optimization terminated successfully.\n",
        "         Current function value: 0.535967\n",
        "         Iterations: 5\n",
        "         Function evaluations: 6\n",
        "         Gradient evaluations: 10\n",
        "         Hessian evaluations: 5\n",
        "Optimization terminated successfully."
       ]
      },
      {
       "output_type": "stream",
       "stream": "stdout",
       "text": [
        "\n",
        "         Current function value: 0.537223\n",
        "         Iterations: 5\n",
        "         Function evaluations: 6\n",
        "         Gradient evaluations: 10\n",
        "         Hessian evaluations: 5\n",
        "Optimization terminated successfully.\n",
        "         Current function value: 0.537275\n",
        "         Iterations: 5\n",
        "         Function evaluations: 6\n",
        "         Gradient evaluations: 10\n",
        "         Hessian evaluations: 5\n",
        "Optimization terminated successfully."
       ]
      },
      {
       "output_type": "stream",
       "stream": "stdout",
       "text": [
        "\n",
        "         Current function value: 0.537302\n",
        "         Iterations: 5\n",
        "         Function evaluations: 6\n",
        "         Gradient evaluations: 10\n",
        "         Hessian evaluations: 5\n",
        "Optimization terminated successfully.\n",
        "         Current function value: 0.536988\n",
        "         Iterations: 6\n",
        "         Function evaluations: 7\n",
        "         Gradient evaluations: 12\n",
        "         Hessian evaluations: 6\n",
        "Optimization terminated successfully."
       ]
      },
      {
       "output_type": "stream",
       "stream": "stdout",
       "text": [
        "\n",
        "         Current function value: 0.537261\n",
        "         Iterations: 5\n",
        "         Function evaluations: 6\n",
        "         Gradient evaluations: 10\n",
        "         Hessian evaluations: 5\n",
        "Optimization terminated successfully.\n",
        "         Current function value: 0.537013\n",
        "         Iterations: 6\n",
        "         Function evaluations: 7\n",
        "         Gradient evaluations: 12\n",
        "         Hessian evaluations: 6\n",
        "Optimization terminated successfully."
       ]
      },
      {
       "output_type": "stream",
       "stream": "stdout",
       "text": [
        "\n",
        "         Current function value: 0.537285\n",
        "         Iterations: 5\n",
        "         Function evaluations: 6\n",
        "         Gradient evaluations: 10\n",
        "         Hessian evaluations: 5\n",
        "Optimization terminated successfully.\n",
        "         Current function value: 0.536481\n",
        "         Iterations: 5\n",
        "         Function evaluations: 6\n",
        "         Gradient evaluations: 10\n",
        "         Hessian evaluations: 5\n",
        "Optimization terminated successfully."
       ]
      },
      {
       "output_type": "stream",
       "stream": "stdout",
       "text": [
        "\n",
        "         Current function value: 0.535851\n",
        "         Iterations: 5\n",
        "         Function evaluations: 6\n",
        "         Gradient evaluations: 10\n",
        "         Hessian evaluations: 5\n",
        "Optimization terminated successfully.\n",
        "         Current function value: 0.531303\n",
        "         Iterations: 6\n",
        "         Function evaluations: 7\n",
        "         Gradient evaluations: 12\n",
        "         Hessian evaluations: 6\n",
        "Warning: Maximum number of iterations has been exceeded."
       ]
      },
      {
       "output_type": "stream",
       "stream": "stdout",
       "text": [
        "\n",
        "         Current function value: 0.536806\n",
        "         Iterations: 35\n",
        "         Function evaluations: 36\n",
        "         Gradient evaluations: 70\n",
        "         Hessian evaluations: 35\n",
        "Warning: Maximum number of iterations has been exceeded."
       ]
      },
      {
       "output_type": "stream",
       "stream": "stdout",
       "text": [
        "\n",
        "         Current function value: 0.537059\n",
        "         Iterations: 35\n",
        "         Function evaluations: 36\n",
        "         Gradient evaluations: 70\n",
        "         Hessian evaluations: 35\n",
        "Warning: Maximum number of iterations has been exceeded."
       ]
      },
      {
       "output_type": "stream",
       "stream": "stdout",
       "text": [
        "\n",
        "         Current function value: 0.536806\n",
        "         Iterations: 35\n",
        "         Function evaluations: 36\n",
        "         Gradient evaluations: 70\n",
        "         Hessian evaluations: 35\n",
        "Optimization terminated successfully.\n",
        "         Current function value: 0.536841\n",
        "         Iterations: 5\n",
        "         Function evaluations: 6\n",
        "         Gradient evaluations: 10\n",
        "         Hessian evaluations: 5\n",
        "Warning: Maximum number of iterations has been exceeded."
       ]
      },
      {
       "output_type": "stream",
       "stream": "stdout",
       "text": [
        "\n",
        "         Current function value: 0.536806\n",
        "         Iterations: 35\n",
        "         Function evaluations: 36\n",
        "         Gradient evaluations: 70\n",
        "         Hessian evaluations: 35\n",
        "Warning: Maximum number of iterations has been exceeded."
       ]
      },
      {
       "output_type": "stream",
       "stream": "stdout",
       "text": [
        "\n",
        "         Current function value: 0.535873\n",
        "         Iterations: 35\n",
        "         Function evaluations: 36\n",
        "         Gradient evaluations: 70\n",
        "         Hessian evaluations: 35\n",
        "Optimization terminated successfully.\n",
        "         Current function value: 0.537299\n",
        "         Iterations: 5\n",
        "         Function evaluations: 6\n",
        "         Gradient evaluations: 10\n",
        "         Hessian evaluations: 5\n",
        "Optimization terminated successfully.\n",
        "         Current function value: 0.536503\n",
        "         Iterations: 5\n",
        "         Function evaluations: 6\n",
        "         Gradient evaluations: 10\n",
        "         Hessian evaluations: 5\n",
        "Optimization terminated successfully."
       ]
      },
      {
       "output_type": "stream",
       "stream": "stdout",
       "text": [
        "\n",
        "         Current function value: 0.537056\n",
        "         Iterations: 6\n",
        "         Function evaluations: 7\n",
        "         Gradient evaluations: 12\n",
        "         Hessian evaluations: 6\n",
        "Optimization terminated successfully.\n",
        "         Current function value: 0.537308\n",
        "         Iterations: 5\n",
        "         Function evaluations: 6\n",
        "         Gradient evaluations: 10\n",
        "         Hessian evaluations: 5\n",
        "Optimization terminated successfully.\n",
        "         Current function value: 0.536967\n",
        "         Iterations: 6\n",
        "         Function evaluations: 7\n",
        "         Gradient evaluations: 12\n",
        "         Hessian evaluations: 6\n",
        "Optimization terminated successfully."
       ]
      },
      {
       "output_type": "stream",
       "stream": "stdout",
       "text": [
        "\n",
        "         Current function value: 0.537206\n",
        "         Iterations: 6\n",
        "         Function evaluations: 7\n",
        "         Gradient evaluations: 12\n",
        "         Hessian evaluations: 6\n",
        "Warning: Maximum number of iterations has been exceeded."
       ]
      },
      {
       "output_type": "stream",
       "stream": "stdout",
       "text": [
        "\n",
        "         Current function value: 0.537059\n",
        "         Iterations: 35\n",
        "         Function evaluations: 36\n",
        "         Gradient evaluations: 70\n",
        "         Hessian evaluations: 35\n",
        "Optimization terminated successfully.\n",
        "         Current function value: 0.537228\n",
        "         Iterations: 5\n",
        "         Function evaluations: 6\n",
        "         Gradient evaluations: 10\n",
        "         Hessian evaluations: 5\n",
        "Optimization terminated successfully."
       ]
      },
      {
       "output_type": "stream",
       "stream": "stdout",
       "text": [
        "\n",
        "         Current function value: 0.532081\n",
        "         Iterations: 5\n",
        "         Function evaluations: 6\n",
        "         Gradient evaluations: 10\n",
        "         Hessian evaluations: 5\n",
        "Optimization terminated successfully.\n",
        "         Current function value: 0.537120\n",
        "         Iterations: 5\n",
        "         Function evaluations: 6\n",
        "         Gradient evaluations: 10\n",
        "         Hessian evaluations: 5\n",
        "Optimization terminated successfully."
       ]
      },
      {
       "output_type": "stream",
       "stream": "stdout",
       "text": [
        "\n",
        "         Current function value: 0.537043\n",
        "         Iterations: 5\n",
        "         Function evaluations: 6\n",
        "         Gradient evaluations: 10\n",
        "         Hessian evaluations: 5\n",
        "Optimization terminated successfully."
       ]
      },
      {
       "output_type": "stream",
       "stream": "stdout",
       "text": [
        "\n",
        "         Current function value: 0.536784\n",
        "         Iterations: 5\n",
        "         Function evaluations: 6\n",
        "         Gradient evaluations: 10\n",
        "         Hessian evaluations: 5\n",
        "Optimization terminated successfully.\n",
        "         Current function value: 0.536967\n",
        "         Iterations: 6\n",
        "         Function evaluations: 7\n",
        "         Gradient evaluations: 12\n",
        "         Hessian evaluations: 6\n",
        "Optimization terminated successfully."
       ]
      },
      {
       "output_type": "stream",
       "stream": "stdout",
       "text": [
        "\n",
        "         Current function value: 0.536817\n",
        "         Iterations: 6\n",
        "         Function evaluations: 7\n",
        "         Gradient evaluations: 12\n",
        "         Hessian evaluations: 6\n",
        "Optimization terminated successfully.\n",
        "         Current function value: 0.526901\n",
        "         Iterations: 8\n",
        "         Function evaluations: 9\n",
        "         Gradient evaluations: 16\n",
        "         Hessian evaluations: 8\n",
        "Optimization terminated successfully."
       ]
      },
      {
       "output_type": "stream",
       "stream": "stdout",
       "text": [
        "\n",
        "         Current function value: 0.631309\n",
        "         Iterations: 2\n",
        "         Function evaluations: 3\n",
        "         Gradient evaluations: 4\n",
        "         Hessian evaluations: 2\n",
        "Optimization terminated successfully.\n",
        "         Current function value: 0.531277\n",
        "         Iterations: 8\n",
        "         Function evaluations: 43\n",
        "         Gradient evaluations: 48\n",
        "         Hessian evaluations: 8\n",
        "Optimization terminated successfully."
       ]
      },
      {
       "output_type": "stream",
       "stream": "stdout",
       "text": [
        "\n",
        "         Current function value: 0.536975\n",
        "         Iterations: 7\n",
        "         Function evaluations: 8\n",
        "         Gradient evaluations: 14\n",
        "         Hessian evaluations: 7\n",
        "Optimization terminated successfully.\n",
        "         Current function value: 0.536475\n",
        "         Iterations: 6\n",
        "         Function evaluations: 7\n",
        "         Gradient evaluations: 12\n",
        "         Hessian evaluations: 6\n",
        "Optimization terminated successfully.\n",
        "         Current function value: 0.536975\n",
        "         Iterations: 7\n",
        "         Function evaluations: 8\n",
        "         Gradient evaluations: 14\n",
        "         Hessian evaluations: 7\n",
        "Optimization terminated successfully."
       ]
      },
      {
       "output_type": "stream",
       "stream": "stdout",
       "text": [
        "\n",
        "         Current function value: 0.537263\n",
        "         Iterations: 11\n",
        "         Function evaluations: 15\n",
        "         Gradient evaluations: 25\n",
        "         Hessian evaluations: 11\n",
        "Optimization terminated successfully.\n",
        "         Current function value: 0.537100\n",
        "         Iterations: 5\n",
        "         Function evaluations: 6\n",
        "         Gradient evaluations: 10\n",
        "         Hessian evaluations: 5\n",
        "Optimization terminated successfully.\n",
        "         Current function value: 0.537294\n",
        "         Iterations: 5\n",
        "         Function evaluations: 6\n",
        "         Gradient evaluations: 10\n",
        "         Hessian evaluations: 5\n",
        "Optimization terminated successfully."
       ]
      },
      {
       "output_type": "stream",
       "stream": "stdout",
       "text": [
        "\n",
        "         Current function value: 0.536882\n",
        "         Iterations: 6\n",
        "         Function evaluations: 7\n",
        "         Gradient evaluations: 12\n",
        "         Hessian evaluations: 6\n",
        "Optimization terminated successfully.\n",
        "         Current function value: 0.537303\n",
        "         Iterations: 5\n",
        "         Function evaluations: 6\n",
        "         Gradient evaluations: 10\n",
        "         Hessian evaluations: 5\n",
        "Optimization terminated successfully."
       ]
      },
      {
       "output_type": "stream",
       "stream": "stdout",
       "text": [
        "\n",
        "         Current function value: 0.536950\n",
        "         Iterations: 6\n",
        "         Function evaluations: 7\n",
        "         Gradient evaluations: 12\n",
        "         Hessian evaluations: 6\n",
        "Optimization terminated successfully.\n",
        "         Current function value: 0.535674\n",
        "         Iterations: 5\n",
        "         Function evaluations: 6\n",
        "         Gradient evaluations: 10\n",
        "         Hessian evaluations: 5\n",
        "Optimization terminated successfully."
       ]
      },
      {
       "output_type": "stream",
       "stream": "stdout",
       "text": [
        "\n",
        "         Current function value: 0.537208\n",
        "         Iterations: 5\n",
        "         Function evaluations: 6\n",
        "         Gradient evaluations: 10\n",
        "         Hessian evaluations: 5\n",
        "Optimization terminated successfully.\n",
        "         Current function value: 0.535996\n",
        "         Iterations: 5\n",
        "         Function evaluations: 6\n",
        "         Gradient evaluations: 10\n",
        "         Hessian evaluations: 5\n",
        "Optimization terminated successfully."
       ]
      },
      {
       "output_type": "stream",
       "stream": "stdout",
       "text": [
        "\n",
        "         Current function value: 0.537274\n",
        "         Iterations: 5\n",
        "         Function evaluations: 6\n",
        "         Gradient evaluations: 10\n",
        "         Hessian evaluations: 5\n",
        "Optimization terminated successfully.\n",
        "         Current function value: 0.536280\n",
        "         Iterations: 5\n",
        "         Function evaluations: 6\n",
        "         Gradient evaluations: 10\n",
        "         Hessian evaluations: 5\n",
        "Optimization terminated successfully."
       ]
      },
      {
       "output_type": "stream",
       "stream": "stdout",
       "text": [
        "\n",
        "         Current function value: 0.536950\n",
        "         Iterations: 6\n",
        "         Function evaluations: 7\n",
        "         Gradient evaluations: 12\n",
        "         Hessian evaluations: 6\n",
        "Optimization terminated successfully.\n",
        "         Current function value: 0.537296\n",
        "         Iterations: 5\n",
        "         Function evaluations: 6\n",
        "         Gradient evaluations: 10\n",
        "         Hessian evaluations: 5\n",
        "Optimization terminated successfully."
       ]
      },
      {
       "output_type": "stream",
       "stream": "stdout",
       "text": [
        "\n",
        "         Current function value: 0.536129\n",
        "         Iterations: 5\n",
        "         Function evaluations: 6\n",
        "         Gradient evaluations: 10\n",
        "         Hessian evaluations: 5\n",
        "I found a worst variable. The condition number is now 1950.13305387"
       ]
      },
      {
       "output_type": "stream",
       "stream": "stdout",
       "text": [
        "\n",
        "The condition number of the dataset and reduced variable list is 1950.13305387\n",
        "There are 69 variables currently in the model.\n",
        "Optimization terminated successfully."
       ]
      },
      {
       "ename": "ValueError",
       "evalue": "list.remove(x): x not in list",
       "output_type": "pyerr",
       "traceback": [
        "\u001b[1;31m---------------------------------------------------------------------------\u001b[0m\n\u001b[1;31mValueError\u001b[0m                                Traceback (most recent call last)",
        "\u001b[1;32m<ipython-input-173-ee6cf98a58f3>\u001b[0m in \u001b[0;36m<module>\u001b[1;34m()\u001b[0m\n\u001b[0;32m      9\u001b[0m \u001b[1;33m\u001b[0m\u001b[0m\n\u001b[0;32m     10\u001b[0m logit_reduced_multi, logit_reduced_multi_string = hl.reduce_multi_model(logit_init_multi, logit_init_multi_string, \"SER_INJ\",\n\u001b[1;32m---> 11\u001b[1;33m                                                                         noNode_trainingDesign, fit='nm')\n\u001b[0m",
        "\u001b[1;32m/home/timothy/Spring 2014 UCB/CE265-Traffic Safety/finalProject/hybrid_logit.py\u001b[0m in \u001b[0;36mreduce_multi_model\u001b[1;34m(orig_fitted, base_string, res, df, fit)\u001b[0m\n\u001b[0;32m    338\u001b[0m \u001b[1;33m\u001b[0m\u001b[0m\n\u001b[0;32m    339\u001b[0m \u001b[1;32mdef\u001b[0m \u001b[0mreduce_multi_model\u001b[0m\u001b[1;33m(\u001b[0m\u001b[0morig_fitted\u001b[0m\u001b[1;33m,\u001b[0m \u001b[0mbase_string\u001b[0m\u001b[1;33m,\u001b[0m \u001b[0mres\u001b[0m\u001b[1;33m,\u001b[0m \u001b[0mdf\u001b[0m\u001b[1;33m,\u001b[0m \u001b[0mfit\u001b[0m\u001b[1;33m=\u001b[0m\u001b[0mNone\u001b[0m\u001b[1;33m)\u001b[0m\u001b[1;33m:\u001b[0m\u001b[1;33m\u001b[0m\u001b[0m\n\u001b[1;32m--> 340\u001b[1;33m     \u001b[0mnew_bvars\u001b[0m \u001b[1;33m=\u001b[0m \u001b[0mwhittle_multi_model_vars\u001b[0m\u001b[1;33m(\u001b[0m\u001b[0morig_fitted\u001b[0m\u001b[1;33m,\u001b[0m \u001b[0mbase_string\u001b[0m\u001b[1;33m)\u001b[0m\u001b[1;33m\u001b[0m\u001b[0m\n\u001b[0m\u001b[0;32m    341\u001b[0m     \u001b[0msmall_model\u001b[0m \u001b[1;33m=\u001b[0m \u001b[0morig_fitted\u001b[0m\u001b[1;33m\u001b[0m\u001b[0m\n\u001b[0;32m    342\u001b[0m     \u001b[0msmall_base\u001b[0m \u001b[1;33m=\u001b[0m \u001b[0mbase_string\u001b[0m\u001b[1;33m\u001b[0m\u001b[0m\n",
        "\u001b[1;32m/home/timothy/Spring 2014 UCB/CE265-Traffic Safety/finalProject/hybrid_logit.py\u001b[0m in \u001b[0;36mwhittle_multi_model_vars\u001b[1;34m(orig_fitted, base_string)\u001b[0m\n\u001b[0;32m    332\u001b[0m     \u001b[1;32mif\u001b[0m \u001b[0mworst_var\u001b[0m \u001b[1;32mis\u001b[0m \u001b[1;32mnot\u001b[0m \u001b[0mNone\u001b[0m\u001b[1;33m:\u001b[0m\u001b[1;33m\u001b[0m\u001b[0m\n\u001b[0;32m    333\u001b[0m         \u001b[0mnew_vars\u001b[0m \u001b[1;33m=\u001b[0m \u001b[0mdeepcopy\u001b[0m\u001b[1;33m(\u001b[0m\u001b[0morig_vars\u001b[0m\u001b[1;33m)\u001b[0m\u001b[1;33m\u001b[0m\u001b[0m\n\u001b[1;32m--> 334\u001b[1;33m         \u001b[0mnew_vars\u001b[0m\u001b[1;33m.\u001b[0m\u001b[0mremove\u001b[0m\u001b[1;33m(\u001b[0m\u001b[0mworst_var\u001b[0m\u001b[1;33m)\u001b[0m\u001b[1;33m\u001b[0m\u001b[0m\n\u001b[0m\u001b[0;32m    335\u001b[0m         \u001b[1;32mreturn\u001b[0m \u001b[0mnew_vars\u001b[0m\u001b[1;33m\u001b[0m\u001b[0m\n\u001b[0;32m    336\u001b[0m     \u001b[1;32melse\u001b[0m\u001b[1;33m:\u001b[0m\u001b[1;33m\u001b[0m\u001b[0m\n",
        "\u001b[1;31mValueError\u001b[0m: list.remove(x): x not in list"
       ]
      },
      {
       "output_type": "stream",
       "stream": "stdout",
       "text": [
        "\n",
        "         Current function value: 0.437344\n",
        "         Iterations: 24\n",
        "         Function evaluations: 32\n",
        "         Gradient evaluations: 55\n",
        "         Hessian evaluations: 24\n"
       ]
      }
     ],
     "prompt_number": 173
    },
    {
     "cell_type": "code",
     "collapsed": false,
     "input": [
      "hl.predict_with_hybrid_tree_and_logit(noNode_trainingDesign, pruned_tSet_tree, naive_model, logit_reduced_multi, \"SER_INJ\", [0,1])\n"
     ],
     "language": "python",
     "metadata": {},
     "outputs": []
    },
    {
     "cell_type": "code",
     "collapsed": false,
     "input": [
      "hh = [\"\"]\n",
      "hh.remove(\"\")\n",
      "hh"
     ],
     "language": "python",
     "metadata": {},
     "outputs": [
      {
       "metadata": {},
       "output_type": "pyout",
       "prompt_number": 140,
       "text": [
        "[]"
       ]
      }
     ],
     "prompt_number": 140
    },
    {
     "cell_type": "code",
     "collapsed": false,
     "input": [
      "min10_trainingDesign = pd.read_pickle(\"dataframes/leaf_augmented/trainingSet_DF_min10Tree.pkl\")\n",
      "d4logit = hl.design_for_hybrid(min10_trainingDesign, pruned_min10_tree)   \n",
      "init_multi, init_multi_string = hl.initial_multivariate(d4logit, \"SER_INJ\", [0,1], fit=\"ncg\")"
     ],
     "language": "python",
     "metadata": {},
     "outputs": [
      {
       "output_type": "stream",
       "stream": "stdout",
       "text": [
        "[['TRAV_SP', 'TRAV_SP_interact_TRAV_SP_[0, 1]'], ['NUMOCCS', 'NUMOCCS_interact_NUMOCCS_[0, 1]'], ['VSPD_LIM', 'VSPD_LIM_interact_VSPD_LIM_[0, 1]'], ['DRIVER_AGE', 'DRIVER_AGE_interact_DRIVER_AGE_[0, 1]']]\n",
        "Optimization terminated successfully."
       ]
      },
      {
       "output_type": "stream",
       "stream": "stdout",
       "text": [
        "\n",
        "         Current function value: 0.458877\n",
        "         Iterations: 8\n",
        "         Function evaluations: 9\n",
        "         Gradient evaluations: 16\n",
        "         Hessian evaluations: 8\n",
        "Optimization terminated successfully."
       ]
      },
      {
       "output_type": "stream",
       "stream": "stdout",
       "text": [
        "\n",
        "         Current function value: 0.458518\n",
        "         Iterations: 8\n",
        "         Function evaluations: 9\n",
        "         Gradient evaluations: 16\n",
        "         Hessian evaluations: 8\n",
        "Optimization terminated successfully."
       ]
      },
      {
       "output_type": "stream",
       "stream": "stdout",
       "text": [
        "\n",
        "         Current function value: 0.458268\n",
        "         Iterations: 9\n",
        "         Function evaluations: 10\n",
        "         Gradient evaluations: 18\n",
        "         Hessian evaluations: 9\n",
        "Optimization terminated successfully."
       ]
      },
      {
       "output_type": "stream",
       "stream": "stdout",
       "text": [
        "\n",
        "         Current function value: 0.458689\n",
        "         Iterations: 7\n",
        "         Function evaluations: 8\n",
        "         Gradient evaluations: 14\n",
        "         Hessian evaluations: 7\n",
        "Optimization terminated successfully."
       ]
      },
      {
       "output_type": "stream",
       "stream": "stdout",
       "text": [
        "\n",
        "         Current function value: 0.458762\n",
        "         Iterations: 8\n",
        "         Function evaluations: 9\n",
        "         Gradient evaluations: 16\n",
        "         Hessian evaluations: 8\n",
        "Optimization terminated successfully."
       ]
      },
      {
       "output_type": "stream",
       "stream": "stdout",
       "text": [
        "\n",
        "         Current function value: 0.458834\n",
        "         Iterations: 7\n",
        "         Function evaluations: 8\n",
        "         Gradient evaluations: 14\n",
        "         Hessian evaluations: 7\n",
        "Optimization terminated successfully."
       ]
      },
      {
       "output_type": "stream",
       "stream": "stdout",
       "text": [
        "\n",
        "         Current function value: 0.458915\n",
        "         Iterations: 8\n",
        "         Function evaluations: 9\n",
        "         Gradient evaluations: 16\n",
        "         Hessian evaluations: 8\n",
        "Optimization terminated successfully."
       ]
      },
      {
       "output_type": "stream",
       "stream": "stdout",
       "text": [
        "\n",
        "         Current function value: 0.458065\n",
        "         Iterations: 8\n",
        "         Function evaluations: 9\n",
        "         Gradient evaluations: 16\n",
        "         Hessian evaluations: 8\n",
        "Optimization terminated successfully."
       ]
      },
      {
       "output_type": "stream",
       "stream": "stdout",
       "text": [
        "\n",
        "         Current function value: 0.458874\n",
        "         Iterations: 7\n",
        "         Function evaluations: 8\n",
        "         Gradient evaluations: 14\n",
        "         Hessian evaluations: 7\n",
        "Optimization terminated successfully."
       ]
      },
      {
       "output_type": "stream",
       "stream": "stdout",
       "text": [
        "\n",
        "         Current function value: 0.458916\n",
        "         Iterations: 7\n",
        "         Function evaluations: 8\n",
        "         Gradient evaluations: 14\n",
        "         Hessian evaluations: 7\n",
        "Optimization terminated successfully."
       ]
      },
      {
       "output_type": "stream",
       "stream": "stdout",
       "text": [
        "\n",
        "         Current function value: 0.457367\n",
        "         Iterations: 9\n",
        "         Function evaluations: 10\n",
        "         Gradient evaluations: 18\n",
        "         Hessian evaluations: 9\n",
        "Optimization terminated successfully."
       ]
      },
      {
       "output_type": "stream",
       "stream": "stdout",
       "text": [
        "\n",
        "         Current function value: 0.458685\n",
        "         Iterations: 8\n",
        "         Function evaluations: 9\n",
        "         Gradient evaluations: 16\n",
        "         Hessian evaluations: 8\n",
        "Optimization terminated successfully."
       ]
      },
      {
       "output_type": "stream",
       "stream": "stdout",
       "text": [
        "\n",
        "         Current function value: 0.458714\n",
        "         Iterations: 7\n",
        "         Function evaluations: 8\n",
        "         Gradient evaluations: 14\n",
        "         Hessian evaluations: 7\n",
        "Optimization terminated successfully."
       ]
      },
      {
       "output_type": "stream",
       "stream": "stdout",
       "text": [
        "\n",
        "         Current function value: 0.458909\n",
        "         Iterations: 7\n",
        "         Function evaluations: 8\n",
        "         Gradient evaluations: 14\n",
        "         Hessian evaluations: 7\n",
        "Optimization terminated successfully."
       ]
      },
      {
       "output_type": "stream",
       "stream": "stdout",
       "text": [
        "\n",
        "         Current function value: 0.457177\n",
        "         Iterations: 8\n",
        "         Function evaluations: 9\n",
        "         Gradient evaluations: 16\n",
        "         Hessian evaluations: 8\n",
        "Optimization terminated successfully."
       ]
      },
      {
       "output_type": "stream",
       "stream": "stdout",
       "text": [
        "\n",
        "         Current function value: 0.458894\n",
        "         Iterations: 7\n",
        "         Function evaluations: 8\n",
        "         Gradient evaluations: 14\n",
        "         Hessian evaluations: 7\n",
        "Optimization terminated successfully."
       ]
      },
      {
       "output_type": "stream",
       "stream": "stdout",
       "text": [
        "\n",
        "         Current function value: 0.458917\n",
        "         Iterations: 8\n",
        "         Function evaluations: 10\n",
        "         Gradient evaluations: 17\n",
        "         Hessian evaluations: 8\n",
        "Optimization terminated successfully."
       ]
      },
      {
       "output_type": "stream",
       "stream": "stdout",
       "text": [
        "\n",
        "         Current function value: 0.458917\n",
        "         Iterations: 7\n",
        "         Function evaluations: 8\n",
        "         Gradient evaluations: 14\n",
        "         Hessian evaluations: 7\n",
        "Optimization terminated successfully."
       ]
      },
      {
       "output_type": "stream",
       "stream": "stdout",
       "text": [
        "\n",
        "         Current function value: 0.458722\n",
        "         Iterations: 9\n",
        "         Function evaluations: 11\n",
        "         Gradient evaluations: 19\n",
        "         Hessian evaluations: 9\n",
        "Optimization terminated successfully."
       ]
      },
      {
       "output_type": "stream",
       "stream": "stdout",
       "text": [
        "\n",
        "         Current function value: 0.458268\n",
        "         Iterations: 7\n",
        "         Function evaluations: 8\n",
        "         Gradient evaluations: 14\n",
        "         Hessian evaluations: 7\n",
        "Optimization terminated successfully."
       ]
      },
      {
       "output_type": "stream",
       "stream": "stdout",
       "text": [
        "\n",
        "         Current function value: 0.456638\n",
        "         Iterations: 12\n",
        "         Function evaluations: 13\n",
        "         Gradient evaluations: 24\n",
        "         Hessian evaluations: 12\n",
        "Optimization terminated successfully."
       ]
      },
      {
       "output_type": "stream",
       "stream": "stdout",
       "text": [
        "\n",
        "         Current function value: 0.458400\n",
        "         Iterations: 8\n",
        "         Function evaluations: 9\n",
        "         Gradient evaluations: 16\n",
        "         Hessian evaluations: 8\n",
        "Optimization terminated successfully."
       ]
      },
      {
       "output_type": "stream",
       "stream": "stdout",
       "text": [
        "\n",
        "         Current function value: 0.458021\n",
        "         Iterations: 7\n",
        "         Function evaluations: 8\n",
        "         Gradient evaluations: 14\n",
        "         Hessian evaluations: 7\n",
        "Optimization terminated successfully."
       ]
      },
      {
       "output_type": "stream",
       "stream": "stdout",
       "text": [
        "\n",
        "         Current function value: 0.458864\n",
        "         Iterations: 10\n",
        "         Function evaluations: 11\n",
        "         Gradient evaluations: 20\n",
        "         Hessian evaluations: 10\n",
        "Optimization terminated successfully."
       ]
      },
      {
       "output_type": "stream",
       "stream": "stdout",
       "text": [
        "\n",
        "         Current function value: 0.458268\n",
        "         Iterations: 7\n",
        "         Function evaluations: 8\n",
        "         Gradient evaluations: 14\n",
        "         Hessian evaluations: 7\n",
        "Optimization terminated successfully."
       ]
      },
      {
       "output_type": "stream",
       "stream": "stdout",
       "text": [
        "\n",
        "         Current function value: 0.458660\n",
        "         Iterations: 7\n",
        "         Function evaluations: 8\n",
        "         Gradient evaluations: 14\n",
        "         Hessian evaluations: 7\n",
        "Warning: Maximum number of iterations has been exceeded."
       ]
      },
      {
       "output_type": "stream",
       "stream": "stdout",
       "text": [
        "\n",
        "         Current function value: 0.458573\n",
        "         Iterations: 2000\n",
        "         Function evaluations: 2005\n",
        "         Gradient evaluations: 4004\n",
        "         Hessian evaluations: 2000\n",
        "The model for ['LOCATION_Treatment_9999_T21'] did not converge\n",
        "Optimization terminated successfully."
       ]
      },
      {
       "output_type": "stream",
       "stream": "stdout",
       "text": [
        "\n",
        "         Current function value: 0.458678\n",
        "         Iterations: 7\n",
        "         Function evaluations: 8\n",
        "         Gradient evaluations: 14\n",
        "         Hessian evaluations: 7\n",
        "Optimization terminated successfully."
       ]
      },
      {
       "output_type": "stream",
       "stream": "stdout",
       "text": [
        "\n",
        "         Current function value: 0.458610\n",
        "         Iterations: 21\n",
        "         Function evaluations: 30\n",
        "         Gradient evaluations: 50\n",
        "         Hessian evaluations: 21\n",
        "Optimization terminated successfully."
       ]
      },
      {
       "output_type": "stream",
       "stream": "stdout",
       "text": [
        "\n",
        "         Current function value: 0.458515\n",
        "         Iterations: 8\n",
        "         Function evaluations: 9\n",
        "         Gradient evaluations: 16\n",
        "         Hessian evaluations: 8\n",
        "Optimization terminated successfully."
       ]
      },
      {
       "output_type": "stream",
       "stream": "stdout",
       "text": [
        "\n",
        "         Current function value: 0.458871\n",
        "         Iterations: 7\n",
        "         Function evaluations: 8\n",
        "         Gradient evaluations: 14\n",
        "         Hessian evaluations: 7\n",
        "Optimization terminated successfully."
       ]
      },
      {
       "output_type": "stream",
       "stream": "stdout",
       "text": [
        "\n",
        "         Current function value: 0.458678\n",
        "         Iterations: 9\n",
        "         Function evaluations: 10\n",
        "         Gradient evaluations: 18\n",
        "         Hessian evaluations: 9\n",
        "Optimization terminated successfully."
       ]
      },
      {
       "output_type": "stream",
       "stream": "stdout",
       "text": [
        "\n",
        "         Current function value: 0.458885\n",
        "         Iterations: 7\n",
        "         Function evaluations: 8\n",
        "         Gradient evaluations: 14\n",
        "         Hessian evaluations: 7\n",
        "Optimization terminated successfully."
       ]
      },
      {
       "output_type": "stream",
       "stream": "stdout",
       "text": [
        "\n",
        "         Current function value: 0.458910\n",
        "         Iterations: 11\n",
        "         Function evaluations: 12\n",
        "         Gradient evaluations: 22\n",
        "         Hessian evaluations: 11\n",
        "Optimization terminated successfully."
       ]
      },
      {
       "output_type": "stream",
       "stream": "stdout",
       "text": [
        "\n",
        "         Current function value: 0.458678\n",
        "         Iterations: 8\n",
        "         Function evaluations: 9\n",
        "         Gradient evaluations: 16\n",
        "         Hessian evaluations: 8\n",
        "Optimization terminated successfully."
       ]
      },
      {
       "output_type": "stream",
       "stream": "stdout",
       "text": [
        "\n",
        "         Current function value: 0.458916\n",
        "         Iterations: 7\n",
        "         Function evaluations: 8\n",
        "         Gradient evaluations: 14\n",
        "         Hessian evaluations: 7\n",
        "Optimization terminated successfully."
       ]
      },
      {
       "output_type": "stream",
       "stream": "stdout",
       "text": [
        "\n",
        "         Current function value: 0.458910\n",
        "         Iterations: 7\n",
        "         Function evaluations: 8\n",
        "         Gradient evaluations: 14\n",
        "         Hessian evaluations: 7\n",
        "Optimization terminated successfully."
       ]
      },
      {
       "output_type": "stream",
       "stream": "stdout",
       "text": [
        "\n",
        "         Current function value: 0.458788\n",
        "         Iterations: 8\n",
        "         Function evaluations: 9\n",
        "         Gradient evaluations: 16\n",
        "         Hessian evaluations: 8\n",
        "Optimization terminated successfully."
       ]
      },
      {
       "output_type": "stream",
       "stream": "stdout",
       "text": [
        "\n",
        "         Current function value: 0.458413\n",
        "         Iterations: 11\n",
        "         Function evaluations: 12\n",
        "         Gradient evaluations: 22\n",
        "         Hessian evaluations: 11\n",
        "Optimization terminated successfully."
       ]
      },
      {
       "output_type": "stream",
       "stream": "stdout",
       "text": [
        "\n",
        "         Current function value: 0.458909\n",
        "         Iterations: 7\n",
        "         Function evaluations: 8\n",
        "         Gradient evaluations: 14\n",
        "         Hessian evaluations: 7\n",
        "Optimization terminated successfully."
       ]
      },
      {
       "output_type": "stream",
       "stream": "stdout",
       "text": [
        "\n",
        "         Current function value: 0.458065\n",
        "         Iterations: 12\n",
        "         Function evaluations: 13\n",
        "         Gradient evaluations: 24\n",
        "         Hessian evaluations: 12\n",
        "Optimization terminated successfully."
       ]
      },
      {
       "output_type": "stream",
       "stream": "stdout",
       "text": [
        "\n",
        "         Current function value: 0.458693\n",
        "         Iterations: 22\n",
        "         Function evaluations: 27\n",
        "         Gradient evaluations: 48\n",
        "         Hessian evaluations: 22\n",
        "Optimization terminated successfully."
       ]
      },
      {
       "output_type": "stream",
       "stream": "stdout",
       "text": [
        "\n",
        "         Current function value: 0.458872\n",
        "         Iterations: 7\n",
        "         Function evaluations: 8\n",
        "         Gradient evaluations: 14\n",
        "         Hessian evaluations: 7\n",
        "Optimization terminated successfully."
       ]
      },
      {
       "output_type": "stream",
       "stream": "stdout",
       "text": [
        "\n",
        "         Current function value: 0.458910\n",
        "         Iterations: 9\n",
        "         Function evaluations: 10\n",
        "         Gradient evaluations: 18\n",
        "         Hessian evaluations: 9\n",
        "Optimization terminated successfully."
       ]
      },
      {
       "output_type": "stream",
       "stream": "stdout",
       "text": [
        "\n",
        "         Current function value: 0.458521\n",
        "         Iterations: 7\n",
        "         Function evaluations: 8\n",
        "         Gradient evaluations: 14\n",
        "         Hessian evaluations: 7\n",
        "The base model plus ['CARGO_BT_Treatment_9999_T2'] is not of full rank.\n",
        "Optimization terminated successfully."
       ]
      },
      {
       "output_type": "stream",
       "stream": "stdout",
       "text": [
        "\n",
        "         Current function value: 0.458438\n",
        "         Iterations: 11\n",
        "         Function evaluations: 12\n",
        "         Gradient evaluations: 22\n",
        "         Hessian evaluations: 11\n",
        "Optimization terminated successfully."
       ]
      },
      {
       "output_type": "stream",
       "stream": "stdout",
       "text": [
        "\n",
        "         Current function value: 0.458258\n",
        "         Iterations: 7\n",
        "         Function evaluations: 8\n",
        "         Gradient evaluations: 14\n",
        "         Hessian evaluations: 7\n",
        "Optimization terminated successfully."
       ]
      },
      {
       "output_type": "stream",
       "stream": "stdout",
       "text": [
        "\n",
        "         Current function value: 0.458611\n",
        "         Iterations: 27\n",
        "         Function evaluations: 32\n",
        "         Gradient evaluations: 58\n",
        "         Hessian evaluations: 27\n",
        "Optimization terminated successfully."
       ]
      },
      {
       "output_type": "stream",
       "stream": "stdout",
       "text": [
        "\n",
        "         Current function value: 0.457754\n",
        "         Iterations: 12\n",
        "         Function evaluations: 13\n",
        "         Gradient evaluations: 24\n",
        "         Hessian evaluations: 12\n",
        "Optimization terminated successfully."
       ]
      },
      {
       "output_type": "stream",
       "stream": "stdout",
       "text": [
        "\n",
        "         Current function value: 0.458910\n",
        "         Iterations: 7\n",
        "         Function evaluations: 8\n",
        "         Gradient evaluations: 14\n",
        "         Hessian evaluations: 7\n",
        "Optimization terminated successfully."
       ]
      },
      {
       "output_type": "stream",
       "stream": "stdout",
       "text": [
        "\n",
        "         Current function value: 0.458258\n",
        "         Iterations: 7\n",
        "         Function evaluations: 8\n",
        "         Gradient evaluations: 14\n",
        "         Hessian evaluations: 7\n",
        "Optimization terminated successfully."
       ]
      },
      {
       "output_type": "stream",
       "stream": "stdout",
       "text": [
        "\n",
        "         Current function value: 0.457952\n",
        "         Iterations: 17\n",
        "         Function evaluations: 24\n",
        "         Gradient evaluations: 40\n",
        "         Hessian evaluations: 17\n",
        "Optimization terminated successfully."
       ]
      },
      {
       "output_type": "stream",
       "stream": "stdout",
       "text": [
        "\n",
        "         Current function value: 0.458807\n",
        "         Iterations: 7\n",
        "         Function evaluations: 8\n",
        "         Gradient evaluations: 14\n",
        "         Hessian evaluations: 7\n",
        "Optimization terminated successfully."
       ]
      },
      {
       "output_type": "stream",
       "stream": "stdout",
       "text": [
        "\n",
        "         Current function value: 0.458664\n",
        "         Iterations: 24\n",
        "         Function evaluations: 33\n",
        "         Gradient evaluations: 56\n",
        "         Hessian evaluations: 24\n",
        "Optimization terminated successfully."
       ]
      },
      {
       "output_type": "stream",
       "stream": "stdout",
       "text": [
        "\n",
        "         Current function value: 0.457353\n",
        "         Iterations: 26\n",
        "         Function evaluations: 47\n",
        "         Gradient evaluations: 72\n",
        "         Hessian evaluations: 26\n",
        "Optimization terminated successfully."
       ]
      },
      {
       "output_type": "stream",
       "stream": "stdout",
       "text": [
        "\n",
        "         Current function value: 0.457593\n",
        "         Iterations: 13\n",
        "         Function evaluations: 14\n",
        "         Gradient evaluations: 26\n",
        "         Hessian evaluations: 13\n",
        "Optimization terminated successfully."
       ]
      },
      {
       "output_type": "stream",
       "stream": "stdout",
       "text": [
        "\n",
        "         Current function value: 0.457448\n",
        "         Iterations: 8\n",
        "         Function evaluations: 9\n",
        "         Gradient evaluations: 16\n",
        "         Hessian evaluations: 8\n",
        "Optimization terminated successfully."
       ]
      },
      {
       "output_type": "stream",
       "stream": "stdout",
       "text": [
        "\n",
        "         Current function value: 0.458120\n",
        "         Iterations: 7\n",
        "         Function evaluations: 8\n",
        "         Gradient evaluations: 14\n",
        "         Hessian evaluations: 7\n",
        "Optimization terminated successfully."
       ]
      },
      {
       "output_type": "stream",
       "stream": "stdout",
       "text": [
        "\n",
        "         Current function value: 0.457353\n",
        "         Iterations: 18\n",
        "         Function evaluations: 31\n",
        "         Gradient evaluations: 48\n",
        "         Hessian evaluations: 18\n",
        "Optimization terminated successfully."
       ]
      },
      {
       "output_type": "stream",
       "stream": "stdout",
       "text": [
        "\n",
        "         Current function value: 0.458868\n",
        "         Iterations: 8\n",
        "         Function evaluations: 9\n",
        "         Gradient evaluations: 16\n",
        "         Hessian evaluations: 8\n",
        "Optimization terminated successfully."
       ]
      },
      {
       "output_type": "stream",
       "stream": "stdout",
       "text": [
        "\n",
        "         Current function value: 0.458063\n",
        "         Iterations: 8\n",
        "         Function evaluations: 9\n",
        "         Gradient evaluations: 16\n",
        "         Hessian evaluations: 8\n",
        "The base model plus ['EMER_USE_vehDup_Treatment_9999_T1'] is not of full rank.\n",
        "Optimization terminated successfully."
       ]
      },
      {
       "output_type": "stream",
       "stream": "stdout",
       "text": [
        "\n",
        "         Current function value: 0.458611\n",
        "         Iterations: 1025\n",
        "         Function evaluations: 1046\n",
        "         Gradient evaluations: 2070\n",
        "         Hessian evaluations: 1025\n",
        "Optimization terminated successfully."
       ]
      },
      {
       "output_type": "stream",
       "stream": "stdout",
       "text": [
        "\n",
        "         Current function value: 0.458062\n",
        "         Iterations: 7\n",
        "         Function evaluations: 8\n",
        "         Gradient evaluations: 14\n",
        "         Hessian evaluations: 7\n",
        "Optimization terminated successfully."
       ]
      },
      {
       "output_type": "stream",
       "stream": "stdout",
       "text": [
        "\n",
        "         Current function value: 0.458845\n",
        "         Iterations: 7\n",
        "         Function evaluations: 8\n",
        "         Gradient evaluations: 14\n",
        "         Hessian evaluations: 7\n",
        "Optimization terminated successfully."
       ]
      },
      {
       "output_type": "stream",
       "stream": "stdout",
       "text": [
        "\n",
        "         Current function value: 0.458284\n",
        "         Iterations: 7\n",
        "         Function evaluations: 8\n",
        "         Gradient evaluations: 14\n",
        "         Hessian evaluations: 7\n",
        "Optimization terminated successfully."
       ]
      },
      {
       "output_type": "stream",
       "stream": "stdout",
       "text": [
        "\n",
        "         Current function value: 0.457797\n",
        "         Iterations: 7\n",
        "         Function evaluations: 8\n",
        "         Gradient evaluations: 14\n",
        "         Hessian evaluations: 7\n",
        "Optimization terminated successfully."
       ]
      },
      {
       "output_type": "stream",
       "stream": "stdout",
       "text": [
        "\n",
        "         Current function value: 0.458403\n",
        "         Iterations: 7\n",
        "         Function evaluations: 8\n",
        "         Gradient evaluations: 14\n",
        "         Hessian evaluations: 7\n",
        "Optimization terminated successfully."
       ]
      },
      {
       "output_type": "stream",
       "stream": "stdout",
       "text": [
        "\n",
        "         Current function value: 0.458912\n",
        "         Iterations: 8\n",
        "         Function evaluations: 9\n",
        "         Gradient evaluations: 16\n",
        "         Hessian evaluations: 8\n",
        "Optimization terminated successfully."
       ]
      },
      {
       "output_type": "stream",
       "stream": "stdout",
       "text": [
        "\n",
        "         Current function value: 0.458867\n",
        "         Iterations: 7\n",
        "         Function evaluations: 8\n",
        "         Gradient evaluations: 14\n",
        "         Hessian evaluations: 7\n",
        "Optimization terminated successfully."
       ]
      },
      {
       "output_type": "stream",
       "stream": "stdout",
       "text": [
        "\n",
        "         Current function value: 0.458908\n",
        "         Iterations: 7\n",
        "         Function evaluations: 8\n",
        "         Gradient evaluations: 14\n",
        "         Hessian evaluations: 7\n",
        "Optimization terminated successfully."
       ]
      },
      {
       "output_type": "stream",
       "stream": "stdout",
       "text": [
        "\n",
        "         Current function value: 0.458915\n",
        "         Iterations: 8\n",
        "         Function evaluations: 9\n",
        "         Gradient evaluations: 16\n",
        "         Hessian evaluations: 8\n",
        "Optimization terminated successfully."
       ]
      },
      {
       "output_type": "stream",
       "stream": "stdout",
       "text": [
        "\n",
        "         Current function value: 0.458557\n",
        "         Iterations: 8\n",
        "         Function evaluations: 9\n",
        "         Gradient evaluations: 16\n",
        "         Hessian evaluations: 8\n",
        "Optimization terminated successfully."
       ]
      },
      {
       "output_type": "stream",
       "stream": "stdout",
       "text": [
        "\n",
        "         Current function value: 0.458719\n",
        "         Iterations: 7\n",
        "         Function evaluations: 8\n",
        "         Gradient evaluations: 14\n",
        "         Hessian evaluations: 7\n",
        "Optimization terminated successfully."
       ]
      },
      {
       "output_type": "stream",
       "stream": "stdout",
       "text": [
        "\n",
        "         Current function value: 0.458506\n",
        "         Iterations: 8\n",
        "         Function evaluations: 9\n",
        "         Gradient evaluations: 16\n",
        "         Hessian evaluations: 8\n",
        "Optimization terminated successfully."
       ]
      },
      {
       "output_type": "stream",
       "stream": "stdout",
       "text": [
        "\n",
        "         Current function value: 0.458485\n",
        "         Iterations: 13\n",
        "         Function evaluations: 17\n",
        "         Gradient evaluations: 29\n",
        "         Hessian evaluations: 13\n",
        "Optimization terminated successfully."
       ]
      },
      {
       "output_type": "stream",
       "stream": "stdout",
       "text": [
        "\n",
        "         Current function value: 0.458732\n",
        "         Iterations: 24\n",
        "         Function evaluations: 29\n",
        "         Gradient evaluations: 52\n",
        "         Hessian evaluations: 24\n",
        "Optimization terminated successfully."
       ]
      },
      {
       "output_type": "stream",
       "stream": "stdout",
       "text": [
        "\n",
        "         Current function value: 0.458732\n",
        "         Iterations: 26\n",
        "         Function evaluations: 42\n",
        "         Gradient evaluations: 67\n",
        "         Hessian evaluations: 26\n",
        "Optimization terminated successfully."
       ]
      },
      {
       "output_type": "stream",
       "stream": "stdout",
       "text": [
        "\n",
        "         Current function value: 0.457417\n",
        "         Iterations: 7\n",
        "         Function evaluations: 8\n",
        "         Gradient evaluations: 14\n",
        "         Hessian evaluations: 7\n",
        "Optimization terminated successfully."
       ]
      },
      {
       "output_type": "stream",
       "stream": "stdout",
       "text": [
        "\n",
        "         Current function value: 0.458437\n",
        "         Iterations: 7\n",
        "         Function evaluations: 8\n",
        "         Gradient evaluations: 14\n",
        "         Hessian evaluations: 7\n",
        "Optimization terminated successfully."
       ]
      },
      {
       "output_type": "stream",
       "stream": "stdout",
       "text": [
        "\n",
        "         Current function value: 0.458723\n",
        "         Iterations: 8\n",
        "         Function evaluations: 9\n",
        "         Gradient evaluations: 16\n",
        "         Hessian evaluations: 8\n",
        "Optimization terminated successfully."
       ]
      },
      {
       "output_type": "stream",
       "stream": "stdout",
       "text": [
        "\n",
        "         Current function value: 0.458894\n",
        "         Iterations: 7\n",
        "         Function evaluations: 8\n",
        "         Gradient evaluations: 14\n",
        "         Hessian evaluations: 7\n",
        "Optimization terminated successfully."
       ]
      },
      {
       "output_type": "stream",
       "stream": "stdout",
       "text": [
        "\n",
        "         Current function value: 0.458606\n",
        "         Iterations: 7\n",
        "         Function evaluations: 8\n",
        "         Gradient evaluations: 14\n",
        "         Hessian evaluations: 7\n",
        "Optimization terminated successfully."
       ]
      },
      {
       "output_type": "stream",
       "stream": "stdout",
       "text": [
        "\n",
        "         Current function value: 0.458917\n",
        "         Iterations: 8\n",
        "         Function evaluations: 9\n",
        "         Gradient evaluations: 16\n",
        "         Hessian evaluations: 8\n",
        "Optimization terminated successfully."
       ]
      },
      {
       "output_type": "stream",
       "stream": "stdout",
       "text": [
        "\n",
        "         Current function value: 0.458861\n",
        "         Iterations: 7\n",
        "         Function evaluations: 8\n",
        "         Gradient evaluations: 14\n",
        "         Hessian evaluations: 7\n",
        "Optimization terminated successfully."
       ]
      },
      {
       "output_type": "stream",
       "stream": "stdout",
       "text": [
        "\n",
        "         Current function value: 0.457873\n",
        "         Iterations: 7\n",
        "         Function evaluations: 8\n",
        "         Gradient evaluations: 14\n",
        "         Hessian evaluations: 7\n",
        "Optimization terminated successfully."
       ]
      },
      {
       "output_type": "stream",
       "stream": "stdout",
       "text": [
        "\n",
        "         Current function value: 0.458665\n",
        "         Iterations: 8\n",
        "         Function evaluations: 9\n",
        "         Gradient evaluations: 16\n",
        "         Hessian evaluations: 8\n",
        "Optimization terminated successfully."
       ]
      },
      {
       "output_type": "stream",
       "stream": "stdout",
       "text": [
        "\n",
        "         Current function value: 0.458542\n",
        "         Iterations: 7\n",
        "         Function evaluations: 8\n",
        "         Gradient evaluations: 14\n",
        "         Hessian evaluations: 7\n",
        "Optimization terminated successfully."
       ]
      },
      {
       "output_type": "stream",
       "stream": "stdout",
       "text": [
        "\n",
        "         Current function value: 0.458827\n",
        "         Iterations: 7\n",
        "         Function evaluations: 8\n",
        "         Gradient evaluations: 14\n",
        "         Hessian evaluations: 7\n",
        "Optimization terminated successfully."
       ]
      },
      {
       "output_type": "stream",
       "stream": "stdout",
       "text": [
        "\n",
        "         Current function value: 0.458499\n",
        "         Iterations: 7\n",
        "         Function evaluations: 8\n",
        "         Gradient evaluations: 14\n",
        "         Hessian evaluations: 7\n",
        "Optimization terminated successfully."
       ]
      },
      {
       "output_type": "stream",
       "stream": "stdout",
       "text": [
        "\n",
        "         Current function value: 0.458342\n",
        "         Iterations: 7\n",
        "         Function evaluations: 8\n",
        "         Gradient evaluations: 14\n",
        "         Hessian evaluations: 7\n",
        "Optimization terminated successfully."
       ]
      },
      {
       "output_type": "stream",
       "stream": "stdout",
       "text": [
        "\n",
        "         Current function value: 0.458371\n",
        "         Iterations: 11\n",
        "         Function evaluations: 12\n",
        "         Gradient evaluations: 22\n",
        "         Hessian evaluations: 11\n",
        "Optimization terminated successfully."
       ]
      },
      {
       "output_type": "stream",
       "stream": "stdout",
       "text": [
        "\n",
        "         Current function value: 0.457873\n",
        "         Iterations: 7\n",
        "         Function evaluations: 8\n",
        "         Gradient evaluations: 14\n",
        "         Hessian evaluations: 7\n",
        "Optimization terminated successfully."
       ]
      },
      {
       "output_type": "stream",
       "stream": "stdout",
       "text": [
        "\n",
        "         Current function value: 0.458770\n",
        "         Iterations: 8\n",
        "         Function evaluations: 9\n",
        "         Gradient evaluations: 16\n",
        "         Hessian evaluations: 8\n",
        "Optimization terminated successfully."
       ]
      },
      {
       "output_type": "stream",
       "stream": "stdout",
       "text": [
        "\n",
        "         Current function value: 0.458794\n",
        "         Iterations: 7\n",
        "         Function evaluations: 8\n",
        "         Gradient evaluations: 14\n",
        "         Hessian evaluations: 7\n",
        "Optimization terminated successfully."
       ]
      },
      {
       "output_type": "stream",
       "stream": "stdout",
       "text": [
        "\n",
        "         Current function value: 0.458885\n",
        "         Iterations: 7\n",
        "         Function evaluations: 8\n",
        "         Gradient evaluations: 14\n",
        "         Hessian evaluations: 7\n",
        "Optimization terminated successfully."
       ]
      },
      {
       "output_type": "stream",
       "stream": "stdout",
       "text": [
        "\n",
        "         Current function value: 0.457413\n",
        "         Iterations: 7\n",
        "         Function evaluations: 8\n",
        "         Gradient evaluations: 14\n",
        "         Hessian evaluations: 7\n",
        "Optimization terminated successfully."
       ]
      },
      {
       "output_type": "stream",
       "stream": "stdout",
       "text": [
        "\n",
        "         Current function value: 0.457873\n",
        "         Iterations: 7\n",
        "         Function evaluations: 8\n",
        "         Gradient evaluations: 14\n",
        "         Hessian evaluations: 7\n",
        "Optimization terminated successfully."
       ]
      },
      {
       "output_type": "stream",
       "stream": "stdout",
       "text": [
        "\n",
        "         Current function value: 0.458523\n",
        "         Iterations: 8\n",
        "         Function evaluations: 9\n",
        "         Gradient evaluations: 16\n",
        "         Hessian evaluations: 8\n",
        "Optimization terminated successfully."
       ]
      },
      {
       "output_type": "stream",
       "stream": "stdout",
       "text": [
        "\n",
        "         Current function value: 0.457424\n",
        "         Iterations: 8\n",
        "         Function evaluations: 9\n",
        "         Gradient evaluations: 16\n",
        "         Hessian evaluations: 8\n",
        "Optimization terminated successfully."
       ]
      },
      {
       "output_type": "stream",
       "stream": "stdout",
       "text": [
        "\n",
        "         Current function value: 0.457795\n",
        "         Iterations: 7\n",
        "         Function evaluations: 8\n",
        "         Gradient evaluations: 14\n",
        "         Hessian evaluations: 7\n",
        "Optimization terminated successfully."
       ]
      },
      {
       "output_type": "stream",
       "stream": "stdout",
       "text": [
        "\n",
        "         Current function value: 0.457543\n",
        "         Iterations: 9\n",
        "         Function evaluations: 10\n",
        "         Gradient evaluations: 18\n",
        "         Hessian evaluations: 9\n",
        "Optimization terminated successfully."
       ]
      },
      {
       "output_type": "stream",
       "stream": "stdout",
       "text": [
        "\n",
        "         Current function value: 0.458901\n",
        "         Iterations: 7\n",
        "         Function evaluations: 8\n",
        "         Gradient evaluations: 14\n",
        "         Hessian evaluations: 7\n",
        "Optimization terminated successfully."
       ]
      },
      {
       "output_type": "stream",
       "stream": "stdout",
       "text": [
        "\n",
        "         Current function value: 0.458117\n",
        "         Iterations: 7\n",
        "         Function evaluations: 8\n",
        "         Gradient evaluations: 14\n",
        "         Hessian evaluations: 7\n",
        "Optimization terminated successfully."
       ]
      },
      {
       "output_type": "stream",
       "stream": "stdout",
       "text": [
        "\n",
        "         Current function value: 0.457873\n",
        "         Iterations: 7\n",
        "         Function evaluations: 8\n",
        "         Gradient evaluations: 14\n",
        "         Hessian evaluations: 7\n",
        "Optimization terminated successfully."
       ]
      },
      {
       "output_type": "stream",
       "stream": "stdout",
       "text": [
        "\n",
        "         Current function value: 0.458768\n",
        "         Iterations: 9\n",
        "         Function evaluations: 10\n",
        "         Gradient evaluations: 18\n",
        "         Hessian evaluations: 9\n",
        "Optimization terminated successfully."
       ]
      },
      {
       "output_type": "stream",
       "stream": "stdout",
       "text": [
        "\n",
        "         Current function value: 0.458804\n",
        "         Iterations: 7\n",
        "         Function evaluations: 8\n",
        "         Gradient evaluations: 14\n",
        "         Hessian evaluations: 7\n",
        "Warning: Maximum number of iterations has been exceeded."
       ]
      },
      {
       "output_type": "stream",
       "stream": "stdout",
       "text": [
        "\n",
        "         Current function value: 0.458746\n",
        "         Iterations: 2000\n",
        "         Function evaluations: 2009\n",
        "         Gradient evaluations: 4008\n",
        "         Hessian evaluations: 2000\n",
        "The model for ['VSURCOND_Treatment_9999_T3'] did not converge\n",
        "Optimization terminated successfully."
       ]
      },
      {
       "output_type": "stream",
       "stream": "stdout",
       "text": [
        "\n",
        "         Current function value: 0.457629\n",
        "         Iterations: 11\n",
        "         Function evaluations: 12\n",
        "         Gradient evaluations: 22\n",
        "         Hessian evaluations: 11\n",
        "Optimization terminated successfully."
       ]
      },
      {
       "output_type": "stream",
       "stream": "stdout",
       "text": [
        "\n",
        "         Current function value: 0.457722\n",
        "         Iterations: 16\n",
        "         Function evaluations: 22\n",
        "         Gradient evaluations: 37\n",
        "         Hessian evaluations: 16\n",
        "Optimization terminated successfully."
       ]
      },
      {
       "output_type": "stream",
       "stream": "stdout",
       "text": [
        "\n",
        "         Current function value: 0.457362\n",
        "         Iterations: 8\n",
        "         Function evaluations: 9\n",
        "         Gradient evaluations: 16\n",
        "         Hessian evaluations: 8\n",
        "Optimization terminated successfully."
       ]
      },
      {
       "output_type": "stream",
       "stream": "stdout",
       "text": [
        "\n",
        "         Current function value: 0.458577\n",
        "         Iterations: 7\n",
        "         Function evaluations: 8\n",
        "         Gradient evaluations: 14\n",
        "         Hessian evaluations: 7\n",
        "Optimization terminated successfully."
       ]
      },
      {
       "output_type": "stream",
       "stream": "stdout",
       "text": [
        "\n",
        "         Current function value: 0.458742\n",
        "         Iterations: 8\n",
        "         Function evaluations: 9\n",
        "         Gradient evaluations: 16\n",
        "         Hessian evaluations: 8\n",
        "Optimization terminated successfully."
       ]
      },
      {
       "output_type": "stream",
       "stream": "stdout",
       "text": [
        "\n",
        "         Current function value: 0.458360\n",
        "         Iterations: 12\n",
        "         Function evaluations: 13\n",
        "         Gradient evaluations: 24\n",
        "         Hessian evaluations: 12\n",
        "Optimization terminated successfully."
       ]
      },
      {
       "output_type": "stream",
       "stream": "stdout",
       "text": [
        "\n",
        "         Current function value: 0.457882\n",
        "         Iterations: 8\n",
        "         Function evaluations: 9\n",
        "         Gradient evaluations: 16\n",
        "         Hessian evaluations: 8\n",
        "Optimization terminated successfully."
       ]
      },
      {
       "output_type": "stream",
       "stream": "stdout",
       "text": [
        "\n",
        "         Current function value: 0.458784\n",
        "         Iterations: 7\n",
        "         Function evaluations: 8\n",
        "         Gradient evaluations: 14\n",
        "         Hessian evaluations: 7\n",
        "The base model plus ['VTRAFCON_Treatment_9999_T40'] is not of full rank.\n",
        "Optimization terminated successfully."
       ]
      },
      {
       "output_type": "stream",
       "stream": "stdout",
       "text": [
        "\n",
        "         Current function value: 0.457920\n",
        "         Iterations: 12\n",
        "         Function evaluations: 17\n",
        "         Gradient evaluations: 28\n",
        "         Hessian evaluations: 12\n",
        "Optimization terminated successfully."
       ]
      },
      {
       "output_type": "stream",
       "stream": "stdout",
       "text": [
        "\n",
        "         Current function value: 0.457362\n",
        "         Iterations: 8\n",
        "         Function evaluations: 9\n",
        "         Gradient evaluations: 16\n",
        "         Hessian evaluations: 8\n",
        "Optimization terminated successfully."
       ]
      },
      {
       "output_type": "stream",
       "stream": "stdout",
       "text": [
        "\n",
        "         Current function value: 0.458820\n",
        "         Iterations: 14\n",
        "         Function evaluations: 19\n",
        "         Gradient evaluations: 32\n",
        "         Hessian evaluations: 14\n",
        "Optimization terminated successfully."
       ]
      },
      {
       "output_type": "stream",
       "stream": "stdout",
       "text": [
        "\n",
        "         Current function value: 0.458607\n",
        "         Iterations: 8\n",
        "         Function evaluations: 9\n",
        "         Gradient evaluations: 16\n",
        "         Hessian evaluations: 8\n",
        "Optimization terminated successfully."
       ]
      },
      {
       "output_type": "stream",
       "stream": "stdout",
       "text": [
        "\n",
        "         Current function value: 0.458694\n",
        "         Iterations: 20\n",
        "         Function evaluations: 31\n",
        "         Gradient evaluations: 50\n",
        "         Hessian evaluations: 20\n",
        "Optimization terminated successfully."
       ]
      },
      {
       "output_type": "stream",
       "stream": "stdout",
       "text": [
        "\n",
        "         Current function value: 0.457920\n",
        "         Iterations: 18\n",
        "         Function evaluations: 23\n",
        "         Gradient evaluations: 40\n",
        "         Hessian evaluations: 18\n",
        "Optimization terminated successfully."
       ]
      },
      {
       "output_type": "stream",
       "stream": "stdout",
       "text": [
        "\n",
        "         Current function value: 0.458857\n",
        "         Iterations: 7\n",
        "         Function evaluations: 8\n",
        "         Gradient evaluations: 14\n",
        "         Hessian evaluations: 7\n",
        "Optimization terminated successfully."
       ]
      },
      {
       "output_type": "stream",
       "stream": "stdout",
       "text": [
        "\n",
        "         Current function value: 0.458917\n",
        "         Iterations: 7\n",
        "         Function evaluations: 8\n",
        "         Gradient evaluations: 14\n",
        "         Hessian evaluations: 7\n",
        "Optimization terminated successfully."
       ]
      },
      {
       "output_type": "stream",
       "stream": "stdout",
       "text": [
        "\n",
        "         Current function value: 0.457803\n",
        "         Iterations: 19\n",
        "         Function evaluations: 24\n",
        "         Gradient evaluations: 42\n",
        "         Hessian evaluations: 19\n",
        "Optimization terminated successfully."
       ]
      },
      {
       "output_type": "stream",
       "stream": "stdout",
       "text": [
        "\n",
        "         Current function value: 0.458732\n",
        "         Iterations: 7\n",
        "         Function evaluations: 8\n",
        "         Gradient evaluations: 14\n",
        "         Hessian evaluations: 7\n",
        "Optimization terminated successfully."
       ]
      },
      {
       "output_type": "stream",
       "stream": "stdout",
       "text": [
        "\n",
        "         Current function value: 0.457872\n",
        "         Iterations: 7\n",
        "         Function evaluations: 8\n",
        "         Gradient evaluations: 14\n",
        "         Hessian evaluations: 7\n",
        "Optimization terminated successfully."
       ]
      },
      {
       "output_type": "stream",
       "stream": "stdout",
       "text": [
        "\n",
        "         Current function value: 0.456816\n",
        "         Iterations: 7\n",
        "         Function evaluations: 8\n",
        "         Gradient evaluations: 14\n",
        "         Hessian evaluations: 7\n",
        "Optimization terminated successfully."
       ]
      },
      {
       "output_type": "stream",
       "stream": "stdout",
       "text": [
        "\n",
        "         Current function value: 0.458916\n",
        "         Iterations: 7\n",
        "         Function evaluations: 8\n",
        "         Gradient evaluations: 14\n",
        "         Hessian evaluations: 7\n",
        "Warning: Maximum number of iterations has been exceeded."
       ]
      },
      {
       "output_type": "stream",
       "stream": "stdout",
       "text": [
        "\n",
        "         Current function value: 0.458747\n",
        "         Iterations: 2000\n",
        "         Function evaluations: 2009\n",
        "         Gradient evaluations: 4008\n",
        "         Hessian evaluations: 2000\n",
        "The model for ['P_CRASH2_Treatment_9999_T18'] did not converge\n",
        "The base model plus ['P_CRASH2_Treatment_9999_T51'] is not of full rank.\n",
        "Warning: Maximum number of iterations has been exceeded."
       ]
      },
      {
       "output_type": "stream",
       "stream": "stdout",
       "text": [
        "\n",
        "         Current function value: 0.458746\n",
        "         Iterations: 2000\n",
        "         Function evaluations: 2013\n",
        "         Gradient evaluations: 4012\n",
        "         Hessian evaluations: 2000\n",
        "The model for ['P_CRASH2_Treatment_9999_T64'] did not converge\n",
        "Optimization terminated successfully."
       ]
      },
      {
       "output_type": "stream",
       "stream": "stdout",
       "text": [
        "\n",
        "         Current function value: 0.458613\n",
        "         Iterations: 7\n",
        "         Function evaluations: 8\n",
        "         Gradient evaluations: 14\n",
        "         Hessian evaluations: 7\n",
        "The base model plus ['P_CRASH2_Treatment_9999_T81'] is not of full rank.\n",
        "Optimization terminated successfully."
       ]
      },
      {
       "output_type": "stream",
       "stream": "stdout",
       "text": [
        "\n",
        "         Current function value: 0.458880\n",
        "         Iterations: 10\n",
        "         Function evaluations: 11\n",
        "         Gradient evaluations: 20\n",
        "         Hessian evaluations: 10\n",
        "Optimization terminated successfully."
       ]
      },
      {
       "output_type": "stream",
       "stream": "stdout",
       "text": [
        "\n",
        "         Current function value: 0.458917\n",
        "         Iterations: 8\n",
        "         Function evaluations: 9\n",
        "         Gradient evaluations: 16\n",
        "         Hessian evaluations: 8\n",
        "Optimization terminated successfully."
       ]
      },
      {
       "output_type": "stream",
       "stream": "stdout",
       "text": [
        "\n",
        "         Current function value: 0.457899\n",
        "         Iterations: 7\n",
        "         Function evaluations: 8\n",
        "         Gradient evaluations: 14\n",
        "         Hessian evaluations: 7\n",
        "Optimization terminated successfully."
       ]
      },
      {
       "output_type": "stream",
       "stream": "stdout",
       "text": [
        "\n",
        "         Current function value: 0.457354\n",
        "         Iterations: 27\n",
        "         Function evaluations: 39\n",
        "         Gradient evaluations: 65\n",
        "         Hessian evaluations: 27\n",
        "Optimization terminated successfully."
       ]
      },
      {
       "output_type": "stream",
       "stream": "stdout",
       "text": [
        "\n",
        "         Current function value: 0.458392\n",
        "         Iterations: 8\n",
        "         Function evaluations: 9\n",
        "         Gradient evaluations: 16\n",
        "         Hessian evaluations: 8\n",
        "Optimization terminated successfully."
       ]
      },
      {
       "output_type": "stream",
       "stream": "stdout",
       "text": [
        "\n",
        "         Current function value: 0.458092\n",
        "         Iterations: 18\n",
        "         Function evaluations: 31\n",
        "         Gradient evaluations: 48\n",
        "         Hessian evaluations: 18\n",
        "Optimization terminated successfully."
       ]
      },
      {
       "output_type": "stream",
       "stream": "stdout",
       "text": [
        "\n",
        "         Current function value: 0.458865\n",
        "         Iterations: 8\n",
        "         Function evaluations: 9\n",
        "         Gradient evaluations: 16\n",
        "         Hessian evaluations: 8\n",
        "Optimization terminated successfully."
       ]
      },
      {
       "output_type": "stream",
       "stream": "stdout",
       "text": [
        "\n",
        "         Current function value: 0.458388\n",
        "         Iterations: 7\n",
        "         Function evaluations: 8\n",
        "         Gradient evaluations: 14\n",
        "         Hessian evaluations: 7\n",
        "Optimization terminated successfully."
       ]
      },
      {
       "output_type": "stream",
       "stream": "stdout",
       "text": [
        "\n",
        "         Current function value: 0.456007\n",
        "         Iterations: 7\n",
        "         Function evaluations: 8\n",
        "         Gradient evaluations: 14\n",
        "         Hessian evaluations: 7\n",
        "Optimization terminated successfully."
       ]
      },
      {
       "output_type": "stream",
       "stream": "stdout",
       "text": [
        "\n",
        "         Current function value: 0.458688\n",
        "         Iterations: 11\n",
        "         Function evaluations: 12\n",
        "         Gradient evaluations: 22\n",
        "         Hessian evaluations: 11\n",
        "Optimization terminated successfully."
       ]
      },
      {
       "output_type": "stream",
       "stream": "stdout",
       "text": [
        "\n",
        "         Current function value: 0.458427\n",
        "         Iterations: 7\n",
        "         Function evaluations: 8\n",
        "         Gradient evaluations: 14\n",
        "         Hessian evaluations: 7\n",
        "Optimization terminated successfully."
       ]
      },
      {
       "output_type": "stream",
       "stream": "stdout",
       "text": [
        "\n",
        "         Current function value: 0.458877\n",
        "         Iterations: 7\n",
        "         Function evaluations: 8\n",
        "         Gradient evaluations: 14\n",
        "         Hessian evaluations: 7\n",
        "Optimization terminated successfully."
       ]
      },
      {
       "output_type": "stream",
       "stream": "stdout",
       "text": [
        "\n",
        "         Current function value: 0.458089\n",
        "         Iterations: 12\n",
        "         Function evaluations: 13\n",
        "         Gradient evaluations: 24\n",
        "         Hessian evaluations: 12\n",
        "Optimization terminated successfully."
       ]
      },
      {
       "output_type": "stream",
       "stream": "stdout",
       "text": [
        "\n",
        "         Current function value: 0.458917\n",
        "         Iterations: 8\n",
        "         Function evaluations: 9\n",
        "         Gradient evaluations: 16\n",
        "         Hessian evaluations: 8\n",
        "Optimization terminated successfully."
       ]
      },
      {
       "output_type": "stream",
       "stream": "stdout",
       "text": [
        "\n",
        "         Current function value: 0.458865\n",
        "         Iterations: 11\n",
        "         Function evaluations: 15\n",
        "         Gradient evaluations: 25\n",
        "         Hessian evaluations: 11\n",
        "Optimization terminated successfully."
       ]
      },
      {
       "output_type": "stream",
       "stream": "stdout",
       "text": [
        "\n",
        "         Current function value: 0.458092\n",
        "         Iterations: 11\n",
        "         Function evaluations: 12\n",
        "         Gradient evaluations: 22\n",
        "         Hessian evaluations: 11\n",
        "Optimization terminated successfully."
       ]
      },
      {
       "output_type": "stream",
       "stream": "stdout",
       "text": [
        "\n",
        "         Current function value: 0.458816\n",
        "         Iterations: 8\n",
        "         Function evaluations: 9\n",
        "         Gradient evaluations: 16\n",
        "         Hessian evaluations: 8\n",
        "Optimization terminated successfully."
       ]
      },
      {
       "output_type": "stream",
       "stream": "stdout",
       "text": [
        "\n",
        "         Current function value: 0.458737\n",
        "         Iterations: 7\n",
        "         Function evaluations: 8\n",
        "         Gradient evaluations: 14\n",
        "         Hessian evaluations: 7\n",
        "Optimization terminated successfully."
       ]
      },
      {
       "output_type": "stream",
       "stream": "stdout",
       "text": [
        "\n",
        "         Current function value: 0.458093\n",
        "         Iterations: 12\n",
        "         Function evaluations: 17\n",
        "         Gradient evaluations: 28\n",
        "         Hessian evaluations: 12\n",
        "Optimization terminated successfully."
       ]
      },
      {
       "output_type": "stream",
       "stream": "stdout",
       "text": [
        "\n",
        "         Current function value: 0.458559\n",
        "         Iterations: 9\n",
        "         Function evaluations: 10\n",
        "         Gradient evaluations: 18\n",
        "         Hessian evaluations: 9\n",
        "Optimization terminated successfully."
       ]
      },
      {
       "output_type": "stream",
       "stream": "stdout",
       "text": [
        "\n",
        "         Current function value: 0.458916\n",
        "         Iterations: 7\n",
        "         Function evaluations: 8\n",
        "         Gradient evaluations: 14\n",
        "         Hessian evaluations: 7\n",
        "Optimization terminated successfully."
       ]
      },
      {
       "output_type": "stream",
       "stream": "stdout",
       "text": [
        "\n",
        "         Current function value: 0.458736\n",
        "         Iterations: 7\n",
        "         Function evaluations: 8\n",
        "         Gradient evaluations: 14\n",
        "         Hessian evaluations: 7\n",
        "Optimization terminated successfully."
       ]
      },
      {
       "output_type": "stream",
       "stream": "stdout",
       "text": [
        "\n",
        "         Current function value: 0.458889\n",
        "         Iterations: 7\n",
        "         Function evaluations: 8\n",
        "         Gradient evaluations: 14\n",
        "         Hessian evaluations: 7\n",
        "Optimization terminated successfully."
       ]
      },
      {
       "output_type": "stream",
       "stream": "stdout",
       "text": [
        "\n",
        "         Current function value: 0.458806\n",
        "         Iterations: 7\n",
        "         Function evaluations: 8\n",
        "         Gradient evaluations: 14\n",
        "         Hessian evaluations: 7\n",
        "Optimization terminated successfully."
       ]
      },
      {
       "output_type": "stream",
       "stream": "stdout",
       "text": [
        "\n",
        "         Current function value: 0.458605\n",
        "         Iterations: 7\n",
        "         Function evaluations: 8\n",
        "         Gradient evaluations: 14\n",
        "         Hessian evaluations: 7\n",
        "Optimization terminated successfully."
       ]
      },
      {
       "output_type": "stream",
       "stream": "stdout",
       "text": [
        "\n",
        "         Current function value: 0.458610\n",
        "         Iterations: 25\n",
        "         Function evaluations: 34\n",
        "         Gradient evaluations: 58\n",
        "         Hessian evaluations: 25\n",
        "The base model plus ['ACC_TYPE_Treatment_9999_T2'] is not of full rank.\n",
        "The base model plus ['ACC_TYPE_Treatment_9999_T6'] is not of full rank.\n",
        "Optimization terminated successfully."
       ]
      },
      {
       "output_type": "stream",
       "stream": "stdout",
       "text": [
        "\n",
        "         Current function value: 0.458868\n",
        "         Iterations: 8\n",
        "         Function evaluations: 9\n",
        "         Gradient evaluations: 16\n",
        "         Hessian evaluations: 8\n",
        "The base model plus ['ACC_TYPE_Treatment_9999_T50'] is not of full rank.\n",
        "Optimization terminated successfully."
       ]
      },
      {
       "output_type": "stream",
       "stream": "stdout",
       "text": [
        "\n",
        "         Current function value: 0.458092\n",
        "         Iterations: 12\n",
        "         Function evaluations: 13\n",
        "         Gradient evaluations: 24\n",
        "         Hessian evaluations: 12\n",
        "Optimization terminated successfully."
       ]
      },
      {
       "output_type": "stream",
       "stream": "stdout",
       "text": [
        "\n",
        "         Current function value: 0.458713\n",
        "         Iterations: 8\n",
        "         Function evaluations: 9\n",
        "         Gradient evaluations: 16\n",
        "         Hessian evaluations: 8\n",
        "Optimization terminated successfully."
       ]
      },
      {
       "output_type": "stream",
       "stream": "stdout",
       "text": [
        "\n",
        "         Current function value: 0.458152\n",
        "         Iterations: 7\n",
        "         Function evaluations: 8\n",
        "         Gradient evaluations: 14\n",
        "         Hessian evaluations: 7\n",
        "Optimization terminated successfully."
       ]
      },
      {
       "output_type": "stream",
       "stream": "stdout",
       "text": [
        "\n",
        "         Current function value: 0.456773\n",
        "         Iterations: 13\n",
        "         Function evaluations: 14\n",
        "         Gradient evaluations: 26\n",
        "         Hessian evaluations: 13\n",
        "Optimization terminated successfully."
       ]
      },
      {
       "output_type": "stream",
       "stream": "stdout",
       "text": [
        "\n",
        "         Current function value: 0.458414\n",
        "         Iterations: 8\n",
        "         Function evaluations: 9\n",
        "         Gradient evaluations: 16\n",
        "         Hessian evaluations: 8\n",
        "Optimization terminated successfully."
       ]
      },
      {
       "output_type": "stream",
       "stream": "stdout",
       "text": [
        "\n",
        "         Current function value: 0.457901\n",
        "         Iterations: 7\n",
        "         Function evaluations: 8\n",
        "         Gradient evaluations: 14\n",
        "         Hessian evaluations: 7\n",
        "Optimization terminated successfully."
       ]
      },
      {
       "output_type": "stream",
       "stream": "stdout",
       "text": [
        "\n",
        "         Current function value: 0.458102\n",
        "         Iterations: 7\n",
        "         Function evaluations: 8\n",
        "         Gradient evaluations: 14\n",
        "         Hessian evaluations: 7\n",
        "Optimization terminated successfully."
       ]
      },
      {
       "output_type": "stream",
       "stream": "stdout",
       "text": [
        "\n",
        "         Current function value: 0.458712\n",
        "         Iterations: 7\n",
        "         Function evaluations: 8\n",
        "         Gradient evaluations: 14\n",
        "         Hessian evaluations: 7\n",
        "Optimization terminated successfully."
       ]
      },
      {
       "output_type": "stream",
       "stream": "stdout",
       "text": [
        "\n",
        "         Current function value: 0.457853\n",
        "         Iterations: 7\n",
        "         Function evaluations: 8\n",
        "         Gradient evaluations: 14\n",
        "         Hessian evaluations: 7\n",
        "Optimization terminated successfully."
       ]
      },
      {
       "output_type": "stream",
       "stream": "stdout",
       "text": [
        "\n",
        "         Current function value: 0.457954\n",
        "         Iterations: 7\n",
        "         Function evaluations: 8\n",
        "         Gradient evaluations: 14\n",
        "         Hessian evaluations: 7\n",
        "The base model plus ['BDYTYP_IM_T12'] is not of full rank.\n",
        "Optimization terminated successfully."
       ]
      },
      {
       "output_type": "stream",
       "stream": "stdout",
       "text": [
        "\n",
        "         Current function value: 0.458513\n",
        "         Iterations: 8\n",
        "         Function evaluations: 9\n",
        "         Gradient evaluations: 16\n",
        "         Hessian evaluations: 8\n",
        "Optimization terminated successfully."
       ]
      },
      {
       "output_type": "stream",
       "stream": "stdout",
       "text": [
        "\n",
        "         Current function value: 0.458829\n",
        "         Iterations: 7\n",
        "         Function evaluations: 8\n",
        "         Gradient evaluations: 14\n",
        "         Hessian evaluations: 7\n",
        "Warning: Maximum number of iterations has been exceeded."
       ]
      },
      {
       "output_type": "stream",
       "stream": "stdout",
       "text": [
        "\n",
        "         Current function value: 0.458747\n",
        "         Iterations: 2000\n",
        "         Function evaluations: 2001\n",
        "         Gradient evaluations: 4000\n",
        "         Hessian evaluations: 2000\n",
        "The model for ['BDYTYP_IM_T16'] did not converge\n",
        "The base model plus ['BDYTYP_IM_T17'] is not of full rank.\n",
        "Optimization terminated successfully."
       ]
      },
      {
       "output_type": "stream",
       "stream": "stdout",
       "text": [
        "\n",
        "         Current function value: 0.458615\n",
        "         Iterations: 7\n",
        "         Function evaluations: 8\n",
        "         Gradient evaluations: 14\n",
        "         Hessian evaluations: 7\n",
        "Optimization terminated successfully."
       ]
      },
      {
       "output_type": "stream",
       "stream": "stdout",
       "text": [
        "\n",
        "         Current function value: 0.458908\n",
        "         Iterations: 7\n",
        "         Function evaluations: 8\n",
        "         Gradient evaluations: 14\n",
        "         Hessian evaluations: 7\n",
        "Optimization terminated successfully."
       ]
      },
      {
       "output_type": "stream",
       "stream": "stdout",
       "text": [
        "\n",
        "         Current function value: 0.458715\n",
        "         Iterations: 8\n",
        "         Function evaluations: 9\n",
        "         Gradient evaluations: 16\n",
        "         Hessian evaluations: 8\n",
        "Optimization terminated successfully."
       ]
      },
      {
       "output_type": "stream",
       "stream": "stdout",
       "text": [
        "\n",
        "         Current function value: 0.458913\n",
        "         Iterations: 7\n",
        "         Function evaluations: 8\n",
        "         Gradient evaluations: 14\n",
        "         Hessian evaluations: 7\n",
        "Optimization terminated successfully."
       ]
      },
      {
       "output_type": "stream",
       "stream": "stdout",
       "text": [
        "\n",
        "         Current function value: 0.458410\n",
        "         Iterations: 7\n",
        "         Function evaluations: 8\n",
        "         Gradient evaluations: 14\n",
        "         Hessian evaluations: 7\n",
        "Optimization terminated successfully."
       ]
      },
      {
       "output_type": "stream",
       "stream": "stdout",
       "text": [
        "\n",
        "         Current function value: 0.458789\n",
        "         Iterations: 8\n",
        "         Function evaluations: 9\n",
        "         Gradient evaluations: 16\n",
        "         Hessian evaluations: 8\n",
        "Optimization terminated successfully."
       ]
      },
      {
       "output_type": "stream",
       "stream": "stdout",
       "text": [
        "\n",
        "         Current function value: 0.458180\n",
        "         Iterations: 8\n",
        "         Function evaluations: 9\n",
        "         Gradient evaluations: 16\n",
        "         Hessian evaluations: 8\n",
        "Optimization terminated successfully."
       ]
      },
      {
       "output_type": "stream",
       "stream": "stdout",
       "text": [
        "\n",
        "         Current function value: 0.457182\n",
        "         Iterations: 25\n",
        "         Function evaluations: 42\n",
        "         Gradient evaluations: 66\n",
        "         Hessian evaluations: 25\n",
        "The base model plus ['BDYTYP_IM_T48'] is not of full rank.\n",
        "Optimization terminated successfully."
       ]
      },
      {
       "output_type": "stream",
       "stream": "stdout",
       "text": [
        "\n",
        "         Current function value: 0.458664\n",
        "         Iterations: 18\n",
        "         Function evaluations: 19\n",
        "         Gradient evaluations: 36\n",
        "         Hessian evaluations: 18\n",
        "Optimization terminated successfully."
       ]
      },
      {
       "output_type": "stream",
       "stream": "stdout",
       "text": [
        "\n",
        "         Current function value: 0.457353\n",
        "         Iterations: 24\n",
        "         Function evaluations: 29\n",
        "         Gradient evaluations: 52\n",
        "         Hessian evaluations: 24\n",
        "Optimization terminated successfully."
       ]
      },
      {
       "output_type": "stream",
       "stream": "stdout",
       "text": [
        "\n",
        "         Current function value: 0.457818\n",
        "         Iterations: 12\n",
        "         Function evaluations: 13\n",
        "         Gradient evaluations: 24\n",
        "         Hessian evaluations: 12\n",
        "Optimization terminated successfully."
       ]
      },
      {
       "output_type": "stream",
       "stream": "stdout",
       "text": [
        "\n",
        "         Current function value: 0.458694\n",
        "         Iterations: 17\n",
        "         Function evaluations: 25\n",
        "         Gradient evaluations: 41\n",
        "         Hessian evaluations: 17\n",
        "Optimization terminated successfully."
       ]
      },
      {
       "output_type": "stream",
       "stream": "stdout",
       "text": [
        "\n",
        "         Current function value: 0.457354\n",
        "         Iterations: 18\n",
        "         Function evaluations: 29\n",
        "         Gradient evaluations: 46\n",
        "         Hessian evaluations: 18\n",
        "Optimization terminated successfully."
       ]
      },
      {
       "output_type": "stream",
       "stream": "stdout",
       "text": [
        "\n",
        "         Current function value: 0.458820\n",
        "         Iterations: 17\n",
        "         Function evaluations: 23\n",
        "         Gradient evaluations: 39\n",
        "         Hessian evaluations: 17\n",
        "Optimization terminated successfully."
       ]
      },
      {
       "output_type": "stream",
       "stream": "stdout",
       "text": [
        "\n",
        "         Current function value: 0.458887\n",
        "         Iterations: 7\n",
        "         Function evaluations: 8\n",
        "         Gradient evaluations: 14\n",
        "         Hessian evaluations: 7\n",
        "Optimization terminated successfully."
       ]
      },
      {
       "output_type": "stream",
       "stream": "stdout",
       "text": [
        "\n",
        "         Current function value: 0.458916\n",
        "         Iterations: 7\n",
        "         Function evaluations: 8\n",
        "         Gradient evaluations: 14\n",
        "         Hessian evaluations: 7\n",
        "Optimization terminated successfully."
       ]
      },
      {
       "output_type": "stream",
       "stream": "stdout",
       "text": [
        "\n",
        "         Current function value: 0.458696\n",
        "         Iterations: 7\n",
        "         Function evaluations: 8\n",
        "         Gradient evaluations: 14\n",
        "         Hessian evaluations: 7\n",
        "Optimization terminated successfully."
       ]
      },
      {
       "output_type": "stream",
       "stream": "stdout",
       "text": [
        "\n",
        "         Current function value: 0.458065\n",
        "         Iterations: 12\n",
        "         Function evaluations: 13\n",
        "         Gradient evaluations: 24\n",
        "         Hessian evaluations: 12\n",
        "Optimization terminated successfully."
       ]
      },
      {
       "output_type": "stream",
       "stream": "stdout",
       "text": [
        "\n",
        "         Current function value: 0.458880\n",
        "         Iterations: 7\n",
        "         Function evaluations: 8\n",
        "         Gradient evaluations: 14\n",
        "         Hessian evaluations: 7\n",
        "Optimization terminated successfully."
       ]
      },
      {
       "output_type": "stream",
       "stream": "stdout",
       "text": [
        "\n",
        "         Current function value: 0.458732\n",
        "         Iterations: 7\n",
        "         Function evaluations: 8\n",
        "         Gradient evaluations: 14\n",
        "         Hessian evaluations: 7\n",
        "Optimization terminated successfully."
       ]
      },
      {
       "output_type": "stream",
       "stream": "stdout",
       "text": [
        "\n",
        "         Current function value: 0.458798\n",
        "         Iterations: 8\n",
        "         Function evaluations: 9\n",
        "         Gradient evaluations: 16\n",
        "         Hessian evaluations: 8\n",
        "Optimization terminated successfully."
       ]
      },
      {
       "output_type": "stream",
       "stream": "stdout",
       "text": [
        "\n",
        "         Current function value: 0.458560\n",
        "         Iterations: 17\n",
        "         Function evaluations: 31\n",
        "         Gradient evaluations: 47\n",
        "         Hessian evaluations: 17\n",
        "The base model plus ['BDYTYP_IM_T97'] is not of full rank.\n",
        "Optimization terminated successfully."
       ]
      },
      {
       "output_type": "stream",
       "stream": "stdout",
       "text": [
        "\n",
        "         Current function value: 0.458136\n",
        "         Iterations: 7\n",
        "         Function evaluations: 8\n",
        "         Gradient evaluations: 14\n",
        "         Hessian evaluations: 7\n",
        "Optimization terminated successfully."
       ]
      },
      {
       "output_type": "stream",
       "stream": "stdout",
       "text": [
        "\n",
        "         Current function value: 0.458882\n",
        "         Iterations: 7\n",
        "         Function evaluations: 8\n",
        "         Gradient evaluations: 14\n",
        "         Hessian evaluations: 7\n",
        "Optimization terminated successfully."
       ]
      },
      {
       "output_type": "stream",
       "stream": "stdout",
       "text": [
        "\n",
        "         Current function value: 0.458807\n",
        "         Iterations: 7\n",
        "         Function evaluations: 8\n",
        "         Gradient evaluations: 14\n",
        "         Hessian evaluations: 7\n",
        "Optimization terminated successfully."
       ]
      },
      {
       "output_type": "stream",
       "stream": "stdout",
       "text": [
        "\n",
        "         Current function value: 0.457109\n",
        "         Iterations: 7\n",
        "         Function evaluations: 8\n",
        "         Gradient evaluations: 14\n",
        "         Hessian evaluations: 7\n",
        "Optimization terminated successfully."
       ]
      },
      {
       "output_type": "stream",
       "stream": "stdout",
       "text": [
        "\n",
        "         Current function value: 0.458403\n",
        "         Iterations: 8\n",
        "         Function evaluations: 9\n",
        "         Gradient evaluations: 16\n",
        "         Hessian evaluations: 8\n",
        "Optimization terminated successfully."
       ]
      },
      {
       "output_type": "stream",
       "stream": "stdout",
       "text": [
        "\n",
        "         Current function value: 0.458896\n",
        "         Iterations: 8\n",
        "         Function evaluations: 9\n",
        "         Gradient evaluations: 16\n",
        "         Hessian evaluations: 8\n",
        "Optimization terminated successfully."
       ]
      },
      {
       "output_type": "stream",
       "stream": "stdout",
       "text": [
        "\n",
        "         Current function value: 0.458614\n",
        "         Iterations: 8\n",
        "         Function evaluations: 9\n",
        "         Gradient evaluations: 16\n",
        "         Hessian evaluations: 8\n",
        "Optimization terminated successfully."
       ]
      },
      {
       "output_type": "stream",
       "stream": "stdout",
       "text": [
        "\n",
        "         Current function value: 0.458844\n",
        "         Iterations: 7\n",
        "         Function evaluations: 8\n",
        "         Gradient evaluations: 14\n",
        "         Hessian evaluations: 7\n",
        "Optimization terminated successfully."
       ]
      },
      {
       "output_type": "stream",
       "stream": "stdout",
       "text": [
        "\n",
        "         Current function value: 0.458853\n",
        "         Iterations: 7\n",
        "         Function evaluations: 8\n",
        "         Gradient evaluations: 14\n",
        "         Hessian evaluations: 7\n",
        "Optimization terminated successfully."
       ]
      },
      {
       "output_type": "stream",
       "stream": "stdout",
       "text": [
        "\n",
        "         Current function value: 0.457960\n",
        "         Iterations: 7\n",
        "         Function evaluations: 8\n",
        "         Gradient evaluations: 14\n",
        "         Hessian evaluations: 7\n",
        "Optimization terminated successfully."
       ]
      },
      {
       "output_type": "stream",
       "stream": "stdout",
       "text": [
        "\n",
        "         Current function value: 0.458562\n",
        "         Iterations: 7\n",
        "         Function evaluations: 8\n",
        "         Gradient evaluations: 14\n",
        "         Hessian evaluations: 7\n",
        "Optimization terminated successfully."
       ]
      },
      {
       "output_type": "stream",
       "stream": "stdout",
       "text": [
        "\n",
        "         Current function value: 0.458462\n",
        "         Iterations: 8\n",
        "         Function evaluations: 9\n",
        "         Gradient evaluations: 16\n",
        "         Hessian evaluations: 8\n",
        "Optimization terminated successfully."
       ]
      },
      {
       "output_type": "stream",
       "stream": "stdout",
       "text": [
        "\n",
        "         Current function value: 0.458485\n",
        "         Iterations: 18\n",
        "         Function evaluations: 29\n",
        "         Gradient evaluations: 46\n",
        "         Hessian evaluations: 18\n",
        "Optimization terminated successfully."
       ]
      },
      {
       "output_type": "stream",
       "stream": "stdout",
       "text": [
        "\n",
        "         Current function value: 0.458732\n",
        "         Iterations: 15\n",
        "         Function evaluations: 24\n",
        "         Gradient evaluations: 38\n",
        "         Hessian evaluations: 15\n",
        "The base model plus ['IMPACT1_IM_T61'] is not of full rank.\n",
        "Optimization terminated successfully."
       ]
      },
      {
       "output_type": "stream",
       "stream": "stdout",
       "text": [
        "\n",
        "         Current function value: 0.456640\n",
        "         Iterations: 7\n",
        "         Function evaluations: 8\n",
        "         Gradient evaluations: 14\n",
        "         Hessian evaluations: 7\n",
        "Optimization terminated successfully."
       ]
      },
      {
       "output_type": "stream",
       "stream": "stdout",
       "text": [
        "\n",
        "         Current function value: 0.458304\n",
        "         Iterations: 7\n",
        "         Function evaluations: 8\n",
        "         Gradient evaluations: 14\n",
        "         Hessian evaluations: 7\n",
        "Optimization terminated successfully."
       ]
      },
      {
       "output_type": "stream",
       "stream": "stdout",
       "text": [
        "\n",
        "         Current function value: 0.458671\n",
        "         Iterations: 7\n",
        "         Function evaluations: 8\n",
        "         Gradient evaluations: 14\n",
        "         Hessian evaluations: 7\n",
        "Optimization terminated successfully."
       ]
      },
      {
       "output_type": "stream",
       "stream": "stdout",
       "text": [
        "\n",
        "         Current function value: 0.458904\n",
        "         Iterations: 7\n",
        "         Function evaluations: 8\n",
        "         Gradient evaluations: 14\n",
        "         Hessian evaluations: 7\n",
        "Optimization terminated successfully."
       ]
      },
      {
       "output_type": "stream",
       "stream": "stdout",
       "text": [
        "\n",
        "         Current function value: 0.458110\n",
        "         Iterations: 7\n",
        "         Function evaluations: 8\n",
        "         Gradient evaluations: 14\n",
        "         Hessian evaluations: 7\n",
        "The base model plus ['PCRASH1_IM_T1'] is not of full rank.\n",
        "Optimization terminated successfully."
       ]
      },
      {
       "output_type": "stream",
       "stream": "stdout",
       "text": [
        "\n",
        "         Current function value: 0.458673\n",
        "         Iterations: 7\n",
        "         Function evaluations: 8\n",
        "         Gradient evaluations: 14\n",
        "         Hessian evaluations: 7\n",
        "Optimization terminated successfully."
       ]
      },
      {
       "output_type": "stream",
       "stream": "stdout",
       "text": [
        "\n",
        "         Current function value: 0.458896\n",
        "         Iterations: 7\n",
        "         Function evaluations: 8\n",
        "         Gradient evaluations: 14\n",
        "         Hessian evaluations: 7\n",
        "Optimization terminated successfully."
       ]
      },
      {
       "output_type": "stream",
       "stream": "stdout",
       "text": [
        "\n",
        "         Current function value: 0.458824\n",
        "         Iterations: 7\n",
        "         Function evaluations: 8\n",
        "         Gradient evaluations: 14\n",
        "         Hessian evaluations: 7\n",
        "Optimization terminated successfully."
       ]
      },
      {
       "output_type": "stream",
       "stream": "stdout",
       "text": [
        "\n",
        "         Current function value: 0.458773\n",
        "         Iterations: 7\n",
        "         Function evaluations: 8\n",
        "         Gradient evaluations: 14\n",
        "         Hessian evaluations: 7\n",
        "Optimization terminated successfully."
       ]
      },
      {
       "output_type": "stream",
       "stream": "stdout",
       "text": [
        "\n",
        "         Current function value: 0.458733\n",
        "         Iterations: 23\n",
        "         Function evaluations: 37\n",
        "         Gradient evaluations: 59\n",
        "         Hessian evaluations: 23\n",
        "Optimization terminated successfully."
       ]
      },
      {
       "output_type": "stream",
       "stream": "stdout",
       "text": [
        "\n",
        "         Current function value: 0.458679\n",
        "         Iterations: 11\n",
        "         Function evaluations: 12\n",
        "         Gradient evaluations: 22\n",
        "         Hessian evaluations: 11\n",
        "Optimization terminated successfully."
       ]
      },
      {
       "output_type": "stream",
       "stream": "stdout",
       "text": [
        "\n",
        "         Current function value: 0.456773\n",
        "         Iterations: 7\n",
        "         Function evaluations: 8\n",
        "         Gradient evaluations: 14\n",
        "         Hessian evaluations: 7\n",
        "Optimization terminated successfully."
       ]
      },
      {
       "output_type": "stream",
       "stream": "stdout",
       "text": [
        "\n",
        "         Current function value: 0.458207\n",
        "         Iterations: 8\n",
        "         Function evaluations: 9\n",
        "         Gradient evaluations: 16\n",
        "         Hessian evaluations: 8\n",
        "Optimization terminated successfully."
       ]
      },
      {
       "output_type": "stream",
       "stream": "stdout",
       "text": [
        "\n",
        "         Current function value: 0.458833\n",
        "         Iterations: 8\n",
        "         Function evaluations: 9\n",
        "         Gradient evaluations: 16\n",
        "         Hessian evaluations: 8\n",
        "Optimization terminated successfully."
       ]
      },
      {
       "output_type": "stream",
       "stream": "stdout",
       "text": [
        "\n",
        "         Current function value: 0.458415\n",
        "         Iterations: 7\n",
        "         Function evaluations: 8\n",
        "         Gradient evaluations: 14\n",
        "         Hessian evaluations: 7\n",
        "Optimization terminated successfully."
       ]
      },
      {
       "output_type": "stream",
       "stream": "stdout",
       "text": [
        "\n",
        "         Current function value: 0.458092\n",
        "         Iterations: 12\n",
        "         Function evaluations: 13\n",
        "         Gradient evaluations: 24\n",
        "         Hessian evaluations: 12\n",
        "Optimization terminated successfully."
       ]
      },
      {
       "output_type": "stream",
       "stream": "stdout",
       "text": [
        "\n",
        "         Current function value: 0.458664\n",
        "         Iterations: 7\n",
        "         Function evaluations: 8\n",
        "         Gradient evaluations: 14\n",
        "         Hessian evaluations: 7\n",
        "Optimization terminated successfully."
       ]
      },
      {
       "output_type": "stream",
       "stream": "stdout",
       "text": [
        "\n",
        "         Current function value: 0.458566\n",
        "         Iterations: 19\n",
        "         Function evaluations: 24\n",
        "         Gradient evaluations: 42\n",
        "         Hessian evaluations: 19\n",
        "The base model plus ['PCRASH1_IM_T17'] is not of full rank.\n",
        "Optimization terminated successfully."
       ]
      },
      {
       "output_type": "stream",
       "stream": "stdout",
       "text": [
        "\n",
        "         Current function value: 0.458555\n",
        "         Iterations: 11\n",
        "         Function evaluations: 12\n",
        "         Gradient evaluations: 22\n",
        "         Hessian evaluations: 11\n",
        "Optimization terminated successfully."
       ]
      },
      {
       "output_type": "stream",
       "stream": "stdout",
       "text": [
        "\n",
        "         Current function value: 0.458874\n",
        "         Iterations: 9\n",
        "         Function evaluations: 10\n",
        "         Gradient evaluations: 18\n",
        "         Hessian evaluations: 9\n",
        "Optimization terminated successfully."
       ]
      },
      {
       "output_type": "stream",
       "stream": "stdout",
       "text": [
        "\n",
        "         Current function value: 0.458561\n",
        "         Iterations: 7\n",
        "         Function evaluations: 8\n",
        "         Gradient evaluations: 14\n",
        "         Hessian evaluations: 7\n",
        "Optimization terminated successfully."
       ]
      },
      {
       "output_type": "stream",
       "stream": "stdout",
       "text": [
        "\n",
        "         Current function value: 0.458418\n",
        "         Iterations: 7\n",
        "         Function evaluations: 8\n",
        "         Gradient evaluations: 14\n",
        "         Hessian evaluations: 7\n",
        "Optimization terminated successfully."
       ]
      },
      {
       "output_type": "stream",
       "stream": "stdout",
       "text": [
        "\n",
        "         Current function value: 0.458191\n",
        "         Iterations: 8\n",
        "         Function evaluations: 9\n",
        "         Gradient evaluations: 16\n",
        "         Hessian evaluations: 8\n",
        "Optimization terminated successfully."
       ]
      },
      {
       "output_type": "stream",
       "stream": "stdout",
       "text": [
        "\n",
        "         Current function value: 0.458906\n",
        "         Iterations: 7\n",
        "         Function evaluations: 8\n",
        "         Gradient evaluations: 14\n",
        "         Hessian evaluations: 7\n",
        "Optimization terminated successfully."
       ]
      },
      {
       "output_type": "stream",
       "stream": "stdout",
       "text": [
        "\n",
        "         Current function value: 0.458439\n",
        "         Iterations: 7\n",
        "         Function evaluations: 8\n",
        "         Gradient evaluations: 14\n",
        "         Hessian evaluations: 7\n",
        "Optimization terminated successfully."
       ]
      },
      {
       "output_type": "stream",
       "stream": "stdout",
       "text": [
        "\n",
        "         Current function value: 0.458701\n",
        "         Iterations: 8\n",
        "         Function evaluations: 9\n",
        "         Gradient evaluations: 16\n",
        "         Hessian evaluations: 8\n",
        "Optimization terminated successfully."
       ]
      },
      {
       "output_type": "stream",
       "stream": "stdout",
       "text": [
        "\n",
        "         Current function value: 0.458093\n",
        "         Iterations: 8\n",
        "         Function evaluations: 9\n",
        "         Gradient evaluations: 16\n",
        "         Hessian evaluations: 8\n",
        "Optimization terminated successfully."
       ]
      },
      {
       "output_type": "stream",
       "stream": "stdout",
       "text": [
        "\n",
        "         Current function value: 0.458842\n",
        "         Iterations: 7\n",
        "         Function evaluations: 8\n",
        "         Gradient evaluations: 14\n",
        "         Hessian evaluations: 7\n",
        "Optimization terminated successfully."
       ]
      },
      {
       "output_type": "stream",
       "stream": "stdout",
       "text": [
        "\n",
        "         Current function value: 0.458660\n",
        "         Iterations: 7\n",
        "         Function evaluations: 8\n",
        "         Gradient evaluations: 14\n",
        "         Hessian evaluations: 7\n",
        "Optimization terminated successfully."
       ]
      },
      {
       "output_type": "stream",
       "stream": "stdout",
       "text": [
        "\n",
        "         Current function value: 0.458485\n",
        "         Iterations: 13\n",
        "         Function evaluations: 17\n",
        "         Gradient evaluations: 29\n",
        "         Hessian evaluations: 13\n",
        "Optimization terminated successfully."
       ]
      },
      {
       "output_type": "stream",
       "stream": "stdout",
       "text": [
        "\n",
        "         Current function value: 0.458421\n",
        "         Iterations: 8\n",
        "         Function evaluations: 9\n",
        "         Gradient evaluations: 16\n",
        "         Hessian evaluations: 8\n",
        "Optimization terminated successfully."
       ]
      },
      {
       "output_type": "stream",
       "stream": "stdout",
       "text": [
        "\n",
        "         Current function value: 0.458253\n",
        "         Iterations: 12\n",
        "         Function evaluations: 13\n",
        "         Gradient evaluations: 24\n",
        "         Hessian evaluations: 12\n",
        "Optimization terminated successfully."
       ]
      },
      {
       "output_type": "stream",
       "stream": "stdout",
       "text": [
        "\n",
        "         Current function value: 0.458876\n",
        "         Iterations: 7\n",
        "         Function evaluations: 8\n",
        "         Gradient evaluations: 14\n",
        "         Hessian evaluations: 7\n",
        "Optimization terminated successfully."
       ]
      },
      {
       "output_type": "stream",
       "stream": "stdout",
       "text": [
        "\n",
        "         Current function value: 0.458857\n",
        "         Iterations: 7\n",
        "         Function evaluations: 8\n",
        "         Gradient evaluations: 14\n",
        "         Hessian evaluations: 7\n",
        "Optimization terminated successfully."
       ]
      },
      {
       "output_type": "stream",
       "stream": "stdout",
       "text": [
        "\n",
        "         Current function value: 0.458533\n",
        "         Iterations: 7\n",
        "         Function evaluations: 8\n",
        "         Gradient evaluations: 14\n",
        "         Hessian evaluations: 7\n",
        "Optimization terminated successfully."
       ]
      },
      {
       "output_type": "stream",
       "stream": "stdout",
       "text": [
        "\n",
        "         Current function value: 0.457858\n",
        "         Iterations: 7\n",
        "         Function evaluations: 8\n",
        "         Gradient evaluations: 14\n",
        "         Hessian evaluations: 7\n",
        "Optimization terminated successfully."
       ]
      },
      {
       "output_type": "stream",
       "stream": "stdout",
       "text": [
        "\n",
        "         Current function value: 0.458611\n",
        "         Iterations: 1598\n",
        "         Function evaluations: 1607\n",
        "         Gradient evaluations: 3204\n",
        "         Hessian evaluations: 1598\n",
        "Optimization terminated successfully."
       ]
      },
      {
       "output_type": "stream",
       "stream": "stdout",
       "text": [
        "\n",
        "         Current function value: 0.458864\n",
        "         Iterations: 17\n",
        "         Function evaluations: 23\n",
        "         Gradient evaluations: 39\n",
        "         Hessian evaluations: 17\n",
        "Optimization terminated successfully."
       ]
      },
      {
       "output_type": "stream",
       "stream": "stdout",
       "text": [
        "\n",
        "         Current function value: 0.458687\n",
        "         Iterations: 16\n",
        "         Function evaluations: 25\n",
        "         Gradient evaluations: 40\n",
        "         Hessian evaluations: 16\n",
        "Optimization terminated successfully."
       ]
      },
      {
       "output_type": "stream",
       "stream": "stdout",
       "text": [
        "\n",
        "         Current function value: 0.457815\n",
        "         Iterations: 8\n",
        "         Function evaluations: 9\n",
        "         Gradient evaluations: 16\n",
        "         Hessian evaluations: 8\n",
        "Optimization terminated successfully."
       ]
      },
      {
       "output_type": "stream",
       "stream": "stdout",
       "text": [
        "\n",
        "         Current function value: 0.457987\n",
        "         Iterations: 8\n",
        "         Function evaluations: 9\n",
        "         Gradient evaluations: 16\n",
        "         Hessian evaluations: 8\n",
        "Optimization terminated successfully."
       ]
      },
      {
       "output_type": "stream",
       "stream": "stdout",
       "text": [
        "\n",
        "         Current function value: 0.458758\n",
        "         Iterations: 8\n",
        "         Function evaluations: 9\n",
        "         Gradient evaluations: 16\n",
        "         Hessian evaluations: 8\n",
        "Optimization terminated successfully."
       ]
      },
      {
       "output_type": "stream",
       "stream": "stdout",
       "text": [
        "\n",
        "         Current function value: 0.458584\n",
        "         Iterations: 8\n",
        "         Function evaluations: 9\n",
        "         Gradient evaluations: 16\n",
        "         Hessian evaluations: 8\n",
        "Optimization terminated successfully."
       ]
      },
      {
       "output_type": "stream",
       "stream": "stdout",
       "text": [
        "\n",
        "         Current function value: 0.458799\n",
        "         Iterations: 8\n",
        "         Function evaluations: 9\n",
        "         Gradient evaluations: 16\n",
        "         Hessian evaluations: 8\n",
        "Optimization terminated successfully."
       ]
      },
      {
       "output_type": "stream",
       "stream": "stdout",
       "text": [
        "\n",
        "         Current function value: 0.458843\n",
        "         Iterations: 7\n",
        "         Function evaluations: 8\n",
        "         Gradient evaluations: 14\n",
        "         Hessian evaluations: 7\n",
        "Optimization terminated successfully."
       ]
      },
      {
       "output_type": "stream",
       "stream": "stdout",
       "text": [
        "\n",
        "         Current function value: 0.458199\n",
        "         Iterations: 7\n",
        "         Function evaluations: 8\n",
        "         Gradient evaluations: 14\n",
        "         Hessian evaluations: 7\n",
        "Optimization terminated successfully."
       ]
      },
      {
       "output_type": "stream",
       "stream": "stdout",
       "text": [
        "\n",
        "         Current function value: 0.458550\n",
        "         Iterations: 8\n",
        "         Function evaluations: 9\n",
        "         Gradient evaluations: 16\n",
        "         Hessian evaluations: 8\n",
        "Optimization terminated successfully."
       ]
      },
      {
       "output_type": "stream",
       "stream": "stdout",
       "text": [
        "\n",
        "         Current function value: 0.458904\n",
        "         Iterations: 8\n",
        "         Function evaluations: 9\n",
        "         Gradient evaluations: 16\n",
        "         Hessian evaluations: 8\n",
        "Optimization terminated successfully."
       ]
      },
      {
       "output_type": "stream",
       "stream": "stdout",
       "text": [
        "\n",
        "         Current function value: 0.456150\n",
        "         Iterations: 13\n",
        "         Function evaluations: 14\n",
        "         Gradient evaluations: 26\n",
        "         Hessian evaluations: 13\n",
        "Optimization terminated successfully."
       ]
      },
      {
       "output_type": "stream",
       "stream": "stdout",
       "text": [
        "\n",
        "         Current function value: 0.458800\n",
        "         Iterations: 7\n",
        "         Function evaluations: 8\n",
        "         Gradient evaluations: 14\n",
        "         Hessian evaluations: 7\n",
        "Optimization terminated successfully."
       ]
      },
      {
       "output_type": "stream",
       "stream": "stdout",
       "text": [
        "\n",
        "         Current function value: 0.458447\n",
        "         Iterations: 7\n",
        "         Function evaluations: 8\n",
        "         Gradient evaluations: 14\n",
        "         Hessian evaluations: 7\n",
        "Optimization terminated successfully."
       ]
      },
      {
       "output_type": "stream",
       "stream": "stdout",
       "text": [
        "\n",
        "         Current function value: 0.458905\n",
        "         Iterations: 7\n",
        "         Function evaluations: 8\n",
        "         Gradient evaluations: 14\n",
        "         Hessian evaluations: 7\n",
        "Optimization terminated successfully."
       ]
      },
      {
       "output_type": "stream",
       "stream": "stdout",
       "text": [
        "\n",
        "         Current function value: 0.458584\n",
        "         Iterations: 7\n",
        "         Function evaluations: 8\n",
        "         Gradient evaluations: 14\n",
        "         Hessian evaluations: 7\n",
        "Optimization terminated successfully."
       ]
      },
      {
       "output_type": "stream",
       "stream": "stdout",
       "text": [
        "\n",
        "         Current function value: 0.458746\n",
        "         Iterations: 7\n",
        "         Function evaluations: 8\n",
        "         Gradient evaluations: 14\n",
        "         Hessian evaluations: 7\n",
        "Optimization terminated successfully."
       ]
      },
      {
       "output_type": "stream",
       "stream": "stdout",
       "text": [
        "\n",
        "         Current function value: 0.456979\n",
        "         Iterations: 7\n",
        "         Function evaluations: 8\n",
        "         Gradient evaluations: 14\n",
        "         Hessian evaluations: 7\n",
        "Optimization terminated successfully."
       ]
      },
      {
       "output_type": "stream",
       "stream": "stdout",
       "text": [
        "\n",
        "         Current function value: 0.458244\n",
        "         Iterations: 7\n",
        "         Function evaluations: 8\n",
        "         Gradient evaluations: 14\n",
        "         Hessian evaluations: 7\n",
        "Optimization terminated successfully."
       ]
      },
      {
       "output_type": "stream",
       "stream": "stdout",
       "text": [
        "\n",
        "         Current function value: 0.458106\n",
        "         Iterations: 7\n",
        "         Function evaluations: 8\n",
        "         Gradient evaluations: 14\n",
        "         Hessian evaluations: 7\n",
        "Optimization terminated successfully."
       ]
      },
      {
       "output_type": "stream",
       "stream": "stdout",
       "text": [
        "\n",
        "         Current function value: 0.458695\n",
        "         Iterations: 8\n",
        "         Function evaluations: 9\n",
        "         Gradient evaluations: 16\n",
        "         Hessian evaluations: 8\n",
        "Optimization terminated successfully."
       ]
      },
      {
       "output_type": "stream",
       "stream": "stdout",
       "text": [
        "\n",
        "         Current function value: 0.458813\n",
        "         Iterations: 7\n",
        "         Function evaluations: 8\n",
        "         Gradient evaluations: 14\n",
        "         Hessian evaluations: 7\n",
        "Optimization terminated successfully."
       ]
      },
      {
       "output_type": "stream",
       "stream": "stdout",
       "text": [
        "\n",
        "         Current function value: 0.458686\n",
        "         Iterations: 7\n",
        "         Function evaluations: 8\n",
        "         Gradient evaluations: 14\n",
        "         Hessian evaluations: 7\n",
        "Optimization terminated successfully."
       ]
      },
      {
       "output_type": "stream",
       "stream": "stdout",
       "text": [
        "\n",
        "         Current function value: 0.458835\n",
        "         Iterations: 8\n",
        "         Function evaluations: 9\n",
        "         Gradient evaluations: 16\n",
        "         Hessian evaluations: 8\n",
        "Optimization terminated successfully."
       ]
      },
      {
       "output_type": "stream",
       "stream": "stdout",
       "text": [
        "\n",
        "         Current function value: 0.458257\n",
        "         Iterations: 8\n",
        "         Function evaluations: 9\n",
        "         Gradient evaluations: 16\n",
        "         Hessian evaluations: 8\n",
        "Optimization terminated successfully."
       ]
      },
      {
       "output_type": "stream",
       "stream": "stdout",
       "text": [
        "\n",
        "         Current function value: 0.458915\n",
        "         Iterations: 7\n",
        "         Function evaluations: 8\n",
        "         Gradient evaluations: 14\n",
        "         Hessian evaluations: 7\n",
        "Optimization terminated successfully."
       ]
      },
      {
       "output_type": "stream",
       "stream": "stdout",
       "text": [
        "\n",
        "         Current function value: 0.458917\n",
        "         Iterations: 7\n",
        "         Function evaluations: 8\n",
        "         Gradient evaluations: 14\n",
        "         Hessian evaluations: 7\n",
        "Optimization terminated successfully."
       ]
      },
      {
       "output_type": "stream",
       "stream": "stdout",
       "text": [
        "\n",
        "         Current function value: 0.458790\n",
        "         Iterations: 7\n",
        "         Function evaluations: 8\n",
        "         Gradient evaluations: 14\n",
        "         Hessian evaluations: 7\n",
        "Optimization terminated successfully."
       ]
      },
      {
       "output_type": "stream",
       "stream": "stdout",
       "text": [
        "\n",
        "         Current function value: 0.458315\n",
        "         Iterations: 7\n",
        "         Function evaluations: 8\n",
        "         Gradient evaluations: 14\n",
        "         Hessian evaluations: 7\n",
        "Optimization terminated successfully."
       ]
      },
      {
       "output_type": "stream",
       "stream": "stdout",
       "text": [
        "\n",
        "         Current function value: 0.457967\n",
        "         Iterations: 7\n",
        "         Function evaluations: 8\n",
        "         Gradient evaluations: 14\n",
        "         Hessian evaluations: 7\n",
        "Optimization terminated successfully."
       ]
      },
      {
       "output_type": "stream",
       "stream": "stdout",
       "text": [
        "\n",
        "         Current function value: 0.458895\n",
        "         Iterations: 7\n",
        "         Function evaluations: 8\n",
        "         Gradient evaluations: 14\n",
        "         Hessian evaluations: 7\n",
        "Optimization terminated successfully."
       ]
      },
      {
       "output_type": "stream",
       "stream": "stdout",
       "text": [
        "\n",
        "         Current function value: 0.458893\n",
        "         Iterations: 7\n",
        "         Function evaluations: 8\n",
        "         Gradient evaluations: 14\n",
        "         Hessian evaluations: 7\n",
        "Optimization terminated successfully."
       ]
      },
      {
       "output_type": "stream",
       "stream": "stdout",
       "text": [
        "\n",
        "         Current function value: 0.458395\n",
        "         Iterations: 8\n",
        "         Function evaluations: 9\n",
        "         Gradient evaluations: 16\n",
        "         Hessian evaluations: 8\n",
        "Optimization terminated successfully."
       ]
      },
      {
       "output_type": "stream",
       "stream": "stdout",
       "text": [
        "\n",
        "         Current function value: 0.458689\n",
        "         Iterations: 8\n",
        "         Function evaluations: 10\n",
        "         Gradient evaluations: 17\n",
        "         Hessian evaluations: 8\n",
        "Optimization terminated successfully."
       ]
      },
      {
       "output_type": "stream",
       "stream": "stdout",
       "text": [
        "\n",
        "         Current function value: 0.458736\n",
        "         Iterations: 7\n",
        "         Function evaluations: 8\n",
        "         Gradient evaluations: 14\n",
        "         Hessian evaluations: 7\n",
        "Optimization terminated successfully."
       ]
      },
      {
       "output_type": "stream",
       "stream": "stdout",
       "text": [
        "\n",
        "         Current function value: 0.458545\n",
        "         Iterations: 24\n",
        "         Function evaluations: 43\n",
        "         Gradient evaluations: 66\n",
        "         Hessian evaluations: 24\n",
        "Optimization terminated successfully."
       ]
      },
      {
       "output_type": "stream",
       "stream": "stdout",
       "text": [
        "\n",
        "         Current function value: 0.458694\n",
        "         Iterations: 13\n",
        "         Function evaluations: 18\n",
        "         Gradient evaluations: 30\n",
        "         Hessian evaluations: 13\n",
        "Optimization terminated successfully."
       ]
      },
      {
       "output_type": "stream",
       "stream": "stdout",
       "text": [
        "\n",
        "         Current function value: 0.458572\n",
        "         Iterations: 58\n",
        "         Function evaluations: 71\n",
        "         Gradient evaluations: 128\n",
        "         Hessian evaluations: 58\n",
        "Optimization terminated successfully."
       ]
      },
      {
       "output_type": "stream",
       "stream": "stdout",
       "text": [
        "\n",
        "         Current function value: 0.458917\n",
        "         Iterations: 7\n",
        "         Function evaluations: 8\n",
        "         Gradient evaluations: 14\n",
        "         Hessian evaluations: 7\n",
        "Optimization terminated successfully."
       ]
      },
      {
       "output_type": "stream",
       "stream": "stdout",
       "text": [
        "\n",
        "         Current function value: 0.457498\n",
        "         Iterations: 14\n",
        "         Function evaluations: 15\n",
        "         Gradient evaluations: 28\n",
        "         Hessian evaluations: 14\n",
        "Optimization terminated successfully."
       ]
      },
      {
       "output_type": "stream",
       "stream": "stdout",
       "text": [
        "\n",
        "         Current function value: 0.458560\n",
        "         Iterations: 20\n",
        "         Function evaluations: 28\n",
        "         Gradient evaluations: 47\n",
        "         Hessian evaluations: 20\n",
        "Optimization terminated successfully."
       ]
      },
      {
       "output_type": "stream",
       "stream": "stdout",
       "text": [
        "\n",
        "         Current function value: 0.458470\n",
        "         Iterations: 7\n",
        "         Function evaluations: 8\n",
        "         Gradient evaluations: 14\n",
        "         Hessian evaluations: 7\n",
        "Optimization terminated successfully."
       ]
      },
      {
       "output_type": "stream",
       "stream": "stdout",
       "text": [
        "\n",
        "         Current function value: 0.458677\n",
        "         Iterations: 8\n",
        "         Function evaluations: 9\n",
        "         Gradient evaluations: 16\n",
        "         Hessian evaluations: 8\n",
        "Optimization terminated successfully."
       ]
      },
      {
       "output_type": "stream",
       "stream": "stdout",
       "text": [
        "\n",
        "         Current function value: 0.458656\n",
        "         Iterations: 7\n",
        "         Function evaluations: 8\n",
        "         Gradient evaluations: 14\n",
        "         Hessian evaluations: 7\n",
        "Optimization terminated successfully."
       ]
      },
      {
       "output_type": "stream",
       "stream": "stdout",
       "text": [
        "\n",
        "         Current function value: 0.458792\n",
        "         Iterations: 7\n",
        "         Function evaluations: 8\n",
        "         Gradient evaluations: 14\n",
        "         Hessian evaluations: 7\n",
        "Optimization terminated successfully."
       ]
      },
      {
       "output_type": "stream",
       "stream": "stdout",
       "text": [
        "\n",
        "         Current function value: 0.458845\n",
        "         Iterations: 7\n",
        "         Function evaluations: 8\n",
        "         Gradient evaluations: 14\n",
        "         Hessian evaluations: 7\n",
        "Optimization terminated successfully."
       ]
      },
      {
       "output_type": "stream",
       "stream": "stdout",
       "text": [
        "\n",
        "         Current function value: 0.458776\n",
        "         Iterations: 7\n",
        "         Function evaluations: 8\n",
        "         Gradient evaluations: 14\n",
        "         Hessian evaluations: 7\n",
        "The base model plus ['WEATHR_IM_T4'] is not of full rank.\n",
        "Warning: Maximum number of iterations has been exceeded."
       ]
      },
      {
       "output_type": "stream",
       "stream": "stdout",
       "text": [
        "\n",
        "         Current function value: 0.458586\n",
        "         Iterations: 2000\n",
        "         Function evaluations: 2001\n",
        "         Gradient evaluations: 4000\n",
        "         Hessian evaluations: 2000\n",
        "The model for ['WEATHR_IM_T5'] did not converge\n",
        "Optimization terminated successfully."
       ]
      },
      {
       "output_type": "stream",
       "stream": "stdout",
       "text": [
        "\n",
        "         Current function value: 0.458885\n",
        "         Iterations: 8\n",
        "         Function evaluations: 9\n",
        "         Gradient evaluations: 16\n",
        "         Hessian evaluations: 8\n",
        "Optimization terminated successfully."
       ]
      },
      {
       "output_type": "stream",
       "stream": "stdout",
       "text": [
        "\n",
        "         Current function value: 0.458913\n",
        "         Iterations: 8\n",
        "         Function evaluations: 9\n",
        "         Gradient evaluations: 16\n",
        "         Hessian evaluations: 8\n",
        "Optimization terminated successfully."
       ]
      },
      {
       "output_type": "stream",
       "stream": "stdout",
       "text": [
        "\n",
        "         Current function value: 0.458896\n",
        "         Iterations: 8\n",
        "         Function evaluations: 9\n",
        "         Gradient evaluations: 16\n",
        "         Hessian evaluations: 8\n",
        "Optimization terminated successfully."
       ]
      },
      {
       "output_type": "stream",
       "stream": "stdout",
       "text": [
        "\n",
        "         Current function value: 0.458912\n",
        "         Iterations: 8\n",
        "         Function evaluations: 9\n",
        "         Gradient evaluations: 16\n",
        "         Hessian evaluations: 8\n",
        "Optimization terminated successfully."
       ]
      },
      {
       "output_type": "stream",
       "stream": "stdout",
       "text": [
        "\n",
        "         Current function value: 0.458461\n",
        "         Iterations: 7\n",
        "         Function evaluations: 8\n",
        "         Gradient evaluations: 14\n",
        "         Hessian evaluations: 7\n",
        "Optimization terminated successfully."
       ]
      },
      {
       "output_type": "stream",
       "stream": "stdout",
       "text": [
        "\n",
        "         Current function value: 0.458862\n",
        "         Iterations: 7\n",
        "         Function evaluations: 8\n",
        "         Gradient evaluations: 14\n",
        "         Hessian evaluations: 7\n",
        "Optimization terminated successfully."
       ]
      },
      {
       "output_type": "stream",
       "stream": "stdout",
       "text": [
        "\n",
        "         Current function value: nan\n",
        "         Iterations: 2\n",
        "         Function evaluations: 43\n",
        "         Gradient evaluations: 43\n",
        "         Hessian evaluations: 2\n",
        "Optimization terminated successfully."
       ]
      },
      {
       "output_type": "stream",
       "stream": "stdout",
       "text": [
        "\n",
        "         Current function value: 0.458916\n",
        "         Iterations: 8\n",
        "         Function evaluations: 9\n",
        "         Gradient evaluations: 16\n",
        "         Hessian evaluations: 8\n",
        "Optimization terminated successfully."
       ]
      },
      {
       "output_type": "stream",
       "stream": "stdout",
       "text": [
        "\n",
        "         Current function value: 0.457879\n",
        "         Iterations: 10\n",
        "         Function evaluations: 11\n",
        "         Gradient evaluations: 20\n",
        "         Hessian evaluations: 10\n",
        "Optimization terminated successfully."
       ]
      },
      {
       "output_type": "stream",
       "stream": "stdout",
       "text": [
        "\n",
        "         Current function value: 0.458916\n",
        "         Iterations: 8\n",
        "         Function evaluations: 9\n",
        "         Gradient evaluations: 16\n",
        "         Hessian evaluations: 8\n",
        "Optimization terminated successfully."
       ]
      },
      {
       "output_type": "stream",
       "stream": "stdout",
       "text": [
        "\n",
        "         Current function value: 0.458762\n",
        "         Iterations: 8\n",
        "         Function evaluations: 9\n",
        "         Gradient evaluations: 16\n",
        "         Hessian evaluations: 8\n",
        "Optimization terminated successfully."
       ]
      },
      {
       "output_type": "stream",
       "stream": "stdout",
       "text": [
        "\n",
        "         Current function value: 0.458913\n",
        "         Iterations: 8\n",
        "         Function evaluations: 9\n",
        "         Gradient evaluations: 16\n",
        "         Hessian evaluations: 8\n",
        "Optimization terminated successfully."
       ]
      },
      {
       "output_type": "stream",
       "stream": "stdout",
       "text": [
        "\n",
        "         Current function value: 0.458359\n",
        "         Iterations: 7\n",
        "         Function evaluations: 8\n",
        "         Gradient evaluations: 14\n",
        "         Hessian evaluations: 7\n",
        "The base model plus ['MSAFEQMT4'] is not of full rank.\n",
        "Optimization terminated successfully."
       ]
      },
      {
       "output_type": "stream",
       "stream": "stdout",
       "text": [
        "\n",
        "         Current function value: 0.457899\n",
        "         Iterations: 7\n",
        "         Function evaluations: 8\n",
        "         Gradient evaluations: 14\n",
        "         Hessian evaluations: 7\n",
        "Optimization terminated successfully."
       ]
      },
      {
       "output_type": "stream",
       "stream": "stdout",
       "text": [
        "\n",
        "         Current function value: 0.458601\n",
        "         Iterations: 7\n",
        "         Function evaluations: 8\n",
        "         Gradient evaluations: 14\n",
        "         Hessian evaluations: 7\n",
        "The base model plus ['TRAV_SP_9999'] is not of full rank.\n",
        "The base model plus ['TRAV_SP_interact_TRAV_SP_9999'] is not of full rank.\n",
        "The base model plus ['NUMOCCS_9999'] is not of full rank.\n",
        "The base model plus ['NUMOCCS_interact_NUMOCCS_9999'] is not of full rank."
       ]
      },
      {
       "output_type": "stream",
       "stream": "stdout",
       "text": [
        "\n",
        "The base model plus ['VSPD_LIM_9999'] is not of full rank.\n",
        "The base model plus ['VSPD_LIM_interact_VSPD_LIM_9999'] is not of full rank.\n",
        "The base model plus ['DRIVER_AGE_9999'] is not of full rank.\n",
        "The base model plus ['DRIVER_AGE_interact_DRIVER_AGE_9999'] is not of full rank."
       ]
      },
      {
       "output_type": "stream",
       "stream": "stdout",
       "text": [
        "\n",
        "Optimization terminated successfully."
       ]
      },
      {
       "output_type": "stream",
       "stream": "stdout",
       "text": [
        "\n",
        "         Current function value: 0.457873\n",
        "         Iterations: 7\n",
        "         Function evaluations: 8\n",
        "         Gradient evaluations: 14\n",
        "         Hessian evaluations: 7\n",
        "Optimization terminated successfully."
       ]
      },
      {
       "output_type": "stream",
       "stream": "stdout",
       "text": [
        "\n",
        "         Current function value: 0.458753\n",
        "         Iterations: 7\n",
        "         Function evaluations: 8\n",
        "         Gradient evaluations: 14\n",
        "         Hessian evaluations: 7\n",
        "Optimization terminated successfully."
       ]
      },
      {
       "output_type": "stream",
       "stream": "stdout",
       "text": [
        "\n",
        "         Current function value: 0.458612\n",
        "         Iterations: 8\n",
        "         Function evaluations: 9\n",
        "         Gradient evaluations: 16\n",
        "         Hessian evaluations: 8\n",
        "Optimization terminated successfully."
       ]
      },
      {
       "output_type": "stream",
       "stream": "stdout",
       "text": [
        "\n",
        "         Current function value: 0.458769\n",
        "         Iterations: 7\n",
        "         Function evaluations: 8\n",
        "         Gradient evaluations: 14\n",
        "         Hessian evaluations: 7\n",
        "Optimization terminated successfully."
       ]
      },
      {
       "output_type": "stream",
       "stream": "stdout",
       "text": [
        "\n",
        "         Current function value: 0.457651\n",
        "         Iterations: 8\n",
        "         Function evaluations: 9\n",
        "         Gradient evaluations: 16\n",
        "         Hessian evaluations: 8\n",
        "Optimization terminated successfully."
       ]
      },
      {
       "output_type": "stream",
       "stream": "stdout",
       "text": [
        "\n",
        "         Current function value: 0.458503\n",
        "         Iterations: 8\n",
        "         Function evaluations: 9\n",
        "         Gradient evaluations: 16\n",
        "         Hessian evaluations: 8\n",
        "Optimization terminated successfully."
       ]
      },
      {
       "output_type": "stream",
       "stream": "stdout",
       "text": [
        "\n",
        "         Current function value: 0.458827\n",
        "         Iterations: 7\n",
        "         Function evaluations: 8\n",
        "         Gradient evaluations: 14\n",
        "         Hessian evaluations: 7\n",
        "Optimization terminated successfully."
       ]
      },
      {
       "output_type": "stream",
       "stream": "stdout",
       "text": [
        "\n",
        "         Current function value: 0.458809\n",
        "         Iterations: 9\n",
        "         Function evaluations: 10\n",
        "         Gradient evaluations: 18\n",
        "         Hessian evaluations: 9\n",
        "\"['TRAV_SP_interact_TRAV_SP_[0, 1]'] not in index\"\n",
        "\"['NUMOCCS_interact_NUMOCCS_[0, 1]'] not in index\"\n",
        "\"['VSPD_LIM_interact_VSPD_LIM_[0, 1]'] not in index\"\n",
        "\"['DRIVER_AGE_interact_DRIVER_AGE_[0, 1]'] not in index\"\n",
        "==========\n",
        "\n",
        "There were estimation problems with at least 6 variables. The problematic columns were: \n",
        "['LOCATION_Treatment_9999_T21', 'VSURCOND_Treatment_9999_T3', 'P_CRASH2_Treatment_9999_T18', 'P_CRASH2_Treatment_9999_T64', 'BDYTYP_IM_T16', 'WEATHR_IM_T5']\n",
        "==========\n",
        "\n",
        "The possible variables being fed to combat_multi_collinearity are: \n",
        "['MONTH_T6', 'MONTH_T9', 'DRUGS_Treatment_9999_T0', 'LOCATION_Treatment_9999_T13', 'SPEC_USE_vehDup_Treatment_9999_T0', 'SPEC_USE_vehDup_Treatment_9999_T1', 'EMER_USE_vehDup_Treatment_9999_T0', 'IMPACT2_vehDup_Treatment_9999_T1', 'IMPACT2_vehDup_Treatment_9999_T4', 'IMPACT2_vehDup_Treatment_9999_T62', 'VTRAFWAY_Treatment_9999_T0', 'VALIGN_Treatment_9999_T0', 'VALIGN_Treatment_9999_T4', 'VPROFILE_Treatment_9999_T0', 'VPROFILE_Treatment_9999_T2', 'VPROFILE_Treatment_9999_T3', 'VPROFILE_Treatment_9999_T4', 'VSURCOND_Treatment_9999_T0', 'VTRAFCON_Treatment_9999_T0', 'VTRAFCON_Treatment_9999_T20', 'VTCONT_F_Treatment_9999_T0', 'P_CRASH2_Treatment_9999_T15', 'P_CRASH2_Treatment_9999_T16', 'P_CRASH2_Treatment_9999_T84', 'P_CRASH3_Treatment_9999_T3', 'BDYTYP_IM_T5', 'BDYTYP_IM_T6', 'BDYTYP_IM_T8', 'BDYTYP_IM_T9', 'IMPACT1_IM_T1', 'IMPACT1_IM_T4', 'IMPACT1_IM_T10', 'IMPACT1_IM_T62', 'PCRASH1_IM_T9', 'TYP_INT_Treatment_9999_T2', 'REL_ROAD_Treatment_9999_T4', 'WKDY_IM_T2', 'WKDY_IM_T3', 'HOUR_IM_T10', 'HOUR_IM_T12', 'HOUR_IM_T22', 'PERMVIT', 'MSAFEQMT5', 'VNUM_LAN_Treatment_9999_0', 'VNUM_LAN_Treatment_9999_4']\n",
        "The condition number of the dataset and reduced variable list is 113.333467024"
       ]
      },
      {
       "output_type": "stream",
       "stream": "stdout",
       "text": [
        "\n",
        "There are 62 variables currently in the model.\n",
        "Optimization terminated successfully."
       ]
      },
      {
       "output_type": "stream",
       "stream": "stdout",
       "text": [
        "\n",
        "         Current function value: 0.412555\n",
        "         Iterations: 16\n",
        "         Function evaluations: 17\n",
        "         Gradient evaluations: 32\n",
        "         Hessian evaluations: 16\n",
        "                           Logit Regression Results                           \n",
        "==============================================================================\n",
        "Dep. Variable:                SER_INJ   No. Observations:                 1029\n",
        "Model:                          Logit   Df Residuals:                      967\n",
        "Method:                           MLE   Df Model:                           61\n",
        "Date:                Tue, 06 May 2014   Pseudo R-squ.:                  0.2322\n",
        "Time:                        04:47:09   Log-Likelihood:                -424.52\n",
        "converged:                       True   LL-Null:                       -552.89\n",
        "                                        LLR p-value:                 7.546e-26\n",
        "=====================================================================================================\n",
        "                                        coef    std err          z      P>|z|      [95.0% Conf. Int.]\n",
        "-----------------------------------------------------------------------------------------------------\n",
        "PERMVIT                               0.2435      0.146      1.672      0.094        -0.042     0.529\n",
        "DRUGS_Treatment_9999_T0              -0.6096      0.253     -2.406      0.016        -1.106    -0.113\n",
        "IMPACT1_IM_T10                        0.7675      0.617      1.244      0.214        -0.442     1.977\n",
        "WKDY_IM_T3                           -0.3602      0.269     -1.339      0.181        -0.888     0.167\n",
        "WKDY_IM_T2                            0.4991      0.253      1.972      0.049         0.003     0.995\n",
        "IMPACT2_vehDup_Treatment_9999_T62     0.2128      1.219      0.175      0.861        -2.177     2.603\n",
        "EMER_USE_vehDup_Treatment_9999_T0    -0.4717      1.146     -0.412      0.681        -2.718     1.774\n",
        "P_CRASH3_Treatment_9999_T3            2.7911      1.063      2.626      0.009         0.708     4.874\n",
        "VTRAFWAY_Treatment_9999_T0            0.8191      0.445      1.840      0.066        -0.053     1.691\n",
        "P_CRASH2_Treatment_9999_T16          -0.8154      0.536     -1.521      0.128        -1.866     0.236\n",
        "P_CRASH2_Treatment_9999_T15           0.4205      0.360      1.167      0.243        -0.286     1.127\n",
        "VTCONT_F_Treatment_9999_T0            0.2932      0.241      1.216      0.224        -0.179     0.766\n",
        "REL_ROAD_Treatment_9999_T4           -1.8425      1.526     -1.207      0.227        -4.834     1.149\n",
        "IMPACT2_vehDup_Treatment_9999_T4     -9.5126    112.102     -0.085      0.932      -229.228   210.203\n",
        "HOUR_IM_T10                          -0.9853      0.538     -1.831      0.067        -2.040     0.069\n",
        "IMPACT2_vehDup_Treatment_9999_T1      0.5656      0.932      0.607      0.544        -1.260     2.392\n",
        "IMPACT1_IM_T1                         0.0040      0.886      0.005      0.996        -1.733     1.740\n",
        "BDYTYP_IM_T6                          0.5159      0.401      1.288      0.198        -0.269     1.301\n",
        "VALIGN_Treatment_9999_T4              1.6052      0.752      2.135      0.033         0.131     3.079\n",
        "IMPACT1_IM_T4                        10.4369    112.099      0.093      0.926      -209.274   230.148\n",
        "BDYTYP_IM_T5                         -0.8365      0.961     -0.871      0.384        -2.719     1.046\n",
        "BDYTYP_IM_T8                          1.4553      1.117      1.303      0.193        -0.735     3.645\n",
        "BDYTYP_IM_T9                         -0.4649      0.433     -1.074      0.283        -1.313     0.383\n",
        "VPROFILE_Treatment_9999_T4            2.8467      1.517      1.877      0.061        -0.126     5.819\n",
        "VPROFILE_Treatment_9999_T2           -1.0169      0.488     -2.084      0.037        -1.973    -0.061\n",
        "VPROFILE_Treatment_9999_T3            1.6793      0.829      2.025      0.043         0.054     3.305\n",
        "MONTH_T9                              0.5596      0.266      2.104      0.035         0.038     1.081\n",
        "IMPACT1_IM_T62                       -1.4039      1.415     -0.992      0.321        -4.177     1.369\n",
        "VTRAFCON_Treatment_9999_T20          -0.0982      0.274     -0.358      0.720        -0.635     0.439\n",
        "MONTH_T6                             -0.1149      0.284     -0.405      0.686        -0.671     0.441\n",
        "SPEC_USE_vehDup_Treatment_9999_T0    -0.9223      0.738     -1.251      0.211        -2.368     0.523\n",
        "SPEC_USE_vehDup_Treatment_9999_T1    -0.1750      1.053     -0.166      0.868        -2.239     1.889\n",
        "HOUR_IM_T12                           0.4092      0.339      1.208      0.227        -0.255     1.073\n",
        "VNUM_LAN_Treatment_9999_4             0.3492      0.306      1.141      0.254        -0.251     0.949\n",
        "P_CRASH2_Treatment_9999_T84           1.0651      0.603      1.765      0.078        -0.118     2.248\n",
        "LOCATION_Treatment_9999_T13           0.7191      0.461      1.560      0.119        -0.184     1.623\n",
        "HOUR_IM_T22                          -1.4094      0.849     -1.660      0.097        -3.073     0.255\n",
        "MSAFEQMT5                            -1.5212      1.613     -0.943      0.346        -4.683     1.640\n",
        "TYP_INT_Treatment_9999_T2             0.3585      0.242      1.482      0.138        -0.116     0.833\n",
        "PCRASH1_IM_T9                         3.4379      1.602      2.145      0.032         0.297     6.579\n",
        "nodeNum_0                            -2.9158      1.504     -1.938      0.053        -5.865     0.033\n",
        "nodeNum_1                            -0.2359      0.983     -0.240      0.810        -2.162     1.690\n",
        "nodeNum_2                             2.3187      1.042      2.226      0.026         0.277     4.361\n",
        "nodeNum_3                             0.6320      1.059      0.597      0.551        -1.444     2.708\n",
        "nodeNum_4                             3.8607      1.560      2.476      0.013         0.804     6.917\n",
        "nodeNum_5                            -0.7699      1.273     -0.605      0.545        -3.264     1.724\n",
        "nodeNum_6                            -1.3419      1.276     -1.051      0.293        -3.844     1.160\n",
        "nodeNum_8                             0.9122      0.995      0.916      0.359        -1.039     2.863\n",
        "nodeNum_9                             0.0376      0.978      0.038      0.969        -1.880     1.955\n",
        "nodeNum_10                           -0.6517      0.952     -0.685      0.494        -2.517     1.214\n",
        "nodeNum_11                            1.6405      1.003      1.635      0.102        -0.326     3.607\n",
        "nodeNum_13                           -2.4851      1.138     -2.183      0.029        -4.716    -0.254\n",
        "nodeNum_14                           -1.5945      1.119     -1.424      0.154        -3.789     0.600\n",
        "nodeNum_15                           -2.1019      1.392     -1.510      0.131        -4.830     0.626\n",
        "nodeNum_16                           -1.2824      1.066     -1.203      0.229        -3.372     0.808\n",
        "nodeNum_19                           -1.7151      1.150     -1.492      0.136        -3.968     0.538\n",
        "nodeNum_20                            0.7053      0.993      0.710      0.477        -1.240     2.651\n",
        "nodeNum_21                            1.3560      1.141      1.189      0.234        -0.879     3.591\n",
        "nodeNum_22                            0.1671      0.992      0.168      0.866        -1.777     2.111\n",
        "nodeNum_25                           -0.6457      0.984     -0.656      0.512        -2.574     1.282\n",
        "nodeNum_26                            2.1982      1.167      1.884      0.060        -0.089     4.485\n",
        "nodeNum_27                            0.0252      1.018      0.025      0.980        -1.970     2.021\n",
        "====================================================================================================="
       ]
      },
      {
       "output_type": "stream",
       "stream": "stdout",
       "text": [
        "\n"
       ]
      }
     ],
     "prompt_number": 164
    },
    {
     "cell_type": "code",
     "collapsed": false,
     "input": [
      "min10_model_and_errs = overall_test(min10_trainingDesign, min10_validationDesign, pruned_min10_tree,\n",
      "                                  \")"
     ],
     "language": "python",
     "metadata": {},
     "outputs": []
    }
   ],
   "metadata": {}
  }
 ]
}