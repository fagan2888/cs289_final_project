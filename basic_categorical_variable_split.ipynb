{
 "metadata": {
  "name": "basic_categorical_variable_split.ipynb"
 },
 "nbformat": 3,
 "nbformat_minor": 0,
 "worksheets": [
  {
   "cells": [
    {
     "cell_type": "heading",
     "level": 1,
     "metadata": {},
     "source": [
      "Basic Categorical Variable Split"
     ]
    },
    {
     "cell_type": "heading",
     "level": 3,
     "metadata": {},
     "source": [
      "Create a single common code (for e.g. 9999) for all missing data"
     ]
    },
    {
     "cell_type": "code",
     "collapsed": false,
     "input": [
      "import numpy as np, pandas as pd, patsy, matplotlib.pyplot as plt"
     ],
     "language": "python",
     "metadata": {},
     "outputs": [],
     "prompt_number": 10
    },
    {
     "cell_type": "code",
     "collapsed": false,
     "input": [
      "#This variable should be either 11 or 12 for the year 2011 or 2012 respectively\n",
      "year = 11"
     ],
     "language": "python",
     "metadata": {},
     "outputs": [],
     "prompt_number": 2
    },
    {
     "cell_type": "code",
     "collapsed": false,
     "input": [
      "allButCategorySplit = pd.read_csv(\"allButCategorySplit_20{}.csv\".format(year), index_col = 0)\n",
      "columns = allButCategorySplit.columns.tolist()\n",
      "columns.remove(\"WEIGHT\")\n",
      "for col in columns:\n",
      "    allButCategorySplit[col] = allButCategorySplit[col].astype(int)"
     ],
     "language": "python",
     "metadata": {},
     "outputs": [],
     "prompt_number": 3
    },
    {
     "cell_type": "code",
     "collapsed": false,
     "input": [
      "columnFrame = pd.read_csv(\"categoricalColumns_MissingValues.csv\")\n",
      "columnFrame.fillna(\"\", inplace = True)\n",
      "columnFrame.DontKnow = columnFrame.DontKnow.astype(str)"
     ],
     "language": "python",
     "metadata": {},
     "outputs": [],
     "prompt_number": 4
    },
    {
     "cell_type": "code",
     "collapsed": false,
     "input": [
      "def convertMissing(value):\n",
      "    assert type(value) == str\n",
      "    if value.isdigit():\n",
      "        return int(value)\n",
      "    elif value == \"NaN\":\n",
      "        return np.nan\n",
      "    elif \"9\" is value:\n",
      "        return 9 #I have no idea why I kept getting errors on the TOW_VEH_vehDup column and had to do this.\n",
      "    else:\n",
      "        print \"You have an error with the value passed to convertMissing: {}\".format(value)\n",
      "        print \"It is {} that this is a digit\".format(value.isdigit())\n",
      "        return\n",
      "    \n",
      "def parseMissing(origVal, col, columnDf):\n",
      "    missing = columnDf[columnDf.Cols == col].iloc[0][\"DontKnow\"]\n",
      "    if missing == \"\" or pd.isnull(missing): #Check if this column allows missing values in the first place\n",
      "        return origVal #If not, return the original value\n",
      "    elif pd.isnull(origVal): #If the original value is null, return 9999\n",
      "        return 9999\n",
      "    else:\n",
      "        missing = missing.split(\"_\") #Make a list from the entries in missing\n",
      "        missing = [convertMissing(x) for x in missing] #Convert all entries to an appropriate value\n",
      "        if origVal in missing: #See if the originalValue is code for a missing value\n",
      "            return 9999 #If so, return 9999\n",
      "        else: #If the original value is not in missing, return the original value.\n",
      "            return origVal\n",
      "        \n",
      "def removeMissing(ser, columnDf):\n",
      "    for col in ser.index:\n",
      "        ser[col] = parseMissing(ser[col], col, columnDf)\n",
      "    return ser"
     ],
     "language": "python",
     "metadata": {},
     "outputs": [],
     "prompt_number": 5
    },
    {
     "cell_type": "code",
     "collapsed": false,
     "input": [
      "basicTransform = allButCategorySplit.copy()\n",
      "basicTransform = basicTransform.apply(removeMissing, axis =1, args = (columnFrame,))\n",
      "#I'm not sure why but calling apply on basicTransform changes the dtypes of its columns.\n",
      "columns = basicTransform.columns.tolist() #Get a list of all the columns from basicTransform\n",
      "columns.remove(\"WEIGHT\") #Remove WEIGHT from the list since its dtype really is float.\n",
      "for col in columns: #Iterate over all the columns\n",
      "    basicTransform[col] = basicTransform[col].astype(int) #Change the columns dtypes to integer."
     ],
     "language": "python",
     "metadata": {},
     "outputs": [],
     "prompt_number": 6
    },
    {
     "cell_type": "code",
     "collapsed": false,
     "input": [
      "basicTransform.to_pickle(\"noMissingValueDf.pkl\")"
     ],
     "language": "python",
     "metadata": {},
     "outputs": [],
     "prompt_number": 62
    },
    {
     "cell_type": "heading",
     "level": 3,
     "metadata": {},
     "source": [
      "2. Create design matrices with the missing data category as the reference/contrast category."
     ]
    },
    {
     "cell_type": "code",
     "collapsed": false,
     "input": [
      "np.sort(basicTransform.RELJCT2.unique())"
     ],
     "language": "python",
     "metadata": {},
     "outputs": [
      {
       "metadata": {},
       "output_type": "pyout",
       "prompt_number": 7,
       "text": [
        "array([   1,    2,    3,    4,    5,    6,    7,    8,   16,   18, 9999])"
       ]
      }
     ],
     "prompt_number": 7
    },
    {
     "cell_type": "code",
     "collapsed": false,
     "input": [
      "patsy.dmatrix(\"C(RELJCT2, Treatment(9999))\", data = basicTransform)"
     ],
     "language": "python",
     "metadata": {},
     "outputs": [
      {
       "metadata": {},
       "output_type": "pyout",
       "prompt_number": 8,
       "text": [
        "DesignMatrix with shape (1427, 11)\n",
        "  Columns:\n",
        "    ['Intercept',\n",
        "     'C(RELJCT2, Treatment(9999))[T.1]',\n",
        "     'C(RELJCT2, Treatment(9999))[T.2]',\n",
        "     'C(RELJCT2, Treatment(9999))[T.3]',\n",
        "     'C(RELJCT2, Treatment(9999))[T.4]',\n",
        "     'C(RELJCT2, Treatment(9999))[T.5]',\n",
        "     'C(RELJCT2, Treatment(9999))[T.6]',\n",
        "     'C(RELJCT2, Treatment(9999))[T.7]',\n",
        "     'C(RELJCT2, Treatment(9999))[T.8]',\n",
        "     'C(RELJCT2, Treatment(9999))[T.16]',\n",
        "     'C(RELJCT2, Treatment(9999))[T.18]']\n",
        "  Terms:\n",
        "    'Intercept' (column 0)\n",
        "    'C(RELJCT2, Treatment(9999))' (columns 1:11)\n",
        "  (to view full data, use np.asarray(this_obj))"
       ]
      }
     ],
     "prompt_number": 8
    },
    {
     "cell_type": "code",
     "collapsed": false,
     "input": [
      "t = patsy.dmatrix(\"C(RELJCT2, Treatment(9999))\", data = basicTransform)"
     ],
     "language": "python",
     "metadata": {},
     "outputs": [],
     "prompt_number": 42
    },
    {
     "cell_type": "code",
     "collapsed": false,
     "input": [
      "t.design_info.column_names"
     ],
     "language": "python",
     "metadata": {},
     "outputs": [
      {
       "metadata": {},
       "output_type": "pyout",
       "prompt_number": 49,
       "text": [
        "['Intercept',\n",
        " 'C(RELJCT2, Treatment(9999))[T.1]',\n",
        " 'C(RELJCT2, Treatment(9999))[T.2]',\n",
        " 'C(RELJCT2, Treatment(9999))[T.3]',\n",
        " 'C(RELJCT2, Treatment(9999))[T.4]',\n",
        " 'C(RELJCT2, Treatment(9999))[T.5]',\n",
        " 'C(RELJCT2, Treatment(9999))[T.6]',\n",
        " 'C(RELJCT2, Treatment(9999))[T.7]',\n",
        " 'C(RELJCT2, Treatment(9999))[T.8]',\n",
        " 'C(RELJCT2, Treatment(9999))[T.16]',\n",
        " 'C(RELJCT2, Treatment(9999))[T.18]']"
       ]
      }
     ],
     "prompt_number": 49
    },
    {
     "cell_type": "code",
     "collapsed": false,
     "input": [
      "t1 = pd.DataFrame(patsy.dmatrix(\"C(RELJCT2, Treatment(9999))\", data = basicTransform), columns = t.design_info.column_names)"
     ],
     "language": "python",
     "metadata": {},
     "outputs": [],
     "prompt_number": 56
    },
    {
     "cell_type": "code",
     "collapsed": false,
     "input": [
      "t1.describe()"
     ],
     "language": "python",
     "metadata": {},
     "outputs": [
      {
       "html": [
        "<div style=\"max-height:1000px;max-width:1500px;overflow:auto;\">\n",
        "<table border=\"1\" class=\"dataframe\">\n",
        "  <thead>\n",
        "    <tr style=\"text-align: right;\">\n",
        "      <th></th>\n",
        "      <th>Intercept</th>\n",
        "      <th>C(RELJCT2, Treatment(9999))[T.1]</th>\n",
        "      <th>C(RELJCT2, Treatment(9999))[T.2]</th>\n",
        "      <th>C(RELJCT2, Treatment(9999))[T.3]</th>\n",
        "      <th>C(RELJCT2, Treatment(9999))[T.4]</th>\n",
        "      <th>C(RELJCT2, Treatment(9999))[T.5]</th>\n",
        "      <th>C(RELJCT2, Treatment(9999))[T.6]</th>\n",
        "      <th>C(RELJCT2, Treatment(9999))[T.7]</th>\n",
        "      <th>C(RELJCT2, Treatment(9999))[T.8]</th>\n",
        "      <th>C(RELJCT2, Treatment(9999))[T.16]</th>\n",
        "      <th>C(RELJCT2, Treatment(9999))[T.18]</th>\n",
        "    </tr>\n",
        "  </thead>\n",
        "  <tbody>\n",
        "    <tr>\n",
        "      <th>count</th>\n",
        "      <td> 1427</td>\n",
        "      <td> 1427.000000</td>\n",
        "      <td> 1427.000000</td>\n",
        "      <td> 1427.000000</td>\n",
        "      <td> 1427.000000</td>\n",
        "      <td> 1427.000000</td>\n",
        "      <td> 1427.000000</td>\n",
        "      <td> 1427.000000</td>\n",
        "      <td> 1427.000000</td>\n",
        "      <td> 1427.000000</td>\n",
        "      <td> 1427.000000</td>\n",
        "    </tr>\n",
        "    <tr>\n",
        "      <th>mean</th>\n",
        "      <td>    1</td>\n",
        "      <td>    0.189909</td>\n",
        "      <td>    0.335669</td>\n",
        "      <td>    0.300631</td>\n",
        "      <td>    0.064471</td>\n",
        "      <td>    0.002102</td>\n",
        "      <td>    0.000701</td>\n",
        "      <td>    0.001402</td>\n",
        "      <td>    0.099509</td>\n",
        "      <td>    0.002803</td>\n",
        "      <td>    0.000701</td>\n",
        "    </tr>\n",
        "    <tr>\n",
        "      <th>std</th>\n",
        "      <td>    0</td>\n",
        "      <td>    0.392366</td>\n",
        "      <td>    0.472389</td>\n",
        "      <td>    0.458693</td>\n",
        "      <td>    0.245676</td>\n",
        "      <td>    0.045819</td>\n",
        "      <td>    0.026472</td>\n",
        "      <td>    0.037424</td>\n",
        "      <td>    0.299450</td>\n",
        "      <td>    0.052888</td>\n",
        "      <td>    0.026472</td>\n",
        "    </tr>\n",
        "    <tr>\n",
        "      <th>min</th>\n",
        "      <td>    1</td>\n",
        "      <td>    0.000000</td>\n",
        "      <td>    0.000000</td>\n",
        "      <td>    0.000000</td>\n",
        "      <td>    0.000000</td>\n",
        "      <td>    0.000000</td>\n",
        "      <td>    0.000000</td>\n",
        "      <td>    0.000000</td>\n",
        "      <td>    0.000000</td>\n",
        "      <td>    0.000000</td>\n",
        "      <td>    0.000000</td>\n",
        "    </tr>\n",
        "    <tr>\n",
        "      <th>25%</th>\n",
        "      <td>    1</td>\n",
        "      <td>    0.000000</td>\n",
        "      <td>    0.000000</td>\n",
        "      <td>    0.000000</td>\n",
        "      <td>    0.000000</td>\n",
        "      <td>    0.000000</td>\n",
        "      <td>    0.000000</td>\n",
        "      <td>    0.000000</td>\n",
        "      <td>    0.000000</td>\n",
        "      <td>    0.000000</td>\n",
        "      <td>    0.000000</td>\n",
        "    </tr>\n",
        "    <tr>\n",
        "      <th>50%</th>\n",
        "      <td>    1</td>\n",
        "      <td>    0.000000</td>\n",
        "      <td>    0.000000</td>\n",
        "      <td>    0.000000</td>\n",
        "      <td>    0.000000</td>\n",
        "      <td>    0.000000</td>\n",
        "      <td>    0.000000</td>\n",
        "      <td>    0.000000</td>\n",
        "      <td>    0.000000</td>\n",
        "      <td>    0.000000</td>\n",
        "      <td>    0.000000</td>\n",
        "    </tr>\n",
        "    <tr>\n",
        "      <th>75%</th>\n",
        "      <td>    1</td>\n",
        "      <td>    0.000000</td>\n",
        "      <td>    1.000000</td>\n",
        "      <td>    1.000000</td>\n",
        "      <td>    0.000000</td>\n",
        "      <td>    0.000000</td>\n",
        "      <td>    0.000000</td>\n",
        "      <td>    0.000000</td>\n",
        "      <td>    0.000000</td>\n",
        "      <td>    0.000000</td>\n",
        "      <td>    0.000000</td>\n",
        "    </tr>\n",
        "    <tr>\n",
        "      <th>max</th>\n",
        "      <td>    1</td>\n",
        "      <td>    1.000000</td>\n",
        "      <td>    1.000000</td>\n",
        "      <td>    1.000000</td>\n",
        "      <td>    1.000000</td>\n",
        "      <td>    1.000000</td>\n",
        "      <td>    1.000000</td>\n",
        "      <td>    1.000000</td>\n",
        "      <td>    1.000000</td>\n",
        "      <td>    1.000000</td>\n",
        "      <td>    1.000000</td>\n",
        "    </tr>\n",
        "  </tbody>\n",
        "</table>\n",
        "<p>8 rows \u00d7 11 columns</p>\n",
        "</div>"
       ],
       "metadata": {},
       "output_type": "pyout",
       "prompt_number": 57,
       "text": [
        "       Intercept  C(RELJCT2, Treatment(9999))[T.1]  \\\n",
        "count       1427                       1427.000000   \n",
        "mean           1                          0.189909   \n",
        "std            0                          0.392366   \n",
        "min            1                          0.000000   \n",
        "25%            1                          0.000000   \n",
        "50%            1                          0.000000   \n",
        "75%            1                          0.000000   \n",
        "max            1                          1.000000   \n",
        "\n",
        "       C(RELJCT2, Treatment(9999))[T.2]  C(RELJCT2, Treatment(9999))[T.3]  \\\n",
        "count                       1427.000000                       1427.000000   \n",
        "mean                           0.335669                          0.300631   \n",
        "std                            0.472389                          0.458693   \n",
        "min                            0.000000                          0.000000   \n",
        "25%                            0.000000                          0.000000   \n",
        "50%                            0.000000                          0.000000   \n",
        "75%                            1.000000                          1.000000   \n",
        "max                            1.000000                          1.000000   \n",
        "\n",
        "       C(RELJCT2, Treatment(9999))[T.4]  C(RELJCT2, Treatment(9999))[T.5]  \\\n",
        "count                       1427.000000                       1427.000000   \n",
        "mean                           0.064471                          0.002102   \n",
        "std                            0.245676                          0.045819   \n",
        "min                            0.000000                          0.000000   \n",
        "25%                            0.000000                          0.000000   \n",
        "50%                            0.000000                          0.000000   \n",
        "75%                            0.000000                          0.000000   \n",
        "max                            1.000000                          1.000000   \n",
        "\n",
        "       C(RELJCT2, Treatment(9999))[T.6]  C(RELJCT2, Treatment(9999))[T.7]  \\\n",
        "count                       1427.000000                       1427.000000   \n",
        "mean                           0.000701                          0.001402   \n",
        "std                            0.026472                          0.037424   \n",
        "min                            0.000000                          0.000000   \n",
        "25%                            0.000000                          0.000000   \n",
        "50%                            0.000000                          0.000000   \n",
        "75%                            0.000000                          0.000000   \n",
        "max                            1.000000                          1.000000   \n",
        "\n",
        "       C(RELJCT2, Treatment(9999))[T.8]  C(RELJCT2, Treatment(9999))[T.16]  \\\n",
        "count                       1427.000000                        1427.000000   \n",
        "mean                           0.099509                           0.002803   \n",
        "std                            0.299450                           0.052888   \n",
        "min                            0.000000                           0.000000   \n",
        "25%                            0.000000                           0.000000   \n",
        "50%                            0.000000                           0.000000   \n",
        "75%                            0.000000                           0.000000   \n",
        "max                            1.000000                           1.000000   \n",
        "\n",
        "       C(RELJCT2, Treatment(9999))[T.18]  \n",
        "count                        1427.000000  \n",
        "mean                            0.000701  \n",
        "std                             0.026472  \n",
        "min                             0.000000  \n",
        "25%                             0.000000  \n",
        "50%                             0.000000  \n",
        "75%                             0.000000  \n",
        "max                             1.000000  \n",
        "\n",
        "[8 rows x 11 columns]"
       ]
      }
     ],
     "prompt_number": 57
    },
    {
     "cell_type": "code",
     "collapsed": false,
     "input": [],
     "language": "python",
     "metadata": {},
     "outputs": []
    },
    {
     "cell_type": "markdown",
     "metadata": {},
     "source": [
      "<p><font size =4 color =\"blue\">Moral of the Story:</font></p>\n",
      "\n",
      "<p>As per the cells above, once the allButCategorySplit dataframe has been transformed to make all missing values be 9999, basic design matrices can be created using patsy. The syntax \"C()\" tells pats that whatever is the first argument inside C is a column name in the dataframe given to data and that this column contains categorical data. The value given to Treatment() is the value of the reference category.</p>\n",
      "\n",
      "<p>With this, we can do at least simple model building, through statsmodels or sci-kit-learn. Of course we still not have done any \"smart\" combining of categories, nor will we have addressed the issue of sample weights.</p>"
     ]
    },
    {
     "cell_type": "markdown",
     "metadata": {},
     "source": [
      "<p><font size=4 color=\"blue\">Remaining:</font></p>\n",
      "\n",
      "<p><strong><u>Data Cleaning:</u></strong>\n",
      "    <ul><li>Go through all columns in the categoricalColumns_MissingValues.csv file to double check the values I put in as missing value/other codes.</li>\n",
      "        <li>Consider adding new columns which are dummy variables representing combinations of some of the categories in the categorical variables.</li>\n",
      "    </ul>\n",
      "</p>\n",
      "\n",
      "<p><strong><u>Modeling:</u></strong>\n",
      "    <ul><li>Use forward selection to build the logistic regression model?</li>\n",
      "        <li>Partition the data into a holdout and validation set (perhaps maintaining the ratio of serious and or fatal injuries to non-serious injuries). \n",
      "            <ol><li>Build the decision tree. Do an \"optimal\" pruning according to validation set accuracy.</li>\n",
      "                <li>Build a max depth tree under the idea of having at least 10 people per parameter in the final hybrid CART-Logistic Regression.</li>\n",
      "            </ol>\n",
      "        </li>\n",
      "        <li>Perform two(?) more logistic regression building efforts, this time with the decision tree dummy variables (from the optimally pruned tree in one, and from the max depth tree in the other) purposefully always included in the models.</li>\n",
      "    </ul>\n",
      "</p>\n",
      "\n",
      "<p><strong><u>Testing:</u></strong>\n",
      "    <ul><li>Go through the 2012 GES user manual to make sure that our code is approapriately dealing with any column name changes or code changes from 2011 to 2012.</li>\n",
      "        <li>Compute and store the prediction accuracies of the pure logit model, the \"optimally\" pruned tree, the \"max depth tree\", and the hybrid CART-Logit models using the second year of data.</li>\n",
      "        <li>Compute and store the sum of squared partial residuals for the pure logit model, the \"optimally\" pruned tree, the \"max depth tree\", and the hybrid CART-Logit models using their predictions for the second year of data.</li>\n",
      "    </ul>\n",
      "</p>"
     ]
    }
   ],
   "metadata": {}
  }
 ]
}