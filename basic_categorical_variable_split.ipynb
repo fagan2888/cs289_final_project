{
 "metadata": {
  "name": "basic_categorical_variable_split.ipynb"
 },
 "nbformat": 3,
 "nbformat_minor": 0,
 "worksheets": [
  {
   "cells": [
    {
     "cell_type": "heading",
     "level": 1,
     "metadata": {},
     "source": [
      "Basic Categorical Variable Split"
     ]
    },
    {
     "cell_type": "heading",
     "level": 3,
     "metadata": {},
     "source": [
      "Create a single common code (for e.g. 9999) for all missing data"
     ]
    },
    {
     "cell_type": "code",
     "collapsed": false,
     "input": [
      "import numpy as np, pandas as pd, patsy, matplotlib.pyplot as plt"
     ],
     "language": "python",
     "metadata": {},
     "outputs": [],
     "prompt_number": 10
    },
    {
     "cell_type": "code",
     "collapsed": false,
     "input": [
      "#This variable should be either 11 or 12 for the year 2011 or 2012 respectively\n",
      "year = 11"
     ],
     "language": "python",
     "metadata": {},
     "outputs": [],
     "prompt_number": 2
    },
    {
     "cell_type": "code",
     "collapsed": false,
     "input": [
      "allButCategorySplit = pd.read_csv(\"allButCategorySplit_20{}.csv\".format(year), index_col = 0)\n",
      "columns = allButCategorySplit.columns.tolist()\n",
      "columns.remove(\"WEIGHT\")\n",
      "for col in columns:\n",
      "    allButCategorySplit[col] = allButCategorySplit[col].astype(int)"
     ],
     "language": "python",
     "metadata": {},
     "outputs": [],
     "prompt_number": 3
    },
    {
     "cell_type": "code",
     "collapsed": false,
     "input": [
      "columnFrame = pd.read_csv(\"categoricalColumns_MissingValues.csv\")\n",
      "columnFrame.fillna(\"\", inplace = True)\n",
      "columnFrame.DontKnow = columnFrame.DontKnow.astype(str)"
     ],
     "language": "python",
     "metadata": {},
     "outputs": [],
     "prompt_number": 4
    },
    {
     "cell_type": "code",
     "collapsed": false,
     "input": [
      "def convertMissing(value):\n",
      "    assert type(value) == str\n",
      "    if value.isdigit():\n",
      "        return int(value)\n",
      "    elif value == \"NaN\":\n",
      "        return np.nan\n",
      "    elif \"9\" in value:\n",
      "        return 9 #I have no idea why I kept getting errors on the TOW_VEH_vehDup column and had to do this.\n",
      "    else:\n",
      "        print \"You have an error with the value passed to convertMissing: {}\".format(value)\n",
      "        print \"It is {} that this is a digit\".format(value.isdigit())\n",
      "        return\n",
      "    \n",
      "def parseMissing(origVal, col, columnDf):\n",
      "    missing = columnDf[columnDf.Cols == col].iloc[0][\"DontKnow\"]\n",
      "    if missing == \"\" or pd.isnull(missing): #Check if this column allows missing values in the first place\n",
      "        return origVal #If not, return the original value\n",
      "    elif pd.isnull(origVal): #If the original value is null, return 9999\n",
      "        return 9999\n",
      "    else:\n",
      "        missing = missing.split(\"_\") #Make a list from the entries in missing\n",
      "        missing = [convertMissing(x) for x in missing] #Convert all entries to an appropriate value\n",
      "        if origVal in missing: #See if the originalValue is code for a missing value\n",
      "            return 9999 #If so, return 9999\n",
      "        else: #If the original value is not in missing, return the original value.\n",
      "            return origVal\n",
      "        \n",
      "def removeMissing(ser, columnDf):\n",
      "    for col in ser.index:\n",
      "        ser[col] = parseMissing(ser[col], col, columnDf)\n",
      "    return ser"
     ],
     "language": "python",
     "metadata": {},
     "outputs": [],
     "prompt_number": 5
    },
    {
     "cell_type": "code",
     "collapsed": false,
     "input": [
      "basicTransform = allButCategorySplit.copy()\n",
      "basicTransform = basicTransform.apply(removeMissing, axis =1, args = (columnFrame,))\n",
      "#I'm not sure why but calling apply on basicTransform changes the dtypes of its columns.\n",
      "columns = basicTransform.columns.tolist() #Get a list of all the columns from basicTransform\n",
      "columns.remove(\"WEIGHT\") #Remove WEIGHT from the list since its dtype really is float.\n",
      "for col in columns: #Iterate over all the columns\n",
      "    basicTransform[col] = basicTransform[col].astype(int) #Change the columns dtypes to integer."
     ],
     "language": "python",
     "metadata": {},
     "outputs": [],
     "prompt_number": 6
    },
    {
     "cell_type": "heading",
     "level": 3,
     "metadata": {},
     "source": [
      "2. Create design matrices with the missing data category as the reference/contrast category."
     ]
    },
    {
     "cell_type": "code",
     "collapsed": false,
     "input": [
      "np.sort(basicTransform.RELJCT2.unique())"
     ],
     "language": "python",
     "metadata": {},
     "outputs": [
      {
       "metadata": {},
       "output_type": "pyout",
       "prompt_number": 7,
       "text": [
        "array([   1,    2,    3,    4,    5,    6,    7,    8,   16,   18, 9999])"
       ]
      }
     ],
     "prompt_number": 7
    },
    {
     "cell_type": "code",
     "collapsed": false,
     "input": [
      "patsy.dmatrix(\"C(RELJCT2, Treatment(9999))\", data = basicTransform)"
     ],
     "language": "python",
     "metadata": {},
     "outputs": [
      {
       "metadata": {},
       "output_type": "pyout",
       "prompt_number": 8,
       "text": [
        "DesignMatrix with shape (1427, 11)\n",
        "  Columns:\n",
        "    ['Intercept',\n",
        "     'C(RELJCT2, Treatment(9999))[T.1]',\n",
        "     'C(RELJCT2, Treatment(9999))[T.2]',\n",
        "     'C(RELJCT2, Treatment(9999))[T.3]',\n",
        "     'C(RELJCT2, Treatment(9999))[T.4]',\n",
        "     'C(RELJCT2, Treatment(9999))[T.5]',\n",
        "     'C(RELJCT2, Treatment(9999))[T.6]',\n",
        "     'C(RELJCT2, Treatment(9999))[T.7]',\n",
        "     'C(RELJCT2, Treatment(9999))[T.8]',\n",
        "     'C(RELJCT2, Treatment(9999))[T.16]',\n",
        "     'C(RELJCT2, Treatment(9999))[T.18]']\n",
        "  Terms:\n",
        "    'Intercept' (column 0)\n",
        "    'C(RELJCT2, Treatment(9999))' (columns 1:11)\n",
        "  (to view full data, use np.asarray(this_obj))"
       ]
      }
     ],
     "prompt_number": 8
    },
    {
     "cell_type": "markdown",
     "metadata": {},
     "source": [
      "<p><font size =4 color =\"blue\">Moral of the Story:</font></p>\n",
      "\n",
      "<p>As per the cells above, once the allButCategorySplit dataframe has been transformed to make all missing values be 9999, basic design matrices can be created using patsy. The syntax \"C()\" tells pats that whatever is the first argument inside C is a column name in the dataframe given to data and that this column contains categorical data. The value given to Treatment() is the value of the reference category.</p>\n",
      "\n",
      "<p>With this, we can do at least simple model building, through statsmodels or sci-kit-learn. Of course we still not have done any \"smart\" combining of categories, nor will we have addressed the issue of sample weights.</p>"
     ]
    },
    {
     "cell_type": "markdown",
     "metadata": {},
     "source": [
      "<p><font size=4 color=\"blue\">Remaining:</font></p>\n",
      "\n",
      "<p><strong><u>Data Cleaning:</u></strong>\n",
      "    <ul><li>Go through all columns in the categoricalColumns_MissingValues.csv file to double check the values I put in as missing value/other codes.</li>\n",
      "        <li>Consider adding new columns which are dummy variables representing combinations of some of the categories in the categorical variables.</li>\n",
      "    </ul>\n",
      "</p>\n",
      "\n",
      "<p><strong><u>Modeling:</u></strong>\n",
      "    <ul><li>Use forward selection to build the logistic regression model?</li>\n",
      "        <li>Partition the data into a holdout and validation set (perhaps maintaining the ratio of serious and or fatal injuries to non-serious injuries). \n",
      "            <ol><li>Build the decision tree. Do an \"optimal\" pruning according to validation set accuracy.</li>\n",
      "                <li>Build a max depth tree under the idea of having at least 10 people per parameter in the final hybrid CART-Logistic Regression.</li>\n",
      "            </ol>\n",
      "        </li>\n",
      "        <li>Perform two(?) more logistic regression building efforts, this time with the decision tree dummy variables (from the optimally pruned tree in one, and from the max depth tree in the other) purposefully always included in the models.</li>\n",
      "    </ul>\n",
      "</p>\n",
      "\n",
      "<p><strong><u>Testing:</u></strong>\n",
      "    <ul><li>Go through the 2012 GES user manual to make sure that our code is approapriately dealing with any column name changes or code changes from 2011 to 2012.</li>\n",
      "        <li>Compute and store the prediction accuracies of the pure logit model, the \"optimally\" pruned tree, the \"max depth tree\", and the hybrid CART-Logit models using the second year of data.</li>\n",
      "        <li>Compute and store the sum of squared partial residuals for the pure logit model, the \"optimally\" pruned tree, the \"max depth tree\", and the hybrid CART-Logit models using their predictions for the second year of data.</li>\n",
      "    </ul>\n",
      "</p>"
     ]
    },
    {
     "cell_type": "code",
     "collapsed": false,
     "input": [
      "t = patsy.dmatrix(\"C(RELJCT2, Treatment(9999))\", data = basicTransform)"
     ],
     "language": "python",
     "metadata": {},
     "outputs": [],
     "prompt_number": 42
    },
    {
     "cell_type": "code",
     "collapsed": false,
     "input": [
      "dir(t)"
     ],
     "language": "python",
     "metadata": {},
     "outputs": [
      {
       "metadata": {},
       "output_type": "pyout",
       "prompt_number": 43,
       "text": [
        "['T',\n",
        " '__abs__',\n",
        " '__add__',\n",
        " '__and__',\n",
        " '__array__',\n",
        " '__array_finalize__',\n",
        " '__array_interface__',\n",
        " '__array_prepare__',\n",
        " '__array_priority__',\n",
        " '__array_struct__',\n",
        " '__array_wrap__',\n",
        " '__class__',\n",
        " '__contains__',\n",
        " '__copy__',\n",
        " '__deepcopy__',\n",
        " '__delattr__',\n",
        " '__delitem__',\n",
        " '__delslice__',\n",
        " '__dict__',\n",
        " '__div__',\n",
        " '__divmod__',\n",
        " '__doc__',\n",
        " '__eq__',\n",
        " '__float__',\n",
        " '__floordiv__',\n",
        " '__format__',\n",
        " '__ge__',\n",
        " '__getattribute__',\n",
        " '__getitem__',\n",
        " '__getslice__',\n",
        " '__gt__',\n",
        " '__hash__',\n",
        " '__hex__',\n",
        " '__iadd__',\n",
        " '__iand__',\n",
        " '__idiv__',\n",
        " '__ifloordiv__',\n",
        " '__ilshift__',\n",
        " '__imod__',\n",
        " '__imul__',\n",
        " '__index__',\n",
        " '__init__',\n",
        " '__int__',\n",
        " '__invert__',\n",
        " '__ior__',\n",
        " '__ipow__',\n",
        " '__irshift__',\n",
        " '__isub__',\n",
        " '__iter__',\n",
        " '__itruediv__',\n",
        " '__ixor__',\n",
        " '__le__',\n",
        " '__len__',\n",
        " '__long__',\n",
        " '__lshift__',\n",
        " '__lt__',\n",
        " '__mod__',\n",
        " '__module__',\n",
        " '__mul__',\n",
        " '__ne__',\n",
        " '__neg__',\n",
        " '__new__',\n",
        " '__nonzero__',\n",
        " '__oct__',\n",
        " '__or__',\n",
        " '__pos__',\n",
        " '__pow__',\n",
        " '__radd__',\n",
        " '__rand__',\n",
        " '__rdiv__',\n",
        " '__rdivmod__',\n",
        " '__reduce__',\n",
        " '__reduce_ex__',\n",
        " '__repr__',\n",
        " '__rfloordiv__',\n",
        " '__rlshift__',\n",
        " '__rmod__',\n",
        " '__rmul__',\n",
        " '__ror__',\n",
        " '__rpow__',\n",
        " '__rrshift__',\n",
        " '__rshift__',\n",
        " '__rsub__',\n",
        " '__rtruediv__',\n",
        " '__rxor__',\n",
        " '__setattr__',\n",
        " '__setitem__',\n",
        " '__setslice__',\n",
        " '__setstate__',\n",
        " '__sizeof__',\n",
        " '__str__',\n",
        " '__sub__',\n",
        " '__subclasshook__',\n",
        " '__truediv__',\n",
        " '__xor__',\n",
        " '_repr_pretty_',\n",
        " 'all',\n",
        " 'any',\n",
        " 'argmax',\n",
        " 'argmin',\n",
        " 'argpartition',\n",
        " 'argsort',\n",
        " 'astype',\n",
        " 'base',\n",
        " 'byteswap',\n",
        " 'choose',\n",
        " 'clip',\n",
        " 'compress',\n",
        " 'conj',\n",
        " 'conjugate',\n",
        " 'copy',\n",
        " 'ctypes',\n",
        " 'cumprod',\n",
        " 'cumsum',\n",
        " 'data',\n",
        " 'design_info',\n",
        " 'diagonal',\n",
        " 'dot',\n",
        " 'dtype',\n",
        " 'dump',\n",
        " 'dumps',\n",
        " 'fill',\n",
        " 'flags',\n",
        " 'flat',\n",
        " 'flatten',\n",
        " 'getfield',\n",
        " 'imag',\n",
        " 'item',\n",
        " 'itemset',\n",
        " 'itemsize',\n",
        " 'max',\n",
        " 'mean',\n",
        " 'min',\n",
        " 'nbytes',\n",
        " 'ndim',\n",
        " 'newbyteorder',\n",
        " 'nonzero',\n",
        " 'partition',\n",
        " 'prod',\n",
        " 'ptp',\n",
        " 'put',\n",
        " 'ravel',\n",
        " 'real',\n",
        " 'repeat',\n",
        " 'reshape',\n",
        " 'resize',\n",
        " 'round',\n",
        " 'searchsorted',\n",
        " 'setfield',\n",
        " 'setflags',\n",
        " 'shape',\n",
        " 'size',\n",
        " 'sort',\n",
        " 'squeeze',\n",
        " 'std',\n",
        " 'strides',\n",
        " 'sum',\n",
        " 'swapaxes',\n",
        " 'take',\n",
        " 'tofile',\n",
        " 'tolist',\n",
        " 'tostring',\n",
        " 'trace',\n",
        " 'transpose',\n",
        " 'var',\n",
        " 'view']"
       ]
      }
     ],
     "prompt_number": 43
    },
    {
     "cell_type": "code",
     "collapsed": false,
     "input": [
      "t.design_info.column_names"
     ],
     "language": "python",
     "metadata": {},
     "outputs": [
      {
       "metadata": {},
       "output_type": "pyout",
       "prompt_number": 49,
       "text": [
        "['Intercept',\n",
        " 'C(RELJCT2, Treatment(9999))[T.1]',\n",
        " 'C(RELJCT2, Treatment(9999))[T.2]',\n",
        " 'C(RELJCT2, Treatment(9999))[T.3]',\n",
        " 'C(RELJCT2, Treatment(9999))[T.4]',\n",
        " 'C(RELJCT2, Treatment(9999))[T.5]',\n",
        " 'C(RELJCT2, Treatment(9999))[T.6]',\n",
        " 'C(RELJCT2, Treatment(9999))[T.7]',\n",
        " 'C(RELJCT2, Treatment(9999))[T.8]',\n",
        " 'C(RELJCT2, Treatment(9999))[T.16]',\n",
        " 'C(RELJCT2, Treatment(9999))[T.18]']"
       ]
      }
     ],
     "prompt_number": 49
    },
    {
     "cell_type": "code",
     "collapsed": false,
     "input": [
      "t1 = pd.DataFrame(patsy.dmatrix(\"C(RELJCT2, Treatment(9999))\", data = basicTransform), columns = t.design_info.column_names)"
     ],
     "language": "python",
     "metadata": {},
     "outputs": [],
     "prompt_number": 56
    },
    {
     "cell_type": "code",
     "collapsed": false,
     "input": [
      "t1.describe()"
     ],
     "language": "python",
     "metadata": {},
     "outputs": [
      {
       "html": [
        "<div style=\"max-height:1000px;max-width:1500px;overflow:auto;\">\n",
        "<table border=\"1\" class=\"dataframe\">\n",
        "  <thead>\n",
        "    <tr style=\"text-align: right;\">\n",
        "      <th></th>\n",
        "      <th>Intercept</th>\n",
        "      <th>C(RELJCT2, Treatment(9999))[T.1]</th>\n",
        "      <th>C(RELJCT2, Treatment(9999))[T.2]</th>\n",
        "      <th>C(RELJCT2, Treatment(9999))[T.3]</th>\n",
        "      <th>C(RELJCT2, Treatment(9999))[T.4]</th>\n",
        "      <th>C(RELJCT2, Treatment(9999))[T.5]</th>\n",
        "      <th>C(RELJCT2, Treatment(9999))[T.6]</th>\n",
        "      <th>C(RELJCT2, Treatment(9999))[T.7]</th>\n",
        "      <th>C(RELJCT2, Treatment(9999))[T.8]</th>\n",
        "      <th>C(RELJCT2, Treatment(9999))[T.16]</th>\n",
        "      <th>C(RELJCT2, Treatment(9999))[T.18]</th>\n",
        "    </tr>\n",
        "  </thead>\n",
        "  <tbody>\n",
        "    <tr>\n",
        "      <th>count</th>\n",
        "      <td> 1427</td>\n",
        "      <td> 1427.000000</td>\n",
        "      <td> 1427.000000</td>\n",
        "      <td> 1427.000000</td>\n",
        "      <td> 1427.000000</td>\n",
        "      <td> 1427.000000</td>\n",
        "      <td> 1427.000000</td>\n",
        "      <td> 1427.000000</td>\n",
        "      <td> 1427.000000</td>\n",
        "      <td> 1427.000000</td>\n",
        "      <td> 1427.000000</td>\n",
        "    </tr>\n",
        "    <tr>\n",
        "      <th>mean</th>\n",
        "      <td>    1</td>\n",
        "      <td>    0.189909</td>\n",
        "      <td>    0.335669</td>\n",
        "      <td>    0.300631</td>\n",
        "      <td>    0.064471</td>\n",
        "      <td>    0.002102</td>\n",
        "      <td>    0.000701</td>\n",
        "      <td>    0.001402</td>\n",
        "      <td>    0.099509</td>\n",
        "      <td>    0.002803</td>\n",
        "      <td>    0.000701</td>\n",
        "    </tr>\n",
        "    <tr>\n",
        "      <th>std</th>\n",
        "      <td>    0</td>\n",
        "      <td>    0.392366</td>\n",
        "      <td>    0.472389</td>\n",
        "      <td>    0.458693</td>\n",
        "      <td>    0.245676</td>\n",
        "      <td>    0.045819</td>\n",
        "      <td>    0.026472</td>\n",
        "      <td>    0.037424</td>\n",
        "      <td>    0.299450</td>\n",
        "      <td>    0.052888</td>\n",
        "      <td>    0.026472</td>\n",
        "    </tr>\n",
        "    <tr>\n",
        "      <th>min</th>\n",
        "      <td>    1</td>\n",
        "      <td>    0.000000</td>\n",
        "      <td>    0.000000</td>\n",
        "      <td>    0.000000</td>\n",
        "      <td>    0.000000</td>\n",
        "      <td>    0.000000</td>\n",
        "      <td>    0.000000</td>\n",
        "      <td>    0.000000</td>\n",
        "      <td>    0.000000</td>\n",
        "      <td>    0.000000</td>\n",
        "      <td>    0.000000</td>\n",
        "    </tr>\n",
        "    <tr>\n",
        "      <th>25%</th>\n",
        "      <td>    1</td>\n",
        "      <td>    0.000000</td>\n",
        "      <td>    0.000000</td>\n",
        "      <td>    0.000000</td>\n",
        "      <td>    0.000000</td>\n",
        "      <td>    0.000000</td>\n",
        "      <td>    0.000000</td>\n",
        "      <td>    0.000000</td>\n",
        "      <td>    0.000000</td>\n",
        "      <td>    0.000000</td>\n",
        "      <td>    0.000000</td>\n",
        "    </tr>\n",
        "    <tr>\n",
        "      <th>50%</th>\n",
        "      <td>    1</td>\n",
        "      <td>    0.000000</td>\n",
        "      <td>    0.000000</td>\n",
        "      <td>    0.000000</td>\n",
        "      <td>    0.000000</td>\n",
        "      <td>    0.000000</td>\n",
        "      <td>    0.000000</td>\n",
        "      <td>    0.000000</td>\n",
        "      <td>    0.000000</td>\n",
        "      <td>    0.000000</td>\n",
        "      <td>    0.000000</td>\n",
        "    </tr>\n",
        "    <tr>\n",
        "      <th>75%</th>\n",
        "      <td>    1</td>\n",
        "      <td>    0.000000</td>\n",
        "      <td>    1.000000</td>\n",
        "      <td>    1.000000</td>\n",
        "      <td>    0.000000</td>\n",
        "      <td>    0.000000</td>\n",
        "      <td>    0.000000</td>\n",
        "      <td>    0.000000</td>\n",
        "      <td>    0.000000</td>\n",
        "      <td>    0.000000</td>\n",
        "      <td>    0.000000</td>\n",
        "    </tr>\n",
        "    <tr>\n",
        "      <th>max</th>\n",
        "      <td>    1</td>\n",
        "      <td>    1.000000</td>\n",
        "      <td>    1.000000</td>\n",
        "      <td>    1.000000</td>\n",
        "      <td>    1.000000</td>\n",
        "      <td>    1.000000</td>\n",
        "      <td>    1.000000</td>\n",
        "      <td>    1.000000</td>\n",
        "      <td>    1.000000</td>\n",
        "      <td>    1.000000</td>\n",
        "      <td>    1.000000</td>\n",
        "    </tr>\n",
        "  </tbody>\n",
        "</table>\n",
        "<p>8 rows \u00d7 11 columns</p>\n",
        "</div>"
       ],
       "metadata": {},
       "output_type": "pyout",
       "prompt_number": 57,
       "text": [
        "       Intercept  C(RELJCT2, Treatment(9999))[T.1]  \\\n",
        "count       1427                       1427.000000   \n",
        "mean           1                          0.189909   \n",
        "std            0                          0.392366   \n",
        "min            1                          0.000000   \n",
        "25%            1                          0.000000   \n",
        "50%            1                          0.000000   \n",
        "75%            1                          0.000000   \n",
        "max            1                          1.000000   \n",
        "\n",
        "       C(RELJCT2, Treatment(9999))[T.2]  C(RELJCT2, Treatment(9999))[T.3]  \\\n",
        "count                       1427.000000                       1427.000000   \n",
        "mean                           0.335669                          0.300631   \n",
        "std                            0.472389                          0.458693   \n",
        "min                            0.000000                          0.000000   \n",
        "25%                            0.000000                          0.000000   \n",
        "50%                            0.000000                          0.000000   \n",
        "75%                            1.000000                          1.000000   \n",
        "max                            1.000000                          1.000000   \n",
        "\n",
        "       C(RELJCT2, Treatment(9999))[T.4]  C(RELJCT2, Treatment(9999))[T.5]  \\\n",
        "count                       1427.000000                       1427.000000   \n",
        "mean                           0.064471                          0.002102   \n",
        "std                            0.245676                          0.045819   \n",
        "min                            0.000000                          0.000000   \n",
        "25%                            0.000000                          0.000000   \n",
        "50%                            0.000000                          0.000000   \n",
        "75%                            0.000000                          0.000000   \n",
        "max                            1.000000                          1.000000   \n",
        "\n",
        "       C(RELJCT2, Treatment(9999))[T.6]  C(RELJCT2, Treatment(9999))[T.7]  \\\n",
        "count                       1427.000000                       1427.000000   \n",
        "mean                           0.000701                          0.001402   \n",
        "std                            0.026472                          0.037424   \n",
        "min                            0.000000                          0.000000   \n",
        "25%                            0.000000                          0.000000   \n",
        "50%                            0.000000                          0.000000   \n",
        "75%                            0.000000                          0.000000   \n",
        "max                            1.000000                          1.000000   \n",
        "\n",
        "       C(RELJCT2, Treatment(9999))[T.8]  C(RELJCT2, Treatment(9999))[T.16]  \\\n",
        "count                       1427.000000                        1427.000000   \n",
        "mean                           0.099509                           0.002803   \n",
        "std                            0.299450                           0.052888   \n",
        "min                            0.000000                           0.000000   \n",
        "25%                            0.000000                           0.000000   \n",
        "50%                            0.000000                           0.000000   \n",
        "75%                            0.000000                           0.000000   \n",
        "max                            1.000000                           1.000000   \n",
        "\n",
        "       C(RELJCT2, Treatment(9999))[T.18]  \n",
        "count                        1427.000000  \n",
        "mean                            0.000701  \n",
        "std                             0.026472  \n",
        "min                             0.000000  \n",
        "25%                             0.000000  \n",
        "50%                             0.000000  \n",
        "75%                             0.000000  \n",
        "max                             1.000000  \n",
        "\n",
        "[8 rows x 11 columns]"
       ]
      }
     ],
     "prompt_number": 57
    },
    {
     "cell_type": "code",
     "collapsed": false,
     "input": [
      "figures = {}\n",
      "for i in t1:\n",
      "    figures[i] = t1.hist(column = i, bins = 30)\n",
      "    plt.show()"
     ],
     "language": "python",
     "metadata": {},
     "outputs": [
      {
       "metadata": {},
       "output_type": "display_data",
       "png": "[encoded data removed]",
       "text": [
        "<matplotlib.figure.Figure at 0x48fd9d0>"
       ]
      },
      {
       "metadata": {},
       "output_type": "display_data",
       "png": "[encoded data removed]",
       "text": [
        "<matplotlib.figure.Figure at 0x5865150>"
       ]
      },
      {
       "metadata": {},
       "output_type": "display_data",
       "png": "[encoded data removed]",
       "text": [
        "<matplotlib.figure.Figure at 0x620c8d0>"
       ]
      },
      {
       "metadata": {},
       "output_type": "display_data",
       "png": "[encoded data removed]",
       "text": [
        "<matplotlib.figure.Figure at 0x6219550>"
       ]
      },
      {
       "metadata": {},
       "output_type": "display_data",
       "png": "[encoded data removed]",
       "text": [
        "<matplotlib.figure.Figure at 0x63c5850>"
       ]
      },
      {
       "metadata": {},
       "output_type": "display_data",
       "png": "[encoded data removed]",
       "text": [
        "<matplotlib.figure.Figure at 0x6964e90>"
       ]
      },
      {
       "metadata": {},
       "output_type": "display_data",
       "png": "[encoded data removed]",
       "text": [
        "<matplotlib.figure.Figure at 0x6ced6d0>"
       ]
      },
      {
       "metadata": {},
       "output_type": "display_data",
       "png": "[encoded data removed]",
       "text": [
        "<matplotlib.figure.Figure at 0x695ea10>"
       ]
      },
      {
       "metadata": {},
       "output_type": "display_data",
       "png": "[encoded data removed]",
       "text": [
        "<matplotlib.figure.Figure at 0x71f1610>"
       ]
      },
      {
       "metadata": {},
       "output_type": "display_data",
       "png": "[encoded data removed]",
       "text": [
        "<matplotlib.figure.Figure at 0x6eb8690>"
       ]
      },
      {
       "metadata": {},
       "output_type": "display_data",
       "png": "[encoded data removed]",
       "text": [
        "<matplotlib.figure.Figure at 0x77813d0>"
       ]
      }
     ],
     "prompt_number": 15
    },
    {
     "cell_type": "code",
     "collapsed": false,
     "input": [
      "basicTransform.info()"
     ],
     "language": "python",
     "metadata": {},
     "outputs": [
      {
       "output_type": "stream",
       "stream": "stdout",
       "text": [
        "<class 'pandas.core.frame.DataFrame'>\n",
        "Int64Index: 1427 entries, 0 to 1426\n",
        "Data columns (total 90 columns):\n",
        "CASENUM            1427 non-null int64\n",
        "PER_NO             1427 non-null int64\n",
        "WEIGHT             1427 non-null float64\n",
        "REGION             1427 non-null int64\n",
        "STRATUM            1427 non-null int64\n",
        "PJ                 1427 non-null int64\n",
        "PSU                1427 non-null int64\n",
        "PSUSTRAT           1427 non-null int64\n",
        "MONTH              1427 non-null int64\n",
        "HOUR               1427 non-null int64\n",
        "MINUTE             1427 non-null int64\n",
        "AGE                1427 non-null int64\n",
        "SEX                1427 non-null int64\n",
        "INJ_SEV            1427 non-null int64\n",
        "DRINKING           1427 non-null int64\n",
        "DRUGS              1427 non-null int64\n",
        "HOSPITAL           1427 non-null int64\n",
        "LOCATION           1427 non-null int64\n",
        "SEX_IM             1427 non-null int64\n",
        "INJSEV_IM          1427 non-null int64\n",
        "PERALCH_IM         1427 non-null int64\n",
        "AGE_IM             1427 non-null int64\n",
        "NUMOCCS            1427 non-null int64\n",
        "HIT_RUN            1427 non-null int64\n",
        "BODY_TYP_vehDup    1427 non-null int64\n",
        "TOW_VEH_vehDup     1427 non-null int64\n",
        "J_KNIFE            1427 non-null int64\n",
        "GVWR               1427 non-null int64\n",
        "V_CONFIG           1427 non-null int64\n",
        "CARGO_BT           1427 non-null int64\n",
        "BUS_USE            1427 non-null int64\n",
        "SPEC_USE_vehDup    1427 non-null int64\n",
        "EMER_USE_vehDup    1427 non-null int64\n",
        "TRAV_SP            1427 non-null int64\n",
        "IMPACT1_vehDup     1427 non-null int64\n",
        "IMPACT2_vehDup     1427 non-null int64\n",
        "VEH_ALCH           1427 non-null int64\n",
        "SPEEDREL           1427 non-null int64\n",
        "VTRAFWAY           1427 non-null int64\n",
        "VNUM_LAN           1427 non-null int64\n",
        "VSPD_LIM           1427 non-null int64\n",
        "VALIGN             1427 non-null int64\n",
        "VPROFILE           1427 non-null int64\n",
        "VSURCOND           1427 non-null int64\n",
        "VTRAFCON           1427 non-null int64\n",
        "VTCONT_F           1427 non-null int64\n",
        "P_CRASH1           1427 non-null int64\n",
        "P_CRASH2           1427 non-null int64\n",
        "P_CRASH3           1427 non-null int64\n",
        "PCRASH4            1427 non-null int64\n",
        "PCRASH5            1427 non-null int64\n",
        "ACC_TYPE           1427 non-null int64\n",
        "HITRUN_IM          1427 non-null int64\n",
        "BDYTYP_IM          1427 non-null int64\n",
        "IMPACT1_IM         1427 non-null int64\n",
        "PCRASH1_IM         1427 non-null int64\n",
        "V_ALCH_IM          1427 non-null int64\n",
        "LAND_USE           1427 non-null int64\n",
        "PEDS               1427 non-null int64\n",
        "PERMVIT            1427 non-null int64\n",
        "PERNOTMVIT         1427 non-null int64\n",
        "DAY_WEEK           1427 non-null int64\n",
        "ALCOHOL            1427 non-null int64\n",
        "RELJCT1            1427 non-null int64\n",
        "RELJCT2            1427 non-null int64\n",
        "TYP_INT            1427 non-null int64\n",
        "WRK_ZONE           1427 non-null int64\n",
        "REL_ROAD           1427 non-null int64\n",
        "LGT_COND           1427 non-null int64\n",
        "WEATHER1           1427 non-null int64\n",
        "WEATHER            1427 non-null int64\n",
        "WKDY_IM            1427 non-null int64\n",
        "HOUR_IM            1427 non-null int64\n",
        "MINUTE_IM          1427 non-null int64\n",
        "RELJCT1_IM         1427 non-null int64\n",
        "RELJCT2_IM         1427 non-null int64\n",
        "LGTCON_IM          1427 non-null int64\n",
        "WEATHR_IM          1427 non-null int64\n",
        "ALCHL_IM           1427 non-null int64\n",
        "DRIVER_AGE         1427 non-null int64\n",
        "DRIVER_SEX         1427 non-null int64\n",
        "DRIVER_DRUGS       1427 non-null int64\n",
        "MSAFEQMT1          1427 non-null int64\n",
        "MSAFEQMT2          1427 non-null int64\n",
        "MSAFEQMT3          1427 non-null int64\n",
        "MSAFEQMT4          1427 non-null int64\n",
        "MSAFEQMT5          1427 non-null int64\n",
        "MSAFEQMT7          1427 non-null int64\n",
        "MSAFEQMT8          1427 non-null int64\n",
        "MSAFEQMT9          1427 non-null int64\n",
        "dtypes: float64(1), int64(89)"
       ]
      }
     ],
     "prompt_number": 16
    },
    {
     "cell_type": "code",
     "collapsed": false,
     "input": [
      "t2 = basicTransform.groupby(\"RELJCT2_IM\")"
     ],
     "language": "python",
     "metadata": {},
     "outputs": [],
     "prompt_number": 17
    },
    {
     "cell_type": "code",
     "collapsed": false,
     "input": [
      "t2_inj = t2.INJ_SEV"
     ],
     "language": "python",
     "metadata": {},
     "outputs": [],
     "prompt_number": 21
    },
    {
     "cell_type": "code",
     "collapsed": false,
     "input": [
      "t2_1 = t2_inj.get_group(4)"
     ],
     "language": "python",
     "metadata": {},
     "outputs": [],
     "prompt_number": 34
    },
    {
     "cell_type": "code",
     "collapsed": false,
     "input": [
      "t2_1.hist()"
     ],
     "language": "python",
     "metadata": {},
     "outputs": [
      {
       "metadata": {},
       "output_type": "pyout",
       "prompt_number": 35,
       "text": [
        "<matplotlib.axes.AxesSubplot at 0x7f9b950>"
       ]
      },
      {
       "metadata": {},
       "output_type": "display_data",
       "png": "[encoded data removed]",
       "text": [
        "<matplotlib.figure.Figure at 0x7a84f90>"
       ]
      }
     ],
     "prompt_number": 35
    },
    {
     "cell_type": "code",
     "collapsed": false,
     "input": [
      "basicTransform.info()"
     ],
     "language": "python",
     "metadata": {},
     "outputs": [
      {
       "output_type": "stream",
       "stream": "stdout",
       "text": [
        "<class 'pandas.core.frame.DataFrame'>\n",
        "Int64Index: 1427 entries, 0 to 1426\n",
        "Data columns (total 90 columns):\n",
        "CASENUM            1427 non-null int64\n",
        "PER_NO             1427 non-null int64\n",
        "WEIGHT             1427 non-null float64\n",
        "REGION             1427 non-null int64\n",
        "STRATUM            1427 non-null int64\n",
        "PJ                 1427 non-null int64\n",
        "PSU                1427 non-null int64\n",
        "PSUSTRAT           1427 non-null int64\n",
        "MONTH              1427 non-null int64\n",
        "HOUR               1427 non-null int64\n",
        "MINUTE             1427 non-null int64\n",
        "AGE                1427 non-null int64\n",
        "SEX                1427 non-null int64\n",
        "INJ_SEV            1427 non-null int64\n",
        "DRINKING           1427 non-null int64\n",
        "DRUGS              1427 non-null int64\n",
        "HOSPITAL           1427 non-null int64\n",
        "LOCATION           1427 non-null int64\n",
        "SEX_IM             1427 non-null int64\n",
        "INJSEV_IM          1427 non-null int64\n",
        "PERALCH_IM         1427 non-null int64\n",
        "AGE_IM             1427 non-null int64\n",
        "NUMOCCS            1427 non-null int64\n",
        "HIT_RUN            1427 non-null int64\n",
        "BODY_TYP_vehDup    1427 non-null int64\n",
        "TOW_VEH_vehDup     1427 non-null int64\n",
        "J_KNIFE            1427 non-null int64\n",
        "GVWR               1427 non-null int64\n",
        "V_CONFIG           1427 non-null int64\n",
        "CARGO_BT           1427 non-null int64\n",
        "BUS_USE            1427 non-null int64\n",
        "SPEC_USE_vehDup    1427 non-null int64\n",
        "EMER_USE_vehDup    1427 non-null int64\n",
        "TRAV_SP            1427 non-null int64\n",
        "IMPACT1_vehDup     1427 non-null int64\n",
        "IMPACT2_vehDup     1427 non-null int64\n",
        "VEH_ALCH           1427 non-null int64\n",
        "SPEEDREL           1427 non-null int64\n",
        "VTRAFWAY           1427 non-null int64\n",
        "VNUM_LAN           1427 non-null int64\n",
        "VSPD_LIM           1427 non-null int64\n",
        "VALIGN             1427 non-null int64\n",
        "VPROFILE           1427 non-null int64\n",
        "VSURCOND           1427 non-null int64\n",
        "VTRAFCON           1427 non-null int64\n",
        "VTCONT_F           1427 non-null int64\n",
        "P_CRASH1           1427 non-null int64\n",
        "P_CRASH2           1427 non-null int64\n",
        "P_CRASH3           1427 non-null int64\n",
        "PCRASH4            1427 non-null int64\n",
        "PCRASH5            1427 non-null int64\n",
        "ACC_TYPE           1427 non-null int64\n",
        "HITRUN_IM          1427 non-null int64\n",
        "BDYTYP_IM          1427 non-null int64\n",
        "IMPACT1_IM         1427 non-null int64\n",
        "PCRASH1_IM         1427 non-null int64\n",
        "V_ALCH_IM          1427 non-null int64\n",
        "LAND_USE           1427 non-null int64\n",
        "PEDS               1427 non-null int64\n",
        "PERMVIT            1427 non-null int64\n",
        "PERNOTMVIT         1427 non-null int64\n",
        "DAY_WEEK           1427 non-null int64\n",
        "ALCOHOL            1427 non-null int64\n",
        "RELJCT1            1427 non-null int64\n",
        "RELJCT2            1427 non-null int64\n",
        "TYP_INT            1427 non-null int64\n",
        "WRK_ZONE           1427 non-null int64\n",
        "REL_ROAD           1427 non-null int64\n",
        "LGT_COND           1427 non-null int64\n",
        "WEATHER1           1427 non-null int64\n",
        "WEATHER            1427 non-null int64\n",
        "WKDY_IM            1427 non-null int64\n",
        "HOUR_IM            1427 non-null int64\n",
        "MINUTE_IM          1427 non-null int64\n",
        "RELJCT1_IM         1427 non-null int64\n",
        "RELJCT2_IM         1427 non-null int64\n",
        "LGTCON_IM          1427 non-null int64\n",
        "WEATHR_IM          1427 non-null int64\n",
        "ALCHL_IM           1427 non-null int64\n",
        "DRIVER_AGE         1427 non-null int64\n",
        "DRIVER_SEX         1427 non-null int64\n",
        "DRIVER_DRUGS       1427 non-null int64\n",
        "MSAFEQMT1          1427 non-null int64\n",
        "MSAFEQMT2          1427 non-null int64\n",
        "MSAFEQMT3          1427 non-null int64\n",
        "MSAFEQMT4          1427 non-null int64\n",
        "MSAFEQMT5          1427 non-null int64\n",
        "MSAFEQMT7          1427 non-null int64\n",
        "MSAFEQMT8          1427 non-null int64\n",
        "MSAFEQMT9          1427 non-null int64\n",
        "dtypes: float64(1), int64(89)"
       ]
      }
     ],
     "prompt_number": 36
    },
    {
     "cell_type": "code",
     "collapsed": false,
     "input": [
      "len(basicTransform.RELJCT_IM.unique())"
     ],
     "language": "python",
     "metadata": {},
     "outputs": [
      {
       "metadata": {},
       "output_type": "pyout",
       "prompt_number": 41,
       "text": [
        "10"
       ]
      }
     ],
     "prompt_number": 41
    },
    {
     "cell_type": "code",
     "collapsed": false,
     "input": [
      "len(basicTransform.PSU.unique())"
     ],
     "language": "python",
     "metadata": {},
     "outputs": [
      {
       "metadata": {},
       "output_type": "pyout",
       "prompt_number": 61,
       "text": [
        "58"
       ]
      }
     ],
     "prompt_number": 61
    },
    {
     "cell_type": "code",
     "collapsed": false,
     "input": [
      "basicTransform.to_pickle(\"noMissingValueDf.pkl\")"
     ],
     "language": "python",
     "metadata": {},
     "outputs": [],
     "prompt_number": 62
    },
    {
     "cell_type": "code",
     "collapsed": false,
     "input": [],
     "language": "python",
     "metadata": {},
     "outputs": []
    }
   ],
   "metadata": {}
  }
 ]
}