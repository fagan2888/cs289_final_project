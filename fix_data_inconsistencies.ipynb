{
 "metadata": {
  "name": "fix_data_inconsistencies.ipynb"
 },
 "nbformat": 3,
 "nbformat_minor": 0,
 "worksheets": [
  {
   "cells": [
    {
     "cell_type": "markdown",
     "metadata": {},
     "source": [
      "#Fix Data Inconsistencies from 2011 to 2012"
     ]
    },
    {
     "cell_type": "code",
     "collapsed": false,
     "input": [
      "import pandas as pd, statsmodels.formula.api as smf, hybrid_logit as hl, matplotlib.pyplot as plt\n",
      "import treepredict, cPickle\n",
      "from copy import deepcopy\n",
      "import re\n",
      "from pprint import pprint"
     ],
     "language": "python",
     "metadata": {},
     "outputs": [
      {
       "output_type": "stream",
       "stream": "stderr",
       "text": [
        "/home/timothy/Enthought/Canopy_64bit/User/lib/python2.7/site-packages/pandas/io/excel.py:626: UserWarning: Installed openpyxl is not supported at this time. Use >=1.6.1 and <2.0.0.\n",
        "  .format(openpyxl_compat.start_ver, openpyxl_compat.stop_ver))\n"
       ]
      }
     ],
     "prompt_number": 1
    },
    {
     "cell_type": "code",
     "collapsed": false,
     "input": [
      "data_2011 = pd.read_pickle(\"dataframes/design_DF_4Tree.pkl\")\n",
      "data_2012 = pd.read_pickle(\"dataframes/design_DF_4Tree_2012.pkl\")"
     ],
     "language": "python",
     "metadata": {},
     "outputs": [],
     "prompt_number": 4
    },
    {
     "cell_type": "code",
     "collapsed": false,
     "input": [
      "\"There are {} columns in the 2011 data and {} in the 2012 data\".format(len(data_2011.columns), len(data_2012.columns))"
     ],
     "language": "python",
     "metadata": {},
     "outputs": [
      {
       "metadata": {},
       "output_type": "pyout",
       "prompt_number": 5,
       "text": [
        "'There are 331 columns in the 2011 data and 333 in the 2012 data'"
       ]
      }
     ],
     "prompt_number": 5
    },
    {
     "cell_type": "code",
     "collapsed": false,
     "input": [
      "def get_variable_differences(data1, data2):\n",
      "    \"\"\"data1 = a dataframe of variables as columns and observations as the rows\n",
      "    data2 = a dataframe of variables as columns and observations as the rows\n",
      "    ==========\n",
      "    Returns a a set of variables, separated into levels if dealing with categorical  variable names as created by patsy,\n",
      "    that are in data1 but not in data2. Also returns a set of variables, not separated into levels, that are in data1 but\n",
      "    not in data2.\"\"\"\n",
      "    in_data1 = set(data1.columns) #Get the set of all variables in the first data set\n",
      "    in_data2 = set(data2.columns) #GEt the set of all variables in the second data set\n",
      "    #Get the set of all variables in the first but not the second dataset\n",
      "    in_data1_not_data2_specific = in_data1.difference(in_data2)\n",
      "    #Initialize a set for the general variables in dataset 1 but not dataset 2. \n",
      "    in_data1_not_data2_general = set()\n",
      "    #Create a pattern to identify sequences of one or more whitespaces one or more alphanumeric characters and underscores\n",
      "    #that are followed by either a comma, a \")[\", or a variable number of whitespaces and then the end of a line\n",
      "    pat = r\" *\\w+(?=,|\\)\\[| *$)\"\n",
      "    for variable in in_data1_not_data2_specific: #Iterate over every variable in in_data1_not_data2_specific\n",
      "        #find the parts of variable that match the pattern identified above and add the first match to in_data1_not_data2_general\n",
      "        in_data1_not_data2_general.add(re.findall(pat, variable)[0])\n",
      "    return in_data1_not_data2_specific, in_data1_not_data2_general"
     ],
     "language": "python",
     "metadata": {},
     "outputs": [],
     "prompt_number": 6
    },
    {
     "cell_type": "code",
     "collapsed": false,
     "input": [
      "specific_diff_2011_to_2012, general_diff_2011_to_2012 = get_variable_differences(data_2011, data_2012)"
     ],
     "language": "python",
     "metadata": {},
     "outputs": [],
     "prompt_number": 7
    },
    {
     "cell_type": "code",
     "collapsed": false,
     "input": [
      "specific_diff_2011_to_2012"
     ],
     "language": "python",
     "metadata": {},
     "outputs": [
      {
       "metadata": {},
       "output_type": "pyout",
       "prompt_number": 10,
       "text": [
        "{'C(ACC_TYPE, Treatment(9999))[T.50]',\n",
        " 'C(ACC_TYPE, Treatment(9999))[T.6]',\n",
        " 'C(BDYTYP_IM)[T.12]',\n",
        " 'C(BDYTYP_IM)[T.51]',\n",
        " 'C(BDYTYP_IM)[T.94]',\n",
        " 'C(BDYTYP_IM)[T.97]',\n",
        " 'C(BUS_USE, Treatment(9999))[T.4]',\n",
        " 'C(CARGO_BT, Treatment(9999))[T.28]',\n",
        " 'C(CARGO_BT, Treatment(9999))[T.6]',\n",
        " 'C(IMPACT1_IM)[T.1]',\n",
        " 'C(IMPACT2_vehDup, Treatment(9999))[T.0]',\n",
        " 'C(IMPACT2_vehDup, Treatment(9999))[T.13]',\n",
        " 'C(IMPACT2_vehDup, Treatment(9999))[T.14]',\n",
        " 'C(IMPACT2_vehDup, Treatment(9999))[T.61]',\n",
        " 'C(IMPACT2_vehDup, Treatment(9999))[T.62]',\n",
        " 'C(IMPACT2_vehDup, Treatment(9999))[T.63]',\n",
        " 'C(IMPACT2_vehDup, Treatment(9999))[T.81]',\n",
        " 'C(IMPACT2_vehDup, Treatment(9999))[T.82]',\n",
        " 'C(IMPACT2_vehDup, Treatment(9999))[T.83]',\n",
        " 'C(LOCATION, Treatment(9999))[T.25]',\n",
        " 'C(P_CRASH2, Treatment(9999))[T.4]',\n",
        " 'C(P_CRASH2, Treatment(9999))[T.64]',\n",
        " 'C(P_CRASH2, Treatment(9999))[T.6]',\n",
        " 'C(P_CRASH3, Treatment(9999))[T.11]',\n",
        " 'C(RELJCT2_IM)[T.18]',\n",
        " 'C(RELJCT2_IM)[T.7]',\n",
        " 'C(REL_ROAD, Treatment(9999))[T.5]',\n",
        " 'C(VSURCOND, Treatment(9999))[T.4]',\n",
        " 'C(VTRAFCON, Treatment(9999))[T.50]',\n",
        " 'C(V_CONFIG, Treatment(9999))[T.20]'}"
       ]
      }
     ],
     "prompt_number": 10
    },
    {
     "cell_type": "code",
     "collapsed": false,
     "input": [
      "general_diff_2011_to_2012"
     ],
     "language": "python",
     "metadata": {},
     "outputs": [
      {
       "metadata": {},
       "output_type": "pyout",
       "prompt_number": 11,
       "text": [
        "{'ACC_TYPE',\n",
        " 'BDYTYP_IM',\n",
        " 'BUS_USE',\n",
        " 'CARGO_BT',\n",
        " 'IMPACT1_IM',\n",
        " 'IMPACT2_vehDup',\n",
        " 'LOCATION',\n",
        " 'P_CRASH2',\n",
        " 'P_CRASH3',\n",
        " 'RELJCT2_IM',\n",
        " 'REL_ROAD',\n",
        " 'VSURCOND',\n",
        " 'VTRAFCON',\n",
        " 'V_CONFIG'}"
       ]
      }
     ],
     "prompt_number": 11
    },
    {
     "cell_type": "markdown",
     "metadata": {},
     "source": [
      "##Explanation of variables in the 2011 data but not the 2012 data\n",
      "<ul><li>The vollowing variables never take on the values listed after the colon, in 2012, even though those values were observed in 2011:\n",
      "        <ol><li>ACC_TYPE: 6</li>\n",
      "            <li>BDYTYP_IM: 12, 51, 94, 97</li>\n",
      "            <li>BUS_USE: 4</li>\n",
      "            <li>CARGO_BT: 6, 28</li>\n",
      "            <li>IMPACT1_IM: 1</li>\n",
      "            <li>Location: 25</li>\n",
      "            <li>P_CRASH2: 4, 6, 64</li>\n",
      "            <li>P_CRASH3: 11</li>\n",
      "            <li>RELJCT2_IM: 7, 18</li>\n",
      "            <li>REL_ROAD: 5</li>\n",
      "            <li>VSURCOND: 4</li>\n",
      "            <li>VTRAFCON: 50</li>\n",
      "            <li>V_CONFIG: 20</li>\n",
      "        </ol>\n",
      "        They should be initialized as zeros in the 2012 data</li><br>\n",
      "    <li>The BDYTYP_IM variable in 2012 differs from that of 2011 since the BDYTYP_IM value 97 changed to exclude golf carts in 2012. Golf carts are now coded as the variable 95 in 2012. This doesn't affect my data since there are also no 95s observed in 2012 </li>\n",
      "    <li><font color=\"red\">IMPACT2 does not exist in 2012.</font> It has been recreated as a new variable but there is no one to one mapping from the new variable to the original IMPACT2 variable.<font color=\"red\"> IMPACT2 should be deleted from the 2011 dataset.</font></li>\n",
      "    \n",
      "    \n",
      "    "
     ]
    },
    {
     "cell_type": "code",
     "collapsed": false,
     "input": [
      "#Remove the IMPACT2 variables from the original set of variables in the 2011 data but not in 2012\n",
      "for variable in specific_diff_2011_to_2012.copy():\n",
      "    if \"IMPACT2\" in variable:\n",
      "        specific_diff_2011_to_2012.remove(variable)\n",
      "pprint(specific_diff_2011_to_2012)"
     ],
     "language": "python",
     "metadata": {},
     "outputs": [
      {
       "output_type": "stream",
       "stream": "stdout",
       "text": [
        "set(['C(ACC_TYPE, Treatment(9999))[T.50]',\n",
        "     'C(ACC_TYPE, Treatment(9999))[T.6]',\n",
        "     'C(BDYTYP_IM)[T.12]',\n",
        "     'C(BDYTYP_IM)[T.51]',\n",
        "     'C(BDYTYP_IM)[T.94]',\n",
        "     'C(BDYTYP_IM)[T.97]',\n",
        "     'C(BUS_USE, Treatment(9999))[T.4]',\n",
        "     'C(CARGO_BT, Treatment(9999))[T.28]',\n",
        "     'C(CARGO_BT, Treatment(9999))[T.6]',\n",
        "     'C(IMPACT1_IM)[T.1]',\n",
        "     'C(LOCATION, Treatment(9999))[T.25]',\n",
        "     'C(P_CRASH2, Treatment(9999))[T.4]',\n",
        "     'C(P_CRASH2, Treatment(9999))[T.64]',\n",
        "     'C(P_CRASH2, Treatment(9999))[T.6]',\n",
        "     'C(P_CRASH3, Treatment(9999))[T.11]',\n",
        "     'C(RELJCT2_IM)[T.18]',\n",
        "     'C(RELJCT2_IM)[T.7]',\n",
        "     'C(REL_ROAD, Treatment(9999))[T.5]',\n",
        "     'C(VSURCOND, Treatment(9999))[T.4]',\n",
        "     'C(VTRAFCON, Treatment(9999))[T.50]',\n",
        "     'C(V_CONFIG, Treatment(9999))[T.20]'])\n"
       ]
      }
     ],
     "prompt_number": 13
    },
    {
     "cell_type": "code",
     "collapsed": false,
     "input": [
      "#For all the original varialbes in the 2011 data that are missing from the 2012 data, except for the IMPACT2 variables,\n",
      "#Give them a value of zero in the 2012 dataset.\n",
      "for variable in specific_diff_2011_to_2012:\n",
      "    data_2012[variable] = 0\n",
      "data_2012.to_pickle(\"dataframes/consistent_design_4tree_2012.pkl\") #save the new 2012 dataset."
     ],
     "language": "python",
     "metadata": {},
     "outputs": [],
     "prompt_number": 14
    },
    {
     "cell_type": "code",
     "collapsed": false,
     "input": [
      "#Remove the impact2 variables from the 2011 dataset and save it.\n",
      "for variable in data_2011.columns:\n",
      "    if \"IMPACT2\" in variable:\n",
      "        del data_2011[variable]\n",
      "data_2011.to_pickle(\"dataframes/consistent_design_4tree_2011.pkl\")"
     ],
     "language": "python",
     "metadata": {},
     "outputs": [],
     "prompt_number": 17
    },
    {
     "cell_type": "code",
     "collapsed": false,
     "input": [
      "#Make sure all variables from 2011 appear in 2012.\n",
      "s,g = get_variable_differences(data_2011, data_2012)\n",
      "pprint(s)"
     ],
     "language": "python",
     "metadata": {},
     "outputs": [
      {
       "output_type": "stream",
       "stream": "stdout",
       "text": [
        "set()\n"
       ]
      }
     ],
     "prompt_number": 18
    },
    {
     "cell_type": "code",
     "collapsed": false,
     "input": [],
     "language": "python",
     "metadata": {},
     "outputs": []
    }
   ],
   "metadata": {}
  }
 ]
}