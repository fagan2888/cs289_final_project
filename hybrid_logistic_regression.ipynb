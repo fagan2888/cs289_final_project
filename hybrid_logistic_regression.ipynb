{
 "metadata": {
  "name": "hybrid_logistic_regression.ipynb"
 },
 "nbformat": 3,
 "nbformat_minor": 0,
 "worksheets": [
  {
   "cells": [
    {
     "cell_type": "code",
     "collapsed": false,
     "input": [
      "import numpy as np, pandas as pd, statsmodels.formula.api as smf, statsmodels.api as sm\n",
      "import treepredict, cPickle, patsy\n",
      "from copy import deepcopy"
     ],
     "language": "python",
     "metadata": {},
     "outputs": [],
     "prompt_number": 2
    },
    {
     "cell_type": "heading",
     "level": 3,
     "metadata": {},
     "source": [
      "Run some basic test models with the Hybrid CART-Logistic Regression"
     ]
    },
    {
     "cell_type": "code",
     "collapsed": false,
     "input": [
      "#Load the leaf augmented dataframes\n",
      "trainingDesign = pd.read_pickle(\"dataframes/leaf_augmented/trainingSet_DF_naiveTree.pkl\")\n",
      "validationDesign = pd.read_pickle(\"dataframes/leaf_augmented/validationSet_DF_naiveTree.pkl\")"
     ],
     "language": "python",
     "metadata": {},
     "outputs": [],
     "prompt_number": 3
    },
    {
     "cell_type": "code",
     "collapsed": false,
     "input": [
      "contrast_nodeNums = patsy.dmatrix(\"C(nodeNum) - 1\", data=trainingDesign)\n",
      "contrast_nodeNums = pd.DataFrame(contrast_nodeNums, columns=contrast_nodeNums.design_info.column_names,\n",
      "                                 index = trainingDesign.index.tolist())\n",
      "new_trainingDesign = pd.merge(trainingDesign, contrast_nodeNums, left_index=True, right_index=True)"
     ],
     "language": "python",
     "metadata": {},
     "outputs": [],
     "prompt_number": 16
    },
    {
     "cell_type": "code",
     "collapsed": false,
     "input": [
      "new_trainingDesign.iloc[:,-25:].info()"
     ],
     "language": "python",
     "metadata": {},
     "outputs": [
      {
       "output_type": "stream",
       "stream": "stdout",
       "text": [
        "<class 'pandas.core.frame.DataFrame'>\n",
        "Int64Index: 1142 entries, 943 to 999\n",
        "Data columns (total 25 columns):\n",
        "MSAFEQMT5         1142 non-null int64\n",
        "MSAFEQMT7         1142 non-null int64\n",
        "SER_INJ           1142 non-null int64\n",
        "nodeNum           1142 non-null int64\n",
        "C(nodeNum)[0]     1142 non-null float64\n",
        "C(nodeNum)[1]     1142 non-null float64\n",
        "C(nodeNum)[2]     1142 non-null float64\n",
        "C(nodeNum)[3]     1142 non-null float64\n",
        "C(nodeNum)[4]     1142 non-null float64\n",
        "C(nodeNum)[5]     1142 non-null float64\n",
        "C(nodeNum)[6]     1142 non-null float64\n",
        "C(nodeNum)[7]     1142 non-null float64\n",
        "C(nodeNum)[8]     1142 non-null float64\n",
        "C(nodeNum)[9]     1142 non-null float64\n",
        "C(nodeNum)[10]    1142 non-null float64\n",
        "C(nodeNum)[11]    1142 non-null float64\n",
        "C(nodeNum)[12]    1142 non-null float64\n",
        "C(nodeNum)[13]    1142 non-null float64\n",
        "C(nodeNum)[14]    1142 non-null float64\n",
        "C(nodeNum)[15]    1142 non-null float64\n",
        "C(nodeNum)[16]    1142 non-null float64\n",
        "C(nodeNum)[17]    1142 non-null float64\n",
        "C(nodeNum)[18]    1142 non-null float64\n",
        "C(nodeNum)[19]    1142 non-null float64\n",
        "C(nodeNum)[20]    1142 non-null float64\n",
        "dtypes: float64(21), int64(4)"
       ]
      }
     ],
     "prompt_number": 18
    },
    {
     "cell_type": "code",
     "collapsed": false,
     "input": [
      "cols = trainingDesign.columns.tolist()\n",
      "r1 = \"C(\" #The beginning of the column name for contrast coded variables made with patsy\n",
      "r2 = \")[\" #The ending of contrast coded variable names for variables without a specified reference treatment\n",
      "r3 = \"]\" #The ending of the treatment delimeter for contrast coded variables made with patsy\n",
      "r4 = \", \" #column vs patys info delimiter\n",
      "r5 = \".\" #Patsy delimiter before value of original categorical\n",
      "replace_dict = dict(zip([r1, r4, r2, r5, r3], [\"\", \"_\", \"_\", \"\", \"\"]))\n",
      "new_cols = []\n",
      "for col in cols:\n",
      "    if r1 in col: #Check if the variabe was made via contrast coding\n",
      "        new_col = deepcopy(col)\n",
      "        for item in replace_dict:\n",
      "            new_col = new_col.replace(item, replace_dict[item])\n",
      "        new_cols.append(new_col)\n",
      "    else:\n",
      "        new_cols.append(col)\n",
      "        \n",
      "        "
     ],
     "language": "python",
     "metadata": {},
     "outputs": []
    },
    {
     "cell_type": "code",
     "collapsed": false,
     "input": [
      "treepredict."
     ],
     "language": "python",
     "metadata": {},
     "outputs": [
      {
       "output_type": "stream",
       "stream": "stdout",
       "text": [
        "boo\n",
        "foo\n"
       ]
      }
     ],
     "prompt_number": 1
    },
    {
     "cell_type": "code",
     "collapsed": false,
     "input": [
      "with open(\"trees/pruned_NaiveTree_trainingSet.pkl\") as f:\n",
      "    pruned_tSet_tree = cPickle.load(f)"
     ],
     "language": "python",
     "metadata": {},
     "outputs": []
    },
    {
     "cell_type": "code",
     "collapsed": false,
     "input": [
      "rel_feats = list(treepredict.searchFeats(pruned_tSet_tree))\n",
      "rel_feats"
     ],
     "language": "python",
     "metadata": {},
     "outputs": [
      {
       "metadata": {},
       "output_type": "pyout",
       "prompt_number": 21,
       "text": [
        "['MSAFEQMT1',\n",
        " 'AGE_IM',\n",
        " 'C(VTCONT_F, Treatment(9999))[T.3]',\n",
        " 'DRIVER_AGE',\n",
        " 'C(IMPACT2_vehDup, Treatment(9999))[T.4]',\n",
        " 'C(VPROFILE, Treatment(9999))[T.1]',\n",
        " 'C(WKDY_IM)[T.7]',\n",
        " 'C(TYP_INT, Treatment(9999))[T.1]',\n",
        " 'C(LGTCON_IM)[T.3]',\n",
        " 'C(MONTH)[T.2]',\n",
        " 'C(LGTCON_IM)[T.2]',\n",
        " 'C(PCRASH1_IM)[T.1]',\n",
        " 'NUMOCCS',\n",
        " 'C(ALCHL_IM)[T.2]',\n",
        " 'C(SPEEDREL, Treatment(9999))[T.0]',\n",
        " 'C(LOCATION, Treatment(9999))[T.2]',\n",
        " 'C(IMPACT1_IM)[T.12]',\n",
        " 'C(DRUGS, Treatment(9999))[T.0]']"
       ]
      }
     ],
     "prompt_number": 21
    },
    {
     "cell_type": "code",
     "collapsed": false,
     "input": [
      "col = rel_feats[1]\n",
      "fString = \"SER_INJ ~ -1 + C(nodeNum) + {}\".format(col)"
     ],
     "language": "python",
     "metadata": {},
     "outputs": [],
     "prompt_number": 55
    },
    {
     "cell_type": "code",
     "collapsed": false,
     "input": [
      "model_1 = smf.logit(fString, data=trainingDesign).fit(maxiter=35)"
     ],
     "language": "python",
     "metadata": {},
     "outputs": [
      {
       "output_type": "stream",
       "stream": "stdout",
       "text": [
        "Warning: Maximum number of iterations has been exceeded.\n",
        "         Current function value: 0.436207\n",
        "         Iterations: 35\n"
       ]
      }
     ],
     "prompt_number": 57
    },
    {
     "cell_type": "code",
     "collapsed": false,
     "input": [
      "model_1.summary()"
     ],
     "language": "python",
     "metadata": {},
     "outputs": [
      {
       "html": [
        "<table class=\"simpletable\">\n",
        "<caption>Logit Regression Results</caption>\n",
        "<tr>\n",
        "  <th>Dep. Variable:</th>      <td>SER_INJ</td>     <th>  No. Observations:  </th>  <td>  1142</td>  \n",
        "</tr>\n",
        "<tr>\n",
        "  <th>Model:</th>               <td>Logit</td>      <th>  Df Residuals:      </th>  <td>  1120</td>  \n",
        "</tr>\n",
        "<tr>\n",
        "  <th>Method:</th>               <td>MLE</td>       <th>  Df Model:          </th>  <td>    21</td>  \n",
        "</tr>\n",
        "<tr>\n",
        "  <th>Date:</th>          <td>Tue, 29 Apr 2014</td> <th>  Pseudo R-squ.:     </th>  <td>0.1418</td>  \n",
        "</tr>\n",
        "<tr>\n",
        "  <th>Time:</th>              <td>21:28:50</td>     <th>  Log-Likelihood:    </th> <td> -498.15</td> \n",
        "</tr>\n",
        "<tr>\n",
        "  <th>converged:</th>           <td>False</td>      <th>  LL-Null:           </th> <td> -580.49</td> \n",
        "</tr>\n",
        "<tr>\n",
        "  <th> </th>                      <td> </td>        <th>  LLR p-value:       </th> <td>2.729e-24</td>\n",
        "</tr>\n",
        "</table>\n",
        "<table class=\"simpletable\">\n",
        "<tr>\n",
        "         <td></td>           <th>coef</th>     <th>std err</th>      <th>z</th>      <th>P>|z|</th> <th>[95.0% Conf. Int.]</th> \n",
        "</tr>\n",
        "<tr>\n",
        "  <th>C(nodeNum)[0]</th>  <td>   -2.9256</td> <td>    1.036</td> <td>   -2.825</td> <td> 0.005</td> <td>   -4.955    -0.896</td>\n",
        "</tr>\n",
        "<tr>\n",
        "  <th>C(nodeNum)[1]</th>  <td>   35.9954</td> <td> 6.71e+07</td> <td> 5.36e-07</td> <td> 1.000</td> <td>-1.32e+08  1.32e+08</td>\n",
        "</tr>\n",
        "<tr>\n",
        "  <th>C(nodeNum)[2]</th>  <td>  -36.2844</td> <td> 7.27e+07</td> <td>-4.99e-07</td> <td> 1.000</td> <td>-1.42e+08  1.42e+08</td>\n",
        "</tr>\n",
        "<tr>\n",
        "  <th>C(nodeNum)[3]</th>  <td>  -36.3333</td> <td> 1.25e+07</td> <td>-2.92e-06</td> <td> 1.000</td> <td>-2.44e+07  2.44e+07</td>\n",
        "</tr>\n",
        "<tr>\n",
        "  <th>C(nodeNum)[4]</th>  <td>   -0.3989</td> <td>    0.776</td> <td>   -0.514</td> <td> 0.607</td> <td>   -1.920     1.122</td>\n",
        "</tr>\n",
        "<tr>\n",
        "  <th>C(nodeNum)[5]</th>  <td>   -0.8399</td> <td>    0.363</td> <td>   -2.313</td> <td> 0.021</td> <td>   -1.552    -0.128</td>\n",
        "</tr>\n",
        "<tr>\n",
        "  <th>C(nodeNum)[6]</th>  <td>   -0.6838</td> <td>    0.199</td> <td>   -3.443</td> <td> 0.001</td> <td>   -1.073    -0.295</td>\n",
        "</tr>\n",
        "<tr>\n",
        "  <th>C(nodeNum)[7]</th>  <td>   36.0695</td> <td> 4.75e+07</td> <td>  7.6e-07</td> <td> 1.000</td> <td> -9.3e+07   9.3e+07</td>\n",
        "</tr>\n",
        "<tr>\n",
        "  <th>C(nodeNum)[8]</th>  <td>  -36.3032</td> <td> 1.71e+07</td> <td>-2.12e-06</td> <td> 1.000</td> <td>-3.36e+07  3.36e+07</td>\n",
        "</tr>\n",
        "<tr>\n",
        "  <th>C(nodeNum)[9]</th>  <td>   -1.2877</td> <td>    0.316</td> <td>   -4.073</td> <td> 0.000</td> <td>   -1.907    -0.668</td>\n",
        "</tr>\n",
        "<tr>\n",
        "  <th>C(nodeNum)[10]</th> <td>    0.5902</td> <td>    1.232</td> <td>    0.479</td> <td> 0.632</td> <td>   -1.824     3.004</td>\n",
        "</tr>\n",
        "<tr>\n",
        "  <th>C(nodeNum)[11]</th> <td>  -36.4204</td> <td>  4.2e+07</td> <td>-8.68e-07</td> <td> 1.000</td> <td>-8.22e+07  8.22e+07</td>\n",
        "</tr>\n",
        "<tr>\n",
        "  <th>C(nodeNum)[12]</th> <td>   36.0697</td> <td> 4.75e+07</td> <td>  7.6e-07</td> <td> 1.000</td> <td> -9.3e+07   9.3e+07</td>\n",
        "</tr>\n",
        "<tr>\n",
        "  <th>C(nodeNum)[13]</th> <td>  -36.2660</td> <td> 1.82e+07</td> <td>   -2e-06</td> <td> 1.000</td> <td>-3.56e+07  3.56e+07</td>\n",
        "</tr>\n",
        "<tr>\n",
        "  <th>C(nodeNum)[14]</th> <td>  -36.3369</td> <td> 1.48e+07</td> <td>-2.45e-06</td> <td> 1.000</td> <td>-2.91e+07  2.91e+07</td>\n",
        "</tr>\n",
        "<tr>\n",
        "  <th>C(nodeNum)[15]</th> <td>   36.0018</td> <td> 2.54e+07</td> <td> 1.42e-06</td> <td> 1.000</td> <td>-4.97e+07  4.97e+07</td>\n",
        "</tr>\n",
        "<tr>\n",
        "  <th>C(nodeNum)[16]</th> <td>   36.0644</td> <td> 3.36e+07</td> <td> 1.07e-06</td> <td> 1.000</td> <td>-6.58e+07  6.58e+07</td>\n",
        "</tr>\n",
        "<tr>\n",
        "  <th>C(nodeNum)[17]</th> <td>   36.0763</td> <td> 3.36e+07</td> <td> 1.08e-06</td> <td> 1.000</td> <td>-6.58e+07  6.58e+07</td>\n",
        "</tr>\n",
        "<tr>\n",
        "  <th>C(nodeNum)[18]</th> <td>   -1.1901</td> <td>    0.824</td> <td>   -1.444</td> <td> 0.149</td> <td>   -2.806     0.426</td>\n",
        "</tr>\n",
        "<tr>\n",
        "  <th>C(nodeNum)[19]</th> <td>  -36.3513</td> <td> 3.63e+07</td> <td>   -1e-06</td> <td> 1.000</td> <td>-7.12e+07  7.12e+07</td>\n",
        "</tr>\n",
        "<tr>\n",
        "  <th>C(nodeNum)[20]</th> <td>   -1.8707</td> <td>    0.187</td> <td>   -9.979</td> <td> 0.000</td> <td>   -2.238    -1.503</td>\n",
        "</tr>\n",
        "<tr>\n",
        "  <th>AGE_IM</th>         <td>    0.0037</td> <td>    0.005</td> <td>    0.819</td> <td> 0.413</td> <td>   -0.005     0.013</td>\n",
        "</tr>\n",
        "</table>"
       ],
       "metadata": {},
       "output_type": "pyout",
       "prompt_number": 58,
       "text": [
        "<class 'statsmodels.iolib.summary.Summary'>\n",
        "\"\"\"\n",
        "                           Logit Regression Results                           \n",
        "==============================================================================\n",
        "Dep. Variable:                SER_INJ   No. Observations:                 1142\n",
        "Model:                          Logit   Df Residuals:                     1120\n",
        "Method:                           MLE   Df Model:                           21\n",
        "Date:                Tue, 29 Apr 2014   Pseudo R-squ.:                  0.1418\n",
        "Time:                        21:28:50   Log-Likelihood:                -498.15\n",
        "converged:                      False   LL-Null:                       -580.49\n",
        "                                        LLR p-value:                 2.729e-24\n",
        "==================================================================================\n",
        "                     coef    std err          z      P>|z|      [95.0% Conf. Int.]\n",
        "----------------------------------------------------------------------------------\n",
        "C(nodeNum)[0]     -2.9256      1.036     -2.825      0.005        -4.955    -0.896\n",
        "C(nodeNum)[1]     35.9954   6.71e+07   5.36e-07      1.000     -1.32e+08  1.32e+08\n",
        "C(nodeNum)[2]    -36.2844   7.27e+07  -4.99e-07      1.000     -1.42e+08  1.42e+08\n",
        "C(nodeNum)[3]    -36.3333   1.25e+07  -2.92e-06      1.000     -2.44e+07  2.44e+07\n",
        "C(nodeNum)[4]     -0.3989      0.776     -0.514      0.607        -1.920     1.122\n",
        "C(nodeNum)[5]     -0.8399      0.363     -2.313      0.021        -1.552    -0.128\n",
        "C(nodeNum)[6]     -0.6838      0.199     -3.443      0.001        -1.073    -0.295\n",
        "C(nodeNum)[7]     36.0695   4.75e+07    7.6e-07      1.000      -9.3e+07   9.3e+07\n",
        "C(nodeNum)[8]    -36.3032   1.71e+07  -2.12e-06      1.000     -3.36e+07  3.36e+07\n",
        "C(nodeNum)[9]     -1.2877      0.316     -4.073      0.000        -1.907    -0.668\n",
        "C(nodeNum)[10]     0.5902      1.232      0.479      0.632        -1.824     3.004\n",
        "C(nodeNum)[11]   -36.4204    4.2e+07  -8.68e-07      1.000     -8.22e+07  8.22e+07\n",
        "C(nodeNum)[12]    36.0697   4.75e+07    7.6e-07      1.000      -9.3e+07   9.3e+07\n",
        "C(nodeNum)[13]   -36.2660   1.82e+07     -2e-06      1.000     -3.56e+07  3.56e+07\n",
        "C(nodeNum)[14]   -36.3369   1.48e+07  -2.45e-06      1.000     -2.91e+07  2.91e+07\n",
        "C(nodeNum)[15]    36.0018   2.54e+07   1.42e-06      1.000     -4.97e+07  4.97e+07\n",
        "C(nodeNum)[16]    36.0644   3.36e+07   1.07e-06      1.000     -6.58e+07  6.58e+07\n",
        "C(nodeNum)[17]    36.0763   3.36e+07   1.08e-06      1.000     -6.58e+07  6.58e+07\n",
        "C(nodeNum)[18]    -1.1901      0.824     -1.444      0.149        -2.806     0.426\n",
        "C(nodeNum)[19]   -36.3513   3.63e+07     -1e-06      1.000     -7.12e+07  7.12e+07\n",
        "C(nodeNum)[20]    -1.8707      0.187     -9.979      0.000        -2.238    -1.503\n",
        "AGE_IM             0.0037      0.005      0.819      0.413        -0.005     0.013\n",
        "==================================================================================\n",
        "\"\"\""
       ]
      }
     ],
     "prompt_number": 58
    },
    {
     "cell_type": "markdown",
     "metadata": {},
     "source": [
      "<p><font size = 4 color = red>1. Problem number one, the model did not converge.</font></p>"
     ]
    },
    {
     "cell_type": "code",
     "collapsed": false,
     "input": [
      "test_exog = np.array(trainingDesign[rel_feats])\n",
      "test_endog = np.array(trainingDesign[\"SER_INJ\"])"
     ],
     "language": "python",
     "metadata": {},
     "outputs": [],
     "prompt_number": 64
    },
    {
     "cell_type": "code",
     "collapsed": false,
     "input": [
      "model_2 = sm.Logit(test_endog, test_exog).fit()"
     ],
     "language": "python",
     "metadata": {},
     "outputs": [
      {
       "output_type": "stream",
       "stream": "stdout",
       "text": [
        "Optimization terminated successfully.\n",
        "         Current function value: 0.477801\n",
        "         Iterations 8\n"
       ]
      }
     ],
     "prompt_number": 69
    },
    {
     "cell_type": "code",
     "collapsed": false,
     "input": [
      "model_2.summary()"
     ],
     "language": "python",
     "metadata": {},
     "outputs": [
      {
       "html": [
        "<table class=\"simpletable\">\n",
        "<caption>Logit Regression Results</caption>\n",
        "<tr>\n",
        "  <th>Dep. Variable:</th>         <td>y</td>        <th>  No. Observations:  </th>  <td>  1142</td>  \n",
        "</tr>\n",
        "<tr>\n",
        "  <th>Model:</th>               <td>Logit</td>      <th>  Df Residuals:      </th>  <td>  1124</td>  \n",
        "</tr>\n",
        "<tr>\n",
        "  <th>Method:</th>               <td>MLE</td>       <th>  Df Model:          </th>  <td>    17</td>  \n",
        "</tr>\n",
        "<tr>\n",
        "  <th>Date:</th>          <td>Tue, 29 Apr 2014</td> <th>  Pseudo R-squ.:     </th>  <td>0.06002</td> \n",
        "</tr>\n",
        "<tr>\n",
        "  <th>Time:</th>              <td>21:53:23</td>     <th>  Log-Likelihood:    </th> <td> -545.65</td> \n",
        "</tr>\n",
        "<tr>\n",
        "  <th>converged:</th>           <td>True</td>       <th>  LL-Null:           </th> <td> -580.49</td> \n",
        "</tr>\n",
        "<tr>\n",
        "  <th> </th>                      <td> </td>        <th>  LLR p-value:       </th> <td>2.445e-08</td>\n",
        "</tr>\n",
        "</table>\n",
        "<table class=\"simpletable\">\n",
        "<tr>\n",
        "   <td></td>      <th>coef</th>     <th>std err</th>      <th>z</th>      <th>P>|z|</th> <th>[95.0% Conf. Int.]</th> \n",
        "</tr>\n",
        "<tr>\n",
        "  <th>x1</th>  <td>   -0.0817</td> <td>    0.154</td> <td>   -0.530</td> <td> 0.596</td> <td>   -0.384     0.221</td>\n",
        "</tr>\n",
        "<tr>\n",
        "  <th>x2</th>  <td>    0.0032</td> <td>    0.004</td> <td>    0.779</td> <td> 0.436</td> <td>   -0.005     0.011</td>\n",
        "</tr>\n",
        "<tr>\n",
        "  <th>x3</th>  <td>   -0.4429</td> <td>    0.184</td> <td>   -2.405</td> <td> 0.016</td> <td>   -0.804    -0.082</td>\n",
        "</tr>\n",
        "<tr>\n",
        "  <th>x4</th>  <td>    0.0005</td> <td>    0.001</td> <td>    0.535</td> <td> 0.593</td> <td>   -0.001     0.002</td>\n",
        "</tr>\n",
        "<tr>\n",
        "  <th>x5</th>  <td>    0.6652</td> <td>    0.632</td> <td>    1.053</td> <td> 0.292</td> <td>   -0.573     1.903</td>\n",
        "</tr>\n",
        "<tr>\n",
        "  <th>x6</th>  <td>    0.5626</td> <td>    0.168</td> <td>    3.350</td> <td> 0.001</td> <td>    0.233     0.892</td>\n",
        "</tr>\n",
        "<tr>\n",
        "  <th>x7</th>  <td>    0.0280</td> <td>    0.215</td> <td>    0.130</td> <td> 0.896</td> <td>   -0.393     0.450</td>\n",
        "</tr>\n",
        "<tr>\n",
        "  <th>x8</th>  <td>   -0.3605</td> <td>    0.181</td> <td>   -1.997</td> <td> 0.046</td> <td>   -0.714    -0.007</td>\n",
        "</tr>\n",
        "<tr>\n",
        "  <th>x9</th>  <td>   -0.0366</td> <td>    0.216</td> <td>   -0.169</td> <td> 0.866</td> <td>   -0.460     0.387</td>\n",
        "</tr>\n",
        "<tr>\n",
        "  <th>x10</th> <td>    0.3665</td> <td>    0.314</td> <td>    1.168</td> <td> 0.243</td> <td>   -0.249     0.982</td>\n",
        "</tr>\n",
        "<tr>\n",
        "  <th>x11</th> <td>   -0.2930</td> <td>    0.414</td> <td>   -0.707</td> <td> 0.480</td> <td>   -1.105     0.519</td>\n",
        "</tr>\n",
        "<tr>\n",
        "  <th>x12</th> <td>    0.6124</td> <td>    0.158</td> <td>    3.881</td> <td> 0.000</td> <td>    0.303     0.922</td>\n",
        "</tr>\n",
        "<tr>\n",
        "  <th>x13</th> <td>-1.736e-05</td> <td> 4.92e-05</td> <td>   -0.353</td> <td> 0.724</td> <td>   -0.000   7.9e-05</td>\n",
        "</tr>\n",
        "<tr>\n",
        "  <th>x14</th> <td>   -1.3605</td> <td>    0.255</td> <td>   -5.325</td> <td> 0.000</td> <td>   -1.861    -0.860</td>\n",
        "</tr>\n",
        "<tr>\n",
        "  <th>x15</th> <td>   -0.2012</td> <td>    0.242</td> <td>   -0.833</td> <td> 0.405</td> <td>   -0.675     0.272</td>\n",
        "</tr>\n",
        "<tr>\n",
        "  <th>x16</th> <td>   -0.0519</td> <td>    0.270</td> <td>   -0.192</td> <td> 0.848</td> <td>   -0.581     0.477</td>\n",
        "</tr>\n",
        "<tr>\n",
        "  <th>x17</th> <td>    0.1598</td> <td>    0.156</td> <td>    1.021</td> <td> 0.307</td> <td>   -0.147     0.466</td>\n",
        "</tr>\n",
        "<tr>\n",
        "  <th>x18</th> <td>   -0.5008</td> <td>    0.192</td> <td>   -2.603</td> <td> 0.009</td> <td>   -0.878    -0.124</td>\n",
        "</tr>\n",
        "</table>"
       ],
       "metadata": {},
       "output_type": "pyout",
       "prompt_number": 70,
       "text": [
        "<class 'statsmodels.iolib.summary.Summary'>\n",
        "\"\"\"\n",
        "                           Logit Regression Results                           \n",
        "==============================================================================\n",
        "Dep. Variable:                      y   No. Observations:                 1142\n",
        "Model:                          Logit   Df Residuals:                     1124\n",
        "Method:                           MLE   Df Model:                           17\n",
        "Date:                Tue, 29 Apr 2014   Pseudo R-squ.:                 0.06002\n",
        "Time:                        21:53:23   Log-Likelihood:                -545.65\n",
        "converged:                       True   LL-Null:                       -580.49\n",
        "                                        LLR p-value:                 2.445e-08\n",
        "==============================================================================\n",
        "                 coef    std err          z      P>|z|      [95.0% Conf. Int.]\n",
        "------------------------------------------------------------------------------\n",
        "x1            -0.0817      0.154     -0.530      0.596        -0.384     0.221\n",
        "x2             0.0032      0.004      0.779      0.436        -0.005     0.011\n",
        "x3            -0.4429      0.184     -2.405      0.016        -0.804    -0.082\n",
        "x4             0.0005      0.001      0.535      0.593        -0.001     0.002\n",
        "x5             0.6652      0.632      1.053      0.292        -0.573     1.903\n",
        "x6             0.5626      0.168      3.350      0.001         0.233     0.892\n",
        "x7             0.0280      0.215      0.130      0.896        -0.393     0.450\n",
        "x8            -0.3605      0.181     -1.997      0.046        -0.714    -0.007\n",
        "x9            -0.0366      0.216     -0.169      0.866        -0.460     0.387\n",
        "x10            0.3665      0.314      1.168      0.243        -0.249     0.982\n",
        "x11           -0.2930      0.414     -0.707      0.480        -1.105     0.519\n",
        "x12            0.6124      0.158      3.881      0.000         0.303     0.922\n",
        "x13        -1.736e-05   4.92e-05     -0.353      0.724        -0.000   7.9e-05\n",
        "x14           -1.3605      0.255     -5.325      0.000        -1.861    -0.860\n",
        "x15           -0.2012      0.242     -0.833      0.405        -0.675     0.272\n",
        "x16           -0.0519      0.270     -0.192      0.848        -0.581     0.477\n",
        "x17            0.1598      0.156      1.021      0.307        -0.147     0.466\n",
        "x18           -0.5008      0.192     -2.603      0.009        -0.878    -0.124\n",
        "==============================================================================\n",
        "\"\"\""
       ]
      }
     ],
     "prompt_number": 70
    },
    {
     "cell_type": "markdown",
     "metadata": {},
     "source": [
      "<p><font size = 4 color = blue>2. Observation # 1: Using un-standardized data, some models can still be estimated. Convergence doesn't necessarily depend on standardization.</font></p>"
     ]
    },
    {
     "cell_type": "heading",
     "level": 3,
     "metadata": {},
     "source": [
      "Will using a different tree, i.e. a different set of node groupings, help?"
     ]
    },
    {
     "cell_type": "code",
     "collapsed": false,
     "input": [
      "reload(treepredict)"
     ],
     "language": "python",
     "metadata": {},
     "outputs": [
      {
       "metadata": {},
       "output_type": "pyout",
       "prompt_number": 104,
       "text": [
        "<module 'treepredict' from 'treepredict.py'>"
       ]
      }
     ],
     "prompt_number": 104
    },
    {
     "cell_type": "code",
     "collapsed": false,
     "input": [
      "orig_training = pd.read_pickle(\"dataframes/trainingSet_DF_naiveTree.pkl\")\n",
      "orig_validation = pd.read_pickle(\"dataframes/validationSet_DF_naiveTree.pkl\")"
     ],
     "language": "python",
     "metadata": {},
     "outputs": [],
     "prompt_number": 81
    },
    {
     "cell_type": "code",
     "collapsed": false,
     "input": [
      "with open(\"trees/pruned_NaiveTree_trainingSet.pkl\") as f:\n",
      "    pruned_tSet_tree = cPickle.load(f)\n",
      "    \n",
      "with open(\"trees/unpruned_NaiveTree_trainingSet.pkl\") as f:\n",
      "    unpruned_tSet_tree = cPickle.load(f)"
     ],
     "language": "python",
     "metadata": {},
     "outputs": [],
     "prompt_number": 115
    },
    {
     "cell_type": "code",
     "collapsed": false,
     "input": [
      "max_d5 = treepredict.buildTreePandas(orig_training, 'SER_INJ', maxDepth = 5)"
     ],
     "language": "python",
     "metadata": {},
     "outputs": [],
     "prompt_number": 101
    },
    {
     "cell_type": "code",
     "collapsed": false,
     "input": [
      "treepredict.printtree(max_d5)"
     ],
     "language": "python",
     "metadata": {},
     "outputs": [
      {
       "output_type": "stream",
       "stream": "stdout",
       "text": [
        "C(PCRASH1_IM)[T.1]:1? \n",
        "T-> C(ALCHL_IM)[T.2]:1? \n",
        " T-> C(VPROFILE, Treatment(9999))[T.1]:1? \n",
        "  T-> NUMOCCS:4? \n",
        "   T-> C(HOUR_IM)[T.9]:1? \n",
        "    T-> {1: 1}\n",
        "    F-> {0: 17}\n",
        "   F-> C(VTCONT_F, Treatment(9999))[T.3]:1? \n",
        "    T-> {0: 66, 1: 17}\n",
        "    F-> {0: 143, 1: 81}\n",
        "  F-> C(IMPACT2_vehDup, Treatment(9999))[T.4]:1? \n",
        "   T-> {1: 2}\n",
        "   F-> DRIVER_AGE:68? \n",
        "    T-> {0: 18}\n",
        "    F-> {0: 96, 1: 20}\n",
        " F-> AGE_IM:51? \n",
        "  T-> {1: 7}\n",
        "  F-> C(LGTCON_IM)[T.2]:1? \n",
        "   T-> {1: 4}\n",
        "   F-> C(SPEEDREL, Treatment(9999))[T.0]:1? \n",
        "    T-> {0: 6, 1: 6}\n",
        "    F-> {0: 4}\n",
        "F-> C(HOUR_IM)[T.13]:1? \n",
        " T-> {0: 37}\n",
        " F-> C(LOCATION, Treatment(9999))[T.23]:1? \n",
        "  T-> C(SPEC_USE_vehDup, Treatment(9999))[T.0]:1? \n",
        "   T-> C(IMPACT2_vehDup, Treatment(9999))[T.2]:1? \n",
        "    T-> {0: 1, 1: 1}\n",
        "    F-> {0: 65}\n",
        "   F-> C(REGION)[T.3]:1? \n",
        "    T-> {1: 2}\n",
        "    F-> {0: 1}\n",
        "  F-> C(BDYTYP_IM)[T.9]:1? \n",
        "   T-> C(HOUR_IM)[T.6]:1? \n",
        "    T-> {1: 3}\n",
        "    F-> {0: 71, 1: 1}\n",
        "   F-> C(REL_ROAD, Treatment(9999))[T.1]:1? \n",
        "    T-> {0: 368, 1: 90}\n",
        "    F-> {0: 14}\n"
       ]
      }
     ],
     "prompt_number": 102
    },
    {
     "cell_type": "code",
     "collapsed": false,
     "input": [
      "treepredict.testAccuracy(orig_validation, max_d5, [0,1], 'SER_INJ')"
     ],
     "language": "python",
     "metadata": {},
     "outputs": [
      {
       "metadata": {},
       "output_type": "pyout",
       "prompt_number": 103,
       "text": [
        "0.7789473684210526"
       ]
      }
     ],
     "prompt_number": 103
    },
    {
     "cell_type": "markdown",
     "metadata": {},
     "source": [
      "<font size = 4 color = \"red\">The max depth tree performed worse than guessing that all new observations were of class \"0\".</font>"
     ]
    },
    {
     "cell_type": "code",
     "collapsed": false,
     "input": [
      "pruned_maxD5 = treepredict.prune(max_d5, orig_validation, \"SER_INJ\", \"reduced_error\")"
     ],
     "language": "python",
     "metadata": {},
     "outputs": [],
     "prompt_number": 118
    },
    {
     "cell_type": "code",
     "collapsed": false,
     "input": [
      "treepredict.printtree(pruned_maxD5)"
     ],
     "language": "python",
     "metadata": {},
     "outputs": [
      {
       "output_type": "stream",
       "stream": "stdout",
       "text": [
        "{0: 907, 1: 235}\n"
       ]
      }
     ],
     "prompt_number": 120
    },
    {
     "cell_type": "code",
     "collapsed": false,
     "input": [
      "#Note that the pruned tree of max depth 5 simply guesses '0' for every observation. It still performed better than the max_d5 tree\n",
      "treepredict.testAccuracy(orig_validation, pruned_maxD5, [0,1], 'SER_INJ')"
     ],
     "language": "python",
     "metadata": {},
     "outputs": [
      {
       "metadata": {},
       "output_type": "pyout",
       "prompt_number": 135,
       "text": [
        "0.7824561403508772"
       ]
      }
     ],
     "prompt_number": 135
    },
    {
     "cell_type": "markdown",
     "metadata": {},
     "source": [
      "<font size = 4 color = \"blue\"><p>3. Observation #2:<br>\n",
      "When pruning some trees using \"reduced-error pruning\" it is possible to end up with a tree which is only the root node.</p>\n",
      "</font>"
     ]
    },
    {
     "cell_type": "code",
     "collapsed": false,
     "input": [
      "min_10peeps = treepredict.buildTreePandas(orig_training, 'SER_INJ', min_ppl = 10)"
     ],
     "language": "python",
     "metadata": {},
     "outputs": [],
     "prompt_number": 123
    },
    {
     "cell_type": "code",
     "collapsed": false,
     "input": [
      "min_10peeps_nodes = treepredict.fetchNodes(min_10peeps)"
     ],
     "language": "python",
     "metadata": {},
     "outputs": [],
     "prompt_number": 124
    },
    {
     "cell_type": "code",
     "collapsed": false,
     "input": [
      "len(min_10peeps_nodes)"
     ],
     "language": "python",
     "metadata": {},
     "outputs": [
      {
       "metadata": {},
       "output_type": "pyout",
       "prompt_number": 125,
       "text": [
        "79"
       ]
      }
     ],
     "prompt_number": 125
    },
    {
     "cell_type": "code",
     "collapsed": false,
     "input": [
      "pruned_min10 = treepredict.prune(min_10peeps, orig_validation, 'SER_INJ', \"reduced_error\")"
     ],
     "language": "python",
     "metadata": {},
     "outputs": [],
     "prompt_number": 126
    },
    {
     "cell_type": "code",
     "collapsed": false,
     "input": [
      "pruned_min10_nodes = treepredict.fetchNodes(pruned_min10)"
     ],
     "language": "python",
     "metadata": {},
     "outputs": [],
     "prompt_number": 128
    },
    {
     "cell_type": "code",
     "collapsed": false,
     "input": [
      "pruned_min10_nodes"
     ],
     "language": "python",
     "metadata": {},
     "outputs": [
      {
       "metadata": {},
       "output_type": "pyout",
       "prompt_number": 129,
       "text": [
        "[[('C(PCRASH1_IM)[T.1]', 1, 'true'),\n",
        "  ('C(ALCHL_IM)[T.2]', 1, 'true'),\n",
        "  ('C(VPROFILE, Treatment(9999))[T.1]', 1, 'true'),\n",
        "  ('NUMOCCS', 4, 'true'),\n",
        "  {0: 17, 1: 1}],\n",
        " [('C(PCRASH1_IM)[T.1]', 1, 'true'),\n",
        "  ('C(ALCHL_IM)[T.2]', 1, 'true'),\n",
        "  ('C(VPROFILE, Treatment(9999))[T.1]', 1, 'true'),\n",
        "  ('NUMOCCS', 4, 'false'),\n",
        "  ('C(VTCONT_F, Treatment(9999))[T.3]', 1, 'true'),\n",
        "  {0: 66, 1: 17}],\n",
        " [('C(PCRASH1_IM)[T.1]', 1, 'true'),\n",
        "  ('C(ALCHL_IM)[T.2]', 1, 'true'),\n",
        "  ('C(VPROFILE, Treatment(9999))[T.1]', 1, 'true'),\n",
        "  ('NUMOCCS', 4, 'false'),\n",
        "  ('C(VTCONT_F, Treatment(9999))[T.3]', 1, 'false'),\n",
        "  ('AGE_IM', 22, 'true'),\n",
        "  ('C(VTRAFWAY, Treatment(9999))[T.1]', 1, 'true'),\n",
        "  ('C(DRIVER_SEX, Treatment(9999))[T.1]', 1, 'true'),\n",
        "  {0: 10, 1: 23}],\n",
        " [('C(PCRASH1_IM)[T.1]', 1, 'true'),\n",
        "  ('C(ALCHL_IM)[T.2]', 1, 'true'),\n",
        "  ('C(VPROFILE, Treatment(9999))[T.1]', 1, 'true'),\n",
        "  ('NUMOCCS', 4, 'false'),\n",
        "  ('C(VTCONT_F, Treatment(9999))[T.3]', 1, 'false'),\n",
        "  ('AGE_IM', 22, 'true'),\n",
        "  ('C(VTRAFWAY, Treatment(9999))[T.1]', 1, 'true'),\n",
        "  ('C(DRIVER_SEX, Treatment(9999))[T.1]', 1, 'false'),\n",
        "  {0: 13, 1: 7}],\n",
        " [('C(PCRASH1_IM)[T.1]', 1, 'true'),\n",
        "  ('C(ALCHL_IM)[T.2]', 1, 'true'),\n",
        "  ('C(VPROFILE, Treatment(9999))[T.1]', 1, 'true'),\n",
        "  ('NUMOCCS', 4, 'false'),\n",
        "  ('C(VTCONT_F, Treatment(9999))[T.3]', 1, 'false'),\n",
        "  ('AGE_IM', 22, 'true'),\n",
        "  ('C(VTRAFWAY, Treatment(9999))[T.1]', 1, 'false'),\n",
        "  ('AGE_IM', 37, 'true'),\n",
        "  ('DRIVER_AGE', 28, 'true'),\n",
        "  ('AGE_IM', 52, 'true'),\n",
        "  ('C(REGION)[T.3]', 1, 'true'),\n",
        "  {0: 2, 1: 8}],\n",
        " [('C(PCRASH1_IM)[T.1]', 1, 'true'),\n",
        "  ('C(ALCHL_IM)[T.2]', 1, 'true'),\n",
        "  ('C(VPROFILE, Treatment(9999))[T.1]', 1, 'true'),\n",
        "  ('NUMOCCS', 4, 'false'),\n",
        "  ('C(VTCONT_F, Treatment(9999))[T.3]', 1, 'false'),\n",
        "  ('AGE_IM', 22, 'true'),\n",
        "  ('C(VTRAFWAY, Treatment(9999))[T.1]', 1, 'false'),\n",
        "  ('AGE_IM', 37, 'true'),\n",
        "  ('DRIVER_AGE', 28, 'true'),\n",
        "  ('AGE_IM', 52, 'true'),\n",
        "  ('C(REGION)[T.3]', 1, 'false'),\n",
        "  {0: 8, 1: 2}],\n",
        " [('C(PCRASH1_IM)[T.1]', 1, 'true'),\n",
        "  ('C(ALCHL_IM)[T.2]', 1, 'true'),\n",
        "  ('C(VPROFILE, Treatment(9999))[T.1]', 1, 'true'),\n",
        "  ('NUMOCCS', 4, 'false'),\n",
        "  ('C(VTCONT_F, Treatment(9999))[T.3]', 1, 'false'),\n",
        "  ('AGE_IM', 22, 'true'),\n",
        "  ('C(VTRAFWAY, Treatment(9999))[T.1]', 1, 'false'),\n",
        "  ('AGE_IM', 37, 'true'),\n",
        "  ('DRIVER_AGE', 28, 'true'),\n",
        "  ('AGE_IM', 52, 'false'),\n",
        "  {0: 16, 1: 2}],\n",
        " [('C(PCRASH1_IM)[T.1]', 1, 'true'),\n",
        "  ('C(ALCHL_IM)[T.2]', 1, 'true'),\n",
        "  ('C(VPROFILE, Treatment(9999))[T.1]', 1, 'true'),\n",
        "  ('NUMOCCS', 4, 'false'),\n",
        "  ('C(VTCONT_F, Treatment(9999))[T.3]', 1, 'false'),\n",
        "  ('AGE_IM', 22, 'true'),\n",
        "  ('C(VTRAFWAY, Treatment(9999))[T.1]', 1, 'false'),\n",
        "  ('AGE_IM', 37, 'true'),\n",
        "  ('DRIVER_AGE', 28, 'false'),\n",
        "  {0: 13}],\n",
        " [('C(PCRASH1_IM)[T.1]', 1, 'true'),\n",
        "  ('C(ALCHL_IM)[T.2]', 1, 'true'),\n",
        "  ('C(VPROFILE, Treatment(9999))[T.1]', 1, 'true'),\n",
        "  ('NUMOCCS', 4, 'false'),\n",
        "  ('C(VTCONT_F, Treatment(9999))[T.3]', 1, 'false'),\n",
        "  ('AGE_IM', 22, 'true'),\n",
        "  ('C(VTRAFWAY, Treatment(9999))[T.1]', 1, 'false'),\n",
        "  ('AGE_IM', 37, 'false'),\n",
        "  {0: 16, 1: 15}],\n",
        " [('C(PCRASH1_IM)[T.1]', 1, 'true'),\n",
        "  ('C(ALCHL_IM)[T.2]', 1, 'true'),\n",
        "  ('C(VPROFILE, Treatment(9999))[T.1]', 1, 'true'),\n",
        "  ('NUMOCCS', 4, 'false'),\n",
        "  ('C(VTCONT_F, Treatment(9999))[T.3]', 1, 'false'),\n",
        "  ('AGE_IM', 22, 'false'),\n",
        "  {0: 65, 1: 24}],\n",
        " [('C(PCRASH1_IM)[T.1]', 1, 'true'),\n",
        "  ('C(ALCHL_IM)[T.2]', 1, 'true'),\n",
        "  ('C(VPROFILE, Treatment(9999))[T.1]', 1, 'false'),\n",
        "  {0: 114, 1: 22}],\n",
        " [('C(PCRASH1_IM)[T.1]', 1, 'true'),\n",
        "  ('C(ALCHL_IM)[T.2]', 1, 'false'),\n",
        "  {0: 10, 1: 17}],\n",
        " [('C(PCRASH1_IM)[T.1]', 1, 'false'),\n",
        "  ('C(HOUR_IM)[T.13]', 1, 'true'),\n",
        "  {0: 37}],\n",
        " [('C(PCRASH1_IM)[T.1]', 1, 'false'),\n",
        "  ('C(HOUR_IM)[T.13]', 1, 'false'),\n",
        "  ('C(LOCATION, Treatment(9999))[T.23]', 1, 'true'),\n",
        "  {0: 67, 1: 3}],\n",
        " [('C(PCRASH1_IM)[T.1]', 1, 'false'),\n",
        "  ('C(HOUR_IM)[T.13]', 1, 'false'),\n",
        "  ('C(LOCATION, Treatment(9999))[T.23]', 1, 'false'),\n",
        "  ('C(BDYTYP_IM)[T.9]', 1, 'true'),\n",
        "  {0: 71, 1: 4}],\n",
        " [('C(PCRASH1_IM)[T.1]', 1, 'false'),\n",
        "  ('C(HOUR_IM)[T.13]', 1, 'false'),\n",
        "  ('C(LOCATION, Treatment(9999))[T.23]', 1, 'false'),\n",
        "  ('C(BDYTYP_IM)[T.9]', 1, 'false'),\n",
        "  ('C(REL_ROAD, Treatment(9999))[T.1]', 1, 'true'),\n",
        "  ('C(BDYTYP_IM)[T.2]', 1, 'true'),\n",
        "  {0: 26, 1: 1}],\n",
        " [('C(PCRASH1_IM)[T.1]', 1, 'false'),\n",
        "  ('C(HOUR_IM)[T.13]', 1, 'false'),\n",
        "  ('C(LOCATION, Treatment(9999))[T.23]', 1, 'false'),\n",
        "  ('C(BDYTYP_IM)[T.9]', 1, 'false'),\n",
        "  ('C(REL_ROAD, Treatment(9999))[T.1]', 1, 'true'),\n",
        "  ('C(BDYTYP_IM)[T.2]', 1, 'false'),\n",
        "  ('C(MONTH)[T.8]', 1, 'true'),\n",
        "  {0: 48, 1: 5}],\n",
        " [('C(PCRASH1_IM)[T.1]', 1, 'false'),\n",
        "  ('C(HOUR_IM)[T.13]', 1, 'false'),\n",
        "  ('C(LOCATION, Treatment(9999))[T.23]', 1, 'false'),\n",
        "  ('C(BDYTYP_IM)[T.9]', 1, 'false'),\n",
        "  ('C(REL_ROAD, Treatment(9999))[T.1]', 1, 'true'),\n",
        "  ('C(BDYTYP_IM)[T.2]', 1, 'false'),\n",
        "  ('C(MONTH)[T.8]', 1, 'false'),\n",
        "  ('C(VTRAFWAY, Treatment(9999))[T.4]', 1, 'true'),\n",
        "  {0: 11}],\n",
        " [('C(PCRASH1_IM)[T.1]', 1, 'false'),\n",
        "  ('C(HOUR_IM)[T.13]', 1, 'false'),\n",
        "  ('C(LOCATION, Treatment(9999))[T.23]', 1, 'false'),\n",
        "  ('C(BDYTYP_IM)[T.9]', 1, 'false'),\n",
        "  ('C(REL_ROAD, Treatment(9999))[T.1]', 1, 'true'),\n",
        "  ('C(BDYTYP_IM)[T.2]', 1, 'false'),\n",
        "  ('C(MONTH)[T.8]', 1, 'false'),\n",
        "  ('C(VTRAFWAY, Treatment(9999))[T.4]', 1, 'false'),\n",
        "  ('C(BDYTYP_IM)[T.15]', 1, 'true'),\n",
        "  {0: 11}],\n",
        " [('C(PCRASH1_IM)[T.1]', 1, 'false'),\n",
        "  ('C(HOUR_IM)[T.13]', 1, 'false'),\n",
        "  ('C(LOCATION, Treatment(9999))[T.23]', 1, 'false'),\n",
        "  ('C(BDYTYP_IM)[T.9]', 1, 'false'),\n",
        "  ('C(REL_ROAD, Treatment(9999))[T.1]', 1, 'true'),\n",
        "  ('C(BDYTYP_IM)[T.2]', 1, 'false'),\n",
        "  ('C(MONTH)[T.8]', 1, 'false'),\n",
        "  ('C(VTRAFWAY, Treatment(9999))[T.4]', 1, 'false'),\n",
        "  ('C(BDYTYP_IM)[T.15]', 1, 'false'),\n",
        "  ('C(LAND_USE, Treatment(9999))[T.2]', 1, 'true'),\n",
        "  {0: 31, 1: 3}],\n",
        " [('C(PCRASH1_IM)[T.1]', 1, 'false'),\n",
        "  ('C(HOUR_IM)[T.13]', 1, 'false'),\n",
        "  ('C(LOCATION, Treatment(9999))[T.23]', 1, 'false'),\n",
        "  ('C(BDYTYP_IM)[T.9]', 1, 'false'),\n",
        "  ('C(REL_ROAD, Treatment(9999))[T.1]', 1, 'true'),\n",
        "  ('C(BDYTYP_IM)[T.2]', 1, 'false'),\n",
        "  ('C(MONTH)[T.8]', 1, 'false'),\n",
        "  ('C(VTRAFWAY, Treatment(9999))[T.4]', 1, 'false'),\n",
        "  ('C(BDYTYP_IM)[T.15]', 1, 'false'),\n",
        "  ('C(LAND_USE, Treatment(9999))[T.2]', 1, 'false'),\n",
        "  ('C(HOUR_IM)[T.17]', 1, 'true'),\n",
        "  {0: 29, 1: 17}],\n",
        " [('C(PCRASH1_IM)[T.1]', 1, 'false'),\n",
        "  ('C(HOUR_IM)[T.13]', 1, 'false'),\n",
        "  ('C(LOCATION, Treatment(9999))[T.23]', 1, 'false'),\n",
        "  ('C(BDYTYP_IM)[T.9]', 1, 'false'),\n",
        "  ('C(REL_ROAD, Treatment(9999))[T.1]', 1, 'true'),\n",
        "  ('C(BDYTYP_IM)[T.2]', 1, 'false'),\n",
        "  ('C(MONTH)[T.8]', 1, 'false'),\n",
        "  ('C(VTRAFWAY, Treatment(9999))[T.4]', 1, 'false'),\n",
        "  ('C(BDYTYP_IM)[T.15]', 1, 'false'),\n",
        "  ('C(LAND_USE, Treatment(9999))[T.2]', 1, 'false'),\n",
        "  ('C(HOUR_IM)[T.17]', 1, 'false'),\n",
        "  ('DRIVER_AGE', 81, 'true'),\n",
        "  {0: 6, 1: 5}],\n",
        " [('C(PCRASH1_IM)[T.1]', 1, 'false'),\n",
        "  ('C(HOUR_IM)[T.13]', 1, 'false'),\n",
        "  ('C(LOCATION, Treatment(9999))[T.23]', 1, 'false'),\n",
        "  ('C(BDYTYP_IM)[T.9]', 1, 'false'),\n",
        "  ('C(REL_ROAD, Treatment(9999))[T.1]', 1, 'true'),\n",
        "  ('C(BDYTYP_IM)[T.2]', 1, 'false'),\n",
        "  ('C(MONTH)[T.8]', 1, 'false'),\n",
        "  ('C(VTRAFWAY, Treatment(9999))[T.4]', 1, 'false'),\n",
        "  ('C(BDYTYP_IM)[T.15]', 1, 'false'),\n",
        "  ('C(LAND_USE, Treatment(9999))[T.2]', 1, 'false'),\n",
        "  ('C(HOUR_IM)[T.17]', 1, 'false'),\n",
        "  ('DRIVER_AGE', 81, 'false'),\n",
        "  ('C(TYP_INT, Treatment(9999))[T.2]', 1, 'true'),\n",
        "  {0: 69, 1: 28}],\n",
        " [('C(PCRASH1_IM)[T.1]', 1, 'false'),\n",
        "  ('C(HOUR_IM)[T.13]', 1, 'false'),\n",
        "  ('C(LOCATION, Treatment(9999))[T.23]', 1, 'false'),\n",
        "  ('C(BDYTYP_IM)[T.9]', 1, 'false'),\n",
        "  ('C(REL_ROAD, Treatment(9999))[T.1]', 1, 'true'),\n",
        "  ('C(BDYTYP_IM)[T.2]', 1, 'false'),\n",
        "  ('C(MONTH)[T.8]', 1, 'false'),\n",
        "  ('C(VTRAFWAY, Treatment(9999))[T.4]', 1, 'false'),\n",
        "  ('C(BDYTYP_IM)[T.15]', 1, 'false'),\n",
        "  ('C(LAND_USE, Treatment(9999))[T.2]', 1, 'false'),\n",
        "  ('C(HOUR_IM)[T.17]', 1, 'false'),\n",
        "  ('DRIVER_AGE', 81, 'false'),\n",
        "  ('C(TYP_INT, Treatment(9999))[T.2]', 1, 'false'),\n",
        "  ('C(PCRASH1_IM)[T.4]', 1, 'true'),\n",
        "  {0: 15}],\n",
        " [('C(PCRASH1_IM)[T.1]', 1, 'false'),\n",
        "  ('C(HOUR_IM)[T.13]', 1, 'false'),\n",
        "  ('C(LOCATION, Treatment(9999))[T.23]', 1, 'false'),\n",
        "  ('C(BDYTYP_IM)[T.9]', 1, 'false'),\n",
        "  ('C(REL_ROAD, Treatment(9999))[T.1]', 1, 'true'),\n",
        "  ('C(BDYTYP_IM)[T.2]', 1, 'false'),\n",
        "  ('C(MONTH)[T.8]', 1, 'false'),\n",
        "  ('C(VTRAFWAY, Treatment(9999))[T.4]', 1, 'false'),\n",
        "  ('C(BDYTYP_IM)[T.15]', 1, 'false'),\n",
        "  ('C(LAND_USE, Treatment(9999))[T.2]', 1, 'false'),\n",
        "  ('C(HOUR_IM)[T.17]', 1, 'false'),\n",
        "  ('DRIVER_AGE', 81, 'false'),\n",
        "  ('C(TYP_INT, Treatment(9999))[T.2]', 1, 'false'),\n",
        "  ('C(PCRASH1_IM)[T.4]', 1, 'false'),\n",
        "  ('C(HITRUN_IM)[T.1]', 1, 'true'),\n",
        "  {0: 12}],\n",
        " [('C(PCRASH1_IM)[T.1]', 1, 'false'),\n",
        "  ('C(HOUR_IM)[T.13]', 1, 'false'),\n",
        "  ('C(LOCATION, Treatment(9999))[T.23]', 1, 'false'),\n",
        "  ('C(BDYTYP_IM)[T.9]', 1, 'false'),\n",
        "  ('C(REL_ROAD, Treatment(9999))[T.1]', 1, 'true'),\n",
        "  ('C(BDYTYP_IM)[T.2]', 1, 'false'),\n",
        "  ('C(MONTH)[T.8]', 1, 'false'),\n",
        "  ('C(VTRAFWAY, Treatment(9999))[T.4]', 1, 'false'),\n",
        "  ('C(BDYTYP_IM)[T.15]', 1, 'false'),\n",
        "  ('C(LAND_USE, Treatment(9999))[T.2]', 1, 'false'),\n",
        "  ('C(HOUR_IM)[T.17]', 1, 'false'),\n",
        "  ('DRIVER_AGE', 81, 'false'),\n",
        "  ('C(TYP_INT, Treatment(9999))[T.2]', 1, 'false'),\n",
        "  ('C(PCRASH1_IM)[T.4]', 1, 'false'),\n",
        "  ('C(HITRUN_IM)[T.1]', 1, 'false'),\n",
        "  ('C(DRIVER_SEX, Treatment(9999))[T.1]', 1, 'true'),\n",
        "  {0: 72, 1: 15}],\n",
        " [('C(PCRASH1_IM)[T.1]', 1, 'false'),\n",
        "  ('C(HOUR_IM)[T.13]', 1, 'false'),\n",
        "  ('C(LOCATION, Treatment(9999))[T.23]', 1, 'false'),\n",
        "  ('C(BDYTYP_IM)[T.9]', 1, 'false'),\n",
        "  ('C(REL_ROAD, Treatment(9999))[T.1]', 1, 'true'),\n",
        "  ('C(BDYTYP_IM)[T.2]', 1, 'false'),\n",
        "  ('C(MONTH)[T.8]', 1, 'false'),\n",
        "  ('C(VTRAFWAY, Treatment(9999))[T.4]', 1, 'false'),\n",
        "  ('C(BDYTYP_IM)[T.15]', 1, 'false'),\n",
        "  ('C(LAND_USE, Treatment(9999))[T.2]', 1, 'false'),\n",
        "  ('C(HOUR_IM)[T.17]', 1, 'false'),\n",
        "  ('DRIVER_AGE', 81, 'false'),\n",
        "  ('C(TYP_INT, Treatment(9999))[T.2]', 1, 'false'),\n",
        "  ('C(PCRASH1_IM)[T.4]', 1, 'false'),\n",
        "  ('C(HITRUN_IM)[T.1]', 1, 'false'),\n",
        "  ('C(DRIVER_SEX, Treatment(9999))[T.1]', 1, 'false'),\n",
        "  ('AGE_IM', 53, 'true'),\n",
        "  {0: 4, 1: 6}],\n",
        " [('C(PCRASH1_IM)[T.1]', 1, 'false'),\n",
        "  ('C(HOUR_IM)[T.13]', 1, 'false'),\n",
        "  ('C(LOCATION, Treatment(9999))[T.23]', 1, 'false'),\n",
        "  ('C(BDYTYP_IM)[T.9]', 1, 'false'),\n",
        "  ('C(REL_ROAD, Treatment(9999))[T.1]', 1, 'true'),\n",
        "  ('C(BDYTYP_IM)[T.2]', 1, 'false'),\n",
        "  ('C(MONTH)[T.8]', 1, 'false'),\n",
        "  ('C(VTRAFWAY, Treatment(9999))[T.4]', 1, 'false'),\n",
        "  ('C(BDYTYP_IM)[T.15]', 1, 'false'),\n",
        "  ('C(LAND_USE, Treatment(9999))[T.2]', 1, 'false'),\n",
        "  ('C(HOUR_IM)[T.17]', 1, 'false'),\n",
        "  ('DRIVER_AGE', 81, 'false'),\n",
        "  ('C(TYP_INT, Treatment(9999))[T.2]', 1, 'false'),\n",
        "  ('C(PCRASH1_IM)[T.4]', 1, 'false'),\n",
        "  ('C(HITRUN_IM)[T.1]', 1, 'false'),\n",
        "  ('C(DRIVER_SEX, Treatment(9999))[T.1]', 1, 'false'),\n",
        "  ('AGE_IM', 53, 'false'),\n",
        "  {0: 34, 1: 10}],\n",
        " [('C(PCRASH1_IM)[T.1]', 1, 'false'),\n",
        "  ('C(HOUR_IM)[T.13]', 1, 'false'),\n",
        "  ('C(LOCATION, Treatment(9999))[T.23]', 1, 'false'),\n",
        "  ('C(BDYTYP_IM)[T.9]', 1, 'false'),\n",
        "  ('C(REL_ROAD, Treatment(9999))[T.1]', 1, 'false'),\n",
        "  {0: 14}]]"
       ]
      }
     ],
     "prompt_number": 129
    },
    {
     "cell_type": "code",
     "collapsed": false,
     "input": [
      "len(pruned_min10_nodes)"
     ],
     "language": "python",
     "metadata": {},
     "outputs": [
      {
       "metadata": {},
       "output_type": "pyout",
       "prompt_number": 131,
       "text": [
        "29"
       ]
      }
     ],
     "prompt_number": 131
    },
    {
     "cell_type": "code",
     "collapsed": false,
     "input": [
      "treepredict.searchFeats(pruned_min10)"
     ],
     "language": "python",
     "metadata": {},
     "outputs": [
      {
       "metadata": {},
       "output_type": "pyout",
       "prompt_number": 133,
       "text": [
        "{'AGE_IM',\n",
        " 'C(ALCHL_IM)[T.2]',\n",
        " 'C(BDYTYP_IM)[T.15]',\n",
        " 'C(BDYTYP_IM)[T.2]',\n",
        " 'C(BDYTYP_IM)[T.9]',\n",
        " 'C(DRIVER_SEX, Treatment(9999))[T.1]',\n",
        " 'C(HITRUN_IM)[T.1]',\n",
        " 'C(HOUR_IM)[T.13]',\n",
        " 'C(HOUR_IM)[T.17]',\n",
        " 'C(LAND_USE, Treatment(9999))[T.2]',\n",
        " 'C(LOCATION, Treatment(9999))[T.23]',\n",
        " 'C(MONTH)[T.8]',\n",
        " 'C(PCRASH1_IM)[T.1]',\n",
        " 'C(PCRASH1_IM)[T.4]',\n",
        " 'C(REGION)[T.3]',\n",
        " 'C(REL_ROAD, Treatment(9999))[T.1]',\n",
        " 'C(TYP_INT, Treatment(9999))[T.2]',\n",
        " 'C(VPROFILE, Treatment(9999))[T.1]',\n",
        " 'C(VTCONT_F, Treatment(9999))[T.3]',\n",
        " 'C(VTRAFWAY, Treatment(9999))[T.1]',\n",
        " 'C(VTRAFWAY, Treatment(9999))[T.4]',\n",
        " 'DRIVER_AGE',\n",
        " 'NUMOCCS'}"
       ]
      }
     ],
     "prompt_number": 133
    },
    {
     "cell_type": "code",
     "collapsed": false,
     "input": [
      "len(treepredict.searchFeats(pruned_min10))"
     ],
     "language": "python",
     "metadata": {},
     "outputs": [
      {
       "metadata": {},
       "output_type": "pyout",
       "prompt_number": 134,
       "text": [
        "23"
       ]
      }
     ],
     "prompt_number": 134
    },
    {
     "cell_type": "code",
     "collapsed": false,
     "input": [
      "treepredict.testAccuracy(orig_validation, pruned_min10, [0,1], 'SER_INJ')"
     ],
     "language": "python",
     "metadata": {},
     "outputs": [
      {
       "metadata": {},
       "output_type": "pyout",
       "prompt_number": 130,
       "text": [
        "0.7894736842105263"
       ]
      }
     ],
     "prompt_number": 130
    },
    {
     "cell_type": "code",
     "collapsed": false,
     "input": [
      "treepredict.testAccuracy(orig_validation, pruned_tSet_tree, [0,1], 'SER_INJ')"
     ],
     "language": "python",
     "metadata": {},
     "outputs": [
      {
       "metadata": {},
       "output_type": "pyout",
       "prompt_number": 132,
       "text": [
        "0.7894736842105263"
       ]
      }
     ],
     "prompt_number": 132
    },
    {
     "cell_type": "code",
     "collapsed": false,
     "input": [
      "with open(\"trees/pruned_min10_obs_trainingSet.pkl\", \"wb\") as f:\n",
      "    cPickle.dump(pruned_min10, f)"
     ],
     "language": "python",
     "metadata": {},
     "outputs": [],
     "prompt_number": 138
    },
    {
     "cell_type": "markdown",
     "metadata": {},
     "source": [
      "<font size = 4>The pruned, minimum 10 observations per leaaf tree performed as well at predicting the validation set as the pruned, unconstrained tree. It is very sad, however, that both performed only marginally better at predicting the validation set's classes when compared to always guessing 0.</font>"
     ]
    },
    {
     "cell_type": "markdown",
     "metadata": {},
     "source": [
      "<p><font size = 4 color = \"blue\">4. Random Observation: Logit models can't estimate coefficients for parameters that are perfectly correlated with the choice. This means nodes which have no variation within them, regarding the serious_injury variable, cannot be used in the specification"
     ]
    },
    {
     "cell_type": "code",
     "collapsed": false,
     "input": [
      "def find_perfect_preds(nodes):\n",
      "    perfect_preds = []\n",
      "    for place, node in enumerate(nodes):\n",
      "        if len(node[-1].keys()) == 1:\n",
      "            perfect_preds.append(place)\n",
      "    return perfect_preds"
     ],
     "language": "python",
     "metadata": {},
     "outputs": [],
     "prompt_number": 142
    },
    {
     "cell_type": "code",
     "collapsed": false,
     "input": [
      "for_hybrid = trainingDesign[~trainingDesign[\"nodeNum\"].isin(find_perfect_preds(treepredict.fetchNodes(pruned_tSet_tree)))]"
     ],
     "language": "python",
     "metadata": {},
     "outputs": [],
     "prompt_number": 144
    },
    {
     "cell_type": "code",
     "collapsed": false,
     "input": [
      "len(for_hybrid)"
     ],
     "language": "python",
     "metadata": {},
     "outputs": [
      {
       "metadata": {},
       "output_type": "pyout",
       "prompt_number": 145,
       "text": [
        "1022"
       ]
      }
     ],
     "prompt_number": 145
    },
    {
     "cell_type": "code",
     "collapsed": false,
     "input": [
      "model_3 = smf.logit(\"SER_INJ ~ -1 + C(nodeNum) + NUMOCCS\", data = for_hybrid).fit()"
     ],
     "language": "python",
     "metadata": {},
     "outputs": [
      {
       "output_type": "stream",
       "stream": "stdout",
       "text": [
        "Optimization terminated successfully.\n",
        "         Current function value: 0.485956\n",
        "         Iterations 7\n"
       ]
      }
     ],
     "prompt_number": 157
    },
    {
     "cell_type": "code",
     "collapsed": false,
     "input": [
      "model_3.summary()"
     ],
     "language": "python",
     "metadata": {},
     "outputs": [
      {
       "html": [
        "<table class=\"simpletable\">\n",
        "<caption>Logit Regression Results</caption>\n",
        "<tr>\n",
        "  <th>Dep. Variable:</th>      <td>SER_INJ</td>     <th>  No. Observations:  </th>  <td>  1022</td>  \n",
        "</tr>\n",
        "<tr>\n",
        "  <th>Model:</th>               <td>Logit</td>      <th>  Df Residuals:      </th>  <td>  1013</td>  \n",
        "</tr>\n",
        "<tr>\n",
        "  <th>Method:</th>               <td>MLE</td>       <th>  Df Model:          </th>  <td>     8</td>  \n",
        "</tr>\n",
        "<tr>\n",
        "  <th>Date:</th>          <td>Wed, 30 Apr 2014</td> <th>  Pseudo R-squ.:     </th>  <td>0.05539</td> \n",
        "</tr>\n",
        "<tr>\n",
        "  <th>Time:</th>              <td>03:51:29</td>     <th>  Log-Likelihood:    </th> <td> -496.65</td> \n",
        "</tr>\n",
        "<tr>\n",
        "  <th>converged:</th>           <td>True</td>       <th>  LL-Null:           </th> <td> -525.77</td> \n",
        "</tr>\n",
        "<tr>\n",
        "  <th> </th>                      <td> </td>        <th>  LLR p-value:       </th> <td>1.031e-09</td>\n",
        "</tr>\n",
        "</table>\n",
        "<table class=\"simpletable\">\n",
        "<tr>\n",
        "         <td></td>           <th>coef</th>     <th>std err</th>      <th>z</th>      <th>P>|z|</th> <th>[95.0% Conf. Int.]</th> \n",
        "</tr>\n",
        "<tr>\n",
        "  <th>C(nodeNum)[0]</th>  <td>   -3.6403</td> <td>    1.129</td> <td>   -3.225</td> <td> 0.001</td> <td>   -5.853    -1.428</td>\n",
        "</tr>\n",
        "<tr>\n",
        "  <th>C(nodeNum)[4]</th>  <td>   -0.2878</td> <td>    0.764</td> <td>   -0.377</td> <td> 0.706</td> <td>   -1.785     1.209</td>\n",
        "</tr>\n",
        "<tr>\n",
        "  <th>C(nodeNum)[5]</th>  <td>   -0.7310</td> <td>    0.338</td> <td>   -2.165</td> <td> 0.030</td> <td>   -1.393    -0.069</td>\n",
        "</tr>\n",
        "<tr>\n",
        "  <th>C(nodeNum)[6]</th>  <td>   -0.5685</td> <td>    0.139</td> <td>   -4.088</td> <td> 0.000</td> <td>   -0.841    -0.296</td>\n",
        "</tr>\n",
        "<tr>\n",
        "  <th>C(nodeNum)[9]</th>  <td>   -1.2402</td> <td>    0.290</td> <td>   -4.277</td> <td> 0.000</td> <td>   -1.809    -0.672</td>\n",
        "</tr>\n",
        "<tr>\n",
        "  <th>C(nodeNum)[10]</th> <td>    0.6930</td> <td>    1.225</td> <td>    0.566</td> <td> 0.571</td> <td>   -1.707     3.093</td>\n",
        "</tr>\n",
        "<tr>\n",
        "  <th>C(nodeNum)[18]</th> <td>   -1.0988</td> <td>    0.816</td> <td>   -1.346</td> <td> 0.178</td> <td>   -2.699     0.502</td>\n",
        "</tr>\n",
        "<tr>\n",
        "  <th>C(nodeNum)[20]</th> <td>   -1.7745</td> <td>    0.112</td> <td>  -15.905</td> <td> 0.000</td> <td>   -1.993    -1.556</td>\n",
        "</tr>\n",
        "<tr>\n",
        "  <th>NUMOCCS</th>        <td>    0.0001</td> <td> 5.55e-05</td> <td>    2.022</td> <td> 0.043</td> <td> 3.45e-06     0.000</td>\n",
        "</tr>\n",
        "</table>"
       ],
       "metadata": {},
       "output_type": "pyout",
       "prompt_number": 158,
       "text": [
        "<class 'statsmodels.iolib.summary.Summary'>\n",
        "\"\"\"\n",
        "                           Logit Regression Results                           \n",
        "==============================================================================\n",
        "Dep. Variable:                SER_INJ   No. Observations:                 1022\n",
        "Model:                          Logit   Df Residuals:                     1013\n",
        "Method:                           MLE   Df Model:                            8\n",
        "Date:                Wed, 30 Apr 2014   Pseudo R-squ.:                 0.05539\n",
        "Time:                        03:51:29   Log-Likelihood:                -496.65\n",
        "converged:                       True   LL-Null:                       -525.77\n",
        "                                        LLR p-value:                 1.031e-09\n",
        "==================================================================================\n",
        "                     coef    std err          z      P>|z|      [95.0% Conf. Int.]\n",
        "----------------------------------------------------------------------------------\n",
        "C(nodeNum)[0]     -3.6403      1.129     -3.225      0.001        -5.853    -1.428\n",
        "C(nodeNum)[4]     -0.2878      0.764     -0.377      0.706        -1.785     1.209\n",
        "C(nodeNum)[5]     -0.7310      0.338     -2.165      0.030        -1.393    -0.069\n",
        "C(nodeNum)[6]     -0.5685      0.139     -4.088      0.000        -0.841    -0.296\n",
        "C(nodeNum)[9]     -1.2402      0.290     -4.277      0.000        -1.809    -0.672\n",
        "C(nodeNum)[10]     0.6930      1.225      0.566      0.571        -1.707     3.093\n",
        "C(nodeNum)[18]    -1.0988      0.816     -1.346      0.178        -2.699     0.502\n",
        "C(nodeNum)[20]    -1.7745      0.112    -15.905      0.000        -1.993    -1.556\n",
        "NUMOCCS            0.0001   5.55e-05      2.022      0.043      3.45e-06     0.000\n",
        "==================================================================================\n",
        "\"\"\""
       ]
      }
     ],
     "prompt_number": 158
    },
    {
     "cell_type": "markdown",
     "metadata": {},
     "source": [
      "<font size=4 color=\"red\">Statsmodels will estimate the logistic regression, provided that the perfectly predictive nodes and their observations are removed from the dataset.</font>"
     ]
    },
    {
     "cell_type": "code",
     "collapsed": false,
     "input": [
      "#Ranom cell and functions. Use to standardize one's dataframe.\n",
      "def make_col_standard(ser, colMeans, colDevs):\n",
      "    for i in ser.index:\n",
      "        ser[i] = (ser[i] - colMeans[i]) * 1.0 / colDevs[i]\n",
      "    return ser\n",
      "\n",
      "\n",
      "def standardize(df):\n",
      "    columnMeans = df.describe().mean() #Extract a series, i.e. a single array like structure of the means of each column in df\n",
      "    columnMeans.index = df.columns #Set the index to this series to be the columns of df.\n",
      "    \n",
      "    columnDevs = df.describe().std() #Extract a series of the standard deviations of each column in df\n",
      "    columnDevs.index = df.columns #Set the index of this series to be the columns of df\n",
      "    \n",
      "    working_copy = df.copy()\n",
      "    return working_copy.apply(make_col_standard, axis=1, args=(columnMeans, columnDevs))\n",
      "\n",
      "standardizedTrainingDesign = standardize(trainingDesign)"
     ],
     "language": "python",
     "metadata": {},
     "outputs": [],
     "prompt_number": 34
    }
   ],
   "metadata": {}
  }
 ]
}