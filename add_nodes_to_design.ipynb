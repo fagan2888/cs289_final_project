{
 "metadata": {
  "name": "add_nodes_to_design.ipynb"
 },
 "nbformat": 3,
 "nbformat_minor": 0,
 "worksheets": [
  {
   "cells": [
    {
     "cell_type": "code",
     "collapsed": false,
     "input": [
      "import numpy as np, pandas as pd\n",
      "import treepredict, cPickle\n",
      "from copy import deepcopy"
     ],
     "language": "python",
     "metadata": {},
     "outputs": [],
     "prompt_number": 1
    },
    {
     "cell_type": "heading",
     "level": 3,
     "metadata": {},
     "source": [
      "Create the functions to add the node numbers of the leaves to the design matrix"
     ]
    },
    {
     "cell_type": "code",
     "collapsed": false,
     "input": [
      "with open(\"trees/pruned_NaiveTree_trainingSet.pkl\", \"rb\") as f:\n",
      "    pruned_tSet_tree = cPickle.load(f)"
     ],
     "language": "python",
     "metadata": {},
     "outputs": [],
     "prompt_number": 2
    },
    {
     "cell_type": "code",
     "collapsed": false,
     "input": [
      "test_nodes = treepredict.fetchNodes(pruned_tSet_tree)"
     ],
     "language": "python",
     "metadata": {},
     "outputs": [],
     "prompt_number": 3
    },
    {
     "cell_type": "code",
     "collapsed": false,
     "input": [
      "line_sep = \"=\"*10\n",
      "count = 0\n",
      "for i in test_nodes:\n",
      "    print line_sep\n",
      "    print \"Node {}\".format(count)\n",
      "    for j in i:\n",
      "        print j\n",
      "    count += 1\n",
      "    print line_sep"
     ],
     "language": "python",
     "metadata": {},
     "outputs": [
      {
       "output_type": "stream",
       "stream": "stdout",
       "text": [
        "==========\n",
        "Node 0\n",
        "('C(PCRASH1_IM)[T.1]', 1, 'true')\n",
        "('C(ALCHL_IM)[T.2]', 1, 'true')\n",
        "('C(VPROFILE, Treatment(9999))[T.1]', 1, 'true')\n",
        "('NUMOCCS', 4, 'true')\n",
        "{0: 17, 1: 1}\n",
        "==========\n",
        "==========\n",
        "Node 1\n",
        "('C(PCRASH1_IM)[T.1]', 1, 'true')\n",
        "('C(ALCHL_IM)[T.2]', 1, 'true')\n",
        "('C(VPROFILE, Treatment(9999))[T.1]', 1, 'true')\n",
        "('NUMOCCS', 4, 'false')\n",
        "('C(VTCONT_F, Treatment(9999))[T.3]', 1, 'true')\n",
        "('MSAFEQMT1', 1, 'true')\n",
        "('C(DRUGS, Treatment(9999))[T.0]', 1, 'true')\n",
        "('C(LOCATION, Treatment(9999))[T.2]', 1, 'true')\n",
        "('C(MONTH)[T.2]', 1, 'true')\n",
        "{1: 1}\n",
        "==========\n",
        "==========\n",
        "Node 2\n",
        "('C(PCRASH1_IM)[T.1]', 1, 'true')\n",
        "('C(ALCHL_IM)[T.2]', 1, 'true')\n",
        "('C(VPROFILE, Treatment(9999))[T.1]', 1, 'true')\n",
        "('NUMOCCS', 4, 'false')\n",
        "('C(VTCONT_F, Treatment(9999))[T.3]', 1, 'true')\n",
        "('MSAFEQMT1', 1, 'true')\n",
        "('C(DRUGS, Treatment(9999))[T.0]', 1, 'true')\n",
        "('C(LOCATION, Treatment(9999))[T.2]', 1, 'true')\n",
        "('C(MONTH)[T.2]', 1, 'false')\n",
        "{0: 1}\n",
        "==========\n",
        "==========\n",
        "Node 3\n",
        "('C(PCRASH1_IM)[T.1]', 1, 'true')\n",
        "('C(ALCHL_IM)[T.2]', 1, 'true')\n",
        "('C(VPROFILE, Treatment(9999))[T.1]', 1, 'true')\n",
        "('NUMOCCS', 4, 'false')\n",
        "('C(VTCONT_F, Treatment(9999))[T.3]', 1, 'true')\n",
        "('MSAFEQMT1', 1, 'true')\n",
        "('C(DRUGS, Treatment(9999))[T.0]', 1, 'true')\n",
        "('C(LOCATION, Treatment(9999))[T.2]', 1, 'false')\n",
        "{0: 34}\n",
        "==========\n",
        "==========\n",
        "Node 4\n",
        "('C(PCRASH1_IM)[T.1]', 1, 'true')\n",
        "('C(ALCHL_IM)[T.2]', 1, 'true')\n",
        "('C(VPROFILE, Treatment(9999))[T.1]', 1, 'true')\n",
        "('NUMOCCS', 4, 'false')\n",
        "('C(VTCONT_F, Treatment(9999))[T.3]', 1, 'true')\n",
        "('MSAFEQMT1', 1, 'true')\n",
        "('C(DRUGS, Treatment(9999))[T.0]', 1, 'false')\n",
        "{0: 4, 1: 3}\n",
        "==========\n",
        "==========\n",
        "Node 5\n",
        "('C(PCRASH1_IM)[T.1]', 1, 'true')\n",
        "('C(ALCHL_IM)[T.2]', 1, 'true')\n",
        "('C(VPROFILE, Treatment(9999))[T.1]', 1, 'true')\n",
        "('NUMOCCS', 4, 'false')\n",
        "('C(VTCONT_F, Treatment(9999))[T.3]', 1, 'true')\n",
        "('MSAFEQMT1', 1, 'false')\n",
        "{0: 27, 1: 13}\n",
        "==========\n",
        "==========\n",
        "Node 6\n",
        "('C(PCRASH1_IM)[T.1]', 1, 'true')\n",
        "('C(ALCHL_IM)[T.2]', 1, 'true')\n",
        "('C(VPROFILE, Treatment(9999))[T.1]', 1, 'true')\n",
        "('NUMOCCS', 4, 'false')\n",
        "('C(VTCONT_F, Treatment(9999))[T.3]', 1, 'false')\n",
        "{0: 143, 1: 81}\n",
        "==========\n",
        "==========\n",
        "Node 7\n",
        "('C(PCRASH1_IM)[T.1]', 1, 'true')\n",
        "('C(ALCHL_IM)[T.2]', 1, 'true')\n",
        "('C(VPROFILE, Treatment(9999))[T.1]', 1, 'false')\n",
        "('C(IMPACT2_vehDup, Treatment(9999))[T.4]', 1, 'true')\n",
        "{1: 2}\n",
        "==========\n",
        "==========\n",
        "Node 8\n",
        "('C(PCRASH1_IM)[T.1]', 1, 'true')\n",
        "('C(ALCHL_IM)[T.2]', 1, 'true')\n",
        "('C(VPROFILE, Treatment(9999))[T.1]', 1, 'false')\n",
        "('C(IMPACT2_vehDup, Treatment(9999))[T.4]', 1, 'false')\n",
        "('DRIVER_AGE', 68, 'true')\n",
        "{0: 18}\n",
        "==========\n",
        "==========\n",
        "Node 9\n",
        "('C(PCRASH1_IM)[T.1]', 1, 'true')\n",
        "('C(ALCHL_IM)[T.2]', 1, 'true')\n",
        "('C(VPROFILE, Treatment(9999))[T.1]', 1, 'false')\n",
        "('C(IMPACT2_vehDup, Treatment(9999))[T.4]', 1, 'false')\n",
        "('DRIVER_AGE', 68, 'false')\n",
        "('C(IMPACT1_IM)[T.12]', 1, 'true')\n",
        "{0: 52, 1: 16}\n",
        "==========\n",
        "==========\n",
        "Node 10\n",
        "('C(PCRASH1_IM)[T.1]', 1, 'true')\n",
        "('C(ALCHL_IM)[T.2]', 1, 'true')\n",
        "('C(VPROFILE, Treatment(9999))[T.1]', 1, 'false')\n",
        "('C(IMPACT2_vehDup, Treatment(9999))[T.4]', 1, 'false')\n",
        "('DRIVER_AGE', 68, 'false')\n",
        "('C(IMPACT1_IM)[T.12]', 1, 'false')\n",
        "('C(TYP_INT, Treatment(9999))[T.1]', 1, 'true')\n",
        "('C(WKDY_IM)[T.7]', 1, 'true')\n",
        "{0: 1, 1: 2}\n",
        "==========\n",
        "==========\n",
        "Node 11\n",
        "('C(PCRASH1_IM)[T.1]', 1, 'true')\n",
        "('C(ALCHL_IM)[T.2]', 1, 'true')\n",
        "('C(VPROFILE, Treatment(9999))[T.1]', 1, 'false')\n",
        "('C(IMPACT2_vehDup, Treatment(9999))[T.4]', 1, 'false')\n",
        "('DRIVER_AGE', 68, 'false')\n",
        "('C(IMPACT1_IM)[T.12]', 1, 'false')\n",
        "('C(TYP_INT, Treatment(9999))[T.1]', 1, 'true')\n",
        "('C(WKDY_IM)[T.7]', 1, 'false')\n",
        "('AGE_IM', 30, 'true')\n",
        "('AGE_IM', 49, 'true')\n",
        "{0: 3}\n",
        "==========\n",
        "==========\n",
        "Node 12\n",
        "('C(PCRASH1_IM)[T.1]', 1, 'true')\n",
        "('C(ALCHL_IM)[T.2]', 1, 'true')\n",
        "('C(VPROFILE, Treatment(9999))[T.1]', 1, 'false')\n",
        "('C(IMPACT2_vehDup, Treatment(9999))[T.4]', 1, 'false')\n",
        "('DRIVER_AGE', 68, 'false')\n",
        "('C(IMPACT1_IM)[T.12]', 1, 'false')\n",
        "('C(TYP_INT, Treatment(9999))[T.1]', 1, 'true')\n",
        "('C(WKDY_IM)[T.7]', 1, 'false')\n",
        "('AGE_IM', 30, 'true')\n",
        "('AGE_IM', 49, 'false')\n",
        "{1: 2}\n",
        "==========\n",
        "==========\n",
        "Node 13\n",
        "('C(PCRASH1_IM)[T.1]', 1, 'true')\n",
        "('C(ALCHL_IM)[T.2]', 1, 'true')\n",
        "('C(VPROFILE, Treatment(9999))[T.1]', 1, 'false')\n",
        "('C(IMPACT2_vehDup, Treatment(9999))[T.4]', 1, 'false')\n",
        "('DRIVER_AGE', 68, 'false')\n",
        "('C(IMPACT1_IM)[T.12]', 1, 'false')\n",
        "('C(TYP_INT, Treatment(9999))[T.1]', 1, 'true')\n",
        "('C(WKDY_IM)[T.7]', 1, 'false')\n",
        "('AGE_IM', 30, 'false')\n",
        "{0: 16}\n",
        "==========\n",
        "==========\n",
        "Node 14\n",
        "('C(PCRASH1_IM)[T.1]', 1, 'true')\n",
        "('C(ALCHL_IM)[T.2]', 1, 'true')\n",
        "('C(VPROFILE, Treatment(9999))[T.1]', 1, 'false')\n",
        "('C(IMPACT2_vehDup, Treatment(9999))[T.4]', 1, 'false')\n",
        "('DRIVER_AGE', 68, 'false')\n",
        "('C(IMPACT1_IM)[T.12]', 1, 'false')\n",
        "('C(TYP_INT, Treatment(9999))[T.1]', 1, 'false')\n",
        "{0: 24}\n",
        "==========\n",
        "==========\n",
        "Node 15\n",
        "('C(PCRASH1_IM)[T.1]', 1, 'true')\n",
        "('C(ALCHL_IM)[T.2]', 1, 'false')\n",
        "('AGE_IM', 51, 'true')\n",
        "{1: 7}\n",
        "==========\n",
        "==========\n",
        "Node 16\n",
        "('C(PCRASH1_IM)[T.1]', 1, 'true')\n",
        "('C(ALCHL_IM)[T.2]', 1, 'false')\n",
        "('AGE_IM', 51, 'false')\n",
        "('C(LGTCON_IM)[T.2]', 1, 'true')\n",
        "{1: 4}\n",
        "==========\n",
        "==========\n",
        "Node 17\n",
        "('C(PCRASH1_IM)[T.1]', 1, 'true')\n",
        "('C(ALCHL_IM)[T.2]', 1, 'false')\n",
        "('AGE_IM', 51, 'false')\n",
        "('C(LGTCON_IM)[T.2]', 1, 'false')\n",
        "('C(SPEEDREL, Treatment(9999))[T.0]', 1, 'true')\n",
        "('C(LGTCON_IM)[T.3]', 1, 'true')\n",
        "{1: 4}\n",
        "==========\n",
        "==========\n",
        "Node 18\n",
        "('C(PCRASH1_IM)[T.1]', 1, 'true')\n",
        "('C(ALCHL_IM)[T.2]', 1, 'false')\n",
        "('AGE_IM', 51, 'false')\n",
        "('C(LGTCON_IM)[T.2]', 1, 'false')\n",
        "('C(SPEEDREL, Treatment(9999))[T.0]', 1, 'true')\n",
        "('C(LGTCON_IM)[T.3]', 1, 'false')\n",
        "{0: 6, 1: 2}\n",
        "==========\n",
        "==========\n",
        "Node 19\n",
        "('C(PCRASH1_IM)[T.1]', 1, 'true')\n",
        "('C(ALCHL_IM)[T.2]', 1, 'false')\n",
        "('AGE_IM', 51, 'false')\n",
        "('C(LGTCON_IM)[T.2]', 1, 'false')\n",
        "('C(SPEEDREL, Treatment(9999))[T.0]', 1, 'false')\n",
        "{0: 4}\n",
        "==========\n",
        "==========\n",
        "Node 20\n",
        "('C(PCRASH1_IM)[T.1]', 1, 'false')\n",
        "{0: 557, 1: 97}\n",
        "==========\n"
       ]
      }
     ],
     "prompt_number": 4
    },
    {
     "cell_type": "code",
     "collapsed": false,
     "input": [
      "design4tree = pd.read_pickle(\"dataframes/design_DF_4Tree.pkl\")"
     ],
     "language": "python",
     "metadata": {},
     "outputs": [],
     "prompt_number": 5
    },
    {
     "cell_type": "code",
     "collapsed": false,
     "input": [
      "t2 = design4tree.iloc[2] #test observation based on the observation at row 2"
     ],
     "language": "python",
     "metadata": {},
     "outputs": [],
     "prompt_number": 6
    },
    {
     "cell_type": "code",
     "collapsed": false,
     "input": [
      "design4tree[\"nodeNum\"] = np.nan"
     ],
     "language": "python",
     "metadata": {},
     "outputs": [],
     "prompt_number": 7
    },
    {
     "cell_type": "code",
     "collapsed": false,
     "input": [
      "#added this function to treepredict\n",
      "def set_node_num(obs, nodeCol, nodes):\n",
      "    \"\"\"obs = a particular row from a dataframe that needs to have its column of node numbers filled\n",
      "    nodeCol = the column name that will contain the node number of the node that the observation belongs to\n",
      "    nodes = the list of nodes for the tree, created from fetchNodes()\n",
      "    ==========\n",
      "    Returns the observation with its nodeCol filled in\"\"\"\n",
      "    \n",
      "    for num, node in enumerate(nodes): #Iterated through nodes keeping track of both the item and its position in the list\n",
      "        setNum = True #initialize a variable to determine whether this leaf node is the correct leaf node for this observation.\n",
      "        conditions = node[:-1] #remove the dictionary of results from the list of conditions that characterize the leaf node\n",
      "        for cond in conditions: #Iterate through each condition, checking if this observation meets the branch node's condition\n",
      "            obs_val = obs[cond[0]] #Isolate this observations value on the column in this particular branch node's condition\n",
      "            if isinstance(obs_val, int) or isinstance(obs_val, float): #Check if the observation value is a number\n",
      "                if cond[-1] == 'true': #Check whether this leaf node meets this branching criteria, if so\n",
      "                    if obs_val < cond[1]: #Check if the observation fails to meet the criteria\n",
      "                        setNum = False #If so, this leaf node cannot be correct node\n",
      "                        break #Stop checking this leaf node's criteria\n",
      "                elif cond[-1] == 'false': #Check whether this leaf node fails to meet this branching critera\n",
      "                    if obs_val >= cond[1]: #Check if the observation *DOES* meet the criteria\n",
      "                        setNum = False #If so, this leaf node cannot be correct node\n",
      "                        break #Stop checking this leaf node's criteria\n",
      "            else: #Repeat the checking algorithm above, this time using the test for categorical variables\n",
      "                if cond[-1] == 'true':\n",
      "                    if obs_val != cond[1]: #Use the false branching criteria for categorical variables\n",
      "                        setNum = False\n",
      "                        break\n",
      "                elif cond[-1] == 'false':\n",
      "                    if obs_val == cond[1]: #use the true branching criteria for categorical variables\n",
      "                        setNum = False\n",
      "                        break\n",
      "        if setNum: #If this leaf node is actually the correct node for this observation\n",
      "            obs[\"nodeNum\"] = num #Assign the node number, ie the place in the node list, to this observation.\n",
      "            break\n",
      "    return obs"
     ],
     "language": "python",
     "metadata": {},
     "outputs": [],
     "prompt_number": 7
    },
    {
     "cell_type": "code",
     "collapsed": false,
     "input": [
      "reload(treepredict)"
     ],
     "language": "python",
     "metadata": {},
     "outputs": [
      {
       "metadata": {},
       "output_type": "pyout",
       "prompt_number": 9,
       "text": [
        "<module 'treepredict' from 'treepredict.pyc'>"
       ]
      }
     ],
     "prompt_number": 9
    },
    {
     "cell_type": "code",
     "collapsed": false,
     "input": [
      "treepredict.set_node_num(t2, \"nodeNum\", test_nodes)[\"nodeNum\"]"
     ],
     "language": "python",
     "metadata": {},
     "outputs": [
      {
       "metadata": {},
       "output_type": "pyout",
       "prompt_number": 8,
       "text": [
        "3"
       ]
      }
     ],
     "prompt_number": 8
    },
    {
     "cell_type": "markdown",
     "metadata": {},
     "source": [
      "<p>The set of conditions for leaf node # 3:<br>\n",
      "('C(PCRASH1_IM)[T.1]', 1, 'true')<br>\n",
      "('C(ALCHL_IM)[T.2]', 1, 'true')<br>\n",
      "('C(VPROFILE, Treatment(9999))[T.1]', 1, 'true')<br>\n",
      "('NUMOCCS', 4, 'false')<br>\n",
      "('C(VTCONT_F, Treatment(9999))[T.3]', 1, 'true')<br>\n",
      "('MSAFEQMT1', 1, 'true')<br>\n",
      "('C(DRUGS, Treatment(9999))[T.0]', 1, 'true')<br>\n",
      "('C(LOCATION, Treatment(9999))[T.2]', 1, 'false')<br></p>"
     ]
    },
    {
     "cell_type": "code",
     "collapsed": false,
     "input": [
      "#Here is the observation passed into set_node_num() as t2, showing only the relevant columns for the conditions that denote leaf 3\n",
      "design4tree.iloc[2][['C(PCRASH1_IM)[T.1]', 'C(ALCHL_IM)[T.2]', 'C(VPROFILE, Treatment(9999))[T.1]',\n",
      "    'NUMOCCS', 'C(VTCONT_F, Treatment(9999))[T.3]', 'MSAFEQMT1', 'C(DRUGS, Treatment(9999))[T.0]',\n",
      "    'C(LOCATION, Treatment(9999))[T.2]', \"nodeNum\"]]\n",
      "#All of the conditions above are met. The function works."
     ],
     "language": "python",
     "metadata": {},
     "outputs": [
      {
       "metadata": {},
       "output_type": "pyout",
       "prompt_number": 11,
       "text": [
        "C(PCRASH1_IM)[T.1]                    1\n",
        "C(ALCHL_IM)[T.2]                      1\n",
        "C(VPROFILE, Treatment(9999))[T.1]     1\n",
        "NUMOCCS                               2\n",
        "C(VTCONT_F, Treatment(9999))[T.3]     1\n",
        "MSAFEQMT1                             1\n",
        "C(DRUGS, Treatment(9999))[T.0]        1\n",
        "C(LOCATION, Treatment(9999))[T.2]     0\n",
        "nodeNum                             NaN\n",
        "Name: 2, dtype: float64"
       ]
      }
     ],
     "prompt_number": 11
    },
    {
     "cell_type": "code",
     "collapsed": false,
     "input": [
      "design4tree = design4tree.apply(treepredict.set_node_num, axis = 1, args=(\"nodeNum\", test_nodes))"
     ],
     "language": "python",
     "metadata": {},
     "outputs": [],
     "prompt_number": 12
    },
    {
     "cell_type": "code",
     "collapsed": false,
     "input": [
      "#Check if any of the observations failed to fit into a leaf.\n",
      "design4tree[['C(PCRASH1_IM)[T.1]', 'C(ALCHL_IM)[T.2]', 'C(VPROFILE, Treatment(9999))[T.1]',\n",
      "    'NUMOCCS', 'C(VTCONT_F, Treatment(9999))[T.3]', 'MSAFEQMT1', 'C(DRUGS, Treatment(9999))[T.0]',\n",
      "    'C(LOCATION, Treatment(9999))[T.2]', \"nodeNum\"]].info()\n",
      "#All observations were identified as belonging to a leaf"
     ],
     "language": "python",
     "metadata": {},
     "outputs": [
      {
       "output_type": "stream",
       "stream": "stdout",
       "text": [
        "<class 'pandas.core.frame.DataFrame'>\n",
        "Int64Index: 1427 entries, 0 to 1426\n",
        "Data columns (total 9 columns):\n",
        "C(PCRASH1_IM)[T.1]                   1427 non-null float64\n",
        "C(ALCHL_IM)[T.2]                     1427 non-null float64\n",
        "C(VPROFILE, Treatment(9999))[T.1]    1427 non-null float64\n",
        "NUMOCCS                              1427 non-null float64\n",
        "C(VTCONT_F, Treatment(9999))[T.3]    1427 non-null float64\n",
        "MSAFEQMT1                            1427 non-null float64\n",
        "C(DRUGS, Treatment(9999))[T.0]       1427 non-null float64\n",
        "C(LOCATION, Treatment(9999))[T.2]    1427 non-null float64\n",
        "nodeNum                              1427 non-null float64\n",
        "dtypes: float64(9)"
       ]
      }
     ],
     "prompt_number": 13
    },
    {
     "cell_type": "heading",
     "level": 3,
     "metadata": {},
     "source": [
      "Augment the 2011 dataframes with the leaf node numbers."
     ]
    },
    {
     "cell_type": "code",
     "collapsed": false,
     "input": [
      "#Augment the training set and validation set dataframes with the node numbers for the leaves each observation falls in\n",
      "trainingDesign = pd.read_pickle(\"dataframes/trainingSet_DF_naiveTree.pkl\").apply(treepredict.set_node_num,\n",
      "                                                                             axis = 1, args=(\"nodeNum\", test_nodes))\n",
      "\n",
      "validationDesign = pd.read_pickle(\"dataframes/validationSet_DF_naiveTree.pkl\").apply(treepredict.set_node_num,\n",
      "                                                                             axis = 1, args=(\"nodeNum\", test_nodes))\n"
     ],
     "language": "python",
     "metadata": {},
     "outputs": [],
     "prompt_number": 14
    },
    {
     "cell_type": "code",
     "collapsed": false,
     "input": [
      "#Save the leaf augmented dataframes\n",
      "design4tree.to_pickle(\"dataframes/leaf_augmented/design_DF_4Tree.pkl\")\n",
      "trainingDesign.to_pickle(\"dataframes/leaf_augmented/trainingSet_DF_naiveTree.pkl\")\n",
      "validationDesign.to_pickle(\"dataframes/leaf_augmented/validationSet_DF_naiveTree.pkl\")"
     ],
     "language": "python",
     "metadata": {},
     "outputs": [],
     "prompt_number": 15
    },
    {
     "cell_type": "code",
     "collapsed": false,
     "input": [],
     "language": "python",
     "metadata": {},
     "outputs": [],
     "prompt_number": 15
    }
   ],
   "metadata": {}
  }
 ]
}